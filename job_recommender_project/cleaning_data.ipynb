{
 "cells": [
  {
   "cell_type": "markdown",
   "metadata": {},
   "source": [
    "## Cleaning Resume and Job Posts Data for use by Job Recommender System "
   ]
  },
  {
   "cell_type": "markdown",
   "metadata": {},
   "source": [
    "### Datasets\n",
    "* https://www.kaggle.com/maitrip/resumes; 1219 resumes; ID, category, text description\n",
    "* https://www.kaggle.com/samdeeplearning/deepnlp; 125 resumes; may drop this one\n",
    "* https://www.kaggle.com/madhab/jobposts/data; 19,000 job posts from 2004-2015.\n",
    "\n",
    "\n"
   ]
  },
  {
   "cell_type": "markdown",
   "metadata": {},
   "source": [
    "Imports"
   ]
  },
  {
   "cell_type": "code",
   "execution_count": 1,
   "metadata": {},
   "outputs": [],
   "source": [
    "import pandas as pd\n",
    "import numpy as np\n",
    "import seaborn as sns\n",
    "import matplotlib.pyplot as plt\n",
    "import re\n",
    "import nltk\n",
    "import spacy\n",
    "import string"
   ]
  },
  {
   "cell_type": "markdown",
   "metadata": {},
   "source": [
    "First, start with resume dataset"
   ]
  },
  {
   "cell_type": "code",
   "execution_count": 2,
   "metadata": {},
   "outputs": [],
   "source": [
    "#resume_path = '/Users/richardkuzma/coding/NLP_projects/job_recommender_project/data/resume_dataset_maitrip.csv'\n",
    "# that's my home path\n",
    "\n",
    "resume_path = '/home/ec2-user/NLP_projects/job_recommender_project/data/resume_dataset_maitrip.csv'"
   ]
  },
  {
   "cell_type": "code",
   "execution_count": 3,
   "metadata": {},
   "outputs": [
    {
     "data": {
      "text/html": [
       "<div>\n",
       "<style scoped>\n",
       "    .dataframe tbody tr th:only-of-type {\n",
       "        vertical-align: middle;\n",
       "    }\n",
       "\n",
       "    .dataframe tbody tr th {\n",
       "        vertical-align: top;\n",
       "    }\n",
       "\n",
       "    .dataframe thead th {\n",
       "        text-align: right;\n",
       "    }\n",
       "</style>\n",
       "<table border=\"1\" class=\"dataframe\">\n",
       "  <thead>\n",
       "    <tr style=\"text-align: right;\">\n",
       "      <th></th>\n",
       "      <th>ID</th>\n",
       "      <th>Category</th>\n",
       "      <th>Resume</th>\n",
       "    </tr>\n",
       "  </thead>\n",
       "  <tbody>\n",
       "    <tr>\n",
       "      <th>0</th>\n",
       "      <td>1</td>\n",
       "      <td>HR</td>\n",
       "      <td>b'John H. Smith, P.H.R.\\n800-991-5187 | PO Box...</td>\n",
       "    </tr>\n",
       "    <tr>\n",
       "      <th>1</th>\n",
       "      <td>2</td>\n",
       "      <td>HR</td>\n",
       "      <td>b'Name Surname\\nAddress\\nMobile No/Email\\nPERS...</td>\n",
       "    </tr>\n",
       "    <tr>\n",
       "      <th>2</th>\n",
       "      <td>3</td>\n",
       "      <td>HR</td>\n",
       "      <td>b'Anthony Brown\\nHR Assistant\\nAREAS OF EXPERT...</td>\n",
       "    </tr>\n",
       "    <tr>\n",
       "      <th>3</th>\n",
       "      <td>4</td>\n",
       "      <td>HR</td>\n",
       "      <td>b'www.downloadmela.com\\nSatheesh\\nEMAIL ID:\\nC...</td>\n",
       "    </tr>\n",
       "    <tr>\n",
       "      <th>4</th>\n",
       "      <td>5</td>\n",
       "      <td>HR</td>\n",
       "      <td>b\"HUMAN RESOURCES DIRECTOR\\n\\xef\\x82\\xb7Expert...</td>\n",
       "    </tr>\n",
       "  </tbody>\n",
       "</table>\n",
       "</div>"
      ],
      "text/plain": [
       "   ID Category                                             Resume\n",
       "0   1       HR  b'John H. Smith, P.H.R.\\n800-991-5187 | PO Box...\n",
       "1   2       HR  b'Name Surname\\nAddress\\nMobile No/Email\\nPERS...\n",
       "2   3       HR  b'Anthony Brown\\nHR Assistant\\nAREAS OF EXPERT...\n",
       "3   4       HR  b'www.downloadmela.com\\nSatheesh\\nEMAIL ID:\\nC...\n",
       "4   5       HR  b\"HUMAN RESOURCES DIRECTOR\\n\\xef\\x82\\xb7Expert..."
      ]
     },
     "execution_count": 3,
     "metadata": {},
     "output_type": "execute_result"
    }
   ],
   "source": [
    "df = pd.read_csv(resume_path)\n",
    "df.head()"
   ]
  },
  {
   "cell_type": "code",
   "execution_count": 4,
   "metadata": {},
   "outputs": [
    {
     "data": {
      "text/plain": [
       "\"b'John H. Smith, P.H.R.\\\\n800-991-5187 | PO Box 1673 | Callahan, FL 32011 | info@greatresumesfast.com\\\\n\\\\nApproachable innovator with a passion for Human Resources.\\\\n\\\\nSENIOR HUMAN RESOURCES PROFESSIONAL\\\\nPersonable, analytical, flexible Senior HR Professional with multifaceted expertise. Seasoned Benefits Administrator with\\\\nextensive experience working with highly paid professionals in client-relationship-based settings. Dynamic team leader\\\\ncapable of analyzing alternatives and identifying tough choices while communicating the total value of benefit and\\\\ncompensation packages to senior level executives and employees.\\\\n\\\\nCORE COMPETENCIES\\\\nBenefits Administration \\\\xe2\\\\x80\\\\x93 Customer Service \\\\xe2\\\\x80\\\\x93 Cost Control \\\\xe2\\\\x80\\\\x93 Recruiting \\\\xe2\\\\x80\\\\x93 Acquisition Management \\\\xe2\\\\x80\\\\x93 Compliance Reporting\\\\nRetention \\\\xe2\\\\x80\\\\x93 Professional Services \\\\xe2\\\\x80\\\\x93 Domestic & International Benefits \\\\xe2\\\\x80\\\\x93 Collaboration \\\\xe2\\\\x80\\\\x93 Adaptability \\\\xe2\\\\x80\\\\x93 Change Management\\\\nDefined Contribution Plans \\\\xe2\\\\x80\\\\x93 Auditing \\\\xe2\\\\x80\\\\x93 Negotiation \\\\xe2\\\\x80\\\\x93 Corporate HR Policies \\\\xe2\\\\x80\\\\x93 Full Lifecycle Training \\\\xe2\\\\x80\\\\x93 401(k) \\\\xe2\\\\x80\\\\x93 Form 5500\\\\nConfidential Files \\\\xe2\\\\x80\\\\x93 EEO-1 \\\\xe2\\\\x80\\\\x93 AAP \\\\xe2\\\\x80\\\\x93 FMLA \\\\xe2\\\\x80\\\\x93 STD \\\\xe2\\\\x80\\\\x93 LTD \\\\xe2\\\\x80\\\\x93 H1-B Visa \\\\xe2\\\\x80\\\\x93 Vets 100 \\\\xe2\\\\x80\\\\x93 EAP \\\\xe2\\\\x80\\\\x93 Processing Payroll\\\\n\\\\nHR TECHNOLOGY\\\\n\\\\nHRIS Data Management & Auditing \\\\xe2\\\\x80\\\\x93 Ultipro Back Office \\\\xe2\\\\x80\\\\x93 Ultipro Web Connect\\\\nDeltek Costpoint \\\\xe2\\\\x80\\\\x93 Deltek GCS Premiere \\\\xe2\\\\x80\\\\x93 Cognos \\\\xe2\\\\x80\\\\x93 ADP\\\\n\\\\nProfessional Experience\\\\nHUMAN SERVICES, INC. \\\\xe2\\\\x80\\\\x93 Tampa, FL\\\\n\\\\n2010\\\\xe2\\\\x80\\\\x93Present\\\\n\\\\nProviding institutional behavioral health and medical management contracting services | 2,500 employees\\\\n\\\\nBenefits Manager\\\\nManage and administer a robust $13M health and welfare program; administer benefits programs for two smaller\\\\nminority business enterprise clients. Deliver excellence in client services, leveraging interpersonal skills to establish\\\\nrapport with team members. Perform cost analysis, gather claims data, coordinate enrollment and more for a large selffunded medical plan plus two smaller fully-insured plans. Analyze data and projections to create forecasts in narrative\\\\nand graph format; clearly and succinctly communicate trends to senior management in meetings. Directly supervise\\\\nstaff of 3: HR Admin, plus two Human Resource specialists.\\\\n\\\\xef\\\\x81\\\\xb3 Lead Healthcare Reform change management process, analyzing changes, developing strategic plans, and\\\\n\\\\ntimeline for crucial decisions ahead of 2014 deadlines. Communicate early changes in dependent coverage,\\\\npreventive care, and lifetime maximum benefits to employees.\\\\n\\\\n\\\\xef\\\\x81\\\\xb3 Identified, researched, and implemented HSA (Healthcare Savings Account) health insurance option for high-\\\\n\\\\ndeductible health insurance plan to provide tax-sheltered benefits for physicians and other high-income, highprofile professionals.\\\\n\\\\n\\\\xef\\\\x81\\\\xb3 Saved $30K annually by restructuring the open enrollment strategy, leveraging existing human capital and HR\\\\n\\\\nbusiness partners to achieve better communication at lower cost.\\\\n\\\\n\\\\xef\\\\x81\\\\xb3 Quickly establish rapport with employees; balance client-relationship needs with organizational goals, cost\\\\n\\\\ncontrols, and compliance requirements to create a positive work environment.\\\\n\\\\n\\\\xef\\\\x81\\\\xb3 Maximize employee recruiting and retention by implementing competitive benefits packages and clearly\\\\n\\\\ncommunicating their value to team members.\\\\n\\\\n\\\\xef\\\\x81\\\\xb3 Reduced costs $20K per year by collaborating closely with legal department to create an in-house total comp\\\\n\\\\nstatement including implications for taxes and social security; produced a better-quality analysis at lower costs.\\\\n\\\\n\\\\x0cJohn H. Smith, P.H.R. \\\\xe2\\\\x80\\\\x93 PAGE 2\\\\n\\\\n800-991-5187|info@greatresumesfast.com\\\\n\\\\nApproachable innovator with a passion for Human Resources.\\\\nHUMAN MANAGEMENT INC. \\\\xe2\\\\x80\\\\x93 Atlanta, GA\\\\n\\\\n2008\\\\xe2\\\\x80\\\\x932010\\\\n\\\\nNonprofit government consulting firm | 1,200 domestic and international employees\\\\n\\\\nSenior Human Resources Generalist\\\\nPerformed diverse Human Resources functions: administered benefits, led special projects, updated policies,\\\\ncollaborated on EEO-1, Vets 100, and Affirmative Action Plan (AAP) reporting. Revamped orientation and training\\\\nprograms for newly hired employees to include comprehensive information delivered in more-personal formats:\\\\nteleconferences, small group meetings, tours, and one-on-one conversations, with follow-up phone calls. Supervised HR\\\\nAssistant and up to 3 temporary Human Resource specialists handling high volume of work during peak periods such as\\\\nopen enrollment and company merger.\\\\n\\\\xef\\\\x81\\\\xb3 Led change management process that seamlessly integrated benefits, compensation, retirement plans, and\\\\n\\\\nlogistics for newly acquired company with 60+ employees; prepared all-encompassing reports on total\\\\ncompensation plans.\\\\n\\\\n\\\\xef\\\\x81\\\\xb3 Developed webinars and personal meetings to communicate value of benefits to employees despite reductions\\\\n\\\\nduring an economic recession; maintained employee retention and job satisfaction rankings despite cutbacks.\\\\n\\\\n\\\\xef\\\\x81\\\\xb3 Reduced overall benefit costs 10% including a decrease in STD benefits from 100% to 75% of base\\\\n\\\\ncompensation without significant increase in employee turnover.\\\\n\\\\n\\\\xef\\\\x81\\\\xb3 Researched and procured benefits for government contractors traveling to hazardous areas including Kidnap &\\\\n\\\\nRansom (K&R), increased life insurance, and travel insurance.\\\\n\\\\n\\\\xef\\\\x81\\\\xb3 Identified and implemented medical and dental benefit plans to ensure comparable compensation for\\\\n\\\\ninternational employees worldwide.\\\\n\\\\n\\\\xef\\\\x81\\\\xb3 Managed diverse retirement plans including defined contribution 403(b), 401(a), and executive 457(b) plans.\\\\n\\\\nABC CORPORATION \\\\xe2\\\\x80\\\\x93 New York, NY\\\\n\\\\n2007\\\\xe2\\\\x80\\\\x932008\\\\n\\\\nEngineering and Construction consulting | 500 international and domestic employees\\\\nSenior Human Resources Generalist\\\\nACME, INC. \\\\xe2\\\\x80\\\\x93 Washington, D.C.\\\\n\\\\n2004\\\\xe2\\\\x80\\\\x932006\\\\n\\\\nProfessional services consulting firm | 300 employees\\\\nHR Generalist / Benefits Specialist\\\\n\\\\nHUMAN RESOURCE CORPORATION \\\\xe2\\\\x80\\\\x93 Tampa, FL\\\\nIT & environmental management consulting firm | 300 employees\\\\nHuman Resources Assistant\\\\n\\\\nEducation, Certification, & Affiliation\\\\nBachelor of Science in Psychology, 2002\\\\nCOMMUNITY COLLEGE\\\\nProfessional in Human Resources (PHR) Certificate, 2010\\\\nEmployee Benefit Specialist (CEBS), Certification Pending\\\\nMember SHRM \\\\xe2\\\\x80\\\\x93 Society for Human Resource Management\\\\n\\\\n2002\\\\xe2\\\\x80\\\\x932004'\""
      ]
     },
     "execution_count": 4,
     "metadata": {},
     "output_type": "execute_result"
    }
   ],
   "source": [
    "#what does one resume look like\n",
    "df.Resume[0]"
   ]
  },
  {
   "cell_type": "markdown",
   "metadata": {},
   "source": [
    "<br>\n",
    "<br>\n",
    "<br>\n",
    "<br>\n",
    "<br>\n",
    "<br>\n",
    "<br>\n",
    "<br>\n",
    "<br>\n",
    "<br>\n",
    "<br>\n",
    "<br>\n",
    "\n",
    "## Text Preprocessing"
   ]
  },
  {
   "cell_type": "markdown",
   "metadata": {},
   "source": [
    "https://www.kaggle.com/sudalairajkumar/getting-started-with-text-preprocessing"
   ]
  },
  {
   "cell_type": "code",
   "execution_count": 5,
   "metadata": {},
   "outputs": [
    {
     "data": {
      "text/html": [
       "<div>\n",
       "<style scoped>\n",
       "    .dataframe tbody tr th:only-of-type {\n",
       "        vertical-align: middle;\n",
       "    }\n",
       "\n",
       "    .dataframe tbody tr th {\n",
       "        vertical-align: top;\n",
       "    }\n",
       "\n",
       "    .dataframe thead th {\n",
       "        text-align: right;\n",
       "    }\n",
       "</style>\n",
       "<table border=\"1\" class=\"dataframe\">\n",
       "  <thead>\n",
       "    <tr style=\"text-align: right;\">\n",
       "      <th></th>\n",
       "      <th>ID</th>\n",
       "      <th>Category</th>\n",
       "      <th>resume</th>\n",
       "    </tr>\n",
       "  </thead>\n",
       "  <tbody>\n",
       "    <tr>\n",
       "      <th>0</th>\n",
       "      <td>1</td>\n",
       "      <td>HR</td>\n",
       "      <td>b'John H. Smith, P.H.R.\\n800-991-5187 | PO Box...</td>\n",
       "    </tr>\n",
       "    <tr>\n",
       "      <th>1</th>\n",
       "      <td>2</td>\n",
       "      <td>HR</td>\n",
       "      <td>b'Name Surname\\nAddress\\nMobile No/Email\\nPERS...</td>\n",
       "    </tr>\n",
       "    <tr>\n",
       "      <th>2</th>\n",
       "      <td>3</td>\n",
       "      <td>HR</td>\n",
       "      <td>b'Anthony Brown\\nHR Assistant\\nAREAS OF EXPERT...</td>\n",
       "    </tr>\n",
       "    <tr>\n",
       "      <th>3</th>\n",
       "      <td>4</td>\n",
       "      <td>HR</td>\n",
       "      <td>b'www.downloadmela.com\\nSatheesh\\nEMAIL ID:\\nC...</td>\n",
       "    </tr>\n",
       "    <tr>\n",
       "      <th>4</th>\n",
       "      <td>5</td>\n",
       "      <td>HR</td>\n",
       "      <td>b\"HUMAN RESOURCES DIRECTOR\\n\\xef\\x82\\xb7Expert...</td>\n",
       "    </tr>\n",
       "  </tbody>\n",
       "</table>\n",
       "</div>"
      ],
      "text/plain": [
       "   ID Category                                             resume\n",
       "0   1       HR  b'John H. Smith, P.H.R.\\n800-991-5187 | PO Box...\n",
       "1   2       HR  b'Name Surname\\nAddress\\nMobile No/Email\\nPERS...\n",
       "2   3       HR  b'Anthony Brown\\nHR Assistant\\nAREAS OF EXPERT...\n",
       "3   4       HR  b'www.downloadmela.com\\nSatheesh\\nEMAIL ID:\\nC...\n",
       "4   5       HR  b\"HUMAN RESOURCES DIRECTOR\\n\\xef\\x82\\xb7Expert..."
      ]
     },
     "execution_count": 5,
     "metadata": {},
     "output_type": "execute_result"
    }
   ],
   "source": [
    "df[\"resume\"] = df[\"Resume\"]\n",
    "df.drop([\"Resume\"], axis=1, inplace=True)\n",
    "df.head()"
   ]
  },
  {
   "cell_type": "code",
   "execution_count": 6,
   "metadata": {},
   "outputs": [
    {
     "data": {
      "text/html": [
       "<div>\n",
       "<style scoped>\n",
       "    .dataframe tbody tr th:only-of-type {\n",
       "        vertical-align: middle;\n",
       "    }\n",
       "\n",
       "    .dataframe tbody tr th {\n",
       "        vertical-align: top;\n",
       "    }\n",
       "\n",
       "    .dataframe thead th {\n",
       "        text-align: right;\n",
       "    }\n",
       "</style>\n",
       "<table border=\"1\" class=\"dataframe\">\n",
       "  <thead>\n",
       "    <tr style=\"text-align: right;\">\n",
       "      <th></th>\n",
       "      <th>ID</th>\n",
       "      <th>Category</th>\n",
       "      <th>resume</th>\n",
       "    </tr>\n",
       "  </thead>\n",
       "  <tbody>\n",
       "    <tr>\n",
       "      <th>0</th>\n",
       "      <td>1</td>\n",
       "      <td>HR</td>\n",
       "      <td>b'John H. Smith, P.H.R.\\n800-991-5187 | PO Box...</td>\n",
       "    </tr>\n",
       "    <tr>\n",
       "      <th>1</th>\n",
       "      <td>2</td>\n",
       "      <td>HR</td>\n",
       "      <td>b'Name Surname\\nAddress\\nMobile No/Email\\nPERS...</td>\n",
       "    </tr>\n",
       "    <tr>\n",
       "      <th>2</th>\n",
       "      <td>3</td>\n",
       "      <td>HR</td>\n",
       "      <td>b'Anthony Brown\\nHR Assistant\\nAREAS OF EXPERT...</td>\n",
       "    </tr>\n",
       "    <tr>\n",
       "      <th>3</th>\n",
       "      <td>4</td>\n",
       "      <td>HR</td>\n",
       "      <td>b'www.downloadmela.com\\nSatheesh\\nEMAIL ID:\\nC...</td>\n",
       "    </tr>\n",
       "    <tr>\n",
       "      <th>4</th>\n",
       "      <td>5</td>\n",
       "      <td>HR</td>\n",
       "      <td>b\"HUMAN RESOURCES DIRECTOR\\n\\xef\\x82\\xb7Expert...</td>\n",
       "    </tr>\n",
       "  </tbody>\n",
       "</table>\n",
       "</div>"
      ],
      "text/plain": [
       "   ID Category                                             resume\n",
       "0   1       HR  b'John H. Smith, P.H.R.\\n800-991-5187 | PO Box...\n",
       "1   2       HR  b'Name Surname\\nAddress\\nMobile No/Email\\nPERS...\n",
       "2   3       HR  b'Anthony Brown\\nHR Assistant\\nAREAS OF EXPERT...\n",
       "3   4       HR  b'www.downloadmela.com\\nSatheesh\\nEMAIL ID:\\nC...\n",
       "4   5       HR  b\"HUMAN RESOURCES DIRECTOR\\n\\xef\\x82\\xb7Expert..."
      ]
     },
     "execution_count": 6,
     "metadata": {},
     "output_type": "execute_result"
    }
   ],
   "source": [
    "df.head()"
   ]
  },
  {
   "cell_type": "code",
   "execution_count": 7,
   "metadata": {},
   "outputs": [],
   "source": [
    "#remove unicode\n",
    "def unicodetoascii(text):\n",
    "\n",
    "    TEXT = (text.\n",
    "    \t\treplace('\\\\xe2\\\\x80\\\\x99', \"'\").\n",
    "            replace('\\\\xc3\\\\xa9', 'e').\n",
    "            replace('\\\\xe2\\\\x80\\\\x90', '-').\n",
    "            replace('\\\\xe2\\\\x80\\\\x91', '-').\n",
    "            replace('\\\\xe2\\\\x80\\\\x92', '-').\n",
    "            replace('\\\\xe2\\\\x80\\\\x93', '-').\n",
    "            replace('\\\\xe2\\\\x80\\\\x94', '-').\n",
    "            replace('\\\\xe2\\\\x80\\\\x94', '-').\n",
    "            replace('\\\\xe2\\\\x80\\\\x98', \"'\").\n",
    "            replace('\\\\xe2\\\\x80\\\\x9b', \"'\").\n",
    "            replace('\\\\xe2\\\\x80\\\\x9c', '\"').\n",
    "            replace('\\\\xe2\\\\x80\\\\x9c', '\"').\n",
    "            replace('\\\\xe2\\\\x80\\\\x9d', '\"').\n",
    "            replace('\\\\xe2\\\\x80\\\\x9e', '\"').\n",
    "            replace('\\\\xe2\\\\x80\\\\x9f', '\"').\n",
    "            replace('\\\\xe2\\\\x80\\\\xa6', '...').\n",
    "            replace('\\\\xe2\\\\x80\\\\xb2', \"'\").\n",
    "            replace('\\\\xe2\\\\x80\\\\xb3', \"'\").\n",
    "            replace('\\\\xe2\\\\x80\\\\xb4', \"'\").\n",
    "            replace('\\\\xe2\\\\x80\\\\xb5', \"'\").\n",
    "            replace('\\\\xe2\\\\x80\\\\xb6', \"'\").\n",
    "            replace('\\\\xe2\\\\x80\\\\xb7', \"'\").\n",
    "            replace('\\\\xe2\\\\x81\\\\xba', \"+\").\n",
    "            replace('\\\\xe2\\\\x81\\\\xbb', \"-\").\n",
    "            replace('\\\\xe2\\\\x81\\\\xbc', \"=\").\n",
    "            replace('\\\\xe2\\\\x81\\\\xbd', \"(\").\n",
    "            replace('\\\\xe2\\\\x81\\\\xbe', \")\").replace('\\\\xef\\\\x81\\\\xb3', \"\").replace('\\\\n', ' ').replace('xefxxb', ' ')\n",
    "             )\n",
    "    return TEXT"
   ]
  },
  {
   "cell_type": "code",
   "execution_count": 8,
   "metadata": {},
   "outputs": [],
   "source": [
    "#remove punctuation\n",
    "PUNCT_TO_REMOVE = string.punctuation\n",
    "def remove_punctuation(text):\n",
    "    \"\"\"custom function to remove the punctuation\"\"\"\n",
    "    return text.translate(str.maketrans('', '', PUNCT_TO_REMOVE))"
   ]
  },
  {
   "cell_type": "code",
   "execution_count": 9,
   "metadata": {},
   "outputs": [
    {
     "name": "stderr",
     "output_type": "stream",
     "text": [
      "[nltk_data] Downloading package stopwords to\n",
      "[nltk_data]     /home/ec2-user/nltk_data...\n",
      "[nltk_data]   Package stopwords is already up-to-date!\n"
     ]
    }
   ],
   "source": [
    "#remove stopwords\n",
    "nltk.download('stopwords')\n",
    "from nltk.corpus import stopwords\n",
    "STOPWORDS = set(stopwords.words('english'))\n",
    "def remove_stopwords(text):\n",
    "    \"\"\"custom function to remove the stopwords\"\"\"\n",
    "    return \" \".join([word for word in str(text).split() if word not in STOPWORDS])\n"
   ]
  },
  {
   "cell_type": "code",
   "execution_count": 10,
   "metadata": {},
   "outputs": [],
   "source": [
    "#remove URLs\n",
    "def remove_urls(text):\n",
    "    url_pattern = re.compile(r'https?://\\S+|www\\.\\S+')\n",
    "    return url_pattern.sub(r'', text)"
   ]
  },
  {
   "cell_type": "code",
   "execution_count": 11,
   "metadata": {},
   "outputs": [],
   "source": [
    "#remove HTML\n",
    "def remove_html(text):\n",
    "    html_pattern = re.compile('<.*?>')\n",
    "    return html_pattern.sub(r'', text)"
   ]
  },
  {
   "cell_type": "code",
   "execution_count": 12,
   "metadata": {},
   "outputs": [],
   "source": [
    "#remove digits\n",
    "DIGITS_TO_REMOVE = \"0123456789\"\n",
    "def remove_digits(text):\n",
    "    return text.translate(str.maketrans('', '', DIGITS_TO_REMOVE))"
   ]
  },
  {
   "cell_type": "code",
   "execution_count": 13,
   "metadata": {},
   "outputs": [],
   "source": [
    "#remove endlines\n",
    "END_LINES = '\\r\\n'\n",
    "def remove_endlines(text):\n",
    "    \"\"\"custom function to remove \\r\\n for end of line\"\"\"\n",
    "    return text.replace(END_LINES, ' ')"
   ]
  },
  {
   "cell_type": "code",
   "execution_count": 14,
   "metadata": {},
   "outputs": [],
   "source": [
    "#remove hyphens\n",
    "#use this before remove_punctuation, becuase words like 'detail-oriented' get mushed\n",
    "#together by remove_punctuation, which replaces '-' with ''\n",
    "def remove_hyphens(text):\n",
    "    \"\"\"custom function to remove \\r\\n for end of line\"\"\"\n",
    "    return text.replace('-', ' ')"
   ]
  },
  {
   "cell_type": "code",
   "execution_count": null,
   "metadata": {},
   "outputs": [],
   "source": []
  },
  {
   "cell_type": "code",
   "execution_count": null,
   "metadata": {},
   "outputs": [],
   "source": []
  },
  {
   "cell_type": "code",
   "execution_count": 15,
   "metadata": {},
   "outputs": [],
   "source": [
    "df[\"resume\"] = df[\"resume\"].astype(str).str.lower()\n",
    "df['resume'] = df['resume'].apply(remove_urls)\n",
    "df['resume'] = df['resume'].apply(remove_html)\n",
    "df['resume'] = df[\"resume\"].apply(unicodetoascii)\n",
    "df['resume'] = df['resume'].apply(remove_hyphens)\n",
    "df['resume'] = df['resume'].apply(remove_endlines)\n",
    "df['resume'] = df['resume'].apply(remove_punctuation)\n",
    "df['resume'] = df['resume'].apply(remove_stopwords)\n",
    "df['resume'] = df['resume'].apply(remove_digits)\n",
    "df['resume'] = df['resume'].str.slice_replace(0,1, '') #remove the b at the beginning"
   ]
  },
  {
   "cell_type": "code",
   "execution_count": null,
   "metadata": {},
   "outputs": [],
   "source": []
  },
  {
   "cell_type": "code",
   "execution_count": 16,
   "metadata": {},
   "outputs": [
    {
     "data": {
      "text/html": [
       "<div>\n",
       "<style scoped>\n",
       "    .dataframe tbody tr th:only-of-type {\n",
       "        vertical-align: middle;\n",
       "    }\n",
       "\n",
       "    .dataframe tbody tr th {\n",
       "        vertical-align: top;\n",
       "    }\n",
       "\n",
       "    .dataframe thead th {\n",
       "        text-align: right;\n",
       "    }\n",
       "</style>\n",
       "<table border=\"1\" class=\"dataframe\">\n",
       "  <thead>\n",
       "    <tr style=\"text-align: right;\">\n",
       "      <th></th>\n",
       "      <th>ID</th>\n",
       "      <th>Category</th>\n",
       "      <th>resume</th>\n",
       "    </tr>\n",
       "  </thead>\n",
       "  <tbody>\n",
       "    <tr>\n",
       "      <th>0</th>\n",
       "      <td>1</td>\n",
       "      <td>HR</td>\n",
       "      <td>john h smith phr    po box  callahan fl  infog...</td>\n",
       "    </tr>\n",
       "    <tr>\n",
       "      <th>1</th>\n",
       "      <td>2</td>\n",
       "      <td>HR</td>\n",
       "      <td>name surname address mobile noemail personal p...</td>\n",
       "    </tr>\n",
       "    <tr>\n",
       "      <th>2</th>\n",
       "      <td>3</td>\n",
       "      <td>HR</td>\n",
       "      <td>anthony brown hr assistant areas expertise per...</td>\n",
       "    </tr>\n",
       "    <tr>\n",
       "      <th>3</th>\n",
       "      <td>4</td>\n",
       "      <td>HR</td>\n",
       "      <td>id career objective pursue growth oriented ca...</td>\n",
       "    </tr>\n",
       "    <tr>\n",
       "      <th>4</th>\n",
       "      <td>5</td>\n",
       "      <td>HR</td>\n",
       "      <td>human resources director xefxxbexpert organiza...</td>\n",
       "    </tr>\n",
       "  </tbody>\n",
       "</table>\n",
       "</div>"
      ],
      "text/plain": [
       "   ID Category                                             resume\n",
       "0   1       HR  john h smith phr    po box  callahan fl  infog...\n",
       "1   2       HR  name surname address mobile noemail personal p...\n",
       "2   3       HR  anthony brown hr assistant areas expertise per...\n",
       "3   4       HR   id career objective pursue growth oriented ca...\n",
       "4   5       HR  human resources director xefxxbexpert organiza..."
      ]
     },
     "execution_count": 16,
     "metadata": {},
     "output_type": "execute_result"
    }
   ],
   "source": [
    "df.head()"
   ]
  },
  {
   "cell_type": "markdown",
   "metadata": {},
   "source": [
    "## Clean Job Posts Data"
   ]
  },
  {
   "cell_type": "code",
   "execution_count": 17,
   "metadata": {},
   "outputs": [],
   "source": [
    "#jobs_path = '/Users/richardkuzma/coding/NLP_projects/job_recommender_project/data/job_posts_madhab.csv'\n",
    "# that's for local\n",
    "\n",
    "jobs_path = '/home/ec2-user/NLP_projects/job_recommender_project/data/job_posts_madhab.csv'"
   ]
  },
  {
   "cell_type": "code",
   "execution_count": 18,
   "metadata": {},
   "outputs": [
    {
     "data": {
      "text/html": [
       "<div>\n",
       "<style scoped>\n",
       "    .dataframe tbody tr th:only-of-type {\n",
       "        vertical-align: middle;\n",
       "    }\n",
       "\n",
       "    .dataframe tbody tr th {\n",
       "        vertical-align: top;\n",
       "    }\n",
       "\n",
       "    .dataframe thead th {\n",
       "        text-align: right;\n",
       "    }\n",
       "</style>\n",
       "<table border=\"1\" class=\"dataframe\">\n",
       "  <thead>\n",
       "    <tr style=\"text-align: right;\">\n",
       "      <th></th>\n",
       "      <th>jobpost</th>\n",
       "      <th>date</th>\n",
       "      <th>Title</th>\n",
       "      <th>Company</th>\n",
       "      <th>AnnouncementCode</th>\n",
       "      <th>Term</th>\n",
       "      <th>Eligibility</th>\n",
       "      <th>Audience</th>\n",
       "      <th>StartDate</th>\n",
       "      <th>Duration</th>\n",
       "      <th>...</th>\n",
       "      <th>Salary</th>\n",
       "      <th>ApplicationP</th>\n",
       "      <th>OpeningDate</th>\n",
       "      <th>Deadline</th>\n",
       "      <th>Notes</th>\n",
       "      <th>AboutC</th>\n",
       "      <th>Attach</th>\n",
       "      <th>Year</th>\n",
       "      <th>Month</th>\n",
       "      <th>IT</th>\n",
       "    </tr>\n",
       "  </thead>\n",
       "  <tbody>\n",
       "    <tr>\n",
       "      <th>0</th>\n",
       "      <td>AMERIA Investment Consulting Company\\r\\nJOB TI...</td>\n",
       "      <td>Jan 5, 2004</td>\n",
       "      <td>Chief Financial Officer</td>\n",
       "      <td>AMERIA Investment Consulting Company</td>\n",
       "      <td>NaN</td>\n",
       "      <td>NaN</td>\n",
       "      <td>NaN</td>\n",
       "      <td>NaN</td>\n",
       "      <td>NaN</td>\n",
       "      <td>NaN</td>\n",
       "      <td>...</td>\n",
       "      <td>NaN</td>\n",
       "      <td>To apply for this position, please submit a\\r\\...</td>\n",
       "      <td>NaN</td>\n",
       "      <td>26 January 2004</td>\n",
       "      <td>NaN</td>\n",
       "      <td>NaN</td>\n",
       "      <td>NaN</td>\n",
       "      <td>2004</td>\n",
       "      <td>1</td>\n",
       "      <td>False</td>\n",
       "    </tr>\n",
       "    <tr>\n",
       "      <th>1</th>\n",
       "      <td>International Research &amp; Exchanges Board (IREX...</td>\n",
       "      <td>Jan 7, 2004</td>\n",
       "      <td>Full-time Community Connections Intern (paid i...</td>\n",
       "      <td>International Research &amp; Exchanges Board (IREX)</td>\n",
       "      <td>NaN</td>\n",
       "      <td>NaN</td>\n",
       "      <td>NaN</td>\n",
       "      <td>NaN</td>\n",
       "      <td>NaN</td>\n",
       "      <td>3 months</td>\n",
       "      <td>...</td>\n",
       "      <td>NaN</td>\n",
       "      <td>Please submit a cover letter and resume to:\\r\\...</td>\n",
       "      <td>NaN</td>\n",
       "      <td>12 January 2004</td>\n",
       "      <td>NaN</td>\n",
       "      <td>The International Research &amp; Exchanges Board (...</td>\n",
       "      <td>NaN</td>\n",
       "      <td>2004</td>\n",
       "      <td>1</td>\n",
       "      <td>False</td>\n",
       "    </tr>\n",
       "    <tr>\n",
       "      <th>2</th>\n",
       "      <td>Caucasus Environmental NGO Network (CENN)\\r\\nJ...</td>\n",
       "      <td>Jan 7, 2004</td>\n",
       "      <td>Country Coordinator</td>\n",
       "      <td>Caucasus Environmental NGO Network (CENN)</td>\n",
       "      <td>NaN</td>\n",
       "      <td>NaN</td>\n",
       "      <td>NaN</td>\n",
       "      <td>NaN</td>\n",
       "      <td>NaN</td>\n",
       "      <td>Renewable annual contract\\r\\nPOSITION</td>\n",
       "      <td>...</td>\n",
       "      <td>NaN</td>\n",
       "      <td>Please send resume or CV toursula.kazarian@......</td>\n",
       "      <td>NaN</td>\n",
       "      <td>20 January 2004\\r\\nSTART DATE:  February 2004</td>\n",
       "      <td>NaN</td>\n",
       "      <td>The Caucasus Environmental NGO Network is a\\r\\...</td>\n",
       "      <td>NaN</td>\n",
       "      <td>2004</td>\n",
       "      <td>1</td>\n",
       "      <td>False</td>\n",
       "    </tr>\n",
       "    <tr>\n",
       "      <th>3</th>\n",
       "      <td>Manoff Group\\r\\nJOB TITLE:  BCC Specialist\\r\\n...</td>\n",
       "      <td>Jan 7, 2004</td>\n",
       "      <td>BCC Specialist</td>\n",
       "      <td>Manoff Group</td>\n",
       "      <td>NaN</td>\n",
       "      <td>NaN</td>\n",
       "      <td>NaN</td>\n",
       "      <td>NaN</td>\n",
       "      <td>NaN</td>\n",
       "      <td>NaN</td>\n",
       "      <td>...</td>\n",
       "      <td>NaN</td>\n",
       "      <td>Please send cover letter and resume to Amy\\r\\n...</td>\n",
       "      <td>NaN</td>\n",
       "      <td>23 January 2004\\r\\nSTART DATE:  Immediate</td>\n",
       "      <td>NaN</td>\n",
       "      <td>NaN</td>\n",
       "      <td>NaN</td>\n",
       "      <td>2004</td>\n",
       "      <td>1</td>\n",
       "      <td>False</td>\n",
       "    </tr>\n",
       "    <tr>\n",
       "      <th>4</th>\n",
       "      <td>Yerevan Brandy Company\\r\\nJOB TITLE:  Software...</td>\n",
       "      <td>Jan 10, 2004</td>\n",
       "      <td>Software Developer</td>\n",
       "      <td>Yerevan Brandy Company</td>\n",
       "      <td>NaN</td>\n",
       "      <td>NaN</td>\n",
       "      <td>NaN</td>\n",
       "      <td>NaN</td>\n",
       "      <td>NaN</td>\n",
       "      <td>NaN</td>\n",
       "      <td>...</td>\n",
       "      <td>NaN</td>\n",
       "      <td>Successful candidates should submit\\r\\n- CV; \\...</td>\n",
       "      <td>NaN</td>\n",
       "      <td>20 January 2004, 18:00</td>\n",
       "      <td>NaN</td>\n",
       "      <td>NaN</td>\n",
       "      <td>NaN</td>\n",
       "      <td>2004</td>\n",
       "      <td>1</td>\n",
       "      <td>True</td>\n",
       "    </tr>\n",
       "  </tbody>\n",
       "</table>\n",
       "<p>5 rows × 24 columns</p>\n",
       "</div>"
      ],
      "text/plain": [
       "                                             jobpost          date  \\\n",
       "0  AMERIA Investment Consulting Company\\r\\nJOB TI...   Jan 5, 2004   \n",
       "1  International Research & Exchanges Board (IREX...   Jan 7, 2004   \n",
       "2  Caucasus Environmental NGO Network (CENN)\\r\\nJ...   Jan 7, 2004   \n",
       "3  Manoff Group\\r\\nJOB TITLE:  BCC Specialist\\r\\n...   Jan 7, 2004   \n",
       "4  Yerevan Brandy Company\\r\\nJOB TITLE:  Software...  Jan 10, 2004   \n",
       "\n",
       "                                               Title  \\\n",
       "0                            Chief Financial Officer   \n",
       "1  Full-time Community Connections Intern (paid i...   \n",
       "2                                Country Coordinator   \n",
       "3                                     BCC Specialist   \n",
       "4                                 Software Developer   \n",
       "\n",
       "                                           Company AnnouncementCode Term  \\\n",
       "0             AMERIA Investment Consulting Company              NaN  NaN   \n",
       "1  International Research & Exchanges Board (IREX)              NaN  NaN   \n",
       "2        Caucasus Environmental NGO Network (CENN)              NaN  NaN   \n",
       "3                                     Manoff Group              NaN  NaN   \n",
       "4                           Yerevan Brandy Company              NaN  NaN   \n",
       "\n",
       "  Eligibility Audience StartDate                               Duration  ...  \\\n",
       "0         NaN      NaN       NaN                                    NaN  ...   \n",
       "1         NaN      NaN       NaN                               3 months  ...   \n",
       "2         NaN      NaN       NaN  Renewable annual contract\\r\\nPOSITION  ...   \n",
       "3         NaN      NaN       NaN                                    NaN  ...   \n",
       "4         NaN      NaN       NaN                                    NaN  ...   \n",
       "\n",
       "  Salary                                       ApplicationP OpeningDate  \\\n",
       "0    NaN  To apply for this position, please submit a\\r\\...         NaN   \n",
       "1    NaN  Please submit a cover letter and resume to:\\r\\...         NaN   \n",
       "2    NaN  Please send resume or CV toursula.kazarian@......         NaN   \n",
       "3    NaN  Please send cover letter and resume to Amy\\r\\n...         NaN   \n",
       "4    NaN  Successful candidates should submit\\r\\n- CV; \\...         NaN   \n",
       "\n",
       "                                        Deadline Notes  \\\n",
       "0                                26 January 2004   NaN   \n",
       "1                                12 January 2004   NaN   \n",
       "2  20 January 2004\\r\\nSTART DATE:  February 2004   NaN   \n",
       "3      23 January 2004\\r\\nSTART DATE:  Immediate   NaN   \n",
       "4                         20 January 2004, 18:00   NaN   \n",
       "\n",
       "                                              AboutC Attach  Year Month     IT  \n",
       "0                                                NaN    NaN  2004     1  False  \n",
       "1  The International Research & Exchanges Board (...    NaN  2004     1  False  \n",
       "2  The Caucasus Environmental NGO Network is a\\r\\...    NaN  2004     1  False  \n",
       "3                                                NaN    NaN  2004     1  False  \n",
       "4                                                NaN    NaN  2004     1   True  \n",
       "\n",
       "[5 rows x 24 columns]"
      ]
     },
     "execution_count": 18,
     "metadata": {},
     "output_type": "execute_result"
    }
   ],
   "source": [
    "#load and take first look at job data\n",
    "jobs = pd.read_csv(jobs_path)\n",
    "jobs.head()"
   ]
  },
  {
   "cell_type": "code",
   "execution_count": 19,
   "metadata": {},
   "outputs": [
    {
     "data": {
      "text/plain": [
       "Index(['jobpost', 'date', 'Title', 'Company', 'AnnouncementCode', 'Term',\n",
       "       'Eligibility', 'Audience', 'StartDate', 'Duration', 'Location',\n",
       "       'JobDescription', 'JobRequirment', 'RequiredQual', 'Salary',\n",
       "       'ApplicationP', 'OpeningDate', 'Deadline', 'Notes', 'AboutC', 'Attach',\n",
       "       'Year', 'Month', 'IT'],\n",
       "      dtype='object')"
      ]
     },
     "execution_count": 19,
     "metadata": {},
     "output_type": "execute_result"
    }
   ],
   "source": [
    "#far more columns than we need\n",
    "jobs.columns"
   ]
  },
  {
   "cell_type": "code",
   "execution_count": 20,
   "metadata": {},
   "outputs": [
    {
     "data": {
      "text/html": [
       "<div>\n",
       "<style scoped>\n",
       "    .dataframe tbody tr th:only-of-type {\n",
       "        vertical-align: middle;\n",
       "    }\n",
       "\n",
       "    .dataframe tbody tr th {\n",
       "        vertical-align: top;\n",
       "    }\n",
       "\n",
       "    .dataframe thead th {\n",
       "        text-align: right;\n",
       "    }\n",
       "</style>\n",
       "<table border=\"1\" class=\"dataframe\">\n",
       "  <thead>\n",
       "    <tr style=\"text-align: right;\">\n",
       "      <th></th>\n",
       "      <th>Title</th>\n",
       "      <th>Company</th>\n",
       "      <th>JobDescription</th>\n",
       "      <th>RequiredQual</th>\n",
       "      <th>JobRequirement</th>\n",
       "    </tr>\n",
       "  </thead>\n",
       "  <tbody>\n",
       "    <tr>\n",
       "      <th>0</th>\n",
       "      <td>Chief Financial Officer</td>\n",
       "      <td>AMERIA Investment Consulting Company</td>\n",
       "      <td>AMERIA Investment Consulting Company is seekin...</td>\n",
       "      <td>To perform this job successfully, an\\r\\nindivi...</td>\n",
       "      <td>- Supervises financial management and administ...</td>\n",
       "    </tr>\n",
       "    <tr>\n",
       "      <th>1</th>\n",
       "      <td>Full-time Community Connections Intern (paid i...</td>\n",
       "      <td>International Research &amp; Exchanges Board (IREX)</td>\n",
       "      <td>NaN</td>\n",
       "      <td>- Bachelor's Degree; Master's is preferred;\\r\\...</td>\n",
       "      <td>NaN</td>\n",
       "    </tr>\n",
       "    <tr>\n",
       "      <th>2</th>\n",
       "      <td>Country Coordinator</td>\n",
       "      <td>Caucasus Environmental NGO Network (CENN)</td>\n",
       "      <td>Public outreach and strengthening of a growing...</td>\n",
       "      <td>- Degree in environmentally related field, or ...</td>\n",
       "      <td>- Working with the Country Director to provide...</td>\n",
       "    </tr>\n",
       "    <tr>\n",
       "      <th>3</th>\n",
       "      <td>BCC Specialist</td>\n",
       "      <td>Manoff Group</td>\n",
       "      <td>The LEAD (Local Enhancement and Development fo...</td>\n",
       "      <td>- Advanced degree in public health, social sci...</td>\n",
       "      <td>- Identify gaps in knowledge and overseeing in...</td>\n",
       "    </tr>\n",
       "    <tr>\n",
       "      <th>4</th>\n",
       "      <td>Software Developer</td>\n",
       "      <td>Yerevan Brandy Company</td>\n",
       "      <td>NaN</td>\n",
       "      <td>- University degree; economical background is ...</td>\n",
       "      <td>- Rendering technical assistance to Database M...</td>\n",
       "    </tr>\n",
       "    <tr>\n",
       "      <th>...</th>\n",
       "      <td>...</td>\n",
       "      <td>...</td>\n",
       "      <td>...</td>\n",
       "      <td>...</td>\n",
       "      <td>...</td>\n",
       "    </tr>\n",
       "    <tr>\n",
       "      <th>18996</th>\n",
       "      <td>Senior Creative UX/ UI Designer</td>\n",
       "      <td>Technolinguistics NGO</td>\n",
       "      <td>A tech startup of Technolinguistics based in N...</td>\n",
       "      <td>- At least 5 years of experience in Interface/...</td>\n",
       "      <td>- Work closely with product and business teams...</td>\n",
       "    </tr>\n",
       "    <tr>\n",
       "      <th>18997</th>\n",
       "      <td>Category Development Manager</td>\n",
       "      <td>\"Coca-Cola Hellenic Bottling Company Armenia\" ...</td>\n",
       "      <td>NaN</td>\n",
       "      <td>- University degree, ideally business related;...</td>\n",
       "      <td>- Establish and manage Category Management dev...</td>\n",
       "    </tr>\n",
       "    <tr>\n",
       "      <th>18998</th>\n",
       "      <td>Operational Marketing Manager</td>\n",
       "      <td>\"Coca-Cola Hellenic Bottling Company Armenia\" ...</td>\n",
       "      <td>NaN</td>\n",
       "      <td>- Degree in Business, Marketing or a related f...</td>\n",
       "      <td>- Develop, establish and maintain marketing st...</td>\n",
       "    </tr>\n",
       "    <tr>\n",
       "      <th>18999</th>\n",
       "      <td>Head of Online Sales Department</td>\n",
       "      <td>San Lazzaro   LLC</td>\n",
       "      <td>San Lazzaro LLC is looking for a well-experien...</td>\n",
       "      <td>- At least 1 year of experience in online sale...</td>\n",
       "      <td>- Handle the project activites of the online s...</td>\n",
       "    </tr>\n",
       "    <tr>\n",
       "      <th>19000</th>\n",
       "      <td>Lawyer in Legal Department</td>\n",
       "      <td>\"Kamurj\" UCO CJSC</td>\n",
       "      <td>\"Kamurj\" UCO CJSC is looking for a Lawyer in L...</td>\n",
       "      <td>- Higher legal education; Master's degree is a...</td>\n",
       "      <td>- Properly provide internal legal services of ...</td>\n",
       "    </tr>\n",
       "  </tbody>\n",
       "</table>\n",
       "<p>19001 rows × 5 columns</p>\n",
       "</div>"
      ],
      "text/plain": [
       "                                                   Title  \\\n",
       "0                                Chief Financial Officer   \n",
       "1      Full-time Community Connections Intern (paid i...   \n",
       "2                                    Country Coordinator   \n",
       "3                                         BCC Specialist   \n",
       "4                                     Software Developer   \n",
       "...                                                  ...   \n",
       "18996                    Senior Creative UX/ UI Designer   \n",
       "18997                       Category Development Manager   \n",
       "18998                      Operational Marketing Manager   \n",
       "18999                    Head of Online Sales Department   \n",
       "19000                         Lawyer in Legal Department   \n",
       "\n",
       "                                                 Company  \\\n",
       "0                   AMERIA Investment Consulting Company   \n",
       "1        International Research & Exchanges Board (IREX)   \n",
       "2              Caucasus Environmental NGO Network (CENN)   \n",
       "3                                           Manoff Group   \n",
       "4                                 Yerevan Brandy Company   \n",
       "...                                                  ...   \n",
       "18996                              Technolinguistics NGO   \n",
       "18997  \"Coca-Cola Hellenic Bottling Company Armenia\" ...   \n",
       "18998  \"Coca-Cola Hellenic Bottling Company Armenia\" ...   \n",
       "18999                                  San Lazzaro   LLC   \n",
       "19000                                  \"Kamurj\" UCO CJSC   \n",
       "\n",
       "                                          JobDescription  \\\n",
       "0      AMERIA Investment Consulting Company is seekin...   \n",
       "1                                                    NaN   \n",
       "2      Public outreach and strengthening of a growing...   \n",
       "3      The LEAD (Local Enhancement and Development fo...   \n",
       "4                                                    NaN   \n",
       "...                                                  ...   \n",
       "18996  A tech startup of Technolinguistics based in N...   \n",
       "18997                                                NaN   \n",
       "18998                                                NaN   \n",
       "18999  San Lazzaro LLC is looking for a well-experien...   \n",
       "19000  \"Kamurj\" UCO CJSC is looking for a Lawyer in L...   \n",
       "\n",
       "                                            RequiredQual  \\\n",
       "0      To perform this job successfully, an\\r\\nindivi...   \n",
       "1      - Bachelor's Degree; Master's is preferred;\\r\\...   \n",
       "2      - Degree in environmentally related field, or ...   \n",
       "3      - Advanced degree in public health, social sci...   \n",
       "4      - University degree; economical background is ...   \n",
       "...                                                  ...   \n",
       "18996  - At least 5 years of experience in Interface/...   \n",
       "18997  - University degree, ideally business related;...   \n",
       "18998  - Degree in Business, Marketing or a related f...   \n",
       "18999  - At least 1 year of experience in online sale...   \n",
       "19000  - Higher legal education; Master's degree is a...   \n",
       "\n",
       "                                          JobRequirement  \n",
       "0      - Supervises financial management and administ...  \n",
       "1                                                    NaN  \n",
       "2      - Working with the Country Director to provide...  \n",
       "3      - Identify gaps in knowledge and overseeing in...  \n",
       "4      - Rendering technical assistance to Database M...  \n",
       "...                                                  ...  \n",
       "18996  - Work closely with product and business teams...  \n",
       "18997  - Establish and manage Category Management dev...  \n",
       "18998  - Develop, establish and maintain marketing st...  \n",
       "18999  - Handle the project activites of the online s...  \n",
       "19000  - Properly provide internal legal services of ...  \n",
       "\n",
       "[19001 rows x 5 columns]"
      ]
     },
     "execution_count": 20,
     "metadata": {},
     "output_type": "execute_result"
    }
   ],
   "source": [
    "#drop columns. Kept Title, Description, Requirement, and Quals\n",
    "#19001 rows x 5 cols\n",
    "jobs.drop(['jobpost', 'date', 'AnnouncementCode', 'Term', 'Eligibility',\n",
    "       'Audience', 'StartDate', 'Duration', 'Location',\n",
    "       'Salary', 'ApplicationP', 'OpeningDate', 'Deadline', 'Notes', 'AboutC', \n",
    "       'Attach', 'Year', 'Month', 'IT'], axis=1, inplace=True)\n",
    "\n",
    "#renaming \n",
    "jobs['JobRequirement'] = jobs['JobRequirment']\n",
    "jobs.drop(['JobRequirment'], axis=1, inplace=True)\n",
    "jobs"
   ]
  },
  {
   "cell_type": "code",
   "execution_count": null,
   "metadata": {},
   "outputs": [],
   "source": []
  },
  {
   "cell_type": "code",
   "execution_count": 21,
   "metadata": {},
   "outputs": [
    {
     "data": {
      "text/html": [
       "<div>\n",
       "<style scoped>\n",
       "    .dataframe tbody tr th:only-of-type {\n",
       "        vertical-align: middle;\n",
       "    }\n",
       "\n",
       "    .dataframe tbody tr th {\n",
       "        vertical-align: top;\n",
       "    }\n",
       "\n",
       "    .dataframe thead th {\n",
       "        text-align: right;\n",
       "    }\n",
       "</style>\n",
       "<table border=\"1\" class=\"dataframe\">\n",
       "  <thead>\n",
       "    <tr style=\"text-align: right;\">\n",
       "      <th></th>\n",
       "      <th>Title</th>\n",
       "      <th>Company</th>\n",
       "      <th>JobDescription</th>\n",
       "      <th>RequiredQual</th>\n",
       "      <th>JobRequirement</th>\n",
       "    </tr>\n",
       "  </thead>\n",
       "  <tbody>\n",
       "    <tr>\n",
       "      <th>0</th>\n",
       "      <td>Chief Financial Officer</td>\n",
       "      <td>AMERIA Investment Consulting Company</td>\n",
       "      <td>AMERIA Investment Consulting Company is seekin...</td>\n",
       "      <td>To perform this job successfully, an\\r\\nindivi...</td>\n",
       "      <td>- Supervises financial management and administ...</td>\n",
       "    </tr>\n",
       "    <tr>\n",
       "      <th>2</th>\n",
       "      <td>Country Coordinator</td>\n",
       "      <td>Caucasus Environmental NGO Network (CENN)</td>\n",
       "      <td>Public outreach and strengthening of a growing...</td>\n",
       "      <td>- Degree in environmentally related field, or ...</td>\n",
       "      <td>- Working with the Country Director to provide...</td>\n",
       "    </tr>\n",
       "    <tr>\n",
       "      <th>3</th>\n",
       "      <td>BCC Specialist</td>\n",
       "      <td>Manoff Group</td>\n",
       "      <td>The LEAD (Local Enhancement and Development fo...</td>\n",
       "      <td>- Advanced degree in public health, social sci...</td>\n",
       "      <td>- Identify gaps in knowledge and overseeing in...</td>\n",
       "    </tr>\n",
       "    <tr>\n",
       "      <th>13</th>\n",
       "      <td>Community Development, Capacity Building and C...</td>\n",
       "      <td>Food Security Regional Cooperation and Stabili...</td>\n",
       "      <td>Food Security Regional Cooperation and Stabili...</td>\n",
       "      <td>- Higher Education and/or professional experie...</td>\n",
       "      <td>- Assist the Tavush Marz communities and commu...</td>\n",
       "    </tr>\n",
       "    <tr>\n",
       "      <th>17</th>\n",
       "      <td>Country Economist (NOB)</td>\n",
       "      <td>United Nations Development Programme, Armenia</td>\n",
       "      <td>The United Nations Development Programme in Ar...</td>\n",
       "      <td>- Minimum Masters Degree in Economics;\\r\\n- Mi...</td>\n",
       "      <td>The incumbent under direct supervision of UNDP...</td>\n",
       "    </tr>\n",
       "    <tr>\n",
       "      <th>...</th>\n",
       "      <td>...</td>\n",
       "      <td>...</td>\n",
       "      <td>...</td>\n",
       "      <td>...</td>\n",
       "      <td>...</td>\n",
       "    </tr>\n",
       "    <tr>\n",
       "      <th>18992</th>\n",
       "      <td>.NET Developer</td>\n",
       "      <td>Macadamian AR CJSC</td>\n",
       "      <td>The incumbent will develop software applicatio...</td>\n",
       "      <td>- 2 - 5 years of experience in software develo...</td>\n",
       "      <td>- Participate in all the steps of the software...</td>\n",
       "    </tr>\n",
       "    <tr>\n",
       "      <th>18995</th>\n",
       "      <td>Deputy Director</td>\n",
       "      <td>\"Transport PIU\" State Institution of the RA Mi...</td>\n",
       "      <td>The incumbent will be responsible for supporti...</td>\n",
       "      <td>- University degree in Civil Engineering, Econ...</td>\n",
       "      <td>- Support the Director in organizing the activ...</td>\n",
       "    </tr>\n",
       "    <tr>\n",
       "      <th>18996</th>\n",
       "      <td>Senior Creative UX/ UI Designer</td>\n",
       "      <td>Technolinguistics NGO</td>\n",
       "      <td>A tech startup of Technolinguistics based in N...</td>\n",
       "      <td>- At least 5 years of experience in Interface/...</td>\n",
       "      <td>- Work closely with product and business teams...</td>\n",
       "    </tr>\n",
       "    <tr>\n",
       "      <th>18999</th>\n",
       "      <td>Head of Online Sales Department</td>\n",
       "      <td>San Lazzaro   LLC</td>\n",
       "      <td>San Lazzaro LLC is looking for a well-experien...</td>\n",
       "      <td>- At least 1 year of experience in online sale...</td>\n",
       "      <td>- Handle the project activites of the online s...</td>\n",
       "    </tr>\n",
       "    <tr>\n",
       "      <th>19000</th>\n",
       "      <td>Lawyer in Legal Department</td>\n",
       "      <td>\"Kamurj\" UCO CJSC</td>\n",
       "      <td>\"Kamurj\" UCO CJSC is looking for a Lawyer in L...</td>\n",
       "      <td>- Higher legal education; Master's degree is a...</td>\n",
       "      <td>- Properly provide internal legal services of ...</td>\n",
       "    </tr>\n",
       "  </tbody>\n",
       "</table>\n",
       "<p>13124 rows × 5 columns</p>\n",
       "</div>"
      ],
      "text/plain": [
       "                                                   Title  \\\n",
       "0                                Chief Financial Officer   \n",
       "2                                    Country Coordinator   \n",
       "3                                         BCC Specialist   \n",
       "13     Community Development, Capacity Building and C...   \n",
       "17                               Country Economist (NOB)   \n",
       "...                                                  ...   \n",
       "18992                                     .NET Developer   \n",
       "18995                                    Deputy Director   \n",
       "18996                    Senior Creative UX/ UI Designer   \n",
       "18999                    Head of Online Sales Department   \n",
       "19000                         Lawyer in Legal Department   \n",
       "\n",
       "                                                 Company  \\\n",
       "0                   AMERIA Investment Consulting Company   \n",
       "2              Caucasus Environmental NGO Network (CENN)   \n",
       "3                                           Manoff Group   \n",
       "13     Food Security Regional Cooperation and Stabili...   \n",
       "17         United Nations Development Programme, Armenia   \n",
       "...                                                  ...   \n",
       "18992                                 Macadamian AR CJSC   \n",
       "18995  \"Transport PIU\" State Institution of the RA Mi...   \n",
       "18996                              Technolinguistics NGO   \n",
       "18999                                  San Lazzaro   LLC   \n",
       "19000                                  \"Kamurj\" UCO CJSC   \n",
       "\n",
       "                                          JobDescription  \\\n",
       "0      AMERIA Investment Consulting Company is seekin...   \n",
       "2      Public outreach and strengthening of a growing...   \n",
       "3      The LEAD (Local Enhancement and Development fo...   \n",
       "13     Food Security Regional Cooperation and Stabili...   \n",
       "17     The United Nations Development Programme in Ar...   \n",
       "...                                                  ...   \n",
       "18992  The incumbent will develop software applicatio...   \n",
       "18995  The incumbent will be responsible for supporti...   \n",
       "18996  A tech startup of Technolinguistics based in N...   \n",
       "18999  San Lazzaro LLC is looking for a well-experien...   \n",
       "19000  \"Kamurj\" UCO CJSC is looking for a Lawyer in L...   \n",
       "\n",
       "                                            RequiredQual  \\\n",
       "0      To perform this job successfully, an\\r\\nindivi...   \n",
       "2      - Degree in environmentally related field, or ...   \n",
       "3      - Advanced degree in public health, social sci...   \n",
       "13     - Higher Education and/or professional experie...   \n",
       "17     - Minimum Masters Degree in Economics;\\r\\n- Mi...   \n",
       "...                                                  ...   \n",
       "18992  - 2 - 5 years of experience in software develo...   \n",
       "18995  - University degree in Civil Engineering, Econ...   \n",
       "18996  - At least 5 years of experience in Interface/...   \n",
       "18999  - At least 1 year of experience in online sale...   \n",
       "19000  - Higher legal education; Master's degree is a...   \n",
       "\n",
       "                                          JobRequirement  \n",
       "0      - Supervises financial management and administ...  \n",
       "2      - Working with the Country Director to provide...  \n",
       "3      - Identify gaps in knowledge and overseeing in...  \n",
       "13     - Assist the Tavush Marz communities and commu...  \n",
       "17     The incumbent under direct supervision of UNDP...  \n",
       "...                                                  ...  \n",
       "18992  - Participate in all the steps of the software...  \n",
       "18995  - Support the Director in organizing the activ...  \n",
       "18996  - Work closely with product and business teams...  \n",
       "18999  - Handle the project activites of the online s...  \n",
       "19000  - Properly provide internal legal services of ...  \n",
       "\n",
       "[13124 rows x 5 columns]"
      ]
     },
     "execution_count": 21,
     "metadata": {},
     "output_type": "execute_result"
    }
   ],
   "source": [
    "#drop any rows with NaN\n",
    "#13124 rows x 5 cols from 19001 rows x 5 cols\n",
    "jobs.dropna(inplace=True)\n",
    "jobs"
   ]
  },
  {
   "cell_type": "code",
   "execution_count": null,
   "metadata": {},
   "outputs": [],
   "source": []
  },
  {
   "cell_type": "markdown",
   "metadata": {},
   "source": [
    "Descriptions, Requirements, Required Quals"
   ]
  },
  {
   "cell_type": "code",
   "execution_count": 22,
   "metadata": {},
   "outputs": [
    {
     "data": {
      "text/plain": [
       "\"AMERIA Investment Consulting Company is seeking a\\r\\nChief Financial Officer. This position manages the company's fiscal and\\r\\nadministrative functions, provides highly responsible and technically\\r\\ncomplex staff assistance to the Executive Director. The work performed\\r\\nrequires a high level of technical proficiency in financial management\\r\\nand investment management, as well as management, supervisory, and\\r\\nadministrative skills.\""
      ]
     },
     "execution_count": 22,
     "metadata": {},
     "output_type": "execute_result"
    }
   ],
   "source": [
    "#what does a job description look like\n",
    "jobs['JobDescription'][0]"
   ]
  },
  {
   "cell_type": "code",
   "execution_count": 23,
   "metadata": {},
   "outputs": [
    {
     "data": {
      "text/plain": [
       "\"- Supervises financial management and administrative staff, including\\r\\nassigning responsibilities, reviewing employees' work processes and\\r\\nproducts, counseling employees, giving performance evaluations, and\\r\\nrecommending disciplinary action;\\r\\n- Serves as member of management team participating in both strategic\\r\\nand operational planning for the company;\\r\\n- Directs and oversees the company's financial management activities,\\r\\nincluding establishing and monitoring internal controls, managing cash\\r\\nand investments, and managing the investment portfolio in collaboration\\r\\nwith the Investment team leader. This includes, but is not limited to,\\r\\nevaluation of investment risk, concentration risk, fund deployment\\r\\nlevels, adequacy of loss and liquidity reserves Assists investment team\\r\\nin development of proper documentation and internal systems;\\r\\n- Directs and oversees the annual budgeting process, including\\r\\ndeveloping projections for financial planning, and preparing budgets;\\r\\n- Prepares external and internal financial management reports, such as\\r\\naudited financial statements, tax returns, and reports for the board of\\r\\ndirectors and company staff;\\r\\n- Develops, implements, and maintains efficient and effective accounting\\r\\nsystems and controls to ensure compliance with national and\\r\\ninternational accounting standards and principles, sufficiency of fund\\r\\naccounting, and comprehensiveness of data for reporting and compliance\\r\\nrequirements;\\r\\n- Ensures contract compliance, including interpreting and monitoring\\r\\ncontracts with clients, submitting required reports, and monitoring\\r\\ncovenants and other contract terms;\\r\\n- Oversees the design, implementation and maintenance of computer-based\\r\\ninformation system. Oversees records retention (both manual and\\r\\ncomputer-based) and file maintenance activities;\\r\\n- Serves as company's risk manager, including evaluating loss exposure\\r\\nand obtaining insurance as appropriate;\\r\\n- Manages other administrative operations, such as facilities\\r\\nmanagement, payroll administration, office operations, and\\r\\nadministrative support;\\r\\n- Monitors corporate compliance with by-laws and articles of\\r\\nincorporation regarding corporate registration and reporting of\\r\\nfundraising operations.\""
      ]
     },
     "execution_count": 23,
     "metadata": {},
     "output_type": "execute_result"
    }
   ],
   "source": [
    "#what does a job requirement look like\n",
    "jobs['JobRequirement'][0]"
   ]
  },
  {
   "cell_type": "code",
   "execution_count": 24,
   "metadata": {},
   "outputs": [
    {
     "data": {
      "text/plain": [
       "\"To perform this job successfully, an\\r\\nindividual must be able to perform each essential duty satisfactorily.\\r\\nThe requirements listed below are representative of the knowledge,\\r\\nskill, and/or ability required.\\r\\nKnowledge of:\\r\\n- Generally accepted accounting principles;\\r\\n- Local accounting standards and legislation;\\r\\n- State reporting requirements pertaining to accounting;\\r\\n- Principles and practices of financial management and budgeting;\\r\\n- Principles and practices of financial systems design and analysis;\\r\\n- Principles and practices of contract management, records management,\\r\\nand risk management;\\r\\n- Principles and practices of management and supervision;\\r\\n- Principles and practices of information systems management.\\r\\nAbility to:\\r\\n- Apply sound fiscal and administrative practices to the company's\\r\\nactivities;\\r\\n- Plan, organize and supervise the work of subordinate employees,\\r\\nincluding training them, assigning and evaluating their work, and\\r\\nproviding job performance feedback;\\r\\n- Critically analyze fiscal and administrative policies, practices,\\r\\nprocedures, and systems, and recommend and implement changes as needed;\\r\\n- Gather and synthesize financial information from a variety of sources\\r\\nand present it to a variety of audiences with differing financial\\r\\nmanagement and analysis expertise;\\r\\n- Prepare detailed, comprehensive financial reports, including\\r\\nexplanatory text;\\r\\n- Operate IBM-compatible personal computer, including word processing,\\r\\nspreadsheet, and database software applications;\\r\\n- Operate specialized software applications that support the financial\\r\\nmanagement and budgeting functions.\\r\\nQualifications:\\r\\n- A minimum of 5-7 years Accounting/ Corporate Finance/ Banking\\r\\nexperience, including a role as a CFO;\\r\\n- Excellent finance and accounting technical skills coupled with a\\r\\ndemonstrated knowledge of all key financial functions in an consulting\\r\\ncompany context - accounting, finance, control, treasury, reserving, and\\r\\nreporting;\\r\\n- Strong financial planning and analytical skills and experience and the\\r\\nability to work closely with and support the CEO and other executives in\\r\\nstrategic development and implementation;\\r\\n- Excellent leadership, management and supervisory track record of\\r\\nattracting, selecting, developing, rewarding and retaining high-caliber,\\r\\naccounting and finance executive and teams who achieve business goals;\\r\\n- An undergraduate degree in finance, business, or other related\\r\\ndiscipline is required. A CPA, CFA, ACCA or other financial\\r\\ncertification is highly preferred, as is a Masters degree in Business\\r\\nAdministration, Accounting or Finance;\\r\\n- Fluency in English, Armenian and Russian with outstanding writing\\r\\nskills;\\r\\n- Excellent analytical, communication, teamwork, interpersonal skills;\\r\\n- Need to be well organized and detail-oriented as well as goal/ result\\r\\ndriven and able to deal with complex issues.\""
      ]
     },
     "execution_count": 24,
     "metadata": {},
     "output_type": "execute_result"
    }
   ],
   "source": [
    "#what do the required quals look like?\n",
    "jobs['RequiredQual'][0]"
   ]
  },
  {
   "cell_type": "code",
   "execution_count": null,
   "metadata": {},
   "outputs": [],
   "source": []
  },
  {
   "cell_type": "code",
   "execution_count": 25,
   "metadata": {},
   "outputs": [],
   "source": [
    "#make new 'combined' column, concatenate strings from JobDescription, JobRequirement\n",
    "jobs['combined'] = jobs['Title'].str.cat(jobs['JobDescription'], sep=' ').str.cat(jobs['JobRequirement'], sep=' ').str.cat(jobs['RequiredQual'], sep =' ')\n",
    "\n"
   ]
  },
  {
   "cell_type": "code",
   "execution_count": 26,
   "metadata": {},
   "outputs": [
    {
     "data": {
      "text/plain": [
       "\"Chief Financial Officer AMERIA Investment Consulting Company is seeking a\\r\\nChief Financial Officer. This position manages the company's fiscal and\\r\\nadministrative functions, provides highly responsible and technically\\r\\ncomplex staff assistance to the Executive Director. The work performed\\r\\nrequires a high level of technical proficiency in financial management\\r\\nand investment management, as well as management, supervisory, and\\r\\nadministrative skills. - Supervises financial management and administrative staff, including\\r\\nassigning responsibilities, reviewing employees' work processes and\\r\\nproducts, counseling employees, giving performance evaluations, and\\r\\nrecommending disciplinary action;\\r\\n- Serves as member of management team participating in both strategic\\r\\nand operational planning for the company;\\r\\n- Directs and oversees the company's financial management activities,\\r\\nincluding establishing and monitoring internal controls, managing cash\\r\\nand investments, and managing the investment portfolio in collaboration\\r\\nwith the Investment team leader. This includes, but is not limited to,\\r\\nevaluation of investment risk, concentration risk, fund deployment\\r\\nlevels, adequacy of loss and liquidity reserves Assists investment team\\r\\nin development of proper documentation and internal systems;\\r\\n- Directs and oversees the annual budgeting process, including\\r\\ndeveloping projections for financial planning, and preparing budgets;\\r\\n- Prepares external and internal financial management reports, such as\\r\\naudited financial statements, tax returns, and reports for the board of\\r\\ndirectors and company staff;\\r\\n- Develops, implements, and maintains efficient and effective accounting\\r\\nsystems and controls to ensure compliance with national and\\r\\ninternational accounting standards and principles, sufficiency of fund\\r\\naccounting, and comprehensiveness of data for reporting and compliance\\r\\nrequirements;\\r\\n- Ensures contract compliance, including interpreting and monitoring\\r\\ncontracts with clients, submitting required reports, and monitoring\\r\\ncovenants and other contract terms;\\r\\n- Oversees the design, implementation and maintenance of computer-based\\r\\ninformation system. Oversees records retention (both manual and\\r\\ncomputer-based) and file maintenance activities;\\r\\n- Serves as company's risk manager, including evaluating loss exposure\\r\\nand obtaining insurance as appropriate;\\r\\n- Manages other administrative operations, such as facilities\\r\\nmanagement, payroll administration, office operations, and\\r\\nadministrative support;\\r\\n- Monitors corporate compliance with by-laws and articles of\\r\\nincorporation regarding corporate registration and reporting of\\r\\nfundraising operations. To perform this job successfully, an\\r\\nindividual must be able to perform each essential duty satisfactorily.\\r\\nThe requirements listed below are representative of the knowledge,\\r\\nskill, and/or ability required.\\r\\nKnowledge of:\\r\\n- Generally accepted accounting principles;\\r\\n- Local accounting standards and legislation;\\r\\n- State reporting requirements pertaining to accounting;\\r\\n- Principles and practices of financial management and budgeting;\\r\\n- Principles and practices of financial systems design and analysis;\\r\\n- Principles and practices of contract management, records management,\\r\\nand risk management;\\r\\n- Principles and practices of management and supervision;\\r\\n- Principles and practices of information systems management.\\r\\nAbility to:\\r\\n- Apply sound fiscal and administrative practices to the company's\\r\\nactivities;\\r\\n- Plan, organize and supervise the work of subordinate employees,\\r\\nincluding training them, assigning and evaluating their work, and\\r\\nproviding job performance feedback;\\r\\n- Critically analyze fiscal and administrative policies, practices,\\r\\nprocedures, and systems, and recommend and implement changes as needed;\\r\\n- Gather and synthesize financial information from a variety of sources\\r\\nand present it to a variety of audiences with differing financial\\r\\nmanagement and analysis expertise;\\r\\n- Prepare detailed, comprehensive financial reports, including\\r\\nexplanatory text;\\r\\n- Operate IBM-compatible personal computer, including word processing,\\r\\nspreadsheet, and database software applications;\\r\\n- Operate specialized software applications that support the financial\\r\\nmanagement and budgeting functions.\\r\\nQualifications:\\r\\n- A minimum of 5-7 years Accounting/ Corporate Finance/ Banking\\r\\nexperience, including a role as a CFO;\\r\\n- Excellent finance and accounting technical skills coupled with a\\r\\ndemonstrated knowledge of all key financial functions in an consulting\\r\\ncompany context - accounting, finance, control, treasury, reserving, and\\r\\nreporting;\\r\\n- Strong financial planning and analytical skills and experience and the\\r\\nability to work closely with and support the CEO and other executives in\\r\\nstrategic development and implementation;\\r\\n- Excellent leadership, management and supervisory track record of\\r\\nattracting, selecting, developing, rewarding and retaining high-caliber,\\r\\naccounting and finance executive and teams who achieve business goals;\\r\\n- An undergraduate degree in finance, business, or other related\\r\\ndiscipline is required. A CPA, CFA, ACCA or other financial\\r\\ncertification is highly preferred, as is a Masters degree in Business\\r\\nAdministration, Accounting or Finance;\\r\\n- Fluency in English, Armenian and Russian with outstanding writing\\r\\nskills;\\r\\n- Excellent analytical, communication, teamwork, interpersonal skills;\\r\\n- Need to be well organized and detail-oriented as well as goal/ result\\r\\ndriven and able to deal with complex issues.\""
      ]
     },
     "execution_count": 26,
     "metadata": {},
     "output_type": "execute_result"
    }
   ],
   "source": [
    "jobs['combined'][0]"
   ]
  },
  {
   "cell_type": "code",
   "execution_count": null,
   "metadata": {},
   "outputs": [],
   "source": []
  },
  {
   "cell_type": "code",
   "execution_count": 27,
   "metadata": {},
   "outputs": [],
   "source": [
    "jobs[\"combined\"] = jobs[\"combined\"].astype(str).str.lower()\n",
    "jobs['combined'] = jobs['combined'].apply(remove_urls)\n",
    "jobs['combined'] = jobs['combined'].apply(remove_html)\n",
    "jobs['combined'] = jobs[\"combined\"].apply(unicodetoascii)\n",
    "jobs['combined'] = jobs['combined'].apply(remove_hyphens)\n",
    "jobs['combined'] = jobs['combined'].apply(remove_endlines)\n",
    "jobs['combined'] = jobs['combined'].apply(remove_punctuation)\n",
    "jobs['combined'] = jobs['combined'].apply(remove_stopwords)\n",
    "jobs['combined'] = jobs['combined'].apply(remove_digits)"
   ]
  },
  {
   "cell_type": "code",
   "execution_count": 28,
   "metadata": {},
   "outputs": [
    {
     "data": {
      "text/plain": [
       "'chief financial officer ameria investment consulting company seeking chief financial officer position manages companys fiscal administrative functions provides highly responsible technically complex staff assistance executive director work performed requires high level technical proficiency financial management investment management well management supervisory administrative skills supervises financial management administrative staff including assigning responsibilities reviewing employees work processes products counseling employees giving performance evaluations recommending disciplinary action serves member management team participating strategic operational planning company directs oversees companys financial management activities including establishing monitoring internal controls managing cash investments managing investment portfolio collaboration investment team leader includes limited evaluation investment risk concentration risk fund deployment levels adequacy loss liquidity reserves assists investment team development proper documentation internal systems directs oversees annual budgeting process including developing projections financial planning preparing budgets prepares external internal financial management reports audited financial statements tax returns reports board directors company staff develops implements maintains efficient effective accounting systems controls ensure compliance national international accounting standards principles sufficiency fund accounting comprehensiveness data reporting compliance requirements ensures contract compliance including interpreting monitoring contracts clients submitting required reports monitoring covenants contract terms oversees design implementation maintenance computer based information system oversees records retention manual computer based file maintenance activities serves companys risk manager including evaluating loss exposure obtaining insurance appropriate manages administrative operations facilities management payroll administration office operations administrative support monitors corporate compliance laws articles incorporation regarding corporate registration reporting fundraising operations perform job successfully individual must able perform essential duty satisfactorily requirements listed representative knowledge skill andor ability required knowledge generally accepted accounting principles local accounting standards legislation state reporting requirements pertaining accounting principles practices financial management budgeting principles practices financial systems design analysis principles practices contract management records management risk management principles practices management supervision principles practices information systems management ability apply sound fiscal administrative practices companys activities plan organize supervise work subordinate employees including training assigning evaluating work providing job performance feedback critically analyze fiscal administrative policies practices procedures systems recommend implement changes needed gather synthesize financial information variety sources present variety audiences differing financial management analysis expertise prepare detailed comprehensive financial reports including explanatory text operate ibm compatible personal computer including word processing spreadsheet database software applications operate specialized software applications support financial management budgeting functions qualifications minimum   years accounting corporate finance banking experience including role cfo excellent finance accounting technical skills coupled demonstrated knowledge key financial functions consulting company context accounting finance control treasury reserving reporting strong financial planning analytical skills experience ability work closely support ceo executives strategic development implementation excellent leadership management supervisory track record attracting selecting developing rewarding retaining high caliber accounting finance executive teams achieve business goals undergraduate degree finance business related discipline required cpa cfa acca financial certification highly preferred masters degree business administration accounting finance fluency english armenian russian outstanding writing skills excellent analytical communication teamwork interpersonal skills need well organized detail oriented well goal result driven able deal complex issues'"
      ]
     },
     "execution_count": 28,
     "metadata": {},
     "output_type": "execute_result"
    }
   ],
   "source": [
    "jobs['combined'][0]"
   ]
  },
  {
   "cell_type": "code",
   "execution_count": null,
   "metadata": {},
   "outputs": [],
   "source": [
    "jobs['combined'][201]"
   ]
  },
  {
   "cell_type": "code",
   "execution_count": null,
   "metadata": {},
   "outputs": [],
   "source": [
    "jobs['combined'][2003]"
   ]
  },
  {
   "cell_type": "code",
   "execution_count": null,
   "metadata": {
    "scrolled": true
   },
   "outputs": [],
   "source": [
    "jobs"
   ]
  },
  {
   "cell_type": "markdown",
   "metadata": {},
   "source": [
    "<br>\n",
    "<br>\n",
    "<br>\n",
    "<br>\n",
    "<br>\n",
    "\n",
    "## Train/Test Split"
   ]
  },
  {
   "cell_type": "code",
   "execution_count": 29,
   "metadata": {},
   "outputs": [
    {
     "data": {
      "text/plain": [
       "(array([1770., 2099., 2053., 2330., 2420., 2452.]),\n",
       " array([    0.        ,  3166.66666667,  6333.33333333,  9500.        ,\n",
       "        12666.66666667, 15833.33333333, 19000.        ]),\n",
       " <a list of 6 Patch objects>)"
      ]
     },
     "execution_count": 29,
     "metadata": {},
     "output_type": "execute_result"
    },
    {
     "data": {
      "image/png": "[encoded data removed]",
      "text/plain": [
       "<Figure size 432x288 with 1 Axes>"
      ]
     },
     "metadata": {
      "needs_background": "light"
     },
     "output_type": "display_data"
    }
   ],
   "source": [
    "indices = np.asarray(list(jobs.index.values))\n",
    "indices\n",
    "plt.hist(indices, bins=6)"
   ]
  },
  {
   "cell_type": "code",
   "execution_count": 30,
   "metadata": {},
   "outputs": [],
   "source": [
    "# reindex jobs 0-13123\n",
    "jobs.set_index(np.arange(13124), inplace=True)"
   ]
  },
  {
   "cell_type": "code",
   "execution_count": 31,
   "metadata": {},
   "outputs": [],
   "source": [
    "# test dataset is last 2000 entries of \n",
    "jobs_test = jobs['combined'].tail(2000).to_frame()"
   ]
  },
  {
   "cell_type": "code",
   "execution_count": 32,
   "metadata": {},
   "outputs": [],
   "source": [
    "# train dataset is first 11124 postings, change series to df\n",
    "jobs_train = jobs['combined'][:11124].to_frame()"
   ]
  },
  {
   "cell_type": "markdown",
   "metadata": {},
   "source": [
    "## gensim try\n",
    "\n"
   ]
  },
  {
   "cell_type": "code",
   "execution_count": 33,
   "metadata": {},
   "outputs": [],
   "source": [
    "from gensim.models import Doc2Vec\n",
    "from gensim.models.doc2vec import TaggedDocument\n",
    "from nltk import word_tokenize"
   ]
  },
  {
   "cell_type": "code",
   "execution_count": 34,
   "metadata": {},
   "outputs": [],
   "source": [
    "for i in jobs_test['combined']:\n",
    "    jobs_test['label'] = jobs_test['combined'].index\n",
    "for i in jobs_train['combined']:\n",
    "    jobs_train['label'] = jobs_train['combined'].index\n"
   ]
  },
  {
   "cell_type": "code",
   "execution_count": 35,
   "metadata": {},
   "outputs": [
    {
     "data": {
      "text/html": [
       "<div>\n",
       "<style scoped>\n",
       "    .dataframe tbody tr th:only-of-type {\n",
       "        vertical-align: middle;\n",
       "    }\n",
       "\n",
       "    .dataframe tbody tr th {\n",
       "        vertical-align: top;\n",
       "    }\n",
       "\n",
       "    .dataframe thead th {\n",
       "        text-align: right;\n",
       "    }\n",
       "</style>\n",
       "<table border=\"1\" class=\"dataframe\">\n",
       "  <thead>\n",
       "    <tr style=\"text-align: right;\">\n",
       "      <th></th>\n",
       "      <th>combined</th>\n",
       "      <th>label</th>\n",
       "    </tr>\n",
       "  </thead>\n",
       "  <tbody>\n",
       "    <tr>\n",
       "      <th>0</th>\n",
       "      <td>chief financial officer ameria investment cons...</td>\n",
       "      <td>0</td>\n",
       "    </tr>\n",
       "    <tr>\n",
       "      <th>1</th>\n",
       "      <td>country coordinator public outreach strengthen...</td>\n",
       "      <td>1</td>\n",
       "    </tr>\n",
       "    <tr>\n",
       "      <th>2</th>\n",
       "      <td>bcc specialist lead local enhancement developm...</td>\n",
       "      <td>2</td>\n",
       "    </tr>\n",
       "    <tr>\n",
       "      <th>3</th>\n",
       "      <td>community development capacity building confli...</td>\n",
       "      <td>3</td>\n",
       "    </tr>\n",
       "    <tr>\n",
       "      <th>4</th>\n",
       "      <td>country economist nob united nations developme...</td>\n",
       "      <td>4</td>\n",
       "    </tr>\n",
       "  </tbody>\n",
       "</table>\n",
       "</div>"
      ],
      "text/plain": [
       "                                            combined  label\n",
       "0  chief financial officer ameria investment cons...      0\n",
       "1  country coordinator public outreach strengthen...      1\n",
       "2  bcc specialist lead local enhancement developm...      2\n",
       "3  community development capacity building confli...      3\n",
       "4  country economist nob united nations developme...      4"
      ]
     },
     "execution_count": 35,
     "metadata": {},
     "output_type": "execute_result"
    }
   ],
   "source": [
    "# see labels applied\n",
    "jobs_train.head()"
   ]
  },
  {
   "cell_type": "code",
   "execution_count": 36,
   "metadata": {},
   "outputs": [],
   "source": [
    "# TaggedDocumentIterator class takes pandas text and label Series and yields TaggedDocuments\n",
    "class TaggedDocumentIterator(object):\n",
    "    def __init__(self, doc_list, labels_list):\n",
    "        self.labels_list = labels_list\n",
    "        self.doc_list = doc_list\n",
    "    def __iter__(self):\n",
    "        for idx, doc in enumerate(self.doc_list):\n",
    "            yield TaggedDocument(words=doc.split(), tags=[self.labels_list[idx]])\n",
    " \n",
    "docLabels = list(jobs_train['label'])\n",
    "data = list(jobs_train['combined'])\n",
    "sentences = TaggedDocumentIterator(data, docLabels)"
   ]
  },
  {
   "cell_type": "code",
   "execution_count": null,
   "metadata": {},
   "outputs": [],
   "source": []
  },
  {
   "cell_type": "code",
   "execution_count": 37,
   "metadata": {},
   "outputs": [
    {
     "name": "stderr",
     "output_type": "stream",
     "text": [
      "/home/ec2-user/new2env/lib64/python3.6/site-packages/ipykernel_launcher.py:5: DeprecationWarning: Call to deprecated `iter` (Attribute will be removed in 4.0.0, use self.epochs instead).\n",
      "  \"\"\"\n"
     ]
    }
   ],
   "source": [
    "# train Doc2Vec model\n",
    "\n",
    "model = Doc2Vec(vector_size=100, window=10, min_count=5, workers=11,alpha=0.025, epochs=20)\n",
    "model.build_vocab(sentences)\n",
    "model.train(sentences,total_examples=model.corpus_count, epochs=model.iter)"
   ]
  },
  {
   "cell_type": "code",
   "execution_count": 38,
   "metadata": {},
   "outputs": [],
   "source": [
    "# Store the model to map-able files\n",
    "model.save('/tmp/model_job_train_docsimilarity.doc2vec')\n",
    "# Load the model\n",
    "model = Doc2Vec.load('/tmp/model_job_train_docsimilarity.doc2vec')"
   ]
  },
  {
   "cell_type": "code",
   "execution_count": 39,
   "metadata": {},
   "outputs": [
    {
     "data": {
      "text/plain": [
       "gensim.models.keyedvectors.Doc2VecKeyedVectors"
      ]
     },
     "execution_count": 39,
     "metadata": {},
     "output_type": "execute_result"
    }
   ],
   "source": [
    "type(model.docvecs)"
   ]
  },
  {
   "cell_type": "markdown",
   "metadata": {},
   "source": [
    "need to change this (below) to match my use case. <br>\n",
    "credit: https://praveenbezawada.com/2018/01/25/document-similarity-using-gensim-dec2vec/"
   ]
  },
  {
   "cell_type": "code",
   "execution_count": 40,
   "metadata": {},
   "outputs": [
    {
     "name": "stdout",
     "output_type": "stream",
     "text": [
      "Random int 101\n",
      "Random int + 11124 = 11225\n",
      "Text is: translator scope current project company looking suitable candidate position translator translate letters faxes essential documents contracts addendums agreements minutes meetings documents required armenian english language vice versa responsible technical legal translation correspondence materials english armenian language vice versa well typing copying maintaining office files performing office duties instructed responsible arrangement participation simultaneous interpretation meetings negotiations branch counterparts maintain records files mentioned activities support project manager commercial manager branch staff perform branchs activities instructed responsible administrative works required branch degree linguistic university specialization english language least  years experience translator interpreter armenia fluency english armenian russian languages excellent written oral communication skills working knowledge ms office word excel power point\n",
      "label is: 11225\n",
      "\n",
      "~~~~~similars are~~~~~:\n",
      "i[0]:  9408  i[1]:  0.4175528585910797\n",
      "administrative project assistant gef unido cleantech programme cleantech armenia small businesses seeks strengthen national policy promoting innovations clean technologies cross sectoral multi tiered approach view build sustainable ecosystem innovative entrepreneurship small businesses project focus fostering emerging clean technology start ups armenia enhancing engagement private sector scaling momentum sustainable development strengthening policy framework required cleantech armenia employs competition based ecosystem approach identify promising entrepreneurs across country local business acceleration programme supports promotes de risks participating companies connects potential investors customers partners project led local executing partner supported local stakeholders advisors integral part project development institutional capacity local implementing partners typically government agencies focused small businesses development clean technology innovation furthermore project seeks reinforce strengthen connect existing country initiatives rather duplicate existing activities project  substantive components component  institutional capacity building output  national industrial associations smes involved capacity building initiatives output  mentor programme  mentors identified trained output  training programme intensive cleantech academy held seed stage cleantech investors utilizing best practices regions output  public private partnership forums organized component  support organization clean technology innovation competition programme output  national level coordinating mechanism established promote clean technology innovations entrepreneurship amongst smes output  annual cleantech business competition accelerator established across selected clean energy sectors output  extensive advocacy outreach activities organized national level willing participants identified participation cleantech platform component  policy regulatory framework output  enabling policy regulatory environment created output  regional stakeholder meetings consultations held partnerships developed working closely national project coordinator npc project assistant play key support role day day basis ensuring project activities would implemented successfully adequate knowledge office procedures filing experience maintaining accounts backstopping missions carry duties activities listed assist npc preparation organization events awareness raising seminars training workshops mentoring evaluation sessions etc assist npc implementation outreach programmes events activities website publications etc assist npc organizing national project steering committee meetings meetings required assist npc negotiations correspondence well organizing regular meetings stakeholders armenia cleantech initiative assist npc coordination monitoring work local consultants project partners provide assistance competition entrants trainers evaluators judges mentors inform npc risks issues associated needed outputs provide administrative support daily management planning implementation coordination project activities achievements specified project document line gef unido government procedures establish project level budget monitoring reporting system assist preparation timely submission quarterly project work plans reports provide logistical support unido staff international project consultants travel arrangements per project implementation plans required budgets human resources draft pre screen archive project correspondences line unido procedures maintain records project deliverables documents files equipment materials part project ensure preparation clear evaluation process perform duties assigned unido project manager npc output course assignment project assistant provide inputs assist project coordinator successful implementation project activities activities carried assignment shall finalized later end contract  december  written materials submitted unido quality additional editing required  years administrative clerical experience development projects experience gef un projects asset excellent command office software word processors spreadsheets databases proven ability draft edit produce written proposals result focused reports experience working government donor civil society international organizations including un asset ability quickly grasp synthesize inputs range disciplines skills strong interpersonal communication skills planning organizational skills ability work pressure result oriented self motivated ability work minimum supervision team oriented work style excellent writing editing skills strong computer skills microsoft office internet email languages fully proficient armenian language good command english language speaking writing \n",
      "\n",
      "i[0]:  252  i[1]:  0.38502222299575806\n",
      "logistics executive organizing logistics procurement poultry industry companies mostly included imports feed components abroad finding new partners keeping relations old partners signing contracts organizing transportation till final destination job related duties good knowledge english russian valid drivers license ready travel needed experience foreign trade relations knowledge armenian customs legislation plus vehicle cellphone desireable \n",
      "\n",
      "i[0]:  597  i[1]:  0.37685108184814453\n",
      "responsible international relations trainings looking person responsible international relations trainings financial intelligence unit board central bank armenia herein fiu maintain formal informal relations mailing informational exchange foreign international organizations conducting activity field anti money laundering combating terrorist financing herein amlcft well foreign fius maintain secretary relations mentioned entities includes monitoring responsibilities derived memorandums agreements armenian fiu responsible translations materials english russian armenian vice versa responsible organizational part trainings forums seminars public awareness study programs provide professional assistance trainings reporting entities stakeholders field amlcft respective hisher proficiency field higher education  years work experience fields translation well international organizations private public organizations engaged activities including international relations skills competence folloing fields law republic armenia amlcft well international standards laws related mentioned field central bank armenia laws codes general standards ethics superior knowledge english russian armenian languages translation also simultaneous skills communication organizational skills hr management skills \n",
      "\n",
      "i[0]:  115  i[1]:  0.3609381318092346\n",
      "administrative assistant armenian forests ngo funding tufenkian foundation seeks candidates two positions expanding project full time part timesee following sentence administrative assistant position available ambitious goal oriented environmental project first choice find right person full time however may possibility someone half time position first half day responsibilities include assisting staff supervisors coordinators daily operations conducting correspondence project maintaining files records project activities interpretation translations arranging coordinating meetings counterparts andor clients receiving visitors telephone calls etc coordinating supplies services office performing activities prescribed immediate supervisor candidates must university degree excellent computer skills word processing spreadsheets etc excellent oral written armenian english language skills excellent people skills excellent experience managing correspondence ability complete multiple challenging tasks beneficial excellent oral written russian language skills experience western offices local offices international organizations knowledge environmental issues understanding business economics \n",
      "\n",
      "i[0]:  3703  i[1]:  0.3574278950691223\n",
      "project assistant within anti trafficking activities cooperation ministry labour social issues mlsi republic armenia osce office yerevan announces vacancy position project assistant relevant experience anti trafficking project assistance field project assistant assist implementation programmatic activities anti trafficking support resource unit atsru established mlsi atsru activities aim support armenia efforts achieve better results combating trafficking ensure efficient implementation activities within thematic area assigned contribute preparation translation submission reports operational status project implementing responsible partners donors based needs suggestions interested anti trafficking actors assist atsru organizing trainingsdiscussions various anti trafficking issues maintain communication correspondence national partners international experts needed provide necessary technical assistance organization trainings thematic discussions meetings study tours marz visits well pre post meeting technical support anti trafficking inter agency commission iac working group translation interpretation atsru staff required university degree humanities socialpolitical sciences international relations administrative related field minimum three years administrative work experience international non governmental organizations ability manage multiple tasks excellent communications teamwork organizational skills experience organizingfacilitating various seminarsworkshops excellent knowledge english language excellent computer skills \n",
      "\n",
      "i[0]:  9407  i[1]:  0.3493674397468567\n",
      "national project coordinator npc gef unido cleantech programme cleantech armenia small businesses seeks strengthen national policy promoting innovations clean technologies cross sectoral multi tiered approach view build sustainable ecosystem innovative entrepreneurship small businesses project focus fostering emerging clean technology start ups armenia enhancing engagement private sector scaling momentum sustainable development strengthening policy framework required cleantech armenia employs competition based ecosystem approach identify promising entrepreneurs across country local business acceleration programme supports promotes de risks participating companies connects potential investors customers partners project led local executing partner supported local stakeholders advisors integral part project development institutional capacity local implementing partners typically government agencies focused small businesses development clean technology innovation furthermore project seeks reinforce strengthen connect existing country initiatives rather duplicate existing activities project  substantive components component  institutional capacity building output  national industrial associations smes involved capacity building initiatives output  mentor programme  mentors identified trained output  training programme intensive cleantech academy held seed stage cleantech investors utilizing best practices regions output  public private partnership forums organized component  support organization clean technology innovation competition programme output  national level coordinating mechanism established promote clean technology innovations entrepreneurship amongst smes output  annual cleantech business competition accelerator established across selected clean energy sectors output  extensive advocacy outreach activities organized national level willing participants identified participation cleantech platform component  policy regulatory framework output  enabling policy regulatory environment created output  regional stakeholder meetings consultations held partnerships developed npc national expert proven competence area environment energy technologies development well clean technologies shall demonstrated experience execution management energy greenhouse gases related projects involving dialogue different stakeholders supervision several teams activities npc good leadership oral communication drafting skills willingness work individually well part team national project coordinator npc overall responsibility management effective execution project achievements planned outputs set objectives npc responsible ensuring relevant partners institutional stakeholders involved informed appropriate order ensure optimum cooperation npc play key role project activities npc responsible also coordination project management unit pmu comprising npc full time project administrative assistant technical managerial supervision support unidos project manager periodic consultation national project steering committee psc ongoing dialogue key project partners npc responsible daily management project ensure project effectively smoothly implemented specifically npc expected carry duties activities listed project management lead manage coordinate day day operations project management unit pmu including administration accounting reporting plan coordinate implement project activities effectively efficiently according specifications outlined project document line procedures guidelines gef unido government armenia manage day day project implementation planning coordination stakeholders close consultation project execution partners project stakeholders lead formation national project steering committee psc including definition terms reference modus operandi prepare action plans required budgets human resources project output key project activities present psc approval endorsement analyze evaluate achieved results regularly ensure project meeting target beneficiaries needs communicate psc members take prompt corrective actions needed record report resolve project issues occurring implementation within tolerance level initially defined psc consult unido project manager issues procurement goods services project preparation subcontractors terms reference identification selection national regional international subcontractors cost estimation time scheduling contracting reporting forward planning project activities budget consult unido project manager planning organizing participating transparent procurement request proposals process selection potential service providers project components ensure preparation clear evaluation process coordinate activities consultants subcontractors including contract management direction supervision field operations logistical support review technical outputs reports measurement assessment project achievements cost control provide logistical support international consultants missions armenia national consultants review reports update stakeholders project execution conduct proper effective transparent communications negotiations stakeholders armenia cleantech initiative achieve mutual understanding desired outcomes document collaboration agreements liaise project participants prepare logistics arrangements implementation action plan discuss deal local national authorities matters pertaining activities described project document advise project counterparts applicable administration ensure implementation maintenance proper electronic paper filing systems include limited payment requisitions formats reporting formats templates plan organize psc regular meetings including drafting agendas preparation circulation meeting documents prepare present status project implementation budget expenditures planned project actual achievements well impact outcome activity implemented preparing minutes lead conduct negotiations contractors translation training materials assist design supervision possible delivery training outreach activities project take lead role organization project workshops awareness raising seminars mentoring evaluation sessions dissemination project results provide assistance competition entrants trainers evaluators judges mentors lead supervise assist identification selection mentors trained successful run cleantech competition technical guidance provided unido international experts lead supervise assist activities publicize project achievements project reporting line unido gef requirements templates prepare following reports documents quarterly progress financial reports b annual project implementation review reports c biannual updates detailed working plans following  month periods relevant resources budget requirements submit annual performance appraisal national project administrative assistant submit  page evaluation experts recruited services providers working project monitor continuously project activities execution performance track progress towards milestones indicated plan ceo endorsement document provide information monitoring required unido pm collect register maintain information project activities reviewing reports first hand sources assist evaluation project specified project document line applicable gef unido government armenia guidelines maintain records project deliverables documents files equipment materials part project project contingent activities carry ad hoc activities might become needed project implementation carry activities related project assigned unido project manager written materials submitted unido quality additional technical editing required npc required also submit quarterly reports final summary country travels main activities reports must english submitted electronic format activities carried assignment shall finalized later end contract  december  qualified professional advanced degree relevant business administration international relations engineering energy policies economics related fields least  years managerial experience least  years experience management development projects armenia experience management innovation technology development deployment experience support programmes business start ups considered asset ability draft edit produce written proposals result focused reports excellent command office software word processors spreadsheets databases knowledge gef un organization project programme management processes procedures knowledge unido additional asset experience working government donors civil society well international organizations good understanding knowledge environment energy technology development innovations policy practices  years relevant experience armenia extensive knowledge clean technologies skills strong interpersonal communication skills excellent networking skills planning organizational skills ability work pressure result oriented self motivated ability work minimum supervision team oriented work style excellent writing editing skills ability take decisions strong computer skills microsoft office internet email languages fully proficient armenian language good command english language speaking writing \n",
      "\n",
      "i[0]:  152  i[1]:  0.335679829120636\n",
      "secretarychancellery clerk procredit bank georgia announces vacancy secretarychancellery clerk central branch tbilisi duties include office related secretarial work higher education desirably supplemented certified studies office administration secretarial work translationinterpretation knowledge practices procedures involved office environment computer literate practical experience microsoft packages word excel e mail ability complete tasks assigned deadlines flexibility service minded approach work good organizational skills languages excellent written verbal communication skills georgian russian english certain working experience area administration secretary office assistant etc \n",
      "\n",
      "i[0]:  7153  i[1]:  0.3348749876022339\n",
      "national legal officer osce office yerevan invites applications highly qualified energetic experienced armenian professionals extra budgetary exb post national legal officer good governance unit office post duration limited project activities till july  overall guidance deputy head office good governance officer direct supervision national programme officer good governance programme incumbent provide advice input legal matters project implementation unit piu relate interpretation electoral code armenia implementation project activities particular incumbent required check training materials brochures psas consistency provisions electoral code including amendments occur also view expected increase workload fund administration unit fau incumbent expected assist piu fau staff contractual matters legal matters related project implementation proper implementation duties incumbent required maintain relations project partners various levels provide day day legal assistance piu office staff including fau maintaining contacts state bodies responsible election administration interpretation provisions electoral code legal documents related conduct elections assisting piu implementing partners drafting manuals training materials training election officials domestic observers law enforcement personnel charge investigating prosecuting possible electoral violations check consistency electoral code advising piu fau staff contractual matters legal matters related project implementation performing duties required first level university degree law political science public administration least  years legal experience preferably field elections public administration political party including experience working international organizations proven knowledge election administration system armenia computer literacy practical experience microsoft packages excellent written oral communication skills english russian local language ability work people different nationalities religions cultural backgrounds demonstrated gender awareness sensitivity ability integrate gender perspective tasks activities availability valid driving license \n",
      "\n",
      "i[0]:  10473  i[1]:  0.33180534839630127\n",
      "secretary referent market rf llc looking secretary referent responsible coordinating controlling executing document flow process company answer incoming phone calls take messages pass corresponding employees make copies scans send well manage correspondence responsible input corresponding data information systems management system company arrange meetings retrieve related informational materials maintain correspondence coordinate small projects tasks completely coordinate work partners perform related work required university degree least  year work experience secretary referent related sphere knowledge fundamentals clerical administrative framework fluent knowledge armenian russian languages knowledge english language asset responsible operative punctual personality high organizational skills attention details ability accomplish tasks specified deadlines excellent negotiation presentation skills advanced computer skills \n",
      "\n",
      "i[0]:  6736  i[1]:  0.3215305805206299\n",
      "chinese language specialist national instruments seeking chinese language specialists provide translations office administration operations support marketing coordination translate documents technical terminology armenian russian english chinese language vice versa responsible office administration responsible operations support responsible marketing coordination university degree relevant field linguistics philology foreign languages knowledge chinese language excellent knowledge armenian russian english languages \n",
      "\n"
     ]
    }
   ],
   "source": [
    "\n",
    "def general_test_predict():\n",
    "    #Select a random int from 0 to length of training set\n",
    "    rand_int = np.random.randint(0, jobs_test.shape[0])\n",
    "    print ('Random int {}'.format(rand_int))\n",
    "    print ('Random int + 11124 = {}'.format(rand_int+11124))\n",
    "    pick_text = jobs_test.iloc[rand_int]['combined']\n",
    "    print('Text is: {}'.format(pick_text))\n",
    "    pick_label = jobs_test.iloc[rand_int, jobs_test.columns.get_loc('label')] #we could grab label, but this works for non-indexed labels\n",
    "    print('label is: {}'.format(pick_label))\n",
    "\n",
    "    ####I didn't do his cleaning because I did my own. Need cleaning maybe on other stuff?\n",
    "    #Clean the document using the utility functions used in train phase\n",
    "    #test_sample = default_clean(test_sample)\n",
    "    #test_sample = stop_and_stem(test_sample, stem=False)\n",
    " \n",
    "    #Convert the sample document into a list and use the infer_vector method to get a vector representation for it\n",
    "    pick_words = pick_text.split()\n",
    "    pick_vec = model.infer_vector(pick_words, steps=50, alpha=0.25)\n",
    "    #print('split words is: {}'.format(pick_words))\n",
    "    #print('vector is: {}'.format(pick_vec))\n",
    " \n",
    "    #use the most_similar utility to find the most similar documents.\n",
    "    similars = model.docvecs.most_similar(positive=[pick_vec])\n",
    " \n",
    "    print('\\n~~~~~similars are~~~~~:')\n",
    "    for i in similars:\n",
    "        print('i[0]: ', i[0], ' i[1]: ', i[1])\n",
    "        print(jobs_train.iloc[i[0]]['combined'],  '\\n')\n",
    "\n",
    "general_test_predict()"
   ]
  },
  {
   "cell_type": "code",
   "execution_count": null,
   "metadata": {},
   "outputs": [],
   "source": []
  },
  {
   "cell_type": "code",
   "execution_count": 41,
   "metadata": {},
   "outputs": [],
   "source": [
    "# def resume_test_predict(pick_a_resume_number):\n",
    "def resume_test_predict():\n",
    "    print(\"There are {} resumes\\n\".format(df.shape[0]))\n",
    "    \n",
    "    # Select a random int from 0 to length of resume set\n",
    "    rand_int = np.random.randint(1, df.shape[0]+1)\n",
    "    # selection = pick_a_resume_number\n",
    "    selection = rand_int\n",
    "    print ('selected resume is ID #{}\\n'.format(selection))\n",
    "    \n",
    "    # pick the resume text and ID associated with the random int\n",
    "    pick_text = df.iloc[selection -1 ]['resume']\n",
    "    pick_label = df.iloc[selection -1, df.columns.get_loc('ID')] #we could grab ID, but this works for non-indexed labels too\n",
    "    print('Resume ID is: {}'.format(pick_label))\n",
    "    print('Resume text: {}'.format(pick_text))\n",
    "    \n",
    "    ####I didn't do his cleaning because I did my own. Need cleaning maybe on other stuff?\n",
    "    #Clean the document using the utility functions used in train phase\n",
    "    #test_sample = default_clean(test_sample)\n",
    "    #test_sample = stop_and_stem(test_sample, stem=False)\n",
    " \n",
    "    #Convert the sample document into a list and use the infer_vector method to get a vector representation for it\n",
    "    pick_words = pick_text.split()\n",
    "    pick_vec = model.infer_vector(pick_words, steps=50, alpha=0.25)\n",
    "    #print('split words is: {}'.format(pick_words))\n",
    "    #print('vector is: {}'.format(pick_vec))\n",
    " \n",
    "    #use the most_similar utility to find the most similar documents.\n",
    "    similars = model.docvecs.most_similar(positive=[pick_vec])\n",
    " \n",
    "    print('\\n\\n\\t\\tSimilar job descriptions to this resume:')\n",
    "    \n",
    "    count = 1\n",
    "    for i in similars:\n",
    "        print('\\nSimilar job number: {}'.format(count))\n",
    "        count += 1\n",
    "        print('Job ID ', i[0], ' Similarity Score: ', i[1])\n",
    "        \n",
    "        # pulls combined text from jobs_train \n",
    "        #print(jobs_train.iloc[i[0]]['combined'],  '\\n')\n",
    "\n",
    "        # pulls job title and description from jobs.txt\n",
    "        print('Job title: {}'.format(jobs.iloc[i[0]]['Title']))\n",
    "        print('Company: {}'.format(jobs.iloc[i[0]]['Company']))\n",
    "        print('Description: {}'.format(jobs.iloc[i[0]]['JobDescription']))\n",
    "        \n",
    "        \n"
   ]
  },
  {
   "cell_type": "code",
   "execution_count": 42,
   "metadata": {
    "scrolled": false
   },
   "outputs": [
    {
     "name": "stdout",
     "output_type": "stream",
     "text": [
      "There are 1219 resumes\n",
      "\n",
      "selected resume is ID #1184\n",
      "\n",
      "Resume ID is: 1184\n",
      "Resume text: nadine wilkie make uphair artist resume mobile    website nadinenadinewilkiecom nadinewilkieaolcom feature films  fools gold warner bros director andy tennant hod nikki gooley make uphair artist  waterhorse beacon pictures scottish unit director jay russell hod nikki gooley make uphair artist  plans man human flower films director rachael bernsousa make uphair designer  charlie chocolate factory warner bros director tim burton hod peter owen make uphair additional  star wars ep iii lucas film australian english unit director george lucas hod nikki gooley oscar nomination  saturn award winner  make assistant  peter pan universalcolumbia pictures director pj hogan hod nikki gooley make assistant  danny deckchair crusader entertainment director jeff balsmeyer hod stephanie larman make uphair artist  ghostship dark castle entertainment director steven beck hod nikki gooley make assistant  matrix reloaded revolutions make uphair additional warner bros directors larry andy wachowski hod peter robb king  kangaroo jack jerry bruckheimer productions director peter bloomfield hod viv mepham nd unit sydney make uphair artist  quiet american imf productions director phillp noyce hod margaret stephenson make uphair additional xcfeature films continued  star wars ii lucas film director george lucas hod lesley vanderwalt make uphair additional  moulin rouge bazmark productions director baz luhrmann hod lesley vanderwalt make additional  matrix warner bros director larry andy wachowski hod nikki gooley make uphair additonal   babe pig city kennedy miller productions director george miller hod lesley vanderwalt make additional commercialsepkcorporateviral royal wedding coverage  seven network amourage honour fragrance short film home films asda kids  cotton flynn productions nokia arabic virals unit  hsbc worlds private bank corporate big time pictures kfc boneless banquet duke ltd  mobile uk rsa films channel  life uk smithereen productions radio heartthe futureheads music video uk grasshopper films mini uk rsa films evans uk rsa films channel  fifth gear indent channel five channel five pirate ship indent channel five ernst young corporate uk barford film company golden compass epk phillp pullmanchris weitz specialtreatsproductions xccommercials continued foxtel uk tv aus black crow productions nestle nesquick cubby aus black crow productions weighwatchers aus black crow productions siemans phonesaus one trick pony roads traffic authorityaus silverscreen productions make uphair artist nikki gooley singapore airlines aus chess pieces tooting bec productions make uphair artist yvonne savage jatzsavoy crackers aus hat productions make uphair artist nikki gooley gravox aus silverscreen productions make uphair artist nikki gooley sunsilk big bankshineaus  commercials make artist nikki gooley addition bafta jury make hair  teach make london make academy london media make\n",
      "\n",
      "\n",
      "\t\tSimilar job descriptions to this resume:\n",
      "\n",
      "Similar job number: 1\n",
      "Job ID  6851  Similarity Score:  0.4477859139442444\n",
      "Job title: Sport Journalist\n",
      "Company: News.am Information-Analytic Agency LLC\n",
      "Description: News.am Information-Analytic Agency LLC invites a Sport\r\n",
      "Journalist to cover sport news.\n",
      "\n",
      "Similar job number: 2\n",
      "Job ID  6625  Similarity Score:  0.4326692521572113\n",
      "Job title: Merchandiser\n",
      "Company: British American Tobacco Armenia\n",
      "Description: The position is in charge for all the mentioned\r\n",
      "territories near Yerevan: Abovyan, Echmiadzin, Massis, Armavir, Vedi,\r\n",
      "Ararat, Hrazdan, Sevan, etc.\n",
      "\n",
      "Similar job number: 3\n",
      "Job ID  1307  Similarity Score:  0.4221172630786896\n",
      "Job title: Staff Writer: Art & Culture\n",
      "Company: Armenian International Magazine (AIM)\n",
      "Description: AIM is looking for two energetic and diligent Writers\r\n",
      "to cover the arts and culture scene in Armenia.\r\n",
      "The primary base of this position is Yerevan, but candidates from\r\n",
      "different regions of Armenia may be assinged to work in their designated\r\n",
      "region.\n",
      "\n",
      "Similar job number: 4\n",
      "Job ID  3571  Similarity Score:  0.414035826921463\n",
      "Job title: Bank Accountant\n",
      "Company: \"K-Telecom\" CJSC /VivaCell/\n",
      "Description: The incumbent will be responsible for the control of\r\n",
      "Bank In accounts and processing other banking transactions.\n",
      "\n",
      "Similar job number: 5\n",
      "Job ID  7413  Similarity Score:  0.41064566373825073\n",
      "Job title: Web Game Developer\n",
      "Company: Game Theorem\n",
      "Description: The Web Game Developer will work in the game\r\n",
      "development team to develop and maintain front-ends of proprietary gaming\r\n",
      "applications using Javascript and HTML5. The incumbent will create gaming\r\n",
      "applications designed to run a common Javascript code base for use on web\r\n",
      "and mobile platforms, including Android, iPhone, Blackberry, Symbian and\r\n",
      "Windows Mobile. He/ she will apply best practice methodologies to ensure\r\n",
      "development of scalable, high-quality and feature-rich games.\n",
      "\n",
      "Similar job number: 6\n",
      "Job ID  8764  Similarity Score:  0.4058333933353424\n",
      "Job title: Social Marketing Content Developer\n",
      "Company: Sourcio CJSC\n",
      "Description: The Social Marketing Content Developers (SMCD) role is\r\n",
      "to manage the day-to-day content that PicsArt publishes on company's\r\n",
      "blog, Facebook page, Twitter feed, Pinterest boards, and G+ page. The\r\n",
      "SMCD will work with company's internal marketing team and with its\r\n",
      "rabidly loyal user base to develop unique new content and aggressively\r\n",
      "grow its following across various social media channels.\n",
      "\n",
      "Similar job number: 7\n",
      "Job ID  454  Similarity Score:  0.39789503812789917\n",
      "Job title: Cartoon Artist\n",
      "Company: Lycos Europe\n",
      "Description: At Lycos we are developing a lot of new online games\r\n",
      "for the internet. Every game has its own little world and its own\r\n",
      "cartoon characters. We are looking for 4-5 skilled graphic artists and\r\n",
      "designers to make everything from the game concept, to the finished\r\n",
      "graphics result. We do not require any education, the most important\r\n",
      "thing for us is that you are very skilled in art and drawing cartoons\r\n",
      "and characters.\n",
      "\n",
      "Similar job number: 8\n",
      "Job ID  2492  Similarity Score:  0.39297476410865784\n",
      "Job title: Brand Manager\n",
      "Company: Gritti  LLC\n",
      "Description: Gritti LLC is looking for a qualified person to work\r\n",
      "as a Brand Manager in a clothes shop.\n",
      "\n",
      "Similar job number: 9\n",
      "Job ID  11073  Similarity Score:  0.3915696144104004\n",
      "Job title: Supply Manager/ Van Seller\n",
      "Company: Aras Food LLC\n",
      "Description: \"Aras-Food\" LLC is looking for qualified candidates for\r\n",
      "the position of Supply Manager/ Van Seller for delivering food and\r\n",
      "washing materials.\n",
      "\n",
      "Similar job number: 10\n",
      "Job ID  2642  Similarity Score:  0.38968542218208313\n",
      "Job title: WTM Credit Facility Assistant\n",
      "Company: \"Rural Finance Facility-Project Implementation Unit\" SI\n",
      "Description: Reporting to the RFF Director and Senior Loan/Credit\r\n",
      "Provider Monitoring Specialist for the WTM Credit Facility, Assistant\r\n",
      "will be primarily responsible for providing English/Armenian\r\n",
      "translation/interpreting services and for ensuring administrative\r\n",
      "support to the RFF WTM Credit Facility Department.\n"
     ]
    }
   ],
   "source": [
    "resume_test_predict()"
   ]
  },
  {
   "cell_type": "code",
   "execution_count": null,
   "metadata": {},
   "outputs": [],
   "source": []
  },
  {
   "cell_type": "markdown",
   "metadata": {},
   "source": [
    "#### Still need to get rid of the 'xefxxb' in resumes"
   ]
  },
  {
   "cell_type": "code",
   "execution_count": null,
   "metadata": {},
   "outputs": [],
   "source": []
  },
  {
   "cell_type": "code",
   "execution_count": null,
   "metadata": {},
   "outputs": [],
   "source": []
  },
  {
   "cell_type": "markdown",
   "metadata": {},
   "source": [
    "# K Means Clustering\n",
    "Appears that our embeddings are pretty close together. So either the resumes are similar or the embeddings aren't great"
   ]
  },
  {
   "cell_type": "markdown",
   "metadata": {},
   "source": [
    "https://medium.com/@ermolushka/text-clusterization-using-python-and-doc2vec-8c499668fa61"
   ]
  },
  {
   "cell_type": "code",
   "execution_count": 93,
   "metadata": {},
   "outputs": [],
   "source": [
    "from sklearn.cluster import KMeans\n",
    "from sklearn.decomposition import PCA"
   ]
  },
  {
   "cell_type": "markdown",
   "metadata": {},
   "source": [
    "### KMeans with 2 clusters"
   ]
  },
  {
   "cell_type": "code",
   "execution_count": 94,
   "metadata": {},
   "outputs": [
    {
     "name": "stderr",
     "output_type": "stream",
     "text": [
      "/home/ec2-user/new2env/lib64/python3.6/site-packages/ipykernel_launcher.py:2: DeprecationWarning: Call to deprecated `doctag_syn0` (Attribute will be removed in 4.0.0, use docvecs.vectors_docs instead).\n",
      "  \n",
      "/home/ec2-user/new2env/lib64/python3.6/site-packages/ipykernel_launcher.py:6: DeprecationWarning: Call to deprecated `doctag_syn0` (Attribute will be removed in 4.0.0, use docvecs.vectors_docs instead).\n",
      "  \n",
      "/home/ec2-user/new2env/lib64/python3.6/site-packages/ipykernel_launcher.py:7: DeprecationWarning: Call to deprecated `doctag_syn0` (Attribute will be removed in 4.0.0, use docvecs.vectors_docs instead).\n",
      "  import sys\n",
      "/home/ec2-user/new2env/lib64/python3.6/site-packages/ipykernel_launcher.py:8: DeprecationWarning: Call to deprecated `doctag_syn0` (Attribute will be removed in 4.0.0, use docvecs.vectors_docs instead).\n",
      "  \n"
     ]
    },
    {
     "data": {
      "image/png": "[encoded data removed]",
      "text/plain": [
       "<Figure size 432x288 with 1 Axes>"
      ]
     },
     "metadata": {
      "needs_background": "light"
     },
     "output_type": "display_data"
    }
   ],
   "source": [
    "kmeans_model = KMeans(n_clusters=2) \n",
    "X = kmeans_model.fit(model.docvecs.doctag_syn0)\n",
    "labels=kmeans_model.labels_.tolist()\n",
    "\n",
    "\n",
    "l = kmeans_model.fit_predict(model.docvecs.doctag_syn0)\n",
    "pca = PCA(n_components=2).fit(model.docvecs.doctag_syn0)\n",
    "datapoint = pca.transform(model.docvecs.doctag_syn0)\n",
    "\n",
    "plt.figure\n",
    "label1 = [\"#FFFF00\", \"#008000\", \"#0000FF\", \"#800080\"]\n",
    "color = [label1[i] for i in labels]\n",
    "plt.scatter(datapoint[:, 0], datapoint[:, 1], c=color)\n",
    "\n",
    "centroids = kmeans_model.cluster_centers_\n",
    "centroidpoint = pca.transform(centroids)\n",
    "plt.scatter(centroidpoint[:, 0], centroidpoint[:, 1], marker='^', s=150, c='#000000')\n",
    "plt.show()"
   ]
  },
  {
   "cell_type": "markdown",
   "metadata": {},
   "source": [
    "### KMeans with 3 clusters"
   ]
  },
  {
   "cell_type": "code",
   "execution_count": 91,
   "metadata": {},
   "outputs": [
    {
     "name": "stderr",
     "output_type": "stream",
     "text": [
      "/home/ec2-user/new2env/lib64/python3.6/site-packages/ipykernel_launcher.py:2: DeprecationWarning: Call to deprecated `doctag_syn0` (Attribute will be removed in 4.0.0, use docvecs.vectors_docs instead).\n",
      "  \n",
      "/home/ec2-user/new2env/lib64/python3.6/site-packages/ipykernel_launcher.py:7: DeprecationWarning: Call to deprecated `doctag_syn0` (Attribute will be removed in 4.0.0, use docvecs.vectors_docs instead).\n",
      "  import sys\n",
      "/home/ec2-user/new2env/lib64/python3.6/site-packages/ipykernel_launcher.py:8: DeprecationWarning: Call to deprecated `doctag_syn0` (Attribute will be removed in 4.0.0, use docvecs.vectors_docs instead).\n",
      "  \n",
      "/home/ec2-user/new2env/lib64/python3.6/site-packages/ipykernel_launcher.py:9: DeprecationWarning: Call to deprecated `doctag_syn0` (Attribute will be removed in 4.0.0, use docvecs.vectors_docs instead).\n",
      "  if __name__ == '__main__':\n"
     ]
    },
    {
     "data": {
      "image/png": "[encoded data removed]",
      "text/plain": [
       "<Figure size 432x288 with 1 Axes>"
      ]
     },
     "metadata": {
      "needs_background": "light"
     },
     "output_type": "display_data"
    }
   ],
   "source": [
    "kmeans_model = KMeans(n_clusters=3) \n",
    "X = kmeans_model.fit(model.docvecs.doctag_syn0)\n",
    "labels=kmeans_model.labels_.tolist()\n",
    "\n",
    "\n",
    "\n",
    "l = kmeans_model.fit_predict(model.docvecs.doctag_syn0)\n",
    "pca = PCA(n_components=2).fit(model.docvecs.doctag_syn0)\n",
    "datapoint = pca.transform(model.docvecs.doctag_syn0)\n",
    "\n",
    "plt.figure\n",
    "plt.scatter(datapoint[:, 0], datapoint[:, 1], c=labels, cmap='rainbow')\n",
    "\n",
    "centroids = kmeans_model.cluster_centers_\n",
    "centroidpoint = pca.transform(centroids)\n",
    "plt.scatter(centroidpoint[:, 0], centroidpoint[:, 1], marker='^', s=150, c='#000000')\n",
    "plt.show()"
   ]
  },
  {
   "cell_type": "code",
   "execution_count": null,
   "metadata": {},
   "outputs": [],
   "source": []
  },
  {
   "cell_type": "code",
   "execution_count": null,
   "metadata": {},
   "outputs": [],
   "source": []
  },
  {
   "cell_type": "code",
   "execution_count": null,
   "metadata": {},
   "outputs": [],
   "source": []
  },
  {
   "cell_type": "code",
   "execution_count": null,
   "metadata": {},
   "outputs": [],
   "source": []
  },
  {
   "cell_type": "code",
   "execution_count": null,
   "metadata": {},
   "outputs": [],
   "source": []
  }
 ],
 "metadata": {
  "kernelspec": {
   "display_name": "Python 3",
   "language": "python",
   "name": "python3"
  },
  "language_info": {
   "codemirror_mode": {
    "name": "ipython",
    "version": 3
   },
   "file_extension": ".py",
   "mimetype": "text/x-python",
   "name": "python",
   "nbconvert_exporter": "python",
   "pygments_lexer": "ipython3",
   "version": "3.6.10"
  }
 },
 "nbformat": 4,
 "nbformat_minor": 4
}
