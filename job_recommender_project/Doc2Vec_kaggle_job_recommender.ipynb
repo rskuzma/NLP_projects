{
 "cells": [
  {
   "cell_type": "markdown",
   "metadata": {},
   "source": [
    "imports"
   ]
  },
  {
   "cell_type": "code",
   "execution_count": 99,
   "metadata": {},
   "outputs": [],
   "source": [
    "import pandas as pd\n",
    "import numpy as np\n",
    "import seaborn as sns\n",
    "import matplotlib.pyplot as plt\n",
    "import re\n",
    "import nltk\n",
    "import spacy\n",
    "import string"
   ]
  },
  {
   "cell_type": "markdown",
   "metadata": {},
   "source": [
    "Load CSVs into DataFrames"
   ]
  },
  {
   "cell_type": "code",
   "execution_count": 100,
   "metadata": {},
   "outputs": [
    {
     "data": {
      "text/html": [
       "<div>\n",
       "<style scoped>\n",
       "    .dataframe tbody tr th:only-of-type {\n",
       "        vertical-align: middle;\n",
       "    }\n",
       "\n",
       "    .dataframe tbody tr th {\n",
       "        vertical-align: top;\n",
       "    }\n",
       "\n",
       "    .dataframe thead th {\n",
       "        text-align: right;\n",
       "    }\n",
       "</style>\n",
       "<table border=\"1\" class=\"dataframe\">\n",
       "  <thead>\n",
       "    <tr style=\"text-align: right;\">\n",
       "      <th></th>\n",
       "      <th>ID</th>\n",
       "      <th>Category</th>\n",
       "      <th>dirty_resume</th>\n",
       "      <th>resume</th>\n",
       "    </tr>\n",
       "  </thead>\n",
       "  <tbody>\n",
       "    <tr>\n",
       "      <th>0</th>\n",
       "      <td>1</td>\n",
       "      <td>HR</td>\n",
       "      <td>b'John H. Smith, P.H.R.\\n800-991-5187 | PO Box...</td>\n",
       "      <td>john h smith phr    po box  callahan fl  infog...</td>\n",
       "    </tr>\n",
       "    <tr>\n",
       "      <th>1</th>\n",
       "      <td>2</td>\n",
       "      <td>HR</td>\n",
       "      <td>b'Name Surname\\nAddress\\nMobile No/Email\\nPERS...</td>\n",
       "      <td>name surname address mobile noemail personal p...</td>\n",
       "    </tr>\n",
       "    <tr>\n",
       "      <th>2</th>\n",
       "      <td>3</td>\n",
       "      <td>HR</td>\n",
       "      <td>b'Anthony Brown\\nHR Assistant\\nAREAS OF EXPERT...</td>\n",
       "      <td>anthony brown hr assistant areas expertise per...</td>\n",
       "    </tr>\n",
       "    <tr>\n",
       "      <th>3</th>\n",
       "      <td>4</td>\n",
       "      <td>HR</td>\n",
       "      <td>b'www.downloadmela.com\\nSatheesh\\nEMAIL ID:\\nC...</td>\n",
       "      <td>satheesh email id career objective pursue gro...</td>\n",
       "    </tr>\n",
       "    <tr>\n",
       "      <th>4</th>\n",
       "      <td>5</td>\n",
       "      <td>HR</td>\n",
       "      <td>b\"HUMAN RESOURCES DIRECTOR\\n\\xef\\x82\\xb7Expert...</td>\n",
       "      <td>human resources director expert organizational...</td>\n",
       "    </tr>\n",
       "  </tbody>\n",
       "</table>\n",
       "</div>"
      ],
      "text/plain": [
       "   ID Category                                       dirty_resume  \\\n",
       "0   1       HR  b'John H. Smith, P.H.R.\\n800-991-5187 | PO Box...   \n",
       "1   2       HR  b'Name Surname\\nAddress\\nMobile No/Email\\nPERS...   \n",
       "2   3       HR  b'Anthony Brown\\nHR Assistant\\nAREAS OF EXPERT...   \n",
       "3   4       HR  b'www.downloadmela.com\\nSatheesh\\nEMAIL ID:\\nC...   \n",
       "4   5       HR  b\"HUMAN RESOURCES DIRECTOR\\n\\xef\\x82\\xb7Expert...   \n",
       "\n",
       "                                              resume  \n",
       "0  john h smith phr    po box  callahan fl  infog...  \n",
       "1  name surname address mobile noemail personal p...  \n",
       "2  anthony brown hr assistant areas expertise per...  \n",
       "3   satheesh email id career objective pursue gro...  \n",
       "4  human resources director expert organizational...  "
      ]
     },
     "execution_count": 100,
     "metadata": {},
     "output_type": "execute_result"
    }
   ],
   "source": [
    "# path to cleaned resume file\n",
    "lightsail_resume_cleaned_path = '/home/ec2-user/NLP_projects/job_recommender_project/data/cleaned_resume_dataset_maitrip.csv'\n",
    "local_resume_cleaned_path = '/Users/richardkuzma/coding/NLP_projects/job_recommender_project/data/cleaned_resume_dataset_maitrip.csv'\n",
    "# resume_cleaned_path = lightsail_jobs_cleaned_path\n",
    "resume_cleaned_path = local_resume_cleaned_path\n",
    "\n",
    "# load cleaned jobs to df\n",
    "resumes = pd.read_csv(resume_cleaned_path)\n",
    "resumes.head()"
   ]
  },
  {
   "cell_type": "code",
   "execution_count": 101,
   "metadata": {},
   "outputs": [
    {
     "data": {
      "text/html": [
       "<div>\n",
       "<style scoped>\n",
       "    .dataframe tbody tr th:only-of-type {\n",
       "        vertical-align: middle;\n",
       "    }\n",
       "\n",
       "    .dataframe tbody tr th {\n",
       "        vertical-align: top;\n",
       "    }\n",
       "\n",
       "    .dataframe thead th {\n",
       "        text-align: right;\n",
       "    }\n",
       "</style>\n",
       "<table border=\"1\" class=\"dataframe\">\n",
       "  <thead>\n",
       "    <tr style=\"text-align: right;\">\n",
       "      <th></th>\n",
       "      <th>Title</th>\n",
       "      <th>Company</th>\n",
       "      <th>JobDescription</th>\n",
       "      <th>RequiredQual</th>\n",
       "      <th>JobRequirement</th>\n",
       "      <th>label</th>\n",
       "      <th>combined</th>\n",
       "      <th>dirty_combined</th>\n",
       "    </tr>\n",
       "  </thead>\n",
       "  <tbody>\n",
       "    <tr>\n",
       "      <th>0</th>\n",
       "      <td>Chief Financial Officer</td>\n",
       "      <td>AMERIA Investment Consulting Company</td>\n",
       "      <td>AMERIA Investment Consulting Company is seekin...</td>\n",
       "      <td>To perform this job successfully, an\\r\\nindivi...</td>\n",
       "      <td>- Supervises financial management and administ...</td>\n",
       "      <td>1</td>\n",
       "      <td>chief financial officer ameria investment cons...</td>\n",
       "      <td>Chief Financial Officer AMERIA Investment Cons...</td>\n",
       "    </tr>\n",
       "    <tr>\n",
       "      <th>1</th>\n",
       "      <td>Country Coordinator</td>\n",
       "      <td>Caucasus Environmental NGO Network (CENN)</td>\n",
       "      <td>Public outreach and strengthening of a growing...</td>\n",
       "      <td>- Degree in environmentally related field, or ...</td>\n",
       "      <td>- Working with the Country Director to provide...</td>\n",
       "      <td>2</td>\n",
       "      <td>country coordinator public outreach strengthen...</td>\n",
       "      <td>Country Coordinator Public outreach and streng...</td>\n",
       "    </tr>\n",
       "    <tr>\n",
       "      <th>2</th>\n",
       "      <td>BCC Specialist</td>\n",
       "      <td>Manoff Group</td>\n",
       "      <td>The LEAD (Local Enhancement and Development fo...</td>\n",
       "      <td>- Advanced degree in public health, social sci...</td>\n",
       "      <td>- Identify gaps in knowledge and overseeing in...</td>\n",
       "      <td>3</td>\n",
       "      <td>bcc specialist lead local enhancement developm...</td>\n",
       "      <td>BCC Specialist The LEAD (Local Enhancement and...</td>\n",
       "    </tr>\n",
       "    <tr>\n",
       "      <th>3</th>\n",
       "      <td>Community Development, Capacity Building and C...</td>\n",
       "      <td>Food Security Regional Cooperation and Stabili...</td>\n",
       "      <td>Food Security Regional Cooperation and Stabili...</td>\n",
       "      <td>- Higher Education and/or professional experie...</td>\n",
       "      <td>- Assist the Tavush Marz communities and commu...</td>\n",
       "      <td>4</td>\n",
       "      <td>community development capacity building confli...</td>\n",
       "      <td>Community Development, Capacity Building and C...</td>\n",
       "    </tr>\n",
       "    <tr>\n",
       "      <th>4</th>\n",
       "      <td>Country Economist (NOB)</td>\n",
       "      <td>United Nations Development Programme, Armenia</td>\n",
       "      <td>The United Nations Development Programme in Ar...</td>\n",
       "      <td>- Minimum Masters Degree in Economics;\\r\\n- Mi...</td>\n",
       "      <td>The incumbent under direct supervision of UNDP...</td>\n",
       "      <td>5</td>\n",
       "      <td>country economist nob united nations developme...</td>\n",
       "      <td>Country Economist (NOB) The United Nations Dev...</td>\n",
       "    </tr>\n",
       "  </tbody>\n",
       "</table>\n",
       "</div>"
      ],
      "text/plain": [
       "                                               Title  \\\n",
       "0                            Chief Financial Officer   \n",
       "1                                Country Coordinator   \n",
       "2                                     BCC Specialist   \n",
       "3  Community Development, Capacity Building and C...   \n",
       "4                            Country Economist (NOB)   \n",
       "\n",
       "                                             Company  \\\n",
       "0               AMERIA Investment Consulting Company   \n",
       "1          Caucasus Environmental NGO Network (CENN)   \n",
       "2                                       Manoff Group   \n",
       "3  Food Security Regional Cooperation and Stabili...   \n",
       "4      United Nations Development Programme, Armenia   \n",
       "\n",
       "                                      JobDescription  \\\n",
       "0  AMERIA Investment Consulting Company is seekin...   \n",
       "1  Public outreach and strengthening of a growing...   \n",
       "2  The LEAD (Local Enhancement and Development fo...   \n",
       "3  Food Security Regional Cooperation and Stabili...   \n",
       "4  The United Nations Development Programme in Ar...   \n",
       "\n",
       "                                        RequiredQual  \\\n",
       "0  To perform this job successfully, an\\r\\nindivi...   \n",
       "1  - Degree in environmentally related field, or ...   \n",
       "2  - Advanced degree in public health, social sci...   \n",
       "3  - Higher Education and/or professional experie...   \n",
       "4  - Minimum Masters Degree in Economics;\\r\\n- Mi...   \n",
       "\n",
       "                                      JobRequirement  label  \\\n",
       "0  - Supervises financial management and administ...      1   \n",
       "1  - Working with the Country Director to provide...      2   \n",
       "2  - Identify gaps in knowledge and overseeing in...      3   \n",
       "3  - Assist the Tavush Marz communities and commu...      4   \n",
       "4  The incumbent under direct supervision of UNDP...      5   \n",
       "\n",
       "                                            combined  \\\n",
       "0  chief financial officer ameria investment cons...   \n",
       "1  country coordinator public outreach strengthen...   \n",
       "2  bcc specialist lead local enhancement developm...   \n",
       "3  community development capacity building confli...   \n",
       "4  country economist nob united nations developme...   \n",
       "\n",
       "                                      dirty_combined  \n",
       "0  Chief Financial Officer AMERIA Investment Cons...  \n",
       "1  Country Coordinator Public outreach and streng...  \n",
       "2  BCC Specialist The LEAD (Local Enhancement and...  \n",
       "3  Community Development, Capacity Building and C...  \n",
       "4  Country Economist (NOB) The United Nations Dev...  "
      ]
     },
     "execution_count": 101,
     "metadata": {},
     "output_type": "execute_result"
    }
   ],
   "source": [
    "# path to cleaned jobs file\n",
    "lightsail_jobs_cleaned_path = '/home/ec2-user/NLP_projects/job_recommender_project/data/cleaned_job_posts_madhab.csv'\n",
    "local_jobs_cleaned_path = '/Users/richardkuzma/coding/NLP_projects/job_recommender_project/data/cleaned_job_posts_madhab.csv'\n",
    "# jobs_cleaned_path = lightsail_jobs_cleaned_path\n",
    "jobs_cleaned_path = local_jobs_cleaned_path\n",
    "\n",
    "#load cleaned resumes to df\n",
    "jobs = pd.read_csv(jobs_cleaned_path)\n",
    "jobs.head()"
   ]
  },
  {
   "cell_type": "code",
   "execution_count": null,
   "metadata": {},
   "outputs": [],
   "source": []
  },
  {
   "cell_type": "markdown",
   "metadata": {},
   "source": [
    "<br><br><br><br><br>"
   ]
  },
  {
   "cell_type": "markdown",
   "metadata": {},
   "source": [
    "# Gensim Doc2Vec on Jobs\n",
    "\n"
   ]
  },
  {
   "cell_type": "code",
   "execution_count": 102,
   "metadata": {},
   "outputs": [],
   "source": [
    "from gensim.models import Doc2Vec\n",
    "from gensim.models.doc2vec import TaggedDocument\n",
    "from nltk import word_tokenize"
   ]
  },
  {
   "cell_type": "code",
   "execution_count": 103,
   "metadata": {},
   "outputs": [],
   "source": [
    "# for i in jobs_test['combined']:\n",
    "#     jobs_test['label'] = jobs_test['combined'].index\n",
    "# for i in jobs_train['combined']:\n",
    "#     jobs_train['label'] = jobs_train['combined'].index\n"
   ]
  },
  {
   "cell_type": "code",
   "execution_count": 104,
   "metadata": {},
   "outputs": [],
   "source": [
    "# # see labels applied\n",
    "# jobs_train.head()"
   ]
  },
  {
   "cell_type": "code",
   "execution_count": 105,
   "metadata": {},
   "outputs": [],
   "source": [
    "# TaggedDocumentIterator class takes pandas text and label Series and yields TaggedDocuments\n",
    "class TaggedDocumentIterator(object):\n",
    "    def __init__(self, doc_list, labels_list):\n",
    "        self.labels_list = labels_list\n",
    "        self.doc_list = doc_list\n",
    "    def __iter__(self):\n",
    "        for idx, doc in enumerate(self.doc_list):\n",
    "            yield TaggedDocument(words=doc.split(), tags=[self.labels_list[idx]])\n",
    " \n",
    "docLabels = list(jobs['label'])\n",
    "jobs_data = list(jobs['combined'])\n",
    "jobs_sentences = TaggedDocumentIterator(jobs_data, docLabels)"
   ]
  },
  {
   "cell_type": "markdown",
   "metadata": {},
   "source": [
    "Model will take a few min to train on laptop"
   ]
  },
  {
   "cell_type": "code",
   "execution_count": 106,
   "metadata": {
    "scrolled": true
   },
   "outputs": [
    {
     "name": "stderr",
     "output_type": "stream",
     "text": [
      "/Users/richardkuzma/opt/anaconda3/lib/python3.7/site-packages/ipykernel_launcher.py:5: DeprecationWarning: Call to deprecated `iter` (Attribute will be removed in 4.0.0, use self.epochs instead).\n",
      "  \"\"\"\n"
     ]
    }
   ],
   "source": [
    "# train Doc2Vec model on jobs\n",
    "\n",
    "d2v_jobs_model = Doc2Vec(vector_size=100, window=10, min_count=5, workers=11,alpha=0.025, epochs=20)\n",
    "d2v_jobs_model.build_vocab(jobs_sentences)\n",
    "d2v_jobs_model.train(jobs_sentences,total_examples=d2v_model.corpus_count, epochs=d2v_model.iter)"
   ]
  },
  {
   "cell_type": "code",
   "execution_count": 107,
   "metadata": {},
   "outputs": [],
   "source": [
    "# Store the d2v jbos model to file\n",
    "lightsail_d2v_model_path = '/home/ec2-user/NLP_projects/job_recommender_project/models/d2v_model_jobs.doc2vec'\n",
    "local_d2v_model_path = '/Users/richardkuzma/coding/NLP_projects/job_recommender_project/models/d2v_model_jobs.doc2vec'\n",
    "\n",
    "# save_path = lightsail_d2v_model_path\n",
    "d2v_jobs_save_path = local_d2v_model_path\n"
   ]
  },
  {
   "cell_type": "code",
   "execution_count": 108,
   "metadata": {},
   "outputs": [],
   "source": [
    "#save the model\n",
    "d2v_jobs_model.save(d2v_jobs_save_path)\n"
   ]
  },
  {
   "cell_type": "code",
   "execution_count": 109,
   "metadata": {},
   "outputs": [],
   "source": [
    "#load model\n",
    "d2v_jobs_model = Doc2Vec.load(d2v_jobs_save_path)\n",
    "\n",
    "\n"
   ]
  },
  {
   "cell_type": "code",
   "execution_count": 110,
   "metadata": {},
   "outputs": [
    {
     "data": {
      "text/plain": [
       "gensim.models.keyedvectors.Doc2VecKeyedVectors"
      ]
     },
     "execution_count": 110,
     "metadata": {},
     "output_type": "execute_result"
    }
   ],
   "source": [
    "type(d2v_jobs_model.docvecs)"
   ]
  },
  {
   "cell_type": "code",
   "execution_count": null,
   "metadata": {},
   "outputs": [],
   "source": []
  },
  {
   "cell_type": "code",
   "execution_count": null,
   "metadata": {},
   "outputs": [],
   "source": []
  },
  {
   "cell_type": "markdown",
   "metadata": {},
   "source": [
    "# START HERE AGAIN"
   ]
  },
  {
   "cell_type": "code",
   "execution_count": null,
   "metadata": {},
   "outputs": [],
   "source": []
  },
  {
   "cell_type": "markdown",
   "metadata": {},
   "source": [
    "\n",
    "credit: https://praveenbezawada.com/2018/01/25/document-similarity-using-gensim-dec2vec/"
   ]
  },
  {
   "cell_type": "code",
   "execution_count": null,
   "metadata": {},
   "outputs": [],
   "source": []
  },
  {
   "cell_type": "code",
   "execution_count": 111,
   "metadata": {},
   "outputs": [],
   "source": [
    "# def resume_test_predict(pick_a_resume_number):\n",
    "def given_resume_predict_jobs():\n",
    "    print(\"There are {} resumes\\n\".format(resumes.shape[0]))\n",
    "    \n",
    "    # Select a random int from 0 to length of resume set\n",
    "    rand_int = np.random.randint(1, resumes.shape[0]+1)\n",
    "    # selection = pick_a_resume_number\n",
    "    selection = rand_int\n",
    "    print ('selected resume is ID #{}\\n'.format(selection))\n",
    "    \n",
    "    # pick the resume text and ID associated with the random int\n",
    "    pick_text = resumes.iloc[selection -1 ]['resume']\n",
    "    pick_label = resumes.iloc[selection -1, resumes.columns.get_loc('ID')] #we could grab ID, but this works for non-indexed labels too\n",
    "    print('Resume ID is: {}'.format(pick_label))\n",
    "    print('Resume text: {}'.format(pick_text))\n",
    "    \n",
    "    ####I didn't do his cleaning because I did my own. Need cleaning maybe on other stuff?\n",
    "    #Clean the document using the utility functions used in train phase\n",
    "    #test_sample = default_clean(test_sample)\n",
    "    #test_sample = stop_and_stem(test_sample, stem=False)\n",
    " \n",
    "    #Convert the sample document into a list and use the infer_vector method to get a vector representation for it\n",
    "    pick_words = pick_text.split()\n",
    "    pick_vec = d2v_jobs_model.infer_vector(pick_words, steps=50, alpha=0.25)\n",
    "    #print('split words is: {}'.format(pick_words))\n",
    "    #print('vector is: {}'.format(pick_vec))\n",
    " \n",
    "    #use the most_similar utility to find the most similar documents.\n",
    "    similars = d2v_jobs_model.docvecs.most_similar(positive=[pick_vec])\n",
    " \n",
    "    print('\\n\\n\\t\\tSimilar job descriptions to this resume:')\n",
    "    \n",
    "    count = 1\n",
    "    for i in similars:\n",
    "        print('\\nSimilar job number: {}'.format(count))\n",
    "        count += 1\n",
    "        print('Job ID ', i[0], ' Similarity Score: ', i[1])\n",
    "        \n",
    "        # pulls combined text from jobs_train \n",
    "        #print(jobs_train.iloc[i[0]]['combined'],  '\\n')\n",
    "\n",
    "        # pulls job title and description from jobs.txt\n",
    "        print('Job title: {}'.format(jobs.iloc[i[0]]['Title']))\n",
    "        print('Company: {}'.format(jobs.iloc[i[0]]['Company']))\n",
    "        print('Description: {}'.format(jobs.iloc[i[0]]['JobDescription']))\n",
    "        \n",
    "        \n"
   ]
  },
  {
   "cell_type": "code",
   "execution_count": 129,
   "metadata": {
    "scrolled": false
   },
   "outputs": [
    {
     "name": "stdout",
     "output_type": "stream",
     "text": [
      "There are 1219 resumes\n",
      "\n",
      "selected resume is ID #460\n",
      "\n",
      "Resume ID is: 460\n",
      "Resume text: technical business analyst consultant resume professional summary highly motivated employee  years experience coordinating complex projects issues across organizational boundaries business analyst provide support project team analysis documentation business needs ensuring accurate alignment technology business objectives experienced business analysis cross system integration analysis data analysis use case analysis requirements elicitation gap analysis configuration change management process engineering design testing problem solving project management liaison experience customer consultant facilitatinag business process integration efforts diverse groups communication technical concepts non technical audiences joint collaboration business technical environments jad facilitator experience managing implementing systems new products processes enhancement current products processes leveraging industry standard software delivery methodologies practices standards like pmlc sdlc pmbok agile planning coordinating tracking project activities designed meet documented requirements coordinate release activities project team members education certifications master sciences information systems management confidential university computer science master level course work confidential university bachelor engineering mechanical engineering confidential university infrastructure libraryitil v foundation certified scrum master csm scrum alliance certification completion oracle g data warehousing fundamentals certification completion data modeling business analyst learn quest technical project skills management methodologies sdlc rational rup agile tracking tools clear quest clear case visual source safe rational requisite pro doors rose workflow quality tools center ms visio bmc ms remedy project ms office blueprint ms sharepoint data warehouse data quality data stage orchestrate data flux sas etl teradata datawarehouse databases erwin sql server sybase ms access mysql oracle g db  programming languages java net sql html xml relevant work experience confidential technical atlanta business supported analyst ga consultant projects feb present initiatives project revolution participated product owner team meetings pot sprint elicit business process model user stories non functional requirements availability service functionality developed managed requirements artifacts templates blueprint requirements management system managed traceability requirement artifacts documented features capabilities business rules engine xcxefxxb completed drafting context brian storm diagram availability functionality lead system integration analysis requirement analysis key business technical stakeholders including architects developers analysts facilitated jad sessions interview users determine needs confidential business mclean applications analyst sr va sep feb  responsibilities accomplishments managed projects within division department portions large cross partner departmental divisional projects throughout life cycle managed project risks effective communication stakeholders appropriate mitigation strategies lead system integration analysis requirement analysis design testing support debugging activities key business technical stakeholders including architects developers analysts lead  analysts system integration analysis data analysis requirements elicitation implementation various producer consumer systems adaptors publishconsume data infrom enterprise data services hub form canonical data format facilitated jad sessions interview users determine needs engage either requirement soliciting methods lead complex data collection analysis activities doors administration support supported project teams manage requirements baseline traceability implement change requestshelped development teams export design document doors generate rtm applicable deliverables required sdlc checkpoints lead data modeling research alternatives development business requirements performed data analysis high complexity support ad hoc customer requests developed sql sas queries reports analyzing presenting data analyzed data soa initiatives determine data impacts systems internal external reviewed managed complex business process information data scenarios performed impact analysis gap analysis new processes changes existing processes including process redesign improve current methods apply analytical skills produce thoughtful strategic recommendations review business partner demonstrated ability see patterns identify root causes combine disparate ideas maximize value highly focused efficiency process improvement actively participate document lessons learned prior project close maintain lessons learned part organization repository accessible entire team reference reviewed managed application controls identify gaps ineffective poorly designed duplicative controls accountable completion high quality requirement deliverables schedule comply controls sox non sox standards procedures incorporated requirements traceability design testing user acceptance phases managed phases testing including development test plans scenarios data test scripts facilitation system integration testing sit user acceptance testing uat analyzed test environment usability user interface design defect tracking recording management ensure defect correction completion supported projects initiatives multifamily loan underwriting servicing  apr feb \n",
      "\n",
      "\n",
      "\t\tSimilar job descriptions to this resume:\n",
      "\n",
      "Similar job number: 1\n",
      "Job ID  11212  Similarity Score:  0.4348951578140259\n",
      "Job title: Senior iOS Developer\n",
      "Company: Science Inc. Armenia\n",
      "Description: Science Inc. Armenia is looking for a Senior iOS\r\n",
      "Developer who will be involved in the project requirements, analysis and\r\n",
      "the project planning. Strong mobile development background, preferably\r\n",
      "cross-platform based is a big plus.\n",
      "\n",
      "Similar job number: 2\n",
      "Job ID  13081  Similarity Score:  0.4308702349662781\n",
      "Job title: Software Engineer in Test\n",
      "Company: EPAM Systems, Inc.\n",
      "Description: EPAM Systems, Inc. is seeking Software Engineers in\r\n",
      "Test to join the company's team in developing enterprise-level software\r\n",
      "solutions. The company is looking for results-driven, team-oriented,\r\n",
      "self-motivated professionals who are ready for teamwork and Agile\r\n",
      "software development.\n",
      "\n",
      "Similar job number: 3\n",
      "Job ID  995  Similarity Score:  0.41996875405311584\n",
      "Job title: Auditor of Operational Audit Unit\n",
      "Company: Central Bank of Armenia\n",
      "Description: The incumbent is responsible for gettin reasonable\r\n",
      "assurance, that an adequate internal control system exists in the CBA,\r\n",
      "through evaluation of risks and controls of CBA activities.\n",
      "\n",
      "Similar job number: 4\n",
      "Job ID  7300  Similarity Score:  0.4160338044166565\n",
      "Job title: HR Assistant\n",
      "Company: Career Center\n",
      "Description: We have a new opening for the position of HR Assistant.\r\n",
      "Under the overall supervision of the HR Coordinator the HR Assistant will\r\n",
      "assist in all recruitment issues.\n",
      "\n",
      "Similar job number: 5\n",
      "Job ID  11822  Similarity Score:  0.41500324010849\n",
      "Job title: IT Operations Intern\n",
      "Company: HSBC Bank Armenia CJSC\n",
      "Description: HSBC Bank Armenia is looking for enthusiastic people\r\n",
      "full of drive and energy who are ready to pass a 3-6 months internship in\r\n",
      "HSBC IT Operations and support its staff on IT related queries. Interns\r\n",
      "will pass proper on the job training; will get acquainted with IT\r\n",
      "systems, requirements, policies and culture. It is expected from interns\r\n",
      "to get fully prepared for the role of IT Operations with employment\r\n",
      "purposes. Those interns who complete their internship successfully will\r\n",
      "be considered for employment on different terms, upon role availability.\n",
      "\n",
      "Similar job number: 6\n",
      "Job ID  2503  Similarity Score:  0.4125179052352905\n",
      "Job title: Marketing Officer\n",
      "Company: Grant Thornton Amyot LLC\n",
      "Description: Grant Thornton Amyot is seeking qualified candidates\r\n",
      "for the Marketing Officer position to assist the marketing partner in\r\n",
      "the development and implementation of the firms marketing strategy.\n",
      "\n",
      "Similar job number: 7\n",
      "Job ID  7965  Similarity Score:  0.41151678562164307\n",
      "Job title: Sales Person/ Cashier\n",
      "Company: CARD AgroService CJSC\n",
      "Description: Under the direct supervision of Sales Department\r\n",
      "Director the incumbent will be responsible for maintaining outstanding\r\n",
      "customer service as per Company standards, handling customers' payments\r\n",
      "in Companys store, processing sales quickly, accurately and efficiently,\r\n",
      "cash register operations and safeguarding company assets.\n",
      "\n",
      "Similar job number: 8\n",
      "Job ID  11700  Similarity Score:  0.40343979001045227\n",
      "Job title: Grant Specialist\n",
      "Company: Fuller Center for Housing Armenia NGO\n",
      "Description: The incumbent will directly work with USAID funded\r\n",
      "Advanced Rural Development Initiative (ARDI) program's Component 1 lead\r\n",
      "and will be responsible for management of rural start-up business grants,\r\n",
      "including solicitation of business plans, disbursement of grants and\r\n",
      "grantee performance monitoring. The Grant Specialist directly reports to\r\n",
      "ARDI Component 1 lead.\n",
      "\n",
      "Similar job number: 9\n",
      "Job ID  3401  Similarity Score:  0.40212374925613403\n",
      "Job title: HR Assistant\n",
      "Company: Career Center\n",
      "Description: We have a new opening for the position of HR\r\n",
      "Assistant. Under the overall supervision of the HR Coordinator the HR\r\n",
      "Assistant will assist in all recruitment issues.\n",
      "\n",
      "Similar job number: 10\n",
      "Job ID  10773  Similarity Score:  0.3981371521949768\n",
      "Job title: .NET Developer\n",
      "Company: Firmplace Corporation, Yerevan Branch\n",
      "Description: As a .NET Developer, the incumbent will help build the\r\n",
      "company's web applications where users connect on a daily basis to learn,\r\n",
      "contribute and interact. The incumbent will be responsible for developing\r\n",
      "and supporting business solutions using the .NET Framework for the\r\n",
      "company's clients and work in a varied, fast-paced, developer friendly\r\n",
      "(agile) environment.\n"
     ]
    }
   ],
   "source": [
    "given_resume_predict_jobs()"
   ]
  },
  {
   "cell_type": "code",
   "execution_count": null,
   "metadata": {},
   "outputs": [],
   "source": []
  },
  {
   "cell_type": "code",
   "execution_count": null,
   "metadata": {},
   "outputs": [],
   "source": []
  },
  {
   "cell_type": "markdown",
   "metadata": {},
   "source": [
    "# Given job, find similar resumes:"
   ]
  },
  {
   "cell_type": "code",
   "execution_count": 113,
   "metadata": {},
   "outputs": [],
   "source": [
    "# TaggedDocumentIterator class takes pandas text and label Series and yields TaggedDocuments\n",
    "class TaggedDocumentIterator(object):\n",
    "    def __init__(self, doc_list, labels_list):\n",
    "        self.labels_list = labels_list\n",
    "        self.doc_list = doc_list\n",
    "    def __iter__(self):\n",
    "        for idx, doc in enumerate(self.doc_list):\n",
    "            yield TaggedDocument(words=doc.split(), tags=[self.labels_list[idx]])\n",
    " \n"
   ]
  },
  {
   "cell_type": "code",
   "execution_count": 114,
   "metadata": {},
   "outputs": [],
   "source": [
    "# make TaggedDocuments from resumes dataframe to then create d2v model\n",
    "resumes_labels = list(resumes['ID'].astype(str))\n",
    "resumes_data = list(resumes['resume'].astype(str))\n",
    "resumes_sentences = TaggedDocumentIterator(resumes_data, resumes_labels)"
   ]
  },
  {
   "cell_type": "markdown",
   "metadata": {},
   "source": [
    "Model will take a few min to train on laptop"
   ]
  },
  {
   "cell_type": "code",
   "execution_count": 115,
   "metadata": {
    "scrolled": true
   },
   "outputs": [],
   "source": [
    "# train Doc2Vec model on jobs\n",
    "\n",
    "d2v_resume_model = Doc2Vec(vector_size=100, window=10, min_count=5, workers=11,alpha=0.025, epochs=20)\n",
    "d2v_resume_model.build_vocab(resumes_sentences)\n",
    "d2v_resume_model.train(resumes_sentences,total_examples=d2v_model.corpus_count, epochs=d2v_model.epochs)\n",
    "\n"
   ]
  },
  {
   "cell_type": "code",
   "execution_count": 116,
   "metadata": {},
   "outputs": [],
   "source": [
    "# Store the d2v jbos model to file\n",
    "lightsail_d2v_resume_model_path = '/home/ec2-user/NLP_projects/job_recommender_project/models/d2v_model_resumes.doc2vec'\n",
    "local_d2v_resume_model_path = '/Users/richardkuzma/coding/NLP_projects/job_recommender_project/models/d2v_model_resumes.doc2vec'\n",
    "\n",
    "# d2v_resume_save_path = lightsail_d2v_resume_model_path\n",
    "d2v_resume_save_path = local_d2v_resume_model_path\n"
   ]
  },
  {
   "cell_type": "code",
   "execution_count": 117,
   "metadata": {},
   "outputs": [],
   "source": [
    "#save the model\n",
    "d2v_resume_model.save(d2v_resume_save_path)\n"
   ]
  },
  {
   "cell_type": "code",
   "execution_count": 118,
   "metadata": {},
   "outputs": [],
   "source": [
    "#load model\n",
    "d2v_resume_model = Doc2Vec.load(d2v_resume_save_path)\n",
    "\n",
    "\n"
   ]
  },
  {
   "cell_type": "code",
   "execution_count": 119,
   "metadata": {},
   "outputs": [
    {
     "data": {
      "text/plain": [
       "gensim.models.keyedvectors.Doc2VecKeyedVectors"
      ]
     },
     "execution_count": 119,
     "metadata": {},
     "output_type": "execute_result"
    }
   ],
   "source": [
    "type(d2v_resume_model.docvecs)"
   ]
  },
  {
   "cell_type": "code",
   "execution_count": null,
   "metadata": {},
   "outputs": [],
   "source": []
  },
  {
   "cell_type": "code",
   "execution_count": 133,
   "metadata": {},
   "outputs": [],
   "source": [
    "# def resume_test_predict(pick_a_resume_number):\n",
    "def given_job_predict_similiar_resumes():\n",
    "    print(\"There are {} jobs\\n\".format(jobs.shape[0]))\n",
    "    \n",
    "    # Select a random int from 0 to length of rjob set\n",
    "    rand_int = np.random.randint(1, jobs.shape[0]+1)\n",
    "    # selection = pick_a_job_number\n",
    "    selection = rand_int\n",
    "    print ('selected job is ID #{}\\n'.format(selection))\n",
    "    \n",
    "    # pick the job text and ID associated with the random int\n",
    "    pick_text = jobs.iloc[selection -1 ]['combined']\n",
    "    pick_label = jobs.iloc[selection -1, jobs.columns.get_loc('label')] #we could grab ID, but this works for non-indexed labels too\n",
    "    print('Resume ID is: {}'.format(pick_label))\n",
    "    print('Resume text: {}'.format(pick_text))\n",
    "    \n",
    "    #Convert the sample document into a list and use the infer_vector method to get a vector representation for it\n",
    "    pick_words = pick_text.split()\n",
    "    pick_vec = d2v_resume_model.infer_vector(pick_words, steps=50, alpha=0.25)\n",
    "    #print('split words is: {}'.format(pick_words))\n",
    "    #print('vector is: {}'.format(pick_vec))\n",
    " \n",
    "    #use the most_similar utility to find the most similar documents.\n",
    "    similars = d2v_resume_model.docvecs.most_similar(positive=[pick_vec])\n",
    "    \n",
    "    \n",
    "    # print('\\n\\nsimilars are: ', similars)\n",
    "    \n",
    " \n",
    "    print('\\n\\n\\t\\t\\t\\tSimilar candidates for this job:')\n",
    "    \n",
    "    count = 1\n",
    "    for i in similars:\n",
    "        print('\\nSimilar resume number: {}'.format(count))\n",
    "        count += 1\n",
    "        print('Resume label ', i[0], ' Similarity Score: ', i[1])\n",
    "        \n",
    "        # pulls combined text from jobs_train \n",
    "        #print(jobs_train.iloc[i[0]]['combined'],  '\\n')\n",
    "\n",
    "        # pulls candidate name, info, text\n",
    "        print('Candidate resume: {}'.format(resumes.iloc[int(i[0])]['resume']))\n",
    "#         print('Resume: {}'.format(resumes.iloc[i[0]]['Company']))\n",
    "#         print('Description: {}'.format(resumes.iloc[i[0]]['JobDescription']))\n",
    "        \n",
    "        \n"
   ]
  },
  {
   "cell_type": "code",
   "execution_count": 134,
   "metadata": {},
   "outputs": [
    {
     "name": "stdout",
     "output_type": "stream",
     "text": [
      "There are 13124 jobs\n",
      "\n",
      "selected job is ID #3035\n",
      "\n",
      "Resume ID is: 3035\n",
      "Resume text: director public programs director public programs senior level staff position reports directly centers deputy director executive director director public programs responsible coordinating developing programming taking place centers new cinema jazz lounge addition director also responsible overseeing staff dedicated food beverage service rental spaces inside center perform responsibilities position effectively successful applicant must able perform multiple tasks manage large staff budget effectively conversant variety cultural endeavors including film video art manage funds make reports centers finance department organize supervise activities connected centers film series jazz concerts includes planning scheduling promoting implementing events organize programming take place periodically tamanian park responsible yearly event planning calendar related budget supervise planning organizational activities banquets parties coordinate program logistics work closely development prmarketing department communicate effectively special events taking place center develop manage private rentals special celebrations projects assigned manage centers jazz lounge ensuring quality visitor experience delivery consistent service standards operational readiness maximum visitor flow safe secure environment develop short long term plans budgets public programs activities monitor progress evaluate performance recommend short long term goals objectives executive director develop implement monitor systems procedures necessary smooth operation public relations function organize supervise activities connected rental designated spaces center special projects assigned executive director higher education extensive experience event creation management food beverage services strong organizational project management skills strong written public speaking abilities strong ability multi task work high pressure setting experience planning working within budgets ability think strategically creatively proactively demonstrated ability create lead motivate team outstanding member relations financial management skills excellent verbal written communication skills armenian english languages food beverage management experience computer literacy\n",
      "\n",
      "\n",
      "\t\t\t\tSimilar candidates for this job:\n",
      "\n",
      "Similar resume number: 1\n",
      "Resume label  65  Similarity Score:  0.37912705540657043\n",
      "Candidate resume: zoe judd  pinnacle street dayles vic  mobile    home    email zoejemailcom summary passionate fashion industry wish expand skills working dedicated innovative team designers goal assist bringing current international fashion trends australian market developing unique australian styles providing beautiful practical clothes public education university technology dayles vic bachelor design fashion textiles graduated  work experience jun  present production assistant dayles vic kitkit fashion responsibilities manage workload calendars ensure deadlines met keep abreast new season fashion trends around world assist artwork sketching development attend product development meetings set showrooms ensure pieces laid fittings assist set story colour boards source cut fabrics direction head designer liaise store buyers store file patterns artwork assist costings spec sheets check fabric orders deliveries may  volunteer assistant traybourne vic rosemount fashion week responsibilities picked returned items stores traybourne ran errands designers steamed ironed clothes shows made sure pieces returned clothes rack order assisted running program show helped clean show achievements awarded choice outfit new range helping designers september  style assistant traybourne vic pose magazine assistant fashion designer sample resume xcresponsibilities assisted head stylist choosing clothes magazine shoots steamed ironed clothes helped set photo shoots location assisted editor choosing photos included magazine ran errands art director helped organise work room qualifications jan  adobe photoshop level  workshop two day course achievements  student designer year award skills yrs last experience used category name proficiency computer microsoft office advanced  yrs computer adobe illustrator intermediate  yrs intermediate  yrs intermediate  yrs computer computer computer aided design cad adobe photoshop interests photography old polaroid camera drawing always passion travelling love experience different cultures reading magazines books poetry classic films get lot inspiration designs references kit madsen head designer iso kiwa designer kitkit fashion iso collections email kitkitemailcom email isokemailcom phone    phone    assistant fashion designer sample resume use currently use currently use currently use currently\n",
      "\n",
      "Similar resume number: 2\n",
      "Resume label  158  Similarity Score:  0.33845388889312744\n",
      "Candidate resume: sample resume communication entry level format functional career counseling services university houston clear lake james l mcneal  eagle creek friendswood tx     jlmcnealaolcom objective pursue career within public relations marketing utilizing proven capabilities marketing recruiting management special interest event planning skills marketing xexxa developed promotional brochure channel  toys tots program xexxa initiated developed public service announcements promote university houstonclear lake th anniversary celebration xexxa designed advertisements marketing plan spring fling sales event recruiting xexxa generated  donated supplies uhcl habitat humanity project xexxa recruited  volunteers assistant channel  special olympics sponsorship xexxa developed campaign uhcl united way fun run resulting  participants management xexxa managed daily operations three departments including merchandising ordering inventory control balancing cash training personnel scheduling xexxa increased membership  two years organized two community service projects president uhcl american marketing association xexxa  years combined experience supervising paid staff volunteers employment history channel  television station marketing intern part time houston tx august  may  university houston clear lake communications department houston tx communication student worker part time august  august  dillards department store department manager houston tx may  july  dillards department store sales clerk humble tx august  may  xcjames l mcneal page  education bachelor arts marketing university houston clear lake houston tx xexxa xexxa xexxa gpa  graduation date august  president american marketing association deans list   kate weatherby marketing scholarship   associate arts degree san jancinto college houston tx xexxa deans list   xexxa xexxa xexxa xexxa community service volunteer uhcl habitat humanities project hugger channel  special olympics sponsor toy distributor toys tots program houston tx server humble soup kitchen humble tx xexxa languages fluent spanish verbal written xexxa xexxa computer skillls software ms office pagemaker photoshop operating systems windows    gpa  graduation date may   present october  december   \n",
      "\n",
      "Similar resume number: 3\n",
      "Resume label  901  Similarity Score:  0.3302827477455139\n",
      "Candidate resume: sample fresher software engineer resume james v walston  fieldcrest road new york ny  phone    email jvwalstonexamplecom career objective obtain entry level software engineer position atnexis technology contribute computer science knowledge mathematical knowledge logics designing developing business software applications summary skills working experience intern alc technology strong knowledge software development cycle release processes good understanding software engineering tools excellent understanding programming language proficiency developing web applications excellent communication interpersonal project management skills work experience trainee software engineer mrc systems new york ny december  present assisting planning execution software development projects writing testing programming business applications blending software components functional software system following instructions senior engineers working software verification plans documenting maintaining software functionality development stages trainee software engineer modern technology new york ny march  november  entered date various systems updated information researched documented various data processes assisted designing developing enterprise business applications contributed delivering precise functional products modules xcxefxxbdesigned developed executed test cases business applications education bachelors degree computer science abc university new york ny \n",
      "\n",
      "Similar resume number: 4\n",
      "Resume label  348  Similarity Score:  0.3290139138698578\n",
      "Candidate resume: education cover letter  administrative position  northgate drive milton nebraska xxx april  xx dr letitia johnson superintendent grandview public schools p box  grandview nebraska xxxxx dear dr johnson wish apply position high school principal grandview public school system advertised march  edition omaha world herald note enclosed resume hold master education education administration degree university nebraska lincoln   principal endorsement assistant building principal milton middle school since xx prior time taught middle school high school english resume illustrates specific examples leadership administrative duties evaluations always noted strengths creative thinking problem solving strong long range planning ability communicate diverse population believe strengths abilities exactly looking fill position enjoy challenges education working teachers parents students opportunities make education happen student feel effective leader grandview high school school strong reputation providing opportunities high academic achievement personal growth student population enclosed resume send credentials ad requested provide information please feel free call e mail thank consideration sincerely susan ward enclosure\n",
      "\n",
      "Similar resume number: 5\n",
      "Resume label  789  Similarity Score:  0.3265548348426819\n",
      "Candidate resume: head chef karen higgins dayjob ltd vyse street birmingham b nf     e infodayjobcom personal statement atement hardworking motivated enthusiastic head chef real passion food sure exceed customers expectations karens leadership style always lead example observing standards rules regulations unique method cooking well placed improve standards cuisine kitchen operate healthy profit margin possessing extensive knowledge rules regulations concerning personal hygiene appearance able ensure strict compliance highest standards strong leader also good team player experience required create stimulating positive energetic working atmosphere right eager develop career leading company looking suitable position employer looking recruit best brightest people managing culinary dynamic smart schedule optimization supervising leadership skills business management achieving food margins people management dish specification food sampling asian recipes kitchen management special diets induction training exceptional host leading example inspiring people team player commercial judgement positive attitude food ideas new recipes problem solving effective planning skills innovative resourceful career history restaurant birmingham head chef apr  present responsible leading example demonstrating high standards cooking customer service times also charge minimising wastage stages food production instilling staff culture essential hygiene practices connected food cooking storage meal preparation duties conducting regular staff performance reviews taking appropriate action rectify deficiencies making sure food presented clientele done timely manner correct sequence giving positive negative feedback kitchen staff daily basis providing appropriate training members staff ensuring cleaning rotas duties carried properly relevant administrative records updated checking quantity quality food received suppliers writing food cost reports senior managers processing invoices weekly basis ensuring outstanding bills paid full time developing maintain good working relationships throughout catering team city centre restaurant coventry sous chef jan  apr  fast food takeaway birmingham trainee chef aug  jan  key competencies able manage diverse team well prioritise organise large workload handling emergency situations ie produce large amounts extra meals last minute experience food manufacturing food production well restaurant catering work environments ability foresee recognise potential problems occur plan accordingly academi qualifications birmingham north university culinary ba hons   city guilds marketing diploma  birmingham south college levels maths b english business studies b references available request   xccopyright information please read xcxa head chef cv template copyright dayjob ltd  job seekers may download use particular resume example personal use help write one also welcome link page site however cv template must distributed made available websites without prior permission questions relating use template please email infodayjobcom\n",
      "\n",
      "Similar resume number: 6\n",
      "Resume label  1214  Similarity Score:  0.32580816745758057\n",
      "Candidate resume: free flight attendant resume darlene flint  west orlander st portland     objective flight attendant highlights extensive customer service experience excellent interpersonal communication skills ability remain calm crisis situation flexible schedule experience air pacific portland flight attendant  present performed necessary flight attendant duties responsibilities included assisting customers special needs requests meal drink service assisting pilots flight crew performing relevant safety procedures carnival cruise line cruise attendant   attended passengers tours luxury cruise ships toured carribean gulf mexico shoe source charlotte nc assistant manager   responsible overseeing aspects customer service one charlottes largest discount shoe outlets duties included opening closing store hiring training new recruits handling managerial functions needed named employee month nine seperate occasions education xccertificate completion  delta flight attendant training school aa business  university north carolina ashville nc\n",
      "\n",
      "Similar resume number: 7\n",
      "Resume label  742  Similarity Score:  0.325003445148468\n",
      "Candidate resume: curriculum vitae gary king april    contact institute quantitative social science harvard university  cambridge street cambridge massachusetts  direct    assistant     garykingorg kinggary kingharvardedu education phd political science university wisconsin madison  political science university wisconsin madison  ba summa cum laude highest honors political science state university new york new paltz   positions albert j weatherhead iii university professor harvard university  present david florence professor government harvard university   professor government department government harvard university   john l loeb associate professor social sciences department government harvard university  associate professor department government harvard university   visiting assistant professor department political science university wisconsin madison summer  assistant professor department politics new york university september   xcgary king   honorary societies elected member national academy social insurance  elected member national academy sciences  elected fellow american statistical association  elected fellow society political methodology  elected fellow american association advancement science  elected fellow american academy political social science  elected fellow american academy arts sciences  guggenheim fellow john simon guggenheim memorial foundation    prizes awards best paper award political communication division international communication association  chinese government fabricates social media posts strategic distraction engaged argument margaret roberts jennifer pan dartmouth ventures entrepreneurship competition nd place thresher rebecca fair  warren e miller award meritorious service social sciences inter university consortium political social research  accelerator award harvard university office technology development let machines score teachers teach became perusallcom eric mazur  mpsa kelloggnotre dame award midwest political science association best paper comparative politics  reverse engineering chinese censorship randomized experimentation participant observation margaret roberts jennifer pan statistical software award society political methodology  amelia ii james honaker gary king matthew blackwell highly cited researcher listed worlds influential scientific minds thompsonreuters  everett mendelsohn excellence mentoring award harvard graduate student council  career achievement award society political methodology  honorary doctorate humane letters state university new york new paltz  new hot paper cited paper economics business last two months among papers published last year misunderstandings among experimentalists xcgary king  observationalists causal inference kosuke imai gary king elizabeth stuart named thomson reuters sciencewatch  miller converse lecturer center political studies institute social research university michigan  warren miller prize best article published political analysis matching nonparametric preprocessing reducing model dependence parametric causal inference daniel e ho kosuke imai gary king elizabeth stuart awarded society political methodology oxford university press  fast breaking paper article largest percentage increase citations among top  total citations across social sciences last two years matching nonparametric preprocessing reducing model dependence parametric causal inference daniel e ho kosuke imai gary king elizabeth stuart named thomson reuters sciencewatch  apsa itp section best instructional political science website award dataverse network project gary king merce crosas dataverse network team  elected nominating committee american association advancement science section social economic political sciences    named  isihighlycitedcoms list highly cited researchers social sciences thomson reuters mcgraw hill award best journal article law courts written political scientist published previous calendar year supreme court crisis war affects non war cases lee epstein daniel e ho gary king jeffrey segal  law society association prize runner recognize exceptional scholarship field sociolegal studies article published previous two years supreme court crisis war affects non war cases lee epstein daniel e ho gary king jeffrey segal  best instructional innovation social sciences social history honorable mention  icpsr prize publication publication gary king pi sigma alpha award best paper delivered previous years mwpsa conference supreme court crisis war affects non war cases lee epstein daniel e ho gary king jeffrey segal  robert h durr award best paper applying quantitative methods substantive problem previous years mwpsa conference supreme court crisis war affects non war cases lee epstein daniel e ho gary king jeffrey segal  apsa research software award virtual data center micah altman gary king sidney verba  american judicature society award honorable mention best paper presented previous years meetings american midwest northeastern southern southwest western political science associations supreme court crisis xcgary king  war affects non war cases lee epstein daniel e ho gary king jeffrey segal  elected vice president american political science association   listed american political scientists dictionary  giving consensus group  political scientists made important theoretical contributions discipline beginnings late th century present isi emerging research front article authoring article cited often fields psychiatry psychology october  gary king james honaker anne joseph kenneth scheves analyzing incomplete political science data alternative algorithm multiple imputation american political science review thomson reuters sciencewatch clifford c clogg memorial lecturer sociology statistics pennsylvania state university  vision distinguished lecturer florida state university  outstanding statistical application award outstanding application statistics substantive field asked answered multiple imputation multiple surveys andrew gelman chuanhai liu american statistical association  gosnell prize best work political methodology presented political science conference preceding year improving quantitative studies international conflict conjecture nathaniel beck langche zeng  okidata best research software award clarify software interpreting presenting statistical results michael tomz jason wittenberg  american political science association okidata best research web site award record american democracy project harvard mit data center  american political science association pi sigma alpha award best paper statistical model multiparty electoral data jonathan katz previous years meetings midwest political science association  donald campbell award outstanding methodological innovator public policy studies policy studies organization  gosnell prize best work political methodology presented political science conference preceding year work published solution ecological inference problem reconstructing individual behavior aggregate data princeton university press  elected president society political methodology   alumnus year state university new york new paltz alumni association  xcgary king  apsa research software award ezi easy program ecological inference kenneth benoit american political science association computer section  state university new york alumni honor roll award created honor alumni demonstrate outstanding professional achievement significant contributions higher education andor public service chancellor state university new york  heinz eulau award best article published american political science review american political science association enhancing democracy legislative redistricting andrew gelman vol   september  pp   elected vice president society political methodology   visiting fellow nuffield college oxford university summer  apsa research software award count program estimating event count duration regressions american political science association computer section  mills award outstanding contributor field public policy age  policy studies organization  pi sigma alpha award best paper us presidential election polls vary much vote predictable andrew gelman previous years meetings midwest political science association  apsa research software award judgeit program evaluating electoral systems redistricting plans andrew gelman american political science association computer section  curriculum development challenge award undergraduate research participation political science new york university  research challenge award public opinion executive behavior toward new presidency research agenda new york university  university fellowship university wisconsin madison    research grants citation data citation provenance documentation national science foundation aci    margo seltzer merce crosas  applying theoretical advances privacy computational social science practice alfred p sloan foundation  g     salil vadham urs gasser merce crosas micah altman  xcgary king  preparing social science research infrastructure potential inversion largest successes failures alfred p sloan foundation g   merce crosas    alfred p sloan fellowships toward creation interdisciplinary fellowships data science alfred p sloan foundation g   richard mccullough    rapid measuring intent chinese leaders censorship behavior national science foundation ses  jennifer pan margaret roberts    causal inference methods estimating long term health effects air quality regulations health effects instituteenvironmental protection agency  rfa   cr  corwin zigler et al    statistically defensible comparison similar disparate tests charles river analytics incdepartment defense sc evident fa  c    wayne thornton et al  bridge publishing words publishing data alfred p sloan foundation g    merce crosas tom carsey jonathan crabtree  privacy social science research national science foundation cns    salil vadhan edoardo airoldi phillip malone latanya sweeney  betterbirth trial safe childbirth checklist program gates foundation opp   atul gawande jonathan spector stuart lipsitz sue goldie stephen resch  center historical information analysis chia national science foundation bcs    patrick manning  databridge sociometric system long tail science data collections national science foundation oci    arcot rajasekar thomas carsey hye chung kum howard lander sharlini sankaran justin zahn  disney research grant   helping journals upgrade data publication reusable research    alfred p sloan foundation    micah altman john willinsky  text clustering amazon web services education research grant  measuring understanding responding covert social networks department defense multidisciplinary university research initiative muri winf   dodcap   patrick wolfe edo airoldi mung chiang david lazer devavrat shah burton singer  institute museum library services simple verified distributed preservation policy based archival replication system libraries archives museums using xcgary king  virtual private lockss lg     mark abrahamson ken bollen nancy mcgovern    national science foundation cdi type ii collaborative research bibliographic knowledge network dms  james pitman et al    library congress extension digital social science acquisitions preservation partnership myron gutmann mark abrahamson ken bollen    library congress extension digital social science acquisitions preservation partnership myron gutmann mark abrahamson ken bollen    initiative innovative computing genepattern dataverse network jill mesirov    time sharing experiments social sciences priming increase information content survey responses daniel hopkins survey time library congress digital social science acquisitions preservation partnership pandp    myron gutmann ken bollen david weakliem louise richardson  ministry health mexico evaluation system social protection health    national institutes health national institute aging grant software development resolving interpersonal incomparability survey research supp adapting statistical methods public health research p ag     robert wood johnson foundation scholars health policy research program   nicholas christakis joe newhouse  world health organization improved methods demographic forecasting    swiss peace foundation grant international relations events data methods development   two research fellows robert wood johnson foundation planning grant scholars health policy research program   nicholas christakis jennifer hochschild joe newhouse  national science foundation grant feasible uniform standard deep citation social science data grant ses    jim alt micah altman  toyota foundation projecting international conflict   graduate research fellowship national institutes health national institute aging grant global burden disease aging populations adapting statistical methods public health research xcgary king  christopher jl murray et al grant  p ag     weatherhead initiative grant military conflict public health perspective weatherhead center international affairs christopher jl murray    world health organization national institutes aging grant forecasting death age sex cause country    digital library initiative grant sponsored national science foundation defense advanced research projects agency national library medicine library congress national endowment humanities national aeronautics space administration virtual data center project see micah altman sidney verba et al grant iis     national science foundation grant co pi summer meetings society political methodology charles franklin sbr   intel corporation geospatial liboratory project micah altman susan lee paul bergen david cobb arlene olivero thomas parris william wei  icpsr data documentation initiative test micah altman michael mcdonald michael ting  national partnership advanced computational infrastructure supercomputer allocation grant ecological inference voting nazis ori rosen martin tanner june  may  centers disease control prevention division diabetes translation  july   july   global forum health research grant    national science foundation grant sbr  missing information survey research  march   february   national science foundation grant sbr  record american democracy    march   august   fairness s foundation grant record american democracy   xexx national science foundation grant sbr  generalizing multiple imputation time series data application survey research evaluating electoral systems redistricting plans  august   january  andrew gelman  national science foundation grant ses   modeling representation districtbased electoral systems  july   december   national science foundation grant co pi political methodology summer workshops  june   january   john jackson larry bartels henry brady stanley feldman gary king xcgary king  smith richardson foundation grant representation gerrymandering american electoral systems  august   september   national science foundation grant democratic representation district based electoral systems stochastic model legislative redistricting  february   july   national science foundation urp grant summer  citizen participation government foundation    books king gary kay schlozman norman nie eds future political science  perspectives new york routledge press  girosi federico gary king demographic forecasting princeton princeton university press  king gary ori rosen martin tanner eds ecological inference new methodological strategies new york cambridge university press  king gary solution ecological inference problem reconstructing individual behavior aggregate data princeton princeton university press  replication dataset icpsr s king gary robert keohane sidney verba designing social inquiry scientific inference qualitative research princeton princeton university press  king gary unifying political methodology likelihood theory statistical inference cambridge england new york cambridge university press  reprinted ann arbor university michigan press  king gary lyn ragsdale elusive executive discovering statistical patterns presidency washington dc congressional quarterly press  brace paul christine harrington gary king presidency american politics new york london new york university press  paperback published   articles king gary jennifer pan margaret e roberts press  chinese government fabricates social media posts strategic distraction engaged argument american political science review  king gary patrick lam margaret e roberts press  computer assisted keyword document set discovery unstructured text american journal political science xcgary king  schwab michail hendrik strobelt james tompkin colin fredericks connor huff dana higgins anton strezhnev mayya komisarchik gary king hanspeter pfister press  boocio education system hierarchical concept maps ieee transactions visualization computer graphics pp semrau katherine lisa r hirschhorn bhala kodkany jonathan spector danielle e tuller gary king stuart lisptiz narender sharma vinay p singh bharath kumar neelam dhingra kumar rebecca firestone vishwajeet kumar atul gawande press effectiveness safe childbirth checklist program reducing severe maternal fetal newborn harm study protocol matched pair cluster randomized controlled trial uttar pradesh india trials king gary christopher lucas richard nielsen press  balancesample size frontier matching methods causal inference american journal political science copy gilbert daniel gary king stephen pettigrew timothy wilson  comment estimating reproducibility psychological science science   aa copy king gary  preface big data data computational social science discovery prediction edited r michael alvarez cambridge cambridge university press  copy king gary  c span archives policymaking record american representative democracy foreword exploring c span archives advancing research agenda edited robert x browning west lafayette purdue university press copy kashin konstantin gary king samir soneji  systematic bias nontransparency us social security administration forecasts journal economic perspectives vol   spring  pp   copy kashin konstantin gary king samir soneji  explaining systematic bias nontransparency us social security administration forecasts political analysis vol   summer  pp   copy blackwell matthew james honaker gary king unified approach measurement error missing data overview sociological methods research press copy blackwell matthew james honaker gary king unified approach measurement error missingdata details extensions sociological methods research press copy king gary margaret roberts robust standard errors expose methodological problems fix political analysis vol    pp   copy king gary jennifer pan margaret roberts reverse engineering chinese censorship randomized experimentation participant observation science vol  issue   august    copy xcgary king  lazer david ryan kennedy gary king alessandro vespignani  parable google flu traps big data analysis science vol   march  pp   copy king gary restructuring social sciences reflections harvards institute quantitative social science ps political science politics vol    pp   copy king gary sen maya social science research improve teaching ps political science politics vol   july    copy http jmpnfvja king gary jennifer pan molly roberts censorship china allows government criticism silences collective expression american political science review vol   may    copy king gary maya sen troubled future colleges universities ps political science politics vol    pp   copy ugj soneji samir gary king statistical security social security demography  vol   pp   copy king gary samir soneji future death america demographic research vol    pp   copy iacus stefano gary king giuseppe porro causal inference without balance checking coarsened exact matching political analysis  copy iuuwyh king gary richard nielsen aaron wells letter editor medicare health support pilot program mccall cromwell new england journal medicine    february   copy honaker james gary king matthew blackwell amelia ii program missing data journal statistical software vol   december  jstatsoftorgvi goldstein edward benjamin j cowling allison e aiello saki takahashi gary king ying lu marc lipsitch estimating incidence curves several infections using symptom surveillance data plos one   e copy wand jonathan gary king olivia lau anchors software anchoring vignettes data journal statistical software     copy king gary richard nielsen carter coberley james e pope aaron wells avoiding randomization failure program evaluation population health management vol    s s king gary ensuring data rich future social sciences science vol   february    grimmer justin gary king general purpose computer assisted clustering conceptualization proceedings national academy sciences  february  xcgary king  iacus stefano gary king giuseppe porro multivariate matching methods monotonic imbalance bounding journal american statistical association vol   pp   king gary langche zeng inference case control studies shein chung chow ed encyclopedia biopharmaceutical statistics rd edition new york marcel dekker  king gary ying lu kenji shibuya designing verbal autopsy studies population health metrics   stevens gretchen gary king kenji shibuya deaths heart failure using coarsened exact matching correct cause death statistics population health metrics  vol   blackwell matthew stefano iacus gary king giuseppe porro cem coarsened exact matching stata stata journal vol    pp   honaker james gary king missing values time series crosssection data american journal political science vol   april  pp   hopkins daniel gary king improving anchoring vignettes designing surveys correct interpersonal incomparability public opinion quarterly  pp   doipoqnfq imai kosuke gary king clayton nall matched pairs future clusterrandomized experiments rejoinder statistical science vol    pp   hopkins daniel gary king method automated nonparametric content analysis social science american journal political science vol   january  pp   stefano iacus gary king giuseppe porro cem software coarsened exact matching journal statistical software vol  issue  june  gutmann myron p mark abrahamson margaret adams micah altman caroline arms kenneth bollen michael carlson jonathan crabtree darrell donakowski gary king jaret lyle marc maynard amy pienta richard rockwell lois timms ferrara copeland h young preserving past preserving future datapass project challenges preserving digital social science data library trends vol   winter  pp   king gary emmanuela gakidou kosuke imai jason lakin ryan moore clayton nall nirmala ravishankar manett vargas martha marxcxbxccxa texccxllez rojo juan eugenio hernaxccxndez axccxvila mauricio hernaxccxndez axccxvila hexccxctor hernaxccxndez llamas public policy poor randomised assessment mexican universal health insurance program lancet vol   april    lazer david alex pentland lada adamic sinan aral albert laxccxszloxccx barabaxccxsi devon brewer nicholas christakis noshir contractor james fowler myron gutmann tony jebara gary king michael macy deb roy marshall van alstyne computational xcgary king  social science science vol    february  pp   copy abrahamson mark kenneth bollen myron gutmann gary king amy pienta preserving quantitative research elicited data longitudinal analysis new developments archiving survey data us historical social research vol   summer    copy imai kosuke gary king clayton nall essential role pair matching cluster randomized experiments application mexican universal health insurance evaluation discussion statistical science vol    pp   king gary langche zeng empirical versus theoretical claims extreme counterfactuals response political analysis vol   pp   response discussion gary king langche zeng dangers extreme counterfactuals political analysis vol    pp   murray megan gary king effects international monetary fund loans health outcomes plos medicine vol    e reprinted azmal hussain ed addressing health challenges role international agencies icfai university press april  king gary changing evidence base social science research gary king kay schlozman norman nie eds future political science  perspectives new york routledge press  king gary kay schlozman norman nie introduction future political science gary king kay schlozman norman nie eds future political science  perspectives new york routledge press  imai kosuke gary king olivia lau toward common framework statistical analysis development journal computational graphical statistics vol    pp   king gary ori rosen martin tanner alexander f wagner ordinary economic voting behavior extraordinary election adolf hitler journal economic history vol   december  pp   ho daniel kosuke imai gary king elizabeth stuart matchit nonparametric preprocessing parametric causal inference journal statistical software vol    king gary ying lu verbal autopsy methods multiple causes statistical science vol   february  pp   imai kosuke gary king elizabeth stuart misunderstandings among experimentalists observationalists causal inference journal royal statistical society series vol  part   pp   king gary introduction dataverse network infrastructure data sharing discussion sociological methods research vol   november  pp   xcgary king  king gary emmanuela gakidou nirmala ravishankar ryan moore jason lakin manett vargas martha marxcxbxccxa texccxllez rojo juan eugenio hernaxccxndez axccxvila mauricio hernaxccxndez axccxvila hexccxctor hernaxccxndez llamas politically robust experimental design public policy evaluation application mexican universal health insurance program journal policy analysis management vol  issue   pp   altman micah gary king proposed standard scholarly citation quantitative data lib magazine vol   marchapril  ho daniel e kosuke imai gary king elizabeth stuart matching nonparametric preprocessing reducing model dependence parametric causal inference political analysis vol   pp   king gary langche zeng detecting model dependence statistical inference response international studies quarterly vol  march  pp   king gary langche zeng history guide pitfalls counterfactual inference discussion international studies quarterly vol  march  pp   grofman bernard gary king future partisan symmetry judicial test partisan gerrymandering lulac v perry election law journal vol   january  pp   king gary jonathan wand comparing incomparable survey responses new tools anchoring vignettes political analysis vol   winter  pp   king gary ori rosen martin tanner ecological inference larry blume steven n durlauf eds new palgrave dictionary economics nd edition  gakidou emmanuela gary king death survey estimating adult mortality without selection bias sibling survival data demography vol   august  pp   reprinted w paul vogt ed selecting research methods london sage publications  stoll heather gary king langche zeng  whatif software evaluating counterfactuals journal statistical software vol  issue   pp   abstract published journal computational graphical statistics vol   march  p  epstein lee daniel e ho gary king jeffrey segal effect war supreme court samuel kernell steven smith edsrd ed principles practice american politics classic contemporary readings washington dc congressional quarterly press  king gary langche zeng dangers extreme counterfactuals political analysis vol    pp   king gary publication publication ps political science politics vol xxxix  january    xcgary king  epstein lee daniel e ho gary king jeffrey segal supreme court crisis war affects non war cases new york university law review vol   april    king gary ei program ecological inference journal statistical software vol  issue  september  pp   abstract published journal computational graphical statistics king gary ori rosen martin tanner information ecological inference introduction king rosen tanner eds ecological inference new methodological strategies new york cambridge university press  imai kosuke gary king illegally counted overseas absentee ballots decide  us presidential election perspectives politics vol   september  pp   gill jeff gary king hessian invertible alternatives model respecification nonlinear estimation sociological methods research vol    pp   gill jeff gary king numerical issues involved inverting hessian matrices pp   chapter  micah altman jeff gill michael p mcdonald eds numerical issues statistical computing social scientist hoboken nj john wiley sons inc  king gary finding new information ecological inference models comment jon wakefield ecological inference  xcx  tables journal royal statistical society series vol   p  beck nathaniel gary king langche zeng theory evidence international conflict response de marchi gelpi grynaviski american political science review vol   may  pp   response discussion nathaniel beck gary king langche zeng improving quantitative studies international conflict conjecture american political science review vol   march    king gary langche zeng inference case control studies shein chung chow ed encyclopedia biopharmaceutical statistics nd edition new york marcel dekker  king gary christopher jl murray joshua salomon ajay tandon enhancing validity cross cultural comparability measurement survey research american political science review vol   december    reprinted printing errors corrected vol   february    reprinted  david j bartholomew ed measurement los angeles sage publications   susanne pickel gert pickel hans joachim lauth detlef jahn  methoden der vergleichenden politikwissenschaft neuere entwicklungen und anwendungen methods comparative political science latest developments applications wiesbaden vsverlag  w paul vogt ed selecting research methods london sage publications  xcgary king  gelman andrew jonathan katz gary king empirically evaluating electoral college chapter  pp   ann n crigler marion r edward j mccaffery eds rethinking vote politics prospects american electoral reform new york oxford university press  epstein lee gary king building infrastructure empirical research law comments four law school deans journal legal education vol    pp   lowe gary king statistical methods evaluating information extraction systems k pastra ed proceedings workshop evaluation initiatives natural language processing th conference european association computational linguistics budapest hungary  pp   king gary lowe automated information extraction tool international conflict data performance good human coders rare events evaluation design international organization vol   july  pp   king gary future replication international studies perspectives vol   february  pp   symposium replication international studies research following gary king replication replication ps political science politics vol xxviii  september  pp   tomz michael gary king langche zeng relogit rare events logistic regression journal statistical software vol  issue   pp   abstract published journal computational graphical statistics vol   march    tomz michael jason wittenberg gary king clarify software interpreting presenting statistical results journal statistical software vol  issue   pp   abstract published journal computational graphical statistics vol   march    adolph christopher gary king michael c herron kenneth w shotts consensus second stage analyses ecological inference models political analysis vol   winter  pp   adolph christopher gary king analyzing second stage ecological regressions political analysis vol  winter  pp   gakidou emmanuela gary king measuring total health inequality adding individual variation group level differences biomed central international journal equity health vol    reprinted christopher murray david b evans eds health systems performance assessment debates methods empiricism geneva world health organization  chapter  pp   gakidou emmanuela gary king determinants inequality child survival results  countries  christopher murray david b evans eds health systems performance assessment debates methods empiricism geneva world health organization chapter  pp   king gary langche zeng estimating risk rate levels ratios differences case control studies statistics medicine vol   pp   xcgary king  king gary isolating spatial autocorrelation aggregation bias distributional violations ecological inference political analysis vol   summer    murray christopher jl gary king alan lopez niels tomijima etienne krug armed conflict public health problem bmj vol   february    bmj called british medical journal king gary christopher jl murray rethinking human security political science quarterly vol   winter    epstein lee gary king rules inference comments six scholars rejoinder us empirical research goals legal scholarship response university chicago law review vol   winter  pp   chinese translation forthcoming journal legal methods portugese translation revista da faculdade de direito da ufrgs honaker james gary king jonathan n katz fast easy efficient estimator multiparty electoral data political analysis vol   winter    king gary langche zeng improving forecasts state failure world politics vol   july    rosen ori wenxin jiang gary king martin tanner bayesian frequentist inference ecological inference rxc case statistica neerlandica vol    pp   altman micah leonid andreev mark diggory gary king daniel l kiskis elizabeth kolster krot sidney verba digital library dissemination replication quantitative social science research virtual data center social science computer review vol   winter  pp   altman micah leonid andreev mark diggory gary king daniel l kiskis elizabeth kolster krot sidney verba introduction virtual data center project software proceedings first acmieee joint conference digital libraries acm press  pp   king gary james honaker anne joseph kenneth scheve analyzing incomplete political science data alternative algorithm multiple imputation american political science review vol   march  pp   reprinted martin bulmer patrick j sturgis nick allum eds secondary analysis survey data vol  sage publications  reprinted salvatore babones ed fundamentals regression modeling los angeles sage publications king gary langche zeng logistic regression rare events data political analysis vol   spring  pp   king gary langche zeng explaining rare events international relations international organization vol   summer  pp   king gary proper nouns methodological propriety pooling dyads international relations data concluding comment symposium analysis dyadic xcgary king  international conflict data international organization vol   fall  pp   alt james e gary king curtis signorino aggregation among binary count duration models estimating quantities different levels data political analysis vol   winter  pp   beck nathaniel gary king langche zeng improving quantitative studies international conflict conjecture american political science review vol   march    king gary michael tomz jason wittenberg making statistical analyses improving interpretation presentation american journal political science vol   april    replication dataset icpsr  reprinted jacqueline scott yu xie eds quantitative social science vol  sage publications  king gary geography statistics ecological inference annals association american geographers vol   september  pp  response symposium gary king solution ecological inference problem reconstructing individual behavior aggregate data princeton princeton university press  lewis jeffrey gary king evidence directional vs proximity voting political analysis vol   august  pp   katz jonathan gary king statistical model multiparty electoral data american political science review vol   march    replication dataset icpsr  king gary ori rosen martin tanner binomial beta hierarchical models ecological inference sociological methods research vol   august    king gary future ecological inference research reply freedman et al journal american statistical association march  king gary bradley palmquist record american democracy   sociological methods research vol   february    ps political science politics vol xxx  december    icpsr bulletin vol xviii  may    gelman andrew gary king chuanhai liu asked answered multiple imputation multiple surveys journal american statistical association vol   september  pp   rejoinder pp   king gary michael laver many publications still evidence electoral studies vol   december  pp   gelman andrew gary king john boscardin estimating probability events never occurred vote decisive journal american statistical association vol   march  pp   king gary context count political geography vol   february  pp   xcgary king  benoit kenneth gary king preview ei ezi programs ecological inference social science computer review vol   winter  pp   gelman andrew gary king advantages conflictual redistricting pp   iain mclean david butler eds fixing boundary defining redefining single member electoral districts aldershot england dartmouth publishing company  king gary john bruce andrew gelman racial fairness legislative redistricting paul e peterson ed classifying race princeton princeton university press  king gary curtis signorino generalization generalized event count model comments achen amato londregan response three authors symposium gary kings generalized event count model political analysis vol   pp   king gary replication replication ps political science politics comments nineteen authors response revised proposal proposal vol xxviii  september  pp   reprinted martin bulmer patrick j sturgis nick allum eds secondary analysis survey data vol  sage publications  king gary robert keohane sidney verba importance research design political science response five authors symposium qualitativequantitative disputation gary king robert keohane sidney verbas designing social inquiry scientific inference qualitiative research american political science review vol   june  pp   gelman andrew gary king enhancing democracy legislative redistricting american political science review vol   september  pp   replication dataset icpsr s parts reprinted california policy studies brief publication california policy seminar vol   april  voss steven andrew gelman gary king pre election survey methodology details nine polling organizations   public opinion quarterly vol   pp   gelman andrew gary king unified method evaluating electoral systems redistricting plans american journal political science vol   may  pp   replication dataset icpsr s alt james e gary king transfers governmental power meaning time dependence comparative political studies vol   july  pp   dataset icpsr s winkelmann rainer curtis signorino gary king correction underdispersed event count probability distribution political analysis  pp   gelman andrew gary king party competition media messages us presidential election campaigns l sandy maisel ed parties respond changes american party system nd edition boulder colorado westview press  pp   xcgary king  gelman andrew gary king american presidential election campaign polls variable votes predictable british journal political science vol   october  pp   reprinted  philip seib ed political communication vol  sage publications   kai arzheimer jocelyn evans eds electoral behaviour vol  sage publications  king gary john bruce michael gilligan science political science graduate admissions ps political science politics vol xxvi  december  pp   king gary michael laver party platforms mandates government spending american political science review vol   september  pp   replication dataset icpsr s king gary methodology presidential research george edwards iii john h kessel bert rockman eds researching presidency vital questions new approaches pittsburgh university pittsburgh  pp   king gary daniel j walsh good research bad research extending zimiles criticism early childhood research quarterly vol   september  pp   king gary truth stranger prediction questionable causal inference american journal political science vol   november  pp   response discussion gary king lie statistics avoiding common mistakes quantitative political science american journal political science vol   august  pp   king gary constituency service incumbency advantage british journal political science vol   january  pp   replication dataset icpsr s king gary political methodology political analysis vol   pp   replication dataset icpsr s king gary stochastic variation comment lewis beck skalabans rsquare political analysis vol   pp   response discussion gary king lie statistics avoiding common mistakes quantitative political science american journal political science vol   august  pp   king gary andrew gelman systemic consequences incumbency advantage us house american journal political science vol   february  pp   dataset icpsr  king gary calculating standard errors predicted values based nonlinear functional forms political methodologist vol   fall  gelman andrew gary king estimating incumbency advantage without bias american journal political science vol   november  pp   dataset icpsr  king gary james alt nancy burns michael laver unified model cabinet dissolution parliamentary democracies american journal political science vol xcgary king    august  pp   errata vol   november  p  replication dataset icpsr s gelman andrew gary king estimating electoral consequences legislative redistricting journal american statistical association vol   june  pp   king gary electoral responsiveness partisan bias multiparty democracies legislative studies quarterly vol xv  may  pp   ansolabehere stephen gary king measuring consequences delegate selection rules presidential nominations journal politics vol   may  pp   king gary representation legislative redistricting stochastic model american journal political science vol   november  pp   king gary event count models international relations generalizations applications international studies quarterly vol   june  pp   king gary variance specification event count models restrictive assumptions generalized estimator american journal political science vol   august  pp   king gary seemingly unrelated poisson regression model sociological methods research vol   february  pp   gelman andrew gary king electoral responsiveness us congressional elections   abstract proceedings social statistics section american statistical association  p  king gary statistical models political science event counts bias conventional procedures evidence exponential poisson regression model american journal political science vol   august  pp   king gary robert x browning democratic representation partisan bias congressional elections american political science review vol   december    king gary presidential appointments supreme court adding systematic explanation probabilistic description american politics quarterly vol   july  pp   browning robert x gary king seats votes gerrymandering measuring bias representation legislative redistricting law policy vol   july  pp   king gary lie statistics avoiding common mistakes quantitative political science american journal political science vol   august  pp  \n",
      "\n",
      "Similar resume number: 8\n",
      "Resume label  790  Similarity Score:  0.3146645426750183\n",
      "Candidate resume: charles mathews chef areas expertise personal summary seasonal dishes calm pleasant helpful hardworking individual passion great food enjoys cooking mouth watering dishes charles gets real buzz working busy kitchen great pleasure seeing happy faces enjoying good meal cooked natural leader able give orders delegate tasks also able reliably carry orders well experienced chef proven track record making great food entice diners leave wanting loves freedom expression cooking gives willing work hard build career culinary world right looking suitable position company wants recruit talented enthusiastic individuals cooking methods implementing recipes preparing meals food preparation contract catering baking skills career history food costings staff supervision special diets professional basic food hygiene certificate first aider german speaker restaurant coventry chef april  present working part team highly motivated chefs responsible efficient running kitchen area directly charge overall preparation food served dining hall cafeteria duties cooking tasty nutritious well balanced meals customers assisting basic preparation food supervision head chef deciding quantities food cooked size portions served creating dishes clients special dietary cultural needs making sure kitchen staff always wear appropriate clothing head wear accordance relevant guidelines negotiating sales representatives price orders supplies maintaining correct level fresh frozen dried foods store room hospital kitchen manchester may  march  personal skills trainee line cook creative flair key skills competencies self motivated culinary attributes determined learn good communicator personal details charles mathews dayjob ltd big peg birmingham b nf       e infodayjobcom driving license yes nationality british strong desire instil good practice procedures working mentoring training supporting junior chefs ability bring creative commercially viable new lines market competitors physically fit able lift heavy goods stand long periods time able communicate well superiors subordinates accurately estimate food labour costs enforcing strict health hygiene standards cooking food preparation area academic qualifications birmingham north university   professional culinary arts ba hons birmingham south college   levels maths b english physic c geography references available request xccopyright information please read xcxa chef resume template copyright dayjob ltd  job seekers may download use particular resume example personal use help write one also welcome link page site however cv template must distributed made available websites without prior permission questions relating use template please email infodayjobcom\n",
      "\n",
      "Similar resume number: 9\n",
      "Resume label  350  Similarity Score:  0.31214702129364014\n",
      "Candidate resume: sample education resume fred flintcarrier  bellagio place pretend ne     flintrubblecom education bachelor science education human sciences gpa  anticipated graduation date december xx university nebraska lincoln study abroad university munich germany september december xx endorsement middle grades education subject areas mathematics language arts certification local substitute teaching certificate lincoln application pending nebraska initial teaching certificate praxis status completed praxis related experience education student teaching pretend middle school pretend ne january may xx pre algebra grade  xexxa taught one section  students varying abilities xexxa conducted review fractions pre geometry grade  xexxa taught one section  students low math abilities xexxa created planned implemented unit pythagorean theorem right triangles language arts grade  xexxa taught two sections students full range abilities xexxa initiated essay writing assignments rural heritage xexxa assembled students essays photos album donated county museum comprehensive duties xexxa participated aspects teaching including mid term reports parent teacher conferences xexxa attended faculty meetings services xexxa co sponsored middle school math day practicum wilma high school wilma ne october november xx language arts grade  xexxa observed assisted classroom teaching block scheduling system xexxa developed unit preposition games xexxa graded quizzes short story unit xcflintcarrier page  tutor pebble middle school pretend ne xexxa tutored th grade student math english social studies february may xx head water safety instructor lifeguard pretend ne summers xx xx xexxa organized pretend pools summer session red cross swimming lessons xexxa taught levels swimming abilities infants adults xexxa supervised maintenance pool honors regents scholarship  years national golden key honor society mathematics master scholarship xx deans list college education human sciences four semesters professional skills public speaking including power point interpersonal communication basic reading speaking level german strong writing skills experience european culture computer word excel international travel experience germany england france italy spain canada mexico relevant coursework introduction complex variable theory mathematical analysis ordinary differential equations ii native american women writers chicano literature multicultural education intercultural communication nationality race relations advanced composition computers classroom volunteer activity big brother lincoln ne reader elderly nursing home pretend ne spring fall semesters xx summer xx campus activities member circle j international unl member nebraska student education association unl member officer university singers choir unl xx present xx present xx xx additional work experience sales associate cheap tacky clothing cavalier mall lincoln ne produce clerk expensive foods pretend ne january xx june xx january xx august xx\n",
      "\n",
      "Similar resume number: 10\n",
      "Resume label  563  Similarity Score:  0.3114575147628784\n",
      "Candidate resume: horticulturist resume template jennifer b allen belvedere atlanta georgia phone    allenjbycmailcom objective horticulturist major public park botanical garden summary qualifications  years experience horticulturist local gardening company serving large ornamental gardens parks golf courses excellent verbal written communication skills english career experience job history  present horticulturist consultant johnson garden services meet fellow horticulturists gardening associations government agencies plant cultivation greenhouse management preservation parks botanical gardens metropolis perform research studies gardening products pesticides fertilizers crossbreeding techniques conduct horticulture training series homeowners landscape architects administrators parks resorts demonstrate new products services carry applied field research chemical products encouraging season growth plants orchid blooms conduct field testing herbicides chemicals controlling plant diseases attend conferences seminars emerging technologies horticulture trends technologies education xc present various house rd party seminars horticulture trends developments pest control gardening sciences   associate horticulture columbus technical college georgia professional reference furnished upon request\n"
     ]
    }
   ],
   "source": [
    "given_job_predict_similiar_resumes()"
   ]
  },
  {
   "cell_type": "markdown",
   "metadata": {},
   "source": [
    "resume 1057: xefxxaxefxxaxefxxaxefxxaxefxxaxefxxaxefxxaxefxxaxefxxa xefxxxefxxaxefxxaxefxxaxefxxaxefxxaxefxxaxefxxa\n",
    "resume 1057 xc xefxxaxefxxaxefxxaxefxxaxefxxaxefxxaxefxxaxefxxaxefxxa"
   ]
  },
  {
   "cell_type": "code",
   "execution_count": null,
   "metadata": {},
   "outputs": [],
   "source": []
  },
  {
   "cell_type": "code",
   "execution_count": null,
   "metadata": {},
   "outputs": [],
   "source": []
  },
  {
   "cell_type": "markdown",
   "metadata": {},
   "source": [
    "<br>\n",
    "<br>\n",
    "<br>\n",
    "<br>\n",
    "<br>\n",
    "\n",
    "# K Means Clustering\n",
    "Appears that our embeddings are pretty close together. So either the resumes are similar or the embeddings aren't great"
   ]
  },
  {
   "cell_type": "markdown",
   "metadata": {},
   "source": [
    "https://medium.com/@ermolushka/text-clusterization-using-python-and-doc2vec-8c499668fa61"
   ]
  },
  {
   "cell_type": "code",
   "execution_count": 122,
   "metadata": {},
   "outputs": [],
   "source": [
    "from sklearn.cluster import KMeans\n",
    "from sklearn.decomposition import PCA"
   ]
  },
  {
   "cell_type": "markdown",
   "metadata": {},
   "source": [
    "### KMeans for job vectors"
   ]
  },
  {
   "cell_type": "code",
   "execution_count": 137,
   "metadata": {},
   "outputs": [
    {
     "name": "stderr",
     "output_type": "stream",
     "text": [
      "/Users/richardkuzma/opt/anaconda3/lib/python3.7/site-packages/ipykernel_launcher.py:5: DeprecationWarning: Call to deprecated `doctag_syn0` (Attribute will be removed in 4.0.0, use docvecs.vectors_docs instead).\n",
      "  \"\"\"\n",
      "/Users/richardkuzma/opt/anaconda3/lib/python3.7/site-packages/ipykernel_launcher.py:9: DeprecationWarning: Call to deprecated `doctag_syn0` (Attribute will be removed in 4.0.0, use docvecs.vectors_docs instead).\n",
      "  if __name__ == '__main__':\n",
      "/Users/richardkuzma/opt/anaconda3/lib/python3.7/site-packages/ipykernel_launcher.py:10: DeprecationWarning: Call to deprecated `doctag_syn0` (Attribute will be removed in 4.0.0, use docvecs.vectors_docs instead).\n",
      "  # Remove the CWD from sys.path while we load stuff.\n",
      "/Users/richardkuzma/opt/anaconda3/lib/python3.7/site-packages/ipykernel_launcher.py:11: DeprecationWarning: Call to deprecated `doctag_syn0` (Attribute will be removed in 4.0.0, use docvecs.vectors_docs instead).\n",
      "  # This is added back by InteractiveShellApp.init_path()\n"
     ]
    },
    {
     "data": {
      "image/png": "[encoded data removed]",
      "text/plain": [
       "<Figure size 432x288 with 1 Axes>"
      ]
     },
     "metadata": {
      "needs_background": "light"
     },
     "output_type": "display_data"
    }
   ],
   "source": [
    "# define number of clusters here\n",
    "kmeans_jobs_model = KMeans(n_clusters=3) \n",
    "\n",
    "\n",
    "X = kmeans_jobs_model.fit(d2v_jobs_model.docvecs.doctag_syn0)\n",
    "labels=kmeans_jobs_model.labels_.tolist()\n",
    "\n",
    "\n",
    "l = kmeans_jobs_model.fit_predict(d2v_jobs_model.docvecs.doctag_syn0)\n",
    "pca = PCA(n_components=2).fit(d2v_jobs_model.docvecs.doctag_syn0)\n",
    "datapoint = pca.transform(d2v_jobs_model.docvecs.doctag_syn0)\n",
    "\n",
    "plt.figure\n",
    "label1 = [\"#FFFF00\", \"#008000\", \"#0000FF\", \"#800080\"]\n",
    "color = [label1[i] for i in labels]\n",
    "plt.scatter(datapoint[:, 0], datapoint[:, 1], c=color)\n",
    "\n",
    "centroids = kmeans_jobs_model.cluster_centers_\n",
    "centroidpoint = pca.transform(centroids)\n",
    "plt.scatter(centroidpoint[:, 0], centroidpoint[:, 1], marker='^', s=150, c='#000000')\n",
    "plt.show()"
   ]
  },
  {
   "cell_type": "markdown",
   "metadata": {},
   "source": [
    "### KMeans for resumes"
   ]
  },
  {
   "cell_type": "code",
   "execution_count": 141,
   "metadata": {},
   "outputs": [
    {
     "name": "stderr",
     "output_type": "stream",
     "text": [
      "/Users/richardkuzma/opt/anaconda3/lib/python3.7/site-packages/ipykernel_launcher.py:5: DeprecationWarning: Call to deprecated `doctag_syn0` (Attribute will be removed in 4.0.0, use docvecs.vectors_docs instead).\n",
      "  \"\"\"\n",
      "/Users/richardkuzma/opt/anaconda3/lib/python3.7/site-packages/ipykernel_launcher.py:9: DeprecationWarning: Call to deprecated `doctag_syn0` (Attribute will be removed in 4.0.0, use docvecs.vectors_docs instead).\n",
      "  if __name__ == '__main__':\n",
      "/Users/richardkuzma/opt/anaconda3/lib/python3.7/site-packages/ipykernel_launcher.py:10: DeprecationWarning: Call to deprecated `doctag_syn0` (Attribute will be removed in 4.0.0, use docvecs.vectors_docs instead).\n",
      "  # Remove the CWD from sys.path while we load stuff.\n",
      "/Users/richardkuzma/opt/anaconda3/lib/python3.7/site-packages/ipykernel_launcher.py:11: DeprecationWarning: Call to deprecated `doctag_syn0` (Attribute will be removed in 4.0.0, use docvecs.vectors_docs instead).\n",
      "  # This is added back by InteractiveShellApp.init_path()\n"
     ]
    },
    {
     "data": {
      "image/png": "[encoded data removed]",
      "text/plain": [
       "<Figure size 432x288 with 1 Axes>"
      ]
     },
     "metadata": {
      "needs_background": "light"
     },
     "output_type": "display_data"
    }
   ],
   "source": [
    "# define number of clusters here\n",
    "kmeans_resumes_model = KMeans(n_clusters=4) \n",
    "\n",
    "\n",
    "X = kmeans_resumes_model.fit(d2v_resume_model.docvecs.doctag_syn0)\n",
    "labels=kmeans_resumes_model.labels_.tolist()\n",
    "\n",
    "\n",
    "l = kmeans_resumes_model.fit_predict(d2v_resume_model.docvecs.doctag_syn0)\n",
    "pca = PCA(n_components=2).fit(d2v_resume_model.docvecs.doctag_syn0)\n",
    "resume_datapoint = pca.transform(d2v_resume_model.docvecs.doctag_syn0)\n",
    "\n",
    "plt.figure\n",
    "label2 = [\"#FFFF00\", \"#008000\", \"#0000FF\", \"#800080\"]\n",
    "color = [label2[i] for i in labels]\n",
    "plt.scatter(resume_datapoint[:, 0], resume_datapoint[:, 1], c=color)\n",
    "\n",
    "resume_centroids = kmeans_resumes_model.cluster_centers_\n",
    "resume_centroidpoint = pca.transform(resume_centroids)\n",
    "plt.scatter(resume_centroidpoint[:, 0], resume_centroidpoint[:, 1], marker='^', s=150, c='#000000')\n",
    "plt.show()"
   ]
  },
  {
   "cell_type": "code",
   "execution_count": null,
   "metadata": {},
   "outputs": [],
   "source": []
  },
  {
   "cell_type": "code",
   "execution_count": null,
   "metadata": {},
   "outputs": [],
   "source": []
  },
  {
   "cell_type": "code",
   "execution_count": null,
   "metadata": {},
   "outputs": [],
   "source": []
  }
 ],
 "metadata": {
  "kernelspec": {
   "display_name": "Python 3",
   "language": "python",
   "name": "python3"
  },
  "language_info": {
   "codemirror_mode": {
    "name": "ipython",
    "version": 3
   },
   "file_extension": ".py",
   "mimetype": "text/x-python",
   "name": "python",
   "nbconvert_exporter": "python",
   "pygments_lexer": "ipython3",
   "version": "3.7.6"
  }
 },
 "nbformat": 4,
 "nbformat_minor": 4
}
