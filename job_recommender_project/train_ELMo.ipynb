{
 "cells": [
  {
   "cell_type": "markdown",
   "metadata": {},
   "source": [
    "https://www.analyticsvidhya.com/blog/2019/03/learn-to-use-elmo-to-extract-features-from-text/"
   ]
  },
  {
   "cell_type": "markdown",
   "metadata": {},
   "source": [
    "#### to load elmo to local disk:\n",
    "#download the model to local so it can be used again and again\n",
    "$ mkdir module/module_elmo2\n",
    "# Download the module, and uncompress it to the destination folder. \n",
    "$ curl -L \"https://tfhub.dev/google/elmo/2?tf-hub-format=compressed\" | tar -zxvC module/module_elmo2"
   ]
  },
  {
   "cell_type": "code",
   "execution_count": null,
   "metadata": {},
   "outputs": [],
   "source": []
  },
  {
   "cell_type": "code",
   "execution_count": 6,
   "metadata": {},
   "outputs": [],
   "source": [
    "#data science\n",
    "import pandas as pd\n",
    "import numpy as np\n",
    "import sklearn as skl\n",
    "from sklearn.metrics.pairwise import cosine_similarity\n",
    "import random\n",
    "from matplotlib import pyplot as plt\n",
    "\n",
    "#NLP\n",
    "import spacy\n",
    "import re\n",
    "\n",
    "import time\n",
    "from tqdm import tqdm  # progress bar\n",
    "\n",
    "# file loading\n",
    "import pickle\n",
    "\n",
    "#deep learning\n",
    "import tensorflow as tf\n",
    "import tensorflow_hub as hub\n"
   ]
  },
  {
   "cell_type": "code",
   "execution_count": 7,
   "metadata": {},
   "outputs": [],
   "source": [
    "pd.set_option('display.max_colwidth', 200)"
   ]
  },
  {
   "cell_type": "code",
   "execution_count": null,
   "metadata": {},
   "outputs": [],
   "source": []
  },
  {
   "cell_type": "code",
   "execution_count": 9,
   "metadata": {},
   "outputs": [],
   "source": [
    "# resumes only for now\n",
    "# gives df with list of strings (tokenized) as well as lemmatized list of strings\n",
    "\n",
    "ec2_resumes_path = '/home/ubuntu/NLP_projects/job_recommender_project/data/large_files/lf_cleaned_lemmatized_tokenized_resumes.csv'\n",
    "ec2_pickle_resumes_path = '/home/ec2-user/NLP_projects/job_recommender_project/data/resumes_with_list_of_list.pickle'\n",
    "\n",
    "resumes = pd.read_pickle(ec2_pickle_resumes_path)\n"
   ]
  },
  {
   "cell_type": "code",
   "execution_count": 10,
   "metadata": {},
   "outputs": [
    {
     "data": {
      "text/html": [
       "<div>\n",
       "<style scoped>\n",
       "    .dataframe tbody tr th:only-of-type {\n",
       "        vertical-align: middle;\n",
       "    }\n",
       "\n",
       "    .dataframe tbody tr th {\n",
       "        vertical-align: top;\n",
       "    }\n",
       "\n",
       "    .dataframe thead th {\n",
       "        text-align: right;\n",
       "    }\n",
       "</style>\n",
       "<table border=\"1\" class=\"dataframe\">\n",
       "  <thead>\n",
       "    <tr style=\"text-align: right;\">\n",
       "      <th></th>\n",
       "      <th>ID</th>\n",
       "      <th>dirty_resume</th>\n",
       "      <th>resume</th>\n",
       "      <th>lol</th>\n",
       "    </tr>\n",
       "  </thead>\n",
       "  <tbody>\n",
       "    <tr>\n",
       "      <th>0</th>\n",
       "      <td>1</td>\n",
       "      <td>b'John H. Smith, P.H.R.\\n800-991-5187 | PO Box 1673 | Callahan, FL 32011 | info@greatresumesfast.com\\n\\nApproachable innovator with a passion for Human Resources.\\n\\nSENIOR HUMAN RESOURCES PROFESS...</td>\n",
       "      <td>john h smith phr    po box  callahan fl  infogreatresumesfastcom approachable innovator passion human resources senior human resources professional personable analytical flexible senior hr profess...</td>\n",
       "      <td>[[john, h], [smith, phr], [po, box, callahan, fl, infogreatresumesfastcom, approachable, innovator, passion, human, resources], [senior, human, resources, professional, personable, analytical, fle...</td>\n",
       "    </tr>\n",
       "    <tr>\n",
       "      <th>1</th>\n",
       "      <td>2</td>\n",
       "      <td>b'Name Surname\\nAddress\\nMobile No/Email\\nPERSONAL PROFILE\\nI am a self motivated individual who has a confident approach to people. I communicate\\nwell with all levels of personnel and feel that ...</td>\n",
       "      <td>name surname address mobile noemail personal profile self motivated individual confident approach people communicate well levels personnel feel good listening ability allows resolve problems quick...</td>\n",
       "      <td>[[name, surname, address, mobile, noemail, personal, profile, self, motivated, individual, confident, approach, people], [communicate, well, levels, personnel, feel, good, listening, ability, allo...</td>\n",
       "    </tr>\n",
       "    <tr>\n",
       "      <th>2</th>\n",
       "      <td>3</td>\n",
       "      <td>b'Anthony Brown\\nHR Assistant\\nAREAS OF EXPERTISE\\n\\nPERSONAL SUMMARY\\n\\nHR processes &amp; systems\\n\\nA competent and organised individual who is able to work as part of a team and\\nmanage several pr...</td>\n",
       "      <td>anthony brown hr assistant areas expertise personal summary hr processes systems competent organised individual able work part team manage several priorities one time anthony positive attitude str...</td>\n",
       "      <td>[[anthony, brown, hr, assistant, areas, expertise, personal, summary, hr, processes, systems, competent, organised, individual, able, work, part, team, manage, several, priorities, one, time], [an...</td>\n",
       "    </tr>\n",
       "    <tr>\n",
       "      <th>3</th>\n",
       "      <td>4</td>\n",
       "      <td>b'www.downloadmela.com\\nSatheesh\\nEMAIL ID:\\nCareer Objective\\nTo pursue a growth oriented career with a progressive company that provides a scope to apply my\\nknowledge and skills that would help...</td>\n",
       "      <td>satheesh email id career objective pursue growth oriented career progressive company provides scope apply knowledge skills would help contribute best organization personal skills enjoy strong log...</td>\n",
       "      <td>[[id, career, objective, pursue, growth, oriented, career, progressive, company, provides, scope, apply, knowledge, skills, would, help, contribute, best, organization], [personal, skills, enjoy, ...</td>\n",
       "    </tr>\n",
       "    <tr>\n",
       "      <th>4</th>\n",
       "      <td>5</td>\n",
       "      <td>b\"HUMAN RESOURCES DIRECTOR\\n\\xef\\x82\\xb7Expert in organizational effectiveness.\\n\\xef\\x82\\xb7Recognized consensus-builder among diverse groups.\\n\\xef\\x82\\xb7Innovative problem solver.\\n\\xef\\x82\\xb...</td>\n",
       "      <td>human resources director expert organizational effectiveness recognized consensus builder among diverse groups innovative problem solver strategic partner effective executive coach facilitator man...</td>\n",
       "      <td>[[human, resources, director, expert, organizational, effectiveness], [recognized, consensus, builder, among, diverse, groups], [innovative, problem, solver], [strategic, partner], [effective, exe...</td>\n",
       "    </tr>\n",
       "  </tbody>\n",
       "</table>\n",
       "</div>"
      ],
      "text/plain": [
       "   ID  \\\n",
       "0   1   \n",
       "1   2   \n",
       "2   3   \n",
       "3   4   \n",
       "4   5   \n",
       "\n",
       "                                                                                                                                                                                              dirty_resume  \\\n",
       "0  b'John H. Smith, P.H.R.\\n800-991-5187 | PO Box 1673 | Callahan, FL 32011 | info@greatresumesfast.com\\n\\nApproachable innovator with a passion for Human Resources.\\n\\nSENIOR HUMAN RESOURCES PROFESS...   \n",
       "1  b'Name Surname\\nAddress\\nMobile No/Email\\nPERSONAL PROFILE\\nI am a self motivated individual who has a confident approach to people. I communicate\\nwell with all levels of personnel and feel that ...   \n",
       "2  b'Anthony Brown\\nHR Assistant\\nAREAS OF EXPERTISE\\n\\nPERSONAL SUMMARY\\n\\nHR processes & systems\\n\\nA competent and organised individual who is able to work as part of a team and\\nmanage several pr...   \n",
       "3  b'www.downloadmela.com\\nSatheesh\\nEMAIL ID:\\nCareer Objective\\nTo pursue a growth oriented career with a progressive company that provides a scope to apply my\\nknowledge and skills that would help...   \n",
       "4  b\"HUMAN RESOURCES DIRECTOR\\n\\xef\\x82\\xb7Expert in organizational effectiveness.\\n\\xef\\x82\\xb7Recognized consensus-builder among diverse groups.\\n\\xef\\x82\\xb7Innovative problem solver.\\n\\xef\\x82\\xb...   \n",
       "\n",
       "                                                                                                                                                                                                    resume  \\\n",
       "0  john h smith phr    po box  callahan fl  infogreatresumesfastcom approachable innovator passion human resources senior human resources professional personable analytical flexible senior hr profess...   \n",
       "1  name surname address mobile noemail personal profile self motivated individual confident approach people communicate well levels personnel feel good listening ability allows resolve problems quick...   \n",
       "2  anthony brown hr assistant areas expertise personal summary hr processes systems competent organised individual able work part team manage several priorities one time anthony positive attitude str...   \n",
       "3   satheesh email id career objective pursue growth oriented career progressive company provides scope apply knowledge skills would help contribute best organization personal skills enjoy strong log...   \n",
       "4  human resources director expert organizational effectiveness recognized consensus builder among diverse groups innovative problem solver strategic partner effective executive coach facilitator man...   \n",
       "\n",
       "                                                                                                                                                                                                       lol  \n",
       "0  [[john, h], [smith, phr], [po, box, callahan, fl, infogreatresumesfastcom, approachable, innovator, passion, human, resources], [senior, human, resources, professional, personable, analytical, fle...  \n",
       "1  [[name, surname, address, mobile, noemail, personal, profile, self, motivated, individual, confident, approach, people], [communicate, well, levels, personnel, feel, good, listening, ability, allo...  \n",
       "2  [[anthony, brown, hr, assistant, areas, expertise, personal, summary, hr, processes, systems, competent, organised, individual, able, work, part, team, manage, several, priorities, one, time], [an...  \n",
       "3  [[id, career, objective, pursue, growth, oriented, career, progressive, company, provides, scope, apply, knowledge, skills, would, help, contribute, best, organization], [personal, skills, enjoy, ...  \n",
       "4  [[human, resources, director, expert, organizational, effectiveness], [recognized, consensus, builder, among, diverse, groups], [innovative, problem, solver], [strategic, partner], [effective, exe...  "
      ]
     },
     "execution_count": 10,
     "metadata": {},
     "output_type": "execute_result"
    }
   ],
   "source": [
    "resumes.head()"
   ]
  },
  {
   "cell_type": "code",
   "execution_count": 11,
   "metadata": {},
   "outputs": [
    {
     "data": {
      "text/plain": [
       "str"
      ]
     },
     "execution_count": 11,
     "metadata": {},
     "output_type": "execute_result"
    }
   ],
   "source": [
    "type(resumes['lol'][0][0][0])"
   ]
  },
  {
   "cell_type": "code",
   "execution_count": 12,
   "metadata": {},
   "outputs": [],
   "source": [
    "resumes['los'] = resumes['lol']"
   ]
  },
  {
   "cell_type": "code",
   "execution_count": 13,
   "metadata": {},
   "outputs": [
    {
     "data": {
      "text/plain": [
       "35"
      ]
     },
     "execution_count": 13,
     "metadata": {},
     "output_type": "execute_result"
    }
   ],
   "source": [
    "len(resumes['los'][0])"
   ]
  },
  {
   "cell_type": "code",
   "execution_count": 14,
   "metadata": {},
   "outputs": [],
   "source": [
    "for i in range (0, len(resumes['los'])):\n",
    "    for j in range (0, len(resumes['los'][i])):\n",
    "        resumes['los'][i][j] = ' '.join(resumes['los'][i][j])"
   ]
  },
  {
   "cell_type": "code",
   "execution_count": 15,
   "metadata": {},
   "outputs": [
    {
     "data": {
      "text/plain": [
       "'senior human resources professional personable analytical flexible senior hr professional multifaceted expertise'"
      ]
     },
     "execution_count": 15,
     "metadata": {},
     "output_type": "execute_result"
    }
   ],
   "source": [
    "resumes['los'][0][3]"
   ]
  },
  {
   "cell_type": "code",
   "execution_count": 16,
   "metadata": {},
   "outputs": [],
   "source": [
    "elmo_in = resumes['los']\n"
   ]
  },
  {
   "cell_type": "code",
   "execution_count": null,
   "metadata": {},
   "outputs": [],
   "source": []
  },
  {
   "cell_type": "code",
   "execution_count": 17,
   "metadata": {},
   "outputs": [
    {
     "name": "stdout",
     "output_type": "stream",
     "text": [
      "0 :   35\n",
      "1 :   9\n",
      "2 :   65\n",
      "3 :   63\n",
      "4 :   46\n",
      "5 :   35\n",
      "6 :   56\n",
      "7 :   76\n",
      "8 :   50\n",
      "9 :   4\n",
      "10 :   15\n",
      "11 :   32\n",
      "12 :   60\n",
      "13 :   33\n",
      "14 :   87\n",
      "15 :   65\n",
      "16 :   26\n",
      "17 :   7\n",
      "18 :   1\n",
      "19 :   31\n",
      "20 :   28\n",
      "21 :   31\n",
      "22 :   14\n",
      "23 :   36\n",
      "24 :   4\n",
      "25 :   24\n",
      "26 :   72\n",
      "27 :   15\n",
      "28 :   212\n",
      "29 :   15\n",
      "30 :   31\n",
      "31 :   69\n",
      "32 :   50\n",
      "33 :   41\n",
      "34 :   945\n",
      "35 :   29\n",
      "36 :   50\n",
      "37 :   6\n",
      "38 :   22\n",
      "39 :   15\n",
      "40 :   12\n",
      "41 :   64\n",
      "42 :   11\n",
      "43 :   22\n",
      "44 :   6\n",
      "45 :   12\n",
      "46 :   25\n",
      "47 :   6\n",
      "48 :   40\n",
      "49 :   8\n",
      "50 :   61\n",
      "51 :   10\n",
      "52 :   17\n",
      "53 :   17\n",
      "54 :   14\n",
      "55 :   32\n",
      "56 :   11\n",
      "57 :   17\n",
      "58 :   9\n",
      "59 :   26\n",
      "60 :   57\n",
      "61 :   20\n",
      "62 :   32\n",
      "63 :   3\n",
      "64 :   15\n",
      "65 :   3\n",
      "66 :   21\n",
      "67 :   28\n",
      "68 :   23\n",
      "69 :   70\n",
      "70 :   31\n",
      "71 :   30\n",
      "72 :   17\n",
      "73 :   92\n",
      "74 :   9\n",
      "75 :   3\n",
      "76 :   74\n",
      "77 :   32\n",
      "78 :   2\n",
      "79 :   68\n",
      "80 :   3\n",
      "81 :   30\n",
      "82 :   23\n",
      "83 :   26\n",
      "84 :   3\n",
      "85 :   18\n",
      "86 :   40\n",
      "87 :   153\n",
      "88 :   35\n",
      "89 :   61\n",
      "90 :   2\n",
      "91 :   20\n",
      "92 :   93\n",
      "93 :   1\n",
      "94 :   26\n",
      "95 :   42\n",
      "96 :   47\n",
      "97 :   42\n",
      "98 :   24\n",
      "99 :   100\n",
      "100 :   42\n",
      "101 :   45\n",
      "102 :   25\n",
      "103 :   12\n",
      "104 :   26\n",
      "105 :   88\n",
      "106 :   5\n",
      "107 :   30\n",
      "108 :   46\n",
      "109 :   60\n",
      "110 :   57\n",
      "111 :   36\n",
      "112 :   7\n",
      "113 :   58\n",
      "114 :   35\n",
      "115 :   27\n",
      "116 :   35\n",
      "117 :   16\n",
      "118 :   58\n",
      "119 :   37\n",
      "120 :   32\n",
      "121 :   19\n",
      "122 :   26\n",
      "123 :   4\n",
      "124 :   33\n",
      "125 :   2\n",
      "126 :   11\n",
      "127 :   1\n",
      "128 :   74\n",
      "129 :   26\n",
      "130 :   51\n",
      "131 :   4\n",
      "132 :   1\n",
      "133 :   41\n",
      "134 :   19\n",
      "135 :   66\n",
      "136 :   3\n",
      "137 :   40\n",
      "138 :   68\n",
      "139 :   17\n",
      "140 :   55\n",
      "141 :   35\n",
      "142 :   54\n",
      "143 :   20\n",
      "144 :   115\n",
      "145 :   1\n",
      "146 :   1\n",
      "147 :   27\n",
      "148 :   3\n",
      "149 :   8\n",
      "150 :   59\n",
      "151 :   16\n",
      "152 :   35\n",
      "153 :   244\n",
      "154 :   36\n",
      "155 :   27\n",
      "156 :   35\n",
      "157 :   30\n",
      "158 :   7\n",
      "159 :   47\n",
      "160 :   12\n",
      "161 :   12\n",
      "162 :   2\n",
      "163 :   40\n",
      "164 :   45\n",
      "165 :   30\n",
      "166 :   55\n",
      "167 :   1\n",
      "168 :   25\n",
      "169 :   3\n",
      "170 :   64\n",
      "171 :   110\n",
      "172 :   71\n",
      "173 :   4\n",
      "174 :   52\n",
      "175 :   29\n",
      "176 :   7\n",
      "177 :   21\n",
      "178 :   6\n",
      "179 :   24\n",
      "180 :   29\n",
      "181 :   15\n",
      "182 :   9\n",
      "183 :   26\n",
      "184 :   34\n",
      "185 :   85\n",
      "186 :   171\n",
      "187 :   28\n",
      "188 :   42\n",
      "189 :   247\n",
      "190 :   22\n",
      "191 :   9\n",
      "192 :   10\n",
      "193 :   47\n",
      "194 :   4\n",
      "195 :   31\n",
      "196 :   20\n",
      "197 :   19\n",
      "198 :   11\n",
      "199 :   23\n",
      "200 :   28\n",
      "201 :   24\n",
      "202 :   25\n",
      "203 :   60\n",
      "204 :   78\n",
      "205 :   22\n",
      "206 :   45\n",
      "207 :   17\n",
      "208 :   25\n",
      "209 :   47\n",
      "210 :   4\n",
      "211 :   2\n",
      "212 :   21\n",
      "213 :   36\n",
      "214 :   12\n",
      "215 :   51\n",
      "216 :   93\n",
      "217 :   40\n",
      "218 :   9\n",
      "219 :   35\n",
      "220 :   55\n",
      "221 :   86\n",
      "222 :   55\n",
      "223 :   31\n",
      "224 :   194\n",
      "225 :   4\n",
      "226 :   41\n",
      "227 :   24\n",
      "228 :   36\n",
      "229 :   153\n",
      "230 :   48\n",
      "231 :   39\n",
      "232 :   19\n",
      "233 :   18\n",
      "234 :   4\n",
      "235 :   30\n",
      "236 :   5\n",
      "237 :   16\n",
      "238 :   16\n",
      "239 :   16\n",
      "240 :   19\n",
      "241 :   23\n",
      "242 :   17\n",
      "243 :   7\n",
      "244 :   9\n",
      "245 :   171\n",
      "246 :   27\n",
      "247 :   10\n",
      "248 :   101\n",
      "249 :   3\n",
      "250 :   4\n",
      "251 :   44\n",
      "252 :   25\n",
      "253 :   149\n",
      "254 :   66\n",
      "255 :   37\n",
      "256 :   5\n",
      "257 :   6\n",
      "258 :   151\n",
      "259 :   19\n",
      "260 :   45\n",
      "261 :   18\n",
      "262 :   10\n",
      "263 :   23\n",
      "264 :   202\n",
      "265 :   41\n",
      "266 :   16\n",
      "267 :   157\n",
      "268 :   19\n",
      "269 :   14\n",
      "270 :   25\n",
      "271 :   7\n",
      "272 :   20\n",
      "273 :   23\n",
      "274 :   3\n",
      "275 :   1\n",
      "276 :   154\n",
      "277 :   29\n",
      "278 :   76\n",
      "279 :   21\n",
      "280 :   5\n",
      "281 :   16\n",
      "282 :   1\n",
      "283 :   39\n",
      "284 :   4\n",
      "285 :   9\n",
      "286 :   4\n",
      "287 :   1094\n",
      "288 :   13\n",
      "289 :   90\n",
      "290 :   181\n",
      "291 :   53\n",
      "292 :   4\n",
      "293 :   47\n",
      "294 :   135\n",
      "295 :   1\n",
      "296 :   23\n",
      "297 :   11\n",
      "298 :   1\n",
      "299 :   18\n",
      "300 :   19\n",
      "301 :   4\n",
      "302 :   2\n",
      "303 :   40\n",
      "304 :   40\n",
      "305 :   3\n",
      "306 :   24\n",
      "307 :   19\n",
      "308 :   71\n",
      "309 :   18\n",
      "310 :   1\n",
      "311 :   4\n",
      "312 :   17\n",
      "313 :   1\n",
      "314 :   232\n",
      "315 :   7\n",
      "316 :   143\n",
      "317 :   18\n",
      "318 :   1\n",
      "319 :   22\n",
      "320 :   4\n",
      "321 :   35\n",
      "322 :   5\n",
      "323 :   3\n",
      "324 :   239\n",
      "325 :   3\n",
      "326 :   54\n",
      "327 :   154\n",
      "328 :   292\n",
      "329 :   16\n",
      "330 :   16\n",
      "331 :   381\n",
      "332 :   135\n",
      "333 :   59\n",
      "334 :   6\n",
      "335 :   3\n",
      "336 :   1\n",
      "337 :   6\n",
      "338 :   3\n",
      "339 :   3\n",
      "340 :   31\n",
      "341 :   119\n",
      "342 :   318\n",
      "343 :   13\n",
      "344 :   53\n",
      "345 :   4\n",
      "346 :   9\n",
      "347 :   393\n",
      "348 :   18\n",
      "349 :   23\n",
      "350 :   2\n",
      "351 :   232\n",
      "352 :   16\n",
      "353 :   14\n",
      "354 :   218\n",
      "355 :   4\n",
      "356 :   135\n",
      "357 :   3\n",
      "358 :   37\n",
      "359 :   6\n",
      "360 :   41\n",
      "361 :   7\n",
      "362 :   1\n",
      "363 :   129\n",
      "364 :   194\n",
      "365 :   19\n",
      "366 :   4\n",
      "367 :   4\n",
      "368 :   1\n",
      "369 :   1\n",
      "370 :   17\n",
      "371 :   78\n",
      "372 :   4\n",
      "373 :   57\n",
      "374 :   33\n",
      "375 :   8\n",
      "376 :   33\n",
      "377 :   33\n",
      "378 :   18\n",
      "379 :   7\n",
      "380 :   8\n",
      "381 :   8\n",
      "382 :   177\n",
      "383 :   33\n",
      "384 :   5\n",
      "385 :   38\n",
      "386 :   18\n",
      "387 :   66\n",
      "388 :   66\n",
      "389 :   75\n",
      "390 :   27\n",
      "391 :   16\n",
      "392 :   27\n",
      "393 :   44\n",
      "394 :   12\n",
      "395 :   43\n",
      "396 :   22\n",
      "397 :   6\n",
      "398 :   51\n",
      "399 :   62\n",
      "400 :   390\n",
      "401 :   66\n",
      "402 :   1\n",
      "403 :   2\n",
      "404 :   375\n",
      "405 :   137\n",
      "406 :   229\n",
      "407 :   57\n",
      "408 :   7\n",
      "409 :   88\n",
      "410 :   62\n",
      "411 :   42\n",
      "412 :   4\n",
      "413 :   41\n",
      "414 :   118\n",
      "415 :   36\n",
      "416 :   66\n",
      "417 :   33\n",
      "418 :   19\n",
      "419 :   26\n",
      "420 :   57\n",
      "421 :   56\n",
      "422 :   3\n",
      "423 :   14\n",
      "424 :   26\n",
      "425 :   104\n",
      "426 :   8\n",
      "427 :   8\n",
      "428 :   18\n",
      "429 :   157\n",
      "430 :   101\n",
      "431 :   61\n",
      "432 :   24\n",
      "433 :   14\n",
      "434 :   29\n",
      "435 :   96\n",
      "436 :   28\n",
      "437 :   37\n",
      "438 :   12\n",
      "439 :   11\n",
      "440 :   15\n",
      "441 :   5\n",
      "442 :   32\n",
      "443 :   17\n",
      "444 :   110\n",
      "445 :   120\n",
      "446 :   5\n",
      "447 :   30\n",
      "448 :   145\n",
      "449 :   12\n",
      "450 :   5\n",
      "451 :   4\n",
      "452 :   26\n",
      "453 :   30\n",
      "454 :   24\n",
      "455 :   26\n",
      "456 :   10\n",
      "457 :   63\n",
      "458 :   9\n",
      "459 :   44\n",
      "460 :   17\n",
      "461 :   19\n",
      "462 :   5\n",
      "463 :   17\n",
      "464 :   2\n",
      "465 :   3\n",
      "466 :   30\n",
      "467 :   9\n",
      "468 :   9\n",
      "469 :   11\n",
      "470 :   6\n",
      "471 :   40\n",
      "472 :   5\n",
      "473 :   3\n",
      "474 :   28\n",
      "475 :   45\n",
      "476 :   16\n",
      "477 :   11\n",
      "478 :   60\n",
      "479 :   9\n",
      "480 :   14\n",
      "481 :   467\n",
      "482 :   3\n",
      "483 :   20\n",
      "484 :   86\n",
      "485 :   173\n",
      "486 :   3\n",
      "487 :   1\n",
      "488 :   396\n",
      "489 :   1250\n",
      "490 :   7\n",
      "491 :   604\n",
      "492 :   20\n",
      "493 :   29\n",
      "494 :   14\n",
      "495 :   28\n",
      "496 :   25\n",
      "497 :   12\n",
      "498 :   85\n",
      "499 :   21\n",
      "500 :   31\n",
      "501 :   912\n",
      "502 :   3\n",
      "503 :   31\n",
      "504 :   30\n",
      "505 :   3\n",
      "506 :   421\n",
      "507 :   52\n",
      "508 :   16\n",
      "509 :   23\n",
      "510 :   334\n",
      "511 :   19\n",
      "512 :   324\n",
      "513 :   2\n",
      "514 :   3\n",
      "515 :   182\n",
      "516 :   49\n",
      "517 :   50\n",
      "518 :   18\n",
      "519 :   22\n",
      "520 :   79\n",
      "521 :   30\n",
      "522 :   12\n",
      "523 :   33\n",
      "524 :   10\n",
      "525 :   43\n",
      "526 :   31\n",
      "527 :   20\n",
      "528 :   6\n",
      "529 :   19\n",
      "530 :   51\n",
      "531 :   32\n",
      "532 :   203\n",
      "533 :   2\n",
      "534 :   4\n",
      "535 :   2\n",
      "536 :   2\n",
      "537 :   44\n",
      "538 :   10\n",
      "539 :   17\n",
      "540 :   34\n",
      "541 :   5\n",
      "542 :   5\n",
      "543 :   5\n",
      "544 :   29\n",
      "545 :   334\n",
      "546 :   200\n",
      "547 :   10\n",
      "548 :   4\n",
      "549 :   197\n",
      "550 :   59\n",
      "551 :   28\n",
      "552 :   11\n",
      "553 :   7\n",
      "554 :   14\n",
      "555 :   14\n",
      "556 :   4\n",
      "557 :   41\n",
      "558 :   32\n",
      "559 :   28\n",
      "560 :   2\n",
      "561 :   13\n",
      "562 :   2\n",
      "563 :   6\n",
      "564 :   23\n",
      "565 :   12\n",
      "566 :   5\n",
      "567 :   22\n",
      "568 :   28\n",
      "569 :   10\n",
      "570 :   31\n",
      "571 :   25\n",
      "572 :   25\n",
      "573 :   22\n",
      "574 :   10\n",
      "575 :   29\n",
      "576 :   3\n",
      "577 :   8\n",
      "578 :   27\n",
      "579 :   2\n",
      "580 :   40\n",
      "581 :   17\n",
      "582 :   1\n",
      "583 :   10\n",
      "584 :   9\n",
      "585 :   8\n",
      "586 :   5\n",
      "587 :   40\n",
      "588 :   27\n",
      "589 :   23\n",
      "590 :   4\n",
      "591 :   27\n",
      "592 :   8\n",
      "593 :   7\n",
      "594 :   24\n",
      "595 :   9\n",
      "596 :   7\n",
      "597 :   3\n",
      "598 :   9\n",
      "599 :   12\n",
      "600 :   17\n",
      "601 :   8\n",
      "602 :   17\n",
      "603 :   10\n",
      "604 :   20\n",
      "605 :   20\n",
      "606 :   28\n",
      "607 :   7\n",
      "608 :   47\n",
      "609 :   34\n",
      "610 :   6\n",
      "611 :   24\n",
      "612 :   16\n",
      "613 :   2\n",
      "614 :   22\n",
      "615 :   3\n",
      "616 :   5\n",
      "617 :   8\n",
      "618 :   3\n",
      "619 :   6\n",
      "620 :   40\n",
      "621 :   8\n",
      "622 :   4\n",
      "623 :   23\n",
      "624 :   38\n",
      "625 :   9\n",
      "626 :   9\n",
      "627 :   21\n",
      "628 :   1\n",
      "629 :   1\n",
      "630 :   49\n",
      "631 :   21\n",
      "632 :   46\n",
      "633 :   18\n",
      "634 :   14\n",
      "635 :   50\n",
      "636 :   4\n",
      "637 :   52\n",
      "638 :   48\n",
      "639 :   8\n",
      "640 :   12\n",
      "641 :   32\n",
      "642 :   4\n",
      "643 :   22\n",
      "644 :   2\n",
      "645 :   48\n",
      "646 :   1\n",
      "647 :   9\n",
      "648 :   23\n",
      "649 :   2\n",
      "650 :   23\n",
      "651 :   82\n",
      "652 :   37\n",
      "653 :   5\n",
      "654 :   8\n",
      "655 :   1\n",
      "656 :   26\n",
      "657 :   6\n",
      "658 :   21\n",
      "659 :   2\n",
      "660 :   29\n",
      "661 :   13\n",
      "662 :   7\n",
      "663 :   23\n",
      "664 :   35\n",
      "665 :   35\n",
      "666 :   73\n",
      "667 :   22\n",
      "668 :   4\n",
      "669 :   18\n",
      "670 :   62\n",
      "671 :   54\n",
      "672 :   22\n",
      "673 :   14\n",
      "674 :   13\n",
      "675 :   29\n",
      "676 :   54\n",
      "677 :   125\n",
      "678 :   97\n",
      "679 :   94\n",
      "680 :   34\n",
      "681 :   12\n",
      "682 :   24\n",
      "683 :   11\n",
      "684 :   4\n",
      "685 :   7\n",
      "686 :   15\n",
      "687 :   100\n",
      "688 :   42\n",
      "689 :   4\n",
      "690 :   25\n",
      "691 :   21\n",
      "692 :   32\n",
      "693 :   52\n",
      "694 :   25\n",
      "695 :   64\n",
      "696 :   8\n",
      "697 :   2\n",
      "698 :   20\n",
      "699 :   7\n",
      "700 :   48\n",
      "701 :   2\n",
      "702 :   32\n",
      "703 :   29\n",
      "704 :   26\n",
      "705 :   84\n",
      "706 :   9\n",
      "707 :   6\n",
      "708 :   34\n",
      "709 :   6\n",
      "710 :   9\n",
      "711 :   2\n",
      "712 :   10\n",
      "713 :   504\n",
      "714 :   47\n",
      "715 :   6\n",
      "716 :   1\n",
      "717 :   1\n",
      "718 :   41\n",
      "719 :   85\n",
      "720 :   1\n",
      "721 :   33\n",
      "722 :   124\n",
      "723 :   3\n",
      "724 :   12\n",
      "725 :   31\n",
      "726 :   10\n",
      "727 :   6\n",
      "728 :   11\n",
      "729 :   588\n",
      "730 :   20\n",
      "731 :   12\n",
      "732 :   5\n",
      "733 :   49\n",
      "734 :   25\n",
      "735 :   25\n",
      "736 :   4\n",
      "737 :   9\n",
      "738 :   1\n",
      "739 :   88\n",
      "740 :   56\n",
      "741 :   22\n",
      "742 :   948\n",
      "743 :   192\n",
      "744 :   24\n",
      "745 :   23\n",
      "746 :   8\n",
      "747 :   6\n",
      "748 :   17\n",
      "749 :   7\n",
      "750 :   42\n",
      "751 :   10\n",
      "752 :   1\n",
      "753 :   1\n",
      "754 :   19\n",
      "755 :   5\n",
      "756 :   6\n",
      "757 :   13\n",
      "758 :   12\n",
      "759 :   26\n",
      "760 :   12\n",
      "761 :   2\n",
      "762 :   10\n",
      "763 :   14\n",
      "764 :   13\n",
      "765 :   10\n",
      "766 :   17\n",
      "767 :   9\n",
      "768 :   6\n",
      "769 :   28\n",
      "770 :   9\n",
      "771 :   3\n",
      "772 :   61\n",
      "773 :   48\n",
      "774 :   1\n",
      "775 :   25\n",
      "776 :   8\n",
      "777 :   3\n",
      "778 :   42\n",
      "779 :   23\n",
      "780 :   28\n",
      "781 :   17\n",
      "782 :   2\n",
      "783 :   11\n",
      "784 :   28\n",
      "785 :   64\n",
      "786 :   6\n",
      "787 :   31\n",
      "788 :   13\n",
      "789 :   25\n",
      "790 :   27\n",
      "791 :   66\n",
      "792 :   45\n",
      "793 :   21\n",
      "794 :   18\n",
      "795 :   15\n",
      "796 :   15\n",
      "797 :   1\n",
      "798 :   22\n",
      "799 :   57\n",
      "800 :   33\n",
      "801 :   18\n",
      "802 :   1\n",
      "803 :   20\n",
      "804 :   5\n",
      "805 :   13\n",
      "806 :   54\n",
      "807 :   29\n",
      "808 :   16\n",
      "809 :   56\n",
      "810 :   2\n",
      "811 :   14\n",
      "812 :   21\n",
      "813 :   14\n",
      "814 :   32\n",
      "815 :   16\n",
      "816 :   21\n",
      "817 :   18\n",
      "818 :   9\n",
      "819 :   27\n",
      "820 :   51\n",
      "821 :   20\n",
      "822 :   22\n",
      "823 :   22\n",
      "824 :   3\n",
      "825 :   1\n",
      "826 :   1\n",
      "827 :   45\n",
      "828 :   11\n",
      "829 :   57\n",
      "830 :   16\n",
      "831 :   12\n",
      "832 :   19\n",
      "833 :   16\n",
      "834 :   16\n",
      "835 :   21\n",
      "836 :   4\n",
      "837 :   35\n",
      "838 :   8\n",
      "839 :   35\n",
      "840 :   32\n",
      "841 :   6\n",
      "842 :   25\n",
      "843 :   47\n",
      "844 :   45\n",
      "845 :   57\n",
      "846 :   40\n",
      "847 :   14\n",
      "848 :   7\n",
      "849 :   21\n",
      "850 :   15\n",
      "851 :   1\n",
      "852 :   9\n",
      "853 :   21\n",
      "854 :   123\n",
      "855 :   49\n",
      "856 :   1\n",
      "857 :   6\n",
      "858 :   51\n",
      "859 :   2\n",
      "860 :   14\n",
      "861 :   10\n",
      "862 :   32\n",
      "863 :   57\n",
      "864 :   20\n",
      "865 :   12\n",
      "866 :   32\n",
      "867 :   3\n",
      "868 :   12\n",
      "869 :   74\n",
      "870 :   4\n",
      "871 :   13\n",
      "872 :   40\n",
      "873 :   104\n",
      "874 :   16\n",
      "875 :   3\n",
      "876 :   85\n",
      "877 :   5\n",
      "878 :   19\n",
      "879 :   15\n",
      "880 :   30\n",
      "881 :   121\n",
      "882 :   5\n",
      "883 :   16\n",
      "884 :   115\n",
      "885 :   1\n",
      "886 :   43\n",
      "887 :   16\n",
      "888 :   1\n",
      "889 :   85\n",
      "890 :   60\n",
      "891 :   55\n",
      "892 :   19\n",
      "893 :   540\n",
      "894 :   28\n",
      "895 :   24\n",
      "896 :   32\n",
      "897 :   156\n",
      "898 :   2\n",
      "899 :   100\n",
      "900 :   393\n",
      "901 :   3\n",
      "902 :   153\n",
      "903 :   5\n",
      "904 :   63\n",
      "905 :   18\n",
      "906 :   110\n",
      "907 :   5\n",
      "908 :   92\n",
      "909 :   153\n",
      "910 :   212\n",
      "911 :   8\n",
      "912 :   19\n",
      "913 :   24\n",
      "914 :   398\n",
      "915 :   286\n",
      "916 :   10\n",
      "917 :   10\n",
      "918 :   27\n",
      "919 :   15\n",
      "920 :   26\n",
      "921 :   263\n",
      "922 :   12\n",
      "923 :   234\n",
      "924 :   23\n",
      "925 :   63\n",
      "926 :   31\n",
      "927 :   12\n",
      "928 :   20\n",
      "929 :   7\n",
      "930 :   14\n",
      "931 :   16\n",
      "932 :   8\n",
      "933 :   18\n",
      "934 :   25\n",
      "935 :   232\n",
      "936 :   194\n",
      "937 :   154\n",
      "938 :   22\n",
      "939 :   1\n",
      "940 :   38\n",
      "941 :   45\n",
      "942 :   10\n",
      "943 :   31\n",
      "944 :   45\n",
      "945 :   24\n",
      "946 :   22\n",
      "947 :   263\n",
      "948 :   234\n",
      "949 :   1\n",
      "950 :   27\n",
      "951 :   13\n",
      "952 :   16\n",
      "953 :   71\n",
      "954 :   162\n",
      "955 :   17\n",
      "956 :   1\n",
      "957 :   110\n",
      "958 :   28\n",
      "959 :   55\n",
      "960 :   51\n",
      "961 :   16\n",
      "962 :   2\n",
      "963 :   14\n",
      "964 :   11\n",
      "965 :   730\n",
      "966 :   4\n",
      "967 :   87\n",
      "968 :   12\n",
      "969 :   14\n",
      "970 :   17\n",
      "971 :   10\n",
      "972 :   2\n",
      "973 :   23\n",
      "974 :   2\n",
      "975 :   61\n",
      "976 :   3\n",
      "977 :   1\n",
      "978 :   214\n",
      "979 :   195\n",
      "980 :   9\n",
      "981 :   1\n",
      "982 :   12\n",
      "983 :   63\n"
     ]
    },
    {
     "name": "stdout",
     "output_type": "stream",
     "text": [
      "984 :   41\n",
      "985 :   74\n",
      "986 :   17\n",
      "987 :   74\n",
      "988 :   22\n",
      "989 :   23\n",
      "990 :   74\n",
      "991 :   31\n",
      "992 :   398\n",
      "993 :   11\n",
      "994 :   30\n",
      "995 :   14\n",
      "996 :   20\n",
      "997 :   25\n",
      "998 :   9\n",
      "999 :   11\n",
      "1000 :   16\n",
      "1001 :   15\n",
      "1002 :   14\n",
      "1003 :   3\n",
      "1004 :   16\n",
      "1005 :   196\n",
      "1006 :   15\n",
      "1007 :   1\n",
      "1008 :   28\n",
      "1009 :   23\n",
      "1010 :   66\n",
      "1011 :   2\n",
      "1012 :   7\n",
      "1013 :   12\n",
      "1014 :   3\n",
      "1015 :   77\n",
      "1016 :   20\n",
      "1017 :   30\n",
      "1018 :   8\n",
      "1019 :   17\n",
      "1020 :   15\n",
      "1021 :   25\n",
      "1022 :   17\n",
      "1023 :   10\n",
      "1024 :   1\n",
      "1025 :   26\n",
      "1026 :   10\n",
      "1027 :   8\n",
      "1028 :   42\n",
      "1029 :   31\n",
      "1030 :   23\n",
      "1031 :   57\n",
      "1032 :   15\n",
      "1033 :   45\n",
      "1034 :   20\n",
      "1035 :   4\n",
      "1036 :   36\n",
      "1037 :   40\n",
      "1038 :   31\n",
      "1039 :   31\n",
      "1040 :   15\n",
      "1041 :   2\n",
      "1042 :   36\n",
      "1043 :   27\n",
      "1044 :   5\n",
      "1045 :   6\n",
      "1046 :   30\n",
      "1047 :   31\n",
      "1048 :   11\n",
      "1049 :   7\n",
      "1050 :   17\n",
      "1051 :   37\n",
      "1052 :   59\n",
      "1053 :   146\n",
      "1054 :   32\n",
      "1055 :   38\n",
      "1056 :   25\n",
      "1057 :   53\n",
      "1058 :   4\n",
      "1059 :   9\n",
      "1060 :   4\n",
      "1061 :   28\n",
      "1062 :   49\n",
      "1063 :   2\n",
      "1064 :   19\n",
      "1065 :   4\n",
      "1066 :   16\n",
      "1067 :   93\n",
      "1068 :   7\n",
      "1069 :   29\n",
      "1070 :   478\n",
      "1071 :   30\n",
      "1072 :   7\n",
      "1073 :   15\n",
      "1074 :   33\n",
      "1075 :   89\n",
      "1076 :   66\n",
      "1077 :   4\n",
      "1078 :   25\n",
      "1079 :   2\n",
      "1080 :   1\n",
      "1081 :   1\n",
      "1082 :   40\n",
      "1083 :   21\n",
      "1084 :   75\n",
      "1085 :   8\n",
      "1086 :   45\n",
      "1087 :   136\n",
      "1088 :   39\n",
      "1089 :   1\n",
      "1090 :   16\n",
      "1091 :   168\n",
      "1092 :   29\n",
      "1093 :   63\n",
      "1094 :   79\n",
      "1095 :   64\n",
      "1096 :   29\n",
      "1097 :   93\n",
      "1098 :   4\n",
      "1099 :   35\n",
      "1100 :   21\n",
      "1101 :   64\n",
      "1102 :   7\n",
      "1103 :   6\n",
      "1104 :   19\n",
      "1105 :   6\n",
      "1106 :   2\n",
      "1107 :   35\n",
      "1108 :   17\n",
      "1109 :   19\n",
      "1110 :   23\n",
      "1111 :   5\n",
      "1112 :   2\n",
      "1113 :   7\n",
      "1114 :   2\n",
      "1115 :   19\n",
      "1116 :   3\n",
      "1117 :   3\n",
      "1118 :   3\n",
      "1119 :   3\n",
      "1120 :   2\n",
      "1121 :   22\n",
      "1122 :   2\n",
      "1123 :   13\n",
      "1124 :   14\n",
      "1125 :   34\n",
      "1126 :   2\n",
      "1127 :   3\n",
      "1128 :   11\n",
      "1129 :   8\n",
      "1130 :   16\n",
      "1131 :   9\n",
      "1132 :   61\n",
      "1133 :   2\n",
      "1134 :   10\n",
      "1135 :   2\n",
      "1136 :   11\n",
      "1137 :   31\n",
      "1138 :   2\n",
      "1139 :   3\n",
      "1140 :   1\n",
      "1141 :   14\n",
      "1142 :   3\n",
      "1143 :   2\n",
      "1144 :   3\n",
      "1145 :   32\n",
      "1146 :   3\n",
      "1147 :   2\n",
      "1148 :   3\n",
      "1149 :   4\n",
      "1150 :   12\n",
      "1151 :   16\n",
      "1152 :   35\n",
      "1153 :   16\n",
      "1154 :   10\n",
      "1155 :   61\n",
      "1156 :   43\n",
      "1157 :   34\n",
      "1158 :   34\n",
      "1159 :   12\n",
      "1160 :   11\n",
      "1161 :   8\n",
      "1162 :   3\n",
      "1163 :   13\n",
      "1164 :   1\n",
      "1165 :   5\n",
      "1166 :   549\n",
      "1167 :   13\n",
      "1168 :   3\n",
      "1169 :   117\n",
      "1170 :   4\n",
      "1171 :   8\n",
      "1172 :   5\n",
      "1173 :   10\n",
      "1174 :   11\n",
      "1175 :   10\n",
      "1176 :   15\n",
      "1177 :   7\n",
      "1178 :   51\n",
      "1179 :   29\n",
      "1180 :   1\n",
      "1181 :   2\n",
      "1182 :   126\n",
      "1183 :   2\n",
      "1184 :   3\n",
      "1185 :   39\n",
      "1186 :   10\n",
      "1187 :   8\n",
      "1188 :   409\n",
      "1189 :   8\n",
      "1190 :   2\n",
      "1191 :   6\n",
      "1192 :   23\n",
      "1193 :   29\n",
      "1194 :   21\n",
      "1195 :   24\n",
      "1196 :   19\n",
      "1197 :   76\n",
      "1198 :   12\n",
      "1199 :   11\n",
      "1200 :   49\n",
      "1201 :   8\n",
      "1202 :   87\n",
      "1203 :   6\n",
      "1204 :   15\n",
      "1205 :   8\n",
      "1206 :   10\n",
      "1207 :   14\n",
      "1208 :   222\n",
      "1209 :   16\n",
      "1210 :   7\n",
      "1211 :   154\n",
      "1212 :   34\n",
      "1213 :   13\n",
      "1214 :   12\n",
      "1215 :   13\n",
      "1216 :   11\n",
      "1217 :   13\n",
      "1218 :   194\n"
     ]
    }
   ],
   "source": [
    "# the lenghts of each resume and resume ID for reference\n",
    "\n",
    "for x in range(len(elmo_in)):\n",
    "    print(x, ':  ', len(elmo_in[x]))\n",
    "\n",
    "    #elmo_in[28] has 212 sentences\n",
    "    #\n",
    "    #elmo_in[34] has 945 sentences\n",
    "    #elmo_in[75] has 3 sentences"
   ]
  },
  {
   "cell_type": "code",
   "execution_count": null,
   "metadata": {},
   "outputs": [],
   "source": []
  },
  {
   "cell_type": "code",
   "execution_count": 18,
   "metadata": {},
   "outputs": [],
   "source": [
    "# let's examine resume length in sentences\n",
    "\n",
    "\n",
    "lengths = []\n",
    "for i in range(0, len(elmo_in)):\n",
    "    lengths.extend([len(elmo_in[i])])\n",
    "\n",
    "#lengths"
   ]
  },
  {
   "cell_type": "code",
   "execution_count": null,
   "metadata": {},
   "outputs": [],
   "source": []
  },
  {
   "cell_type": "code",
   "execution_count": 19,
   "metadata": {},
   "outputs": [
    {
     "data": {
      "image/png": "[encoded data removed]",
      "text/plain": [
       "<Figure size 432x288 with 1 Axes>"
      ]
     },
     "metadata": {
      "needs_background": "light"
     },
     "output_type": "display_data"
    }
   ],
   "source": [
    "# let's look at distributions of resume length\n",
    "\n",
    "plt.hist(lengths, bins=range(0, 1000, 10))\n",
    "\n",
    "plt.show()\n"
   ]
  },
  {
   "cell_type": "code",
   "execution_count": 20,
   "metadata": {},
   "outputs": [
    {
     "data": {
      "image/png": "[encoded data removed]",
      "text/plain": [
       "<Figure size 432x288 with 1 Axes>"
      ]
     },
     "metadata": {
      "needs_background": "light"
     },
     "output_type": "display_data"
    }
   ],
   "source": [
    "plt.hist(lengths, bins=range(0, 200, 5))\n",
    "\n",
    "plt.show()"
   ]
  },
  {
   "cell_type": "code",
   "execution_count": 21,
   "metadata": {},
   "outputs": [
    {
     "name": "stdout",
     "output_type": "stream",
     "text": [
      "example of a short resume:\n",
      "resume number 244\n",
      "resume length: 9 sentences\n",
      "['carmen morant arbor court wheatland wy tel e mail carmenresumesamplesinfo objective experienced assistant manager looking position reputable organization', 'summary qualifications vast working experience computers windows support profound knowledge project management proficient microsoft office familiarity call center related applications ability handle multi tasks ability communicate effectively experience assistant manager present veredus corporation durham nc recommended implemented approved lanwan policies standards', 'supported office personnel corporate applications', 'created executed proper backup disaster recovery procedures', 'managed within regionally approved budget', 'maintained baseline security standard policies', 'provided solution costing rfprfq submissions system upgrades', 'educational background bachelors degree computer science mills college oakland ca gpa', 'scale']\n"
     ]
    }
   ],
   "source": [
    "print(\"example of a short resume:\")\n",
    "print(\"resume number 244\")\n",
    "print(\"resume length: {} sentences\".format(len(elmo_in[244])))\n",
    "print(elmo_in[244])"
   ]
  },
  {
   "cell_type": "code",
   "execution_count": 22,
   "metadata": {},
   "outputs": [
    {
     "name": "stdout",
     "output_type": "stream",
     "text": [
      "example of a medium resume:\n",
      "resume number 202\n",
      "resume length: 25 sentences\n",
      "['gayle laakmann apple lane philadelphia pa gaylecareercupcom education wharton school university pennsylvania philadelphia pa master business administration candidate major marketing entrepreneurship wharton ventures early stage vc fund principal one eight students selected applicants join wv sources deals performs due diligence analyzes tech healthcare investments deals k million', 'chair wharton yearbook helped launch whartons yearbook publish months', 'wharton venture capital competition finalist', 'elected social chair cohort students', 'university pennsylvania philadelphia pa master science engineering computer information science bachelor science engineering major computer science engineering minor mathematics created independently taught computer science course first undergraduate earned permission so', 'experience careercupcom seattle wa founder ceo present founded careercup help candidates prepare technical interviews online forum book video coaching', 'built company xk revenue yk annual profit', 'negotiated partnerships websites glassdoorcom softwareinterviewcom technical interviewcom', 'seattle anti freeze seattle wa founder co ceo present founded saf organize social events young professionals grew xkyear revenue ykyear profit', 'landed article front page seattle pis lifestyle section within months company launch', 'keenscreen seattle wa vice president engineering rd led architecture online advertising product enabling company ship product previously estimated time', 'prepared ceo projected cash flow statements three years cut expected costs', 'hired managed remote testing team design team assistant', 'google kirkland wa software engineer led successful integration google talk music features partner team helped redesign product better usability', 'designed built google docs feature requiring collaboration three internal teams four outside companies', 'directed recruiting efforts university pennsylvania recruiting candidates earning award top', 'apple computer software engineer intern designed new approach searching ichat files enabling rapid searching backwards compatibility', 'microsoft corporation software design engineer intern implemented features developer products millions users estimated time', 'cupertino ca summer redmond wa summers additional information author google resume prepare career land job apple microsoft google top tech company published john wiley sons inc', 'march', 'author cracking coding interview wrote book prepare master programming interviews', 'available amazoncom barnesandnoblecom', 'isbn', 'instructor university washington taught two computer science courses earning rating', '']\n"
     ]
    }
   ],
   "source": [
    "print(\"example of a medium resume:\")\n",
    "print(\"resume number 202\")\n",
    "print(\"resume length: {} sentences\".format(len(elmo_in[202])))\n",
    "print(elmo_in[202])"
   ]
  },
  {
   "cell_type": "code",
   "execution_count": 23,
   "metadata": {},
   "outputs": [
    {
     "name": "stdout",
     "output_type": "stream",
     "text": [
      "example of a long resume:\n",
      "resume number 28\n",
      "resume length: 212 sentences\n",
      "['write professional resume xcxcresume tips following tips suggestions consider writing sending resume prospective employers use white light colored paper standard size xcxbd x inches', 'many office supply stores sell resume paper', 'sure include cover letter mailed emailed resumes', 'email resume cover letter create short introduction use email body', 'resume easy read crisp consistent format', 'always keep resume date many companies use applicant tracking systems ats scan resumes key words themes match job description', 'words identify skills company looking fill specific job postings', 'however due use software specific ways resume formatted scan properly companys system', 'use template invisible text boxes special graphics color shading', 'always use blank microsoft word document create text version resume online submissions', 'always submit resume pdf format save creative versions resume hand employer person', 'use standard non decorative fonts black ink only', 'font sizes pt name pt body resume', 'margins equally set', 'inch sides', 'avoid folding stapling resume', 'resume one page create header andor footer name contact information page number', 'key words describe skills using nouns action verbs important resume', 'companies usually indicate key skills looking job posting', 'use synonyms resume use word attorney also use word lawyer', 'use personal pronouns simply begin statements strong action verbs describe did', 'key words experience knowledge honest exaggerate skills', 'always proofread resume send xcobjectives objective statement one two line statement career job search goal', 'used place longer summary likely candidate little experience related target position', 'objective specific type position field youre applying focus contribute position company want gain experience', 'note following samples reference purposes copy', 'management seeking entry level management position responsibilities including problem solving planning organizing managing budgets', 'admin administrative position area rehabilitation geriatric healthcare utilizing knowledge clinical community patient services', 'teaching position elementary school teacher utilize strong teaching abilities create nurturing motivational stimulating learning environment help children achieve potential', 'criminal justice seeking full time position field criminal justice education initiative succeed desire serve value administering safeguarding criminal judicial processes', 'tech support position utilizing training hands experience mis help desk services technical support customer service', 'accounting seeking entry level position staff accountant utilizing outstanding analytical accounting leadership skills', 'xcsummaries summary takes place objective statement candidate relevant experience field applying', 'summary longer objective highlights desired position relevant qualifications', 'note following samples reference purposes copy', 'samples based examples presented modernize resumes cover letters wendy enelow louise kursmark resume writing academy career thought leaders consortium', 'modern style health social service manager mental health program coordinator xexx social worker case manager bilingual english spanish healthcare leader delivering top notch health social service outreach rural urban communities since forensic science technician passion science discovery bs biology criminology experience collecting identifying classifying analyzing physical evidence classroom projects criminal investigation internship study abroad', 'programmer analyst software developer analytical thinker years experience healthcare pharmaceutical industry', 'technical expertise includes command interpreters xexxa mysql software xexxa iea software emerald xexxa microsoft access microsoft visual basic xexxa c xexxa python xexxa html xexxa javascript accounting finance taxation audit xefxxa financial planning investment intuit quickbooks xefxxa erp software xefxxa oracle peoplesoft xefxxa ms excel xefxxa hr block tax software traditional style outgoing articulate excellent people skills', 'frequently commended communication interaction skills customers colleagues', 'proven ability learn retain apply new information quickly solid academic employment achievements', 'leadership abilities', 'consistently gained increased responsibility employment history academic pursuit', 'sound judgment solid decision making skills', 'detail oriented high energy chemical engineering graduate keen problem solving analytical skills evidenced ability provide analysis recommendations improve plant operations', 'strong interpersonal planning organizational skills demonstrated chemical engineering internships', 'contribute independently part team coordinate manage products ranging floor layout designs thermodynamic calculations reproduction obsolete parts', 'excellent performance records personal reviews three previous co op positions', 'xcrelevant courses relevant courses section used resume need demonstrate knowledge industry little relevant work experience', 'choose impressive courses try avoid listing entry level ones', 'section best paired academic projects section', 'together sections excellent way utilize degree job goal', 'format section simply list classes using multiple columns', 'course numbers descriptions grades necessary', 'note following samples reference purposes copy', 'two column sample relevant courses financial accounting calculus macroeconomics management accounting business finance organizational development three column sample relevant courses digital circuits hardware modeling vlsi design information security advanced systems numerical analysis digital logic computer graphics automata theory xcacademic projects academic projects used demonstrate knowledge area industry little experience', 'anything done class except tests presented project', 'examples include presentations papers group work case studies research', 'academic projects written active voice using strongest action verbs possible', 'suggested format include title keep overview two three lines providing enough information prospective employer ask questions', 'project depth present two three lines use two three bulleted statements instead paragraph format', 'note following samples reference purposes copy', 'software engineering group project designed library catalog web system using tier client server model', 'presented project plan software requirement specification non functional specification detailed case analysis technical specification test plan', 'java programming project computed united states golf association handicap index number golf players designing simple install easy use application', 'created user friendly interface input players performances display handicap', 'comparison accounting systems researched compared accounting systems two international companies determine long term strategic direction make financial recommendations improving revenue', 'investment management managed investment portfolio stock trak simulation', 'determined successful investment strategies tested theories researched various markets', 'psychology research project investigated psychophysiology schema depression young adolescents', 'conducted physiological measurement clinical diagnostic interviewing determine patterns behavior', 'd graphic design project created d model skeletal infrastructure story building intricate detail using maya software', 'ensured measurement layout accuracy careful architectural research', 'xcresultaccomplishment statements result accomplishment statements used describing previous experience show employer written proof results achievements successes', 'demonstrate unique add value potential position citing specific examples', 'simply listing duties responsibilities job description enough focus actually efforts impacted position project organization', 'help get mindset writing result accomplishment statements ask questions purpose work work relevant organization goals contributing value benefit add go beyond basic job duties compared others position stand work save timemoney increase customer satisfaction designimprove process policy etc achieve less complete something ahead schedulebudget receive promotion andor recognition employment consistently maintain hit personal company goals quotas note following samples reference purposes copy', 'develop result accomplishment statements using several methods described soar statement action action verb occurrence action often action occurredtook place daily weekly annually etc', 'amount action much many m etc', 'result action resultoutcome efforts increased decreased designed saved implemented etc', 'statement managed technical crew occurrence managed technical crew daily basis amount managed technical crew people daily basis result managed technical crew people daily basis increased production quarters row parcar problemchallenge problemchallengeopportunity action action taken solve problem result result outcome efforts star situationtask situation task hand action action taken result result action taken additional resultaccomplishment statement examples selected freshman orientation leader acclimated new students college environment guided tours campus presentations day period', 'led member team project collected new hire data employers dallas fort worth metroplex', 'redesigned company accounting payroll systems implementing new electronic reporting system decreased turnaround time reimbursements', 'trained new insurance agents month time frame legal ethical regulatory aspects insurance securities sales', 'innovated blood drive volunteer system increased student faculty participation', 'recognized promoted assistant sales manager within year consistent customer service oriented attitude product knowledge leadership capabilities', 'xctransferable skills obtained many skills throughout life working student participating extracurricular activities even personal experiences contributed skill set', 'skills apply many different jobs areas called transferable skills', 'especially handy use relevant work experience changing career paths', 'incorporating work experience section help showcase applicable skills offer employer', 'remember simply listing skills enough', 'must include used skills order prove possess show relevant applicable employer', 'list transferable skills help get started', 'communication speaking effectively listening attentively writing concisely editing providing appropriate feedback perceiving nonverbal messages facilitating group discussion expressing ideas negotiating persuading speaking foreign language reporting information describing feelings research planning creating ideas setting goals forecasting analyzing extracting information identifying resources developing strategies predicting outcomes gathering information synthesizing data solving problems defining needs human relations developing rapport sensitive counseling asserting perceiving feelings situations providing support others delegating respect conveying feelings representing others cooperating motivating listening organization management leadership initiating new ideas decision making others managing groups delegating responsibility managing conflict selling ideas products coaching handling details coordinating tasks promoting change counseling teaching work survival punctual meeting goals cooperating organizing attending detail enforcing policies making decisions enlisting help setting meeting deadlines implementing decisions accepting responsibility managing time xctransferable skills samples examples use transferable skills improve basic job descriptions prove employer possess relevant job related skills', 'remember focus results accomplishments rather simply listing duties responsibilities', 'note following samples reference purposes copy', 'server provided customer service customers', 'gained maintained clientele regular customers reputation excellent server', 'sold desserts appetizers customers', 'effectively utilized marketing strategies upsell items become top seller section', 'front desk worker helped events', 'recruited director two consecutive years organize promote school wide participation departments annual program', 'interacted customers', 'interacted customers speaking clearly ensure proper communication policies', 'sales associate responsible opening closing store keyholder', 'fast track promotion sales associate keyholder exceptional communication skills devotion promoting stores brand', 'sold shoes purses accessories', 'exceeded daily sales goals regularly serving customers day high customer satisfaction rating', 'camp counselor worked summers girl scout camp', 'supervised girl scout camps area developing study skills fostering creativity encouraging appreciation outdoors', 'taught valuable skills', 'worked upper management teach risk youth leadership teamwork skills', 'xcaction verbs describing current job project use verbs describing past job project make sure change verbs past tense endings', 'bolded words especially good describing accomplishments', 'management leadership administer analyze appoint delegate develop direct generate handle hire lead manage mediate outline oversee plan resolve review schedule communication address arbitrate correspond define incorporate interact persuade present speak transcribe organization approve arrange distribute execute operate order retrieve schedule assign eliminate improve merge preside strengthen arrange develop interpret promote translate categorize file organize screen author direct lecture propose verbalize catalog generate outline specify attain enhance incorporate moderate prioritize supervise chair ensure increase motivate produce support authorize draft market publicize write collaborate edit mediate reconcile classify implement prepare systematize consolidate establish initiate negotiate recommend transition collect incorporate process standardize contract evaluate institute organize recruit unify communicate enlist moderate recruit compile inspect purchase tabulate research clarify collect critique diagnose evaluate examine extract interview investigate organize review summarize survey coordinate execute interview originate reorganize compose formulate motivate report condense maintain record update convince influence negotiate resolve define monitor report validate identify inspect interpret technical assemble build calculate compute design devise engineer fabricate maintain operate overhaul program remodel repair solve train troubleshoot upgrade financial administer allocate analyze appraise audit balance budget calculate compute develop forecast manage market plan project research reconcile report target helping teamwork advocate aid assess clarify coach collaborate contribute counsel demonstrate diagnose educate ensure expedite facilitate familiarize guide mediate moderate participate refer represent resolve support volunteer unite creative act compose conceptualize create customize design develop direct establish fashion found illustrate initiate institute integrate introduce invent market originate perform plan promote propose revitalize shape transform xcadditional verbs teaching accomplish achieve adapt advance complete conduct consult deliver encourage expand explain focus install instruct involve launch provide publish receive reduce select serve set goals solidify test travel tutor utilize advise discover group network restore sponsor validate articulate distinguish guide nominate restructure stimulate venture assist diversify influence observe reverse streamline verify additional verbs engineering computer science abstract acquire add advertise answer anticipate assess audit augment bolster buy brief charter check combine compare compile conceive convert cooperate copy correlate cultivate deal detect determine discriminate dispatch display dissect drive earn empathize enforce enlighten enlist experiment explore express finance fix follow give govern help imagine improvise inaugurate listen keep lay learn level lift maintain manage manipulate map master maximize meet minimize model modify narrate offer plant practice predict protect prove query rank rationalize read reason relate rely scan scheme sell solicit specialize spread supervise sustain symbolize synthesize talk theorize visualize commend enable inform obtain revise study work apply bring conserve debate document estimate foster index locate measure overcome question respond strategize trace compete encounter innovate participate reward teach appraise care construct debug draw exceed gain indicate log memorize perceive raise revamp stress transmit ascertain charge contract decide drive excel gather judge make mentor perfect run save succeed verify active adjectives adjectives perfect job search document need describe accomplishments', 'remember resume', 'e active attentive determined enterprising adaptable bright diligent enthusiastic adaptive committed diplomatic exceptional adept aggressive altruistic analytical ambitious assertive competent conscientious consistent creative dedicated dependable disciplined discreet dynamic effective efficient energetic experienced f p fair faithful familiar firm generous honest independent innovative keen logical loyal mature methodical motivated objective organized outgoing passionate persistent pleasant positive practical productive professional r z receptive reliable resilient resourceful respectful quick witted self confident self motivated self reliant self starter sensitive sharp sincere skilled skillful strong studious successful tactful team player tenacious trustworthy understanding well organized xcreference page references separate document resume', 'best ask permission listing someone reference', 'receive permission provide copy resume reference refer prospective employer calls', 'list references use font format margins name contact information reference document used resume present uniform package', 'possible references include former managerssupervisors colleagues important customers business associates professors compile following information prospects name positioncompany town state zip phone email sample jane doe deer forest street plano tx janedoeemailutdcom reference list artemis fowl entrepreneur tara ireland fowlisfairaaaeee prof', 'severus snape professor potions dark arts hogwarts school witchcraft wizardry london england h gs snapeaaaeee james sunderland employee lakeview hotel silent hill tx pyramidheadaaaeee roland deschain gunslinger dark tower dallas tx seekingsusanaaaeee xcresume samples attention following resumes reference purposes copying word word form academic dishonesty', 'imperative resume information reflect skills abilities experience', 'strongly recommended templates boilerplate wording avoided create strong effective resume', 'provide false information copy wording sources', 'xcsample best utilized distinguish relevant non relevant work experience sample based resume best resumes college students new grads louise m', 'kursmark', 'raphael giovanni midwich ln', 'xexxa fremont ne xexxa xexxa giovanniemailcom social studies teacher grades teaching training experience schools business', 'competent results oriented instructor able motivate students differing abilities achieve true potential', 'xefxx certified teach history political science geography economics sociology psychology xefxx strengths integrated curriculum multicultural service learning special needs students xefxx classroom media powerpoint internet research education honors bachelor arts education social science field endorsement university nebraska lincoln ne deans list gpa', 'may teaching experience student teacher grades xexxa dunwich public schools dunwich ne xefxx taught world history american history sociology students', 'xefxx instructed students research political parties develop platforms debate ideas', 'student practicum grades xexxa alchemilla middle school fremont ne master level tutor undergraduates xexxa university nebraska lincoln ne student mentor grade xexxa aperture science middle school fremont ne xefxx created taught unit louisiana purchase students', 'xefxx increased awareness economically disadvantaged persons planning implementation service learning project', 'xefxx certified international college reading learning association', 'xefxx tutored students history political science sociology geography', 'xefxx trained several new tutors workshops implemented new learning programs', 'xefxx tutored student adhd english math science history', 'xefxx implemented creative learning techniques resulted student passing exams', 'computer language skills ms office internet research windowsmac proficient german additional work experience shift managercrew member xexxa flet woods eatery fremont ne present xefxx managed five employees including hiring training scheduling', 'xefxx balanced daily receipts deposited cash bank', 'discovered fixed mechanical error resulting savings', 'xcsample best utilized display relevant experience sample based resume best resumes college students new grads louise m', 'kursmark', 'talia ross massachusetts', 'taliaemailcom profile detail oriented high energy chemical engineering graduate keen problem solving analytical skills evidenced ability provide analysis recommendations improve plant operations', 'strong interpersonal planning organizational skills demonstrated chemical engineering internships', 'contribute independently part team coordinate manage products ranging floor layout designs thermodynamic calculations reproduction obsolete parts', 'excellent performance records personal reviews three previous co op positions', 'education bachelor science chemical engineering minor psychology miskatonic university arkham massachusetts gpa', 'december intern experience engineering co op herbert west biotechnology arkham massachusetts maintenance engineering department january may researched specifications large batch mixer capital project collaborated across business functions develop engineering operating requirements startup installation', 'facilitated meetings approval design assembly new polyfilm applicator', 'performed troubleshooting necessary field changes', 'collaborated team members reengineer bulk powder flow hopper material improving speed production process', 'maintenance engineering department august december gathered calculated daily loadings cooling tower water chiller ensure adequate amounts current usages', 'designed backup system emergency situations', 'developed layout designs plant utilities room house installation new vacuum system made improvements existing system', 'compiled information causes chemical tote pump failures developed solutions reducing breakdown frequency', 'production department may august redesigned plant pigment room layout accommodate new scales equipment', 'worked extensively updating new plant systems pids built drawings', 'modified pump controls meet operating procedures required osha', 'technical skills tools chemcad xexxa c xexxa engineers aide sinet xexxa thermal analysis systems energy analyst catalytic reactors xexxa plate filter press xexxa agitatorsmixers xexxa vial handling systems activities leadership miskatonic university chapter habitat humanity xexxa leadershape institute xcsample best utilized highlight academic achievements scholarshipaward applications sample based resume best resumes college students new grads louise m', 'kursmark', 'sten r', 'stewart fusrodah blvd', 'apt', 'fairfield ct', 'stenyahoocom summary accomplished well rounded college professional seeking summer fellowship government public policy', 'enthusiastic energetic contributor student government mentoring programs strengths including leadership problem solving cross cultural communications education honors bs', 'government public policy fairfield university fairfield ct', 'gpa', 'recipient aramark fellowship spring recipient academic excellence scholarship selected collegium v fairfield universitys honors program may relevant coursework us', 'foreign relations moot court honors class government political communication political policy process procedures leadershiporganizational activities chair academic affairs committee student government association present instrumental various projects including surveying students persuading administration implement new foreign language curriculum', 'currently involved initiatives advanced placement credit selected classes establishing campus radio station', 'senator executive committee student government association elected senator two consecutive terms', 'collaborated president vice president senate chairs establish effective processesprocedures within committee partnering campus organizations', 'orientation team member new students program completed preparatory class included leadership skills training', 'participated coordination orientation programs facilitate transition freshmen transfer graduate students university well freshmen camp emerging leadership program', 'served mentor students assisted transitionacademic issues', 'fellowship special assistant united nations information centre washington dc spring awarded aramark fellowship fairfield university', 'produced reports congressional hearings conferences lectures relating united nations activities', 'researched non profit organizations applying ngo status un prepared information updates un conference sustainable finance', 'work experience cashier whole foods fairfield ct xcsample best utilized highlight academic projectscourses littleno work experience merrill woodward mirrorlane circle richardson tx merrillgmailcom objective obtain internship software engineering preferably object oriented development utilizing excellent problem solving critical thinking communication skills', 'education bs computer science', 'gpa', 'university texas dallas richardson tx expected december business', 'gpa', 'collin college mckinney tx may computer skills languages c c assembly language matlab simulink operating systems unix solaris ms dos windows versions packages ms office html', 'hardware vhdl spice relevant coursework signals systems probability statistics digital circuits systems control communications systems electromagnetic engineering digital signal processing microwave circuits systems academic projects software engineering group project designed library catalog web system using tier client server model', 'presented project plan software requirement specification non functional specification detailed case analysis technical specification test plan', 'java programming project computed united states golf association handicap index number golf players designing simple toinstall easy use application', 'created user friendly interface input players performances display handicap', 'activities member ieee ut dallas member emerging leaders program ut dallas visa status availability f available spring fall present xcsample best utilized applying campus positions susan b', 'green robin ln', 'richardson tx sbgutdallasedu objective obtain part time campus position utilizing outstanding customer service organizational leadership skills', 'education bs computer science university texas dallas richardson tx expected may work experience customer service representative may present kohls department stores richardson tx provide efficient customer service accurately manage register transactions balance reconcile daily cash receipts transactions assist training new employees showing necessary procedures company technical language skills familiar microsoft word excel access experience multi line phone systems proficient spanish community involvement volunteer present habitat humanity participate various builds throughout dfw area sell donated materials habitats restore support construction homes activities president ut dallas emerging leaders program present member ieee present secretary crush crew xcsample best utilized changing careers gaps work history sample based resume resume magic susan britton whitcomb grace colterman riversong drive selton alabama gracegmailcom customer service manager communications xefxxa sales xefxxa administration bilingual english spanish professional years experience training program management customer relations supervision', 'professional experience communications public relations advertising training staff development xefxxa degree public relationsjournalism completed comprehensive training public relations including advanced coursework mass communications newswriting editing advertising media graphic arts', 'xefxxa writingverbal skills excellent communication skills effective customer communications proposals correspondence flyers newsletters internal communications public speaking', 'xefxxa staff development successfully coordinated implemented monthly training programs assessed learning needs created curriculum presented instruction secured nationally recognized guest speakers', 'xefxxa background educator able provide client centered interactive training sessions emphasizing practical applications customer education andor staff development', 'sales presentations negotiations customer relations event planning fund raising xefxxa persuasive communicator made formal presentations boards decision makers sold new program ideas secured approval funding', 'demonstrated ability sell varied products floater upscale retailer generated daily sales equal experienced sales associates', 'xefxxa customer relations selected management liaison troubleshooter resolve concerns coworkers external customers vendors', 'xefxxa event planning organized well received special events work community volunteer capacities', 'planned events', 'initiated fund raising projects offset reduction state funding', 'administration program management planning development budgeting supervision xefxxa management held direct accountability planning staffing facilities management coordination education program enrollees instructors', 'hired placed evaluated certified instructors', 'xefxxa program development created successful programs business school partnerships volunteerism community outreach concept development implementation multiple sites', 'xefxxa planning served cross functional team conducted strategic planning developed budgets excess determined programming ensured compliance school site serving students', 'employment history education site administrator alton unified school district teacher dunder mifflin union school district bachelor arts public relationsjournalism university alabama']\n"
     ]
    }
   ],
   "source": [
    "print(\"example of a long resume:\")\n",
    "print(\"resume number 28\")\n",
    "print(\"resume length: {} sentences\".format(len(elmo_in[28])))\n",
    "print(elmo_in[28])"
   ]
  },
  {
   "cell_type": "code",
   "execution_count": 24,
   "metadata": {},
   "outputs": [
    {
     "name": "stdout",
     "output_type": "stream",
     "text": [
      "min: 1\n",
      "max: 1250\n",
      "median: 20.0\n",
      "mean: 44.66858080393765\n",
      "stdev: 95.13732618693363\n"
     ]
    }
   ],
   "source": [
    "print('min: {}'.format(np.amin(lengths)))\n",
    "print('max: {}'.format(np.amax(lengths)))\n",
    "print('median: {}'.format(np.median(lengths)))\n",
    "print('mean: {}'.format(np.mean(lengths)))\n",
    "print('stdev: {}'.format(np.std(lengths)))\n"
   ]
  },
  {
   "cell_type": "code",
   "execution_count": 25,
   "metadata": {},
   "outputs": [],
   "source": [
    "lengths_copy = lengths.copy()\n"
   ]
  },
  {
   "cell_type": "code",
   "execution_count": 26,
   "metadata": {},
   "outputs": [],
   "source": [
    "elmo_in_smalls = elmo_in.copy()"
   ]
  },
  {
   "cell_type": "code",
   "execution_count": 27,
   "metadata": {},
   "outputs": [],
   "source": [
    "elmo_in_smalls = elmo_in_smalls.tolist()"
   ]
  },
  {
   "cell_type": "code",
   "execution_count": 28,
   "metadata": {},
   "outputs": [
    {
     "data": {
      "text/plain": [
       "list"
      ]
     },
     "execution_count": 28,
     "metadata": {},
     "output_type": "execute_result"
    }
   ],
   "source": [
    "type(elmo_in_smalls)"
   ]
  },
  {
   "cell_type": "code",
   "execution_count": 29,
   "metadata": {},
   "outputs": [],
   "source": [
    "for i in elmo_in_smalls:\n",
    "    if len(i) > 100:\n",
    "        elmo_in_smalls.remove(i)\n",
    "    if len(i) <2:\n",
    "        elmo_in_smalls.remove(i)\n",
    "\n",
    "#elmo_in_smalls"
   ]
  },
  {
   "cell_type": "code",
   "execution_count": 30,
   "metadata": {},
   "outputs": [
    {
     "name": "stdout",
     "output_type": "stream",
     "text": [
      "[0]  ['john h', 'smith phr', 'po box callahan fl infogreatresumesfastcom approachable innovator passion human resources', 'senior human resources professional personable analytical flexible senior hr professional multifaceted expertise', 'seasoned benefits administrator extensive experience working highly paid professionals client relationship based settings', 'dynamic team leader capable analyzing alternatives identifying tough choices communicating total value benefit compensation packages senior level executives employees', 'core competencies benefits administration customer service cost control recruiting acquisition management compliance reporting retention professional services domestic international benefits collaboration adaptability change management defined contribution plans auditing negotiation corporate hr policies full lifecycle training k form confidential files eeo aap fmla std ltd h b visa vets eap processing payroll hr technology hris data management auditing ultipro back office ultipro web connect deltek costpoint deltek gcs premiere cognos adp professional experience human services inc', 'tampa fl present providing institutional behavioral health medical management contracting services employees benefits manager manage administer robust m health welfare program administer benefits programs two smaller minority business enterprise clients', 'deliver excellence client services leveraging interpersonal skills establish rapport team members', 'perform cost analysis gather claims data coordinate enrollment large selffunded medical plan plus two smaller fully insured plans', 'analyze data projections create forecasts narrative graph format clearly succinctly communicate trends senior management meetings', 'directly supervise staff hr admin plus two human resource specialists', 'lead healthcare reform change management process analyzing changes developing strategic plans timeline crucial decisions ahead deadlines', 'communicate early changes dependent coverage preventive care lifetime maximum benefits employees', 'identified researched implemented hsa healthcare savings account health insurance option high deductible health insurance plan provide tax sheltered benefits physicians high income highprofile professionals', 'saved k annually restructuring open enrollment strategy leveraging existing human capital hr business partners achieve better communication lower cost', 'quickly establish rapport employees balance client relationship needs organizational goals cost controls compliance requirements create positive work environment', 'maximize employee recruiting retention implementing competitive benefits packages clearly communicating value team members', 'reduced costs k per year collaborating closely legal department create house total comp statement including implications taxes social security produced better quality analysis lower costs', 'xcjohn h', 'smith phr', 'page infogreatresumesfastcom approachable innovator passion human resources', 'human management inc', 'atlanta ga nonprofit government consulting firm domestic international employees senior human resources generalist performed diverse human resources functions administered benefits led special projects updated policies collaborated eeo vets affirmative action plan aap reporting', 'revamped orientation training programs newly hired employees include comprehensive information delivered personal formats teleconferences small group meetings tours one one conversations follow phone calls', 'supervised hr assistant temporary human resource specialists handling high volume work peak periods open enrollment company merger', 'led change management process seamlessly integrated benefits compensation retirement plans logistics newly acquired company employees prepared encompassing reports total compensation plans', 'developed webinars personal meetings communicate value benefits employees despite reductions economic recession maintained employee retention job satisfaction rankings despite cutbacks', 'reduced overall benefit costs including decrease std benefits base compensation without significant increase employee turnover', 'researched procured benefits government contractors traveling hazardous areas including kidnap ransom kr increased life insurance travel insurance', 'identified implemented medical dental benefit plans ensure comparable compensation international employees worldwide', 'managed diverse retirement plans including defined contribution b a executive b plans', 'abc corporation new york ny engineering construction consulting international domestic employees senior human resources generalist acme inc', 'washington dc', 'professional services consulting firm employees hr generalist benefits specialist human resource corporation tampa fl environmental management consulting firm employees human resources assistant education certification affiliation bachelor science psychology community college professional human resources phr certificate employee benefit specialist cebs certification pending member shrm society human resource management']\n"
     ]
    }
   ],
   "source": [
    "print('[0] ',elmo_in_smalls[0])"
   ]
  },
  {
   "cell_type": "code",
   "execution_count": 31,
   "metadata": {},
   "outputs": [
    {
     "name": "stdout",
     "output_type": "stream",
     "text": [
      "[0][3]  <class 'str'> 112 senior human resources professional personable analytical flexible senior hr professional multifaceted expertise\n"
     ]
    }
   ],
   "source": [
    "print('[0][3] ', type(elmo_in_smalls[0][3]), len(elmo_in_smalls[0][3]), elmo_in_smalls[0][3])"
   ]
  },
  {
   "cell_type": "code",
   "execution_count": 32,
   "metadata": {},
   "outputs": [
    {
     "name": "stdout",
     "output_type": "stream",
     "text": [
      "7 1 o\n",
      "8 3 \n",
      "8 4 \n",
      "8 5 \n",
      "8 6 \n",
      "8 7 \n",
      "8 15 \n",
      "8 17 \n",
      "8 25 c\n",
      "8 29 f\n",
      "8 41 \n",
      "25 38 \n",
      "30 3 \n",
      "30 4 \n",
      "30 5 \n",
      "30 6 \n",
      "30 7 \n",
      "30 15 \n",
      "30 17 \n",
      "30 25 c\n",
      "30 29 f\n",
      "30 41 \n",
      "33 3 \n",
      "33 4 \n",
      "33 5 \n",
      "33 6 \n",
      "33 7 \n",
      "33 15 \n",
      "33 17 \n",
      "33 25 c\n",
      "33 29 f\n",
      "33 41 \n",
      "43 6 \n",
      "43 24 \n",
      "45 39 \n",
      "54 15 \n",
      "59 9 \n",
      "59 17 p\n",
      "70 34 \n",
      "70 51 \n",
      "70 59 \n",
      "70 68 \n",
      "70 85 \n",
      "85 4 \n",
      "85 5 \n",
      "95 33 \n",
      "108 55 \n",
      "119 8 j\n",
      "128 2 \n",
      "135 31 \n",
      "156 5 \n",
      "156 11 \n",
      "156 18 \n",
      "156 20 \n",
      "156 22 \n",
      "156 36 \n",
      "156 39 \n",
      "156 43 \n",
      "156 46 \n",
      "159 13 \n",
      "159 63 \n",
      "160 11 a\n",
      "160 15 a\n",
      "160 27 p\n",
      "160 40 a\n",
      "165 20 \n",
      "167 6 \n",
      "167 7 \n",
      "168 16 \n",
      "174 21 \n",
      "174 23 \n",
      "185 22 \n",
      "187 6 \n",
      "187 7 \n",
      "188 24 \n",
      "190 74 \n",
      "192 42 m\n",
      "201 2 \n",
      "201 31 \n",
      "204 3 \n",
      "207 11 \n",
      "212 6 \n",
      "212 8 \n",
      "214 12 \n",
      "216 18 \n",
      "217 16 \n",
      "221 3 \n",
      "222 5 \n",
      "229 24 \n",
      "233 7 \n",
      "233 21 \n",
      "233 22 \n",
      "233 28 \n",
      "233 39 \n",
      "233 40 \n",
      "245 1 g\n",
      "254 37 \n",
      "260 4 \n",
      "263 21 \n",
      "263 46 \n",
      "263 57 \n",
      "263 66 \n",
      "263 82 \n",
      "263 84 \n",
      "263 86 \n",
      "263 88 \n",
      "266 5 \n",
      "266 7 \n",
      "266 9 \n",
      "266 11 \n",
      "266 13 \n",
      "266 15 \n",
      "266 17 \n",
      "266 19 \n",
      "266 31 \n",
      "268 4 \n",
      "274 16 \n",
      "275 16 \n",
      "284 2 o\n",
      "288 1 \n",
      "288 2 \n",
      "288 3 \n",
      "291 48 d\n",
      "291 51 h\n",
      "292 50 q\n",
      "292 120 \n",
      "292 122 \n",
      "292 128 \n",
      "292 131 \n",
      "292 133 \n",
      "292 139 \n",
      "292 143 \n",
      "292 147 \n",
      "292 151 \n",
      "292 183 \n",
      "292 193 \n",
      "292 229 \n",
      "292 274 \n",
      "302 50 p\n",
      "302 53 \n",
      "302 62 \n",
      "302 68 \n",
      "302 72 p\n",
      "302 75 \n",
      "302 80 r\n",
      "302 83 \n",
      "302 88 \n",
      "302 96 \n",
      "302 98 m\n",
      "302 103 s\n",
      "302 105 \n",
      "302 107 w\n",
      "302 113 d\n",
      "302 115 \n",
      "302 117 e\n",
      "302 123 j\n",
      "302 125 \n",
      "302 127 m\n",
      "302 132 m\n",
      "302 134 \n",
      "302 141 \n",
      "302 145 p\n",
      "302 147 \n",
      "302 151 \n",
      "302 154 r\n",
      "302 156 \n",
      "302 159 s\n",
      "302 161 \n",
      "302 164 p\n",
      "302 166 \n",
      "302 169 \n",
      "302 171 s\n",
      "302 177 m\n",
      "302 179 \n",
      "302 182 \n",
      "302 185 p\n",
      "302 187 \n",
      "302 190 \n",
      "302 193 \n",
      "302 196 j\n",
      "302 198 \n",
      "302 201 b\n",
      "302 203 \n",
      "302 205 j\n",
      "302 211 j\n",
      "302 213 \n",
      "302 216 \n",
      "302 219 b\n",
      "302 221 \n",
      "302 223 m\n",
      "302 230 b\n",
      "302 232 \n",
      "302 235 \n",
      "302 238 \n",
      "302 240 d\n",
      "302 246 \n",
      "302 253 \n",
      "302 255 b\n",
      "302 260 \n",
      "302 262 b\n",
      "302 269 \n",
      "302 271 j\n",
      "302 277 \n",
      "302 280 \n",
      "302 283 \n",
      "302 289 \n",
      "302 293 h\n",
      "302 295 \n",
      "302 299 \n",
      "302 304 \n",
      "302 317 \n",
      "307 2 o\n",
      "310 12 \n",
      "313 21 \n",
      "319 26 \n",
      "319 28 l\n",
      "319 37 \n",
      "322 2 \n",
      "327 18 \n",
      "327 27 \n",
      "327 50 \n",
      "327 52 \n",
      "327 54 \n",
      "338 10 \n",
      "342 9 w\n",
      "343 13 l\n",
      "343 19 \n",
      "343 21 \n",
      "344 4 \n",
      "344 11 \n",
      "345 1 y\n",
      "345 5 t\n",
      "345 7 t\n",
      "345 8 o\n",
      "345 10 p\n",
      "348 3 \n",
      "348 5 \n",
      "348 16 \n",
      "348 19 \n",
      "348 28 \n",
      "349 1 \n",
      "351 14 l\n",
      "351 18 \n",
      "351 20 j\n",
      "351 48 c\n",
      "355 35 \n",
      "355 93 d\n",
      "355 112 \n",
      "356 26 l\n",
      "357 2 l\n",
      "357 5 \n",
      "358 23 \n",
      "358 28 l\n",
      "358 29 r\n",
      "358 30 \n",
      "358 32 r\n",
      "358 33 \n",
      "358 36 \n",
      "358 38 \n",
      "358 41 \n",
      "358 44 \n",
      "358 67 v\n",
      "358 72 \n",
      "358 74 v\n",
      "358 85 \n",
      "360 34 \n",
      "360 41 \n",
      "363 2 c\n",
      "368 18 \n",
      "368 27 \n",
      "368 50 \n",
      "368 52 \n",
      "368 54 \n",
      "376 91 p\n",
      "385 9 \n",
      "386 13 \n",
      "398 15 \n",
      "398 18 \n",
      "400 7 \n",
      "403 43 \n",
      "412 4 \n",
      "414 4 \n",
      "418 3 \n",
      "418 6 \n",
      "422 59 \n",
      "427 3 o\n",
      "427 28 \n",
      "427 37 \n",
      "427 41 k\n",
      "427 43 \n",
      "429 20 k\n",
      "429 241 j\n",
      "429 330 j\n",
      "429 338 j\n",
      "429 342 j\n",
      "429 345 j\n",
      "429 359 j\n",
      "430 1 \n",
      "436 11 \n",
      "437 35 \n",
      "437 44 \n",
      "437 48 \n",
      "437 66 \n",
      "437 70 \n",
      "437 74 \n",
      "437 78 \n",
      "437 79 \n",
      "437 83 \n",
      "445 9 \n",
      "445 12 \n",
      "445 14 \n",
      "455 6 \n",
      "455 9 \n",
      "455 11 \n",
      "455 13 \n",
      "455 18 \n",
      "455 29 \n",
      "464 19 \n",
      "464 22 \n",
      "464 25 \n",
      "464 28 \n",
      "464 36 \n",
      "478 24 \n",
      "478 27 \n",
      "478 73 \n",
      "478 77 \n",
      "478 82 \n",
      "478 94 \n",
      "478 158 \n",
      "484 1 \n",
      "488 13 \n",
      "488 15 \n",
      "488 18 \n",
      "488 23 \n",
      "488 28 \n",
      "525 5 \n",
      "542 9 \n",
      "551 7 \n",
      "573 26 \n",
      "578 49 \n",
      "578 50 \n",
      "578 55 \n",
      "596 33 \n",
      "597 11 \n",
      "599 13 \n",
      "603 13 r\n",
      "603 14 r\n",
      "612 93 \n",
      "612 96 \n",
      "618 51 \n",
      "619 24 \n",
      "620 4 \n",
      "620 6 \n",
      "620 9 \n",
      "620 12 \n",
      "620 14 \n",
      "620 20 \n",
      "620 22 \n",
      "620 54 \n",
      "620 60 \n",
      "625 47 \n",
      "630 56 \n",
      "630 60 \n",
      "630 82 \n",
      "641 10 \n",
      "651 1 f\n",
      "659 6 \n",
      "659 30 \n",
      "659 34 \n",
      "659 40 \n",
      "659 53 m\n",
      "660 2 \n",
      "661 20 v\n",
      "661 108 a\n",
      "661 110 a\n",
      "661 171 \n",
      "662 2 \n",
      "668 36 \n",
      "674 2 \n",
      "677 10 w\n",
      "683 2 \n",
      "689 49 \n",
      "701 18 \n",
      "701 20 \n",
      "701 22 \n",
      "701 24 \n",
      "701 26 \n",
      "701 28 \n",
      "701 30 \n",
      "701 32 \n",
      "701 36 \n",
      "701 38 \n",
      "701 42 \n",
      "701 46 \n",
      "701 48 \n",
      "701 50 \n",
      "701 52 \n",
      "701 54 \n",
      "702 2 \n",
      "702 3 \n",
      "702 4 \n",
      "704 5 \n",
      "704 8 \n",
      "715 7 \n",
      "715 9 \n",
      "715 11 \n",
      "715 15 \n",
      "715 20 \n",
      "715 23 \n",
      "715 25 \n",
      "715 27 \n",
      "715 29 \n",
      "716 15 \n",
      "720 34 \n",
      "720 35 \n",
      "720 36 \n",
      "752 31 \n",
      "758 27 \n",
      "771 9 \n",
      "771 17 p\n",
      "775 9 \n",
      "775 17 p\n",
      "785 1 \n",
      "797 3 \n",
      "797 4 \n",
      "798 6 \n",
      "798 7 \n",
      "799 13 \n",
      "804 62 \n",
      "807 87 s\n",
      "818 0 r\n",
      "820 54 \n",
      "820 60 \n",
      "822 3 \n",
      "826 3 b\n",
      "829 6 \n",
      "829 9 \n",
      "829 10 \n",
      "829 13 \n",
      "831 151 d\n",
      "834 31 \n",
      "835 5 h\n",
      "835 7 m\n",
      "835 11 h\n",
      "835 13 s\n",
      "835 30 h\n",
      "838 42 m\n",
      "841 79 \n",
      "841 86 b\n",
      "841 88 c\n",
      "841 90 \n",
      "841 93 \n",
      "841 96 \n",
      "841 102 \n",
      "841 111 \n",
      "841 149 \n",
      "841 158 \n",
      "841 165 \n",
      "841 172 \n",
      "841 180 \n",
      "842 14 \n",
      "842 22 \n",
      "845 35 s\n",
      "845 47 s\n",
      "847 42 \n",
      "849 50 s\n",
      "849 52 \n",
      "851 0 v\n",
      "859 1 \n",
      "864 16 d\n",
      "864 20 n\n",
      "864 41 j\n",
      "864 42 d\n",
      "864 44 i\n",
      "864 46 c\n",
      "864 50 \n",
      "864 51 \n",
      "866 0 \n",
      "867 26 \n",
      "867 28 \n",
      "870 62 \n",
      "871 6 \n",
      "871 7 \n",
      "871 8 \n",
      "871 29 \n",
      "872 6 b\n",
      "872 8 c\n",
      "872 10 \n",
      "872 17 a\n",
      "872 20 b\n",
      "872 22 \n",
      "872 27 \n",
      "872 29 \n",
      "872 32 \n",
      "872 37 \n",
      "872 44 \n",
      "872 49 \n",
      "872 61 p\n",
      "872 67 p\n",
      "874 6 b\n",
      "874 8 c\n",
      "874 10 \n",
      "874 17 a\n",
      "874 20 b\n",
      "874 22 \n",
      "874 27 \n",
      "874 29 \n",
      "874 32 \n",
      "874 37 \n",
      "874 44 \n",
      "874 49 \n",
      "874 61 p\n",
      "874 67 p\n",
      "877 6 b\n",
      "877 8 c\n",
      "877 10 \n",
      "877 17 a\n",
      "877 20 b\n",
      "877 22 \n",
      "877 27 \n",
      "877 29 \n",
      "877 32 \n",
      "877 37 \n",
      "877 44 \n",
      "877 49 \n",
      "877 61 p\n",
      "877 67 p\n",
      "887 4 \n",
      "891 3 j\n",
      "891 6 n\n",
      "891 7 m\n",
      "891 8 u\n",
      "892 1 j\n",
      "892 15 j\n",
      "892 26 j\n",
      "894 2 \n",
      "936 4 \n",
      "936 6 \n",
      "936 9 \n",
      "936 15 \n",
      "936 19 \n",
      "936 23 \n",
      "936 25 \n",
      "936 27 \n",
      "939 12 \n",
      "949 6 \n",
      "949 67 \n",
      "951 5 \n",
      "951 8 \n",
      "951 14 \n",
      "951 18 \n",
      "951 20 \n",
      "951 22 \n",
      "951 24 \n",
      "956 44 \n",
      "956 46 \n",
      "956 73 d\n",
      "968 0 \n",
      "977 34 \n",
      "985 15 \n",
      "1033 10 b\n",
      "1033 11 a\n",
      "1033 12 l\n",
      "1033 13 j\n",
      "1033 17 c\n",
      "1033 18 a\n",
      "1033 19 \n",
      "1033 23 s\n",
      "1033 24 c\n",
      "1033 25 g\n",
      "1033 26 s\n",
      "1033 27 e\n",
      "1033 28 b\n",
      "1033 30 s\n",
      "1033 31 c\n",
      "1033 32 g\n",
      "1033 33 s\n",
      "1033 34 e\n",
      "1033 35 b\n",
      "1041 0 m\n",
      "1041 1 a\n",
      "1050 3 a\n",
      "1058 8 \n",
      "1059 0 \n",
      "1059 3 \n",
      "1069 4 m\n",
      "1069 6 u\n",
      "1072 6 a\n",
      "1082 12 \n",
      "1087 20 v\n",
      "1087 99 \n",
      "1087 111 \n",
      "1087 136 \n",
      "1087 153 a\n",
      "1087 155 a\n"
     ]
    }
   ],
   "source": [
    "for i in range(0, len(elmo_in_smalls)):\n",
    "    for j in range (0, len(elmo_in_smalls[i])):\n",
    "        if len(elmo_in_smalls[i][j])<2:\n",
    "            print(i, j, elmo_in_smalls[i][j])\n",
    "\n"
   ]
  },
  {
   "cell_type": "code",
   "execution_count": null,
   "metadata": {},
   "outputs": [],
   "source": []
  },
  {
   "cell_type": "code",
   "execution_count": 33,
   "metadata": {},
   "outputs": [
    {
     "data": {
      "text/plain": [
       "1088"
      ]
     },
     "execution_count": 33,
     "metadata": {},
     "output_type": "execute_result"
    }
   ],
   "source": [
    "len(elmo_in_smalls)"
   ]
  },
  {
   "cell_type": "code",
   "execution_count": 34,
   "metadata": {},
   "outputs": [],
   "source": [
    "lengths_smalls = []\n",
    "for i in range(0, len(elmo_in_smalls)):\n",
    "    lengths_smalls.extend([len(elmo_in_smalls[i])])\n",
    "\n",
    "#lengths_smalls"
   ]
  },
  {
   "cell_type": "code",
   "execution_count": 35,
   "metadata": {},
   "outputs": [
    {
     "data": {
      "image/png": "[encoded data removed]",
      "text/plain": [
       "<Figure size 432x288 with 1 Axes>"
      ]
     },
     "metadata": {
      "needs_background": "light"
     },
     "output_type": "display_data"
    }
   ],
   "source": [
    "# let's look at distributions of resume length\n",
    "\n",
    "plt.hist(lengths_smalls, bins=range(0, 100, 5))\n",
    "\n",
    "plt.show()\n"
   ]
  },
  {
   "cell_type": "code",
   "execution_count": 36,
   "metadata": {},
   "outputs": [],
   "source": [
    "# now we have lengths_smalls for each length\n",
    "# now we have elmo_in_smalls for each resume"
   ]
  },
  {
   "cell_type": "code",
   "execution_count": 37,
   "metadata": {},
   "outputs": [
    {
     "data": {
      "text/plain": [
       "list"
      ]
     },
     "execution_count": 37,
     "metadata": {},
     "output_type": "execute_result"
    }
   ],
   "source": [
    "type(elmo_in_smalls[0])"
   ]
  },
  {
   "cell_type": "code",
   "execution_count": 39,
   "metadata": {},
   "outputs": [
    {
     "name": "stdout",
     "output_type": "stream",
     "text": [
      "Num GPUs Available:  0\n"
     ]
    }
   ],
   "source": [
    "# I have elmo saved locally\n",
    "elmo = hub.Module(\"/home/ec2-user/module/module_elmo2\", trainable=False)\n",
    "\n",
    "# It's a Tesla V100 with a P3, K80 with P2 \n",
    "print(\"Num GPUs Available: \", len(tf.config.experimental.list_physical_devices('GPU')))"
   ]
  },
  {
   "cell_type": "code",
   "execution_count": 40,
   "metadata": {},
   "outputs": [
    {
     "name": "stdout",
     "output_type": "stream",
     "text": [
      "embeddings is type <class 'tensorflow.python.framework.ops.Tensor'> and shape (35, 74, 1024)\n",
      "message_embeddings_2d is type <class 'numpy.ndarray'> and shape (74, 1024)\n",
      "message_embeddings_1d is type <class 'tensorflow.python.framework.ops.Tensor'> and shape (1, 1024)\n"
     ]
    }
   ],
   "source": [
    "# first_try = []\n",
    "# for i in range(0, len(elmo_in_smalls[0])):\n",
    "#     first_try = elmo_vectors(elmo_in_smalls[0][i])\n",
    "#     print(first_try)\n",
    "\n",
    "\n",
    "#trying on elmo_in_smalls[0]\n",
    "embeddings = elmo(elmo_in_smalls[0], signature=\"default\",as_dict=True)[\"elmo\"]\n",
    "print(\"embeddings is type {} and shape {}\".format(type(embeddings), embeddings.shape))\n",
    "with tf.Session() as session:\n",
    "    session.run([tf.global_variables_initializer(), tf.tables_initializer()])\n",
    "    message_embeddings_2d = session.run(tf.reduce_mean(embeddings,axis=0))\n",
    "    print(\"message_embeddings_2d is type {} and shape {}\".format(type(message_embeddings_2d), message_embeddings_2d.shape))\n",
    "    message_embeddings_1d = tf.reduce_mean(tf.convert_to_tensor(message_embeddings_2d), axis = 0, keepdims=True)\n",
    "    print(\"message_embeddings_1d is type {} and shape {}\".format(type(message_embeddings_1d), message_embeddings_1d.shape))\n"
   ]
  },
  {
   "cell_type": "code",
   "execution_count": null,
   "metadata": {},
   "outputs": [],
   "source": [
    "with tf.Session() as sess:  print(message_embeddings_1d.eval()) "
   ]
  },
  {
   "cell_type": "code",
   "execution_count": null,
   "metadata": {},
   "outputs": [],
   "source": []
  },
  {
   "cell_type": "code",
   "execution_count": null,
   "metadata": {},
   "outputs": [],
   "source": [
    "#trying on elmo_in_smalls[1]\n",
    "embeddings1 = elmo(elmo_in_smalls[1], signature=\"default\",as_dict=True)[\"elmo\"]\n",
    "print(\"embeddings is type {} and shape {}\".format(type(embeddings1), embeddings1.shape))\n",
    "with tf.Session() as session:\n",
    "    session.run([tf.global_variables_initializer(), tf.tables_initializer()])\n",
    "    message_embeddings1_2d = session.run(tf.reduce_mean(embeddings1,axis=0))\n",
    "    print(\"message_embeddings1_2d is type {} and shape {}\".format(type(message_embeddings1_2d), message_embeddings1_2d.shape))\n",
    "    message_embeddings1_1d = session.run(tf.reduce_mean(tf.convert_to_tensor(message_embeddings1_2d), axis = 0, keepdims=True))\n",
    "    print(\"message_embeddings1_1d is type {} and shape {}\".format(type(message_embeddings1_1d), message_embeddings1_1d.shape))\n",
    "\n",
    "    "
   ]
  },
  {
   "cell_type": "code",
   "execution_count": null,
   "metadata": {},
   "outputs": [],
   "source": [
    "print(message_embeddings1_1d)"
   ]
  },
  {
   "cell_type": "code",
   "execution_count": null,
   "metadata": {},
   "outputs": [],
   "source": [
    "with tf.Session() as sess:  print(message_embeddings1_1d.eval()) "
   ]
  },
  {
   "cell_type": "code",
   "execution_count": null,
   "metadata": {},
   "outputs": [],
   "source": [
    "with tf.Session() as sess: print(cosine_similarity(message_embeddings_1d.eval(), message_embeddings1_1d.eval()))\n"
   ]
  },
  {
   "cell_type": "code",
   "execution_count": null,
   "metadata": {},
   "outputs": [],
   "source": []
  },
  {
   "cell_type": "code",
   "execution_count": null,
   "metadata": {},
   "outputs": [],
   "source": [
    "# print(\"embeddings shape: {}\".format(embeddings.shape))\n",
    "# print(\"elmo_in_smalls[0] sentences: {}\".format(len(elmo_in_smalls[0])))\n",
    "# max_sentence_length = 0\n",
    "# for i in range(0, len(elmo_in_smalls[0])):\n",
    "#     if len(elmo_in_smalls[0][i].split()) > max_sentence_length:\n",
    "#         max_sentence_length = len(elmo_in_smalls[0][i])\n",
    "                                  \n",
    "# print(\"elmo_in_smalls[0] max sentence length: {}\".format(max_sentence_length))\n"
   ]
  },
  {
   "cell_type": "code",
   "execution_count": null,
   "metadata": {},
   "outputs": [],
   "source": [
    "len(elmo_in_smalls)"
   ]
  },
  {
   "cell_type": "code",
   "execution_count": null,
   "metadata": {},
   "outputs": [],
   "source": [
    "len(elmo_in_smalls[129])"
   ]
  },
  {
   "cell_type": "code",
   "execution_count": null,
   "metadata": {},
   "outputs": [],
   "source": [
    "(100 % 100) == 0"
   ]
  },
  {
   "cell_type": "code",
   "execution_count": null,
   "metadata": {},
   "outputs": [],
   "source": []
  },
  {
   "cell_type": "code",
   "execution_count": null,
   "metadata": {
    "scrolled": true
   },
   "outputs": [
    {
     "name": "stderr",
     "output_type": "stream",
     "text": [
      "\r",
      "  0%|          | 0/787 [00:00<?, ?it/s]"
     ]
    },
    {
     "name": "stdout",
     "output_type": "stream",
     "text": [
      "elmo_in_smalls[301]\n"
     ]
    },
    {
     "name": "stderr",
     "output_type": "stream",
     "text": [
      "\r",
      "  0%|          | 1/787 [00:05<1:16:17,  5.82s/it]"
     ]
    },
    {
     "name": "stdout",
     "output_type": "stream",
     "text": [
      "elmo_in_smalls[302]\n"
     ]
    },
    {
     "name": "stderr",
     "output_type": "stream",
     "text": [
      "\r",
      "  0%|          | 2/787 [00:42<3:18:30, 15.17s/it]"
     ]
    },
    {
     "name": "stdout",
     "output_type": "stream",
     "text": [
      "elmo_in_smalls[303]\n"
     ]
    },
    {
     "name": "stderr",
     "output_type": "stream",
     "text": [
      "\r",
      "  0%|          | 3/787 [00:53<2:59:04, 13.70s/it]"
     ]
    },
    {
     "name": "stdout",
     "output_type": "stream",
     "text": [
      "elmo_in_smalls[304]\n"
     ]
    },
    {
     "name": "stderr",
     "output_type": "stream",
     "text": [
      "\r",
      "  1%|          | 4/787 [01:03<2:45:37, 12.69s/it]"
     ]
    },
    {
     "name": "stdout",
     "output_type": "stream",
     "text": [
      "elmo_in_smalls[305]\n"
     ]
    },
    {
     "name": "stderr",
     "output_type": "stream",
     "text": [
      "\r",
      "  1%|          | 5/787 [01:06<2:09:08,  9.91s/it]"
     ]
    },
    {
     "name": "stdout",
     "output_type": "stream",
     "text": [
      "elmo_in_smalls[306]\n"
     ]
    },
    {
     "name": "stderr",
     "output_type": "stream",
     "text": [
      "\r",
      "  1%|          | 6/787 [01:10<1:43:46,  7.97s/it]"
     ]
    },
    {
     "name": "stdout",
     "output_type": "stream",
     "text": [
      "elmo_in_smalls[307]\n"
     ]
    },
    {
     "name": "stderr",
     "output_type": "stream",
     "text": [
      "\r",
      "  1%|          | 7/787 [01:13<1:25:20,  6.57s/it]"
     ]
    },
    {
     "name": "stdout",
     "output_type": "stream",
     "text": [
      "elmo_in_smalls[308]\n"
     ]
    },
    {
     "name": "stderr",
     "output_type": "stream",
     "text": [
      "\r",
      "  1%|          | 8/787 [01:19<1:24:16,  6.49s/it]"
     ]
    },
    {
     "name": "stdout",
     "output_type": "stream",
     "text": [
      "elmo_in_smalls[309]\n"
     ]
    },
    {
     "name": "stderr",
     "output_type": "stream",
     "text": [
      "\r",
      "  1%|          | 9/787 [01:28<1:33:58,  7.25s/it]"
     ]
    },
    {
     "name": "stdout",
     "output_type": "stream",
     "text": [
      "elmo_in_smalls[310]\n"
     ]
    },
    {
     "name": "stderr",
     "output_type": "stream",
     "text": [
      "\r",
      "  1%|▏         | 10/787 [01:37<1:37:18,  7.51s/it]"
     ]
    },
    {
     "name": "stdout",
     "output_type": "stream",
     "text": [
      "elmo_in_smalls[311]\n"
     ]
    },
    {
     "name": "stderr",
     "output_type": "stream",
     "text": [
      "\r",
      "  1%|▏         | 11/787 [01:41<1:24:00,  6.50s/it]"
     ]
    },
    {
     "name": "stdout",
     "output_type": "stream",
     "text": [
      "elmo_in_smalls[312]\n"
     ]
    },
    {
     "name": "stderr",
     "output_type": "stream",
     "text": [
      "\r",
      "  2%|▏         | 12/787 [01:48<1:26:01,  6.66s/it]"
     ]
    },
    {
     "name": "stdout",
     "output_type": "stream",
     "text": [
      "elmo_in_smalls[313]\n"
     ]
    },
    {
     "name": "stderr",
     "output_type": "stream",
     "text": [
      "\r",
      "  2%|▏         | 13/787 [03:13<6:29:25, 30.19s/it]"
     ]
    },
    {
     "name": "stdout",
     "output_type": "stream",
     "text": [
      "elmo_in_smalls[314]\n"
     ]
    },
    {
     "name": "stderr",
     "output_type": "stream",
     "text": [
      "\r",
      "  2%|▏         | 14/787 [03:22<5:06:18, 23.78s/it]"
     ]
    },
    {
     "name": "stdout",
     "output_type": "stream",
     "text": [
      "elmo_in_smalls[315]\n"
     ]
    },
    {
     "name": "stderr",
     "output_type": "stream",
     "text": [
      "\r",
      "  2%|▏         | 15/787 [03:28<3:57:26, 18.45s/it]"
     ]
    },
    {
     "name": "stdout",
     "output_type": "stream",
     "text": [
      "elmo_in_smalls[316]\n"
     ]
    },
    {
     "name": "stderr",
     "output_type": "stream",
     "text": [
      "\r",
      "  2%|▏         | 16/787 [03:36<3:17:11, 15.35s/it]"
     ]
    },
    {
     "name": "stdout",
     "output_type": "stream",
     "text": [
      "elmo_in_smalls[317]\n"
     ]
    },
    {
     "name": "stderr",
     "output_type": "stream",
     "text": [
      "\r",
      "  2%|▏         | 17/787 [03:43<2:47:39, 13.06s/it]"
     ]
    },
    {
     "name": "stdout",
     "output_type": "stream",
     "text": [
      "elmo_in_smalls[318]\n"
     ]
    },
    {
     "name": "stderr",
     "output_type": "stream",
     "text": [
      "\r",
      "  2%|▏         | 18/787 [03:54<2:37:39, 12.30s/it]"
     ]
    },
    {
     "name": "stdout",
     "output_type": "stream",
     "text": [
      "elmo_in_smalls[319]\n"
     ]
    },
    {
     "name": "stderr",
     "output_type": "stream",
     "text": [
      "\r",
      "  2%|▏         | 19/787 [04:38<4:40:47, 21.94s/it]"
     ]
    },
    {
     "name": "stdout",
     "output_type": "stream",
     "text": [
      "elmo_in_smalls[320]\n"
     ]
    },
    {
     "name": "stderr",
     "output_type": "stream",
     "text": [
      "\r",
      "  3%|▎         | 20/787 [04:46<3:43:33, 17.49s/it]"
     ]
    },
    {
     "name": "stdout",
     "output_type": "stream",
     "text": [
      "elmo_in_smalls[321]\n"
     ]
    },
    {
     "name": "stderr",
     "output_type": "stream",
     "text": [
      "\r",
      "  3%|▎         | 21/787 [04:57<3:21:59, 15.82s/it]"
     ]
    },
    {
     "name": "stdout",
     "output_type": "stream",
     "text": [
      "elmo_in_smalls[322]\n"
     ]
    },
    {
     "name": "stderr",
     "output_type": "stream",
     "text": [
      "\r",
      "  3%|▎         | 22/787 [05:05<2:51:46, 13.47s/it]"
     ]
    },
    {
     "name": "stdout",
     "output_type": "stream",
     "text": [
      "elmo_in_smalls[323]\n"
     ]
    },
    {
     "name": "stderr",
     "output_type": "stream",
     "text": [
      "\r",
      "  3%|▎         | 23/787 [05:17<2:45:21, 12.99s/it]"
     ]
    },
    {
     "name": "stdout",
     "output_type": "stream",
     "text": [
      "elmo_in_smalls[324]\n"
     ]
    },
    {
     "name": "stderr",
     "output_type": "stream",
     "text": [
      "\r",
      "  3%|▎         | 24/787 [05:25<2:23:25, 11.28s/it]"
     ]
    },
    {
     "name": "stdout",
     "output_type": "stream",
     "text": [
      "elmo_in_smalls[325]\n"
     ]
    },
    {
     "name": "stderr",
     "output_type": "stream",
     "text": [
      "\r",
      "  3%|▎         | 25/787 [05:36<2:22:45, 11.24s/it]"
     ]
    },
    {
     "name": "stdout",
     "output_type": "stream",
     "text": [
      "elmo_in_smalls[326]\n"
     ]
    },
    {
     "name": "stderr",
     "output_type": "stream",
     "text": [
      "\r",
      "  3%|▎         | 26/787 [05:45<2:14:28, 10.60s/it]"
     ]
    },
    {
     "name": "stdout",
     "output_type": "stream",
     "text": [
      "elmo_in_smalls[327]\n"
     ]
    },
    {
     "name": "stderr",
     "output_type": "stream",
     "text": [
      "\r",
      "  3%|▎         | 27/787 [05:57<2:18:15, 10.92s/it]"
     ]
    },
    {
     "name": "stdout",
     "output_type": "stream",
     "text": [
      "elmo_in_smalls[328]\n"
     ]
    },
    {
     "name": "stderr",
     "output_type": "stream",
     "text": [
      "\r",
      "  4%|▎         | 28/787 [06:06<2:13:24, 10.55s/it]"
     ]
    },
    {
     "name": "stdout",
     "output_type": "stream",
     "text": [
      "elmo_in_smalls[329]\n"
     ]
    },
    {
     "name": "stderr",
     "output_type": "stream",
     "text": [
      "\r",
      "  4%|▎         | 29/787 [06:16<2:10:40, 10.34s/it]"
     ]
    },
    {
     "name": "stdout",
     "output_type": "stream",
     "text": [
      "elmo_in_smalls[330]\n"
     ]
    },
    {
     "name": "stderr",
     "output_type": "stream",
     "text": [
      "\r",
      "  4%|▍         | 30/787 [06:27<2:11:22, 10.41s/it]"
     ]
    },
    {
     "name": "stdout",
     "output_type": "stream",
     "text": [
      "elmo_in_smalls[331]\n"
     ]
    },
    {
     "name": "stderr",
     "output_type": "stream",
     "text": [
      "\r",
      "  4%|▍         | 31/787 [06:38<2:15:08, 10.73s/it]"
     ]
    },
    {
     "name": "stdout",
     "output_type": "stream",
     "text": [
      "elmo_in_smalls[332]\n"
     ]
    },
    {
     "name": "stderr",
     "output_type": "stream",
     "text": [
      "\r",
      "  4%|▍         | 32/787 [06:51<2:23:35, 11.41s/it]"
     ]
    },
    {
     "name": "stdout",
     "output_type": "stream",
     "text": [
      "elmo_in_smalls[333]\n"
     ]
    },
    {
     "name": "stderr",
     "output_type": "stream",
     "text": [
      "\r",
      "  4%|▍         | 33/787 [07:02<2:19:43, 11.12s/it]"
     ]
    },
    {
     "name": "stdout",
     "output_type": "stream",
     "text": [
      "elmo_in_smalls[334]\n"
     ]
    },
    {
     "name": "stderr",
     "output_type": "stream",
     "text": [
      "\r",
      "  4%|▍         | 34/787 [07:18<2:40:58, 12.83s/it]"
     ]
    },
    {
     "name": "stdout",
     "output_type": "stream",
     "text": [
      "elmo_in_smalls[335]\n"
     ]
    },
    {
     "name": "stderr",
     "output_type": "stream",
     "text": [
      "\r",
      "  4%|▍         | 35/787 [07:33<2:46:54, 13.32s/it]"
     ]
    },
    {
     "name": "stdout",
     "output_type": "stream",
     "text": [
      "elmo_in_smalls[336]\n"
     ]
    },
    {
     "name": "stderr",
     "output_type": "stream",
     "text": [
      "\r",
      "  5%|▍         | 36/787 [07:45<2:42:23, 12.97s/it]"
     ]
    },
    {
     "name": "stdout",
     "output_type": "stream",
     "text": [
      "elmo_in_smalls[337]\n"
     ]
    },
    {
     "name": "stderr",
     "output_type": "stream",
     "text": [
      "\r",
      "  5%|▍         | 37/787 [07:57<2:37:51, 12.63s/it]"
     ]
    },
    {
     "name": "stdout",
     "output_type": "stream",
     "text": [
      "elmo_in_smalls[338]\n"
     ]
    },
    {
     "name": "stderr",
     "output_type": "stream",
     "text": [
      "\r",
      "  5%|▍         | 38/787 [08:12<2:45:45, 13.28s/it]"
     ]
    },
    {
     "name": "stdout",
     "output_type": "stream",
     "text": [
      "elmo_in_smalls[339]\n"
     ]
    },
    {
     "name": "stderr",
     "output_type": "stream",
     "text": [
      "\r",
      "  5%|▍         | 39/787 [08:27<2:51:57, 13.79s/it]"
     ]
    },
    {
     "name": "stdout",
     "output_type": "stream",
     "text": [
      "elmo_in_smalls[340]\n"
     ]
    },
    {
     "name": "stderr",
     "output_type": "stream",
     "text": [
      "\r",
      "  5%|▌         | 40/787 [08:42<2:56:19, 14.16s/it]"
     ]
    },
    {
     "name": "stdout",
     "output_type": "stream",
     "text": [
      "elmo_in_smalls[341]\n"
     ]
    },
    {
     "name": "stderr",
     "output_type": "stream",
     "text": [
      "\r",
      "  5%|▌         | 41/787 [08:57<3:01:02, 14.56s/it]"
     ]
    },
    {
     "name": "stdout",
     "output_type": "stream",
     "text": [
      "elmo_in_smalls[342]\n"
     ]
    },
    {
     "name": "stderr",
     "output_type": "stream",
     "text": [
      "\r",
      "  5%|▌         | 42/787 [09:12<3:01:51, 14.65s/it]"
     ]
    },
    {
     "name": "stdout",
     "output_type": "stream",
     "text": [
      "elmo_in_smalls[343]\n"
     ]
    },
    {
     "name": "stderr",
     "output_type": "stream",
     "text": [
      "\r",
      "  5%|▌         | 43/787 [09:28<3:06:01, 15.00s/it]"
     ]
    },
    {
     "name": "stdout",
     "output_type": "stream",
     "text": [
      "elmo_in_smalls[344]\n"
     ]
    },
    {
     "name": "stderr",
     "output_type": "stream",
     "text": [
      "\r",
      "  6%|▌         | 44/787 [09:41<2:59:31, 14.50s/it]"
     ]
    },
    {
     "name": "stdout",
     "output_type": "stream",
     "text": [
      "elmo_in_smalls[345]\n"
     ]
    },
    {
     "name": "stderr",
     "output_type": "stream",
     "text": [
      "\r",
      "  6%|▌         | 45/787 [10:01<3:18:49, 16.08s/it]"
     ]
    },
    {
     "name": "stdout",
     "output_type": "stream",
     "text": [
      "elmo_in_smalls[346]\n"
     ]
    },
    {
     "name": "stderr",
     "output_type": "stream",
     "text": [
      "\r",
      "  6%|▌         | 46/787 [10:16<3:13:57, 15.71s/it]"
     ]
    },
    {
     "name": "stdout",
     "output_type": "stream",
     "text": [
      "elmo_in_smalls[347]\n"
     ]
    },
    {
     "name": "stderr",
     "output_type": "stream",
     "text": [
      "\r",
      "  6%|▌         | 47/787 [10:34<3:24:22, 16.57s/it]"
     ]
    },
    {
     "name": "stdout",
     "output_type": "stream",
     "text": [
      "elmo_in_smalls[348]\n"
     ]
    },
    {
     "name": "stderr",
     "output_type": "stream",
     "text": [
      "\r",
      "  6%|▌         | 48/787 [10:53<3:33:15, 17.31s/it]"
     ]
    },
    {
     "name": "stdout",
     "output_type": "stream",
     "text": [
      "elmo_in_smalls[349]\n"
     ]
    },
    {
     "name": "stderr",
     "output_type": "stream",
     "text": [
      "\r",
      "  6%|▌         | 49/787 [11:09<3:27:47, 16.89s/it]"
     ]
    },
    {
     "name": "stdout",
     "output_type": "stream",
     "text": [
      "elmo_in_smalls[350]\n"
     ]
    },
    {
     "name": "stderr",
     "output_type": "stream",
     "text": [
      "\r",
      "  6%|▋         | 50/787 [11:24<3:18:54, 16.19s/it]"
     ]
    },
    {
     "name": "stdout",
     "output_type": "stream",
     "text": [
      "elmo_in_smalls[351]\n"
     ]
    },
    {
     "name": "stderr",
     "output_type": "stream",
     "text": [
      "\r",
      "  6%|▋         | 51/787 [12:20<5:44:15, 28.06s/it]"
     ]
    },
    {
     "name": "stdout",
     "output_type": "stream",
     "text": [
      "elmo_in_smalls[352]\n"
     ]
    },
    {
     "name": "stderr",
     "output_type": "stream",
     "text": [
      "\r",
      "  7%|▋         | 52/787 [12:55<6:12:28, 30.41s/it]"
     ]
    },
    {
     "name": "stdout",
     "output_type": "stream",
     "text": [
      "elmo_in_smalls[353]\n"
     ]
    },
    {
     "name": "stderr",
     "output_type": "stream",
     "text": [
      "\r",
      "  7%|▋         | 53/787 [13:14<5:27:35, 26.78s/it]"
     ]
    },
    {
     "name": "stdout",
     "output_type": "stream",
     "text": [
      "elmo_in_smalls[354]\n"
     ]
    },
    {
     "name": "stderr",
     "output_type": "stream",
     "text": [
      "\r",
      "  7%|▋         | 54/787 [13:31<4:52:14, 23.92s/it]"
     ]
    },
    {
     "name": "stdout",
     "output_type": "stream",
     "text": [
      "elmo_in_smalls[355]\n"
     ]
    },
    {
     "name": "stderr",
     "output_type": "stream",
     "text": [
      "\r",
      "  7%|▋         | 55/787 [13:58<5:03:31, 24.88s/it]"
     ]
    },
    {
     "name": "stdout",
     "output_type": "stream",
     "text": [
      "elmo_in_smalls[356]\n"
     ]
    },
    {
     "name": "stderr",
     "output_type": "stream",
     "text": [
      "\r",
      "  7%|▋         | 56/787 [14:16<4:37:15, 22.76s/it]"
     ]
    },
    {
     "name": "stdout",
     "output_type": "stream",
     "text": [
      "elmo_in_smalls[357]\n"
     ]
    },
    {
     "name": "stderr",
     "output_type": "stream",
     "text": [
      "\r",
      "  7%|▋         | 57/787 [14:34<4:21:30, 21.49s/it]"
     ]
    },
    {
     "name": "stdout",
     "output_type": "stream",
     "text": [
      "elmo_in_smalls[358]\n"
     ]
    },
    {
     "name": "stderr",
     "output_type": "stream",
     "text": [
      "\r",
      "  7%|▋         | 58/787 [14:56<4:23:01, 21.65s/it]"
     ]
    },
    {
     "name": "stdout",
     "output_type": "stream",
     "text": [
      "elmo_in_smalls[359]\n"
     ]
    },
    {
     "name": "stderr",
     "output_type": "stream",
     "text": [
      "\r",
      "  7%|▋         | 59/787 [15:34<5:20:45, 26.44s/it]"
     ]
    },
    {
     "name": "stdout",
     "output_type": "stream",
     "text": [
      "elmo_in_smalls[360]\n"
     ]
    },
    {
     "name": "stderr",
     "output_type": "stream",
     "text": [
      "\r",
      "  8%|▊         | 60/787 [15:54<4:57:18, 24.54s/it]"
     ]
    },
    {
     "name": "stdout",
     "output_type": "stream",
     "text": [
      "elmo_in_smalls[361]\n"
     ]
    },
    {
     "name": "stderr",
     "output_type": "stream",
     "text": [
      "\r",
      "  8%|▊         | 61/787 [16:12<4:33:34, 22.61s/it]"
     ]
    },
    {
     "name": "stdout",
     "output_type": "stream",
     "text": [
      "elmo_in_smalls[362]\n"
     ]
    },
    {
     "name": "stderr",
     "output_type": "stream",
     "text": [
      "\r",
      "  8%|▊         | 62/787 [16:32<4:22:06, 21.69s/it]"
     ]
    },
    {
     "name": "stdout",
     "output_type": "stream",
     "text": [
      "elmo_in_smalls[363]\n"
     ]
    },
    {
     "name": "stderr",
     "output_type": "stream",
     "text": [
      "\r",
      "  8%|▊         | 63/787 [16:51<4:13:37, 21.02s/it]"
     ]
    },
    {
     "name": "stdout",
     "output_type": "stream",
     "text": [
      "elmo_in_smalls[364]\n"
     ]
    },
    {
     "name": "stderr",
     "output_type": "stream",
     "text": [
      "\r",
      "  8%|▊         | 64/787 [17:12<4:12:31, 20.96s/it]"
     ]
    },
    {
     "name": "stdout",
     "output_type": "stream",
     "text": [
      "elmo_in_smalls[365]\n"
     ]
    },
    {
     "name": "stderr",
     "output_type": "stream",
     "text": [
      "\r",
      "  8%|▊         | 65/787 [17:31<4:05:43, 20.42s/it]"
     ]
    },
    {
     "name": "stdout",
     "output_type": "stream",
     "text": [
      "elmo_in_smalls[366]\n"
     ]
    },
    {
     "name": "stderr",
     "output_type": "stream",
     "text": [
      "\r",
      "  8%|▊         | 66/787 [17:53<4:11:29, 20.93s/it]"
     ]
    },
    {
     "name": "stdout",
     "output_type": "stream",
     "text": [
      "elmo_in_smalls[367]\n"
     ]
    },
    {
     "name": "stderr",
     "output_type": "stream",
     "text": [
      "\r",
      "  9%|▊         | 67/787 [18:14<4:08:24, 20.70s/it]"
     ]
    },
    {
     "name": "stdout",
     "output_type": "stream",
     "text": [
      "elmo_in_smalls[368]\n"
     ]
    },
    {
     "name": "stderr",
     "output_type": "stream",
     "text": [
      "\r",
      "  9%|▊         | 68/787 [18:36<4:13:55, 21.19s/it]"
     ]
    },
    {
     "name": "stdout",
     "output_type": "stream",
     "text": [
      "elmo_in_smalls[369]\n"
     ]
    },
    {
     "name": "stderr",
     "output_type": "stream",
     "text": [
      "\r",
      "  9%|▉         | 69/787 [19:07<4:48:00, 24.07s/it]"
     ]
    },
    {
     "name": "stdout",
     "output_type": "stream",
     "text": [
      "elmo_in_smalls[370]\n"
     ]
    },
    {
     "name": "stderr",
     "output_type": "stream",
     "text": [
      "\r",
      "  9%|▉         | 70/787 [19:28<4:37:22, 23.21s/it]"
     ]
    },
    {
     "name": "stdout",
     "output_type": "stream",
     "text": [
      "elmo_in_smalls[371]\n"
     ]
    },
    {
     "name": "stderr",
     "output_type": "stream",
     "text": [
      "\r",
      "  9%|▉         | 71/787 [19:48<4:24:55, 22.20s/it]"
     ]
    },
    {
     "name": "stdout",
     "output_type": "stream",
     "text": [
      "elmo_in_smalls[372]\n"
     ]
    },
    {
     "name": "stderr",
     "output_type": "stream",
     "text": [
      "\r",
      "  9%|▉         | 72/787 [20:08<4:19:02, 21.74s/it]"
     ]
    },
    {
     "name": "stdout",
     "output_type": "stream",
     "text": [
      "elmo_in_smalls[373]\n"
     ]
    },
    {
     "name": "stderr",
     "output_type": "stream",
     "text": [
      "\r",
      "  9%|▉         | 73/787 [20:35<4:35:58, 23.19s/it]"
     ]
    },
    {
     "name": "stdout",
     "output_type": "stream",
     "text": [
      "elmo_in_smalls[374]\n"
     ]
    },
    {
     "name": "stderr",
     "output_type": "stream",
     "text": [
      "\r",
      "  9%|▉         | 74/787 [21:02<4:49:12, 24.34s/it]"
     ]
    },
    {
     "name": "stdout",
     "output_type": "stream",
     "text": [
      "elmo_in_smalls[375]\n"
     ]
    },
    {
     "name": "stderr",
     "output_type": "stream",
     "text": [
      "\r",
      " 10%|▉         | 75/787 [21:24<4:39:02, 23.52s/it]"
     ]
    },
    {
     "name": "stdout",
     "output_type": "stream",
     "text": [
      "elmo_in_smalls[376]\n"
     ]
    },
    {
     "name": "stderr",
     "output_type": "stream",
     "text": [
      "\r",
      " 10%|▉         | 76/787 [22:02<5:31:10, 27.95s/it]"
     ]
    },
    {
     "name": "stdout",
     "output_type": "stream",
     "text": [
      "elmo_in_smalls[377]\n"
     ]
    },
    {
     "name": "stderr",
     "output_type": "stream",
     "text": [
      "\r",
      " 10%|▉         | 77/787 [22:42<6:14:54, 31.68s/it]"
     ]
    },
    {
     "name": "stdout",
     "output_type": "stream",
     "text": [
      "elmo_in_smalls[378]\n"
     ]
    },
    {
     "name": "stderr",
     "output_type": "stream",
     "text": [
      "\r",
      " 10%|▉         | 78/787 [23:04<5:39:41, 28.75s/it]"
     ]
    },
    {
     "name": "stdout",
     "output_type": "stream",
     "text": [
      "elmo_in_smalls[379]\n"
     ]
    },
    {
     "name": "stderr",
     "output_type": "stream",
     "text": [
      "\r",
      " 10%|█         | 79/787 [23:33<5:39:52, 28.80s/it]"
     ]
    },
    {
     "name": "stdout",
     "output_type": "stream",
     "text": [
      "elmo_in_smalls[380]\n"
     ]
    },
    {
     "name": "stderr",
     "output_type": "stream",
     "text": [
      "\r",
      " 10%|█         | 80/787 [23:57<5:22:05, 27.34s/it]"
     ]
    },
    {
     "name": "stdout",
     "output_type": "stream",
     "text": [
      "elmo_in_smalls[381]\n"
     ]
    },
    {
     "name": "stderr",
     "output_type": "stream",
     "text": [
      "\r",
      " 10%|█         | 81/787 [24:27<5:30:00, 28.05s/it]"
     ]
    },
    {
     "name": "stdout",
     "output_type": "stream",
     "text": [
      "elmo_in_smalls[382]\n"
     ]
    },
    {
     "name": "stderr",
     "output_type": "stream",
     "text": [
      "\r",
      " 10%|█         | 82/787 [24:50<5:13:33, 26.69s/it]"
     ]
    },
    {
     "name": "stdout",
     "output_type": "stream",
     "text": [
      "elmo_in_smalls[383]\n"
     ]
    },
    {
     "name": "stderr",
     "output_type": "stream",
     "text": [
      "\r",
      " 11%|█         | 83/787 [25:14<5:03:53, 25.90s/it]"
     ]
    },
    {
     "name": "stdout",
     "output_type": "stream",
     "text": [
      "elmo_in_smalls[384]\n"
     ]
    },
    {
     "name": "stderr",
     "output_type": "stream",
     "text": [
      "\r",
      " 11%|█         | 84/787 [25:38<4:54:12, 25.11s/it]"
     ]
    },
    {
     "name": "stdout",
     "output_type": "stream",
     "text": [
      "elmo_in_smalls[385]\n"
     ]
    },
    {
     "name": "stderr",
     "output_type": "stream",
     "text": [
      "\r",
      " 11%|█         | 85/787 [26:11<5:21:39, 27.49s/it]"
     ]
    },
    {
     "name": "stdout",
     "output_type": "stream",
     "text": [
      "elmo_in_smalls[386]\n"
     ]
    },
    {
     "name": "stderr",
     "output_type": "stream",
     "text": [
      "\r",
      " 11%|█         | 86/787 [26:34<5:07:19, 26.30s/it]"
     ]
    },
    {
     "name": "stdout",
     "output_type": "stream",
     "text": [
      "elmo_in_smalls[387]\n"
     ]
    },
    {
     "name": "stderr",
     "output_type": "stream",
     "text": [
      "\r",
      " 11%|█         | 87/787 [27:00<5:04:47, 26.12s/it]"
     ]
    },
    {
     "name": "stdout",
     "output_type": "stream",
     "text": [
      "elmo_in_smalls[388]\n"
     ]
    },
    {
     "name": "stderr",
     "output_type": "stream",
     "text": [
      "\r",
      " 11%|█         | 88/787 [27:26<5:04:00, 26.09s/it]"
     ]
    },
    {
     "name": "stdout",
     "output_type": "stream",
     "text": [
      "elmo_in_smalls[389]\n"
     ]
    },
    {
     "name": "stderr",
     "output_type": "stream",
     "text": [
      "\r",
      " 11%|█▏        | 89/787 [27:50<4:56:03, 25.45s/it]"
     ]
    },
    {
     "name": "stdout",
     "output_type": "stream",
     "text": [
      "elmo_in_smalls[390]\n"
     ]
    },
    {
     "name": "stderr",
     "output_type": "stream",
     "text": [
      "\r",
      " 11%|█▏        | 90/787 [28:26<5:33:59, 28.75s/it]"
     ]
    },
    {
     "name": "stdout",
     "output_type": "stream",
     "text": [
      "elmo_in_smalls[391]\n"
     ]
    },
    {
     "name": "stderr",
     "output_type": "stream",
     "text": [
      "\r",
      " 12%|█▏        | 91/787 [28:52<5:23:03, 27.85s/it]"
     ]
    },
    {
     "name": "stdout",
     "output_type": "stream",
     "text": [
      "elmo_in_smalls[392]\n"
     ]
    },
    {
     "name": "stderr",
     "output_type": "stream",
     "text": [
      "\r",
      " 12%|█▏        | 92/787 [29:18<5:14:57, 27.19s/it]"
     ]
    },
    {
     "name": "stdout",
     "output_type": "stream",
     "text": [
      "elmo_in_smalls[393]\n"
     ]
    },
    {
     "name": "stderr",
     "output_type": "stream",
     "text": [
      "\r",
      " 12%|█▏        | 93/787 [29:43<5:09:30, 26.76s/it]"
     ]
    },
    {
     "name": "stdout",
     "output_type": "stream",
     "text": [
      "elmo_in_smalls[394]\n"
     ]
    },
    {
     "name": "stderr",
     "output_type": "stream",
     "text": [
      "\r",
      " 12%|█▏        | 94/787 [30:11<5:11:12, 26.94s/it]"
     ]
    },
    {
     "name": "stdout",
     "output_type": "stream",
     "text": [
      "elmo_in_smalls[395]\n"
     ]
    },
    {
     "name": "stderr",
     "output_type": "stream",
     "text": [
      "\r",
      " 12%|█▏        | 95/787 [30:39<5:13:24, 27.17s/it]"
     ]
    },
    {
     "name": "stdout",
     "output_type": "stream",
     "text": [
      "elmo_in_smalls[396]\n"
     ]
    },
    {
     "name": "stderr",
     "output_type": "stream",
     "text": [
      "\r",
      " 12%|█▏        | 96/787 [31:04<5:07:18, 26.68s/it]"
     ]
    },
    {
     "name": "stdout",
     "output_type": "stream",
     "text": [
      "elmo_in_smalls[397]\n"
     ]
    },
    {
     "name": "stderr",
     "output_type": "stream",
     "text": [
      "\r",
      " 12%|█▏        | 97/787 [31:31<5:07:45, 26.76s/it]"
     ]
    },
    {
     "name": "stdout",
     "output_type": "stream",
     "text": [
      "elmo_in_smalls[398]\n"
     ]
    },
    {
     "name": "stderr",
     "output_type": "stream",
     "text": [
      "\r",
      " 12%|█▏        | 98/787 [32:13<5:59:47, 31.33s/it]"
     ]
    },
    {
     "name": "stdout",
     "output_type": "stream",
     "text": [
      "elmo_in_smalls[399]\n"
     ]
    },
    {
     "name": "stderr",
     "output_type": "stream",
     "text": [
      "\r",
      " 13%|█▎        | 99/787 [32:41<5:47:21, 30.29s/it]"
     ]
    },
    {
     "name": "stdout",
     "output_type": "stream",
     "text": [
      "elmo_in_smalls[400]\n"
     ]
    },
    {
     "name": "stderr",
     "output_type": "stream",
     "text": [
      "\r",
      " 13%|█▎        | 100/787 [33:11<5:45:58, 30.22s/it]"
     ]
    },
    {
     "name": "stdout",
     "output_type": "stream",
     "text": [
      "elmo_in_smalls[401]\n"
     ]
    },
    {
     "name": "stderr",
     "output_type": "stream",
     "text": [
      "\r",
      " 13%|█▎        | 101/787 [33:42<5:49:06, 30.53s/it]"
     ]
    },
    {
     "name": "stdout",
     "output_type": "stream",
     "text": [
      "elmo_in_smalls[402]\n"
     ]
    }
   ],
   "source": [
    "# for all embeddings\n",
    "\n",
    "resume_embeddings = []\n",
    "\n",
    "\n",
    "for i in tqdm(range(301, len(elmo_in_smalls))):\n",
    "    # save np array of embeddings\n",
    "    if i % 50 == 0:\n",
    "        np_ELMo_embeddings_resumes = np.asarray(resume_embeddings)\n",
    "        np.save('ELMo_embeddings_resumes_301_to_{}'.format(i), np_ELMo_embeddings_resumes) \n",
    "    \n",
    "    print('elmo_in_smalls[{}]'.format(i))\n",
    "    embeddings_3d = elmo(elmo_in_smalls[i], signature=\"default\",as_dict=True)[\"elmo\"]\n",
    "#     print(\"embeddings is type {} and shape {}\".format(type(embeddings), embeddings.shape))\n",
    "    with tf.Session() as session:\n",
    "        session.run([tf.global_variables_initializer(), tf.tables_initializer()])\n",
    "        embeddings_2d = session.run(tf.reduce_mean(embeddings_3d,axis=0))\n",
    "#         print(\"message_embeddings_2d is type {} and shape {}\".format(type(message_embeddings_2d), message_embeddings_2d.shape))\n",
    "        embeddings_1d = session.run(tf.reduce_mean(tf.convert_to_tensor(embeddings_2d), axis = 0, keepdims=True))\n",
    "#         print(\"message_embeddings_1d is type {} and shape {}\".format(type(message_embeddings_1d), message_embeddings_1d.shape))\n",
    "        resume_embeddings.extend(embeddings_1d)\n",
    "    \n",
    "\n",
    "\n",
    "    "
   ]
  },
  {
   "cell_type": "code",
   "execution_count": null,
   "metadata": {},
   "outputs": [],
   "source": []
  },
  {
   "cell_type": "code",
   "execution_count": null,
   "metadata": {},
   "outputs": [],
   "source": [
    "# save elmo in smalls\n",
    "np_elmo_in_smalls = np.asarray(elmo_in_smalls)\n",
    "np.save('ELMo_embeddings_resumes, np_elmo_in_smalls) "
   ]
  },
  {
   "cell_type": "code",
   "execution_count": null,
   "metadata": {},
   "outputs": [],
   "source": [
    "# save np array of embeddings\n",
    "np_ELMo_embeddings_resumes = np.asarray(resume_embeddings)\n",
    "np.save('ELMo_embeddings_resumes_301_{}'.format(len(elmo_in_smalls)', np_ELMo_embeddings_resumes) "
   ]
  },
  {
   "cell_type": "code",
   "execution_count": null,
   "metadata": {},
   "outputs": [],
   "source": [
    "# save elmo_train_new\n",
    "pickle_out = open(\"ELMo_embeddings_resumes.pickle\",\"wb\")\n",
    "pickle.dump(np_ELMo_embeddings_resumes, pickle_out)\n",
    "pickle_out.close()"
   ]
  },
  {
   "cell_type": "code",
   "execution_count": null,
   "metadata": {},
   "outputs": [],
   "source": []
  },
  {
   "cell_type": "code",
   "execution_count": null,
   "metadata": {},
   "outputs": [],
   "source": []
  },
  {
   "cell_type": "code",
   "execution_count": null,
   "metadata": {},
   "outputs": [],
   "source": []
  },
  {
   "cell_type": "markdown",
   "metadata": {},
   "source": [
    "# ========================================"
   ]
  },
  {
   "cell_type": "code",
   "execution_count": null,
   "metadata": {},
   "outputs": [],
   "source": []
  }
 ],
 "metadata": {
  "kernelspec": {
   "display_name": "Python 3",
   "language": "python",
   "name": "python3"
  },
  "language_info": {
   "codemirror_mode": {
    "name": "ipython",
    "version": 3
   },
   "file_extension": ".py",
   "mimetype": "text/x-python",
   "name": "python",
   "nbconvert_exporter": "python",
   "pygments_lexer": "ipython3",
   "version": "3.7.6"
  }
 },
 "nbformat": 4,
 "nbformat_minor": 4
}
