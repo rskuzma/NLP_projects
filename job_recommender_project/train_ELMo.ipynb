{
 "cells": [
  {
   "cell_type": "markdown",
   "metadata": {},
   "source": [
    "https://www.analyticsvidhya.com/blog/2019/03/learn-to-use-elmo-to-extract-features-from-text/"
   ]
  },
  {
   "cell_type": "markdown",
   "metadata": {},
   "source": [
    "#### to load elmo to local disk:\n",
    "#download the model to local so it can be used again and again\n",
    "$ mkdir module/module_elmo2\n",
    "# Download the module, and uncompress it to the destination folder. \n",
    "$ curl -L \"https://tfhub.dev/google/elmo/2?tf-hub-format=compressed\" | tar -zxvC module/module_elmo2"
   ]
  },
  {
   "cell_type": "code",
   "execution_count": null,
   "metadata": {},
   "outputs": [],
   "source": []
  },
  {
   "cell_type": "code",
   "execution_count": 1,
   "metadata": {},
   "outputs": [
    {
     "name": "stdout",
     "output_type": "stream",
     "text": [
      "WARNING:tensorflow:From /home/ec2-user/anaconda3/envs/tensorflow_p36/lib/python3.6/site-packages/tensorflow_core/__init__.py:1467: The name tf.estimator.inputs is deprecated. Please use tf.compat.v1.estimator.inputs instead.\n",
      "\n"
     ]
    }
   ],
   "source": [
    "#data science\n",
    "import pandas as pd\n",
    "import numpy as np\n",
    "import sklearn as skl\n",
    "from sklearn.metrics.pairwise import cosine_similarity\n",
    "import random\n",
    "from matplotlib import pyplot as plt\n",
    "\n",
    "#NLP\n",
    "#import spacy\n",
    "import re\n",
    "\n",
    "import time\n",
    "from tqdm import tqdm  # progress bar\n",
    "\n",
    "# file loading\n",
    "import pickle\n",
    "\n",
    "#deep learning\n",
    "import tensorflow as tf\n",
    "import tensorflow_hub as hub\n"
   ]
  },
  {
   "cell_type": "code",
   "execution_count": 2,
   "metadata": {},
   "outputs": [
    {
     "name": "stdout",
     "output_type": "stream",
     "text": [
      "Num GPUs Available:  1\n"
     ]
    }
   ],
   "source": [
    "# It's a Tesla V100 with a P3, K80 with P2 \n",
    "print(\"Num GPUs Available: \", len(tf.config.experimental.list_physical_devices('GPU')))"
   ]
  },
  {
   "cell_type": "code",
   "execution_count": 3,
   "metadata": {},
   "outputs": [],
   "source": [
    "pd.set_option('display.max_colwidth', 200)"
   ]
  },
  {
   "cell_type": "code",
   "execution_count": null,
   "metadata": {},
   "outputs": [],
   "source": []
  },
  {
   "cell_type": "code",
   "execution_count": 4,
   "metadata": {},
   "outputs": [],
   "source": [
    "# resumes only for now\n",
    "# gives df with list of strings (tokenized) as well as lemmatized list of strings\n",
    "\n",
    "ec2_resumes_path = '/home/ubuntu/NLP_projects/job_recommender_project/data/large_files/lf_cleaned_lemmatized_tokenized_resumes.csv'\n",
    "ec2_pickle_resumes_path = '/home/ec2-user/NLP_projects/job_recommender_project/data/resumes_with_list_of_list.pickle'\n",
    "\n",
    "resumes = pd.read_pickle(ec2_pickle_resumes_path)\n"
   ]
  },
  {
   "cell_type": "code",
   "execution_count": 5,
   "metadata": {},
   "outputs": [
    {
     "data": {
      "text/html": [
       "<div>\n",
       "<style scoped>\n",
       "    .dataframe tbody tr th:only-of-type {\n",
       "        vertical-align: middle;\n",
       "    }\n",
       "\n",
       "    .dataframe tbody tr th {\n",
       "        vertical-align: top;\n",
       "    }\n",
       "\n",
       "    .dataframe thead th {\n",
       "        text-align: right;\n",
       "    }\n",
       "</style>\n",
       "<table border=\"1\" class=\"dataframe\">\n",
       "  <thead>\n",
       "    <tr style=\"text-align: right;\">\n",
       "      <th></th>\n",
       "      <th>ID</th>\n",
       "      <th>dirty_resume</th>\n",
       "      <th>resume</th>\n",
       "      <th>lol</th>\n",
       "    </tr>\n",
       "  </thead>\n",
       "  <tbody>\n",
       "    <tr>\n",
       "      <th>0</th>\n",
       "      <td>1</td>\n",
       "      <td>b'John H. Smith, P.H.R.\\n800-991-5187 | PO Box 1673 | Callahan, FL 32011 | info@greatresumesfast.com\\n\\nApproachable innovator with a passion for Human Resources.\\n\\nSENIOR HUMAN RESOURCES PROFESS...</td>\n",
       "      <td>john h smith phr    po box  callahan fl  infogreatresumesfastcom approachable innovator passion human resources senior human resources professional personable analytical flexible senior hr profess...</td>\n",
       "      <td>[[john, h], [smith, phr], [po, box, callahan, fl, infogreatresumesfastcom, approachable, innovator, passion, human, resources], [senior, human, resources, professional, personable, analytical, fle...</td>\n",
       "    </tr>\n",
       "    <tr>\n",
       "      <th>1</th>\n",
       "      <td>2</td>\n",
       "      <td>b'Name Surname\\nAddress\\nMobile No/Email\\nPERSONAL PROFILE\\nI am a self motivated individual who has a confident approach to people. I communicate\\nwell with all levels of personnel and feel that ...</td>\n",
       "      <td>name surname address mobile noemail personal profile self motivated individual confident approach people communicate well levels personnel feel good listening ability allows resolve problems quick...</td>\n",
       "      <td>[[name, surname, address, mobile, noemail, personal, profile, self, motivated, individual, confident, approach, people], [communicate, well, levels, personnel, feel, good, listening, ability, allo...</td>\n",
       "    </tr>\n",
       "    <tr>\n",
       "      <th>2</th>\n",
       "      <td>3</td>\n",
       "      <td>b'Anthony Brown\\nHR Assistant\\nAREAS OF EXPERTISE\\n\\nPERSONAL SUMMARY\\n\\nHR processes &amp; systems\\n\\nA competent and organised individual who is able to work as part of a team and\\nmanage several pr...</td>\n",
       "      <td>anthony brown hr assistant areas expertise personal summary hr processes systems competent organised individual able work part team manage several priorities one time anthony positive attitude str...</td>\n",
       "      <td>[[anthony, brown, hr, assistant, areas, expertise, personal, summary, hr, processes, systems, competent, organised, individual, able, work, part, team, manage, several, priorities, one, time], [an...</td>\n",
       "    </tr>\n",
       "    <tr>\n",
       "      <th>3</th>\n",
       "      <td>4</td>\n",
       "      <td>b'www.downloadmela.com\\nSatheesh\\nEMAIL ID:\\nCareer Objective\\nTo pursue a growth oriented career with a progressive company that provides a scope to apply my\\nknowledge and skills that would help...</td>\n",
       "      <td>satheesh email id career objective pursue growth oriented career progressive company provides scope apply knowledge skills would help contribute best organization personal skills enjoy strong log...</td>\n",
       "      <td>[[id, career, objective, pursue, growth, oriented, career, progressive, company, provides, scope, apply, knowledge, skills, would, help, contribute, best, organization], [personal, skills, enjoy, ...</td>\n",
       "    </tr>\n",
       "    <tr>\n",
       "      <th>4</th>\n",
       "      <td>5</td>\n",
       "      <td>b\"HUMAN RESOURCES DIRECTOR\\n\\xef\\x82\\xb7Expert in organizational effectiveness.\\n\\xef\\x82\\xb7Recognized consensus-builder among diverse groups.\\n\\xef\\x82\\xb7Innovative problem solver.\\n\\xef\\x82\\xb...</td>\n",
       "      <td>human resources director expert organizational effectiveness recognized consensus builder among diverse groups innovative problem solver strategic partner effective executive coach facilitator man...</td>\n",
       "      <td>[[human, resources, director, expert, organizational, effectiveness], [recognized, consensus, builder, among, diverse, groups], [innovative, problem, solver], [strategic, partner], [effective, exe...</td>\n",
       "    </tr>\n",
       "  </tbody>\n",
       "</table>\n",
       "</div>"
      ],
      "text/plain": [
       "   ID  \\\n",
       "0   1   \n",
       "1   2   \n",
       "2   3   \n",
       "3   4   \n",
       "4   5   \n",
       "\n",
       "                                                                                                                                                                                              dirty_resume  \\\n",
       "0  b'John H. Smith, P.H.R.\\n800-991-5187 | PO Box 1673 | Callahan, FL 32011 | info@greatresumesfast.com\\n\\nApproachable innovator with a passion for Human Resources.\\n\\nSENIOR HUMAN RESOURCES PROFESS...   \n",
       "1  b'Name Surname\\nAddress\\nMobile No/Email\\nPERSONAL PROFILE\\nI am a self motivated individual who has a confident approach to people. I communicate\\nwell with all levels of personnel and feel that ...   \n",
       "2  b'Anthony Brown\\nHR Assistant\\nAREAS OF EXPERTISE\\n\\nPERSONAL SUMMARY\\n\\nHR processes & systems\\n\\nA competent and organised individual who is able to work as part of a team and\\nmanage several pr...   \n",
       "3  b'www.downloadmela.com\\nSatheesh\\nEMAIL ID:\\nCareer Objective\\nTo pursue a growth oriented career with a progressive company that provides a scope to apply my\\nknowledge and skills that would help...   \n",
       "4  b\"HUMAN RESOURCES DIRECTOR\\n\\xef\\x82\\xb7Expert in organizational effectiveness.\\n\\xef\\x82\\xb7Recognized consensus-builder among diverse groups.\\n\\xef\\x82\\xb7Innovative problem solver.\\n\\xef\\x82\\xb...   \n",
       "\n",
       "                                                                                                                                                                                                    resume  \\\n",
       "0  john h smith phr    po box  callahan fl  infogreatresumesfastcom approachable innovator passion human resources senior human resources professional personable analytical flexible senior hr profess...   \n",
       "1  name surname address mobile noemail personal profile self motivated individual confident approach people communicate well levels personnel feel good listening ability allows resolve problems quick...   \n",
       "2  anthony brown hr assistant areas expertise personal summary hr processes systems competent organised individual able work part team manage several priorities one time anthony positive attitude str...   \n",
       "3   satheesh email id career objective pursue growth oriented career progressive company provides scope apply knowledge skills would help contribute best organization personal skills enjoy strong log...   \n",
       "4  human resources director expert organizational effectiveness recognized consensus builder among diverse groups innovative problem solver strategic partner effective executive coach facilitator man...   \n",
       "\n",
       "                                                                                                                                                                                                       lol  \n",
       "0  [[john, h], [smith, phr], [po, box, callahan, fl, infogreatresumesfastcom, approachable, innovator, passion, human, resources], [senior, human, resources, professional, personable, analytical, fle...  \n",
       "1  [[name, surname, address, mobile, noemail, personal, profile, self, motivated, individual, confident, approach, people], [communicate, well, levels, personnel, feel, good, listening, ability, allo...  \n",
       "2  [[anthony, brown, hr, assistant, areas, expertise, personal, summary, hr, processes, systems, competent, organised, individual, able, work, part, team, manage, several, priorities, one, time], [an...  \n",
       "3  [[id, career, objective, pursue, growth, oriented, career, progressive, company, provides, scope, apply, knowledge, skills, would, help, contribute, best, organization], [personal, skills, enjoy, ...  \n",
       "4  [[human, resources, director, expert, organizational, effectiveness], [recognized, consensus, builder, among, diverse, groups], [innovative, problem, solver], [strategic, partner], [effective, exe...  "
      ]
     },
     "execution_count": 5,
     "metadata": {},
     "output_type": "execute_result"
    }
   ],
   "source": [
    "resumes.head()"
   ]
  },
  {
   "cell_type": "code",
   "execution_count": 6,
   "metadata": {},
   "outputs": [
    {
     "data": {
      "text/plain": [
       "str"
      ]
     },
     "execution_count": 6,
     "metadata": {},
     "output_type": "execute_result"
    }
   ],
   "source": [
    "type(resumes['lol'][0][0][0])"
   ]
  },
  {
   "cell_type": "code",
   "execution_count": 7,
   "metadata": {},
   "outputs": [],
   "source": [
    "resumes['los'] = resumes['lol']"
   ]
  },
  {
   "cell_type": "code",
   "execution_count": 8,
   "metadata": {},
   "outputs": [
    {
     "data": {
      "text/plain": [
       "35"
      ]
     },
     "execution_count": 8,
     "metadata": {},
     "output_type": "execute_result"
    }
   ],
   "source": [
    "len(resumes['los'][0])"
   ]
  },
  {
   "cell_type": "code",
   "execution_count": 9,
   "metadata": {},
   "outputs": [],
   "source": [
    "for i in range (0, len(resumes['los'])):\n",
    "    for j in range (0, len(resumes['los'][i])):\n",
    "        resumes['los'][i][j] = ' '.join(resumes['los'][i][j])"
   ]
  },
  {
   "cell_type": "code",
   "execution_count": 10,
   "metadata": {},
   "outputs": [
    {
     "data": {
      "text/plain": [
       "'senior human resources professional personable analytical flexible senior hr professional multifaceted expertise'"
      ]
     },
     "execution_count": 10,
     "metadata": {},
     "output_type": "execute_result"
    }
   ],
   "source": [
    "resumes['los'][0][3]"
   ]
  },
  {
   "cell_type": "code",
   "execution_count": 11,
   "metadata": {},
   "outputs": [],
   "source": [
    "elmo_in = resumes['los']\n"
   ]
  },
  {
   "cell_type": "code",
   "execution_count": null,
   "metadata": {},
   "outputs": [],
   "source": []
  },
  {
   "cell_type": "code",
   "execution_count": 12,
   "metadata": {},
   "outputs": [],
   "source": [
    "# # the lenghts of each resume and resume ID for reference\n",
    "\n",
    "# for x in range(len(elmo_in)):\n",
    "#     print(x, ':  ', len(elmo_in[x]))\n",
    "\n",
    "#     #elmo_in[28] has 212 sentences\n",
    "#     #\n",
    "#     #elmo_in[34] has 945 sentences\n",
    "#     #elmo_in[75] has 3 sentences"
   ]
  },
  {
   "cell_type": "code",
   "execution_count": null,
   "metadata": {},
   "outputs": [],
   "source": []
  },
  {
   "cell_type": "code",
   "execution_count": 13,
   "metadata": {},
   "outputs": [],
   "source": [
    "# let's examine resume length in sentences\n",
    "\n",
    "\n",
    "lengths = []\n",
    "for i in range(0, len(elmo_in)):\n",
    "    lengths.extend([len(elmo_in[i])])\n",
    "\n",
    "#lengths"
   ]
  },
  {
   "cell_type": "code",
   "execution_count": null,
   "metadata": {},
   "outputs": [],
   "source": []
  },
  {
   "cell_type": "code",
   "execution_count": 14,
   "metadata": {},
   "outputs": [
    {
     "data": {
      "image/png": "[encoded data removed]",
      "text/plain": [
       "<Figure size 432x288 with 1 Axes>"
      ]
     },
     "metadata": {},
     "output_type": "display_data"
    }
   ],
   "source": [
    "# let's look at distributions of resume length\n",
    "\n",
    "plt.hist(lengths, bins=range(0, 1000, 10))\n",
    "\n",
    "plt.show()\n"
   ]
  },
  {
   "cell_type": "code",
   "execution_count": 15,
   "metadata": {},
   "outputs": [
    {
     "data": {
      "image/png": "[encoded data removed]",
      "text/plain": [
       "<Figure size 432x288 with 1 Axes>"
      ]
     },
     "metadata": {},
     "output_type": "display_data"
    }
   ],
   "source": [
    "plt.hist(lengths, bins=range(0, 200, 5))\n",
    "\n",
    "plt.show()"
   ]
  },
  {
   "cell_type": "code",
   "execution_count": 16,
   "metadata": {},
   "outputs": [
    {
     "name": "stdout",
     "output_type": "stream",
     "text": [
      "example of a short resume:\n",
      "resume number 244\n",
      "resume length: 9 sentences\n",
      "['carmen morant arbor court wheatland wy tel e mail carmenresumesamplesinfo objective experienced assistant manager looking position reputable organization', 'summary qualifications vast working experience computers windows support profound knowledge project management proficient microsoft office familiarity call center related applications ability handle multi tasks ability communicate effectively experience assistant manager present veredus corporation durham nc recommended implemented approved lanwan policies standards', 'supported office personnel corporate applications', 'created executed proper backup disaster recovery procedures', 'managed within regionally approved budget', 'maintained baseline security standard policies', 'provided solution costing rfprfq submissions system upgrades', 'educational background bachelors degree computer science mills college oakland ca gpa', 'scale']\n"
     ]
    }
   ],
   "source": [
    "print(\"example of a short resume:\")\n",
    "print(\"resume number 244\")\n",
    "print(\"resume length: {} sentences\".format(len(elmo_in[244])))\n",
    "print(elmo_in[244])"
   ]
  },
  {
   "cell_type": "code",
   "execution_count": 17,
   "metadata": {},
   "outputs": [
    {
     "name": "stdout",
     "output_type": "stream",
     "text": [
      "example of a medium resume:\n",
      "resume number 202\n",
      "resume length: 25 sentences\n",
      "['gayle laakmann apple lane philadelphia pa gaylecareercupcom education wharton school university pennsylvania philadelphia pa master business administration candidate major marketing entrepreneurship wharton ventures early stage vc fund principal one eight students selected applicants join wv sources deals performs due diligence analyzes tech healthcare investments deals k million', 'chair wharton yearbook helped launch whartons yearbook publish months', 'wharton venture capital competition finalist', 'elected social chair cohort students', 'university pennsylvania philadelphia pa master science engineering computer information science bachelor science engineering major computer science engineering minor mathematics created independently taught computer science course first undergraduate earned permission so', 'experience careercupcom seattle wa founder ceo present founded careercup help candidates prepare technical interviews online forum book video coaching', 'built company xk revenue yk annual profit', 'negotiated partnerships websites glassdoorcom softwareinterviewcom technical interviewcom', 'seattle anti freeze seattle wa founder co ceo present founded saf organize social events young professionals grew xkyear revenue ykyear profit', 'landed article front page seattle pis lifestyle section within months company launch', 'keenscreen seattle wa vice president engineering rd led architecture online advertising product enabling company ship product previously estimated time', 'prepared ceo projected cash flow statements three years cut expected costs', 'hired managed remote testing team design team assistant', 'google kirkland wa software engineer led successful integration google talk music features partner team helped redesign product better usability', 'designed built google docs feature requiring collaboration three internal teams four outside companies', 'directed recruiting efforts university pennsylvania recruiting candidates earning award top', 'apple computer software engineer intern designed new approach searching ichat files enabling rapid searching backwards compatibility', 'microsoft corporation software design engineer intern implemented features developer products millions users estimated time', 'cupertino ca summer redmond wa summers additional information author google resume prepare career land job apple microsoft google top tech company published john wiley sons inc', 'march', 'author cracking coding interview wrote book prepare master programming interviews', 'available amazoncom barnesandnoblecom', 'isbn', 'instructor university washington taught two computer science courses earning rating', '']\n"
     ]
    }
   ],
   "source": [
    "print(\"example of a medium resume:\")\n",
    "print(\"resume number 202\")\n",
    "print(\"resume length: {} sentences\".format(len(elmo_in[202])))\n",
    "print(elmo_in[202])"
   ]
  },
  {
   "cell_type": "code",
   "execution_count": 18,
   "metadata": {},
   "outputs": [
    {
     "name": "stdout",
     "output_type": "stream",
     "text": [
      "example of a long resume:\n",
      "resume number 28\n",
      "resume length: 212 sentences\n",
      "['write professional resume xcxcresume tips following tips suggestions consider writing sending resume prospective employers use white light colored paper standard size xcxbd x inches', 'many office supply stores sell resume paper', 'sure include cover letter mailed emailed resumes', 'email resume cover letter create short introduction use email body', 'resume easy read crisp consistent format', 'always keep resume date many companies use applicant tracking systems ats scan resumes key words themes match job description', 'words identify skills company looking fill specific job postings', 'however due use software specific ways resume formatted scan properly companys system', 'use template invisible text boxes special graphics color shading', 'always use blank microsoft word document create text version resume online submissions', 'always submit resume pdf format save creative versions resume hand employer person', 'use standard non decorative fonts black ink only', 'font sizes pt name pt body resume', 'margins equally set', 'inch sides', 'avoid folding stapling resume', 'resume one page create header andor footer name contact information page number', 'key words describe skills using nouns action verbs important resume', 'companies usually indicate key skills looking job posting', 'use synonyms resume use word attorney also use word lawyer', 'use personal pronouns simply begin statements strong action verbs describe did', 'key words experience knowledge honest exaggerate skills', 'always proofread resume send xcobjectives objective statement one two line statement career job search goal', 'used place longer summary likely candidate little experience related target position', 'objective specific type position field youre applying focus contribute position company want gain experience', 'note following samples reference purposes copy', 'management seeking entry level management position responsibilities including problem solving planning organizing managing budgets', 'admin administrative position area rehabilitation geriatric healthcare utilizing knowledge clinical community patient services', 'teaching position elementary school teacher utilize strong teaching abilities create nurturing motivational stimulating learning environment help children achieve potential', 'criminal justice seeking full time position field criminal justice education initiative succeed desire serve value administering safeguarding criminal judicial processes', 'tech support position utilizing training hands experience mis help desk services technical support customer service', 'accounting seeking entry level position staff accountant utilizing outstanding analytical accounting leadership skills', 'xcsummaries summary takes place objective statement candidate relevant experience field applying', 'summary longer objective highlights desired position relevant qualifications', 'note following samples reference purposes copy', 'samples based examples presented modernize resumes cover letters wendy enelow louise kursmark resume writing academy career thought leaders consortium', 'modern style health social service manager mental health program coordinator xexx social worker case manager bilingual english spanish healthcare leader delivering top notch health social service outreach rural urban communities since forensic science technician passion science discovery bs biology criminology experience collecting identifying classifying analyzing physical evidence classroom projects criminal investigation internship study abroad', 'programmer analyst software developer analytical thinker years experience healthcare pharmaceutical industry', 'technical expertise includes command interpreters xexxa mysql software xexxa iea software emerald xexxa microsoft access microsoft visual basic xexxa c xexxa python xexxa html xexxa javascript accounting finance taxation audit xefxxa financial planning investment intuit quickbooks xefxxa erp software xefxxa oracle peoplesoft xefxxa ms excel xefxxa hr block tax software traditional style outgoing articulate excellent people skills', 'frequently commended communication interaction skills customers colleagues', 'proven ability learn retain apply new information quickly solid academic employment achievements', 'leadership abilities', 'consistently gained increased responsibility employment history academic pursuit', 'sound judgment solid decision making skills', 'detail oriented high energy chemical engineering graduate keen problem solving analytical skills evidenced ability provide analysis recommendations improve plant operations', 'strong interpersonal planning organizational skills demonstrated chemical engineering internships', 'contribute independently part team coordinate manage products ranging floor layout designs thermodynamic calculations reproduction obsolete parts', 'excellent performance records personal reviews three previous co op positions', 'xcrelevant courses relevant courses section used resume need demonstrate knowledge industry little relevant work experience', 'choose impressive courses try avoid listing entry level ones', 'section best paired academic projects section', 'together sections excellent way utilize degree job goal', 'format section simply list classes using multiple columns', 'course numbers descriptions grades necessary', 'note following samples reference purposes copy', 'two column sample relevant courses financial accounting calculus macroeconomics management accounting business finance organizational development three column sample relevant courses digital circuits hardware modeling vlsi design information security advanced systems numerical analysis digital logic computer graphics automata theory xcacademic projects academic projects used demonstrate knowledge area industry little experience', 'anything done class except tests presented project', 'examples include presentations papers group work case studies research', 'academic projects written active voice using strongest action verbs possible', 'suggested format include title keep overview two three lines providing enough information prospective employer ask questions', 'project depth present two three lines use two three bulleted statements instead paragraph format', 'note following samples reference purposes copy', 'software engineering group project designed library catalog web system using tier client server model', 'presented project plan software requirement specification non functional specification detailed case analysis technical specification test plan', 'java programming project computed united states golf association handicap index number golf players designing simple install easy use application', 'created user friendly interface input players performances display handicap', 'comparison accounting systems researched compared accounting systems two international companies determine long term strategic direction make financial recommendations improving revenue', 'investment management managed investment portfolio stock trak simulation', 'determined successful investment strategies tested theories researched various markets', 'psychology research project investigated psychophysiology schema depression young adolescents', 'conducted physiological measurement clinical diagnostic interviewing determine patterns behavior', 'd graphic design project created d model skeletal infrastructure story building intricate detail using maya software', 'ensured measurement layout accuracy careful architectural research', 'xcresultaccomplishment statements result accomplishment statements used describing previous experience show employer written proof results achievements successes', 'demonstrate unique add value potential position citing specific examples', 'simply listing duties responsibilities job description enough focus actually efforts impacted position project organization', 'help get mindset writing result accomplishment statements ask questions purpose work work relevant organization goals contributing value benefit add go beyond basic job duties compared others position stand work save timemoney increase customer satisfaction designimprove process policy etc achieve less complete something ahead schedulebudget receive promotion andor recognition employment consistently maintain hit personal company goals quotas note following samples reference purposes copy', 'develop result accomplishment statements using several methods described soar statement action action verb occurrence action often action occurredtook place daily weekly annually etc', 'amount action much many m etc', 'result action resultoutcome efforts increased decreased designed saved implemented etc', 'statement managed technical crew occurrence managed technical crew daily basis amount managed technical crew people daily basis result managed technical crew people daily basis increased production quarters row parcar problemchallenge problemchallengeopportunity action action taken solve problem result result outcome efforts star situationtask situation task hand action action taken result result action taken additional resultaccomplishment statement examples selected freshman orientation leader acclimated new students college environment guided tours campus presentations day period', 'led member team project collected new hire data employers dallas fort worth metroplex', 'redesigned company accounting payroll systems implementing new electronic reporting system decreased turnaround time reimbursements', 'trained new insurance agents month time frame legal ethical regulatory aspects insurance securities sales', 'innovated blood drive volunteer system increased student faculty participation', 'recognized promoted assistant sales manager within year consistent customer service oriented attitude product knowledge leadership capabilities', 'xctransferable skills obtained many skills throughout life working student participating extracurricular activities even personal experiences contributed skill set', 'skills apply many different jobs areas called transferable skills', 'especially handy use relevant work experience changing career paths', 'incorporating work experience section help showcase applicable skills offer employer', 'remember simply listing skills enough', 'must include used skills order prove possess show relevant applicable employer', 'list transferable skills help get started', 'communication speaking effectively listening attentively writing concisely editing providing appropriate feedback perceiving nonverbal messages facilitating group discussion expressing ideas negotiating persuading speaking foreign language reporting information describing feelings research planning creating ideas setting goals forecasting analyzing extracting information identifying resources developing strategies predicting outcomes gathering information synthesizing data solving problems defining needs human relations developing rapport sensitive counseling asserting perceiving feelings situations providing support others delegating respect conveying feelings representing others cooperating motivating listening organization management leadership initiating new ideas decision making others managing groups delegating responsibility managing conflict selling ideas products coaching handling details coordinating tasks promoting change counseling teaching work survival punctual meeting goals cooperating organizing attending detail enforcing policies making decisions enlisting help setting meeting deadlines implementing decisions accepting responsibility managing time xctransferable skills samples examples use transferable skills improve basic job descriptions prove employer possess relevant job related skills', 'remember focus results accomplishments rather simply listing duties responsibilities', 'note following samples reference purposes copy', 'server provided customer service customers', 'gained maintained clientele regular customers reputation excellent server', 'sold desserts appetizers customers', 'effectively utilized marketing strategies upsell items become top seller section', 'front desk worker helped events', 'recruited director two consecutive years organize promote school wide participation departments annual program', 'interacted customers', 'interacted customers speaking clearly ensure proper communication policies', 'sales associate responsible opening closing store keyholder', 'fast track promotion sales associate keyholder exceptional communication skills devotion promoting stores brand', 'sold shoes purses accessories', 'exceeded daily sales goals regularly serving customers day high customer satisfaction rating', 'camp counselor worked summers girl scout camp', 'supervised girl scout camps area developing study skills fostering creativity encouraging appreciation outdoors', 'taught valuable skills', 'worked upper management teach risk youth leadership teamwork skills', 'xcaction verbs describing current job project use verbs describing past job project make sure change verbs past tense endings', 'bolded words especially good describing accomplishments', 'management leadership administer analyze appoint delegate develop direct generate handle hire lead manage mediate outline oversee plan resolve review schedule communication address arbitrate correspond define incorporate interact persuade present speak transcribe organization approve arrange distribute execute operate order retrieve schedule assign eliminate improve merge preside strengthen arrange develop interpret promote translate categorize file organize screen author direct lecture propose verbalize catalog generate outline specify attain enhance incorporate moderate prioritize supervise chair ensure increase motivate produce support authorize draft market publicize write collaborate edit mediate reconcile classify implement prepare systematize consolidate establish initiate negotiate recommend transition collect incorporate process standardize contract evaluate institute organize recruit unify communicate enlist moderate recruit compile inspect purchase tabulate research clarify collect critique diagnose evaluate examine extract interview investigate organize review summarize survey coordinate execute interview originate reorganize compose formulate motivate report condense maintain record update convince influence negotiate resolve define monitor report validate identify inspect interpret technical assemble build calculate compute design devise engineer fabricate maintain operate overhaul program remodel repair solve train troubleshoot upgrade financial administer allocate analyze appraise audit balance budget calculate compute develop forecast manage market plan project research reconcile report target helping teamwork advocate aid assess clarify coach collaborate contribute counsel demonstrate diagnose educate ensure expedite facilitate familiarize guide mediate moderate participate refer represent resolve support volunteer unite creative act compose conceptualize create customize design develop direct establish fashion found illustrate initiate institute integrate introduce invent market originate perform plan promote propose revitalize shape transform xcadditional verbs teaching accomplish achieve adapt advance complete conduct consult deliver encourage expand explain focus install instruct involve launch provide publish receive reduce select serve set goals solidify test travel tutor utilize advise discover group network restore sponsor validate articulate distinguish guide nominate restructure stimulate venture assist diversify influence observe reverse streamline verify additional verbs engineering computer science abstract acquire add advertise answer anticipate assess audit augment bolster buy brief charter check combine compare compile conceive convert cooperate copy correlate cultivate deal detect determine discriminate dispatch display dissect drive earn empathize enforce enlighten enlist experiment explore express finance fix follow give govern help imagine improvise inaugurate listen keep lay learn level lift maintain manage manipulate map master maximize meet minimize model modify narrate offer plant practice predict protect prove query rank rationalize read reason relate rely scan scheme sell solicit specialize spread supervise sustain symbolize synthesize talk theorize visualize commend enable inform obtain revise study work apply bring conserve debate document estimate foster index locate measure overcome question respond strategize trace compete encounter innovate participate reward teach appraise care construct debug draw exceed gain indicate log memorize perceive raise revamp stress transmit ascertain charge contract decide drive excel gather judge make mentor perfect run save succeed verify active adjectives adjectives perfect job search document need describe accomplishments', 'remember resume', 'e active attentive determined enterprising adaptable bright diligent enthusiastic adaptive committed diplomatic exceptional adept aggressive altruistic analytical ambitious assertive competent conscientious consistent creative dedicated dependable disciplined discreet dynamic effective efficient energetic experienced f p fair faithful familiar firm generous honest independent innovative keen logical loyal mature methodical motivated objective organized outgoing passionate persistent pleasant positive practical productive professional r z receptive reliable resilient resourceful respectful quick witted self confident self motivated self reliant self starter sensitive sharp sincere skilled skillful strong studious successful tactful team player tenacious trustworthy understanding well organized xcreference page references separate document resume', 'best ask permission listing someone reference', 'receive permission provide copy resume reference refer prospective employer calls', 'list references use font format margins name contact information reference document used resume present uniform package', 'possible references include former managerssupervisors colleagues important customers business associates professors compile following information prospects name positioncompany town state zip phone email sample jane doe deer forest street plano tx janedoeemailutdcom reference list artemis fowl entrepreneur tara ireland fowlisfairaaaeee prof', 'severus snape professor potions dark arts hogwarts school witchcraft wizardry london england h gs snapeaaaeee james sunderland employee lakeview hotel silent hill tx pyramidheadaaaeee roland deschain gunslinger dark tower dallas tx seekingsusanaaaeee xcresume samples attention following resumes reference purposes copying word word form academic dishonesty', 'imperative resume information reflect skills abilities experience', 'strongly recommended templates boilerplate wording avoided create strong effective resume', 'provide false information copy wording sources', 'xcsample best utilized distinguish relevant non relevant work experience sample based resume best resumes college students new grads louise m', 'kursmark', 'raphael giovanni midwich ln', 'xexxa fremont ne xexxa xexxa giovanniemailcom social studies teacher grades teaching training experience schools business', 'competent results oriented instructor able motivate students differing abilities achieve true potential', 'xefxx certified teach history political science geography economics sociology psychology xefxx strengths integrated curriculum multicultural service learning special needs students xefxx classroom media powerpoint internet research education honors bachelor arts education social science field endorsement university nebraska lincoln ne deans list gpa', 'may teaching experience student teacher grades xexxa dunwich public schools dunwich ne xefxx taught world history american history sociology students', 'xefxx instructed students research political parties develop platforms debate ideas', 'student practicum grades xexxa alchemilla middle school fremont ne master level tutor undergraduates xexxa university nebraska lincoln ne student mentor grade xexxa aperture science middle school fremont ne xefxx created taught unit louisiana purchase students', 'xefxx increased awareness economically disadvantaged persons planning implementation service learning project', 'xefxx certified international college reading learning association', 'xefxx tutored students history political science sociology geography', 'xefxx trained several new tutors workshops implemented new learning programs', 'xefxx tutored student adhd english math science history', 'xefxx implemented creative learning techniques resulted student passing exams', 'computer language skills ms office internet research windowsmac proficient german additional work experience shift managercrew member xexxa flet woods eatery fremont ne present xefxx managed five employees including hiring training scheduling', 'xefxx balanced daily receipts deposited cash bank', 'discovered fixed mechanical error resulting savings', 'xcsample best utilized display relevant experience sample based resume best resumes college students new grads louise m', 'kursmark', 'talia ross massachusetts', 'taliaemailcom profile detail oriented high energy chemical engineering graduate keen problem solving analytical skills evidenced ability provide analysis recommendations improve plant operations', 'strong interpersonal planning organizational skills demonstrated chemical engineering internships', 'contribute independently part team coordinate manage products ranging floor layout designs thermodynamic calculations reproduction obsolete parts', 'excellent performance records personal reviews three previous co op positions', 'education bachelor science chemical engineering minor psychology miskatonic university arkham massachusetts gpa', 'december intern experience engineering co op herbert west biotechnology arkham massachusetts maintenance engineering department january may researched specifications large batch mixer capital project collaborated across business functions develop engineering operating requirements startup installation', 'facilitated meetings approval design assembly new polyfilm applicator', 'performed troubleshooting necessary field changes', 'collaborated team members reengineer bulk powder flow hopper material improving speed production process', 'maintenance engineering department august december gathered calculated daily loadings cooling tower water chiller ensure adequate amounts current usages', 'designed backup system emergency situations', 'developed layout designs plant utilities room house installation new vacuum system made improvements existing system', 'compiled information causes chemical tote pump failures developed solutions reducing breakdown frequency', 'production department may august redesigned plant pigment room layout accommodate new scales equipment', 'worked extensively updating new plant systems pids built drawings', 'modified pump controls meet operating procedures required osha', 'technical skills tools chemcad xexxa c xexxa engineers aide sinet xexxa thermal analysis systems energy analyst catalytic reactors xexxa plate filter press xexxa agitatorsmixers xexxa vial handling systems activities leadership miskatonic university chapter habitat humanity xexxa leadershape institute xcsample best utilized highlight academic achievements scholarshipaward applications sample based resume best resumes college students new grads louise m', 'kursmark', 'sten r', 'stewart fusrodah blvd', 'apt', 'fairfield ct', 'stenyahoocom summary accomplished well rounded college professional seeking summer fellowship government public policy', 'enthusiastic energetic contributor student government mentoring programs strengths including leadership problem solving cross cultural communications education honors bs', 'government public policy fairfield university fairfield ct', 'gpa', 'recipient aramark fellowship spring recipient academic excellence scholarship selected collegium v fairfield universitys honors program may relevant coursework us', 'foreign relations moot court honors class government political communication political policy process procedures leadershiporganizational activities chair academic affairs committee student government association present instrumental various projects including surveying students persuading administration implement new foreign language curriculum', 'currently involved initiatives advanced placement credit selected classes establishing campus radio station', 'senator executive committee student government association elected senator two consecutive terms', 'collaborated president vice president senate chairs establish effective processesprocedures within committee partnering campus organizations', 'orientation team member new students program completed preparatory class included leadership skills training', 'participated coordination orientation programs facilitate transition freshmen transfer graduate students university well freshmen camp emerging leadership program', 'served mentor students assisted transitionacademic issues', 'fellowship special assistant united nations information centre washington dc spring awarded aramark fellowship fairfield university', 'produced reports congressional hearings conferences lectures relating united nations activities', 'researched non profit organizations applying ngo status un prepared information updates un conference sustainable finance', 'work experience cashier whole foods fairfield ct xcsample best utilized highlight academic projectscourses littleno work experience merrill woodward mirrorlane circle richardson tx merrillgmailcom objective obtain internship software engineering preferably object oriented development utilizing excellent problem solving critical thinking communication skills', 'education bs computer science', 'gpa', 'university texas dallas richardson tx expected december business', 'gpa', 'collin college mckinney tx may computer skills languages c c assembly language matlab simulink operating systems unix solaris ms dos windows versions packages ms office html', 'hardware vhdl spice relevant coursework signals systems probability statistics digital circuits systems control communications systems electromagnetic engineering digital signal processing microwave circuits systems academic projects software engineering group project designed library catalog web system using tier client server model', 'presented project plan software requirement specification non functional specification detailed case analysis technical specification test plan', 'java programming project computed united states golf association handicap index number golf players designing simple toinstall easy use application', 'created user friendly interface input players performances display handicap', 'activities member ieee ut dallas member emerging leaders program ut dallas visa status availability f available spring fall present xcsample best utilized applying campus positions susan b', 'green robin ln', 'richardson tx sbgutdallasedu objective obtain part time campus position utilizing outstanding customer service organizational leadership skills', 'education bs computer science university texas dallas richardson tx expected may work experience customer service representative may present kohls department stores richardson tx provide efficient customer service accurately manage register transactions balance reconcile daily cash receipts transactions assist training new employees showing necessary procedures company technical language skills familiar microsoft word excel access experience multi line phone systems proficient spanish community involvement volunteer present habitat humanity participate various builds throughout dfw area sell donated materials habitats restore support construction homes activities president ut dallas emerging leaders program present member ieee present secretary crush crew xcsample best utilized changing careers gaps work history sample based resume resume magic susan britton whitcomb grace colterman riversong drive selton alabama gracegmailcom customer service manager communications xefxxa sales xefxxa administration bilingual english spanish professional years experience training program management customer relations supervision', 'professional experience communications public relations advertising training staff development xefxxa degree public relationsjournalism completed comprehensive training public relations including advanced coursework mass communications newswriting editing advertising media graphic arts', 'xefxxa writingverbal skills excellent communication skills effective customer communications proposals correspondence flyers newsletters internal communications public speaking', 'xefxxa staff development successfully coordinated implemented monthly training programs assessed learning needs created curriculum presented instruction secured nationally recognized guest speakers', 'xefxxa background educator able provide client centered interactive training sessions emphasizing practical applications customer education andor staff development', 'sales presentations negotiations customer relations event planning fund raising xefxxa persuasive communicator made formal presentations boards decision makers sold new program ideas secured approval funding', 'demonstrated ability sell varied products floater upscale retailer generated daily sales equal experienced sales associates', 'xefxxa customer relations selected management liaison troubleshooter resolve concerns coworkers external customers vendors', 'xefxxa event planning organized well received special events work community volunteer capacities', 'planned events', 'initiated fund raising projects offset reduction state funding', 'administration program management planning development budgeting supervision xefxxa management held direct accountability planning staffing facilities management coordination education program enrollees instructors', 'hired placed evaluated certified instructors', 'xefxxa program development created successful programs business school partnerships volunteerism community outreach concept development implementation multiple sites', 'xefxxa planning served cross functional team conducted strategic planning developed budgets excess determined programming ensured compliance school site serving students', 'employment history education site administrator alton unified school district teacher dunder mifflin union school district bachelor arts public relationsjournalism university alabama']\n"
     ]
    }
   ],
   "source": [
    "print(\"example of a long resume:\")\n",
    "print(\"resume number 28\")\n",
    "print(\"resume length: {} sentences\".format(len(elmo_in[28])))\n",
    "print(elmo_in[28])"
   ]
  },
  {
   "cell_type": "code",
   "execution_count": 19,
   "metadata": {},
   "outputs": [
    {
     "name": "stdout",
     "output_type": "stream",
     "text": [
      "min: 1\n",
      "max: 1250\n",
      "median: 20.0\n",
      "mean: 44.66858080393765\n",
      "stdev: 95.13732618693363\n"
     ]
    }
   ],
   "source": [
    "print('min: {}'.format(np.amin(lengths)))\n",
    "print('max: {}'.format(np.amax(lengths)))\n",
    "print('median: {}'.format(np.median(lengths)))\n",
    "print('mean: {}'.format(np.mean(lengths)))\n",
    "print('stdev: {}'.format(np.std(lengths)))\n"
   ]
  },
  {
   "cell_type": "code",
   "execution_count": 20,
   "metadata": {},
   "outputs": [],
   "source": [
    "lengths_copy = lengths.copy()\n"
   ]
  },
  {
   "cell_type": "code",
   "execution_count": 21,
   "metadata": {},
   "outputs": [],
   "source": [
    "elmo_in_smalls = elmo_in.copy()"
   ]
  },
  {
   "cell_type": "code",
   "execution_count": 22,
   "metadata": {},
   "outputs": [],
   "source": [
    "elmo_in_smalls = elmo_in_smalls.tolist()"
   ]
  },
  {
   "cell_type": "code",
   "execution_count": 23,
   "metadata": {},
   "outputs": [
    {
     "data": {
      "text/plain": [
       "list"
      ]
     },
     "execution_count": 23,
     "metadata": {},
     "output_type": "execute_result"
    }
   ],
   "source": [
    "type(elmo_in_smalls)"
   ]
  },
  {
   "cell_type": "code",
   "execution_count": 24,
   "metadata": {},
   "outputs": [],
   "source": [
    "for i in elmo_in_smalls:\n",
    "    if len(i) > 100:\n",
    "        elmo_in_smalls.remove(i)\n",
    "    if len(i) <2:\n",
    "        elmo_in_smalls.remove(i)\n",
    "\n",
    "#elmo_in_smalls"
   ]
  },
  {
   "cell_type": "code",
   "execution_count": 25,
   "metadata": {},
   "outputs": [
    {
     "name": "stdout",
     "output_type": "stream",
     "text": [
      "[0]  ['john h', 'smith phr', 'po box callahan fl infogreatresumesfastcom approachable innovator passion human resources', 'senior human resources professional personable analytical flexible senior hr professional multifaceted expertise', 'seasoned benefits administrator extensive experience working highly paid professionals client relationship based settings', 'dynamic team leader capable analyzing alternatives identifying tough choices communicating total value benefit compensation packages senior level executives employees', 'core competencies benefits administration customer service cost control recruiting acquisition management compliance reporting retention professional services domestic international benefits collaboration adaptability change management defined contribution plans auditing negotiation corporate hr policies full lifecycle training k form confidential files eeo aap fmla std ltd h b visa vets eap processing payroll hr technology hris data management auditing ultipro back office ultipro web connect deltek costpoint deltek gcs premiere cognos adp professional experience human services inc', 'tampa fl present providing institutional behavioral health medical management contracting services employees benefits manager manage administer robust m health welfare program administer benefits programs two smaller minority business enterprise clients', 'deliver excellence client services leveraging interpersonal skills establish rapport team members', 'perform cost analysis gather claims data coordinate enrollment large selffunded medical plan plus two smaller fully insured plans', 'analyze data projections create forecasts narrative graph format clearly succinctly communicate trends senior management meetings', 'directly supervise staff hr admin plus two human resource specialists', 'lead healthcare reform change management process analyzing changes developing strategic plans timeline crucial decisions ahead deadlines', 'communicate early changes dependent coverage preventive care lifetime maximum benefits employees', 'identified researched implemented hsa healthcare savings account health insurance option high deductible health insurance plan provide tax sheltered benefits physicians high income highprofile professionals', 'saved k annually restructuring open enrollment strategy leveraging existing human capital hr business partners achieve better communication lower cost', 'quickly establish rapport employees balance client relationship needs organizational goals cost controls compliance requirements create positive work environment', 'maximize employee recruiting retention implementing competitive benefits packages clearly communicating value team members', 'reduced costs k per year collaborating closely legal department create house total comp statement including implications taxes social security produced better quality analysis lower costs', 'xcjohn h', 'smith phr', 'page infogreatresumesfastcom approachable innovator passion human resources', 'human management inc', 'atlanta ga nonprofit government consulting firm domestic international employees senior human resources generalist performed diverse human resources functions administered benefits led special projects updated policies collaborated eeo vets affirmative action plan aap reporting', 'revamped orientation training programs newly hired employees include comprehensive information delivered personal formats teleconferences small group meetings tours one one conversations follow phone calls', 'supervised hr assistant temporary human resource specialists handling high volume work peak periods open enrollment company merger', 'led change management process seamlessly integrated benefits compensation retirement plans logistics newly acquired company employees prepared encompassing reports total compensation plans', 'developed webinars personal meetings communicate value benefits employees despite reductions economic recession maintained employee retention job satisfaction rankings despite cutbacks', 'reduced overall benefit costs including decrease std benefits base compensation without significant increase employee turnover', 'researched procured benefits government contractors traveling hazardous areas including kidnap ransom kr increased life insurance travel insurance', 'identified implemented medical dental benefit plans ensure comparable compensation international employees worldwide', 'managed diverse retirement plans including defined contribution b a executive b plans', 'abc corporation new york ny engineering construction consulting international domestic employees senior human resources generalist acme inc', 'washington dc', 'professional services consulting firm employees hr generalist benefits specialist human resource corporation tampa fl environmental management consulting firm employees human resources assistant education certification affiliation bachelor science psychology community college professional human resources phr certificate employee benefit specialist cebs certification pending member shrm society human resource management']\n"
     ]
    }
   ],
   "source": [
    "print('[0] ',elmo_in_smalls[0])"
   ]
  },
  {
   "cell_type": "code",
   "execution_count": 26,
   "metadata": {},
   "outputs": [
    {
     "name": "stdout",
     "output_type": "stream",
     "text": [
      "[0][3]  <class 'str'> 112 senior human resources professional personable analytical flexible senior hr professional multifaceted expertise\n"
     ]
    }
   ],
   "source": [
    "print('[0][3] ', type(elmo_in_smalls[0][3]), len(elmo_in_smalls[0][3]), elmo_in_smalls[0][3])"
   ]
  },
  {
   "cell_type": "code",
   "execution_count": 27,
   "metadata": {},
   "outputs": [
    {
     "name": "stdout",
     "output_type": "stream",
     "text": [
      "7 1 o\n",
      "8 3 \n",
      "8 4 \n",
      "8 5 \n",
      "8 6 \n",
      "8 7 \n",
      "8 15 \n",
      "8 17 \n",
      "8 25 c\n",
      "8 29 f\n",
      "8 41 \n",
      "25 38 \n",
      "30 3 \n",
      "30 4 \n",
      "30 5 \n",
      "30 6 \n",
      "30 7 \n",
      "30 15 \n",
      "30 17 \n",
      "30 25 c\n",
      "30 29 f\n",
      "30 41 \n",
      "33 3 \n",
      "33 4 \n",
      "33 5 \n",
      "33 6 \n",
      "33 7 \n",
      "33 15 \n",
      "33 17 \n",
      "33 25 c\n",
      "33 29 f\n",
      "33 41 \n",
      "43 6 \n",
      "43 24 \n",
      "45 39 \n",
      "54 15 \n",
      "59 9 \n",
      "59 17 p\n",
      "70 34 \n",
      "70 51 \n",
      "70 59 \n",
      "70 68 \n",
      "70 85 \n",
      "85 4 \n",
      "85 5 \n",
      "95 33 \n",
      "108 55 \n",
      "119 8 j\n",
      "128 2 \n",
      "135 31 \n",
      "156 5 \n",
      "156 11 \n",
      "156 18 \n",
      "156 20 \n",
      "156 22 \n",
      "156 36 \n",
      "156 39 \n",
      "156 43 \n",
      "156 46 \n",
      "159 13 \n",
      "159 63 \n",
      "160 11 a\n",
      "160 15 a\n",
      "160 27 p\n",
      "160 40 a\n",
      "165 20 \n",
      "167 6 \n",
      "167 7 \n",
      "168 16 \n",
      "174 21 \n",
      "174 23 \n",
      "185 22 \n",
      "187 6 \n",
      "187 7 \n",
      "188 24 \n",
      "190 74 \n",
      "192 42 m\n",
      "201 2 \n",
      "201 31 \n",
      "204 3 \n",
      "207 11 \n",
      "212 6 \n",
      "212 8 \n",
      "214 12 \n",
      "216 18 \n",
      "217 16 \n",
      "221 3 \n",
      "222 5 \n",
      "229 24 \n",
      "233 7 \n",
      "233 21 \n",
      "233 22 \n",
      "233 28 \n",
      "233 39 \n",
      "233 40 \n",
      "245 1 g\n",
      "254 37 \n",
      "260 4 \n",
      "263 21 \n",
      "263 46 \n",
      "263 57 \n",
      "263 66 \n",
      "263 82 \n",
      "263 84 \n",
      "263 86 \n",
      "263 88 \n",
      "266 5 \n",
      "266 7 \n",
      "266 9 \n",
      "266 11 \n",
      "266 13 \n",
      "266 15 \n",
      "266 17 \n",
      "266 19 \n",
      "266 31 \n",
      "268 4 \n",
      "274 16 \n",
      "275 16 \n",
      "284 2 o\n",
      "288 1 \n",
      "288 2 \n",
      "288 3 \n",
      "291 48 d\n",
      "291 51 h\n",
      "292 50 q\n",
      "292 120 \n",
      "292 122 \n",
      "292 128 \n",
      "292 131 \n",
      "292 133 \n",
      "292 139 \n",
      "292 143 \n",
      "292 147 \n",
      "292 151 \n",
      "292 183 \n",
      "292 193 \n",
      "292 229 \n",
      "292 274 \n",
      "302 50 p\n",
      "302 53 \n",
      "302 62 \n",
      "302 68 \n",
      "302 72 p\n",
      "302 75 \n",
      "302 80 r\n",
      "302 83 \n",
      "302 88 \n",
      "302 96 \n",
      "302 98 m\n",
      "302 103 s\n",
      "302 105 \n",
      "302 107 w\n",
      "302 113 d\n",
      "302 115 \n",
      "302 117 e\n",
      "302 123 j\n",
      "302 125 \n",
      "302 127 m\n",
      "302 132 m\n",
      "302 134 \n",
      "302 141 \n",
      "302 145 p\n",
      "302 147 \n",
      "302 151 \n",
      "302 154 r\n",
      "302 156 \n",
      "302 159 s\n",
      "302 161 \n",
      "302 164 p\n",
      "302 166 \n",
      "302 169 \n",
      "302 171 s\n",
      "302 177 m\n",
      "302 179 \n",
      "302 182 \n",
      "302 185 p\n",
      "302 187 \n",
      "302 190 \n",
      "302 193 \n",
      "302 196 j\n",
      "302 198 \n",
      "302 201 b\n",
      "302 203 \n",
      "302 205 j\n",
      "302 211 j\n",
      "302 213 \n",
      "302 216 \n",
      "302 219 b\n",
      "302 221 \n",
      "302 223 m\n",
      "302 230 b\n",
      "302 232 \n",
      "302 235 \n",
      "302 238 \n",
      "302 240 d\n",
      "302 246 \n",
      "302 253 \n",
      "302 255 b\n",
      "302 260 \n",
      "302 262 b\n",
      "302 269 \n",
      "302 271 j\n",
      "302 277 \n",
      "302 280 \n",
      "302 283 \n",
      "302 289 \n",
      "302 293 h\n",
      "302 295 \n",
      "302 299 \n",
      "302 304 \n",
      "302 317 \n",
      "307 2 o\n",
      "310 12 \n",
      "313 21 \n",
      "319 26 \n",
      "319 28 l\n",
      "319 37 \n",
      "322 2 \n",
      "327 18 \n",
      "327 27 \n",
      "327 50 \n",
      "327 52 \n",
      "327 54 \n",
      "338 10 \n",
      "342 9 w\n",
      "343 13 l\n",
      "343 19 \n",
      "343 21 \n",
      "344 4 \n",
      "344 11 \n",
      "345 1 y\n",
      "345 5 t\n",
      "345 7 t\n",
      "345 8 o\n",
      "345 10 p\n",
      "348 3 \n",
      "348 5 \n",
      "348 16 \n",
      "348 19 \n",
      "348 28 \n",
      "349 1 \n",
      "351 14 l\n",
      "351 18 \n",
      "351 20 j\n",
      "351 48 c\n",
      "355 35 \n",
      "355 93 d\n",
      "355 112 \n",
      "356 26 l\n",
      "357 2 l\n",
      "357 5 \n",
      "358 23 \n",
      "358 28 l\n",
      "358 29 r\n",
      "358 30 \n",
      "358 32 r\n",
      "358 33 \n",
      "358 36 \n",
      "358 38 \n",
      "358 41 \n",
      "358 44 \n",
      "358 67 v\n",
      "358 72 \n",
      "358 74 v\n",
      "358 85 \n",
      "360 34 \n",
      "360 41 \n",
      "363 2 c\n",
      "368 18 \n",
      "368 27 \n",
      "368 50 \n",
      "368 52 \n",
      "368 54 \n",
      "376 91 p\n",
      "385 9 \n",
      "386 13 \n",
      "398 15 \n",
      "398 18 \n",
      "400 7 \n",
      "403 43 \n",
      "412 4 \n",
      "414 4 \n",
      "418 3 \n",
      "418 6 \n",
      "422 59 \n",
      "427 3 o\n",
      "427 28 \n",
      "427 37 \n",
      "427 41 k\n",
      "427 43 \n",
      "429 20 k\n",
      "429 241 j\n",
      "429 330 j\n",
      "429 338 j\n",
      "429 342 j\n",
      "429 345 j\n",
      "429 359 j\n",
      "430 1 \n",
      "436 11 \n",
      "437 35 \n",
      "437 44 \n",
      "437 48 \n",
      "437 66 \n",
      "437 70 \n",
      "437 74 \n",
      "437 78 \n",
      "437 79 \n",
      "437 83 \n",
      "445 9 \n",
      "445 12 \n",
      "445 14 \n",
      "455 6 \n",
      "455 9 \n",
      "455 11 \n",
      "455 13 \n",
      "455 18 \n",
      "455 29 \n",
      "464 19 \n",
      "464 22 \n",
      "464 25 \n",
      "464 28 \n",
      "464 36 \n",
      "478 24 \n",
      "478 27 \n",
      "478 73 \n",
      "478 77 \n",
      "478 82 \n",
      "478 94 \n",
      "478 158 \n",
      "484 1 \n",
      "488 13 \n",
      "488 15 \n",
      "488 18 \n",
      "488 23 \n",
      "488 28 \n",
      "525 5 \n",
      "542 9 \n",
      "551 7 \n",
      "573 26 \n",
      "578 49 \n",
      "578 50 \n",
      "578 55 \n",
      "596 33 \n",
      "597 11 \n",
      "599 13 \n",
      "603 13 r\n",
      "603 14 r\n",
      "612 93 \n",
      "612 96 \n",
      "618 51 \n",
      "619 24 \n",
      "620 4 \n",
      "620 6 \n",
      "620 9 \n",
      "620 12 \n",
      "620 14 \n",
      "620 20 \n",
      "620 22 \n",
      "620 54 \n",
      "620 60 \n",
      "625 47 \n",
      "630 56 \n",
      "630 60 \n",
      "630 82 \n",
      "641 10 \n",
      "651 1 f\n",
      "659 6 \n",
      "659 30 \n",
      "659 34 \n",
      "659 40 \n",
      "659 53 m\n",
      "660 2 \n",
      "661 20 v\n",
      "661 108 a\n",
      "661 110 a\n",
      "661 171 \n",
      "662 2 \n",
      "668 36 \n",
      "674 2 \n",
      "677 10 w\n",
      "683 2 \n",
      "689 49 \n",
      "701 18 \n",
      "701 20 \n",
      "701 22 \n",
      "701 24 \n",
      "701 26 \n",
      "701 28 \n",
      "701 30 \n",
      "701 32 \n",
      "701 36 \n",
      "701 38 \n",
      "701 42 \n",
      "701 46 \n",
      "701 48 \n",
      "701 50 \n",
      "701 52 \n",
      "701 54 \n",
      "702 2 \n",
      "702 3 \n",
      "702 4 \n",
      "704 5 \n",
      "704 8 \n",
      "715 7 \n",
      "715 9 \n",
      "715 11 \n",
      "715 15 \n",
      "715 20 \n",
      "715 23 \n",
      "715 25 \n",
      "715 27 \n",
      "715 29 \n",
      "716 15 \n",
      "720 34 \n",
      "720 35 \n",
      "720 36 \n",
      "752 31 \n",
      "758 27 \n",
      "771 9 \n",
      "771 17 p\n",
      "775 9 \n",
      "775 17 p\n",
      "785 1 \n",
      "797 3 \n",
      "797 4 \n",
      "798 6 \n",
      "798 7 \n",
      "799 13 \n",
      "804 62 \n",
      "807 87 s\n",
      "818 0 r\n",
      "820 54 \n",
      "820 60 \n",
      "822 3 \n",
      "826 3 b\n",
      "829 6 \n",
      "829 9 \n",
      "829 10 \n",
      "829 13 \n",
      "831 151 d\n",
      "834 31 \n",
      "835 5 h\n",
      "835 7 m\n",
      "835 11 h\n",
      "835 13 s\n",
      "835 30 h\n",
      "838 42 m\n",
      "841 79 \n",
      "841 86 b\n",
      "841 88 c\n",
      "841 90 \n",
      "841 93 \n",
      "841 96 \n",
      "841 102 \n",
      "841 111 \n",
      "841 149 \n",
      "841 158 \n",
      "841 165 \n",
      "841 172 \n",
      "841 180 \n",
      "842 14 \n",
      "842 22 \n",
      "845 35 s\n",
      "845 47 s\n",
      "847 42 \n",
      "849 50 s\n",
      "849 52 \n",
      "851 0 v\n",
      "859 1 \n",
      "864 16 d\n",
      "864 20 n\n",
      "864 41 j\n",
      "864 42 d\n",
      "864 44 i\n",
      "864 46 c\n",
      "864 50 \n",
      "864 51 \n",
      "866 0 \n",
      "867 26 \n",
      "867 28 \n",
      "870 62 \n",
      "871 6 \n",
      "871 7 \n",
      "871 8 \n",
      "871 29 \n",
      "872 6 b\n",
      "872 8 c\n",
      "872 10 \n",
      "872 17 a\n",
      "872 20 b\n",
      "872 22 \n",
      "872 27 \n",
      "872 29 \n",
      "872 32 \n",
      "872 37 \n",
      "872 44 \n",
      "872 49 \n",
      "872 61 p\n",
      "872 67 p\n",
      "874 6 b\n",
      "874 8 c\n",
      "874 10 \n",
      "874 17 a\n",
      "874 20 b\n",
      "874 22 \n",
      "874 27 \n",
      "874 29 \n",
      "874 32 \n",
      "874 37 \n",
      "874 44 \n",
      "874 49 \n",
      "874 61 p\n",
      "874 67 p\n",
      "877 6 b\n",
      "877 8 c\n",
      "877 10 \n",
      "877 17 a\n",
      "877 20 b\n",
      "877 22 \n",
      "877 27 \n",
      "877 29 \n",
      "877 32 \n",
      "877 37 \n",
      "877 44 \n",
      "877 49 \n",
      "877 61 p\n",
      "877 67 p\n",
      "887 4 \n",
      "891 3 j\n",
      "891 6 n\n",
      "891 7 m\n",
      "891 8 u\n",
      "892 1 j\n",
      "892 15 j\n",
      "892 26 j\n",
      "894 2 \n",
      "936 4 \n",
      "936 6 \n",
      "936 9 \n",
      "936 15 \n",
      "936 19 \n",
      "936 23 \n",
      "936 25 \n",
      "936 27 \n",
      "939 12 \n",
      "949 6 \n",
      "949 67 \n",
      "951 5 \n",
      "951 8 \n",
      "951 14 \n",
      "951 18 \n",
      "951 20 \n",
      "951 22 \n",
      "951 24 \n",
      "956 44 \n",
      "956 46 \n",
      "956 73 d\n",
      "968 0 \n",
      "977 34 \n",
      "985 15 \n",
      "1033 10 b\n",
      "1033 11 a\n",
      "1033 12 l\n",
      "1033 13 j\n",
      "1033 17 c\n",
      "1033 18 a\n",
      "1033 19 \n",
      "1033 23 s\n",
      "1033 24 c\n",
      "1033 25 g\n",
      "1033 26 s\n",
      "1033 27 e\n",
      "1033 28 b\n",
      "1033 30 s\n",
      "1033 31 c\n",
      "1033 32 g\n",
      "1033 33 s\n",
      "1033 34 e\n",
      "1033 35 b\n",
      "1041 0 m\n",
      "1041 1 a\n",
      "1050 3 a\n",
      "1058 8 \n",
      "1059 0 \n",
      "1059 3 \n",
      "1069 4 m\n",
      "1069 6 u\n",
      "1072 6 a\n",
      "1082 12 \n",
      "1087 20 v\n",
      "1087 99 \n",
      "1087 111 \n",
      "1087 136 \n",
      "1087 153 a\n",
      "1087 155 a\n"
     ]
    }
   ],
   "source": [
    "for i in range(0, len(elmo_in_smalls)):\n",
    "    for j in range (0, len(elmo_in_smalls[i])):\n",
    "        if len(elmo_in_smalls[i][j])<2:\n",
    "            print(i, j, elmo_in_smalls[i][j])\n",
    "\n"
   ]
  },
  {
   "cell_type": "code",
   "execution_count": null,
   "metadata": {},
   "outputs": [],
   "source": []
  },
  {
   "cell_type": "code",
   "execution_count": 28,
   "metadata": {},
   "outputs": [
    {
     "data": {
      "text/plain": [
       "1088"
      ]
     },
     "execution_count": 28,
     "metadata": {},
     "output_type": "execute_result"
    }
   ],
   "source": [
    "len(elmo_in_smalls)"
   ]
  },
  {
   "cell_type": "code",
   "execution_count": 29,
   "metadata": {},
   "outputs": [],
   "source": [
    "lengths_smalls = []\n",
    "for i in range(0, len(elmo_in_smalls)):\n",
    "    lengths_smalls.extend([len(elmo_in_smalls[i])])\n",
    "\n",
    "#lengths_smalls"
   ]
  },
  {
   "cell_type": "code",
   "execution_count": 30,
   "metadata": {},
   "outputs": [
    {
     "data": {
      "image/png": "[encoded data removed]",
      "text/plain": [
       "<Figure size 432x288 with 1 Axes>"
      ]
     },
     "metadata": {},
     "output_type": "display_data"
    }
   ],
   "source": [
    "# let's look at distributions of resume length\n",
    "\n",
    "plt.hist(lengths_smalls, bins=range(0, 100, 5))\n",
    "\n",
    "plt.show()\n"
   ]
  },
  {
   "cell_type": "code",
   "execution_count": 31,
   "metadata": {},
   "outputs": [],
   "source": [
    "# now we have lengths_smalls for each length\n",
    "# now we have elmo_in_smalls for each resume"
   ]
  },
  {
   "cell_type": "code",
   "execution_count": 32,
   "metadata": {},
   "outputs": [
    {
     "data": {
      "text/plain": [
       "list"
      ]
     },
     "execution_count": 32,
     "metadata": {},
     "output_type": "execute_result"
    }
   ],
   "source": [
    "type(elmo_in_smalls[0])"
   ]
  },
  {
   "cell_type": "code",
   "execution_count": 33,
   "metadata": {},
   "outputs": [],
   "source": [
    "# I have elmo saved locally\n",
    "elmo = hub.Module(\"/home/ec2-user/module/module_elmo2\", trainable=False)\n",
    "\n"
   ]
  },
  {
   "cell_type": "code",
   "execution_count": 35,
   "metadata": {},
   "outputs": [
    {
     "data": {
      "text/plain": [
       "1088"
      ]
     },
     "execution_count": 35,
     "metadata": {},
     "output_type": "execute_result"
    }
   ],
   "source": [
    "len(elmo_in_smalls)"
   ]
  },
  {
   "cell_type": "code",
   "execution_count": 36,
   "metadata": {},
   "outputs": [],
   "source": [
    "#### SAVING ELMO_IN_SMALLS\n",
    "type(elmo_in_smalls)\n",
    "# save elmo in smalls\n",
    "np_elmo_in_smalls = np.asarray(elmo_in_smalls)\n",
    "np.save('elmo_resumes_under_100_sentences', np_elmo_in_smalls) "
   ]
  },
  {
   "cell_type": "code",
   "execution_count": null,
   "metadata": {},
   "outputs": [],
   "source": []
  },
  {
   "cell_type": "code",
   "execution_count": null,
   "metadata": {},
   "outputs": [],
   "source": [
    "# first_try = []\n",
    "# for i in range(0, len(elmo_in_smalls[0])):\n",
    "#     first_try = elmo_vectors(elmo_in_smalls[0][i])\n",
    "#     print(first_try)\n",
    "\n",
    "\n",
    "#trying on elmo_in_smalls[0]\n",
    "embeddings = elmo(elmo_in_smalls[0], signature=\"default\",as_dict=True)[\"elmo\"]\n",
    "print(\"embeddings is type {} and shape {}\".format(type(embeddings), embeddings.shape))\n",
    "with tf.Session() as session:\n",
    "    session.run([tf.global_variables_initializer(), tf.tables_initializer()])\n",
    "    message_embeddings_2d = session.run(tf.reduce_mean(embeddings,axis=0))\n",
    "    print(\"message_embeddings_2d is type {} and shape {}\".format(type(message_embeddings_2d), message_embeddings_2d.shape))\n",
    "    message_embeddings_1d = tf.reduce_mean(tf.convert_to_tensor(message_embeddings_2d), axis = 0, keepdims=True)\n",
    "    print(\"message_embeddings_1d is type {} and shape {}\".format(type(message_embeddings_1d), message_embeddings_1d.shape))\n"
   ]
  },
  {
   "cell_type": "code",
   "execution_count": null,
   "metadata": {},
   "outputs": [],
   "source": [
    "with tf.Session() as sess:  print(message_embeddings_1d.eval()) "
   ]
  },
  {
   "cell_type": "code",
   "execution_count": null,
   "metadata": {},
   "outputs": [],
   "source": []
  },
  {
   "cell_type": "code",
   "execution_count": null,
   "metadata": {},
   "outputs": [],
   "source": [
    "#trying on elmo_in_smalls[1]\n",
    "embeddings1 = elmo(elmo_in_smalls[1], signature=\"default\",as_dict=True)[\"elmo\"]\n",
    "print(\"embeddings is type {} and shape {}\".format(type(embeddings1), embeddings1.shape))\n",
    "with tf.Session() as session:\n",
    "    session.run([tf.global_variables_initializer(), tf.tables_initializer()])\n",
    "    message_embeddings1_2d = session.run(tf.reduce_mean(embeddings1,axis=0))\n",
    "    print(\"message_embeddings1_2d is type {} and shape {}\".format(type(message_embeddings1_2d), message_embeddings1_2d.shape))\n",
    "    message_embeddings1_1d = session.run(tf.reduce_mean(tf.convert_to_tensor(message_embeddings1_2d), axis = 0, keepdims=True))\n",
    "    print(\"message_embeddings1_1d is type {} and shape {}\".format(type(message_embeddings1_1d), message_embeddings1_1d.shape))\n",
    "\n",
    "    "
   ]
  },
  {
   "cell_type": "code",
   "execution_count": null,
   "metadata": {},
   "outputs": [],
   "source": [
    "print(message_embeddings1_1d)"
   ]
  },
  {
   "cell_type": "code",
   "execution_count": null,
   "metadata": {},
   "outputs": [],
   "source": [
    "with tf.Session() as sess:  print(message_embeddings1_1d.eval()) "
   ]
  },
  {
   "cell_type": "code",
   "execution_count": null,
   "metadata": {},
   "outputs": [],
   "source": [
    "with tf.Session() as sess: print(cosine_similarity(message_embeddings_1d.eval(), message_embeddings1_1d.eval()))\n"
   ]
  },
  {
   "cell_type": "code",
   "execution_count": null,
   "metadata": {},
   "outputs": [],
   "source": []
  },
  {
   "cell_type": "code",
   "execution_count": null,
   "metadata": {},
   "outputs": [],
   "source": [
    "# print(\"embeddings shape: {}\".format(embeddings.shape))\n",
    "# print(\"elmo_in_smalls[0] sentences: {}\".format(len(elmo_in_smalls[0])))\n",
    "# max_sentence_length = 0\n",
    "# for i in range(0, len(elmo_in_smalls[0])):\n",
    "#     if len(elmo_in_smalls[0][i].split()) > max_sentence_length:\n",
    "#         max_sentence_length = len(elmo_in_smalls[0][i])\n",
    "                                  \n",
    "# print(\"elmo_in_smalls[0] max sentence length: {}\".format(max_sentence_length))\n"
   ]
  },
  {
   "cell_type": "code",
   "execution_count": null,
   "metadata": {},
   "outputs": [],
   "source": [
    "len(elmo_in_smalls)"
   ]
  },
  {
   "cell_type": "code",
   "execution_count": null,
   "metadata": {},
   "outputs": [],
   "source": [
    "len(elmo_in_smalls[129])"
   ]
  },
  {
   "cell_type": "code",
   "execution_count": null,
   "metadata": {},
   "outputs": [],
   "source": [
    "(100 % 100) == 0"
   ]
  },
  {
   "cell_type": "code",
   "execution_count": null,
   "metadata": {},
   "outputs": [],
   "source": []
  },
  {
   "cell_type": "code",
   "execution_count": null,
   "metadata": {},
   "outputs": [],
   "source": []
  },
  {
   "cell_type": "code",
   "execution_count": null,
   "metadata": {},
   "outputs": [],
   "source": [
    "### try this right after imports to load elmo_in_smalls\n",
    "elmo_in_smalls = np.load('/home/ec2-user/NLP_projects/job_recommender_project/emlo_resumes_under_100_sentences.npy').tolist()\n"
   ]
  },
  {
   "cell_type": "code",
   "execution_count": null,
   "metadata": {
    "scrolled": true
   },
   "outputs": [
    {
     "name": "stderr",
     "output_type": "stream",
     "text": [
      "\r",
      "  0%|          | 0/687 [00:00<?, ?it/s]"
     ]
    },
    {
     "name": "stdout",
     "output_type": "stream",
     "text": [
      "elmo_in_smalls[401]\n",
      "INFO:tensorflow:Saver not created because there are no variables in the graph to restore\n"
     ]
    }
   ],
   "source": [
    "# for all embeddings\n",
    "\n",
    "resume_embeddings = []\n",
    "\n",
    "\n",
    "for i in tqdm(range(401, len(elmo_in_smalls))):\n",
    "    # save np array of embeddings\n",
    "    if i % 50 == 0:\n",
    "        np_ELMo_embeddings_resumes = np.asarray(resume_embeddings)\n",
    "        np.save('ELMo_embeddings_resumes_401_to_{}'.format(i), np_ELMo_embeddings_resumes) \n",
    "    \n",
    "    print('elmo_in_smalls[{}]'.format(i))\n",
    "    embeddings_3d = elmo(elmo_in_smalls[i], signature=\"default\",as_dict=True)[\"elmo\"]\n",
    "#     print(\"embeddings is type {} and shape {}\".format(type(embeddings), embeddings.shape))\n",
    "    with tf.Session() as session:\n",
    "        session.run([tf.global_variables_initializer(), tf.tables_initializer()])\n",
    "        embeddings_2d = session.run(tf.reduce_mean(embeddings_3d,axis=0))\n",
    "#         print(\"message_embeddings_2d is type {} and shape {}\".format(type(message_embeddings_2d), message_embeddings_2d.shape))\n",
    "        embeddings_1d = session.run(tf.reduce_mean(tf.convert_to_tensor(embeddings_2d), axis = 0, keepdims=True))\n",
    "#         print(\"message_embeddings_1d is type {} and shape {}\".format(type(message_embeddings_1d), message_embeddings_1d.shape))\n",
    "        resume_embeddings.extend(embeddings_1d)\n",
    "    \n",
    "\n",
    "\n",
    "    "
   ]
  },
  {
   "cell_type": "code",
   "execution_count": null,
   "metadata": {},
   "outputs": [],
   "source": []
  },
  {
   "cell_type": "code",
   "execution_count": null,
   "metadata": {},
   "outputs": [],
   "source": []
  },
  {
   "cell_type": "code",
   "execution_count": null,
   "metadata": {},
   "outputs": [],
   "source": [
    "# # save np array of embeddings\n",
    "# np_ELMo_embeddings_resumes = np.asarray(resume_embeddings)\n",
    "# np.save('ELMo_embeddings_resumes_401_{}'.format(len(elmo_in_smalls)', np_ELMo_embeddings_resumes) "
   ]
  },
  {
   "cell_type": "code",
   "execution_count": null,
   "metadata": {},
   "outputs": [],
   "source": [
    "# # save elmo_train_new\n",
    "# pickle_out = open(\"ELMo_embeddings_resumes.pickle\",\"wb\")\n",
    "# pickle.dump(np_ELMo_embeddings_resumes, pickle_out)\n",
    "# pickle_out.close()"
   ]
  },
  {
   "cell_type": "code",
   "execution_count": null,
   "metadata": {},
   "outputs": [],
   "source": []
  },
  {
   "cell_type": "code",
   "execution_count": null,
   "metadata": {},
   "outputs": [],
   "source": []
  },
  {
   "cell_type": "code",
   "execution_count": null,
   "metadata": {},
   "outputs": [],
   "source": []
  },
  {
   "cell_type": "markdown",
   "metadata": {},
   "source": [
    "# ========================================"
   ]
  },
  {
   "cell_type": "code",
   "execution_count": null,
   "metadata": {},
   "outputs": [],
   "source": []
  }
 ],
 "metadata": {
  "kernelspec": {
   "display_name": "Python 3",
   "language": "python",
   "name": "python3"
  },
  "language_info": {
   "codemirror_mode": {
    "name": "ipython",
    "version": 3
   },
   "file_extension": ".py",
   "mimetype": "text/x-python",
   "name": "python",
   "nbconvert_exporter": "python",
   "pygments_lexer": "ipython3",
   "version": "3.6.6"
  }
 },
 "nbformat": 4,
 "nbformat_minor": 4
}
