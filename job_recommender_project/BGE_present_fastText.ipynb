{
 "cells": [
  {
   "cell_type": "markdown",
   "metadata": {},
   "source": [
    "fastText\n",
    "========\n",
    "- Made by facebook <https://github.com/facebookresearch/fastText>\n",
    "- Treats each word as the aggregation of its subwords. \n",
    "    - Subwords are character n-grams of the word. (e.g. army --> a, r, m, y, ar, rm, my, arm, rmy,\n",
    "- Pros:\n",
    "    - Much better thahn Word2Vec on syntactic tasks, especially with small training corpus\n",
    "    - fastText can be used to obtain vectors for out-of-vocabulary (OOV) words\n",
    "- Cons\n",
    "    - Slightly worse than Word2Vec semantic tasks\n",
    "    - Slower training time than Word2Vec\n",
    "    - Comparision: <https://github.com/RaRe-Technologies/gensim/blob/develop/docs/notebooks/Word2Vec_FastText_Comparison.ipynb>\n",
    "\n",
    "\n",
    "<br><br>\n",
    "\n",
    "Credit:\n",
    "- https://radimrehurek.com/gensim/auto_examples/tutorials/run_fasttext.html#sphx-glr-download-auto-examples-tutorials-run-fasttext-py\n",
    "- wm distances work:\n",
    "    - Ofir Pele and Michael Werman “A linear time histogram metric for improved SIFT matching”\n",
    "    - Ofir Pele and Michael Werman “Fast and robust earth mover’s distances”\n",
    "    - Matt Kusner et al. “From Word Embeddings To Document Distances”.\n",
    "\n"
   ]
  },
  {
   "cell_type": "code",
   "execution_count": 1,
   "metadata": {},
   "outputs": [
    {
     "name": "stderr",
     "output_type": "stream",
     "text": [
      "unable to import 'smart_open.gcs', disabling that module\n"
     ]
    }
   ],
   "source": [
    "\n",
    "import numpy as np\n",
    "import pandas as pd\n",
    "import pickle\n",
    "from scipy import spatial\n",
    "\n",
    "from pprint import pprint\n",
    "import operator\n",
    "\n",
    "from gensim.models.fasttext import FastText as FT_gensim\n",
    "from gensim.test.utils import datapath"
   ]
  },
  {
   "cell_type": "code",
   "execution_count": null,
   "metadata": {},
   "outputs": [],
   "source": []
  },
  {
   "cell_type": "code",
   "execution_count": 2,
   "metadata": {},
   "outputs": [],
   "source": [
    "# import logging\n",
    "# logging.basicConfig(format='%(asctime)s : %(levelname)s : %(message)s', level=logging.INFO)"
   ]
  },
  {
   "cell_type": "code",
   "execution_count": null,
   "metadata": {},
   "outputs": [],
   "source": []
  },
  {
   "cell_type": "markdown",
   "metadata": {},
   "source": [
    "## Load Resume Data"
   ]
  },
  {
   "cell_type": "code",
   "execution_count": 3,
   "metadata": {},
   "outputs": [
    {
     "data": {
      "text/html": [
       "<div>\n",
       "<style scoped>\n",
       "    .dataframe tbody tr th:only-of-type {\n",
       "        vertical-align: middle;\n",
       "    }\n",
       "\n",
       "    .dataframe tbody tr th {\n",
       "        vertical-align: top;\n",
       "    }\n",
       "\n",
       "    .dataframe thead th {\n",
       "        text-align: right;\n",
       "    }\n",
       "</style>\n",
       "<table border=\"1\" class=\"dataframe\">\n",
       "  <thead>\n",
       "    <tr style=\"text-align: right;\">\n",
       "      <th></th>\n",
       "      <th>ID</th>\n",
       "      <th>Category</th>\n",
       "      <th>dirty_resume</th>\n",
       "      <th>resume</th>\n",
       "      <th>tokenized_resume</th>\n",
       "      <th>lemmatized_resume</th>\n",
       "    </tr>\n",
       "  </thead>\n",
       "  <tbody>\n",
       "    <tr>\n",
       "      <th>0</th>\n",
       "      <td>1</td>\n",
       "      <td>HR</td>\n",
       "      <td>b'John H. Smith, P.H.R.\\n800-991-5187 | PO Box...</td>\n",
       "      <td>john h smith phr    po box  callahan fl  infog...</td>\n",
       "      <td>[john, h, smith, phr, po, box, callahan, fl, i...</td>\n",
       "      <td>[john, h, smith, phr, po, box, callahan, fl, i...</td>\n",
       "    </tr>\n",
       "    <tr>\n",
       "      <th>1</th>\n",
       "      <td>2</td>\n",
       "      <td>HR</td>\n",
       "      <td>b'Name Surname\\nAddress\\nMobile No/Email\\nPERS...</td>\n",
       "      <td>name surname address mobile noemail personal p...</td>\n",
       "      <td>[name, surname, address, mobile, noemail, pers...</td>\n",
       "      <td>[name, surname, address, mobile, noemail, pers...</td>\n",
       "    </tr>\n",
       "    <tr>\n",
       "      <th>2</th>\n",
       "      <td>3</td>\n",
       "      <td>HR</td>\n",
       "      <td>b'Anthony Brown\\nHR Assistant\\nAREAS OF EXPERT...</td>\n",
       "      <td>anthony brown hr assistant areas expertise per...</td>\n",
       "      <td>[anthony, brown, hr, assistant, areas, experti...</td>\n",
       "      <td>[anthony, brown, hr, assistant, area, expertis...</td>\n",
       "    </tr>\n",
       "    <tr>\n",
       "      <th>3</th>\n",
       "      <td>4</td>\n",
       "      <td>HR</td>\n",
       "      <td>b'www.downloadmela.com\\nSatheesh\\nEMAIL ID:\\nC...</td>\n",
       "      <td>satheesh email id career objective pursue gro...</td>\n",
       "      <td>[satheesh, email, id, career, objective, pursu...</td>\n",
       "      <td>[satheesh, email, id, career, objective, pursu...</td>\n",
       "    </tr>\n",
       "    <tr>\n",
       "      <th>4</th>\n",
       "      <td>5</td>\n",
       "      <td>HR</td>\n",
       "      <td>b\"HUMAN RESOURCES DIRECTOR\\n\\xef\\x82\\xb7Expert...</td>\n",
       "      <td>human resources director expert organizational...</td>\n",
       "      <td>[human, resources, director, expert, organizat...</td>\n",
       "      <td>[human, resource, director, expert, organizati...</td>\n",
       "    </tr>\n",
       "  </tbody>\n",
       "</table>\n",
       "</div>"
      ],
      "text/plain": [
       "   ID Category                                       dirty_resume  \\\n",
       "0   1       HR  b'John H. Smith, P.H.R.\\n800-991-5187 | PO Box...   \n",
       "1   2       HR  b'Name Surname\\nAddress\\nMobile No/Email\\nPERS...   \n",
       "2   3       HR  b'Anthony Brown\\nHR Assistant\\nAREAS OF EXPERT...   \n",
       "3   4       HR  b'www.downloadmela.com\\nSatheesh\\nEMAIL ID:\\nC...   \n",
       "4   5       HR  b\"HUMAN RESOURCES DIRECTOR\\n\\xef\\x82\\xb7Expert...   \n",
       "\n",
       "                                              resume  \\\n",
       "0  john h smith phr    po box  callahan fl  infog...   \n",
       "1  name surname address mobile noemail personal p...   \n",
       "2  anthony brown hr assistant areas expertise per...   \n",
       "3   satheesh email id career objective pursue gro...   \n",
       "4  human resources director expert organizational...   \n",
       "\n",
       "                                    tokenized_resume  \\\n",
       "0  [john, h, smith, phr, po, box, callahan, fl, i...   \n",
       "1  [name, surname, address, mobile, noemail, pers...   \n",
       "2  [anthony, brown, hr, assistant, areas, experti...   \n",
       "3  [satheesh, email, id, career, objective, pursu...   \n",
       "4  [human, resources, director, expert, organizat...   \n",
       "\n",
       "                                   lemmatized_resume  \n",
       "0  [john, h, smith, phr, po, box, callahan, fl, i...  \n",
       "1  [name, surname, address, mobile, noemail, pers...  \n",
       "2  [anthony, brown, hr, assistant, area, expertis...  \n",
       "3  [satheesh, email, id, career, objective, pursu...  \n",
       "4  [human, resource, director, expert, organizati...  "
      ]
     },
     "execution_count": 3,
     "metadata": {},
     "output_type": "execute_result"
    }
   ],
   "source": [
    "local_resume_cleaned_lemmatized_tokenized_path = '/Users/richardkuzma/coding/NLP_projects/job_recommender_project/data/resumes_tokenized_lemmatized.pickle'\n",
    "ec2_path = '/home/ubuntu/NLP_projects/job_recommender_project/data/resumes_tokenized_lemmatized.pickle'\n",
    "\n",
    "# resumes = pd.read_pickle(local_resume_cleaned_lemmatized_tokenized_path)\n",
    "resumes = pd.read_pickle(ec2_path)\n",
    "resumes_sentences = resumes['lemmatized_resume'].tolist()\n",
    "resumes.head()"
   ]
  },
  {
   "cell_type": "code",
   "execution_count": 4,
   "metadata": {},
   "outputs": [
    {
     "data": {
      "text/plain": [
       "['john',\n",
       " 'h',\n",
       " 'smith',\n",
       " 'phr',\n",
       " 'po',\n",
       " 'box',\n",
       " 'callahan',\n",
       " 'fl',\n",
       " 'infogreatresumesfastcom',\n",
       " 'approachable',\n",
       " 'innovator',\n",
       " 'passion',\n",
       " 'human',\n",
       " 'resource',\n",
       " 'senior']"
      ]
     },
     "execution_count": 4,
     "metadata": {},
     "output_type": "execute_result"
    }
   ],
   "source": [
    "# a list where each element is a list of strings\n",
    "resumes_sentences[0][:15]"
   ]
  },
  {
   "cell_type": "markdown",
   "metadata": {},
   "source": [
    "Training base FT model for resumes\n",
    "--------------"
   ]
  },
  {
   "cell_type": "code",
   "execution_count": 5,
   "metadata": {},
   "outputs": [
    {
     "name": "stdout",
     "output_type": "stream",
     "text": [
      "FastText(vocab=11073, size=100, alpha=0.025)\n"
     ]
    }
   ],
   "source": [
    "base_res_model = FT_gensim(\n",
    "    sentences=None,\n",
    "    sg=0, #default to CBOW. if sg=1 then skip-gram\n",
    "    hs=0, #default, if hs=0 & negative =/= 0 then neg. sampling. if hs=1, hierarchical softmax\n",
    "    negative=5, #5 words selected for negative sampling\n",
    "    size=100, #size of vector\n",
    "    alpha=0.025,\n",
    "    min_count=5, # ignore words with fewer than 20 apearances\n",
    "    iter=5,\n",
    "    seed=42,\n",
    "    cbow_mean=1, #uses mean for CBOW. If it =0 then sums CBOW (provided CBOW not SG)\n",
    "    min_n=3, # min length of char n-grams\n",
    "    max_n=6, # max length of char n-grams. If 0 or less than min_n, this turns into W2V\n",
    "    trim_rule=None, #if you had a rule to trim down vocabulary\n",
    "    workers=3 # default\n",
    ")    \n",
    "\n",
    "    \n",
    "# build the vocabulary\n",
    "base_res_model.build_vocab(sentences = resumes_sentences)\n",
    "\n",
    "# train the model\n",
    "base_res_model.train(\n",
    "    sentences=resumes_sentences,\n",
    "    epochs=base_res_model.epochs,\n",
    "    total_examples=base_res_model.corpus_count,\n",
    "    total_words=base_res_model.corpus_total_words\n",
    ")\n",
    "\n",
    "print(base_res_model)"
   ]
  },
  {
   "cell_type": "code",
   "execution_count": 7,
   "metadata": {},
   "outputs": [],
   "source": [
    "base_res_model.save('/home/ubuntu/NLP_projects/job_recommender_project/models/fasttext/base_res_ft')"
   ]
  },
  {
   "cell_type": "code",
   "execution_count": 14,
   "metadata": {},
   "outputs": [],
   "source": []
  },
  {
   "cell_type": "markdown",
   "metadata": {},
   "source": [
    "<br><br><br><br><br><br><br><br><br><br>"
   ]
  },
  {
   "cell_type": "markdown",
   "metadata": {},
   "source": [
    "<br><br>\n",
    "### Need to be able to pick individual jobs to compare to all resumes"
   ]
  },
  {
   "cell_type": "code",
   "execution_count": 8,
   "metadata": {},
   "outputs": [
    {
     "data": {
      "text/html": [
       "<div>\n",
       "<style scoped>\n",
       "    .dataframe tbody tr th:only-of-type {\n",
       "        vertical-align: middle;\n",
       "    }\n",
       "\n",
       "    .dataframe tbody tr th {\n",
       "        vertical-align: top;\n",
       "    }\n",
       "\n",
       "    .dataframe thead th {\n",
       "        text-align: right;\n",
       "    }\n",
       "</style>\n",
       "<table border=\"1\" class=\"dataframe\">\n",
       "  <thead>\n",
       "    <tr style=\"text-align: right;\">\n",
       "      <th></th>\n",
       "      <th>Title</th>\n",
       "      <th>Company</th>\n",
       "      <th>JobDescription</th>\n",
       "      <th>RequiredQual</th>\n",
       "      <th>JobRequirement</th>\n",
       "      <th>label</th>\n",
       "      <th>combined</th>\n",
       "      <th>dirty_combined</th>\n",
       "      <th>tokenized_combined</th>\n",
       "      <th>lemmatized_combined</th>\n",
       "    </tr>\n",
       "  </thead>\n",
       "  <tbody>\n",
       "    <tr>\n",
       "      <th>0</th>\n",
       "      <td>Chief Financial Officer</td>\n",
       "      <td>AMERIA Investment Consulting Company</td>\n",
       "      <td>AMERIA Investment Consulting Company is seekin...</td>\n",
       "      <td>To perform this job successfully, an\\r\\nindivi...</td>\n",
       "      <td>- Supervises financial management and administ...</td>\n",
       "      <td>1</td>\n",
       "      <td>chief financial officer ameria investment cons...</td>\n",
       "      <td>Chief Financial Officer AMERIA Investment Cons...</td>\n",
       "      <td>[chief, financial, officer, ameria, investment...</td>\n",
       "      <td>[chief, financial, officer, ameria, investment...</td>\n",
       "    </tr>\n",
       "    <tr>\n",
       "      <th>1</th>\n",
       "      <td>Country Coordinator</td>\n",
       "      <td>Caucasus Environmental NGO Network (CENN)</td>\n",
       "      <td>Public outreach and strengthening of a growing...</td>\n",
       "      <td>- Degree in environmentally related field, or ...</td>\n",
       "      <td>- Working with the Country Director to provide...</td>\n",
       "      <td>2</td>\n",
       "      <td>country coordinator public outreach strengthen...</td>\n",
       "      <td>Country Coordinator Public outreach and streng...</td>\n",
       "      <td>[country, coordinator, public, outreach, stren...</td>\n",
       "      <td>[country, coordinator, public, outreach, stren...</td>\n",
       "    </tr>\n",
       "    <tr>\n",
       "      <th>2</th>\n",
       "      <td>BCC Specialist</td>\n",
       "      <td>Manoff Group</td>\n",
       "      <td>The LEAD (Local Enhancement and Development fo...</td>\n",
       "      <td>- Advanced degree in public health, social sci...</td>\n",
       "      <td>- Identify gaps in knowledge and overseeing in...</td>\n",
       "      <td>3</td>\n",
       "      <td>bcc specialist lead local enhancement developm...</td>\n",
       "      <td>BCC Specialist The LEAD (Local Enhancement and...</td>\n",
       "      <td>[bcc, specialist, lead, local, enhancement, de...</td>\n",
       "      <td>[bcc, specialist, lead, local, enhancement, de...</td>\n",
       "    </tr>\n",
       "    <tr>\n",
       "      <th>3</th>\n",
       "      <td>Community Development, Capacity Building and C...</td>\n",
       "      <td>Food Security Regional Cooperation and Stabili...</td>\n",
       "      <td>Food Security Regional Cooperation and Stabili...</td>\n",
       "      <td>- Higher Education and/or professional experie...</td>\n",
       "      <td>- Assist the Tavush Marz communities and commu...</td>\n",
       "      <td>4</td>\n",
       "      <td>community development capacity building confli...</td>\n",
       "      <td>Community Development, Capacity Building and C...</td>\n",
       "      <td>[community, development, capacity, building, c...</td>\n",
       "      <td>[community, development, capacity, building, c...</td>\n",
       "    </tr>\n",
       "    <tr>\n",
       "      <th>4</th>\n",
       "      <td>Country Economist (NOB)</td>\n",
       "      <td>United Nations Development Programme, Armenia</td>\n",
       "      <td>The United Nations Development Programme in Ar...</td>\n",
       "      <td>- Minimum Masters Degree in Economics;\\r\\n- Mi...</td>\n",
       "      <td>The incumbent under direct supervision of UNDP...</td>\n",
       "      <td>5</td>\n",
       "      <td>country economist nob united nations developme...</td>\n",
       "      <td>Country Economist (NOB) The United Nations Dev...</td>\n",
       "      <td>[country, economist, nob, united, nations, dev...</td>\n",
       "      <td>[country, economist, nob, united, nation, deve...</td>\n",
       "    </tr>\n",
       "  </tbody>\n",
       "</table>\n",
       "</div>"
      ],
      "text/plain": [
       "                                               Title  \\\n",
       "0                            Chief Financial Officer   \n",
       "1                                Country Coordinator   \n",
       "2                                     BCC Specialist   \n",
       "3  Community Development, Capacity Building and C...   \n",
       "4                            Country Economist (NOB)   \n",
       "\n",
       "                                             Company  \\\n",
       "0               AMERIA Investment Consulting Company   \n",
       "1          Caucasus Environmental NGO Network (CENN)   \n",
       "2                                       Manoff Group   \n",
       "3  Food Security Regional Cooperation and Stabili...   \n",
       "4      United Nations Development Programme, Armenia   \n",
       "\n",
       "                                      JobDescription  \\\n",
       "0  AMERIA Investment Consulting Company is seekin...   \n",
       "1  Public outreach and strengthening of a growing...   \n",
       "2  The LEAD (Local Enhancement and Development fo...   \n",
       "3  Food Security Regional Cooperation and Stabili...   \n",
       "4  The United Nations Development Programme in Ar...   \n",
       "\n",
       "                                        RequiredQual  \\\n",
       "0  To perform this job successfully, an\\r\\nindivi...   \n",
       "1  - Degree in environmentally related field, or ...   \n",
       "2  - Advanced degree in public health, social sci...   \n",
       "3  - Higher Education and/or professional experie...   \n",
       "4  - Minimum Masters Degree in Economics;\\r\\n- Mi...   \n",
       "\n",
       "                                      JobRequirement  label  \\\n",
       "0  - Supervises financial management and administ...      1   \n",
       "1  - Working with the Country Director to provide...      2   \n",
       "2  - Identify gaps in knowledge and overseeing in...      3   \n",
       "3  - Assist the Tavush Marz communities and commu...      4   \n",
       "4  The incumbent under direct supervision of UNDP...      5   \n",
       "\n",
       "                                            combined  \\\n",
       "0  chief financial officer ameria investment cons...   \n",
       "1  country coordinator public outreach strengthen...   \n",
       "2  bcc specialist lead local enhancement developm...   \n",
       "3  community development capacity building confli...   \n",
       "4  country economist nob united nations developme...   \n",
       "\n",
       "                                      dirty_combined  \\\n",
       "0  Chief Financial Officer AMERIA Investment Cons...   \n",
       "1  Country Coordinator Public outreach and streng...   \n",
       "2  BCC Specialist The LEAD (Local Enhancement and...   \n",
       "3  Community Development, Capacity Building and C...   \n",
       "4  Country Economist (NOB) The United Nations Dev...   \n",
       "\n",
       "                                  tokenized_combined  \\\n",
       "0  [chief, financial, officer, ameria, investment...   \n",
       "1  [country, coordinator, public, outreach, stren...   \n",
       "2  [bcc, specialist, lead, local, enhancement, de...   \n",
       "3  [community, development, capacity, building, c...   \n",
       "4  [country, economist, nob, united, nations, dev...   \n",
       "\n",
       "                                 lemmatized_combined  \n",
       "0  [chief, financial, officer, ameria, investment...  \n",
       "1  [country, coordinator, public, outreach, stren...  \n",
       "2  [bcc, specialist, lead, local, enhancement, de...  \n",
       "3  [community, development, capacity, building, c...  \n",
       "4  [country, economist, nob, united, nation, deve...  "
      ]
     },
     "execution_count": 8,
     "metadata": {},
     "output_type": "execute_result"
    }
   ],
   "source": [
    "# load jobs into df\n",
    "\n",
    "local_jobs_cleaned_lemmatized_tokenized_path = '/Users/richardkuzma/coding/NLP_projects/job_recommender_project/data/large_files/jobs_tokenized_lemmatized.pickle'\n",
    "ec2_path = '/home/ubuntu/NLP_projects/job_recommender_project/data/large_files/jobs_tokenized_lemmatized.pickle'\n",
    "\n",
    "jobs = pd.read_pickle(ec2_path)\n",
    "# jobs = pd.read_pickle(local_jobs_cleaned_lemmatized_tokenized_path)\n",
    "\n",
    "jobs_list = jobs['lemmatized_combined'].tolist()\n",
    "jobs.head()"
   ]
  },
  {
   "cell_type": "code",
   "execution_count": 9,
   "metadata": {},
   "outputs": [
    {
     "data": {
      "text/plain": [
       "13124"
      ]
     },
     "execution_count": 9,
     "metadata": {},
     "output_type": "execute_result"
    }
   ],
   "source": [
    "#13124 total jobs\n",
    "jobs.shape[0]"
   ]
  },
  {
   "cell_type": "code",
   "execution_count": 10,
   "metadata": {},
   "outputs": [],
   "source": [
    "def vectorize_resumes(model=base_res_model):\n",
    "    \"\"\"returns list of document vectors \"\"\"\n",
    "    res_vecs = []\n",
    "    for i in range(0, len(resumes_sentences)):\n",
    "        temp_vec = model.wv[resumes_sentences[i]]\n",
    "        one_dim_vec = np.mean(temp_vec, axis=0)\n",
    "        res_vecs.append(one_dim_vec)\n",
    "    return res_vecs"
   ]
  },
  {
   "cell_type": "code",
   "execution_count": null,
   "metadata": {},
   "outputs": [],
   "source": []
  },
  {
   "cell_type": "code",
   "execution_count": 15,
   "metadata": {},
   "outputs": [],
   "source": [
    "def pick_job(selection=-999):\n",
    "    print(\"There are {} jobs\".format(jobs.shape[0]))\n",
    "    \n",
    "    # Select a random int from 0 to length of rjob set\n",
    "    rand_int = np.random.randint(1, jobs.shape[0]+1)\n",
    "    \n",
    "    \n",
    "    \n",
    "    if selection == -999:\n",
    "        selection = rand_int\n",
    "    \n",
    "    \n",
    "    \n",
    "    \n",
    "    print ('\\nselected job is ID #{}'.format(selection))\n",
    "    \n",
    "    # pick the job text and ID associated with the random int\n",
    "    job_label = jobs.iloc[selection - 1, jobs.columns.get_loc('label')] #we could grab ID, but this works for non-indexed labels too\n",
    "    job_title = jobs.iloc[selection - 1 ]['Title']\n",
    "    job_company = jobs.iloc[selection - 1 ]['Company']\n",
    "    job_description = jobs.iloc[selection - 1 ]['JobDescription']\n",
    "    \n",
    "    \n",
    "    print('Job Posting ID is: {}'.format(job_label))\n",
    "    print('Job Posting Title: {}'.format(job_title))\n",
    "    print('Job Posting Company: {}'.format(job_company))\n",
    "    print('Job Posting Description: {}'.format(job_description))\n",
    "    \n",
    "    #Convert the sample document into a list and use the infer_vector method to get a vector representation for it\n",
    "    job_text_to_process = jobs['lemmatized_combined'][selection - 1]\n",
    "    \n",
    "    return job_text_to_process\n"
   ]
  },
  {
   "cell_type": "code",
   "execution_count": 16,
   "metadata": {},
   "outputs": [],
   "source": [
    "def given_job_find_similar_resumes(job_you_pick, model=base_res_model, resumes_vectors=vectorize_resumes()):\n",
    "\n",
    "        \n",
    "    #find all distances between chosen job and each resume\n",
    "    temp_distance = []\n",
    "    min_dist = float(\"inf\")\n",
    "    min_index = float(\"inf\")\n",
    "\n",
    "    #turning chosen job into vector\n",
    "    job_temp = model.wv[job_you_pick]\n",
    "    job_vec = np.mean(job_temp, axis=0)\n",
    "    \n",
    "    \n",
    "    for i in range (0, len(resumes_vectors)):\n",
    "        # print(i)\n",
    "        # dist = model.wmdistance(job_you_pick, resumes_sentences[i])\n",
    "        dist = spatial.distance.cosine(job_vec, resumes_vectors[i])\n",
    "        \n",
    "        \n",
    "        if dist < min_dist:\n",
    "            min_dist = dist\n",
    "            min_index = i\n",
    "        temp_distance.append((dist, i))\n",
    "\n",
    "    #sort list of tuples\n",
    "    temp_distance.sort(key = operator.itemgetter(0))\n",
    "    return temp_distance\n",
    "\n",
    "    "
   ]
  },
  {
   "cell_type": "code",
   "execution_count": null,
   "metadata": {},
   "outputs": [],
   "source": [
    "\n"
   ]
  },
  {
   "cell_type": "code",
   "execution_count": 17,
   "metadata": {},
   "outputs": [],
   "source": [
    "def print_similar_resumes(list_of_similar_resumes):\n",
    "    num_similar = 10 #or 10, 20, 25\n",
    "    print('\\nPrinting {} MOST similar candidates...\\n'.format(num_similar))\n",
    "    for i in range(0,num_similar):\n",
    "        print('\\n#{} most similar job'.format(i+1))\n",
    "        print('Resume ID from list: {}'.format(list_of_similar_resumes[i][1]))\n",
    "        print('Cosine Distance: {}'.format(list_of_similar_resumes[i][0]))\n",
    "        print('Resume ID from df: {}'.format(resumes.iloc[list_of_similar_resumes[i][1]]['ID']))\n",
    "        print('Resume text (500 chars): {}'.format(resumes.iloc[list_of_similar_resumes[i][1]]['resume'][0:500]))\n"
   ]
  },
  {
   "cell_type": "code",
   "execution_count": 18,
   "metadata": {},
   "outputs": [],
   "source": [
    "def print_dissimilar_resumes(list_of_similar_resumes):\n",
    "    \n",
    "    \n",
    "    num_dissimilar = 10 #or 10, 20, 25\n",
    "    print('\\nPrinting {} LEAST similar candidate resumes...\\n'.format(num_dissimilar))\n",
    "    count = 0\n",
    "    for i in range(0, len(list_of_similar_resumes)):\n",
    "        if count == num_dissimilar:\n",
    "            break\n",
    "        if resumes.iloc[list_of_similar_resumes[-(1+i)][1]]['resume'] != 'nan':        \n",
    "            print('\\n#{} least similar candidate'.format(count+1))\n",
    "            print('Candidate ID from list: {}'.format(list_of_similar_resumes[-(1+i)][1]))\n",
    "            print('Cosine Distance: {}'.format(list_of_similar_resumes[-(1+i)][0]))\n",
    "            print('Resume ID from df: {}'.format(resumes.iloc[list_of_similar_resumes[-(1+i)][1]]['ID']))\n",
    "            print('Resume text (500 chars): {}'.format(resumes.iloc[list_of_similar_resumes[-(1+i)][1]]['resume'][:500]))\n",
    "            count +=1\n",
    "        \n",
    "        \n",
    "        "
   ]
  },
  {
   "cell_type": "code",
   "execution_count": null,
   "metadata": {},
   "outputs": [],
   "source": []
  },
  {
   "cell_type": "code",
   "execution_count": null,
   "metadata": {},
   "outputs": [],
   "source": []
  },
  {
   "cell_type": "code",
   "execution_count": null,
   "metadata": {},
   "outputs": [],
   "source": []
  },
  {
   "cell_type": "markdown",
   "metadata": {},
   "source": [
    "# Given a job, find similar candidates"
   ]
  },
  {
   "cell_type": "code",
   "execution_count": null,
   "metadata": {},
   "outputs": [],
   "source": []
  },
  {
   "cell_type": "code",
   "execution_count": 19,
   "metadata": {},
   "outputs": [
    {
     "name": "stdout",
     "output_type": "stream",
     "text": [
      "There are 13124 jobs\n",
      "\n",
      "selected job is ID #9670\n",
      "Job Posting ID is: 9670\n",
      "Job Posting Title: Sales Manager\n",
      "Job Posting Company: Navavan LLC\n",
      "Job Posting Description: Navavan LLC is looking for a Sales Manager who will be\r\n",
      "responsible for the development and performance of all sales activities\r\n",
      "in the assigned market. He/ she will staff and direct a sales team and\r\n",
      "provide leadership towards the achievement of maximum profitability and\r\n",
      "growth in line with company vision and values. The incumbent will be also\r\n",
      "responsible for establishing plans and strategies to expand the customer\r\n",
      "base in the marketing area.\n"
     ]
    }
   ],
   "source": [
    "chosen_job = pick_job()\n",
    "# 5773 data analyst"
   ]
  },
  {
   "cell_type": "code",
   "execution_count": 20,
   "metadata": {
    "scrolled": true
   },
   "outputs": [],
   "source": [
    "ordered_resumes_list = given_job_find_similar_resumes(chosen_job)\n"
   ]
  },
  {
   "cell_type": "code",
   "execution_count": 21,
   "metadata": {},
   "outputs": [],
   "source": [
    "# base_res_model.save('/home/ubuntu/NLP_projects/job_recommender_project/models/fasttext/base_res_ft')"
   ]
  },
  {
   "cell_type": "code",
   "execution_count": 22,
   "metadata": {
    "scrolled": true
   },
   "outputs": [
    {
     "name": "stdout",
     "output_type": "stream",
     "text": [
      "\n",
      "Printing 10 MOST similar candidates...\n",
      "\n",
      "\n",
      "#1 most similar job\n",
      "Resume ID from list: 653\n",
      "Cosine Distance: 0.017587125301361084\n",
      "Resume ID from df: 654\n",
      "Resume text (500 chars): entry level sales associate resume experience richard forman  cherry tree lane seattle wa  xexxf      richard forman email com sales associate customer servicesellingmerchandisingretail operations profile energetic customer centered individual seeking become part winning sales team vivians cosmetics offers extensive training acquired skills sales enhancement management exceed sales targets education mba sales marketing northwest university seattle wa  ba business economics professional college s\n",
      "\n",
      "#2 most similar job\n",
      "Resume ID from list: 102\n",
      "Cosine Distance: 0.021009325981140137\n",
      "Resume ID from df: 103\n",
      "Resume text (500 chars): retail store manager   career profile self motivated retail store leader ten years active experience possess required determination improve performance utmost sense obligation carefulness notable managerial qualities help managing work efficiently achieving stores goals effective communicator decisive delegating talents ability listen organized naturally persuasive desire ability solve problems self starter finisher qualifications  years experience retail sales proven success record  years forme\n",
      "\n",
      "#3 most similar job\n",
      "Resume ID from list: 609\n",
      "Cosine Distance: 0.022594153881072998\n",
      "Resume ID from df: 610\n",
      "Resume text (500 chars): george redmond  sanford drive   andover  gredmondemailcom      h      c sales professional distributor management   regional sales management   marketing advertising top performing sales professional award winning excellence exceeding sales quotas managing training supporting teams driving organizational growth profitability small midsize fortune  companies effective leader communicator negotiator talent handling problem accounts promoting new business expertise bb oem sales distributor networks\n",
      "\n",
      "#4 most similar job\n",
      "Resume ID from list: 645\n",
      "Cosine Distance: 0.02265310287475586\n",
      "Resume ID from df: 646\n",
      "Resume text (500 chars): before  street   hackensack nj     mobile sherlockoptonlinenet john sherlock summary self starting goal oriented sales professional whose extensive experience promoted success high quality company ranked number one sales volume nationally knowledgeable phases client service track record outstanding customer satisfaction proven success establishing maintaining loyal customer base consistently honored exceeding sales service expectations accomplishments nissan sales guild recipient   general motor\n",
      "\n",
      "#5 most similar job\n",
      "Resume ID from list: 606\n",
      "Cosine Distance: 0.023504316806793213\n",
      "Resume ID from df: 607\n",
      "Resume text (500 chars): sales associate supervisor resume richard anderson  west  street carlisle     objective obtain challenging position sales supervisor summary talented sales supervisor strong experience training recruiting developing coaching professional sales representatives exceeds assigned sales goals managing sales efforts communicating interpreting company objectives order increase team sales revenue summary qualifications five years experience sales supervising much proficient handling computer software ap\n",
      "\n",
      "#6 most similar job\n",
      "Resume ID from list: 632\n",
      "Cosine Distance: 0.025846540927886963\n",
      "Resume ID from df: 633\n",
      "Resume text (500 chars): john doe city        emailaddresscom wine spirits sales professional sales professional five years successful sales competitive southern california market established relationships many customers industry leaders within local wine spirits industry proven ability increase product visibility variety sales initiatives excellent closer demonstrated fifteen years sales experience exceptional influencer able identify motivates individuals persuade highly capable analyzing identifying forecasting sales\n",
      "\n",
      "#7 most similar job\n",
      "Resume ID from list: 748\n",
      "Cosine Distance: 0.027391433715820312\n",
      "Resume ID from df: 749\n",
      "Resume text (500 chars): richard vaccarolio  bohning xexxf houston tx  tel    xexxf rvaccarolioaolcom training development profit manager  personnel management project management   sales customer service   business process results oriented professional trainer marketing consultant seeking challenging leadership role fully utilizes creativity strong analytical ability presentation skills expertise providing strategic marketing insight direction process training development automotive industry skilled communicating motiva\n",
      "\n",
      "#8 most similar job\n",
      "Resume ID from list: 648\n",
      "Cosine Distance: 0.030581891536712646\n",
      "Resume ID from df: 649\n",
      "Resume text (500 chars): sales consultant resume template keisha swinson  newark  street miami fl    xxxxxgmailcom professional forte excellent negotiating skills abundant sales experience adept budgeting planning skilled computer software applications excellent analytical skills good team player proficient multitasking professional experience air phone co  till date sales consultanat key responsibilities major tasks included sales promotions products provide training new hires update existing employees ensure detailing\n",
      "\n",
      "#9 most similar job\n",
      "Resume ID from list: 644\n",
      "Cosine Distance: 0.03347498178482056\n",
      "Resume ID from df: 645\n",
      "Resume text (500 chars): andy garcia crestview avenue indianapolis     email objective seeking retail assistant position adidas making exceptional retailing skills ability work customer oriented environment major qualifications    years progressive experience retail arena   special talent allocating resources organizing processes necessary   highly skilled creating appealing customer friendly environment   hands experience supervising sales transactions employee management   depth knowledge merchandizing stocking activi\n",
      "\n",
      "#10 most similar job\n",
      "Resume ID from list: 135\n",
      "Cosine Distance: 0.03366506099700928\n",
      "Resume ID from df: 136\n",
      "Resume text (500 chars): linda rinaldi   cell lrinaldicomcastnet qualifications e  sunset way sacramento ca  highly motivated customer focused professional extensive experience key client development retention skilled creating growing solid customer relationships needs analysis account activity tracking experience experian corp               account manager costa mesa sacramento ca   primary customer contact nations largest collector provider real estate focused public record data industries serviced lending title inves\n"
     ]
    }
   ],
   "source": [
    "print_similar_resumes(ordered_resumes_list)"
   ]
  },
  {
   "cell_type": "code",
   "execution_count": 24,
   "metadata": {
    "scrolled": true
   },
   "outputs": [],
   "source": [
    "#print_dissimilar_resumes(ordered_resumes_list)"
   ]
  },
  {
   "cell_type": "code",
   "execution_count": null,
   "metadata": {},
   "outputs": [],
   "source": []
  },
  {
   "cell_type": "code",
   "execution_count": null,
   "metadata": {},
   "outputs": [],
   "source": []
  },
  {
   "cell_type": "code",
   "execution_count": null,
   "metadata": {},
   "outputs": [],
   "source": []
  },
  {
   "cell_type": "code",
   "execution_count": null,
   "metadata": {},
   "outputs": [],
   "source": []
  },
  {
   "cell_type": "code",
   "execution_count": null,
   "metadata": {},
   "outputs": [],
   "source": []
  },
  {
   "cell_type": "code",
   "execution_count": null,
   "metadata": {},
   "outputs": [],
   "source": []
  },
  {
   "cell_type": "code",
   "execution_count": null,
   "metadata": {},
   "outputs": [],
   "source": []
  },
  {
   "cell_type": "code",
   "execution_count": null,
   "metadata": {},
   "outputs": [],
   "source": []
  },
  {
   "cell_type": "code",
   "execution_count": null,
   "metadata": {},
   "outputs": [],
   "source": []
  },
  {
   "cell_type": "code",
   "execution_count": null,
   "metadata": {},
   "outputs": [],
   "source": []
  },
  {
   "cell_type": "code",
   "execution_count": null,
   "metadata": {},
   "outputs": [],
   "source": []
  },
  {
   "cell_type": "code",
   "execution_count": null,
   "metadata": {},
   "outputs": [],
   "source": []
  },
  {
   "cell_type": "markdown",
   "metadata": {},
   "source": [
    "# Build model to find jobs for a candidate"
   ]
  },
  {
   "cell_type": "code",
   "execution_count": 25,
   "metadata": {},
   "outputs": [],
   "source": [
    "jobs_sentences = jobs['lemmatized_combined'].tolist()"
   ]
  },
  {
   "cell_type": "code",
   "execution_count": 26,
   "metadata": {},
   "outputs": [
    {
     "name": "stdout",
     "output_type": "stream",
     "text": [
      "FastText(vocab=8277, size=100, alpha=0.025)\n"
     ]
    }
   ],
   "source": [
    "base_jobs_model = FT_gensim(\n",
    "    sentences=None,\n",
    "    sg=0, #default to CBOW. if sg=1 then skip-gram\n",
    "    hs=0, #default, if hs=0 & negative =/= 0 then neg. sampling. if hs=1, hierarchical softmax\n",
    "    negative=5, #5 words selected for negative sampling\n",
    "    size=100, #size of vector\n",
    "    alpha=0.025,\n",
    "    min_count=5, # ignore words with fewer than 20 apearances\n",
    "    iter=5,\n",
    "    seed=42,\n",
    "    cbow_mean=1, #uses mean for CBOW. If it =0 then sums CBOW (provided CBOW not SG)\n",
    "    min_n=3, # min length of char n-grams\n",
    "    max_n=6, # max length of char n-grams. If 0 or less than min_n, this turns into W2V\n",
    "    trim_rule=None, #if you had a rule to trim down vocabulary\n",
    "    workers=3 # default\n",
    ")    \n",
    "\n",
    "    \n",
    "# build the vocabulary\n",
    "base_jobs_model.build_vocab(sentences = jobs_sentences)\n",
    "\n",
    "# train the model\n",
    "base_jobs_model.train(\n",
    "    sentences=jobs_sentences,\n",
    "    epochs=base_jobs_model.epochs,\n",
    "    total_examples=base_jobs_model.corpus_count,\n",
    "    total_words=base_jobs_model.corpus_total_words\n",
    ")\n",
    "\n",
    "print(base_jobs_model)"
   ]
  },
  {
   "cell_type": "code",
   "execution_count": 27,
   "metadata": {},
   "outputs": [],
   "source": [
    "base_jobs_model.save('/home/ubuntu/NLP_projects/job_recommender_project/models/fasttext/base_jobs_ft')"
   ]
  },
  {
   "cell_type": "code",
   "execution_count": 28,
   "metadata": {},
   "outputs": [],
   "source": [
    "def vectorize_jobs(model=base_jobs_model):\n",
    "    \"\"\"returns list of document vectors \"\"\"\n",
    "    jobs_vecs = []\n",
    "    for i in range(0, len(jobs_sentences)):\n",
    "        temp_vec = model.wv[jobs_sentences[i]]\n",
    "        one_dim_vec = np.mean(temp_vec, axis=0)\n",
    "        jobs_vecs.append(one_dim_vec)\n",
    "    return jobs_vecs"
   ]
  },
  {
   "cell_type": "code",
   "execution_count": 29,
   "metadata": {},
   "outputs": [],
   "source": [
    "def pick_resume(selection=-999):\n",
    "    print(\"There are {} resumes\".format(resumes.shape[0]))\n",
    "  \n",
    "    if selection == -999:\n",
    "        selection = np.random.randint(1, resumes.shape[0]+1)\n",
    "    \n",
    "    \n",
    "    \n",
    "    print ('\\nselected resume is ID #{}'.format(selection))\n",
    "    \n",
    "    # pick the job text and ID associated with the random int\n",
    "    resume_label = resumes.iloc[selection - 1, resumes.columns.get_loc('ID')] #we could grab ID, but this works for non-indexed labels too\n",
    "    resume_text = resumes.iloc[selection - 1 ]['resume'][:500] \n",
    "    \n",
    "    \n",
    "    print('Resume ID is: {}'.format(resume_label))\n",
    "    print('Resume text is (500 chars): {}'.format(resume_text))\n",
    "    \n",
    "    #Convert the sample document into a list and use the infer_vector method to get a vector representation for it\n",
    "    resume_text_to_process = resumes['lemmatized_resume'][selection - 1]\n",
    "    \n",
    "    return resume_text_to_process\n"
   ]
  },
  {
   "cell_type": "code",
   "execution_count": 30,
   "metadata": {},
   "outputs": [],
   "source": [
    "def given_resume_find_similar_jobs(resume_you_pick, model=base_jobs_model, jobs_vectors = vectorize_jobs()):\n",
    "  \n",
    "    #find all distances between chosen job and each resume\n",
    "    temp_distance = []\n",
    "    min_dist = float(\"inf\")\n",
    "    min_index = float(\"inf\")\n",
    "    \n",
    "    res_temp = model.wv[resume_you_pick]\n",
    "    res_vec = np.mean(res_temp, axis=0)\n",
    "    \n",
    "    for i in range (0, len(jobs_vectors)):\n",
    "        dist = spatial.distance.cosine(res_vec, jobs_vectors[i])\n",
    "#         dist = model.wmdistance(resume_you_pick, jobs_sentences[i])\n",
    "        if dist < min_dist:\n",
    "            min_dist = dist\n",
    "            min_index = i\n",
    "        temp_distance.append((dist, i))\n",
    "\n",
    "\n",
    "                \n",
    "    #sort list of tuples\n",
    "    temp_distance.sort(key = operator.itemgetter(0))\n",
    "\n",
    "    return temp_distance\n",
    "\n",
    "    "
   ]
  },
  {
   "cell_type": "code",
   "execution_count": 31,
   "metadata": {},
   "outputs": [],
   "source": [
    "def print_similar_jobs(list_of_similar_jobs):\n",
    "    \n",
    "    num_similar = 10 #or 10, 20, 25\n",
    "    print('\\nPrinting {} most similar jobs for this candidate...\\n'.format(num_similar))\n",
    "    for i in range(0,num_similar):\n",
    "        print('\\n#{} most similar job'.format(i+1))\n",
    "        print('Job ID from list: {}'.format(list_of_similar_jobs[i][1]))\n",
    "        print('Cosine distance: {}'.format(list_of_similar_jobs[i][0]))\n",
    "        print('Job ID from df: {}'.format(jobs.iloc[list_of_similar_jobs[i][1]]['label']))\n",
    "        print('Job title: {}'.format(jobs.iloc[list_of_similar_jobs[i][1]]['Title']))\n",
    "        print('Company: {}'.format(jobs.iloc[list_of_similar_jobs[i][1]]['Company']))\n",
    "        print('Job Description: {}'.format(jobs.iloc[list_of_similar_jobs[i][1]]['JobDescription']))\n"
   ]
  },
  {
   "cell_type": "code",
   "execution_count": null,
   "metadata": {},
   "outputs": [],
   "source": []
  },
  {
   "cell_type": "code",
   "execution_count": 32,
   "metadata": {},
   "outputs": [],
   "source": [
    "def print_dissimilar_jobs(list_of_similar_jobs):\n",
    "    \n",
    "    num_dissimilar = 10 #or 10, 20, 25\n",
    "    print('\\nPrinting {} LEAST similar jobs for this candidate...\\n'.format(num_dissimilar))\n",
    "    for i in range(0,num_dissimilar):\n",
    "        print('\\n#{} least similar job'.format(i+1))\n",
    "        print('Job ID from list: {}'.format(list_of_similar_jobs[-(1+i)][1]))\n",
    "        print('Cosine Distance: {}'.format(list_of_similar_jobs[-(1+i)][0]))\n",
    "        print('Job ID from df: {}'.format(jobs.iloc[list_of_similar_jobs[-(1+i)][1]]['label']))\n",
    "        print('Job title: {}'.format(jobs.iloc[list_of_similar_jobs[-(1+i)][1]]['Title']))\n",
    "        print('Company: {}'.format(jobs.iloc[list_of_similar_jobs[-(1+i)][1]]['Company']))\n",
    "        print('Job Description: {}'.format(jobs.iloc[list_of_similar_jobs[-(1+i)][1]]['JobDescription']))\n",
    "        \n",
    "        \n",
    "        "
   ]
  },
  {
   "cell_type": "code",
   "execution_count": 33,
   "metadata": {},
   "outputs": [],
   "source": [
    "\n",
    "# jv = vectorize_jobs()"
   ]
  },
  {
   "cell_type": "code",
   "execution_count": 71,
   "metadata": {},
   "outputs": [
    {
     "name": "stdout",
     "output_type": "stream",
     "text": [
      "There are 1219 resumes\n",
      "\n",
      "selected resume is ID #1147\n",
      "Resume ID is: 1147\n",
      "Resume text is (500 chars): tax advisor resume template john depp  cliff ave  san francisco california phone   johnmarvelousgmailcom objective work tax advisor play key role handling tax activities reputable organization summary qualifications possesses extensive knowledge tax laws excellent analytical mathematical skills ability take initiatives work pressure possesses excellent communication interpersonal skills ability solve problems meet timelines effectively ability work team well independently without minimal supervi\n"
     ]
    }
   ],
   "source": [
    "chosen_resume = pick_resume(1147)\n",
    "# 752 sales manager\n",
    "# 719 creative computer visuals\n",
    "# 1147 tax advisor"
   ]
  },
  {
   "cell_type": "code",
   "execution_count": 72,
   "metadata": {},
   "outputs": [],
   "source": [
    "ordered_job_list = given_resume_find_similar_jobs(chosen_resume)"
   ]
  },
  {
   "cell_type": "code",
   "execution_count": 73,
   "metadata": {},
   "outputs": [
    {
     "name": "stdout",
     "output_type": "stream",
     "text": [
      "\n",
      "Printing 10 most similar jobs for this candidate...\n",
      "\n",
      "\n",
      "#1 most similar job\n",
      "Job ID from list: 12333\n",
      "Cosine distance: 0.06628823280334473\n",
      "Job ID from df: 12334\n",
      "Job title: Chief Accountant\n",
      "Company: Asatryans LLC\n",
      "Job Description: The Chief Accountant will maintain and control Clients'\r\n",
      "current accounting and tax services.\n",
      "\n",
      "#2 most similar job\n",
      "Job ID from list: 8715\n",
      "Cosine distance: 0.07574671506881714\n",
      "Job ID from df: 8716\n",
      "Job title: Tax Manager - Financial Department\n",
      "Company: Ameriabank CJSC\n",
      "Job Description: Ameriabank CJSC is looking for a Tax Manager to be\r\n",
      "responsible for tax and financial accounting, maintenance of tax\r\n",
      "methodology and tax planning.\n",
      "\n",
      "#3 most similar job\n",
      "Job ID from list: 9119\n",
      "Cosine distance: 0.08209353685379028\n",
      "Job ID from df: 9120\n",
      "Job title: Tax Officer\n",
      "Company: \"FINCA\" Universal Credit Organization\n",
      "Job Description: The incumbent will be responsible for all tax issues\r\n",
      "and work at the Finance Department.\n",
      "\n",
      "#4 most similar job\n",
      "Job ID from list: 1053\n",
      "Cosine distance: 0.0839490294456482\n",
      "Job ID from df: 1054\n",
      "Job title: Tax Assistant\n",
      "Company: KPMG Armenia\n",
      "Job Description: The position holder will be viewed as a person\r\n",
      "accountable for completion of the assignments in a timely and\r\n",
      "operationally effective manner.\n",
      "\n",
      "#5 most similar job\n",
      "Job ID from list: 12546\n",
      "Cosine distance: 0.08440124988555908\n",
      "Job ID from df: 12547\n",
      "Job title: Tax and Regulatory Reporting Manager\n",
      "Company: HSBC Bank Armenia CJSC\n",
      "Job Description: The incumbent will check a monthly report on tax, the\r\n",
      "income completion of annual return on the profit tax by reviewing all\r\n",
      "cost lines and related backups. He/ she will also be responsible for the\r\n",
      "tax control via implementation of tax reconciliations, assurance checks,\r\n",
      "periodic reviews.\n",
      "\n",
      "#6 most similar job\n",
      "Job ID from list: 12547\n",
      "Cosine distance: 0.08440124988555908\n",
      "Job ID from df: 12548\n",
      "Job title: Tax and Regulatory Reporting Manager\n",
      "Company: HSBC Bank Armenia CJSC\n",
      "Job Description: The incumbent will check a monthly report on tax, the\r\n",
      "income completion of annual return on the profit tax by reviewing all\r\n",
      "cost lines and related backups. He/ she will also be responsible for the\r\n",
      "tax control via implementation of tax reconciliations, assurance checks,\r\n",
      "periodic reviews.\n",
      "\n",
      "#7 most similar job\n",
      "Job ID from list: 11281\n",
      "Cosine distance: 0.08780562877655029\n",
      "Job ID from df: 11282\n",
      "Job title: Tax Officer\n",
      "Company: \"Finca\" UCO CJSC\n",
      "Job Description: The incumbent will be responsible for all tax issues\r\n",
      "and will work at the Finance Department.\n",
      "\n",
      "#8 most similar job\n",
      "Job ID from list: 9561\n",
      "Cosine distance: 0.08802473545074463\n",
      "Job ID from df: 9562\n",
      "Job title: Financial Control Analyst\n",
      "Company: HSBC Bank Armenia CJSC\n",
      "Job Description: The job holder is responsible for provision of\r\n",
      "accounting and tax opinion and advice on Bank??s suppliers?? payments,\r\n",
      "contracts, IGSAs, PLAs and etc.  Reconciliation of General Ledger\r\n",
      "accounts including (Nostro, Suspense and Custody accounts); Regular\r\n",
      "analysis of Bank??s various expenses. Provision of tax advice for new\r\n",
      "products, projects; CBA Reporting team assistance in CB reports\r\n",
      "preparation.\n",
      "\n",
      "#9 most similar job\n",
      "Job ID from list: 9053\n",
      "Cosine distance: 0.08889567852020264\n",
      "Job ID from df: 9054\n",
      "Job title: Deputy Chief Accountant\n",
      "Company: Ameriabank CJSC\n",
      "Job Description: The incumbent will be responsible for the arrangement\r\n",
      "and management of accounting and reporting processes.\n",
      "\n",
      "#10 most similar job\n",
      "Job ID from list: 3185\n",
      "Cosine distance: 0.09029042720794678\n",
      "Job ID from df: 3186\n",
      "Job title: Senior Specialist of Financial Monitoring Service\n",
      "Company: Armimpexbank\n",
      "Job Description: The Financial Monitoring Service and its employees\r\n",
      "have a responsibility to take adequate measures to prevent terrorism\r\n",
      "financing and money laundering.\n"
     ]
    }
   ],
   "source": [
    "print_similar_jobs(ordered_job_list)"
   ]
  },
  {
   "cell_type": "code",
   "execution_count": 63,
   "metadata": {
    "scrolled": false
   },
   "outputs": [
    {
     "name": "stdout",
     "output_type": "stream",
     "text": [
      "\n",
      "Printing 10 LEAST similar jobs for this candidate...\n",
      "\n",
      "\n",
      "#1 least similar job\n",
      "Job ID from list: 1682\n",
      "Cosine Distance: 1.0440135300159454\n",
      "Job ID from df: 1683\n",
      "Job title: Cleaning Staff\n",
      "Company: Partner Organization of Career Center\n",
      "Job Description: The recruitment division of Career Center is looking\r\n",
      "for several candidates to work as cleaning staff at a shop in Yerevan\r\n",
      "city center. The cleaning staff will work 6 days a week, one day from\r\n",
      "10:00 - 20:00 and another day either from 10:00-13:00 or 13:00-20:00.\n",
      "\n",
      "#2 least similar job\n",
      "Job ID from list: 971\n",
      "Cosine Distance: 0.9858560198917985\n",
      "Job ID from df: 972\n",
      "Job title: Receptionist\n",
      "Company: Golden Palace Hotel\n",
      "Job Description: Golden Palace Hotel is looking for a Receptionist to\r\n",
      "work in night hours.\n",
      "\n",
      "#3 least similar job\n",
      "Job ID from list: 7815\n",
      "Cosine Distance: 0.9577327258884907\n",
      "Job ID from df: 7816\n",
      "Job title: Cashier\n",
      "Company: Ameriabank CJSC\n",
      "Job Description: The incumbent will be responsible for execution of cash\r\n",
      "and non-cash transactions.\n",
      "\n",
      "#4 least similar job\n",
      "Job ID from list: 12634\n",
      "Cosine Distance: 0.9499883577227592\n",
      "Job ID from df: 12635\n",
      "Job title: Cashier, Financial Department\n",
      "Company: \"Ameriabank\" CJSC\n",
      "Job Description: The incumbent will be responsible for execution of cash\r\n",
      "and non-cash transactions.\n",
      "\n",
      "#5 least similar job\n",
      "Job ID from list: 2638\n",
      "Cosine Distance: 0.9464301690459251\n",
      "Job ID from df: 2639\n",
      "Job title: Teller\n",
      "Company: FINCA UCO CJSC\n",
      "Job Description: FINCA UCO is seeking a teller who will perform duties\r\n",
      "under the supervision of the Senior Teller.\n",
      "\n",
      "#6 least similar job\n",
      "Job ID from list: 2415\n",
      "Cosine Distance: 0.9464301690459251\n",
      "Job ID from df: 2416\n",
      "Job title: Teller\n",
      "Company: FINCA UCO CJSC\n",
      "Job Description: FINCA UCO is seeking a teller who will perform duties\r\n",
      "under the supervision of the Senior Teller.\n",
      "\n",
      "#7 least similar job\n",
      "Job ID from list: 1792\n",
      "Cosine Distance: 0.9283775389194489\n",
      "Job ID from df: 1793\n",
      "Job title: Cashier\n",
      "Company: Aregak Universal Credit Organization CJSC\n",
      "Job Description: Head Office Cashier is responsible for handling cash,\r\n",
      "receiving cash from bank(s), disbursing to the appropriate payee on\r\n",
      "approved payment document(s), maintaining cash books and reconciling the\r\n",
      "physical cash with book balance.\n",
      "\n",
      "#8 least similar job\n",
      "Job ID from list: 3640\n",
      "Cosine Distance: 0.9272812381386757\n",
      "Job ID from df: 3641\n",
      "Job title: Senior Cashier\n",
      "Company: Ameriabank CJSC Stepanakert Branch\n",
      "Job Description: Ameriabank CJSC is seeking a specialist to fill the\r\n",
      "position of Senior Cashier in the branch office located at Stepanakert.\r\n",
      "The incumbent will be responsible for implementation and supervision of\r\n",
      "cash operations.\n",
      "\n",
      "#9 least similar job\n",
      "Job ID from list: 7951\n",
      "Cosine Distance: 0.9269112199544907\n",
      "Job ID from df: 7952\n",
      "Job title: Senior Cashier/ Head of Cash Hub - Sayat Nova Branch\n",
      "Company: Ameriabank CJSC\n",
      "Job Description: The incumbent will be responsible for the vault\r\n",
      "operations.\n",
      "\n",
      "#10 least similar job\n",
      "Job ID from list: 243\n",
      "Cosine Distance: 0.9251456707715988\n",
      "Job ID from df: 244\n",
      "Job title: Chief Cook\n",
      "Company: Club-restaurante\n",
      "Job Description: Committed person, to fulfil the position of Chief Cook\n"
     ]
    }
   ],
   "source": [
    "print_dissimilar_jobs(ordered_job_list)"
   ]
  },
  {
   "cell_type": "code",
   "execution_count": null,
   "metadata": {},
   "outputs": [],
   "source": []
  },
  {
   "cell_type": "code",
   "execution_count": null,
   "metadata": {},
   "outputs": [],
   "source": []
  },
  {
   "cell_type": "code",
   "execution_count": null,
   "metadata": {},
   "outputs": [],
   "source": []
  },
  {
   "cell_type": "code",
   "execution_count": null,
   "metadata": {},
   "outputs": [],
   "source": []
  },
  {
   "cell_type": "code",
   "execution_count": null,
   "metadata": {},
   "outputs": [],
   "source": []
  },
  {
   "cell_type": "code",
   "execution_count": null,
   "metadata": {},
   "outputs": [],
   "source": []
  }
 ],
 "metadata": {
  "kernelspec": {
   "display_name": "Python 3",
   "language": "python",
   "name": "python3"
  },
  "language_info": {
   "codemirror_mode": {
    "name": "ipython",
    "version": 3
   },
   "file_extension": ".py",
   "mimetype": "text/x-python",
   "name": "python",
   "nbconvert_exporter": "python",
   "pygments_lexer": "ipython3",
   "version": "3.7.6"
  }
 },
 "nbformat": 4,
 "nbformat_minor": 4
}
