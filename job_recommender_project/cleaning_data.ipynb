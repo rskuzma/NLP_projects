{
 "cells": [
  {
   "cell_type": "markdown",
   "metadata": {},
   "source": [
    "## Cleaning Resume and Job Posts Data for use by Job Recommender System "
   ]
  },
  {
   "cell_type": "markdown",
   "metadata": {},
   "source": [
    "### Datasets\n",
    "* https://www.kaggle.com/maitrip/resumes; 1219 resumes; ID, category, text description\n",
    "* https://www.kaggle.com/samdeeplearning/deepnlp; 125 resumes; may drop this one\n",
    "* https://www.kaggle.com/madhab/jobposts/data; 19,000 job posts from 2004-2015.\n",
    "\n",
    "\n"
   ]
  },
  {
   "cell_type": "markdown",
   "metadata": {},
   "source": [
    "Imports"
   ]
  },
  {
   "cell_type": "code",
   "execution_count": 1,
   "metadata": {},
   "outputs": [],
   "source": [
    "import pandas as pd\n",
    "import numpy as np\n",
    "import seaborn as sns\n",
    "import re\n",
    "import nltk\n",
    "import spacy\n",
    "import string"
   ]
  },
  {
   "cell_type": "code",
   "execution_count": null,
   "metadata": {},
   "outputs": [],
   "source": []
  },
  {
   "cell_type": "markdown",
   "metadata": {},
   "source": [
    "First, start with resume dataset"
   ]
  },
  {
   "cell_type": "code",
   "execution_count": 2,
   "metadata": {},
   "outputs": [],
   "source": [
    "resume_path = '/Users/richardkuzma/coding/NLP_projects/job_recommender_project/data/resume_dataset_maitrip.csv'"
   ]
  },
  {
   "cell_type": "code",
   "execution_count": 55,
   "metadata": {},
   "outputs": [
    {
     "data": {
      "text/html": [
       "<div>\n",
       "<style scoped>\n",
       "    .dataframe tbody tr th:only-of-type {\n",
       "        vertical-align: middle;\n",
       "    }\n",
       "\n",
       "    .dataframe tbody tr th {\n",
       "        vertical-align: top;\n",
       "    }\n",
       "\n",
       "    .dataframe thead th {\n",
       "        text-align: right;\n",
       "    }\n",
       "</style>\n",
       "<table border=\"1\" class=\"dataframe\">\n",
       "  <thead>\n",
       "    <tr style=\"text-align: right;\">\n",
       "      <th></th>\n",
       "      <th>ID</th>\n",
       "      <th>Category</th>\n",
       "      <th>Resume</th>\n",
       "    </tr>\n",
       "  </thead>\n",
       "  <tbody>\n",
       "    <tr>\n",
       "      <th>0</th>\n",
       "      <td>1</td>\n",
       "      <td>HR</td>\n",
       "      <td>b'John H. Smith, P.H.R.\\n800-991-5187 | PO Box...</td>\n",
       "    </tr>\n",
       "    <tr>\n",
       "      <th>1</th>\n",
       "      <td>2</td>\n",
       "      <td>HR</td>\n",
       "      <td>b'Name Surname\\nAddress\\nMobile No/Email\\nPERS...</td>\n",
       "    </tr>\n",
       "    <tr>\n",
       "      <th>2</th>\n",
       "      <td>3</td>\n",
       "      <td>HR</td>\n",
       "      <td>b'Anthony Brown\\nHR Assistant\\nAREAS OF EXPERT...</td>\n",
       "    </tr>\n",
       "    <tr>\n",
       "      <th>3</th>\n",
       "      <td>4</td>\n",
       "      <td>HR</td>\n",
       "      <td>b'www.downloadmela.com\\nSatheesh\\nEMAIL ID:\\nC...</td>\n",
       "    </tr>\n",
       "    <tr>\n",
       "      <th>4</th>\n",
       "      <td>5</td>\n",
       "      <td>HR</td>\n",
       "      <td>b\"HUMAN RESOURCES DIRECTOR\\n\\xef\\x82\\xb7Expert...</td>\n",
       "    </tr>\n",
       "  </tbody>\n",
       "</table>\n",
       "</div>"
      ],
      "text/plain": [
       "   ID Category                                             Resume\n",
       "0   1       HR  b'John H. Smith, P.H.R.\\n800-991-5187 | PO Box...\n",
       "1   2       HR  b'Name Surname\\nAddress\\nMobile No/Email\\nPERS...\n",
       "2   3       HR  b'Anthony Brown\\nHR Assistant\\nAREAS OF EXPERT...\n",
       "3   4       HR  b'www.downloadmela.com\\nSatheesh\\nEMAIL ID:\\nC...\n",
       "4   5       HR  b\"HUMAN RESOURCES DIRECTOR\\n\\xef\\x82\\xb7Expert..."
      ]
     },
     "execution_count": 55,
     "metadata": {},
     "output_type": "execute_result"
    }
   ],
   "source": [
    "df = pd.read_csv(resume_path)\n",
    "df.head()"
   ]
  },
  {
   "cell_type": "code",
   "execution_count": 21,
   "metadata": {},
   "outputs": [
    {
     "data": {
      "text/plain": [
       "\"b'John H. Smith, P.H.R.\\\\n800-991-5187 | PO Box 1673 | Callahan, FL 32011 | info@greatresumesfast.com\\\\n\\\\nApproachable innovator with a passion for Human Resources.\\\\n\\\\nSENIOR HUMAN RESOURCES PROFESSIONAL\\\\nPersonable, analytical, flexible Senior HR Professional with multifaceted expertise. Seasoned Benefits Administrator with\\\\nextensive experience working with highly paid professionals in client-relationship-based settings. Dynamic team leader\\\\ncapable of analyzing alternatives and identifying tough choices while communicating the total value of benefit and\\\\ncompensation packages to senior level executives and employees.\\\\n\\\\nCORE COMPETENCIES\\\\nBenefits Administration \\\\xe2\\\\x80\\\\x93 Customer Service \\\\xe2\\\\x80\\\\x93 Cost Control \\\\xe2\\\\x80\\\\x93 Recruiting \\\\xe2\\\\x80\\\\x93 Acquisition Management \\\\xe2\\\\x80\\\\x93 Compliance Reporting\\\\nRetention \\\\xe2\\\\x80\\\\x93 Professional Services \\\\xe2\\\\x80\\\\x93 Domestic & International Benefits \\\\xe2\\\\x80\\\\x93 Collaboration \\\\xe2\\\\x80\\\\x93 Adaptability \\\\xe2\\\\x80\\\\x93 Change Management\\\\nDefined Contribution Plans \\\\xe2\\\\x80\\\\x93 Auditing \\\\xe2\\\\x80\\\\x93 Negotiation \\\\xe2\\\\x80\\\\x93 Corporate HR Policies \\\\xe2\\\\x80\\\\x93 Full Lifecycle Training \\\\xe2\\\\x80\\\\x93 401(k) \\\\xe2\\\\x80\\\\x93 Form 5500\\\\nConfidential Files \\\\xe2\\\\x80\\\\x93 EEO-1 \\\\xe2\\\\x80\\\\x93 AAP \\\\xe2\\\\x80\\\\x93 FMLA \\\\xe2\\\\x80\\\\x93 STD \\\\xe2\\\\x80\\\\x93 LTD \\\\xe2\\\\x80\\\\x93 H1-B Visa \\\\xe2\\\\x80\\\\x93 Vets 100 \\\\xe2\\\\x80\\\\x93 EAP \\\\xe2\\\\x80\\\\x93 Processing Payroll\\\\n\\\\nHR TECHNOLOGY\\\\n\\\\nHRIS Data Management & Auditing \\\\xe2\\\\x80\\\\x93 Ultipro Back Office \\\\xe2\\\\x80\\\\x93 Ultipro Web Connect\\\\nDeltek Costpoint \\\\xe2\\\\x80\\\\x93 Deltek GCS Premiere \\\\xe2\\\\x80\\\\x93 Cognos \\\\xe2\\\\x80\\\\x93 ADP\\\\n\\\\nProfessional Experience\\\\nHUMAN SERVICES, INC. \\\\xe2\\\\x80\\\\x93 Tampa, FL\\\\n\\\\n2010\\\\xe2\\\\x80\\\\x93Present\\\\n\\\\nProviding institutional behavioral health and medical management contracting services | 2,500 employees\\\\n\\\\nBenefits Manager\\\\nManage and administer a robust $13M health and welfare program; administer benefits programs for two smaller\\\\nminority business enterprise clients. Deliver excellence in client services, leveraging interpersonal skills to establish\\\\nrapport with team members. Perform cost analysis, gather claims data, coordinate enrollment and more for a large selffunded medical plan plus two smaller fully-insured plans. Analyze data and projections to create forecasts in narrative\\\\nand graph format; clearly and succinctly communicate trends to senior management in meetings. Directly supervise\\\\nstaff of 3: HR Admin, plus two Human Resource specialists.\\\\n\\\\xef\\\\x81\\\\xb3 Lead Healthcare Reform change management process, analyzing changes, developing strategic plans, and\\\\n\\\\ntimeline for crucial decisions ahead of 2014 deadlines. Communicate early changes in dependent coverage,\\\\npreventive care, and lifetime maximum benefits to employees.\\\\n\\\\n\\\\xef\\\\x81\\\\xb3 Identified, researched, and implemented HSA (Healthcare Savings Account) health insurance option for high-\\\\n\\\\ndeductible health insurance plan to provide tax-sheltered benefits for physicians and other high-income, highprofile professionals.\\\\n\\\\n\\\\xef\\\\x81\\\\xb3 Saved $30K annually by restructuring the open enrollment strategy, leveraging existing human capital and HR\\\\n\\\\nbusiness partners to achieve better communication at lower cost.\\\\n\\\\n\\\\xef\\\\x81\\\\xb3 Quickly establish rapport with employees; balance client-relationship needs with organizational goals, cost\\\\n\\\\ncontrols, and compliance requirements to create a positive work environment.\\\\n\\\\n\\\\xef\\\\x81\\\\xb3 Maximize employee recruiting and retention by implementing competitive benefits packages and clearly\\\\n\\\\ncommunicating their value to team members.\\\\n\\\\n\\\\xef\\\\x81\\\\xb3 Reduced costs $20K per year by collaborating closely with legal department to create an in-house total comp\\\\n\\\\nstatement including implications for taxes and social security; produced a better-quality analysis at lower costs.\\\\n\\\\n\\\\x0cJohn H. Smith, P.H.R. \\\\xe2\\\\x80\\\\x93 PAGE 2\\\\n\\\\n800-991-5187|info@greatresumesfast.com\\\\n\\\\nApproachable innovator with a passion for Human Resources.\\\\nHUMAN MANAGEMENT INC. \\\\xe2\\\\x80\\\\x93 Atlanta, GA\\\\n\\\\n2008\\\\xe2\\\\x80\\\\x932010\\\\n\\\\nNonprofit government consulting firm | 1,200 domestic and international employees\\\\n\\\\nSenior Human Resources Generalist\\\\nPerformed diverse Human Resources functions: administered benefits, led special projects, updated policies,\\\\ncollaborated on EEO-1, Vets 100, and Affirmative Action Plan (AAP) reporting. Revamped orientation and training\\\\nprograms for newly hired employees to include comprehensive information delivered in more-personal formats:\\\\nteleconferences, small group meetings, tours, and one-on-one conversations, with follow-up phone calls. Supervised HR\\\\nAssistant and up to 3 temporary Human Resource specialists handling high volume of work during peak periods such as\\\\nopen enrollment and company merger.\\\\n\\\\xef\\\\x81\\\\xb3 Led change management process that seamlessly integrated benefits, compensation, retirement plans, and\\\\n\\\\nlogistics for newly acquired company with 60+ employees; prepared all-encompassing reports on total\\\\ncompensation plans.\\\\n\\\\n\\\\xef\\\\x81\\\\xb3 Developed webinars and personal meetings to communicate value of benefits to employees despite reductions\\\\n\\\\nduring an economic recession; maintained employee retention and job satisfaction rankings despite cutbacks.\\\\n\\\\n\\\\xef\\\\x81\\\\xb3 Reduced overall benefit costs 10% including a decrease in STD benefits from 100% to 75% of base\\\\n\\\\ncompensation without significant increase in employee turnover.\\\\n\\\\n\\\\xef\\\\x81\\\\xb3 Researched and procured benefits for government contractors traveling to hazardous areas including Kidnap &\\\\n\\\\nRansom (K&R), increased life insurance, and travel insurance.\\\\n\\\\n\\\\xef\\\\x81\\\\xb3 Identified and implemented medical and dental benefit plans to ensure comparable compensation for\\\\n\\\\ninternational employees worldwide.\\\\n\\\\n\\\\xef\\\\x81\\\\xb3 Managed diverse retirement plans including defined contribution 403(b), 401(a), and executive 457(b) plans.\\\\n\\\\nABC CORPORATION \\\\xe2\\\\x80\\\\x93 New York, NY\\\\n\\\\n2007\\\\xe2\\\\x80\\\\x932008\\\\n\\\\nEngineering and Construction consulting | 500 international and domestic employees\\\\nSenior Human Resources Generalist\\\\nACME, INC. \\\\xe2\\\\x80\\\\x93 Washington, D.C.\\\\n\\\\n2004\\\\xe2\\\\x80\\\\x932006\\\\n\\\\nProfessional services consulting firm | 300 employees\\\\nHR Generalist / Benefits Specialist\\\\n\\\\nHUMAN RESOURCE CORPORATION \\\\xe2\\\\x80\\\\x93 Tampa, FL\\\\nIT & environmental management consulting firm | 300 employees\\\\nHuman Resources Assistant\\\\n\\\\nEducation, Certification, & Affiliation\\\\nBachelor of Science in Psychology, 2002\\\\nCOMMUNITY COLLEGE\\\\nProfessional in Human Resources (PHR) Certificate, 2010\\\\nEmployee Benefit Specialist (CEBS), Certification Pending\\\\nMember SHRM \\\\xe2\\\\x80\\\\x93 Society for Human Resource Management\\\\n\\\\n2002\\\\xe2\\\\x80\\\\x932004'\""
      ]
     },
     "execution_count": 21,
     "metadata": {},
     "output_type": "execute_result"
    }
   ],
   "source": [
    "#what does one resume look like\n",
    "df.Resume[0]"
   ]
  },
  {
   "cell_type": "markdown",
   "metadata": {},
   "source": [
    "<br>\n",
    "<br>\n",
    "<br>\n",
    "<br>\n",
    "<br>\n",
    "<br>\n",
    "<br>\n",
    "<br>\n",
    "<br>\n",
    "<br>\n",
    "<br>\n",
    "<br>\n",
    "\n",
    "## Text Preprocessing"
   ]
  },
  {
   "cell_type": "markdown",
   "metadata": {},
   "source": [
    "https://www.kaggle.com/sudalairajkumar/getting-started-with-text-preprocessing"
   ]
  },
  {
   "cell_type": "code",
   "execution_count": 56,
   "metadata": {},
   "outputs": [
    {
     "data": {
      "text/html": [
       "<div>\n",
       "<style scoped>\n",
       "    .dataframe tbody tr th:only-of-type {\n",
       "        vertical-align: middle;\n",
       "    }\n",
       "\n",
       "    .dataframe tbody tr th {\n",
       "        vertical-align: top;\n",
       "    }\n",
       "\n",
       "    .dataframe thead th {\n",
       "        text-align: right;\n",
       "    }\n",
       "</style>\n",
       "<table border=\"1\" class=\"dataframe\">\n",
       "  <thead>\n",
       "    <tr style=\"text-align: right;\">\n",
       "      <th></th>\n",
       "      <th>ID</th>\n",
       "      <th>Category</th>\n",
       "      <th>resume</th>\n",
       "    </tr>\n",
       "  </thead>\n",
       "  <tbody>\n",
       "    <tr>\n",
       "      <th>0</th>\n",
       "      <td>1</td>\n",
       "      <td>HR</td>\n",
       "      <td>b'John H. Smith, P.H.R.\\n800-991-5187 | PO Box...</td>\n",
       "    </tr>\n",
       "    <tr>\n",
       "      <th>1</th>\n",
       "      <td>2</td>\n",
       "      <td>HR</td>\n",
       "      <td>b'Name Surname\\nAddress\\nMobile No/Email\\nPERS...</td>\n",
       "    </tr>\n",
       "    <tr>\n",
       "      <th>2</th>\n",
       "      <td>3</td>\n",
       "      <td>HR</td>\n",
       "      <td>b'Anthony Brown\\nHR Assistant\\nAREAS OF EXPERT...</td>\n",
       "    </tr>\n",
       "    <tr>\n",
       "      <th>3</th>\n",
       "      <td>4</td>\n",
       "      <td>HR</td>\n",
       "      <td>b'www.downloadmela.com\\nSatheesh\\nEMAIL ID:\\nC...</td>\n",
       "    </tr>\n",
       "    <tr>\n",
       "      <th>4</th>\n",
       "      <td>5</td>\n",
       "      <td>HR</td>\n",
       "      <td>b\"HUMAN RESOURCES DIRECTOR\\n\\xef\\x82\\xb7Expert...</td>\n",
       "    </tr>\n",
       "  </tbody>\n",
       "</table>\n",
       "</div>"
      ],
      "text/plain": [
       "   ID Category                                             resume\n",
       "0   1       HR  b'John H. Smith, P.H.R.\\n800-991-5187 | PO Box...\n",
       "1   2       HR  b'Name Surname\\nAddress\\nMobile No/Email\\nPERS...\n",
       "2   3       HR  b'Anthony Brown\\nHR Assistant\\nAREAS OF EXPERT...\n",
       "3   4       HR  b'www.downloadmela.com\\nSatheesh\\nEMAIL ID:\\nC...\n",
       "4   5       HR  b\"HUMAN RESOURCES DIRECTOR\\n\\xef\\x82\\xb7Expert..."
      ]
     },
     "execution_count": 56,
     "metadata": {},
     "output_type": "execute_result"
    }
   ],
   "source": [
    "df[\"resume\"] = df[\"Resume\"]\n",
    "df.drop([\"Resume\"], axis=1, inplace=True)\n",
    "df.head()"
   ]
  },
  {
   "cell_type": "code",
   "execution_count": 23,
   "metadata": {},
   "outputs": [
    {
     "data": {
      "text/html": [
       "<div>\n",
       "<style scoped>\n",
       "    .dataframe tbody tr th:only-of-type {\n",
       "        vertical-align: middle;\n",
       "    }\n",
       "\n",
       "    .dataframe tbody tr th {\n",
       "        vertical-align: top;\n",
       "    }\n",
       "\n",
       "    .dataframe thead th {\n",
       "        text-align: right;\n",
       "    }\n",
       "</style>\n",
       "<table border=\"1\" class=\"dataframe\">\n",
       "  <thead>\n",
       "    <tr style=\"text-align: right;\">\n",
       "      <th></th>\n",
       "      <th>ID</th>\n",
       "      <th>Category</th>\n",
       "      <th>resume</th>\n",
       "    </tr>\n",
       "  </thead>\n",
       "  <tbody>\n",
       "    <tr>\n",
       "      <th>0</th>\n",
       "      <td>1</td>\n",
       "      <td>HR</td>\n",
       "      <td>b'John H. Smith, P.H.R.\\n800-991-5187 | PO Box...</td>\n",
       "    </tr>\n",
       "    <tr>\n",
       "      <th>1</th>\n",
       "      <td>2</td>\n",
       "      <td>HR</td>\n",
       "      <td>b'Name Surname\\nAddress\\nMobile No/Email\\nPERS...</td>\n",
       "    </tr>\n",
       "    <tr>\n",
       "      <th>2</th>\n",
       "      <td>3</td>\n",
       "      <td>HR</td>\n",
       "      <td>b'Anthony Brown\\nHR Assistant\\nAREAS OF EXPERT...</td>\n",
       "    </tr>\n",
       "    <tr>\n",
       "      <th>3</th>\n",
       "      <td>4</td>\n",
       "      <td>HR</td>\n",
       "      <td>b'www.downloadmela.com\\nSatheesh\\nEMAIL ID:\\nC...</td>\n",
       "    </tr>\n",
       "    <tr>\n",
       "      <th>4</th>\n",
       "      <td>5</td>\n",
       "      <td>HR</td>\n",
       "      <td>b\"HUMAN RESOURCES DIRECTOR\\n\\xef\\x82\\xb7Expert...</td>\n",
       "    </tr>\n",
       "  </tbody>\n",
       "</table>\n",
       "</div>"
      ],
      "text/plain": [
       "   ID Category                                             resume\n",
       "0   1       HR  b'John H. Smith, P.H.R.\\n800-991-5187 | PO Box...\n",
       "1   2       HR  b'Name Surname\\nAddress\\nMobile No/Email\\nPERS...\n",
       "2   3       HR  b'Anthony Brown\\nHR Assistant\\nAREAS OF EXPERT...\n",
       "3   4       HR  b'www.downloadmela.com\\nSatheesh\\nEMAIL ID:\\nC...\n",
       "4   5       HR  b\"HUMAN RESOURCES DIRECTOR\\n\\xef\\x82\\xb7Expert..."
      ]
     },
     "execution_count": 23,
     "metadata": {},
     "output_type": "execute_result"
    }
   ],
   "source": [
    "df.head()"
   ]
  },
  {
   "cell_type": "code",
   "execution_count": 54,
   "metadata": {},
   "outputs": [],
   "source": [
    "#remove unicode\n",
    "def unicodetoascii(text):\n",
    "\n",
    "    TEXT = (text.\n",
    "    \t\treplace('\\\\xe2\\\\x80\\\\x99', \"'\").\n",
    "            replace('\\\\xc3\\\\xa9', 'e').\n",
    "            replace('\\\\xe2\\\\x80\\\\x90', '-').\n",
    "            replace('\\\\xe2\\\\x80\\\\x91', '-').\n",
    "            replace('\\\\xe2\\\\x80\\\\x92', '-').\n",
    "            replace('\\\\xe2\\\\x80\\\\x93', '-').\n",
    "            replace('\\\\xe2\\\\x80\\\\x94', '-').\n",
    "            replace('\\\\xe2\\\\x80\\\\x94', '-').\n",
    "            replace('\\\\xe2\\\\x80\\\\x98', \"'\").\n",
    "            replace('\\\\xe2\\\\x80\\\\x9b', \"'\").\n",
    "            replace('\\\\xe2\\\\x80\\\\x9c', '\"').\n",
    "            replace('\\\\xe2\\\\x80\\\\x9c', '\"').\n",
    "            replace('\\\\xe2\\\\x80\\\\x9d', '\"').\n",
    "            replace('\\\\xe2\\\\x80\\\\x9e', '\"').\n",
    "            replace('\\\\xe2\\\\x80\\\\x9f', '\"').\n",
    "            replace('\\\\xe2\\\\x80\\\\xa6', '...').\n",
    "            replace('\\\\xe2\\\\x80\\\\xb2', \"'\").\n",
    "            replace('\\\\xe2\\\\x80\\\\xb3', \"'\").\n",
    "            replace('\\\\xe2\\\\x80\\\\xb4', \"'\").\n",
    "            replace('\\\\xe2\\\\x80\\\\xb5', \"'\").\n",
    "            replace('\\\\xe2\\\\x80\\\\xb6', \"'\").\n",
    "            replace('\\\\xe2\\\\x80\\\\xb7', \"'\").\n",
    "            replace('\\\\xe2\\\\x81\\\\xba', \"+\").\n",
    "            replace('\\\\xe2\\\\x81\\\\xbb', \"-\").\n",
    "            replace('\\\\xe2\\\\x81\\\\xbc', \"=\").\n",
    "            replace('\\\\xe2\\\\x81\\\\xbd', \"(\").\n",
    "            replace('\\\\xe2\\\\x81\\\\xbe', \")\").replace('\\\\xef\\\\x81\\\\xb3', \"\").replace('\\\\n', ' ')\n",
    "             )[1:]\n",
    "    return TEXT"
   ]
  },
  {
   "cell_type": "code",
   "execution_count": 25,
   "metadata": {},
   "outputs": [],
   "source": [
    "#remove punctuation\n",
    "PUNCT_TO_REMOVE = string.punctuation\n",
    "def remove_punctuation(text):\n",
    "    \"\"\"custom function to remove the punctuation\"\"\"\n",
    "    return text.translate(str.maketrans('', '', PUNCT_TO_REMOVE))"
   ]
  },
  {
   "cell_type": "code",
   "execution_count": 26,
   "metadata": {},
   "outputs": [],
   "source": [
    "#remove stopwords\n",
    "from nltk.corpus import stopwords\n",
    "STOPWORDS = set(stopwords.words('english'))\n",
    "def remove_stopwords(text):\n",
    "    \"\"\"custom function to remove the stopwords\"\"\"\n",
    "    return \" \".join([word for word in str(text).split() if word not in STOPWORDS])\n"
   ]
  },
  {
   "cell_type": "code",
   "execution_count": 28,
   "metadata": {},
   "outputs": [],
   "source": [
    "#remove URLs\n",
    "def remove_urls(text):\n",
    "    url_pattern = re.compile(r'https?://\\S+|www\\.\\S+')\n",
    "    return url_pattern.sub(r'', text)"
   ]
  },
  {
   "cell_type": "code",
   "execution_count": 29,
   "metadata": {},
   "outputs": [],
   "source": [
    "#remove HTML\n",
    "def remove_html(text):\n",
    "    html_pattern = re.compile('<.*?>')\n",
    "    return html_pattern.sub(r'', text)"
   ]
  },
  {
   "cell_type": "code",
   "execution_count": 44,
   "metadata": {},
   "outputs": [],
   "source": [
    "#remove digits\n",
    "DIGITS_TO_REMOVE = \"0123456789\"\n",
    "def remove_digits(text):\n",
    "    return text.translate(str.maketrans('', '', DIGITS_TO_REMOVE))"
   ]
  },
  {
   "cell_type": "code",
   "execution_count": null,
   "metadata": {},
   "outputs": [],
   "source": []
  },
  {
   "cell_type": "code",
   "execution_count": null,
   "metadata": {},
   "outputs": [],
   "source": []
  },
  {
   "cell_type": "code",
   "execution_count": 57,
   "metadata": {},
   "outputs": [],
   "source": [
    "df[\"resume\"] = df[\"resume\"].astype(str).str.lower()\n",
    "df['resume'] = df['resume'].apply(remove_urls)\n",
    "df['resume'] = df['resume'].apply(remove_html)\n",
    "df['resume'] = df[\"resume\"].apply(unicodetoascii)\n",
    "df['resume'] = df['resume'].apply(remove_punctuation)\n",
    "df['resume'] = df['resume'].apply(remove_stopwords)\n",
    "df['resume'] = df['resume'].apply(remove_digits)"
   ]
  },
  {
   "cell_type": "code",
   "execution_count": 58,
   "metadata": {},
   "outputs": [
    {
     "data": {
      "text/html": [
       "<div>\n",
       "<style scoped>\n",
       "    .dataframe tbody tr th:only-of-type {\n",
       "        vertical-align: middle;\n",
       "    }\n",
       "\n",
       "    .dataframe tbody tr th {\n",
       "        vertical-align: top;\n",
       "    }\n",
       "\n",
       "    .dataframe thead th {\n",
       "        text-align: right;\n",
       "    }\n",
       "</style>\n",
       "<table border=\"1\" class=\"dataframe\">\n",
       "  <thead>\n",
       "    <tr style=\"text-align: right;\">\n",
       "      <th></th>\n",
       "      <th>ID</th>\n",
       "      <th>Category</th>\n",
       "      <th>resume</th>\n",
       "    </tr>\n",
       "  </thead>\n",
       "  <tbody>\n",
       "    <tr>\n",
       "      <th>0</th>\n",
       "      <td>1</td>\n",
       "      <td>HR</td>\n",
       "      <td>john h smith phr  po box  callahan fl  infogre...</td>\n",
       "    </tr>\n",
       "    <tr>\n",
       "      <th>1</th>\n",
       "      <td>2</td>\n",
       "      <td>HR</td>\n",
       "      <td>name surname address mobile noemail personal p...</td>\n",
       "    </tr>\n",
       "    <tr>\n",
       "      <th>2</th>\n",
       "      <td>3</td>\n",
       "      <td>HR</td>\n",
       "      <td>anthony brown hr assistant areas expertise per...</td>\n",
       "    </tr>\n",
       "    <tr>\n",
       "      <th>3</th>\n",
       "      <td>4</td>\n",
       "      <td>HR</td>\n",
       "      <td>id career objective pursue growth oriented car...</td>\n",
       "    </tr>\n",
       "    <tr>\n",
       "      <th>4</th>\n",
       "      <td>5</td>\n",
       "      <td>HR</td>\n",
       "      <td>human resources director xefxxbexpert organiza...</td>\n",
       "    </tr>\n",
       "  </tbody>\n",
       "</table>\n",
       "</div>"
      ],
      "text/plain": [
       "   ID Category                                             resume\n",
       "0   1       HR  john h smith phr  po box  callahan fl  infogre...\n",
       "1   2       HR  name surname address mobile noemail personal p...\n",
       "2   3       HR  anthony brown hr assistant areas expertise per...\n",
       "3   4       HR  id career objective pursue growth oriented car...\n",
       "4   5       HR  human resources director xefxxbexpert organiza..."
      ]
     },
     "execution_count": 58,
     "metadata": {},
     "output_type": "execute_result"
    }
   ],
   "source": [
    "df.head()"
   ]
  },
  {
   "cell_type": "code",
   "execution_count": 59,
   "metadata": {},
   "outputs": [
    {
     "data": {
      "text/plain": [
       "'john h smith phr  po box  callahan fl  infogreatresumesfastcom approachable innovator passion human resources senior human resources professional personable analytical flexible senior hr professional multifaceted expertise seasoned benefits administrator extensive experience working highly paid professionals clientrelationshipbased settings dynamic team leader capable analyzing alternatives identifying tough choices communicating total value benefit compensation packages senior level executives employees core competencies benefits administration customer service cost control recruiting acquisition management compliance reporting retention professional services domestic international benefits collaboration adaptability change management defined contribution plans auditing negotiation corporate hr policies full lifecycle training k form  confidential files eeo aap fmla std ltd hb visa vets  eap processing payroll hr technology hris data management auditing ultipro back office ultipro web connect deltek costpoint deltek gcs premiere cognos adp professional experience human services inc tampa fl present providing institutional behavioral health medical management contracting services  employees benefits manager manage administer robust m health welfare program administer benefits programs two smaller minority business enterprise clients deliver excellence client services leveraging interpersonal skills establish rapport team members perform cost analysis gather claims data coordinate enrollment large selffunded medical plan plus two smaller fullyinsured plans analyze data projections create forecasts narrative graph format clearly succinctly communicate trends senior management meetings directly supervise staff  hr admin plus two human resource specialists lead healthcare reform change management process analyzing changes developing strategic plans timeline crucial decisions ahead  deadlines communicate early changes dependent coverage preventive care lifetime maximum benefits employees identified researched implemented hsa healthcare savings account health insurance option high deductible health insurance plan provide taxsheltered benefits physicians highincome highprofile professionals saved k annually restructuring open enrollment strategy leveraging existing human capital hr business partners achieve better communication lower cost quickly establish rapport employees balance clientrelationship needs organizational goals cost controls compliance requirements create positive work environment maximize employee recruiting retention implementing competitive benefits packages clearly communicating value team members reduced costs k per year collaborating closely legal department create inhouse total comp statement including implications taxes social security produced betterquality analysis lower costs xcjohn h smith phr page  infogreatresumesfastcom approachable innovator passion human resources human management inc atlanta ga  nonprofit government consulting firm  domestic international employees senior human resources generalist performed diverse human resources functions administered benefits led special projects updated policies collaborated eeo vets  affirmative action plan aap reporting revamped orientation training programs newly hired employees include comprehensive information delivered morepersonal formats teleconferences small group meetings tours oneonone conversations followup phone calls supervised hr assistant  temporary human resource specialists handling high volume work peak periods open enrollment company merger led change management process seamlessly integrated benefits compensation retirement plans logistics newly acquired company  employees prepared allencompassing reports total compensation plans developed webinars personal meetings communicate value benefits employees despite reductions economic recession maintained employee retention job satisfaction rankings despite cutbacks reduced overall benefit costs  including decrease std benefits   base compensation without significant increase employee turnover researched procured benefits government contractors traveling hazardous areas including kidnap ransom kr increased life insurance travel insurance identified implemented medical dental benefit plans ensure comparable compensation international employees worldwide managed diverse retirement plans including defined contribution b a executive b plans abc corporation new york ny  engineering construction consulting  international domestic employees senior human resources generalist acme inc washington dc  professional services consulting firm  employees hr generalist benefits specialist human resource corporation tampa fl environmental management consulting firm  employees human resources assistant education certification affiliation bachelor science psychology  community college professional human resources phr certificate  employee benefit specialist cebs certification pending member shrm society human resource management '"
      ]
     },
     "execution_count": 59,
     "metadata": {},
     "output_type": "execute_result"
    }
   ],
   "source": [
    "df['resume'][0]"
   ]
  },
  {
   "cell_type": "code",
   "execution_count": null,
   "metadata": {},
   "outputs": [],
   "source": []
  },
  {
   "cell_type": "markdown",
   "metadata": {},
   "source": [
    "## next gensim tokenize"
   ]
  },
  {
   "cell_type": "code",
   "execution_count": null,
   "metadata": {},
   "outputs": [],
   "source": []
  },
  {
   "cell_type": "code",
   "execution_count": null,
   "metadata": {},
   "outputs": [],
   "source": []
  },
  {
   "cell_type": "code",
   "execution_count": null,
   "metadata": {},
   "outputs": [],
   "source": []
  },
  {
   "cell_type": "code",
   "execution_count": null,
   "metadata": {},
   "outputs": [],
   "source": []
  },
  {
   "cell_type": "code",
   "execution_count": null,
   "metadata": {},
   "outputs": [],
   "source": []
  },
  {
   "cell_type": "code",
   "execution_count": null,
   "metadata": {},
   "outputs": [],
   "source": []
  },
  {
   "cell_type": "code",
   "execution_count": null,
   "metadata": {},
   "outputs": [],
   "source": []
  }
 ],
 "metadata": {
  "kernelspec": {
   "display_name": "Python 3",
   "language": "python",
   "name": "python3"
  },
  "language_info": {
   "codemirror_mode": {
    "name": "ipython",
    "version": 3
   },
   "file_extension": ".py",
   "mimetype": "text/x-python",
   "name": "python",
   "nbconvert_exporter": "python",
   "pygments_lexer": "ipython3",
   "version": "3.7.6"
  }
 },
 "nbformat": 4,
 "nbformat_minor": 4
}
