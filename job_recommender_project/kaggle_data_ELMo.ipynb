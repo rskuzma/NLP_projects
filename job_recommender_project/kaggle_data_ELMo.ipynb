{
 "cells": [
  {
   "cell_type": "markdown",
   "metadata": {},
   "source": [
    "https://www.analyticsvidhya.com/blog/2019/03/learn-to-use-elmo-to-extract-features-from-text/"
   ]
  },
  {
   "cell_type": "code",
   "execution_count": 1,
   "metadata": {},
   "outputs": [],
   "source": [
    "# imports for elmo\n",
    "\n",
    "import pandas as pd\n",
    "import numpy as np\n",
    "import spacy\n",
    "from tqdm import tqdm  # progress bar\n",
    "import re\n",
    "import time\n",
    "import pickle  # pickle is a file loader?\n",
    "pd.set_option('display.max_colwidth', 200)"
   ]
  },
  {
   "cell_type": "markdown",
   "metadata": {},
   "source": [
    "## Couldn't use the above because of issues importing tensorflow hub\n",
    "<br><br><br>"
   ]
  },
  {
   "cell_type": "markdown",
   "metadata": {},
   "source": [
    "# Will try gluon for pre-trained ELMo\n",
    "https://gluon-nlp.mxnet.io/master/examples/sentence_embedding/elmo_sentence_representation.html?highlight=elmo"
   ]
  },
  {
   "cell_type": "code",
   "execution_count": 20,
   "metadata": {},
   "outputs": [
    {
     "name": "stderr",
     "output_type": "stream",
     "text": [
      "ERROR:root:Internal Python error in the inspect module.\n",
      "Below is the traceback from this internal error.\n",
      "\n"
     ]
    },
    {
     "name": "stdout",
     "output_type": "stream",
     "text": [
      "Traceback (most recent call last):\n",
      "  File \"/Users/richardkuzma/opt/anaconda3/lib/python3.7/site-packages/IPython/core/interactiveshell.py\", line 3331, in run_code\n",
      "    exec(code_obj, self.user_global_ns, self.user_ns)\n",
      "  File \"<ipython-input-20-a8b14e1bdfb4>\", line 6, in <module>\n",
      "    import mxnet as mx\n",
      "ModuleNotFoundError: No module named 'mxnet'\n",
      "\n",
      "During handling of the above exception, another exception occurred:\n",
      "\n",
      "Traceback (most recent call last):\n",
      "  File \"/Users/richardkuzma/opt/anaconda3/lib/python3.7/site-packages/IPython/core/interactiveshell.py\", line 2044, in showtraceback\n",
      "    stb = value._render_traceback_()\n",
      "AttributeError: 'ModuleNotFoundError' object has no attribute '_render_traceback_'\n",
      "\n",
      "During handling of the above exception, another exception occurred:\n",
      "\n",
      "Traceback (most recent call last):\n",
      "  File \"/Users/richardkuzma/opt/anaconda3/lib/python3.7/site-packages/tensorflow_core/python/pywrap_tensorflow_internal.py\", line 18, in swig_import_helper\n",
      "    fp, pathname, description = imp.find_module('_pywrap_tensorflow_internal', [dirname(__file__)])\n",
      "  File \"/Users/richardkuzma/opt/anaconda3/lib/python3.7/imp.py\", line 296, in find_module\n",
      "    raise ImportError(_ERR_MSG.format(name), name=name)\n",
      "ImportError: No module named '_pywrap_tensorflow_internal'\n",
      "\n",
      "During handling of the above exception, another exception occurred:\n",
      "\n",
      "Traceback (most recent call last):\n",
      "  File \"/Users/richardkuzma/opt/anaconda3/lib/python3.7/site-packages/tensorflow_core/python/pywrap_tensorflow.py\", line 58, in <module>\n",
      "    from tensorflow.python.pywrap_tensorflow_internal import *\n",
      "  File \"/Users/richardkuzma/opt/anaconda3/lib/python3.7/site-packages/tensorflow_core/python/pywrap_tensorflow_internal.py\", line 28, in <module>\n",
      "    _pywrap_tensorflow_internal = swig_import_helper()\n",
      "  File \"/Users/richardkuzma/opt/anaconda3/lib/python3.7/site-packages/tensorflow_core/python/pywrap_tensorflow_internal.py\", line 20, in swig_import_helper\n",
      "    import _pywrap_tensorflow_internal\n",
      "ModuleNotFoundError: No module named '_pywrap_tensorflow_internal'\n",
      "\n",
      "During handling of the above exception, another exception occurred:\n",
      "\n",
      "Traceback (most recent call last):\n",
      "  File \"/Users/richardkuzma/opt/anaconda3/lib/python3.7/site-packages/IPython/core/ultratb.py\", line 1151, in get_records\n",
      "    return _fixed_getinnerframes(etb, number_of_lines_of_context, tb_offset)\n",
      "  File \"/Users/richardkuzma/opt/anaconda3/lib/python3.7/site-packages/IPython/core/ultratb.py\", line 319, in wrapped\n",
      "    return f(*args, **kwargs)\n",
      "  File \"/Users/richardkuzma/opt/anaconda3/lib/python3.7/site-packages/IPython/core/ultratb.py\", line 353, in _fixed_getinnerframes\n",
      "    records = fix_frame_records_filenames(inspect.getinnerframes(etb, context))\n",
      "  File \"/Users/richardkuzma/opt/anaconda3/lib/python3.7/inspect.py\", line 1502, in getinnerframes\n",
      "    frameinfo = (tb.tb_frame,) + getframeinfo(tb, context)\n",
      "  File \"/Users/richardkuzma/opt/anaconda3/lib/python3.7/inspect.py\", line 1460, in getframeinfo\n",
      "    filename = getsourcefile(frame) or getfile(frame)\n",
      "  File \"/Users/richardkuzma/opt/anaconda3/lib/python3.7/inspect.py\", line 696, in getsourcefile\n",
      "    if getattr(getmodule(object, filename), '__loader__', None) is not None:\n",
      "  File \"/Users/richardkuzma/opt/anaconda3/lib/python3.7/inspect.py\", line 733, in getmodule\n",
      "    if ismodule(module) and hasattr(module, '__file__'):\n",
      "  File \"/Users/richardkuzma/opt/anaconda3/lib/python3.7/site-packages/tensorflow/__init__.py\", line 50, in __getattr__\n",
      "    module = self._load()\n",
      "  File \"/Users/richardkuzma/opt/anaconda3/lib/python3.7/site-packages/tensorflow/__init__.py\", line 44, in _load\n",
      "    module = _importlib.import_module(self.__name__)\n",
      "  File \"/Users/richardkuzma/opt/anaconda3/lib/python3.7/importlib/__init__.py\", line 127, in import_module\n",
      "    return _bootstrap._gcd_import(name[level:], package, level)\n",
      "  File \"<frozen importlib._bootstrap>\", line 1006, in _gcd_import\n",
      "  File \"<frozen importlib._bootstrap>\", line 983, in _find_and_load\n",
      "  File \"<frozen importlib._bootstrap>\", line 953, in _find_and_load_unlocked\n",
      "  File \"<frozen importlib._bootstrap>\", line 219, in _call_with_frames_removed\n",
      "  File \"<frozen importlib._bootstrap>\", line 1006, in _gcd_import\n",
      "  File \"<frozen importlib._bootstrap>\", line 983, in _find_and_load\n",
      "  File \"<frozen importlib._bootstrap>\", line 967, in _find_and_load_unlocked\n",
      "  File \"<frozen importlib._bootstrap>\", line 677, in _load_unlocked\n",
      "  File \"<frozen importlib._bootstrap_external>\", line 728, in exec_module\n",
      "  File \"<frozen importlib._bootstrap>\", line 219, in _call_with_frames_removed\n",
      "  File \"/Users/richardkuzma/opt/anaconda3/lib/python3.7/site-packages/tensorflow_core/__init__.py\", line 42, in <module>\n",
      "    from . _api.v2 import audio\n",
      "  File \"/Users/richardkuzma/opt/anaconda3/lib/python3.7/site-packages/tensorflow_core/_api/v2/audio/__init__.py\", line 10, in <module>\n",
      "    from tensorflow.python.ops.gen_audio_ops import decode_wav\n",
      "  File \"/Users/richardkuzma/opt/anaconda3/lib/python3.7/site-packages/tensorflow_core/python/ops/gen_audio_ops.py\", line 9, in <module>\n",
      "    from tensorflow.python import pywrap_tensorflow as _pywrap_tensorflow\n",
      "  File \"/Users/richardkuzma/opt/anaconda3/lib/python3.7/site-packages/tensorflow/__init__.py\", line 50, in __getattr__\n",
      "    module = self._load()\n",
      "  File \"/Users/richardkuzma/opt/anaconda3/lib/python3.7/site-packages/tensorflow/__init__.py\", line 44, in _load\n",
      "    module = _importlib.import_module(self.__name__)\n",
      "  File \"/Users/richardkuzma/opt/anaconda3/lib/python3.7/importlib/__init__.py\", line 127, in import_module\n",
      "    return _bootstrap._gcd_import(name[level:], package, level)\n",
      "  File \"/Users/richardkuzma/opt/anaconda3/lib/python3.7/site-packages/tensorflow_core/python/__init__.py\", line 49, in <module>\n",
      "    from tensorflow.python import pywrap_tensorflow\n",
      "  File \"/Users/richardkuzma/opt/anaconda3/lib/python3.7/site-packages/tensorflow_core/python/pywrap_tensorflow.py\", line 74, in <module>\n",
      "    raise ImportError(msg)\n",
      "ImportError: Traceback (most recent call last):\n",
      "  File \"/Users/richardkuzma/opt/anaconda3/lib/python3.7/site-packages/IPython/core/interactiveshell.py\", line 3331, in run_code\n",
      "    exec(code_obj, self.user_global_ns, self.user_ns)\n",
      "  File \"<ipython-input-20-a8b14e1bdfb4>\", line 6, in <module>\n",
      "    import mxnet as mx\n",
      "ModuleNotFoundError: No module named 'mxnet'\n",
      "\n",
      "During handling of the above exception, another exception occurred:\n",
      "\n",
      "Traceback (most recent call last):\n",
      "  File \"/Users/richardkuzma/opt/anaconda3/lib/python3.7/site-packages/IPython/core/interactiveshell.py\", line 2044, in showtraceback\n",
      "    stb = value._render_traceback_()\n",
      "AttributeError: 'ModuleNotFoundError' object has no attribute '_render_traceback_'\n",
      "\n",
      "During handling of the above exception, another exception occurred:\n",
      "\n",
      "Traceback (most recent call last):\n",
      "  File \"/Users/richardkuzma/opt/anaconda3/lib/python3.7/site-packages/tensorflow_core/python/pywrap_tensorflow_internal.py\", line 18, in swig_import_helper\n",
      "    fp, pathname, description = imp.find_module('_pywrap_tensorflow_internal', [dirname(__file__)])\n",
      "  File \"/Users/richardkuzma/opt/anaconda3/lib/python3.7/imp.py\", line 296, in find_module\n",
      "    raise ImportError(_ERR_MSG.format(name), name=name)\n",
      "ImportError: No module named '_pywrap_tensorflow_internal'\n",
      "\n",
      "During handling of the above exception, another exception occurred:\n",
      "\n",
      "Traceback (most recent call last):\n",
      "  File \"/Users/richardkuzma/opt/anaconda3/lib/python3.7/site-packages/tensorflow_core/python/pywrap_tensorflow.py\", line 58, in <module>\n",
      "    from tensorflow.python.pywrap_tensorflow_internal import *\n",
      "  File \"/Users/richardkuzma/opt/anaconda3/lib/python3.7/site-packages/tensorflow_core/python/pywrap_tensorflow_internal.py\", line 28, in <module>\n",
      "    _pywrap_tensorflow_internal = swig_import_helper()\n",
      "  File \"/Users/richardkuzma/opt/anaconda3/lib/python3.7/site-packages/tensorflow_core/python/pywrap_tensorflow_internal.py\", line 20, in swig_import_helper\n",
      "    import _pywrap_tensorflow_internal\n",
      "ModuleNotFoundError: No module named '_pywrap_tensorflow_internal'\n",
      "\n",
      "\n",
      "Failed to load the native TensorFlow runtime.\n",
      "\n",
      "See https://www.tensorflow.org/install/errors\n",
      "\n",
      "for some common reasons and solutions.  Include the entire stack trace\n",
      "above this error message when asking for help.\n"
     ]
    },
    {
     "ename": "ModuleNotFoundError",
     "evalue": "No module named 'mxnet'",
     "output_type": "error",
     "traceback": [
      "\u001b[0;31m---------------------------------------------------------------------------\u001b[0m"
     ]
    }
   ],
   "source": [
    "import warnings\n",
    "warnings.filterwarnings('ignore')\n",
    "import numpy as np\n",
    "import io\n",
    "\n",
    "import mxnet as mx\n",
    "from mxnet import gluon\n",
    "import gluonnlp as nlp\n",
    "nlp.utils.check_version('0.7.0')"
   ]
  },
  {
   "cell_type": "code",
   "execution_count": null,
   "metadata": {},
   "outputs": [],
   "source": []
  },
  {
   "cell_type": "code",
   "execution_count": null,
   "metadata": {},
   "outputs": [],
   "source": []
  },
  {
   "cell_type": "code",
   "execution_count": null,
   "metadata": {},
   "outputs": [],
   "source": []
  },
  {
   "cell_type": "code",
   "execution_count": null,
   "metadata": {},
   "outputs": [],
   "source": []
  },
  {
   "cell_type": "code",
   "execution_count": 5,
   "metadata": {},
   "outputs": [],
   "source": [
    "# resumes only for now\n",
    "# gives df with list of strings (tokenized) as well as lemmatized list of strings\n",
    "local_resume_cleaned_lemmatized_tokenized_path = '/Users/richardkuzma/coding/NLP_projects/job_recommender_project/data/cleaned_lemmatized_tokenized_resume_dataset_maitrip.csv'\n",
    "\n",
    "resumes = pd.read_csv(local_resume_cleaned_lemmatized_tokenized_path)\n"
   ]
  },
  {
   "cell_type": "code",
   "execution_count": 6,
   "metadata": {},
   "outputs": [
    {
     "data": {
      "text/plain": [
       "(1219, 6)"
      ]
     },
     "execution_count": 6,
     "metadata": {},
     "output_type": "execute_result"
    }
   ],
   "source": [
    "resumes.shape"
   ]
  },
  {
   "cell_type": "code",
   "execution_count": 7,
   "metadata": {},
   "outputs": [
    {
     "data": {
      "text/html": [
       "<div>\n",
       "<style scoped>\n",
       "    .dataframe tbody tr th:only-of-type {\n",
       "        vertical-align: middle;\n",
       "    }\n",
       "\n",
       "    .dataframe tbody tr th {\n",
       "        vertical-align: top;\n",
       "    }\n",
       "\n",
       "    .dataframe thead th {\n",
       "        text-align: right;\n",
       "    }\n",
       "</style>\n",
       "<table border=\"1\" class=\"dataframe\">\n",
       "  <thead>\n",
       "    <tr style=\"text-align: right;\">\n",
       "      <th></th>\n",
       "      <th>ID</th>\n",
       "      <th>Category</th>\n",
       "      <th>dirty_resume</th>\n",
       "      <th>resume</th>\n",
       "      <th>tokenized_resume</th>\n",
       "      <th>lemmatized_resume</th>\n",
       "    </tr>\n",
       "  </thead>\n",
       "  <tbody>\n",
       "    <tr>\n",
       "      <th>0</th>\n",
       "      <td>1</td>\n",
       "      <td>HR</td>\n",
       "      <td>b'John H. Smith, P.H.R.\\n800-991-5187 | PO Box 1673 | Callahan, FL 32011 | info@greatresumesfast.com\\n\\nApproachable innovator with a passion for Human Resources.\\n\\nSENIOR HUMAN RESOURCES PROFESS...</td>\n",
       "      <td>john h smith phr    po box  callahan fl  infogreatresumesfastcom approachable innovator passion human resources senior human resources professional personable analytical flexible senior hr profess...</td>\n",
       "      <td>['john', 'h', 'smith', 'phr', 'po', 'box', 'callahan', 'fl', 'infogreatresumesfastcom', 'approachable', 'innovator', 'passion', 'human', 'resources', 'senior', 'human', 'resources', 'professional'...</td>\n",
       "      <td>['john', 'h', 'smith', 'phr', 'po', 'box', 'callahan', 'fl', 'infogreatresumesfastcom', 'approachable', 'innovator', 'passion', 'human', 'resource', 'senior', 'human', 'resource', 'professional', ...</td>\n",
       "    </tr>\n",
       "    <tr>\n",
       "      <th>1</th>\n",
       "      <td>2</td>\n",
       "      <td>HR</td>\n",
       "      <td>b'Name Surname\\nAddress\\nMobile No/Email\\nPERSONAL PROFILE\\nI am a self motivated individual who has a confident approach to people. I communicate\\nwell with all levels of personnel and feel that ...</td>\n",
       "      <td>name surname address mobile noemail personal profile self motivated individual confident approach people communicate well levels personnel feel good listening ability allows resolve problems quick...</td>\n",
       "      <td>['name', 'surname', 'address', 'mobile', 'noemail', 'personal', 'profile', 'self', 'motivated', 'individual', 'confident', 'approach', 'people', 'communicate', 'well', 'levels', 'personnel', 'feel...</td>\n",
       "      <td>['name', 'surname', 'address', 'mobile', 'noemail', 'personal', 'profile', 'self', 'motivated', 'individual', 'confident', 'approach', 'people', 'communicate', 'well', 'level', 'personnel', 'feel'...</td>\n",
       "    </tr>\n",
       "    <tr>\n",
       "      <th>2</th>\n",
       "      <td>3</td>\n",
       "      <td>HR</td>\n",
       "      <td>b'Anthony Brown\\nHR Assistant\\nAREAS OF EXPERTISE\\n\\nPERSONAL SUMMARY\\n\\nHR processes &amp; systems\\n\\nA competent and organised individual who is able to work as part of a team and\\nmanage several pr...</td>\n",
       "      <td>anthony brown hr assistant areas expertise personal summary hr processes systems competent organised individual able work part team manage several priorities one time anthony positive attitude str...</td>\n",
       "      <td>['anthony', 'brown', 'hr', 'assistant', 'areas', 'expertise', 'personal', 'summary', 'hr', 'processes', 'systems', 'competent', 'organised', 'individual', 'able', 'work', 'part', 'team', 'manage',...</td>\n",
       "      <td>['anthony', 'brown', 'hr', 'assistant', 'area', 'expertise', 'personal', 'summary', 'hr', 'process', 'system', 'competent', 'organised', 'individual', 'able', 'work', 'part', 'team', 'manage', 'se...</td>\n",
       "    </tr>\n",
       "    <tr>\n",
       "      <th>3</th>\n",
       "      <td>4</td>\n",
       "      <td>HR</td>\n",
       "      <td>b'www.downloadmela.com\\nSatheesh\\nEMAIL ID:\\nCareer Objective\\nTo pursue a growth oriented career with a progressive company that provides a scope to apply my\\nknowledge and skills that would help...</td>\n",
       "      <td>satheesh email id career objective pursue growth oriented career progressive company provides scope apply knowledge skills would help contribute best organization personal skills enjoy strong log...</td>\n",
       "      <td>['satheesh', 'email', 'id', 'career', 'objective', 'pursue', 'growth', 'oriented', 'career', 'progressive', 'company', 'provides', 'scope', 'apply', 'knowledge', 'skills', 'would', 'help', 'contri...</td>\n",
       "      <td>['satheesh', 'email', 'id', 'career', 'objective', 'pursue', 'growth', 'oriented', 'career', 'progressive', 'company', 'provides', 'scope', 'apply', 'knowledge', 'skill', 'would', 'help', 'contrib...</td>\n",
       "    </tr>\n",
       "    <tr>\n",
       "      <th>4</th>\n",
       "      <td>5</td>\n",
       "      <td>HR</td>\n",
       "      <td>b\"HUMAN RESOURCES DIRECTOR\\n\\xef\\x82\\xb7Expert in organizational effectiveness.\\n\\xef\\x82\\xb7Recognized consensus-builder among diverse groups.\\n\\xef\\x82\\xb7Innovative problem solver.\\n\\xef\\x82\\xb...</td>\n",
       "      <td>human resources director expert organizational effectiveness recognized consensus builder among diverse groups innovative problem solver strategic partner effective executive coach facilitator man...</td>\n",
       "      <td>['human', 'resources', 'director', 'expert', 'organizational', 'effectiveness', 'recognized', 'consensus', 'builder', 'among', 'diverse', 'groups', 'innovative', 'problem', 'solver', 'strategic', ...</td>\n",
       "      <td>['human', 'resource', 'director', 'expert', 'organizational', 'effectiveness', 'recognized', 'consensus', 'builder', 'among', 'diverse', 'group', 'innovative', 'problem', 'solver', 'strategic', 'p...</td>\n",
       "    </tr>\n",
       "  </tbody>\n",
       "</table>\n",
       "</div>"
      ],
      "text/plain": [
       "   ID Category  \\\n",
       "0   1       HR   \n",
       "1   2       HR   \n",
       "2   3       HR   \n",
       "3   4       HR   \n",
       "4   5       HR   \n",
       "\n",
       "                                                                                                                                                                                              dirty_resume  \\\n",
       "0  b'John H. Smith, P.H.R.\\n800-991-5187 | PO Box 1673 | Callahan, FL 32011 | info@greatresumesfast.com\\n\\nApproachable innovator with a passion for Human Resources.\\n\\nSENIOR HUMAN RESOURCES PROFESS...   \n",
       "1  b'Name Surname\\nAddress\\nMobile No/Email\\nPERSONAL PROFILE\\nI am a self motivated individual who has a confident approach to people. I communicate\\nwell with all levels of personnel and feel that ...   \n",
       "2  b'Anthony Brown\\nHR Assistant\\nAREAS OF EXPERTISE\\n\\nPERSONAL SUMMARY\\n\\nHR processes & systems\\n\\nA competent and organised individual who is able to work as part of a team and\\nmanage several pr...   \n",
       "3  b'www.downloadmela.com\\nSatheesh\\nEMAIL ID:\\nCareer Objective\\nTo pursue a growth oriented career with a progressive company that provides a scope to apply my\\nknowledge and skills that would help...   \n",
       "4  b\"HUMAN RESOURCES DIRECTOR\\n\\xef\\x82\\xb7Expert in organizational effectiveness.\\n\\xef\\x82\\xb7Recognized consensus-builder among diverse groups.\\n\\xef\\x82\\xb7Innovative problem solver.\\n\\xef\\x82\\xb...   \n",
       "\n",
       "                                                                                                                                                                                                    resume  \\\n",
       "0  john h smith phr    po box  callahan fl  infogreatresumesfastcom approachable innovator passion human resources senior human resources professional personable analytical flexible senior hr profess...   \n",
       "1  name surname address mobile noemail personal profile self motivated individual confident approach people communicate well levels personnel feel good listening ability allows resolve problems quick...   \n",
       "2  anthony brown hr assistant areas expertise personal summary hr processes systems competent organised individual able work part team manage several priorities one time anthony positive attitude str...   \n",
       "3   satheesh email id career objective pursue growth oriented career progressive company provides scope apply knowledge skills would help contribute best organization personal skills enjoy strong log...   \n",
       "4  human resources director expert organizational effectiveness recognized consensus builder among diverse groups innovative problem solver strategic partner effective executive coach facilitator man...   \n",
       "\n",
       "                                                                                                                                                                                          tokenized_resume  \\\n",
       "0  ['john', 'h', 'smith', 'phr', 'po', 'box', 'callahan', 'fl', 'infogreatresumesfastcom', 'approachable', 'innovator', 'passion', 'human', 'resources', 'senior', 'human', 'resources', 'professional'...   \n",
       "1  ['name', 'surname', 'address', 'mobile', 'noemail', 'personal', 'profile', 'self', 'motivated', 'individual', 'confident', 'approach', 'people', 'communicate', 'well', 'levels', 'personnel', 'feel...   \n",
       "2  ['anthony', 'brown', 'hr', 'assistant', 'areas', 'expertise', 'personal', 'summary', 'hr', 'processes', 'systems', 'competent', 'organised', 'individual', 'able', 'work', 'part', 'team', 'manage',...   \n",
       "3  ['satheesh', 'email', 'id', 'career', 'objective', 'pursue', 'growth', 'oriented', 'career', 'progressive', 'company', 'provides', 'scope', 'apply', 'knowledge', 'skills', 'would', 'help', 'contri...   \n",
       "4  ['human', 'resources', 'director', 'expert', 'organizational', 'effectiveness', 'recognized', 'consensus', 'builder', 'among', 'diverse', 'groups', 'innovative', 'problem', 'solver', 'strategic', ...   \n",
       "\n",
       "                                                                                                                                                                                         lemmatized_resume  \n",
       "0  ['john', 'h', 'smith', 'phr', 'po', 'box', 'callahan', 'fl', 'infogreatresumesfastcom', 'approachable', 'innovator', 'passion', 'human', 'resource', 'senior', 'human', 'resource', 'professional', ...  \n",
       "1  ['name', 'surname', 'address', 'mobile', 'noemail', 'personal', 'profile', 'self', 'motivated', 'individual', 'confident', 'approach', 'people', 'communicate', 'well', 'level', 'personnel', 'feel'...  \n",
       "2  ['anthony', 'brown', 'hr', 'assistant', 'area', 'expertise', 'personal', 'summary', 'hr', 'process', 'system', 'competent', 'organised', 'individual', 'able', 'work', 'part', 'team', 'manage', 'se...  \n",
       "3  ['satheesh', 'email', 'id', 'career', 'objective', 'pursue', 'growth', 'oriented', 'career', 'progressive', 'company', 'provides', 'scope', 'apply', 'knowledge', 'skill', 'would', 'help', 'contrib...  \n",
       "4  ['human', 'resource', 'director', 'expert', 'organizational', 'effectiveness', 'recognized', 'consensus', 'builder', 'among', 'diverse', 'group', 'innovative', 'problem', 'solver', 'strategic', 'p...  "
      ]
     },
     "execution_count": 7,
     "metadata": {},
     "output_type": "execute_result"
    }
   ],
   "source": [
    "resumes.head()\n"
   ]
  },
  {
   "cell_type": "code",
   "execution_count": 10,
   "metadata": {},
   "outputs": [],
   "source": [
    "resumes_sentences = resumes['lemmatized_resume'].tolist()\n",
    "# resumes_sentences[0]"
   ]
  },
  {
   "cell_type": "code",
   "execution_count": 2,
   "metadata": {},
   "outputs": [],
   "source": [
    "import tensorflow as tf\n",
    "\n"
   ]
  },
  {
   "cell_type": "code",
   "execution_count": 3,
   "metadata": {},
   "outputs": [],
   "source": [
    "import tensorflow_hub as hub"
   ]
  },
  {
   "cell_type": "code",
   "execution_count": 4,
   "metadata": {},
   "outputs": [],
   "source": [
    "elmo = hub.Module(\"https://tfhub.dev/google/elmo/2\", trainable=True)"
   ]
  },
  {
   "cell_type": "code",
   "execution_count": null,
   "metadata": {},
   "outputs": [],
   "source": [
    "\n"
   ]
  },
  {
   "cell_type": "code",
   "execution_count": 5,
   "metadata": {},
   "outputs": [
    {
     "name": "stdout",
     "output_type": "stream",
     "text": [
      "INFO:tensorflow:Saver not created because there are no variables in the graph to restore\n"
     ]
    },
    {
     "name": "stderr",
     "output_type": "stream",
     "text": [
      "INFO:tensorflow:Saver not created because there are no variables in the graph to restore\n"
     ]
    },
    {
     "data": {
      "text/plain": [
       "TensorShape([Dimension(1), Dimension(8), Dimension(1024)])"
      ]
     },
     "execution_count": 5,
     "metadata": {},
     "output_type": "execute_result"
    }
   ],
   "source": [
    "# just a random sentence\n",
    "x = [\"Roasted ants are a popular snack in Columbia\"]\n",
    "\n",
    "# Extract ELMo features \n",
    "embeddings = elmo(x, signature=\"default\", as_dict=True)[\"elmo\"]\n",
    "\n",
    "embeddings.shape"
   ]
  },
  {
   "cell_type": "code",
   "execution_count": null,
   "metadata": {},
   "outputs": [],
   "source": [
    "def elmo_vectors(x):\n",
    "  embeddings = elmo(x.tolist(), signature=\"default\", as_dict=True)[\"elmo\"]\n",
    "\n",
    "  with tf.Session() as sess:\n",
    "    sess.run(tf.global_variables_initializer())\n",
    "    sess.run(tf.tables_initializer())\n",
    "    # return average of ELMo features\n",
    "    return sess.run(tf.reduce_mean(embeddings,1))"
   ]
  },
  {
   "cell_type": "code",
   "execution_count": null,
   "metadata": {},
   "outputs": [],
   "source": [
    "list_train = [train[i:i+100] for i in range(0,train.shape[0],100)]\n",
    "list_test = [test[i:i+100] for i in range(0,test.shape[0],100)]"
   ]
  },
  {
   "cell_type": "code",
   "execution_count": null,
   "metadata": {},
   "outputs": [],
   "source": [
    "# Extract ELMo embeddings\n",
    "elmo_train = [elmo_vectors(x['clean_tweet']) for x in list_train]\n",
    "elmo_test = [elmo_vectors(x['clean_tweet']) for x in list_test]"
   ]
  },
  {
   "cell_type": "code",
   "execution_count": null,
   "metadata": {},
   "outputs": [],
   "source": [
    "elmo_train_new = np.concatenate(elmo_train, axis = 0)\n",
    "elmo_test_new = np.concatenate(elmo_test, axis = 0)"
   ]
  },
  {
   "cell_type": "code",
   "execution_count": null,
   "metadata": {},
   "outputs": [],
   "source": [
    "# save elmo_train_new\n",
    "pickle_out = open(\"elmo_train_03032019.pickle\",\"wb\")\n",
    "pickle.dump(elmo_train_new, pickle_out)\n",
    "pickle_out.close()\n",
    "\n",
    "# save elmo_test_new\n",
    "pickle_out = open(\"elmo_test_03032019.pickle\",\"wb\")\n",
    "pickle.dump(elmo_test_new, pickle_out)\n",
    "pickle_out.close()"
   ]
  },
  {
   "cell_type": "code",
   "execution_count": null,
   "metadata": {},
   "outputs": [],
   "source": [
    "# load elmo_train_new\n",
    "pickle_in = open(\"elmo_train_03032019.pickle\", \"rb\")\n",
    "elmo_train_new = pickle.load(pickle_in)\n",
    "\n",
    "# load elmo_train_new\n",
    "pickle_in = open(\"elmo_test_03032019.pickle\", \"rb\")\n",
    "elmo_test_new = pickle.load(pickle_in)"
   ]
  },
  {
   "cell_type": "code",
   "execution_count": null,
   "metadata": {},
   "outputs": [],
   "source": []
  },
  {
   "cell_type": "code",
   "execution_count": null,
   "metadata": {},
   "outputs": [],
   "source": [
    "from sklearn.model_selection import train_test_split\n",
    "\n",
    "xtrain, xvalid, ytrain, yvalid = train_test_split(elmo_train_new, \n",
    "                                                  train['label'],  \n",
    "                                                  random_state=42, \n",
    "                                                  test_size=0.2)"
   ]
  },
  {
   "cell_type": "code",
   "execution_count": null,
   "metadata": {},
   "outputs": [],
   "source": [
    "\n",
    "from sklearn.linear_model import LogisticRegression\n",
    "from sklearn.metrics import f1_score\n",
    "\n",
    "lreg = LogisticRegression()\n",
    "lreg.fit(xtrain, ytrain)"
   ]
  },
  {
   "cell_type": "code",
   "execution_count": null,
   "metadata": {},
   "outputs": [],
   "source": [
    "preds_valid = lreg.predict(xvalid)"
   ]
  },
  {
   "cell_type": "code",
   "execution_count": null,
   "metadata": {},
   "outputs": [],
   "source": [
    "f1_score(yvalid, preds_valid)"
   ]
  },
  {
   "cell_type": "code",
   "execution_count": null,
   "metadata": {},
   "outputs": [],
   "source": [
    "# make predictions on test set\n",
    "preds_test = lreg.predict(elmo_test_new)"
   ]
  },
  {
   "cell_type": "code",
   "execution_count": null,
   "metadata": {},
   "outputs": [],
   "source": [
    "# prepare submission dataframe\n",
    "sub = pd.DataFrame({'id':test['id'], 'label':preds_test})\n",
    "\n",
    "# write predictions to a CSV file\n",
    "sub.to_csv(\"sub_lreg.csv\", index=False)"
   ]
  },
  {
   "cell_type": "code",
   "execution_count": null,
   "metadata": {},
   "outputs": [],
   "source": []
  },
  {
   "cell_type": "code",
   "execution_count": null,
   "metadata": {},
   "outputs": [],
   "source": []
  },
  {
   "cell_type": "code",
   "execution_count": null,
   "metadata": {},
   "outputs": [],
   "source": []
  },
  {
   "cell_type": "code",
   "execution_count": null,
   "metadata": {},
   "outputs": [],
   "source": []
  }
 ],
 "metadata": {
  "kernelspec": {
   "display_name": "Python 3",
   "language": "python",
   "name": "python3"
  },
  "language_info": {
   "codemirror_mode": {
    "name": "ipython",
    "version": 3
   },
   "file_extension": ".py",
   "mimetype": "text/x-python",
   "name": "python",
   "nbconvert_exporter": "python",
   "pygments_lexer": "ipython3",
   "version": "3.7.6"
  }
 },
 "nbformat": 4,
 "nbformat_minor": 4
}
