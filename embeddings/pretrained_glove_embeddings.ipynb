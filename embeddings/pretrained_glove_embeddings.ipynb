{
 "cells": [
  {
   "cell_type": "markdown",
   "metadata": {},
   "source": [
    "source: https://deeplearningcourses.com/c/data-science-natural-language-processing-in-python <br>\n",
    "source: https://www.udemy.com/data-science-natural-language-processing-in-python <br>\n",
    "Author: http://lazyprogrammer.me <br>\n",
    "Disclaimer: I've copied this to go line-by-line to understand what's going on here. I take no credit for this work."
   ]
  },
  {
   "cell_type": "markdown",
   "metadata": {},
   "source": []
  },
  {
   "cell_type": "markdown",
   "metadata": {},
   "source": [
    "### Overview\n",
    "- Given pre-trained GloVe embeddings\n",
    "    - GloVe from Stanford NLP has 400k words in vocab versus 3 million for word2vec from Google\n",
    "- Pretty straightforward code to see word similarity and create understandable analogies (demonstrating embeddings good)\n",
    "- Using the 50-dimension vectors, so possible to do better with the 100 or 200 dimension embeddings"
   ]
  },
  {
   "cell_type": "markdown",
   "metadata": {},
   "source": [
    "### Notes\n",
    "- Keep track of numpy arrays with (number, ) versus (number, 1). It matters. Requires resizing.\n",
    "- '##' will denote my comments\n",
    "- '#' are lazyprogrammer's comments"
   ]
  },
  {
   "cell_type": "code",
   "execution_count": null,
   "metadata": {},
   "outputs": [],
   "source": []
  },
  {
   "cell_type": "code",
   "execution_count": 1,
   "metadata": {},
   "outputs": [],
   "source": [
    "from future.utils import iteritems\n",
    "## works for python2 or python3 iteration I suppose"
   ]
  },
  {
   "cell_type": "code",
   "execution_count": 2,
   "metadata": {},
   "outputs": [],
   "source": [
    "import numpy as np \n",
    "from sklearn.metrics.pairwise import pairwise_distances\n",
    "\n",
    "## why not also:  import sklearn.metrics.pairwise import cosine_distances ?\n",
    "## cosine distance is 1 - cosine similarity\n",
    "\n",
    "## why not also: from sklearn.metrics.pairwise import euclidean_distances ?"
   ]
  },
  {
   "cell_type": "markdown",
   "metadata": {},
   "source": []
  },
  {
   "cell_type": "code",
   "execution_count": 3,
   "metadata": {},
   "outputs": [],
   "source": [
    "# lazyprogrammer (LP) defines two different distance metrics\n",
    "def dist1(a, b):\n",
    "    return np.linalg.norm(a-b)\n",
    "def dist2(a, b):\n",
    "    return 1 - a.dot(b) / (np.linalg.norm(a) * np.linalg.norm(b))\n",
    "\n",
    "\n",
    "#pick a distance measurement type\n",
    "# dist, metric = dist1, 'euclidean'\n",
    "dist, metric = dist2, 'cosine'\n",
    "\n",
    "\n",
    "## manual implementation of dist1 and dist2 by LP allows you to choose which distance to use"
   ]
  },
  {
   "cell_type": "code",
   "execution_count": null,
   "metadata": {},
   "outputs": [],
   "source": []
  },
  {
   "cell_type": "code",
   "execution_count": 4,
   "metadata": {},
   "outputs": [],
   "source": [
    "# more intuitive version\n",
    "def find_analogies(w1, w2, w3):\n",
    "    ## if you try to make an analogy with a word outside of the vocab, it won't work\n",
    "    for w in (w1, w2, w3):\n",
    "        if w not in word2vec:\n",
    "            print(\"%s not in dictionary\" % w)\n",
    "            return\n",
    "    \n",
    "    ## first - second : v0 - third\n",
    "    \n",
    "    first_word = word2vec[w1]\n",
    "    second_word = word2vec[w2]\n",
    "    third_word = word2vec[w3]\n",
    "    v0 = first_word - second_word + third_word\n",
    "    \n",
    "    min_dist = float('inf') ## set min distance to infinity\n",
    "    best_word = '' ## no best word yet\n",
    "    for word, v1 in iteritems(word2vec):\n",
    "        if word not in (w1, w2, w3): ## ensure the word isn't in analogy\n",
    "            d = dist(v0, v1) ##uses the defined cosine distance from above dist2 function rather than library funct \n",
    "            if d < min_dist:  ## if new v0 to v1 dist is less than min dist, set new min dist and closest word\n",
    "                min_dist = d\n",
    "                best_word = word\n",
    "    print(w1, \" - \", w2, \" = \", best_word, \" - \", w3)"
   ]
  },
  {
   "cell_type": "code",
   "execution_count": 5,
   "metadata": {},
   "outputs": [],
   "source": [
    "## less intuitive but faster code with few for loops\n",
    "\n",
    "## def find_analogies(w1, w2, w3):\n",
    "#   for w in (w1, w2, w3):\n",
    "#     if w not in word2vec:\n",
    "#       print(\"%s not in dictionary\" % w)\n",
    "#       return\n",
    "#\n",
    "#   king = word2vec[w1]\n",
    "#   man = word2vec[w2]\n",
    "#   woman = word2vec[w3]\n",
    "#   v0 = king - man + woman\n",
    "#\n",
    "#   min_dist = float('inf')\n",
    "#   best_word = ''\n",
    "#   for word, v1 in iteritems(word2vec):\n",
    "#     if word not in (w1, w2, w3):\n",
    "#       d = dist(v0, v1)\n",
    "#       if d < min_dist:\n",
    "#         min_dist = d\n",
    "#         best_word = word\n",
    "#   print(w1, \"-\", w2, \"=\", best_word, \"-\", w3)"
   ]
  },
  {
   "cell_type": "code",
   "execution_count": null,
   "metadata": {},
   "outputs": [],
   "source": []
  },
  {
   "cell_type": "code",
   "execution_count": 6,
   "metadata": {},
   "outputs": [],
   "source": [
    "def nearest_neighbors(w, n=5):  ## nearest n neighbors for a word\n",
    "    if w not in word2vec:\n",
    "        print(\"%s not in dictionary\" % w)\n",
    "        return\n",
    "    \n",
    "    ## word2vec is a dictionary of key w and value v [w1:v1, w2:v2]\n",
    "    ## v shape is (50,)\n",
    "    v = word2vec[w] \n",
    "    \n",
    "    ## compares distance between v for w and of all vectors in word2vec embeddings matrix\n",
    "    ## metric arg takes a string, in this case metric = \"cosine\" which is allowed and \n",
    "    distances = pairwise_distances(v.reshape(1, D), embedding, metric=metric).reshape(V)\n",
    "    \n",
    "    ## v shape is (50,)\n",
    "    ## v.reshape(1,D) is (1,50)\n",
    "    ## embedding.shape is (400000,50)\n",
    "    ## cosine similarity is 1 - (v0 dotproduct v1) / magnitude(v0) * magnitude(v1)\n",
    "    \n",
    "    ## original distances.shape is (1, 400000)\n",
    "    ## distances.reshape(V).shape is (400000,)\n",
    "    ##\n",
    "    \n",
    "    \n",
    "    \n",
    "    \n",
    "    ## sorts by closest dist, returning an array of indices (not distances themselves)\n",
    "    ## [1:n+1] ecludes vector v for searched word w (closest to itself) takes top n neighbors \n",
    "    idxs = distances.argsort()[1:n+1] \n",
    "    \n",
    "    ## prints out n nearest neighbors based on ranking\n",
    "    print(\"neighbors of %s:\" % w)\n",
    "    for idx in idxs:\n",
    "        \n",
    "        ## ind2word has idx\n",
    "        print(\"\\t%s\" % idx2word[idx])\n",
    "    "
   ]
  },
  {
   "cell_type": "code",
   "execution_count": null,
   "metadata": {},
   "outputs": [],
   "source": []
  },
  {
   "cell_type": "code",
   "execution_count": 12,
   "metadata": {},
   "outputs": [
    {
     "name": "stdout",
     "output_type": "stream",
     "text": [
      "Loading word vectors...\n",
      "Found 400000 word vectors.\n"
     ]
    }
   ],
   "source": [
    "# load in pre-trained word vectors\n",
    "print('Loading word vectors...')\n",
    "word2vec = {}\n",
    "embedding = []\n",
    "idx2word = []\n",
    "with open('./large_files/glove.6B.50d.txt', encoding='utf-8') as f:\n",
    "  # is just a space-separated text file in the format:\n",
    "  # word vec[0] vec[1] vec[2] ...\n",
    "  for line in f:\n",
    "    values = line.split()\n",
    "    word = values[0]\n",
    "    vec = np.asarray(values[1:], dtype='float32')\n",
    "    word2vec[word] = vec\n",
    "    embedding.append(vec)\n",
    "    idx2word.append(word)\n",
    "print('Found %s word vectors.' % len(word2vec))\n",
    "embedding = np.array(embedding)\n",
    "V, D = embedding.shape"
   ]
  },
  {
   "cell_type": "code",
   "execution_count": null,
   "metadata": {},
   "outputs": [],
   "source": []
  },
  {
   "cell_type": "code",
   "execution_count": 8,
   "metadata": {},
   "outputs": [
    {
     "name": "stdout",
     "output_type": "stream",
     "text": [
      "king  -  man  =  queen  -  woman\n",
      "france  -  paris  =  britain  -  london\n",
      "france  -  paris  =  italy  -  rome\n",
      "paris  -  france  =  rome  -  italy\n",
      "france  -  french  =  england  -  english\n",
      "japan  -  japanese  =  china  -  chinese\n"
     ]
    }
   ],
   "source": [
    "find_analogies('king', 'man', 'woman')\n",
    "find_analogies('france', 'paris', 'london')\n",
    "find_analogies('france', 'paris', 'rome')\n",
    "find_analogies('paris', 'france', 'italy')\n",
    "find_analogies('france', 'french', 'english')\n",
    "find_analogies('japan', 'japanese', 'chinese')\n",
    "# find_analogies('japan', 'japanese', 'italian')\n",
    "# find_analogies('japan', 'japanese', 'australian')\n",
    "# find_analogies('december', 'november', 'june')\n",
    "# find_analogies('miami', 'florida', 'texas')\n",
    "# find_analogies('einstein', 'scientist', 'painter')\n",
    "# find_analogies('china', 'rice', 'bread')\n",
    "# find_analogies('man', 'woman', 'she')\n",
    "# find_analogies('man', 'woman', 'aunt')\n",
    "# find_analogies('man', 'woman', 'sister')\n",
    "# find_analogies('man', 'woman', 'wife')\n",
    "# find_analogies('man', 'woman', 'actress')\n",
    "# find_analogies('man', 'woman', 'mother')\n",
    "# find_analogies('heir', 'heiress', 'princess')\n",
    "# find_analogies('nephew', 'niece', 'aunt')\n",
    "# find_analogies('france', 'paris', 'tokyo')\n",
    "# find_analogies('france', 'paris', 'beijing')\n",
    "# find_analogies('february', 'january', 'november')\n",
    "# find_analogies('france', 'paris', 'rome')\n",
    "# find_analogies('paris', 'france', 'italy')"
   ]
  },
  {
   "cell_type": "code",
   "execution_count": null,
   "metadata": {},
   "outputs": [],
   "source": []
  },
  {
   "cell_type": "code",
   "execution_count": null,
   "metadata": {},
   "outputs": [],
   "source": []
  },
  {
   "cell_type": "code",
   "execution_count": 9,
   "metadata": {},
   "outputs": [
    {
     "name": "stdout",
     "output_type": "stream",
     "text": [
      "neighbors of king:\n",
      "\tprince\n",
      "\tqueen\n",
      "\tii\n",
      "\temperor\n",
      "\tson\n",
      "neighbors of france:\n",
      "\tfrench\n",
      "\tbelgium\n",
      "\tparis\n",
      "\tspain\n",
      "\tnetherlands\n",
      "neighbors of japan:\n",
      "\tjapanese\n",
      "\tchina\n",
      "\tkorea\n",
      "\ttokyo\n",
      "\ttaiwan\n",
      "Einstein not in dictionary\n",
      "neighbors of woman:\n",
      "\tgirl\n",
      "\tman\n",
      "\tmother\n",
      "\ther\n",
      "\tboy\n"
     ]
    }
   ],
   "source": [
    "nearest_neighbors('king')\n",
    "nearest_neighbors('france')\n",
    "nearest_neighbors('japan')\n",
    "nearest_neighbors('Einstein')\n",
    "nearest_neighbors('woman')\n",
    "# nearest_neighbors('nephew')\n",
    "# nearest_neighbors('february')\n",
    "# nearest_neighbors('rome')\n"
   ]
  },
  {
   "cell_type": "code",
   "execution_count": null,
   "metadata": {},
   "outputs": [],
   "source": []
  },
  {
   "cell_type": "code",
   "execution_count": 10,
   "metadata": {},
   "outputs": [
    {
     "data": {
      "text/plain": [
       "(1, 50)"
      ]
     },
     "execution_count": 10,
     "metadata": {},
     "output_type": "execute_result"
    }
   ],
   "source": [
    "word2vec[\"king\"].reshape(1, D).shape"
   ]
  },
  {
   "cell_type": "code",
   "execution_count": 11,
   "metadata": {},
   "outputs": [
    {
     "data": {
      "text/plain": [
       "(400000, 50)"
      ]
     },
     "execution_count": 11,
     "metadata": {},
     "output_type": "execute_result"
    }
   ],
   "source": [
    "embedding.shape"
   ]
  },
  {
   "cell_type": "code",
   "execution_count": null,
   "metadata": {},
   "outputs": [],
   "source": []
  },
  {
   "cell_type": "code",
   "execution_count": null,
   "metadata": {},
   "outputs": [],
   "source": []
  },
  {
   "cell_type": "code",
   "execution_count": null,
   "metadata": {},
   "outputs": [],
   "source": []
  },
  {
   "cell_type": "code",
   "execution_count": null,
   "metadata": {},
   "outputs": [],
   "source": []
  },
  {
   "cell_type": "code",
   "execution_count": null,
   "metadata": {},
   "outputs": [],
   "source": []
  },
  {
   "cell_type": "code",
   "execution_count": null,
   "metadata": {},
   "outputs": [],
   "source": []
  },
  {
   "cell_type": "code",
   "execution_count": null,
   "metadata": {},
   "outputs": [],
   "source": []
  },
  {
   "cell_type": "code",
   "execution_count": null,
   "metadata": {},
   "outputs": [],
   "source": []
  },
  {
   "cell_type": "code",
   "execution_count": null,
   "metadata": {},
   "outputs": [],
   "source": []
  },
  {
   "cell_type": "code",
   "execution_count": null,
   "metadata": {},
   "outputs": [],
   "source": []
  },
  {
   "cell_type": "code",
   "execution_count": null,
   "metadata": {},
   "outputs": [],
   "source": []
  },
  {
   "cell_type": "code",
   "execution_count": null,
   "metadata": {},
   "outputs": [],
   "source": []
  },
  {
   "cell_type": "code",
   "execution_count": null,
   "metadata": {},
   "outputs": [],
   "source": []
  }
 ],
 "metadata": {
  "kernelspec": {
   "display_name": "Python 3",
   "language": "python",
   "name": "python3"
  },
  "language_info": {
   "codemirror_mode": {
    "name": "ipython",
    "version": 3
   },
   "file_extension": ".py",
   "mimetype": "text/x-python",
   "name": "python",
   "nbconvert_exporter": "python",
   "pygments_lexer": "ipython3",
   "version": "3.7.6"
  }
 },
 "nbformat": 4,
 "nbformat_minor": 4
}
