{
 "cells": [
  {
   "cell_type": "markdown",
   "metadata": {},
   "source": [
    "https://www.analyticsvidhya.com/blog/2019/03/learn-to-use-elmo-to-extract-features-from-text/"
   ]
  },
  {
   "cell_type": "markdown",
   "metadata": {},
   "source": [
    "#### to load elmo to local disk:\n",
    "#download the model to local so it can be used again and again\n",
    "$ mkdir module/module_elmo2\n",
    "# Download the module, and uncompress it to the destination folder. \n",
    "$ curl -L \"https://tfhub.dev/google/elmo/2?tf-hub-format=compressed\" | tar -zxvC module/module_elmo2"
   ]
  },
  {
   "cell_type": "code",
   "execution_count": null,
   "metadata": {},
   "outputs": [],
   "source": []
  },
  {
   "cell_type": "code",
   "execution_count": 1,
   "metadata": {},
   "outputs": [],
   "source": [
    "#data science\n",
    "import pandas as pd\n",
    "import numpy as np\n",
    "import sklearn as skl\n",
    "from sklearn.metrics.pairwise import cosine_similarity\n",
    "import random\n",
    "from matplotlib import pyplot as plt\n",
    "\n",
    "#NLP\n",
    "import spacy\n",
    "import re\n",
    "\n",
    "import time\n",
    "from tqdm import tqdm  # progress bar\n",
    "\n",
    "# file loading\n",
    "import pickle\n",
    "\n",
    "#deep learning\n",
    "import tensorflow as tf\n",
    "import tensorflow_hub as hub\n"
   ]
  },
  {
   "cell_type": "code",
   "execution_count": 2,
   "metadata": {},
   "outputs": [],
   "source": [
    "pd.set_option('display.max_colwidth', 200)"
   ]
  },
  {
   "cell_type": "code",
   "execution_count": null,
   "metadata": {},
   "outputs": [],
   "source": []
  },
  {
   "cell_type": "code",
   "execution_count": 3,
   "metadata": {},
   "outputs": [],
   "source": [
    "# resumes only for now\n",
    "# gives df with list of strings (tokenized) as well as lemmatized list of strings\n",
    "\n",
    "ec2_resumes_path = '/home/ubuntu/NLP_projects/job_recommender_project/data/large_files/lf_cleaned_lemmatized_tokenized_resumes.csv'\n",
    "ec2_pickle_resumes_path = '/home/ubuntu/NLP_projects/job_recommender_project/data/resumes_with_list_of_list.pickle'\n",
    "\n",
    "resumes = pd.read_pickle(ec2_pickle_resumes_path)\n"
   ]
  },
  {
   "cell_type": "code",
   "execution_count": 4,
   "metadata": {},
   "outputs": [
    {
     "data": {
      "text/html": [
       "<div>\n",
       "<style scoped>\n",
       "    .dataframe tbody tr th:only-of-type {\n",
       "        vertical-align: middle;\n",
       "    }\n",
       "\n",
       "    .dataframe tbody tr th {\n",
       "        vertical-align: top;\n",
       "    }\n",
       "\n",
       "    .dataframe thead th {\n",
       "        text-align: right;\n",
       "    }\n",
       "</style>\n",
       "<table border=\"1\" class=\"dataframe\">\n",
       "  <thead>\n",
       "    <tr style=\"text-align: right;\">\n",
       "      <th></th>\n",
       "      <th>ID</th>\n",
       "      <th>dirty_resume</th>\n",
       "      <th>resume</th>\n",
       "      <th>lol</th>\n",
       "    </tr>\n",
       "  </thead>\n",
       "  <tbody>\n",
       "    <tr>\n",
       "      <th>0</th>\n",
       "      <td>1</td>\n",
       "      <td>b'John H. Smith, P.H.R.\\n800-991-5187 | PO Box 1673 | Callahan, FL 32011 | info@greatresumesfast.com\\n\\nApproachable innovator with a passion for Human Resources.\\n\\nSENIOR HUMAN RESOURCES PROFESS...</td>\n",
       "      <td>john h smith phr    po box  callahan fl  infogreatresumesfastcom approachable innovator passion human resources senior human resources professional personable analytical flexible senior hr profess...</td>\n",
       "      <td>[[john, h], [smith, phr], [po, box, callahan, fl, infogreatresumesfastcom, approachable, innovator, passion, human, resources], [senior, human, resources, professional, personable, analytical, fle...</td>\n",
       "    </tr>\n",
       "    <tr>\n",
       "      <th>1</th>\n",
       "      <td>2</td>\n",
       "      <td>b'Name Surname\\nAddress\\nMobile No/Email\\nPERSONAL PROFILE\\nI am a self motivated individual who has a confident approach to people. I communicate\\nwell with all levels of personnel and feel that ...</td>\n",
       "      <td>name surname address mobile noemail personal profile self motivated individual confident approach people communicate well levels personnel feel good listening ability allows resolve problems quick...</td>\n",
       "      <td>[[name, surname, address, mobile, noemail, personal, profile, self, motivated, individual, confident, approach, people], [communicate, well, levels, personnel, feel, good, listening, ability, allo...</td>\n",
       "    </tr>\n",
       "    <tr>\n",
       "      <th>2</th>\n",
       "      <td>3</td>\n",
       "      <td>b'Anthony Brown\\nHR Assistant\\nAREAS OF EXPERTISE\\n\\nPERSONAL SUMMARY\\n\\nHR processes &amp; systems\\n\\nA competent and organised individual who is able to work as part of a team and\\nmanage several pr...</td>\n",
       "      <td>anthony brown hr assistant areas expertise personal summary hr processes systems competent organised individual able work part team manage several priorities one time anthony positive attitude str...</td>\n",
       "      <td>[[anthony, brown, hr, assistant, areas, expertise, personal, summary, hr, processes, systems, competent, organised, individual, able, work, part, team, manage, several, priorities, one, time], [an...</td>\n",
       "    </tr>\n",
       "    <tr>\n",
       "      <th>3</th>\n",
       "      <td>4</td>\n",
       "      <td>b'www.downloadmela.com\\nSatheesh\\nEMAIL ID:\\nCareer Objective\\nTo pursue a growth oriented career with a progressive company that provides a scope to apply my\\nknowledge and skills that would help...</td>\n",
       "      <td>satheesh email id career objective pursue growth oriented career progressive company provides scope apply knowledge skills would help contribute best organization personal skills enjoy strong log...</td>\n",
       "      <td>[[id, career, objective, pursue, growth, oriented, career, progressive, company, provides, scope, apply, knowledge, skills, would, help, contribute, best, organization], [personal, skills, enjoy, ...</td>\n",
       "    </tr>\n",
       "    <tr>\n",
       "      <th>4</th>\n",
       "      <td>5</td>\n",
       "      <td>b\"HUMAN RESOURCES DIRECTOR\\n\\xef\\x82\\xb7Expert in organizational effectiveness.\\n\\xef\\x82\\xb7Recognized consensus-builder among diverse groups.\\n\\xef\\x82\\xb7Innovative problem solver.\\n\\xef\\x82\\xb...</td>\n",
       "      <td>human resources director expert organizational effectiveness recognized consensus builder among diverse groups innovative problem solver strategic partner effective executive coach facilitator man...</td>\n",
       "      <td>[[human, resources, director, expert, organizational, effectiveness], [recognized, consensus, builder, among, diverse, groups], [innovative, problem, solver], [strategic, partner], [effective, exe...</td>\n",
       "    </tr>\n",
       "  </tbody>\n",
       "</table>\n",
       "</div>"
      ],
      "text/plain": [
       "   ID  \\\n",
       "0   1   \n",
       "1   2   \n",
       "2   3   \n",
       "3   4   \n",
       "4   5   \n",
       "\n",
       "                                                                                                                                                                                              dirty_resume  \\\n",
       "0  b'John H. Smith, P.H.R.\\n800-991-5187 | PO Box 1673 | Callahan, FL 32011 | info@greatresumesfast.com\\n\\nApproachable innovator with a passion for Human Resources.\\n\\nSENIOR HUMAN RESOURCES PROFESS...   \n",
       "1  b'Name Surname\\nAddress\\nMobile No/Email\\nPERSONAL PROFILE\\nI am a self motivated individual who has a confident approach to people. I communicate\\nwell with all levels of personnel and feel that ...   \n",
       "2  b'Anthony Brown\\nHR Assistant\\nAREAS OF EXPERTISE\\n\\nPERSONAL SUMMARY\\n\\nHR processes & systems\\n\\nA competent and organised individual who is able to work as part of a team and\\nmanage several pr...   \n",
       "3  b'www.downloadmela.com\\nSatheesh\\nEMAIL ID:\\nCareer Objective\\nTo pursue a growth oriented career with a progressive company that provides a scope to apply my\\nknowledge and skills that would help...   \n",
       "4  b\"HUMAN RESOURCES DIRECTOR\\n\\xef\\x82\\xb7Expert in organizational effectiveness.\\n\\xef\\x82\\xb7Recognized consensus-builder among diverse groups.\\n\\xef\\x82\\xb7Innovative problem solver.\\n\\xef\\x82\\xb...   \n",
       "\n",
       "                                                                                                                                                                                                    resume  \\\n",
       "0  john h smith phr    po box  callahan fl  infogreatresumesfastcom approachable innovator passion human resources senior human resources professional personable analytical flexible senior hr profess...   \n",
       "1  name surname address mobile noemail personal profile self motivated individual confident approach people communicate well levels personnel feel good listening ability allows resolve problems quick...   \n",
       "2  anthony brown hr assistant areas expertise personal summary hr processes systems competent organised individual able work part team manage several priorities one time anthony positive attitude str...   \n",
       "3   satheesh email id career objective pursue growth oriented career progressive company provides scope apply knowledge skills would help contribute best organization personal skills enjoy strong log...   \n",
       "4  human resources director expert organizational effectiveness recognized consensus builder among diverse groups innovative problem solver strategic partner effective executive coach facilitator man...   \n",
       "\n",
       "                                                                                                                                                                                                       lol  \n",
       "0  [[john, h], [smith, phr], [po, box, callahan, fl, infogreatresumesfastcom, approachable, innovator, passion, human, resources], [senior, human, resources, professional, personable, analytical, fle...  \n",
       "1  [[name, surname, address, mobile, noemail, personal, profile, self, motivated, individual, confident, approach, people], [communicate, well, levels, personnel, feel, good, listening, ability, allo...  \n",
       "2  [[anthony, brown, hr, assistant, areas, expertise, personal, summary, hr, processes, systems, competent, organised, individual, able, work, part, team, manage, several, priorities, one, time], [an...  \n",
       "3  [[id, career, objective, pursue, growth, oriented, career, progressive, company, provides, scope, apply, knowledge, skills, would, help, contribute, best, organization], [personal, skills, enjoy, ...  \n",
       "4  [[human, resources, director, expert, organizational, effectiveness], [recognized, consensus, builder, among, diverse, groups], [innovative, problem, solver], [strategic, partner], [effective, exe...  "
      ]
     },
     "execution_count": 4,
     "metadata": {},
     "output_type": "execute_result"
    }
   ],
   "source": [
    "resumes.head()"
   ]
  },
  {
   "cell_type": "code",
   "execution_count": 5,
   "metadata": {},
   "outputs": [
    {
     "data": {
      "text/plain": [
       "str"
      ]
     },
     "execution_count": 5,
     "metadata": {},
     "output_type": "execute_result"
    }
   ],
   "source": [
    "type(resumes['lol'][0][0][0])"
   ]
  },
  {
   "cell_type": "code",
   "execution_count": 6,
   "metadata": {},
   "outputs": [],
   "source": [
    "resumes['los'] = resumes['lol']"
   ]
  },
  {
   "cell_type": "code",
   "execution_count": 7,
   "metadata": {},
   "outputs": [
    {
     "data": {
      "text/plain": [
       "35"
      ]
     },
     "execution_count": 7,
     "metadata": {},
     "output_type": "execute_result"
    }
   ],
   "source": [
    "len(resumes['los'][0])"
   ]
  },
  {
   "cell_type": "code",
   "execution_count": 8,
   "metadata": {},
   "outputs": [],
   "source": [
    "for i in range (0, len(resumes['los'])):\n",
    "    for j in range (0, len(resumes['los'][i])):\n",
    "        resumes['los'][i][j] = ' '.join(resumes['los'][i][j])"
   ]
  },
  {
   "cell_type": "code",
   "execution_count": 9,
   "metadata": {},
   "outputs": [
    {
     "data": {
      "text/plain": [
       "'senior human resources professional personable analytical flexible senior hr professional multifaceted expertise'"
      ]
     },
     "execution_count": 9,
     "metadata": {},
     "output_type": "execute_result"
    }
   ],
   "source": [
    "resumes['los'][0][3]"
   ]
  },
  {
   "cell_type": "code",
   "execution_count": 67,
   "metadata": {},
   "outputs": [],
   "source": [
    "elmo_in = resumes['los']\n"
   ]
  },
  {
   "cell_type": "code",
   "execution_count": null,
   "metadata": {},
   "outputs": [],
   "source": []
  },
  {
   "cell_type": "code",
   "execution_count": 11,
   "metadata": {},
   "outputs": [
    {
     "name": "stdout",
     "output_type": "stream",
     "text": [
      "0 :   35\n",
      "1 :   9\n",
      "2 :   65\n",
      "3 :   63\n",
      "4 :   46\n",
      "5 :   35\n",
      "6 :   56\n",
      "7 :   76\n",
      "8 :   50\n",
      "9 :   4\n",
      "10 :   15\n",
      "11 :   32\n",
      "12 :   60\n",
      "13 :   33\n",
      "14 :   87\n",
      "15 :   65\n",
      "16 :   26\n",
      "17 :   7\n",
      "18 :   1\n",
      "19 :   31\n",
      "20 :   28\n",
      "21 :   31\n",
      "22 :   14\n",
      "23 :   36\n",
      "24 :   4\n",
      "25 :   24\n",
      "26 :   72\n",
      "27 :   15\n",
      "28 :   212\n",
      "29 :   15\n",
      "30 :   31\n",
      "31 :   69\n",
      "32 :   50\n",
      "33 :   41\n",
      "34 :   945\n",
      "35 :   29\n",
      "36 :   50\n",
      "37 :   6\n",
      "38 :   22\n",
      "39 :   15\n",
      "40 :   12\n",
      "41 :   64\n",
      "42 :   11\n",
      "43 :   22\n",
      "44 :   6\n",
      "45 :   12\n",
      "46 :   25\n",
      "47 :   6\n",
      "48 :   40\n",
      "49 :   8\n",
      "50 :   61\n",
      "51 :   10\n",
      "52 :   17\n",
      "53 :   17\n",
      "54 :   14\n",
      "55 :   32\n",
      "56 :   11\n",
      "57 :   17\n",
      "58 :   9\n",
      "59 :   26\n",
      "60 :   57\n",
      "61 :   20\n",
      "62 :   32\n",
      "63 :   3\n",
      "64 :   15\n",
      "65 :   3\n",
      "66 :   21\n",
      "67 :   28\n",
      "68 :   23\n",
      "69 :   70\n",
      "70 :   31\n",
      "71 :   30\n",
      "72 :   17\n",
      "73 :   92\n",
      "74 :   9\n",
      "75 :   3\n",
      "76 :   74\n",
      "77 :   32\n",
      "78 :   2\n",
      "79 :   68\n",
      "80 :   3\n",
      "81 :   30\n",
      "82 :   23\n",
      "83 :   26\n",
      "84 :   3\n",
      "85 :   18\n",
      "86 :   40\n",
      "87 :   153\n",
      "88 :   35\n",
      "89 :   61\n",
      "90 :   2\n",
      "91 :   20\n",
      "92 :   93\n",
      "93 :   1\n",
      "94 :   26\n",
      "95 :   42\n",
      "96 :   47\n",
      "97 :   42\n",
      "98 :   24\n",
      "99 :   100\n",
      "100 :   42\n",
      "101 :   45\n",
      "102 :   25\n",
      "103 :   12\n",
      "104 :   26\n",
      "105 :   88\n",
      "106 :   5\n",
      "107 :   30\n",
      "108 :   46\n",
      "109 :   60\n",
      "110 :   57\n",
      "111 :   36\n",
      "112 :   7\n",
      "113 :   58\n",
      "114 :   35\n",
      "115 :   27\n",
      "116 :   35\n",
      "117 :   16\n",
      "118 :   58\n",
      "119 :   37\n",
      "120 :   32\n",
      "121 :   19\n",
      "122 :   26\n",
      "123 :   4\n",
      "124 :   33\n",
      "125 :   2\n",
      "126 :   11\n",
      "127 :   1\n",
      "128 :   74\n",
      "129 :   26\n",
      "130 :   51\n",
      "131 :   4\n",
      "132 :   1\n",
      "133 :   41\n",
      "134 :   19\n",
      "135 :   66\n",
      "136 :   3\n",
      "137 :   40\n",
      "138 :   68\n",
      "139 :   17\n",
      "140 :   55\n",
      "141 :   35\n",
      "142 :   54\n",
      "143 :   20\n",
      "144 :   115\n",
      "145 :   1\n",
      "146 :   1\n",
      "147 :   27\n",
      "148 :   3\n",
      "149 :   8\n",
      "150 :   59\n",
      "151 :   16\n",
      "152 :   35\n",
      "153 :   244\n",
      "154 :   36\n",
      "155 :   27\n",
      "156 :   35\n",
      "157 :   30\n",
      "158 :   7\n",
      "159 :   47\n",
      "160 :   12\n",
      "161 :   12\n",
      "162 :   2\n",
      "163 :   40\n",
      "164 :   45\n",
      "165 :   30\n",
      "166 :   55\n",
      "167 :   1\n",
      "168 :   25\n",
      "169 :   3\n",
      "170 :   64\n",
      "171 :   110\n",
      "172 :   71\n",
      "173 :   4\n",
      "174 :   52\n",
      "175 :   29\n",
      "176 :   7\n",
      "177 :   21\n",
      "178 :   6\n",
      "179 :   24\n",
      "180 :   29\n",
      "181 :   15\n",
      "182 :   9\n",
      "183 :   26\n",
      "184 :   34\n",
      "185 :   85\n",
      "186 :   171\n",
      "187 :   28\n",
      "188 :   42\n",
      "189 :   247\n",
      "190 :   22\n",
      "191 :   9\n",
      "192 :   10\n",
      "193 :   47\n",
      "194 :   4\n",
      "195 :   31\n",
      "196 :   20\n",
      "197 :   19\n",
      "198 :   11\n",
      "199 :   23\n",
      "200 :   28\n",
      "201 :   24\n",
      "202 :   25\n",
      "203 :   60\n",
      "204 :   78\n",
      "205 :   22\n",
      "206 :   45\n",
      "207 :   17\n",
      "208 :   25\n",
      "209 :   47\n",
      "210 :   4\n",
      "211 :   2\n",
      "212 :   21\n",
      "213 :   36\n",
      "214 :   12\n",
      "215 :   51\n",
      "216 :   93\n",
      "217 :   40\n",
      "218 :   9\n",
      "219 :   35\n",
      "220 :   55\n",
      "221 :   86\n",
      "222 :   55\n",
      "223 :   31\n",
      "224 :   194\n",
      "225 :   4\n",
      "226 :   41\n",
      "227 :   24\n",
      "228 :   36\n",
      "229 :   153\n",
      "230 :   48\n",
      "231 :   39\n",
      "232 :   19\n",
      "233 :   18\n",
      "234 :   4\n",
      "235 :   30\n",
      "236 :   5\n",
      "237 :   16\n",
      "238 :   16\n",
      "239 :   16\n",
      "240 :   19\n",
      "241 :   23\n",
      "242 :   17\n",
      "243 :   7\n",
      "244 :   9\n",
      "245 :   171\n",
      "246 :   27\n",
      "247 :   10\n",
      "248 :   101\n",
      "249 :   3\n",
      "250 :   4\n",
      "251 :   44\n",
      "252 :   25\n",
      "253 :   149\n",
      "254 :   66\n",
      "255 :   37\n",
      "256 :   5\n",
      "257 :   6\n",
      "258 :   151\n",
      "259 :   19\n",
      "260 :   45\n",
      "261 :   18\n",
      "262 :   10\n",
      "263 :   23\n",
      "264 :   202\n",
      "265 :   41\n",
      "266 :   16\n",
      "267 :   157\n",
      "268 :   19\n",
      "269 :   14\n",
      "270 :   25\n",
      "271 :   7\n",
      "272 :   20\n",
      "273 :   23\n",
      "274 :   3\n",
      "275 :   1\n",
      "276 :   154\n",
      "277 :   29\n",
      "278 :   76\n",
      "279 :   21\n",
      "280 :   5\n",
      "281 :   16\n",
      "282 :   1\n",
      "283 :   39\n",
      "284 :   4\n",
      "285 :   9\n",
      "286 :   4\n",
      "287 :   1094\n",
      "288 :   13\n",
      "289 :   90\n",
      "290 :   181\n",
      "291 :   53\n",
      "292 :   4\n",
      "293 :   47\n",
      "294 :   135\n",
      "295 :   1\n",
      "296 :   23\n",
      "297 :   11\n",
      "298 :   1\n",
      "299 :   18\n",
      "300 :   19\n",
      "301 :   4\n",
      "302 :   2\n",
      "303 :   40\n",
      "304 :   40\n",
      "305 :   3\n",
      "306 :   24\n",
      "307 :   19\n",
      "308 :   71\n",
      "309 :   18\n",
      "310 :   1\n",
      "311 :   4\n",
      "312 :   17\n",
      "313 :   1\n",
      "314 :   232\n",
      "315 :   7\n",
      "316 :   143\n",
      "317 :   18\n",
      "318 :   1\n",
      "319 :   22\n",
      "320 :   4\n",
      "321 :   35\n",
      "322 :   5\n",
      "323 :   3\n",
      "324 :   239\n",
      "325 :   3\n",
      "326 :   54\n",
      "327 :   154\n",
      "328 :   292\n",
      "329 :   16\n",
      "330 :   16\n",
      "331 :   381\n",
      "332 :   135\n",
      "333 :   59\n",
      "334 :   6\n",
      "335 :   3\n",
      "336 :   1\n",
      "337 :   6\n",
      "338 :   3\n",
      "339 :   3\n",
      "340 :   31\n",
      "341 :   119\n",
      "342 :   318\n",
      "343 :   13\n",
      "344 :   53\n",
      "345 :   4\n",
      "346 :   9\n",
      "347 :   393\n",
      "348 :   18\n",
      "349 :   23\n",
      "350 :   2\n",
      "351 :   232\n",
      "352 :   16\n",
      "353 :   14\n",
      "354 :   218\n",
      "355 :   4\n",
      "356 :   135\n",
      "357 :   3\n",
      "358 :   37\n",
      "359 :   6\n",
      "360 :   41\n",
      "361 :   7\n",
      "362 :   1\n",
      "363 :   129\n",
      "364 :   194\n",
      "365 :   19\n",
      "366 :   4\n",
      "367 :   4\n",
      "368 :   1\n",
      "369 :   1\n",
      "370 :   17\n",
      "371 :   78\n",
      "372 :   4\n",
      "373 :   57\n",
      "374 :   33\n",
      "375 :   8\n",
      "376 :   33\n",
      "377 :   33\n",
      "378 :   18\n",
      "379 :   7\n",
      "380 :   8\n",
      "381 :   8\n",
      "382 :   177\n",
      "383 :   33\n",
      "384 :   5\n",
      "385 :   38\n",
      "386 :   18\n",
      "387 :   66\n",
      "388 :   66\n",
      "389 :   75\n",
      "390 :   27\n",
      "391 :   16\n",
      "392 :   27\n",
      "393 :   44\n",
      "394 :   12\n",
      "395 :   43\n",
      "396 :   22\n",
      "397 :   6\n",
      "398 :   51\n",
      "399 :   62\n",
      "400 :   390\n",
      "401 :   66\n",
      "402 :   1\n",
      "403 :   2\n",
      "404 :   375\n",
      "405 :   137\n",
      "406 :   229\n",
      "407 :   57\n",
      "408 :   7\n",
      "409 :   88\n",
      "410 :   62\n",
      "411 :   42\n",
      "412 :   4\n",
      "413 :   41\n",
      "414 :   118\n",
      "415 :   36\n",
      "416 :   66\n",
      "417 :   33\n",
      "418 :   19\n",
      "419 :   26\n",
      "420 :   57\n",
      "421 :   56\n",
      "422 :   3\n",
      "423 :   14\n",
      "424 :   26\n",
      "425 :   104\n",
      "426 :   8\n",
      "427 :   8\n",
      "428 :   18\n",
      "429 :   157\n",
      "430 :   101\n",
      "431 :   61\n",
      "432 :   24\n",
      "433 :   14\n",
      "434 :   29\n",
      "435 :   96\n",
      "436 :   28\n",
      "437 :   37\n",
      "438 :   12\n",
      "439 :   11\n",
      "440 :   15\n",
      "441 :   5\n",
      "442 :   32\n",
      "443 :   17\n",
      "444 :   110\n",
      "445 :   120\n",
      "446 :   5\n",
      "447 :   30\n",
      "448 :   145\n",
      "449 :   12\n",
      "450 :   5\n",
      "451 :   4\n",
      "452 :   26\n",
      "453 :   30\n",
      "454 :   24\n",
      "455 :   26\n",
      "456 :   10\n",
      "457 :   63\n",
      "458 :   9\n",
      "459 :   44\n",
      "460 :   17\n",
      "461 :   19\n",
      "462 :   5\n",
      "463 :   17\n",
      "464 :   2\n",
      "465 :   3\n",
      "466 :   30\n",
      "467 :   9\n",
      "468 :   9\n",
      "469 :   11\n",
      "470 :   6\n",
      "471 :   40\n",
      "472 :   5\n",
      "473 :   3\n",
      "474 :   28\n",
      "475 :   45\n",
      "476 :   16\n",
      "477 :   11\n",
      "478 :   60\n",
      "479 :   9\n",
      "480 :   14\n",
      "481 :   467\n",
      "482 :   3\n",
      "483 :   20\n",
      "484 :   86\n",
      "485 :   173\n",
      "486 :   3\n",
      "487 :   1\n",
      "488 :   396\n",
      "489 :   1250\n",
      "490 :   7\n",
      "491 :   604\n",
      "492 :   20\n",
      "493 :   29\n",
      "494 :   14\n",
      "495 :   28\n",
      "496 :   25\n",
      "497 :   12\n",
      "498 :   85\n",
      "499 :   21\n",
      "500 :   31\n",
      "501 :   912\n",
      "502 :   3\n",
      "503 :   31\n",
      "504 :   30\n",
      "505 :   3\n",
      "506 :   421\n",
      "507 :   52\n",
      "508 :   16\n",
      "509 :   23\n",
      "510 :   334\n",
      "511 :   19\n",
      "512 :   324\n",
      "513 :   2\n",
      "514 :   3\n",
      "515 :   182\n",
      "516 :   49\n",
      "517 :   50\n",
      "518 :   18\n",
      "519 :   22\n",
      "520 :   79\n",
      "521 :   30\n",
      "522 :   12\n",
      "523 :   33\n",
      "524 :   10\n",
      "525 :   43\n",
      "526 :   31\n",
      "527 :   20\n",
      "528 :   6\n",
      "529 :   19\n",
      "530 :   51\n",
      "531 :   32\n",
      "532 :   203\n",
      "533 :   2\n",
      "534 :   4\n",
      "535 :   2\n",
      "536 :   2\n",
      "537 :   44\n",
      "538 :   10\n",
      "539 :   17\n",
      "540 :   34\n",
      "541 :   5\n",
      "542 :   5\n",
      "543 :   5\n",
      "544 :   29\n",
      "545 :   334\n",
      "546 :   200\n",
      "547 :   10\n",
      "548 :   4\n",
      "549 :   197\n",
      "550 :   59\n",
      "551 :   28\n",
      "552 :   11\n",
      "553 :   7\n",
      "554 :   14\n",
      "555 :   14\n",
      "556 :   4\n",
      "557 :   41\n",
      "558 :   32\n",
      "559 :   28\n",
      "560 :   2\n",
      "561 :   13\n",
      "562 :   2\n",
      "563 :   6\n",
      "564 :   23\n",
      "565 :   12\n",
      "566 :   5\n",
      "567 :   22\n",
      "568 :   28\n",
      "569 :   10\n",
      "570 :   31\n",
      "571 :   25\n",
      "572 :   25\n",
      "573 :   22\n",
      "574 :   10\n",
      "575 :   29\n",
      "576 :   3\n",
      "577 :   8\n",
      "578 :   27\n",
      "579 :   2\n",
      "580 :   40\n",
      "581 :   17\n",
      "582 :   1\n",
      "583 :   10\n",
      "584 :   9\n",
      "585 :   8\n",
      "586 :   5\n",
      "587 :   40\n",
      "588 :   27\n",
      "589 :   23\n",
      "590 :   4\n",
      "591 :   27\n",
      "592 :   8\n",
      "593 :   7\n",
      "594 :   24\n",
      "595 :   9\n",
      "596 :   7\n",
      "597 :   3\n",
      "598 :   9\n",
      "599 :   12\n",
      "600 :   17\n",
      "601 :   8\n",
      "602 :   17\n",
      "603 :   10\n",
      "604 :   20\n",
      "605 :   20\n",
      "606 :   28\n",
      "607 :   7\n",
      "608 :   47\n",
      "609 :   34\n",
      "610 :   6\n",
      "611 :   24\n",
      "612 :   16\n",
      "613 :   2\n",
      "614 :   22\n",
      "615 :   3\n",
      "616 :   5\n",
      "617 :   8\n",
      "618 :   3\n",
      "619 :   6\n",
      "620 :   40\n",
      "621 :   8\n",
      "622 :   4\n",
      "623 :   23\n",
      "624 :   38\n",
      "625 :   9\n",
      "626 :   9\n",
      "627 :   21\n",
      "628 :   1\n",
      "629 :   1\n",
      "630 :   49\n",
      "631 :   21\n",
      "632 :   46\n",
      "633 :   18\n",
      "634 :   14\n",
      "635 :   50\n",
      "636 :   4\n",
      "637 :   52\n",
      "638 :   48\n",
      "639 :   8\n",
      "640 :   12\n",
      "641 :   32\n",
      "642 :   4\n",
      "643 :   22\n",
      "644 :   2\n",
      "645 :   48\n",
      "646 :   1\n",
      "647 :   9\n",
      "648 :   23\n",
      "649 :   2\n",
      "650 :   23\n",
      "651 :   82\n",
      "652 :   37\n",
      "653 :   5\n",
      "654 :   8\n",
      "655 :   1\n",
      "656 :   26\n",
      "657 :   6\n",
      "658 :   21\n",
      "659 :   2\n",
      "660 :   29\n",
      "661 :   13\n",
      "662 :   7\n",
      "663 :   23\n",
      "664 :   35\n",
      "665 :   35\n",
      "666 :   73\n",
      "667 :   22\n",
      "668 :   4\n",
      "669 :   18\n",
      "670 :   62\n",
      "671 :   54\n",
      "672 :   22\n",
      "673 :   14\n",
      "674 :   13\n",
      "675 :   29\n",
      "676 :   54\n",
      "677 :   125\n",
      "678 :   97\n",
      "679 :   94\n",
      "680 :   34\n",
      "681 :   12\n",
      "682 :   24\n",
      "683 :   11\n",
      "684 :   4\n",
      "685 :   7\n",
      "686 :   15\n",
      "687 :   100\n",
      "688 :   42\n",
      "689 :   4\n",
      "690 :   25\n",
      "691 :   21\n",
      "692 :   32\n",
      "693 :   52\n",
      "694 :   25\n",
      "695 :   64\n",
      "696 :   8\n",
      "697 :   2\n",
      "698 :   20\n",
      "699 :   7\n",
      "700 :   48\n",
      "701 :   2\n",
      "702 :   32\n",
      "703 :   29\n",
      "704 :   26\n",
      "705 :   84\n",
      "706 :   9\n",
      "707 :   6\n",
      "708 :   34\n",
      "709 :   6\n",
      "710 :   9\n",
      "711 :   2\n",
      "712 :   10\n",
      "713 :   504\n",
      "714 :   47\n",
      "715 :   6\n",
      "716 :   1\n",
      "717 :   1\n",
      "718 :   41\n",
      "719 :   85\n",
      "720 :   1\n",
      "721 :   33\n",
      "722 :   124\n",
      "723 :   3\n",
      "724 :   12\n",
      "725 :   31\n",
      "726 :   10\n",
      "727 :   6\n",
      "728 :   11\n",
      "729 :   588\n",
      "730 :   20\n",
      "731 :   12\n",
      "732 :   5\n",
      "733 :   49\n",
      "734 :   25\n",
      "735 :   25\n",
      "736 :   4\n",
      "737 :   9\n",
      "738 :   1\n",
      "739 :   88\n",
      "740 :   56\n",
      "741 :   22\n",
      "742 :   948\n",
      "743 :   192\n",
      "744 :   24\n",
      "745 :   23\n",
      "746 :   8\n",
      "747 :   6\n",
      "748 :   17\n",
      "749 :   7\n",
      "750 :   42\n",
      "751 :   10\n",
      "752 :   1\n",
      "753 :   1\n",
      "754 :   19\n",
      "755 :   5\n",
      "756 :   6\n",
      "757 :   13\n",
      "758 :   12\n",
      "759 :   26\n",
      "760 :   12\n",
      "761 :   2\n",
      "762 :   10\n",
      "763 :   14\n",
      "764 :   13\n",
      "765 :   10\n",
      "766 :   17\n",
      "767 :   9\n",
      "768 :   6\n",
      "769 :   28\n",
      "770 :   9\n",
      "771 :   3\n",
      "772 :   61\n",
      "773 :   48\n",
      "774 :   1\n",
      "775 :   25\n",
      "776 :   8\n",
      "777 :   3\n",
      "778 :   42\n",
      "779 :   23\n",
      "780 :   28\n",
      "781 :   17\n",
      "782 :   2\n",
      "783 :   11\n",
      "784 :   28\n",
      "785 :   64\n",
      "786 :   6\n",
      "787 :   31\n",
      "788 :   13\n",
      "789 :   25\n",
      "790 :   27\n",
      "791 :   66\n",
      "792 :   45\n",
      "793 :   21\n",
      "794 :   18\n",
      "795 :   15\n",
      "796 :   15\n",
      "797 :   1\n",
      "798 :   22\n",
      "799 :   57\n",
      "800 :   33\n",
      "801 :   18\n",
      "802 :   1\n",
      "803 :   20\n",
      "804 :   5\n",
      "805 :   13\n",
      "806 :   54\n",
      "807 :   29\n",
      "808 :   16\n",
      "809 :   56\n",
      "810 :   2\n",
      "811 :   14\n",
      "812 :   21\n",
      "813 :   14\n",
      "814 :   32\n",
      "815 :   16\n",
      "816 :   21\n",
      "817 :   18\n",
      "818 :   9\n",
      "819 :   27\n",
      "820 :   51\n",
      "821 :   20\n",
      "822 :   22\n",
      "823 :   22\n",
      "824 :   3\n",
      "825 :   1\n",
      "826 :   1\n",
      "827 :   45\n",
      "828 :   11\n",
      "829 :   57\n",
      "830 :   16\n",
      "831 :   12\n",
      "832 :   19\n",
      "833 :   16\n",
      "834 :   16\n",
      "835 :   21\n",
      "836 :   4\n",
      "837 :   35\n",
      "838 :   8\n",
      "839 :   35\n",
      "840 :   32\n",
      "841 :   6\n",
      "842 :   25\n",
      "843 :   47\n",
      "844 :   45\n",
      "845 :   57\n",
      "846 :   40\n",
      "847 :   14\n",
      "848 :   7\n",
      "849 :   21\n",
      "850 :   15\n",
      "851 :   1\n",
      "852 :   9\n",
      "853 :   21\n",
      "854 :   123\n",
      "855 :   49\n",
      "856 :   1\n",
      "857 :   6\n",
      "858 :   51\n",
      "859 :   2\n",
      "860 :   14\n",
      "861 :   10\n",
      "862 :   32\n",
      "863 :   57\n",
      "864 :   20\n",
      "865 :   12\n",
      "866 :   32\n",
      "867 :   3\n",
      "868 :   12\n",
      "869 :   74\n",
      "870 :   4\n",
      "871 :   13\n",
      "872 :   40\n",
      "873 :   104\n",
      "874 :   16\n",
      "875 :   3\n",
      "876 :   85\n",
      "877 :   5\n",
      "878 :   19\n",
      "879 :   15\n",
      "880 :   30\n",
      "881 :   121\n",
      "882 :   5\n",
      "883 :   16\n",
      "884 :   115\n",
      "885 :   1\n",
      "886 :   43\n",
      "887 :   16\n",
      "888 :   1\n",
      "889 :   85\n",
      "890 :   60\n",
      "891 :   55\n",
      "892 :   19\n",
      "893 :   540\n",
      "894 :   28\n",
      "895 :   24\n",
      "896 :   32\n",
      "897 :   156\n",
      "898 :   2\n",
      "899 :   100\n",
      "900 :   393\n",
      "901 :   3\n",
      "902 :   153\n",
      "903 :   5\n",
      "904 :   63\n",
      "905 :   18\n",
      "906 :   110\n",
      "907 :   5\n",
      "908 :   92\n",
      "909 :   153\n",
      "910 :   212\n",
      "911 :   8\n",
      "912 :   19\n",
      "913 :   24\n",
      "914 :   398\n",
      "915 :   286\n",
      "916 :   10\n",
      "917 :   10\n",
      "918 :   27\n",
      "919 :   15\n",
      "920 :   26\n",
      "921 :   263\n",
      "922 :   12\n",
      "923 :   234\n",
      "924 :   23\n",
      "925 :   63\n",
      "926 :   31\n",
      "927 :   12\n",
      "928 :   20\n",
      "929 :   7\n",
      "930 :   14\n",
      "931 :   16\n",
      "932 :   8\n",
      "933 :   18\n",
      "934 :   25\n",
      "935 :   232\n",
      "936 :   194\n",
      "937 :   154\n",
      "938 :   22\n",
      "939 :   1\n",
      "940 :   38\n",
      "941 :   45\n",
      "942 :   10\n",
      "943 :   31\n",
      "944 :   45\n",
      "945 :   24\n",
      "946 :   22\n",
      "947 :   263\n",
      "948 :   234\n",
      "949 :   1\n",
      "950 :   27\n",
      "951 :   13\n",
      "952 :   16\n",
      "953 :   71\n",
      "954 :   162\n",
      "955 :   17\n",
      "956 :   1\n",
      "957 :   110\n",
      "958 :   28\n",
      "959 :   55\n",
      "960 :   51\n",
      "961 :   16\n",
      "962 :   2\n",
      "963 :   14\n",
      "964 :   11\n",
      "965 :   730\n",
      "966 :   4\n",
      "967 :   87\n",
      "968 :   12\n",
      "969 :   14\n",
      "970 :   17\n",
      "971 :   10\n",
      "972 :   2\n",
      "973 :   23\n",
      "974 :   2\n",
      "975 :   61\n",
      "976 :   3\n",
      "977 :   1\n",
      "978 :   214\n",
      "979 :   195\n",
      "980 :   9\n",
      "981 :   1\n",
      "982 :   12\n",
      "983 :   63\n",
      "984 :   41\n",
      "985 :   74\n",
      "986 :   17\n",
      "987 :   74\n",
      "988 :   22\n",
      "989 :   23\n",
      "990 :   74\n",
      "991 :   31\n",
      "992 :   398\n",
      "993 :   11\n",
      "994 :   30\n",
      "995 :   14\n",
      "996 :   20\n",
      "997 :   25\n",
      "998 :   9\n",
      "999 :   11\n",
      "1000 :   16\n",
      "1001 :   15\n",
      "1002 :   14\n",
      "1003 :   3\n",
      "1004 :   16\n",
      "1005 :   196\n",
      "1006 :   15\n",
      "1007 :   1\n",
      "1008 :   28\n",
      "1009 :   23\n",
      "1010 :   66\n",
      "1011 :   2\n",
      "1012 :   7\n",
      "1013 :   12\n",
      "1014 :   3\n",
      "1015 :   77\n",
      "1016 :   20\n",
      "1017 :   30\n",
      "1018 :   8\n",
      "1019 :   17\n",
      "1020 :   15\n",
      "1021 :   25\n",
      "1022 :   17\n",
      "1023 :   10\n",
      "1024 :   1\n",
      "1025 :   26\n",
      "1026 :   10\n",
      "1027 :   8\n",
      "1028 :   42\n",
      "1029 :   31\n",
      "1030 :   23\n",
      "1031 :   57\n",
      "1032 :   15\n",
      "1033 :   45\n",
      "1034 :   20\n",
      "1035 :   4\n",
      "1036 :   36\n",
      "1037 :   40\n",
      "1038 :   31\n",
      "1039 :   31\n",
      "1040 :   15\n",
      "1041 :   2\n",
      "1042 :   36\n",
      "1043 :   27\n",
      "1044 :   5\n",
      "1045 :   6\n",
      "1046 :   30\n",
      "1047 :   31\n",
      "1048 :   11\n",
      "1049 :   7\n",
      "1050 :   17\n",
      "1051 :   37\n",
      "1052 :   59\n",
      "1053 :   146\n",
      "1054 :   32\n",
      "1055 :   38\n",
      "1056 :   25\n",
      "1057 :   53\n",
      "1058 :   4\n",
      "1059 :   9\n",
      "1060 :   4\n",
      "1061 :   28\n",
      "1062 :   49\n",
      "1063 :   2\n",
      "1064 :   19\n",
      "1065 :   4\n",
      "1066 :   16\n",
      "1067 :   93\n",
      "1068 :   7\n",
      "1069 :   29\n",
      "1070 :   478\n",
      "1071 :   30\n",
      "1072 :   7\n",
      "1073 :   15\n",
      "1074 :   33\n",
      "1075 :   89\n",
      "1076 :   66\n",
      "1077 :   4\n",
      "1078 :   25\n",
      "1079 :   2\n",
      "1080 :   1\n",
      "1081 :   1\n",
      "1082 :   40\n",
      "1083 :   21\n",
      "1084 :   75\n",
      "1085 :   8\n",
      "1086 :   45\n",
      "1087 :   136\n",
      "1088 :   39\n",
      "1089 :   1\n",
      "1090 :   16\n",
      "1091 :   168\n",
      "1092 :   29\n",
      "1093 :   63\n",
      "1094 :   79\n",
      "1095 :   64\n",
      "1096 :   29\n",
      "1097 :   93\n",
      "1098 :   4\n",
      "1099 :   35\n",
      "1100 :   21\n",
      "1101 :   64\n",
      "1102 :   7\n",
      "1103 :   6\n",
      "1104 :   19\n",
      "1105 :   6\n",
      "1106 :   2\n",
      "1107 :   35\n",
      "1108 :   17\n",
      "1109 :   19\n",
      "1110 :   23\n",
      "1111 :   5\n",
      "1112 :   2\n",
      "1113 :   7\n",
      "1114 :   2\n",
      "1115 :   19\n",
      "1116 :   3\n",
      "1117 :   3\n",
      "1118 :   3\n",
      "1119 :   3\n",
      "1120 :   2\n",
      "1121 :   22\n",
      "1122 :   2\n",
      "1123 :   13\n",
      "1124 :   14\n",
      "1125 :   34\n",
      "1126 :   2\n",
      "1127 :   3\n",
      "1128 :   11\n",
      "1129 :   8\n",
      "1130 :   16\n",
      "1131 :   9\n",
      "1132 :   61\n",
      "1133 :   2\n",
      "1134 :   10\n",
      "1135 :   2\n",
      "1136 :   11\n",
      "1137 :   31\n",
      "1138 :   2\n",
      "1139 :   3\n",
      "1140 :   1\n",
      "1141 :   14\n",
      "1142 :   3\n",
      "1143 :   2\n",
      "1144 :   3\n",
      "1145 :   32\n",
      "1146 :   3\n",
      "1147 :   2\n",
      "1148 :   3\n",
      "1149 :   4\n",
      "1150 :   12\n",
      "1151 :   16\n",
      "1152 :   35\n",
      "1153 :   16\n",
      "1154 :   10\n",
      "1155 :   61\n",
      "1156 :   43\n",
      "1157 :   34\n",
      "1158 :   34\n",
      "1159 :   12\n",
      "1160 :   11\n",
      "1161 :   8\n",
      "1162 :   3\n",
      "1163 :   13\n",
      "1164 :   1\n",
      "1165 :   5\n",
      "1166 :   549\n",
      "1167 :   13\n",
      "1168 :   3\n",
      "1169 :   117\n",
      "1170 :   4\n",
      "1171 :   8\n",
      "1172 :   5\n",
      "1173 :   10\n",
      "1174 :   11\n",
      "1175 :   10\n",
      "1176 :   15\n",
      "1177 :   7\n",
      "1178 :   51\n",
      "1179 :   29\n",
      "1180 :   1\n",
      "1181 :   2\n",
      "1182 :   126\n",
      "1183 :   2\n",
      "1184 :   3\n",
      "1185 :   39\n",
      "1186 :   10\n",
      "1187 :   8\n",
      "1188 :   409\n",
      "1189 :   8\n",
      "1190 :   2\n",
      "1191 :   6\n",
      "1192 :   23\n",
      "1193 :   29\n",
      "1194 :   21\n",
      "1195 :   24\n",
      "1196 :   19\n",
      "1197 :   76\n",
      "1198 :   12\n",
      "1199 :   11\n",
      "1200 :   49\n",
      "1201 :   8\n",
      "1202 :   87\n",
      "1203 :   6\n",
      "1204 :   15\n",
      "1205 :   8\n",
      "1206 :   10\n",
      "1207 :   14\n",
      "1208 :   222\n",
      "1209 :   16\n",
      "1210 :   7\n",
      "1211 :   154\n",
      "1212 :   34\n",
      "1213 :   13\n",
      "1214 :   12\n",
      "1215 :   13\n",
      "1216 :   11\n",
      "1217 :   13\n",
      "1218 :   194\n"
     ]
    }
   ],
   "source": [
    "# the lenghts of each resume and resume ID for reference\n",
    "\n",
    "for x in range(len(elmo_in)):\n",
    "    print(x, ':  ', len(elmo_in[x]))\n",
    "\n",
    "    #elmo_in[28] has 212 sentences\n",
    "    #\n",
    "    #elmo_in[34] has 945 sentences\n",
    "    #elmo_in[75] has 3 sentences"
   ]
  },
  {
   "cell_type": "code",
   "execution_count": null,
   "metadata": {},
   "outputs": [],
   "source": []
  },
  {
   "cell_type": "code",
   "execution_count": 12,
   "metadata": {},
   "outputs": [
    {
     "data": {
      "text/plain": [
       "[35,\n",
       " 9,\n",
       " 65,\n",
       " 63,\n",
       " 46,\n",
       " 35,\n",
       " 56,\n",
       " 76,\n",
       " 50,\n",
       " 4,\n",
       " 15,\n",
       " 32,\n",
       " 60,\n",
       " 33,\n",
       " 87,\n",
       " 65,\n",
       " 26,\n",
       " 7,\n",
       " 1,\n",
       " 31,\n",
       " 28,\n",
       " 31,\n",
       " 14,\n",
       " 36,\n",
       " 4,\n",
       " 24,\n",
       " 72,\n",
       " 15,\n",
       " 212,\n",
       " 15,\n",
       " 31,\n",
       " 69,\n",
       " 50,\n",
       " 41,\n",
       " 945,\n",
       " 29,\n",
       " 50,\n",
       " 6,\n",
       " 22,\n",
       " 15,\n",
       " 12,\n",
       " 64,\n",
       " 11,\n",
       " 22,\n",
       " 6,\n",
       " 12,\n",
       " 25,\n",
       " 6,\n",
       " 40,\n",
       " 8,\n",
       " 61,\n",
       " 10,\n",
       " 17,\n",
       " 17,\n",
       " 14,\n",
       " 32,\n",
       " 11,\n",
       " 17,\n",
       " 9,\n",
       " 26,\n",
       " 57,\n",
       " 20,\n",
       " 32,\n",
       " 3,\n",
       " 15,\n",
       " 3,\n",
       " 21,\n",
       " 28,\n",
       " 23,\n",
       " 70,\n",
       " 31,\n",
       " 30,\n",
       " 17,\n",
       " 92,\n",
       " 9,\n",
       " 3,\n",
       " 74,\n",
       " 32,\n",
       " 2,\n",
       " 68,\n",
       " 3,\n",
       " 30,\n",
       " 23,\n",
       " 26,\n",
       " 3,\n",
       " 18,\n",
       " 40,\n",
       " 153,\n",
       " 35,\n",
       " 61,\n",
       " 2,\n",
       " 20,\n",
       " 93,\n",
       " 1,\n",
       " 26,\n",
       " 42,\n",
       " 47,\n",
       " 42,\n",
       " 24,\n",
       " 100,\n",
       " 42,\n",
       " 45,\n",
       " 25,\n",
       " 12,\n",
       " 26,\n",
       " 88,\n",
       " 5,\n",
       " 30,\n",
       " 46,\n",
       " 60,\n",
       " 57,\n",
       " 36,\n",
       " 7,\n",
       " 58,\n",
       " 35,\n",
       " 27,\n",
       " 35,\n",
       " 16,\n",
       " 58,\n",
       " 37,\n",
       " 32,\n",
       " 19,\n",
       " 26,\n",
       " 4,\n",
       " 33,\n",
       " 2,\n",
       " 11,\n",
       " 1,\n",
       " 74,\n",
       " 26,\n",
       " 51,\n",
       " 4,\n",
       " 1,\n",
       " 41,\n",
       " 19,\n",
       " 66,\n",
       " 3,\n",
       " 40,\n",
       " 68,\n",
       " 17,\n",
       " 55,\n",
       " 35,\n",
       " 54,\n",
       " 20,\n",
       " 115,\n",
       " 1,\n",
       " 1,\n",
       " 27,\n",
       " 3,\n",
       " 8,\n",
       " 59,\n",
       " 16,\n",
       " 35,\n",
       " 244,\n",
       " 36,\n",
       " 27,\n",
       " 35,\n",
       " 30,\n",
       " 7,\n",
       " 47,\n",
       " 12,\n",
       " 12,\n",
       " 2,\n",
       " 40,\n",
       " 45,\n",
       " 30,\n",
       " 55,\n",
       " 1,\n",
       " 25,\n",
       " 3,\n",
       " 64,\n",
       " 110,\n",
       " 71,\n",
       " 4,\n",
       " 52,\n",
       " 29,\n",
       " 7,\n",
       " 21,\n",
       " 6,\n",
       " 24,\n",
       " 29,\n",
       " 15,\n",
       " 9,\n",
       " 26,\n",
       " 34,\n",
       " 85,\n",
       " 171,\n",
       " 28,\n",
       " 42,\n",
       " 247,\n",
       " 22,\n",
       " 9,\n",
       " 10,\n",
       " 47,\n",
       " 4,\n",
       " 31,\n",
       " 20,\n",
       " 19,\n",
       " 11,\n",
       " 23,\n",
       " 28,\n",
       " 24,\n",
       " 25,\n",
       " 60,\n",
       " 78,\n",
       " 22,\n",
       " 45,\n",
       " 17,\n",
       " 25,\n",
       " 47,\n",
       " 4,\n",
       " 2,\n",
       " 21,\n",
       " 36,\n",
       " 12,\n",
       " 51,\n",
       " 93,\n",
       " 40,\n",
       " 9,\n",
       " 35,\n",
       " 55,\n",
       " 86,\n",
       " 55,\n",
       " 31,\n",
       " 194,\n",
       " 4,\n",
       " 41,\n",
       " 24,\n",
       " 36,\n",
       " 153,\n",
       " 48,\n",
       " 39,\n",
       " 19,\n",
       " 18,\n",
       " 4,\n",
       " 30,\n",
       " 5,\n",
       " 16,\n",
       " 16,\n",
       " 16,\n",
       " 19,\n",
       " 23,\n",
       " 17,\n",
       " 7,\n",
       " 9,\n",
       " 171,\n",
       " 27,\n",
       " 10,\n",
       " 101,\n",
       " 3,\n",
       " 4,\n",
       " 44,\n",
       " 25,\n",
       " 149,\n",
       " 66,\n",
       " 37,\n",
       " 5,\n",
       " 6,\n",
       " 151,\n",
       " 19,\n",
       " 45,\n",
       " 18,\n",
       " 10,\n",
       " 23,\n",
       " 202,\n",
       " 41,\n",
       " 16,\n",
       " 157,\n",
       " 19,\n",
       " 14,\n",
       " 25,\n",
       " 7,\n",
       " 20,\n",
       " 23,\n",
       " 3,\n",
       " 1,\n",
       " 154,\n",
       " 29,\n",
       " 76,\n",
       " 21,\n",
       " 5,\n",
       " 16,\n",
       " 1,\n",
       " 39,\n",
       " 4,\n",
       " 9,\n",
       " 4,\n",
       " 1094,\n",
       " 13,\n",
       " 90,\n",
       " 181,\n",
       " 53,\n",
       " 4,\n",
       " 47,\n",
       " 135,\n",
       " 1,\n",
       " 23,\n",
       " 11,\n",
       " 1,\n",
       " 18,\n",
       " 19,\n",
       " 4,\n",
       " 2,\n",
       " 40,\n",
       " 40,\n",
       " 3,\n",
       " 24,\n",
       " 19,\n",
       " 71,\n",
       " 18,\n",
       " 1,\n",
       " 4,\n",
       " 17,\n",
       " 1,\n",
       " 232,\n",
       " 7,\n",
       " 143,\n",
       " 18,\n",
       " 1,\n",
       " 22,\n",
       " 4,\n",
       " 35,\n",
       " 5,\n",
       " 3,\n",
       " 239,\n",
       " 3,\n",
       " 54,\n",
       " 154,\n",
       " 292,\n",
       " 16,\n",
       " 16,\n",
       " 381,\n",
       " 135,\n",
       " 59,\n",
       " 6,\n",
       " 3,\n",
       " 1,\n",
       " 6,\n",
       " 3,\n",
       " 3,\n",
       " 31,\n",
       " 119,\n",
       " 318,\n",
       " 13,\n",
       " 53,\n",
       " 4,\n",
       " 9,\n",
       " 393,\n",
       " 18,\n",
       " 23,\n",
       " 2,\n",
       " 232,\n",
       " 16,\n",
       " 14,\n",
       " 218,\n",
       " 4,\n",
       " 135,\n",
       " 3,\n",
       " 37,\n",
       " 6,\n",
       " 41,\n",
       " 7,\n",
       " 1,\n",
       " 129,\n",
       " 194,\n",
       " 19,\n",
       " 4,\n",
       " 4,\n",
       " 1,\n",
       " 1,\n",
       " 17,\n",
       " 78,\n",
       " 4,\n",
       " 57,\n",
       " 33,\n",
       " 8,\n",
       " 33,\n",
       " 33,\n",
       " 18,\n",
       " 7,\n",
       " 8,\n",
       " 8,\n",
       " 177,\n",
       " 33,\n",
       " 5,\n",
       " 38,\n",
       " 18,\n",
       " 66,\n",
       " 66,\n",
       " 75,\n",
       " 27,\n",
       " 16,\n",
       " 27,\n",
       " 44,\n",
       " 12,\n",
       " 43,\n",
       " 22,\n",
       " 6,\n",
       " 51,\n",
       " 62,\n",
       " 390,\n",
       " 66,\n",
       " 1,\n",
       " 2,\n",
       " 375,\n",
       " 137,\n",
       " 229,\n",
       " 57,\n",
       " 7,\n",
       " 88,\n",
       " 62,\n",
       " 42,\n",
       " 4,\n",
       " 41,\n",
       " 118,\n",
       " 36,\n",
       " 66,\n",
       " 33,\n",
       " 19,\n",
       " 26,\n",
       " 57,\n",
       " 56,\n",
       " 3,\n",
       " 14,\n",
       " 26,\n",
       " 104,\n",
       " 8,\n",
       " 8,\n",
       " 18,\n",
       " 157,\n",
       " 101,\n",
       " 61,\n",
       " 24,\n",
       " 14,\n",
       " 29,\n",
       " 96,\n",
       " 28,\n",
       " 37,\n",
       " 12,\n",
       " 11,\n",
       " 15,\n",
       " 5,\n",
       " 32,\n",
       " 17,\n",
       " 110,\n",
       " 120,\n",
       " 5,\n",
       " 30,\n",
       " 145,\n",
       " 12,\n",
       " 5,\n",
       " 4,\n",
       " 26,\n",
       " 30,\n",
       " 24,\n",
       " 26,\n",
       " 10,\n",
       " 63,\n",
       " 9,\n",
       " 44,\n",
       " 17,\n",
       " 19,\n",
       " 5,\n",
       " 17,\n",
       " 2,\n",
       " 3,\n",
       " 30,\n",
       " 9,\n",
       " 9,\n",
       " 11,\n",
       " 6,\n",
       " 40,\n",
       " 5,\n",
       " 3,\n",
       " 28,\n",
       " 45,\n",
       " 16,\n",
       " 11,\n",
       " 60,\n",
       " 9,\n",
       " 14,\n",
       " 467,\n",
       " 3,\n",
       " 20,\n",
       " 86,\n",
       " 173,\n",
       " 3,\n",
       " 1,\n",
       " 396,\n",
       " 1250,\n",
       " 7,\n",
       " 604,\n",
       " 20,\n",
       " 29,\n",
       " 14,\n",
       " 28,\n",
       " 25,\n",
       " 12,\n",
       " 85,\n",
       " 21,\n",
       " 31,\n",
       " 912,\n",
       " 3,\n",
       " 31,\n",
       " 30,\n",
       " 3,\n",
       " 421,\n",
       " 52,\n",
       " 16,\n",
       " 23,\n",
       " 334,\n",
       " 19,\n",
       " 324,\n",
       " 2,\n",
       " 3,\n",
       " 182,\n",
       " 49,\n",
       " 50,\n",
       " 18,\n",
       " 22,\n",
       " 79,\n",
       " 30,\n",
       " 12,\n",
       " 33,\n",
       " 10,\n",
       " 43,\n",
       " 31,\n",
       " 20,\n",
       " 6,\n",
       " 19,\n",
       " 51,\n",
       " 32,\n",
       " 203,\n",
       " 2,\n",
       " 4,\n",
       " 2,\n",
       " 2,\n",
       " 44,\n",
       " 10,\n",
       " 17,\n",
       " 34,\n",
       " 5,\n",
       " 5,\n",
       " 5,\n",
       " 29,\n",
       " 334,\n",
       " 200,\n",
       " 10,\n",
       " 4,\n",
       " 197,\n",
       " 59,\n",
       " 28,\n",
       " 11,\n",
       " 7,\n",
       " 14,\n",
       " 14,\n",
       " 4,\n",
       " 41,\n",
       " 32,\n",
       " 28,\n",
       " 2,\n",
       " 13,\n",
       " 2,\n",
       " 6,\n",
       " 23,\n",
       " 12,\n",
       " 5,\n",
       " 22,\n",
       " 28,\n",
       " 10,\n",
       " 31,\n",
       " 25,\n",
       " 25,\n",
       " 22,\n",
       " 10,\n",
       " 29,\n",
       " 3,\n",
       " 8,\n",
       " 27,\n",
       " 2,\n",
       " 40,\n",
       " 17,\n",
       " 1,\n",
       " 10,\n",
       " 9,\n",
       " 8,\n",
       " 5,\n",
       " 40,\n",
       " 27,\n",
       " 23,\n",
       " 4,\n",
       " 27,\n",
       " 8,\n",
       " 7,\n",
       " 24,\n",
       " 9,\n",
       " 7,\n",
       " 3,\n",
       " 9,\n",
       " 12,\n",
       " 17,\n",
       " 8,\n",
       " 17,\n",
       " 10,\n",
       " 20,\n",
       " 20,\n",
       " 28,\n",
       " 7,\n",
       " 47,\n",
       " 34,\n",
       " 6,\n",
       " 24,\n",
       " 16,\n",
       " 2,\n",
       " 22,\n",
       " 3,\n",
       " 5,\n",
       " 8,\n",
       " 3,\n",
       " 6,\n",
       " 40,\n",
       " 8,\n",
       " 4,\n",
       " 23,\n",
       " 38,\n",
       " 9,\n",
       " 9,\n",
       " 21,\n",
       " 1,\n",
       " 1,\n",
       " 49,\n",
       " 21,\n",
       " 46,\n",
       " 18,\n",
       " 14,\n",
       " 50,\n",
       " 4,\n",
       " 52,\n",
       " 48,\n",
       " 8,\n",
       " 12,\n",
       " 32,\n",
       " 4,\n",
       " 22,\n",
       " 2,\n",
       " 48,\n",
       " 1,\n",
       " 9,\n",
       " 23,\n",
       " 2,\n",
       " 23,\n",
       " 82,\n",
       " 37,\n",
       " 5,\n",
       " 8,\n",
       " 1,\n",
       " 26,\n",
       " 6,\n",
       " 21,\n",
       " 2,\n",
       " 29,\n",
       " 13,\n",
       " 7,\n",
       " 23,\n",
       " 35,\n",
       " 35,\n",
       " 73,\n",
       " 22,\n",
       " 4,\n",
       " 18,\n",
       " 62,\n",
       " 54,\n",
       " 22,\n",
       " 14,\n",
       " 13,\n",
       " 29,\n",
       " 54,\n",
       " 125,\n",
       " 97,\n",
       " 94,\n",
       " 34,\n",
       " 12,\n",
       " 24,\n",
       " 11,\n",
       " 4,\n",
       " 7,\n",
       " 15,\n",
       " 100,\n",
       " 42,\n",
       " 4,\n",
       " 25,\n",
       " 21,\n",
       " 32,\n",
       " 52,\n",
       " 25,\n",
       " 64,\n",
       " 8,\n",
       " 2,\n",
       " 20,\n",
       " 7,\n",
       " 48,\n",
       " 2,\n",
       " 32,\n",
       " 29,\n",
       " 26,\n",
       " 84,\n",
       " 9,\n",
       " 6,\n",
       " 34,\n",
       " 6,\n",
       " 9,\n",
       " 2,\n",
       " 10,\n",
       " 504,\n",
       " 47,\n",
       " 6,\n",
       " 1,\n",
       " 1,\n",
       " 41,\n",
       " 85,\n",
       " 1,\n",
       " 33,\n",
       " 124,\n",
       " 3,\n",
       " 12,\n",
       " 31,\n",
       " 10,\n",
       " 6,\n",
       " 11,\n",
       " 588,\n",
       " 20,\n",
       " 12,\n",
       " 5,\n",
       " 49,\n",
       " 25,\n",
       " 25,\n",
       " 4,\n",
       " 9,\n",
       " 1,\n",
       " 88,\n",
       " 56,\n",
       " 22,\n",
       " 948,\n",
       " 192,\n",
       " 24,\n",
       " 23,\n",
       " 8,\n",
       " 6,\n",
       " 17,\n",
       " 7,\n",
       " 42,\n",
       " 10,\n",
       " 1,\n",
       " 1,\n",
       " 19,\n",
       " 5,\n",
       " 6,\n",
       " 13,\n",
       " 12,\n",
       " 26,\n",
       " 12,\n",
       " 2,\n",
       " 10,\n",
       " 14,\n",
       " 13,\n",
       " 10,\n",
       " 17,\n",
       " 9,\n",
       " 6,\n",
       " 28,\n",
       " 9,\n",
       " 3,\n",
       " 61,\n",
       " 48,\n",
       " 1,\n",
       " 25,\n",
       " 8,\n",
       " 3,\n",
       " 42,\n",
       " 23,\n",
       " 28,\n",
       " 17,\n",
       " 2,\n",
       " 11,\n",
       " 28,\n",
       " 64,\n",
       " 6,\n",
       " 31,\n",
       " 13,\n",
       " 25,\n",
       " 27,\n",
       " 66,\n",
       " 45,\n",
       " 21,\n",
       " 18,\n",
       " 15,\n",
       " 15,\n",
       " 1,\n",
       " 22,\n",
       " 57,\n",
       " 33,\n",
       " 18,\n",
       " 1,\n",
       " 20,\n",
       " 5,\n",
       " 13,\n",
       " 54,\n",
       " 29,\n",
       " 16,\n",
       " 56,\n",
       " 2,\n",
       " 14,\n",
       " 21,\n",
       " 14,\n",
       " 32,\n",
       " 16,\n",
       " 21,\n",
       " 18,\n",
       " 9,\n",
       " 27,\n",
       " 51,\n",
       " 20,\n",
       " 22,\n",
       " 22,\n",
       " 3,\n",
       " 1,\n",
       " 1,\n",
       " 45,\n",
       " 11,\n",
       " 57,\n",
       " 16,\n",
       " 12,\n",
       " 19,\n",
       " 16,\n",
       " 16,\n",
       " 21,\n",
       " 4,\n",
       " 35,\n",
       " 8,\n",
       " 35,\n",
       " 32,\n",
       " 6,\n",
       " 25,\n",
       " 47,\n",
       " 45,\n",
       " 57,\n",
       " 40,\n",
       " 14,\n",
       " 7,\n",
       " 21,\n",
       " 15,\n",
       " 1,\n",
       " 9,\n",
       " 21,\n",
       " 123,\n",
       " 49,\n",
       " 1,\n",
       " 6,\n",
       " 51,\n",
       " 2,\n",
       " 14,\n",
       " 10,\n",
       " 32,\n",
       " 57,\n",
       " 20,\n",
       " 12,\n",
       " 32,\n",
       " 3,\n",
       " 12,\n",
       " 74,\n",
       " 4,\n",
       " 13,\n",
       " 40,\n",
       " 104,\n",
       " 16,\n",
       " 3,\n",
       " 85,\n",
       " 5,\n",
       " 19,\n",
       " 15,\n",
       " 30,\n",
       " 121,\n",
       " 5,\n",
       " 16,\n",
       " 115,\n",
       " 1,\n",
       " 43,\n",
       " 16,\n",
       " 1,\n",
       " 85,\n",
       " 60,\n",
       " 55,\n",
       " 19,\n",
       " 540,\n",
       " 28,\n",
       " 24,\n",
       " 32,\n",
       " 156,\n",
       " 2,\n",
       " 100,\n",
       " 393,\n",
       " 3,\n",
       " 153,\n",
       " 5,\n",
       " 63,\n",
       " 18,\n",
       " 110,\n",
       " 5,\n",
       " 92,\n",
       " 153,\n",
       " 212,\n",
       " 8,\n",
       " 19,\n",
       " 24,\n",
       " 398,\n",
       " 286,\n",
       " 10,\n",
       " 10,\n",
       " 27,\n",
       " 15,\n",
       " 26,\n",
       " 263,\n",
       " 12,\n",
       " 234,\n",
       " 23,\n",
       " 63,\n",
       " 31,\n",
       " 12,\n",
       " 20,\n",
       " 7,\n",
       " 14,\n",
       " 16,\n",
       " 8,\n",
       " 18,\n",
       " 25,\n",
       " 232,\n",
       " 194,\n",
       " 154,\n",
       " 22,\n",
       " 1,\n",
       " 38,\n",
       " 45,\n",
       " 10,\n",
       " 31,\n",
       " 45,\n",
       " 24,\n",
       " 22,\n",
       " 263,\n",
       " 234,\n",
       " 1,\n",
       " 27,\n",
       " 13,\n",
       " 16,\n",
       " 71,\n",
       " 162,\n",
       " 17,\n",
       " 1,\n",
       " 110,\n",
       " 28,\n",
       " 55,\n",
       " 51,\n",
       " 16,\n",
       " 2,\n",
       " 14,\n",
       " 11,\n",
       " 730,\n",
       " 4,\n",
       " 87,\n",
       " 12,\n",
       " 14,\n",
       " 17,\n",
       " 10,\n",
       " 2,\n",
       " 23,\n",
       " 2,\n",
       " 61,\n",
       " 3,\n",
       " 1,\n",
       " 214,\n",
       " 195,\n",
       " 9,\n",
       " 1,\n",
       " 12,\n",
       " 63,\n",
       " 41,\n",
       " 74,\n",
       " 17,\n",
       " 74,\n",
       " 22,\n",
       " 23,\n",
       " 74,\n",
       " 31,\n",
       " 398,\n",
       " 11,\n",
       " 30,\n",
       " 14,\n",
       " 20,\n",
       " 25,\n",
       " 9,\n",
       " 11,\n",
       " ...]"
      ]
     },
     "execution_count": 12,
     "metadata": {},
     "output_type": "execute_result"
    }
   ],
   "source": [
    "# let's examine resume length in sentences\n",
    "\n",
    "\n",
    "lengths = []\n",
    "for i in range(0, len(elmo_in)):\n",
    "    lengths.extend([len(elmo_in[i])])\n",
    "\n",
    "#lengths"
   ]
  },
  {
   "cell_type": "code",
   "execution_count": null,
   "metadata": {},
   "outputs": [],
   "source": []
  },
  {
   "cell_type": "code",
   "execution_count": 13,
   "metadata": {},
   "outputs": [
    {
     "data": {
      "image/png": "[encoded data removed]",
      "text/plain": [
       "<Figure size 432x288 with 1 Axes>"
      ]
     },
     "metadata": {
      "needs_background": "light"
     },
     "output_type": "display_data"
    }
   ],
   "source": [
    "# let's look at distributions of resume length\n",
    "\n",
    "plt.hist(lengths, bins=range(0, 1000, 10))\n",
    "\n",
    "plt.show()\n"
   ]
  },
  {
   "cell_type": "code",
   "execution_count": 14,
   "metadata": {},
   "outputs": [
    {
     "data": {
      "image/png": "[encoded data removed]",
      "text/plain": [
       "<Figure size 432x288 with 1 Axes>"
      ]
     },
     "metadata": {
      "needs_background": "light"
     },
     "output_type": "display_data"
    }
   ],
   "source": [
    "plt.hist(lengths, bins=range(0, 200, 5))\n",
    "\n",
    "plt.show()"
   ]
  },
  {
   "cell_type": "code",
   "execution_count": 15,
   "metadata": {},
   "outputs": [
    {
     "name": "stdout",
     "output_type": "stream",
     "text": [
      "example of a short resume:\n",
      "resume number 244\n",
      "resume length: 9 sentences\n",
      "['carmen morant arbor court wheatland wy tel e mail carmenresumesamplesinfo objective experienced assistant manager looking position reputable organization', 'summary qualifications vast working experience computers windows support profound knowledge project management proficient microsoft office familiarity call center related applications ability handle multi tasks ability communicate effectively experience assistant manager present veredus corporation durham nc recommended implemented approved lanwan policies standards', 'supported office personnel corporate applications', 'created executed proper backup disaster recovery procedures', 'managed within regionally approved budget', 'maintained baseline security standard policies', 'provided solution costing rfprfq submissions system upgrades', 'educational background bachelors degree computer science mills college oakland ca gpa', 'scale']\n"
     ]
    }
   ],
   "source": [
    "print(\"example of a short resume:\")\n",
    "print(\"resume number 244\")\n",
    "print(\"resume length: {} sentences\".format(len(elmo_in[244])))\n",
    "print(elmo_in[244])"
   ]
  },
  {
   "cell_type": "code",
   "execution_count": 16,
   "metadata": {},
   "outputs": [
    {
     "name": "stdout",
     "output_type": "stream",
     "text": [
      "example of a medium resume:\n",
      "resume number 202\n",
      "resume length: 25 sentences\n",
      "['gayle laakmann apple lane philadelphia pa gaylecareercupcom education wharton school university pennsylvania philadelphia pa master business administration candidate major marketing entrepreneurship wharton ventures early stage vc fund principal one eight students selected applicants join wv sources deals performs due diligence analyzes tech healthcare investments deals k million', 'chair wharton yearbook helped launch whartons yearbook publish months', 'wharton venture capital competition finalist', 'elected social chair cohort students', 'university pennsylvania philadelphia pa master science engineering computer information science bachelor science engineering major computer science engineering minor mathematics created independently taught computer science course first undergraduate earned permission so', 'experience careercupcom seattle wa founder ceo present founded careercup help candidates prepare technical interviews online forum book video coaching', 'built company xk revenue yk annual profit', 'negotiated partnerships websites glassdoorcom softwareinterviewcom technical interviewcom', 'seattle anti freeze seattle wa founder co ceo present founded saf organize social events young professionals grew xkyear revenue ykyear profit', 'landed article front page seattle pis lifestyle section within months company launch', 'keenscreen seattle wa vice president engineering rd led architecture online advertising product enabling company ship product previously estimated time', 'prepared ceo projected cash flow statements three years cut expected costs', 'hired managed remote testing team design team assistant', 'google kirkland wa software engineer led successful integration google talk music features partner team helped redesign product better usability', 'designed built google docs feature requiring collaboration three internal teams four outside companies', 'directed recruiting efforts university pennsylvania recruiting candidates earning award top', 'apple computer software engineer intern designed new approach searching ichat files enabling rapid searching backwards compatibility', 'microsoft corporation software design engineer intern implemented features developer products millions users estimated time', 'cupertino ca summer redmond wa summers additional information author google resume prepare career land job apple microsoft google top tech company published john wiley sons inc', 'march', 'author cracking coding interview wrote book prepare master programming interviews', 'available amazoncom barnesandnoblecom', 'isbn', 'instructor university washington taught two computer science courses earning rating', '']\n"
     ]
    }
   ],
   "source": [
    "print(\"example of a medium resume:\")\n",
    "print(\"resume number 202\")\n",
    "print(\"resume length: {} sentences\".format(len(elmo_in[202])))\n",
    "print(elmo_in[202])"
   ]
  },
  {
   "cell_type": "code",
   "execution_count": 17,
   "metadata": {},
   "outputs": [
    {
     "name": "stdout",
     "output_type": "stream",
     "text": [
      "example of a long resume:\n",
      "resume number 28\n",
      "resume length: 212 sentences\n",
      "['write professional resume xcxcresume tips following tips suggestions consider writing sending resume prospective employers use white light colored paper standard size xcxbd x inches', 'many office supply stores sell resume paper', 'sure include cover letter mailed emailed resumes', 'email resume cover letter create short introduction use email body', 'resume easy read crisp consistent format', 'always keep resume date many companies use applicant tracking systems ats scan resumes key words themes match job description', 'words identify skills company looking fill specific job postings', 'however due use software specific ways resume formatted scan properly companys system', 'use template invisible text boxes special graphics color shading', 'always use blank microsoft word document create text version resume online submissions', 'always submit resume pdf format save creative versions resume hand employer person', 'use standard non decorative fonts black ink only', 'font sizes pt name pt body resume', 'margins equally set', 'inch sides', 'avoid folding stapling resume', 'resume one page create header andor footer name contact information page number', 'key words describe skills using nouns action verbs important resume', 'companies usually indicate key skills looking job posting', 'use synonyms resume use word attorney also use word lawyer', 'use personal pronouns simply begin statements strong action verbs describe did', 'key words experience knowledge honest exaggerate skills', 'always proofread resume send xcobjectives objective statement one two line statement career job search goal', 'used place longer summary likely candidate little experience related target position', 'objective specific type position field youre applying focus contribute position company want gain experience', 'note following samples reference purposes copy', 'management seeking entry level management position responsibilities including problem solving planning organizing managing budgets', 'admin administrative position area rehabilitation geriatric healthcare utilizing knowledge clinical community patient services', 'teaching position elementary school teacher utilize strong teaching abilities create nurturing motivational stimulating learning environment help children achieve potential', 'criminal justice seeking full time position field criminal justice education initiative succeed desire serve value administering safeguarding criminal judicial processes', 'tech support position utilizing training hands experience mis help desk services technical support customer service', 'accounting seeking entry level position staff accountant utilizing outstanding analytical accounting leadership skills', 'xcsummaries summary takes place objective statement candidate relevant experience field applying', 'summary longer objective highlights desired position relevant qualifications', 'note following samples reference purposes copy', 'samples based examples presented modernize resumes cover letters wendy enelow louise kursmark resume writing academy career thought leaders consortium', 'modern style health social service manager mental health program coordinator xexx social worker case manager bilingual english spanish healthcare leader delivering top notch health social service outreach rural urban communities since forensic science technician passion science discovery bs biology criminology experience collecting identifying classifying analyzing physical evidence classroom projects criminal investigation internship study abroad', 'programmer analyst software developer analytical thinker years experience healthcare pharmaceutical industry', 'technical expertise includes command interpreters xexxa mysql software xexxa iea software emerald xexxa microsoft access microsoft visual basic xexxa c xexxa python xexxa html xexxa javascript accounting finance taxation audit xefxxa financial planning investment intuit quickbooks xefxxa erp software xefxxa oracle peoplesoft xefxxa ms excel xefxxa hr block tax software traditional style outgoing articulate excellent people skills', 'frequently commended communication interaction skills customers colleagues', 'proven ability learn retain apply new information quickly solid academic employment achievements', 'leadership abilities', 'consistently gained increased responsibility employment history academic pursuit', 'sound judgment solid decision making skills', 'detail oriented high energy chemical engineering graduate keen problem solving analytical skills evidenced ability provide analysis recommendations improve plant operations', 'strong interpersonal planning organizational skills demonstrated chemical engineering internships', 'contribute independently part team coordinate manage products ranging floor layout designs thermodynamic calculations reproduction obsolete parts', 'excellent performance records personal reviews three previous co op positions', 'xcrelevant courses relevant courses section used resume need demonstrate knowledge industry little relevant work experience', 'choose impressive courses try avoid listing entry level ones', 'section best paired academic projects section', 'together sections excellent way utilize degree job goal', 'format section simply list classes using multiple columns', 'course numbers descriptions grades necessary', 'note following samples reference purposes copy', 'two column sample relevant courses financial accounting calculus macroeconomics management accounting business finance organizational development three column sample relevant courses digital circuits hardware modeling vlsi design information security advanced systems numerical analysis digital logic computer graphics automata theory xcacademic projects academic projects used demonstrate knowledge area industry little experience', 'anything done class except tests presented project', 'examples include presentations papers group work case studies research', 'academic projects written active voice using strongest action verbs possible', 'suggested format include title keep overview two three lines providing enough information prospective employer ask questions', 'project depth present two three lines use two three bulleted statements instead paragraph format', 'note following samples reference purposes copy', 'software engineering group project designed library catalog web system using tier client server model', 'presented project plan software requirement specification non functional specification detailed case analysis technical specification test plan', 'java programming project computed united states golf association handicap index number golf players designing simple install easy use application', 'created user friendly interface input players performances display handicap', 'comparison accounting systems researched compared accounting systems two international companies determine long term strategic direction make financial recommendations improving revenue', 'investment management managed investment portfolio stock trak simulation', 'determined successful investment strategies tested theories researched various markets', 'psychology research project investigated psychophysiology schema depression young adolescents', 'conducted physiological measurement clinical diagnostic interviewing determine patterns behavior', 'd graphic design project created d model skeletal infrastructure story building intricate detail using maya software', 'ensured measurement layout accuracy careful architectural research', 'xcresultaccomplishment statements result accomplishment statements used describing previous experience show employer written proof results achievements successes', 'demonstrate unique add value potential position citing specific examples', 'simply listing duties responsibilities job description enough focus actually efforts impacted position project organization', 'help get mindset writing result accomplishment statements ask questions purpose work work relevant organization goals contributing value benefit add go beyond basic job duties compared others position stand work save timemoney increase customer satisfaction designimprove process policy etc achieve less complete something ahead schedulebudget receive promotion andor recognition employment consistently maintain hit personal company goals quotas note following samples reference purposes copy', 'develop result accomplishment statements using several methods described soar statement action action verb occurrence action often action occurredtook place daily weekly annually etc', 'amount action much many m etc', 'result action resultoutcome efforts increased decreased designed saved implemented etc', 'statement managed technical crew occurrence managed technical crew daily basis amount managed technical crew people daily basis result managed technical crew people daily basis increased production quarters row parcar problemchallenge problemchallengeopportunity action action taken solve problem result result outcome efforts star situationtask situation task hand action action taken result result action taken additional resultaccomplishment statement examples selected freshman orientation leader acclimated new students college environment guided tours campus presentations day period', 'led member team project collected new hire data employers dallas fort worth metroplex', 'redesigned company accounting payroll systems implementing new electronic reporting system decreased turnaround time reimbursements', 'trained new insurance agents month time frame legal ethical regulatory aspects insurance securities sales', 'innovated blood drive volunteer system increased student faculty participation', 'recognized promoted assistant sales manager within year consistent customer service oriented attitude product knowledge leadership capabilities', 'xctransferable skills obtained many skills throughout life working student participating extracurricular activities even personal experiences contributed skill set', 'skills apply many different jobs areas called transferable skills', 'especially handy use relevant work experience changing career paths', 'incorporating work experience section help showcase applicable skills offer employer', 'remember simply listing skills enough', 'must include used skills order prove possess show relevant applicable employer', 'list transferable skills help get started', 'communication speaking effectively listening attentively writing concisely editing providing appropriate feedback perceiving nonverbal messages facilitating group discussion expressing ideas negotiating persuading speaking foreign language reporting information describing feelings research planning creating ideas setting goals forecasting analyzing extracting information identifying resources developing strategies predicting outcomes gathering information synthesizing data solving problems defining needs human relations developing rapport sensitive counseling asserting perceiving feelings situations providing support others delegating respect conveying feelings representing others cooperating motivating listening organization management leadership initiating new ideas decision making others managing groups delegating responsibility managing conflict selling ideas products coaching handling details coordinating tasks promoting change counseling teaching work survival punctual meeting goals cooperating organizing attending detail enforcing policies making decisions enlisting help setting meeting deadlines implementing decisions accepting responsibility managing time xctransferable skills samples examples use transferable skills improve basic job descriptions prove employer possess relevant job related skills', 'remember focus results accomplishments rather simply listing duties responsibilities', 'note following samples reference purposes copy', 'server provided customer service customers', 'gained maintained clientele regular customers reputation excellent server', 'sold desserts appetizers customers', 'effectively utilized marketing strategies upsell items become top seller section', 'front desk worker helped events', 'recruited director two consecutive years organize promote school wide participation departments annual program', 'interacted customers', 'interacted customers speaking clearly ensure proper communication policies', 'sales associate responsible opening closing store keyholder', 'fast track promotion sales associate keyholder exceptional communication skills devotion promoting stores brand', 'sold shoes purses accessories', 'exceeded daily sales goals regularly serving customers day high customer satisfaction rating', 'camp counselor worked summers girl scout camp', 'supervised girl scout camps area developing study skills fostering creativity encouraging appreciation outdoors', 'taught valuable skills', 'worked upper management teach risk youth leadership teamwork skills', 'xcaction verbs describing current job project use verbs describing past job project make sure change verbs past tense endings', 'bolded words especially good describing accomplishments', 'management leadership administer analyze appoint delegate develop direct generate handle hire lead manage mediate outline oversee plan resolve review schedule communication address arbitrate correspond define incorporate interact persuade present speak transcribe organization approve arrange distribute execute operate order retrieve schedule assign eliminate improve merge preside strengthen arrange develop interpret promote translate categorize file organize screen author direct lecture propose verbalize catalog generate outline specify attain enhance incorporate moderate prioritize supervise chair ensure increase motivate produce support authorize draft market publicize write collaborate edit mediate reconcile classify implement prepare systematize consolidate establish initiate negotiate recommend transition collect incorporate process standardize contract evaluate institute organize recruit unify communicate enlist moderate recruit compile inspect purchase tabulate research clarify collect critique diagnose evaluate examine extract interview investigate organize review summarize survey coordinate execute interview originate reorganize compose formulate motivate report condense maintain record update convince influence negotiate resolve define monitor report validate identify inspect interpret technical assemble build calculate compute design devise engineer fabricate maintain operate overhaul program remodel repair solve train troubleshoot upgrade financial administer allocate analyze appraise audit balance budget calculate compute develop forecast manage market plan project research reconcile report target helping teamwork advocate aid assess clarify coach collaborate contribute counsel demonstrate diagnose educate ensure expedite facilitate familiarize guide mediate moderate participate refer represent resolve support volunteer unite creative act compose conceptualize create customize design develop direct establish fashion found illustrate initiate institute integrate introduce invent market originate perform plan promote propose revitalize shape transform xcadditional verbs teaching accomplish achieve adapt advance complete conduct consult deliver encourage expand explain focus install instruct involve launch provide publish receive reduce select serve set goals solidify test travel tutor utilize advise discover group network restore sponsor validate articulate distinguish guide nominate restructure stimulate venture assist diversify influence observe reverse streamline verify additional verbs engineering computer science abstract acquire add advertise answer anticipate assess audit augment bolster buy brief charter check combine compare compile conceive convert cooperate copy correlate cultivate deal detect determine discriminate dispatch display dissect drive earn empathize enforce enlighten enlist experiment explore express finance fix follow give govern help imagine improvise inaugurate listen keep lay learn level lift maintain manage manipulate map master maximize meet minimize model modify narrate offer plant practice predict protect prove query rank rationalize read reason relate rely scan scheme sell solicit specialize spread supervise sustain symbolize synthesize talk theorize visualize commend enable inform obtain revise study work apply bring conserve debate document estimate foster index locate measure overcome question respond strategize trace compete encounter innovate participate reward teach appraise care construct debug draw exceed gain indicate log memorize perceive raise revamp stress transmit ascertain charge contract decide drive excel gather judge make mentor perfect run save succeed verify active adjectives adjectives perfect job search document need describe accomplishments', 'remember resume', 'e active attentive determined enterprising adaptable bright diligent enthusiastic adaptive committed diplomatic exceptional adept aggressive altruistic analytical ambitious assertive competent conscientious consistent creative dedicated dependable disciplined discreet dynamic effective efficient energetic experienced f p fair faithful familiar firm generous honest independent innovative keen logical loyal mature methodical motivated objective organized outgoing passionate persistent pleasant positive practical productive professional r z receptive reliable resilient resourceful respectful quick witted self confident self motivated self reliant self starter sensitive sharp sincere skilled skillful strong studious successful tactful team player tenacious trustworthy understanding well organized xcreference page references separate document resume', 'best ask permission listing someone reference', 'receive permission provide copy resume reference refer prospective employer calls', 'list references use font format margins name contact information reference document used resume present uniform package', 'possible references include former managerssupervisors colleagues important customers business associates professors compile following information prospects name positioncompany town state zip phone email sample jane doe deer forest street plano tx janedoeemailutdcom reference list artemis fowl entrepreneur tara ireland fowlisfairaaaeee prof', 'severus snape professor potions dark arts hogwarts school witchcraft wizardry london england h gs snapeaaaeee james sunderland employee lakeview hotel silent hill tx pyramidheadaaaeee roland deschain gunslinger dark tower dallas tx seekingsusanaaaeee xcresume samples attention following resumes reference purposes copying word word form academic dishonesty', 'imperative resume information reflect skills abilities experience', 'strongly recommended templates boilerplate wording avoided create strong effective resume', 'provide false information copy wording sources', 'xcsample best utilized distinguish relevant non relevant work experience sample based resume best resumes college students new grads louise m', 'kursmark', 'raphael giovanni midwich ln', 'xexxa fremont ne xexxa xexxa giovanniemailcom social studies teacher grades teaching training experience schools business', 'competent results oriented instructor able motivate students differing abilities achieve true potential', 'xefxx certified teach history political science geography economics sociology psychology xefxx strengths integrated curriculum multicultural service learning special needs students xefxx classroom media powerpoint internet research education honors bachelor arts education social science field endorsement university nebraska lincoln ne deans list gpa', 'may teaching experience student teacher grades xexxa dunwich public schools dunwich ne xefxx taught world history american history sociology students', 'xefxx instructed students research political parties develop platforms debate ideas', 'student practicum grades xexxa alchemilla middle school fremont ne master level tutor undergraduates xexxa university nebraska lincoln ne student mentor grade xexxa aperture science middle school fremont ne xefxx created taught unit louisiana purchase students', 'xefxx increased awareness economically disadvantaged persons planning implementation service learning project', 'xefxx certified international college reading learning association', 'xefxx tutored students history political science sociology geography', 'xefxx trained several new tutors workshops implemented new learning programs', 'xefxx tutored student adhd english math science history', 'xefxx implemented creative learning techniques resulted student passing exams', 'computer language skills ms office internet research windowsmac proficient german additional work experience shift managercrew member xexxa flet woods eatery fremont ne present xefxx managed five employees including hiring training scheduling', 'xefxx balanced daily receipts deposited cash bank', 'discovered fixed mechanical error resulting savings', 'xcsample best utilized display relevant experience sample based resume best resumes college students new grads louise m', 'kursmark', 'talia ross massachusetts', 'taliaemailcom profile detail oriented high energy chemical engineering graduate keen problem solving analytical skills evidenced ability provide analysis recommendations improve plant operations', 'strong interpersonal planning organizational skills demonstrated chemical engineering internships', 'contribute independently part team coordinate manage products ranging floor layout designs thermodynamic calculations reproduction obsolete parts', 'excellent performance records personal reviews three previous co op positions', 'education bachelor science chemical engineering minor psychology miskatonic university arkham massachusetts gpa', 'december intern experience engineering co op herbert west biotechnology arkham massachusetts maintenance engineering department january may researched specifications large batch mixer capital project collaborated across business functions develop engineering operating requirements startup installation', 'facilitated meetings approval design assembly new polyfilm applicator', 'performed troubleshooting necessary field changes', 'collaborated team members reengineer bulk powder flow hopper material improving speed production process', 'maintenance engineering department august december gathered calculated daily loadings cooling tower water chiller ensure adequate amounts current usages', 'designed backup system emergency situations', 'developed layout designs plant utilities room house installation new vacuum system made improvements existing system', 'compiled information causes chemical tote pump failures developed solutions reducing breakdown frequency', 'production department may august redesigned plant pigment room layout accommodate new scales equipment', 'worked extensively updating new plant systems pids built drawings', 'modified pump controls meet operating procedures required osha', 'technical skills tools chemcad xexxa c xexxa engineers aide sinet xexxa thermal analysis systems energy analyst catalytic reactors xexxa plate filter press xexxa agitatorsmixers xexxa vial handling systems activities leadership miskatonic university chapter habitat humanity xexxa leadershape institute xcsample best utilized highlight academic achievements scholarshipaward applications sample based resume best resumes college students new grads louise m', 'kursmark', 'sten r', 'stewart fusrodah blvd', 'apt', 'fairfield ct', 'stenyahoocom summary accomplished well rounded college professional seeking summer fellowship government public policy', 'enthusiastic energetic contributor student government mentoring programs strengths including leadership problem solving cross cultural communications education honors bs', 'government public policy fairfield university fairfield ct', 'gpa', 'recipient aramark fellowship spring recipient academic excellence scholarship selected collegium v fairfield universitys honors program may relevant coursework us', 'foreign relations moot court honors class government political communication political policy process procedures leadershiporganizational activities chair academic affairs committee student government association present instrumental various projects including surveying students persuading administration implement new foreign language curriculum', 'currently involved initiatives advanced placement credit selected classes establishing campus radio station', 'senator executive committee student government association elected senator two consecutive terms', 'collaborated president vice president senate chairs establish effective processesprocedures within committee partnering campus organizations', 'orientation team member new students program completed preparatory class included leadership skills training', 'participated coordination orientation programs facilitate transition freshmen transfer graduate students university well freshmen camp emerging leadership program', 'served mentor students assisted transitionacademic issues', 'fellowship special assistant united nations information centre washington dc spring awarded aramark fellowship fairfield university', 'produced reports congressional hearings conferences lectures relating united nations activities', 'researched non profit organizations applying ngo status un prepared information updates un conference sustainable finance', 'work experience cashier whole foods fairfield ct xcsample best utilized highlight academic projectscourses littleno work experience merrill woodward mirrorlane circle richardson tx merrillgmailcom objective obtain internship software engineering preferably object oriented development utilizing excellent problem solving critical thinking communication skills', 'education bs computer science', 'gpa', 'university texas dallas richardson tx expected december business', 'gpa', 'collin college mckinney tx may computer skills languages c c assembly language matlab simulink operating systems unix solaris ms dos windows versions packages ms office html', 'hardware vhdl spice relevant coursework signals systems probability statistics digital circuits systems control communications systems electromagnetic engineering digital signal processing microwave circuits systems academic projects software engineering group project designed library catalog web system using tier client server model', 'presented project plan software requirement specification non functional specification detailed case analysis technical specification test plan', 'java programming project computed united states golf association handicap index number golf players designing simple toinstall easy use application', 'created user friendly interface input players performances display handicap', 'activities member ieee ut dallas member emerging leaders program ut dallas visa status availability f available spring fall present xcsample best utilized applying campus positions susan b', 'green robin ln', 'richardson tx sbgutdallasedu objective obtain part time campus position utilizing outstanding customer service organizational leadership skills', 'education bs computer science university texas dallas richardson tx expected may work experience customer service representative may present kohls department stores richardson tx provide efficient customer service accurately manage register transactions balance reconcile daily cash receipts transactions assist training new employees showing necessary procedures company technical language skills familiar microsoft word excel access experience multi line phone systems proficient spanish community involvement volunteer present habitat humanity participate various builds throughout dfw area sell donated materials habitats restore support construction homes activities president ut dallas emerging leaders program present member ieee present secretary crush crew xcsample best utilized changing careers gaps work history sample based resume resume magic susan britton whitcomb grace colterman riversong drive selton alabama gracegmailcom customer service manager communications xefxxa sales xefxxa administration bilingual english spanish professional years experience training program management customer relations supervision', 'professional experience communications public relations advertising training staff development xefxxa degree public relationsjournalism completed comprehensive training public relations including advanced coursework mass communications newswriting editing advertising media graphic arts', 'xefxxa writingverbal skills excellent communication skills effective customer communications proposals correspondence flyers newsletters internal communications public speaking', 'xefxxa staff development successfully coordinated implemented monthly training programs assessed learning needs created curriculum presented instruction secured nationally recognized guest speakers', 'xefxxa background educator able provide client centered interactive training sessions emphasizing practical applications customer education andor staff development', 'sales presentations negotiations customer relations event planning fund raising xefxxa persuasive communicator made formal presentations boards decision makers sold new program ideas secured approval funding', 'demonstrated ability sell varied products floater upscale retailer generated daily sales equal experienced sales associates', 'xefxxa customer relations selected management liaison troubleshooter resolve concerns coworkers external customers vendors', 'xefxxa event planning organized well received special events work community volunteer capacities', 'planned events', 'initiated fund raising projects offset reduction state funding', 'administration program management planning development budgeting supervision xefxxa management held direct accountability planning staffing facilities management coordination education program enrollees instructors', 'hired placed evaluated certified instructors', 'xefxxa program development created successful programs business school partnerships volunteerism community outreach concept development implementation multiple sites', 'xefxxa planning served cross functional team conducted strategic planning developed budgets excess determined programming ensured compliance school site serving students', 'employment history education site administrator alton unified school district teacher dunder mifflin union school district bachelor arts public relationsjournalism university alabama']\n"
     ]
    }
   ],
   "source": [
    "print(\"example of a long resume:\")\n",
    "print(\"resume number 28\")\n",
    "print(\"resume length: {} sentences\".format(len(elmo_in[28])))\n",
    "print(elmo_in[28])"
   ]
  },
  {
   "cell_type": "code",
   "execution_count": 18,
   "metadata": {},
   "outputs": [
    {
     "name": "stdout",
     "output_type": "stream",
     "text": [
      "min: 1\n",
      "max: 1250\n",
      "median: 20.0\n",
      "mean: 44.66858080393765\n",
      "stdev: 95.13732618693363\n"
     ]
    }
   ],
   "source": [
    "print('min: {}'.format(np.amin(lengths)))\n",
    "print('max: {}'.format(np.amax(lengths)))\n",
    "print('median: {}'.format(np.median(lengths)))\n",
    "print('mean: {}'.format(np.mean(lengths)))\n",
    "print('stdev: {}'.format(np.std(lengths)))\n"
   ]
  },
  {
   "cell_type": "code",
   "execution_count": 19,
   "metadata": {},
   "outputs": [],
   "source": [
    "lengths_copy = lengths.copy()\n"
   ]
  },
  {
   "cell_type": "code",
   "execution_count": 20,
   "metadata": {},
   "outputs": [],
   "source": [
    "elmo_in_smalls = elmo_in.copy()"
   ]
  },
  {
   "cell_type": "code",
   "execution_count": 21,
   "metadata": {},
   "outputs": [],
   "source": [
    "elmo_in_smalls = elmo_in_smalls.tolist()"
   ]
  },
  {
   "cell_type": "code",
   "execution_count": 22,
   "metadata": {},
   "outputs": [
    {
     "data": {
      "text/plain": [
       "list"
      ]
     },
     "execution_count": 22,
     "metadata": {},
     "output_type": "execute_result"
    }
   ],
   "source": [
    "type(elmo_in_smalls)"
   ]
  },
  {
   "cell_type": "code",
   "execution_count": 38,
   "metadata": {},
   "outputs": [],
   "source": [
    "for i in elmo_in_smalls:\n",
    "    if len(i) > 100:\n",
    "        elmo_in_smalls.remove(i)\n",
    "    if len(i) <2:\n",
    "        elmo_in_smalls.remove(i)\n",
    "\n",
    "#elmo_in_smalls"
   ]
  },
  {
   "cell_type": "code",
   "execution_count": 43,
   "metadata": {},
   "outputs": [
    {
     "name": "stdout",
     "output_type": "stream",
     "text": [
      "[0]  ['john h', 'smith phr', 'po box callahan fl infogreatresumesfastcom approachable innovator passion human resources', 'senior human resources professional personable analytical flexible senior hr professional multifaceted expertise', 'seasoned benefits administrator extensive experience working highly paid professionals client relationship based settings', 'dynamic team leader capable analyzing alternatives identifying tough choices communicating total value benefit compensation packages senior level executives employees', 'core competencies benefits administration customer service cost control recruiting acquisition management compliance reporting retention professional services domestic international benefits collaboration adaptability change management defined contribution plans auditing negotiation corporate hr policies full lifecycle training k form confidential files eeo aap fmla std ltd h b visa vets eap processing payroll hr technology hris data management auditing ultipro back office ultipro web connect deltek costpoint deltek gcs premiere cognos adp professional experience human services inc', 'tampa fl present providing institutional behavioral health medical management contracting services employees benefits manager manage administer robust m health welfare program administer benefits programs two smaller minority business enterprise clients', 'deliver excellence client services leveraging interpersonal skills establish rapport team members', 'perform cost analysis gather claims data coordinate enrollment large selffunded medical plan plus two smaller fully insured plans', 'analyze data projections create forecasts narrative graph format clearly succinctly communicate trends senior management meetings', 'directly supervise staff hr admin plus two human resource specialists', 'lead healthcare reform change management process analyzing changes developing strategic plans timeline crucial decisions ahead deadlines', 'communicate early changes dependent coverage preventive care lifetime maximum benefits employees', 'identified researched implemented hsa healthcare savings account health insurance option high deductible health insurance plan provide tax sheltered benefits physicians high income highprofile professionals', 'saved k annually restructuring open enrollment strategy leveraging existing human capital hr business partners achieve better communication lower cost', 'quickly establish rapport employees balance client relationship needs organizational goals cost controls compliance requirements create positive work environment', 'maximize employee recruiting retention implementing competitive benefits packages clearly communicating value team members', 'reduced costs k per year collaborating closely legal department create house total comp statement including implications taxes social security produced better quality analysis lower costs', 'xcjohn h', 'smith phr', 'page infogreatresumesfastcom approachable innovator passion human resources', 'human management inc', 'atlanta ga nonprofit government consulting firm domestic international employees senior human resources generalist performed diverse human resources functions administered benefits led special projects updated policies collaborated eeo vets affirmative action plan aap reporting', 'revamped orientation training programs newly hired employees include comprehensive information delivered personal formats teleconferences small group meetings tours one one conversations follow phone calls', 'supervised hr assistant temporary human resource specialists handling high volume work peak periods open enrollment company merger', 'led change management process seamlessly integrated benefits compensation retirement plans logistics newly acquired company employees prepared encompassing reports total compensation plans', 'developed webinars personal meetings communicate value benefits employees despite reductions economic recession maintained employee retention job satisfaction rankings despite cutbacks', 'reduced overall benefit costs including decrease std benefits base compensation without significant increase employee turnover', 'researched procured benefits government contractors traveling hazardous areas including kidnap ransom kr increased life insurance travel insurance', 'identified implemented medical dental benefit plans ensure comparable compensation international employees worldwide', 'managed diverse retirement plans including defined contribution b a executive b plans', 'abc corporation new york ny engineering construction consulting international domestic employees senior human resources generalist acme inc', 'washington dc', 'professional services consulting firm employees hr generalist benefits specialist human resource corporation tampa fl environmental management consulting firm employees human resources assistant education certification affiliation bachelor science psychology community college professional human resources phr certificate employee benefit specialist cebs certification pending member shrm society human resource management']\n"
     ]
    }
   ],
   "source": [
    "print('[0] ',elmo_in_smalls[0])"
   ]
  },
  {
   "cell_type": "code",
   "execution_count": 46,
   "metadata": {},
   "outputs": [
    {
     "name": "stdout",
     "output_type": "stream",
     "text": [
      "[0][3]  <class 'str'> 112 senior human resources professional personable analytical flexible senior hr professional multifaceted expertise\n"
     ]
    }
   ],
   "source": [
    "print('[0][3] ', type(elmo_in_smalls[0][3]), len(elmo_in_smalls[0][3]), elmo_in_smalls[0][3])"
   ]
  },
  {
   "cell_type": "code",
   "execution_count": 53,
   "metadata": {},
   "outputs": [
    {
     "name": "stdout",
     "output_type": "stream",
     "text": [
      "7 1 o\n",
      "8 3 \n",
      "8 4 \n",
      "8 5 \n",
      "8 6 \n",
      "8 7 \n",
      "8 15 \n",
      "8 17 \n",
      "8 25 c\n",
      "8 29 f\n",
      "8 41 \n",
      "25 38 \n",
      "30 3 \n",
      "30 4 \n",
      "30 5 \n",
      "30 6 \n",
      "30 7 \n",
      "30 15 \n",
      "30 17 \n",
      "30 25 c\n",
      "30 29 f\n",
      "30 41 \n",
      "33 3 \n",
      "33 4 \n",
      "33 5 \n",
      "33 6 \n",
      "33 7 \n",
      "33 15 \n",
      "33 17 \n",
      "33 25 c\n",
      "33 29 f\n",
      "33 41 \n",
      "43 6 \n",
      "43 24 \n",
      "45 39 \n",
      "54 15 \n",
      "59 9 \n",
      "59 17 p\n",
      "70 34 \n",
      "70 51 \n",
      "70 59 \n",
      "70 68 \n",
      "70 85 \n",
      "85 4 \n",
      "85 5 \n",
      "95 33 \n",
      "108 55 \n",
      "119 8 j\n",
      "128 2 \n",
      "135 31 \n",
      "155 5 \n",
      "155 11 \n",
      "155 18 \n",
      "155 20 \n",
      "155 22 \n",
      "155 36 \n",
      "155 39 \n",
      "155 43 \n",
      "155 46 \n",
      "158 13 \n",
      "158 63 \n",
      "159 11 a\n",
      "159 15 a\n",
      "159 27 p\n",
      "159 40 a\n",
      "164 20 \n",
      "166 6 \n",
      "166 7 \n",
      "167 16 \n",
      "173 21 \n",
      "173 23 \n",
      "184 22 \n",
      "186 6 \n",
      "186 7 \n",
      "187 24 \n",
      "189 74 \n",
      "191 42 m\n",
      "200 2 \n",
      "200 31 \n",
      "203 3 \n",
      "206 11 \n",
      "211 6 \n",
      "211 8 \n",
      "213 12 \n",
      "215 18 \n",
      "216 16 \n",
      "220 3 \n",
      "221 5 \n",
      "228 24 \n",
      "232 7 \n",
      "232 21 \n",
      "232 22 \n",
      "232 28 \n",
      "232 39 \n",
      "232 40 \n",
      "244 1 g\n",
      "253 37 \n",
      "259 4 \n",
      "262 21 \n",
      "262 46 \n",
      "262 57 \n",
      "262 66 \n",
      "262 82 \n",
      "262 84 \n",
      "262 86 \n",
      "262 88 \n",
      "265 5 \n",
      "265 7 \n",
      "265 9 \n",
      "265 11 \n",
      "265 13 \n",
      "265 15 \n",
      "265 17 \n",
      "265 19 \n",
      "265 31 \n",
      "266 4 \n",
      "272 16 \n",
      "273 16 \n",
      "282 2 o\n",
      "286 1 \n",
      "286 2 \n",
      "286 3 \n",
      "289 48 d\n",
      "289 51 h\n",
      "303 2 o\n",
      "306 12 \n",
      "316 2 \n",
      "321 18 \n",
      "321 27 \n",
      "321 50 \n",
      "321 52 \n",
      "321 54 \n",
      "332 10 \n",
      "336 9 w\n",
      "337 13 l\n",
      "337 19 \n",
      "337 21 \n",
      "338 4 \n",
      "338 11 \n",
      "339 1 y\n",
      "339 5 t\n",
      "339 7 t\n",
      "339 8 o\n",
      "339 10 p\n",
      "342 3 \n",
      "342 5 \n",
      "342 16 \n",
      "342 19 \n",
      "342 28 \n",
      "343 1 \n",
      "345 14 l\n",
      "345 18 \n",
      "345 20 j\n",
      "345 48 c\n",
      "349 26 l\n",
      "350 2 l\n",
      "350 5 \n",
      "351 23 \n",
      "351 28 l\n",
      "351 29 r\n",
      "351 30 \n",
      "351 32 r\n",
      "351 33 \n",
      "351 36 \n",
      "351 38 \n",
      "351 41 \n",
      "351 44 \n",
      "351 67 v\n",
      "351 72 \n",
      "351 74 v\n",
      "351 85 \n",
      "353 34 \n",
      "353 41 \n",
      "356 2 c\n",
      "361 18 \n",
      "361 27 \n",
      "361 50 \n",
      "361 52 \n",
      "361 54 \n",
      "377 9 \n",
      "378 13 \n",
      "389 15 \n",
      "389 18 \n",
      "391 7 \n",
      "394 43 \n",
      "403 4 \n",
      "405 4 \n",
      "409 3 \n",
      "409 6 \n",
      "413 59 \n",
      "418 3 o\n",
      "418 28 \n",
      "418 37 \n",
      "418 41 k\n",
      "418 43 \n",
      "420 69 \n",
      "420 74 \n",
      "420 86 \n",
      "420 99 \n",
      "420 117 \n",
      "420 122 \n",
      "420 127 \n",
      "420 131 \n",
      "420 136 \n",
      "420 141 \n",
      "420 146 \n",
      "420 153 \n",
      "420 157 \n",
      "420 161 \n",
      "420 168 \n",
      "420 172 \n",
      "420 183 \n",
      "420 188 \n",
      "420 192 \n",
      "420 196 \n",
      "420 200 \n",
      "420 204 \n",
      "420 205 \n",
      "420 209 \n",
      "420 213 \n",
      "420 217 \n",
      "420 221 \n",
      "420 225 \n",
      "420 226 \n",
      "420 233 \n",
      "420 237 \n",
      "420 242 \n",
      "420 243 \n",
      "420 250 \n",
      "420 254 \n",
      "420 258 \n",
      "420 262 \n",
      "420 266 \n",
      "420 270 \n",
      "420 273 \n",
      "420 285 \n",
      "420 292 \n",
      "420 296 \n",
      "420 326 \n",
      "420 336 \n",
      "420 346 \n",
      "420 356 \n",
      "420 392 \n",
      "420 434 \n",
      "420 447 \n",
      "420 451 \n",
      "420 455 \n",
      "420 459 \n",
      "420 463 \n",
      "420 467 \n",
      "420 475 \n",
      "420 479 \n",
      "420 483 \n",
      "420 487 \n",
      "420 505 \n",
      "420 509 \n",
      "420 514 \n",
      "420 522 \n",
      "420 528 \n",
      "420 532 \n",
      "420 539 \n",
      "420 542 \n",
      "420 546 \n",
      "420 552 \n",
      "420 555 \n",
      "420 557 \n",
      "420 560 \n",
      "420 565 \n",
      "420 569 \n",
      "420 577 \n",
      "420 584 \n",
      "420 589 \n",
      "420 591 \n",
      "420 597 \n",
      "420 599 \n",
      "420 607 \n",
      "420 614 \n",
      "420 621 \n",
      "420 629 \n",
      "420 638 \n",
      "420 640 \n",
      "420 648 \n",
      "420 650 \n",
      "420 659 \n",
      "420 665 \n",
      "420 671 \n",
      "420 677 \n",
      "420 680 \n",
      "420 686 \n",
      "420 687 \n",
      "420 693 \n",
      "420 696 \n",
      "420 701 \n",
      "420 711 \n",
      "420 717 \n",
      "420 719 \n",
      "420 727 \n",
      "420 736 \n",
      "420 738 \n",
      "420 746 \n",
      "420 748 \n",
      "420 757 \n",
      "420 759 \n",
      "420 767 \n",
      "420 774 \n",
      "420 782 \n",
      "420 788 \n",
      "420 790 \n",
      "420 796 \n",
      "420 798 \n",
      "420 800 \n",
      "420 807 \n",
      "420 809 \n",
      "420 814 \n",
      "420 817 \n",
      "420 820 \n",
      "420 823 \n",
      "420 831 \n",
      "420 833 \n",
      "420 841 \n",
      "420 843 \n",
      "420 851 \n",
      "420 853 \n",
      "420 858 \n",
      "420 865 \n",
      "420 870 \n",
      "420 873 \n",
      "420 877 \n",
      "420 879 \n",
      "420 886 \n",
      "420 890 \n",
      "420 895 \n",
      "420 898 \n",
      "420 904 \n",
      "420 906 \n",
      "420 913 \n",
      "420 915 m\n",
      "420 917 \n",
      "420 924 \n",
      "420 928 \n",
      "420 931 \n",
      "420 937 \n",
      "420 939 \n",
      "420 944 \n",
      "420 946 \n",
      "420 953 p\n",
      "420 955 \n",
      "420 960 \n",
      "420 962 \n",
      "420 968 \n",
      "420 970 \n",
      "420 976 \n",
      "420 978 \n",
      "420 983 \n",
      "420 986 \n",
      "420 991 \n",
      "420 994 \n",
      "420 998 \n",
      "420 1001 \n",
      "420 1009 \n",
      "420 1014 \n",
      "420 1018 \n",
      "420 1022 \n",
      "420 1027 \n",
      "420 1032 \n",
      "420 1036 \n",
      "420 1050 \n",
      "420 1054 \n",
      "420 1059 \n",
      "420 1063 \n",
      "420 1067 \n",
      "420 1071 \n",
      "420 1075 \n",
      "420 1079 \n",
      "420 1089 \n",
      "420 1094 \n",
      "420 1098 \n",
      "420 1117 \n",
      "420 1121 \n",
      "420 1122 \n",
      "420 1126 \n",
      "420 1130 \n",
      "420 1135 \n",
      "420 1136 \n",
      "420 1140 \n",
      "420 1144 \n",
      "420 1148 \n",
      "420 1153 \n",
      "420 1157 \n",
      "420 1161 \n",
      "420 1165 \n",
      "420 1168 \n",
      "420 1172 \n",
      "420 1176 \n",
      "420 1179 \n",
      "420 1183 \n",
      "420 1186 \n",
      "420 1192 \n",
      "420 1196 \n",
      "420 1200 \n",
      "420 1205 \n",
      "420 1206 \n",
      "420 1211 \n",
      "420 1216 \n",
      "420 1219 \n",
      "420 1223 \n",
      "420 1227 \n",
      "421 1 \n",
      "427 11 \n",
      "428 35 \n",
      "428 44 \n",
      "428 48 \n",
      "428 66 \n",
      "428 70 \n",
      "428 74 \n",
      "428 78 \n",
      "428 79 \n",
      "428 83 \n",
      "436 9 \n",
      "436 12 \n",
      "436 14 \n",
      "446 6 \n",
      "446 9 \n",
      "446 11 \n",
      "446 13 \n",
      "446 18 \n",
      "446 29 \n",
      "455 19 \n",
      "455 22 \n",
      "455 25 \n",
      "455 28 \n",
      "455 36 \n",
      "474 1 \n",
      "478 13 \n",
      "478 15 \n",
      "478 18 \n",
      "478 23 \n",
      "478 28 \n",
      "515 5 \n",
      "532 9 \n",
      "541 7 \n",
      "563 26 \n",
      "568 49 \n",
      "568 50 \n",
      "568 55 \n",
      "586 33 \n",
      "587 11 \n",
      "589 13 \n",
      "593 13 r\n",
      "593 14 r\n",
      "602 93 \n",
      "602 96 \n",
      "608 51 \n",
      "609 24 \n",
      "610 4 \n",
      "610 6 \n",
      "610 9 \n",
      "610 12 \n",
      "610 14 \n",
      "610 20 \n",
      "610 22 \n",
      "610 54 \n",
      "610 60 \n",
      "615 47 \n",
      "620 56 \n",
      "620 60 \n",
      "620 82 \n",
      "631 10 \n",
      "641 1 f\n",
      "649 6 \n",
      "649 30 \n",
      "649 34 \n",
      "649 40 \n",
      "649 53 m\n",
      "650 2 \n",
      "651 2 \n",
      "657 36 \n",
      "663 2 \n",
      "666 10 w\n",
      "672 2 \n",
      "678 49 \n",
      "690 18 \n",
      "690 20 \n",
      "690 22 \n",
      "690 24 \n",
      "690 26 \n",
      "690 28 \n",
      "690 30 \n",
      "690 32 \n",
      "690 36 \n",
      "690 38 \n",
      "690 42 \n",
      "690 46 \n",
      "690 48 \n",
      "690 50 \n",
      "690 52 \n",
      "690 54 \n",
      "691 2 \n",
      "691 3 \n",
      "691 4 \n",
      "693 5 \n",
      "693 8 \n",
      "704 7 \n",
      "704 9 \n",
      "704 11 \n",
      "704 15 \n",
      "704 20 \n",
      "704 23 \n",
      "704 25 \n",
      "704 27 \n",
      "704 29 \n",
      "705 15 \n",
      "709 34 \n",
      "709 35 \n",
      "709 36 \n",
      "741 31 \n",
      "747 27 \n",
      "760 9 \n",
      "760 17 p\n",
      "764 9 \n",
      "764 17 p\n",
      "774 1 \n",
      "782 0 \n",
      "787 3 \n",
      "787 4 \n",
      "788 6 \n",
      "788 7 \n",
      "789 13 \n",
      "794 62 \n",
      "797 87 s\n",
      "806 0 r\n",
      "808 54 \n",
      "808 60 \n",
      "810 3 \n",
      "814 3 b\n",
      "817 6 \n",
      "817 9 \n",
      "817 10 \n",
      "817 13 \n",
      "819 31 \n",
      "820 5 h\n",
      "820 7 m\n",
      "820 11 h\n",
      "820 13 s\n",
      "820 30 h\n",
      "823 42 m\n",
      "827 14 \n",
      "827 22 \n",
      "830 35 s\n",
      "830 47 s\n",
      "833 50 s\n",
      "833 52 \n",
      "835 0 v\n",
      "843 1 \n",
      "848 16 d\n",
      "848 20 n\n",
      "848 41 j\n",
      "848 42 d\n",
      "848 44 i\n",
      "848 46 c\n",
      "848 50 \n",
      "848 51 \n",
      "850 0 \n",
      "851 16 d\n",
      "851 19 s\n",
      "851 20 a\n",
      "851 24 a\n",
      "851 25 d\n",
      "851 31 s\n",
      "851 34 \n",
      "851 38 \n",
      "851 47 s\n",
      "851 49 c\n",
      "851 51 j\n",
      "851 53 k\n",
      "851 55 a\n",
      "851 61 j\n",
      "851 63 a\n",
      "851 68 \n",
      "851 72 b\n",
      "851 74 a\n",
      "851 79 b\n",
      "851 81 a\n",
      "851 88 b\n",
      "851 90 a\n",
      "851 94 \n",
      "851 97 v\n",
      "851 100 a\n",
      "851 105 v\n",
      "851 108 a\n",
      "851 112 v\n",
      "851 115 a\n",
      "851 120 a\n",
      "851 125 v\n",
      "851 128 a\n",
      "851 133 j\n",
      "851 135 j\n",
      "851 137 a\n",
      "851 139 p\n",
      "851 143 a\n",
      "851 145 p\n",
      "851 146 s\n",
      "851 147 j\n",
      "851 149 j\n",
      "851 151 a\n",
      "851 155 j\n",
      "851 157 a\n",
      "851 159 a\n",
      "851 162 c\n",
      "851 164 b\n",
      "851 167 a\n",
      "851 172 b\n",
      "851 174 a\n",
      "851 187 v\n",
      "851 191 s\n",
      "851 192 a\n",
      "854 62 \n",
      "855 6 \n",
      "855 7 \n",
      "855 8 \n",
      "855 29 \n",
      "856 6 b\n",
      "856 8 c\n",
      "856 10 \n",
      "856 17 a\n",
      "856 20 b\n",
      "856 22 \n",
      "856 27 \n",
      "856 29 \n",
      "856 32 \n",
      "856 37 \n",
      "856 44 \n",
      "856 49 \n",
      "856 61 p\n",
      "856 67 p\n",
      "858 6 b\n",
      "858 8 c\n",
      "858 10 \n",
      "858 17 a\n",
      "858 20 b\n",
      "858 22 \n",
      "858 27 \n",
      "858 29 \n",
      "858 32 \n",
      "858 37 \n",
      "858 44 \n",
      "858 49 \n",
      "858 61 p\n",
      "858 67 p\n",
      "861 6 b\n",
      "861 8 c\n",
      "861 10 \n",
      "861 17 a\n",
      "861 20 b\n",
      "861 22 \n",
      "861 27 \n",
      "861 29 \n",
      "861 32 \n",
      "861 37 \n",
      "861 44 \n",
      "861 49 \n",
      "861 61 p\n",
      "861 67 p\n",
      "871 4 \n",
      "875 3 j\n",
      "875 6 n\n",
      "875 7 m\n",
      "875 8 u\n",
      "876 1 j\n",
      "876 15 j\n",
      "876 26 j\n",
      "878 2 \n",
      "920 4 \n",
      "920 6 \n",
      "920 9 \n",
      "920 15 \n",
      "920 19 \n",
      "920 23 \n",
      "920 25 \n",
      "920 27 \n",
      "923 12 \n",
      "933 6 \n",
      "933 67 \n",
      "935 5 \n",
      "935 8 \n",
      "935 14 \n",
      "935 18 \n",
      "935 20 \n",
      "935 22 \n",
      "935 24 \n",
      "940 44 \n",
      "940 46 \n",
      "940 73 d\n",
      "952 0 \n",
      "961 34 \n",
      "969 15 \n",
      "1017 10 b\n",
      "1017 11 a\n",
      "1017 12 l\n",
      "1017 13 j\n",
      "1017 17 c\n",
      "1017 18 a\n",
      "1017 19 \n",
      "1017 23 s\n",
      "1017 24 c\n",
      "1017 25 g\n",
      "1017 26 s\n",
      "1017 27 e\n",
      "1017 28 b\n",
      "1017 30 s\n",
      "1017 31 c\n",
      "1017 32 g\n",
      "1017 33 s\n",
      "1017 34 e\n",
      "1017 35 b\n",
      "1025 0 m\n",
      "1025 1 a\n",
      "1034 3 a\n",
      "1042 8 \n",
      "1043 0 \n",
      "1043 3 \n",
      "1053 4 m\n",
      "1053 6 u\n",
      "1056 6 a\n",
      "1066 12 \n"
     ]
    }
   ],
   "source": [
    "for i in range(0, len(elmo_in_smalls)):\n",
    "    for j in range (0, len(elmo_in_smalls[i])):\n",
    "        if len(elmo_in_smalls[i][j])<2:\n",
    "            print(i, j, elmo_in_smalls[i][j])\n",
    "\n"
   ]
  },
  {
   "cell_type": "code",
   "execution_count": null,
   "metadata": {},
   "outputs": [],
   "source": []
  },
  {
   "cell_type": "code",
   "execution_count": 39,
   "metadata": {},
   "outputs": [
    {
     "data": {
      "text/plain": [
       "1071"
      ]
     },
     "execution_count": 39,
     "metadata": {},
     "output_type": "execute_result"
    }
   ],
   "source": [
    "len(elmo_in_smalls)"
   ]
  },
  {
   "cell_type": "code",
   "execution_count": 25,
   "metadata": {},
   "outputs": [
    {
     "data": {
      "text/plain": [
       "[35,\n",
       " 9,\n",
       " 65,\n",
       " 63,\n",
       " 46,\n",
       " 35,\n",
       " 56,\n",
       " 76,\n",
       " 50,\n",
       " 4,\n",
       " 15,\n",
       " 32,\n",
       " 60,\n",
       " 33,\n",
       " 87,\n",
       " 65,\n",
       " 26,\n",
       " 7,\n",
       " 1,\n",
       " 31,\n",
       " 28,\n",
       " 31,\n",
       " 14,\n",
       " 36,\n",
       " 4,\n",
       " 24,\n",
       " 72,\n",
       " 15,\n",
       " 15,\n",
       " 31,\n",
       " 69,\n",
       " 50,\n",
       " 41,\n",
       " 29,\n",
       " 50,\n",
       " 6,\n",
       " 22,\n",
       " 15,\n",
       " 12,\n",
       " 64,\n",
       " 11,\n",
       " 22,\n",
       " 6,\n",
       " 12,\n",
       " 25,\n",
       " 6,\n",
       " 40,\n",
       " 8,\n",
       " 61,\n",
       " 10,\n",
       " 17,\n",
       " 17,\n",
       " 14,\n",
       " 32,\n",
       " 11,\n",
       " 17,\n",
       " 9,\n",
       " 26,\n",
       " 57,\n",
       " 20,\n",
       " 32,\n",
       " 3,\n",
       " 15,\n",
       " 3,\n",
       " 21,\n",
       " 28,\n",
       " 23,\n",
       " 70,\n",
       " 31,\n",
       " 30,\n",
       " 17,\n",
       " 92,\n",
       " 9,\n",
       " 3,\n",
       " 74,\n",
       " 32,\n",
       " 2,\n",
       " 68,\n",
       " 3,\n",
       " 30,\n",
       " 23,\n",
       " 26,\n",
       " 3,\n",
       " 18,\n",
       " 40,\n",
       " 35,\n",
       " 61,\n",
       " 2,\n",
       " 20,\n",
       " 93,\n",
       " 1,\n",
       " 26,\n",
       " 42,\n",
       " 47,\n",
       " 42,\n",
       " 24,\n",
       " 100,\n",
       " 42,\n",
       " 45,\n",
       " 25,\n",
       " 12,\n",
       " 26,\n",
       " 88,\n",
       " 5,\n",
       " 30,\n",
       " 46,\n",
       " 60,\n",
       " 57,\n",
       " 36,\n",
       " 7,\n",
       " 58,\n",
       " 35,\n",
       " 27,\n",
       " 35,\n",
       " 16,\n",
       " 58,\n",
       " 37,\n",
       " 32,\n",
       " 19,\n",
       " 26,\n",
       " 4,\n",
       " 33,\n",
       " 2,\n",
       " 11,\n",
       " 1,\n",
       " 74,\n",
       " 26,\n",
       " 51,\n",
       " 4,\n",
       " 1,\n",
       " 41,\n",
       " 19,\n",
       " 66,\n",
       " 3,\n",
       " 40,\n",
       " 68,\n",
       " 17,\n",
       " 55,\n",
       " 35,\n",
       " 54,\n",
       " 20,\n",
       " 1,\n",
       " 1,\n",
       " 27,\n",
       " 3,\n",
       " 8,\n",
       " 59,\n",
       " 16,\n",
       " 35,\n",
       " 36,\n",
       " 27,\n",
       " 35,\n",
       " 30,\n",
       " 7,\n",
       " 47,\n",
       " 12,\n",
       " 12,\n",
       " 2,\n",
       " 40,\n",
       " 45,\n",
       " 30,\n",
       " 55,\n",
       " 1,\n",
       " 25,\n",
       " 3,\n",
       " 64,\n",
       " 71,\n",
       " 4,\n",
       " 52,\n",
       " 29,\n",
       " 7,\n",
       " 21,\n",
       " 6,\n",
       " 24,\n",
       " 29,\n",
       " 15,\n",
       " 9,\n",
       " 26,\n",
       " 34,\n",
       " 85,\n",
       " 28,\n",
       " 42,\n",
       " 22,\n",
       " 9,\n",
       " 10,\n",
       " 47,\n",
       " 4,\n",
       " 31,\n",
       " 20,\n",
       " 19,\n",
       " 11,\n",
       " 23,\n",
       " 28,\n",
       " 24,\n",
       " 25,\n",
       " 60,\n",
       " 78,\n",
       " 22,\n",
       " 45,\n",
       " 17,\n",
       " 25,\n",
       " 47,\n",
       " 4,\n",
       " 2,\n",
       " 21,\n",
       " 36,\n",
       " 12,\n",
       " 51,\n",
       " 93,\n",
       " 40,\n",
       " 9,\n",
       " 35,\n",
       " 55,\n",
       " 86,\n",
       " 55,\n",
       " 31,\n",
       " 4,\n",
       " 41,\n",
       " 24,\n",
       " 36,\n",
       " 48,\n",
       " 39,\n",
       " 19,\n",
       " 18,\n",
       " 4,\n",
       " 30,\n",
       " 5,\n",
       " 16,\n",
       " 16,\n",
       " 16,\n",
       " 19,\n",
       " 23,\n",
       " 17,\n",
       " 7,\n",
       " 9,\n",
       " 27,\n",
       " 10,\n",
       " 3,\n",
       " 4,\n",
       " 44,\n",
       " 25,\n",
       " 66,\n",
       " 37,\n",
       " 5,\n",
       " 6,\n",
       " 19,\n",
       " 45,\n",
       " 18,\n",
       " 10,\n",
       " 23,\n",
       " 41,\n",
       " 16,\n",
       " 19,\n",
       " 14,\n",
       " 25,\n",
       " 7,\n",
       " 20,\n",
       " 23,\n",
       " 3,\n",
       " 1,\n",
       " 29,\n",
       " 76,\n",
       " 21,\n",
       " 5,\n",
       " 16,\n",
       " 1,\n",
       " 39,\n",
       " 4,\n",
       " 9,\n",
       " 4,\n",
       " 13,\n",
       " 90,\n",
       " 53,\n",
       " 4,\n",
       " 47,\n",
       " 1,\n",
       " 23,\n",
       " 11,\n",
       " 1,\n",
       " 18,\n",
       " 19,\n",
       " 4,\n",
       " 2,\n",
       " 40,\n",
       " 40,\n",
       " 3,\n",
       " 24,\n",
       " 19,\n",
       " 71,\n",
       " 18,\n",
       " 1,\n",
       " 4,\n",
       " 17,\n",
       " 1,\n",
       " 7,\n",
       " 18,\n",
       " 1,\n",
       " 22,\n",
       " 4,\n",
       " 35,\n",
       " 5,\n",
       " 3,\n",
       " 3,\n",
       " 54,\n",
       " 292,\n",
       " 16,\n",
       " 16,\n",
       " 59,\n",
       " 6,\n",
       " 3,\n",
       " 1,\n",
       " 6,\n",
       " 3,\n",
       " 3,\n",
       " 31,\n",
       " 318,\n",
       " 13,\n",
       " 53,\n",
       " 4,\n",
       " 9,\n",
       " 18,\n",
       " 23,\n",
       " 2,\n",
       " 16,\n",
       " 14,\n",
       " 4,\n",
       " 135,\n",
       " 3,\n",
       " 37,\n",
       " 6,\n",
       " 41,\n",
       " 7,\n",
       " 1,\n",
       " 19,\n",
       " 4,\n",
       " 4,\n",
       " 1,\n",
       " 1,\n",
       " 17,\n",
       " 78,\n",
       " 4,\n",
       " 57,\n",
       " 33,\n",
       " 8,\n",
       " 33,\n",
       " 33,\n",
       " 18,\n",
       " 7,\n",
       " 8,\n",
       " 8,\n",
       " 33,\n",
       " 5,\n",
       " 38,\n",
       " 18,\n",
       " 66,\n",
       " 66,\n",
       " 75,\n",
       " 27,\n",
       " 16,\n",
       " 27,\n",
       " 44,\n",
       " 12,\n",
       " 43,\n",
       " 22,\n",
       " 6,\n",
       " 51,\n",
       " 62,\n",
       " 66,\n",
       " 1,\n",
       " 2,\n",
       " 137,\n",
       " 57,\n",
       " 7,\n",
       " 88,\n",
       " 62,\n",
       " 42,\n",
       " 4,\n",
       " 41,\n",
       " 36,\n",
       " 66,\n",
       " 33,\n",
       " 19,\n",
       " 26,\n",
       " 57,\n",
       " 56,\n",
       " 3,\n",
       " 14,\n",
       " 26,\n",
       " 8,\n",
       " 8,\n",
       " 18,\n",
       " 101,\n",
       " 61,\n",
       " 24,\n",
       " 14,\n",
       " 29,\n",
       " 96,\n",
       " 28,\n",
       " 37,\n",
       " 12,\n",
       " 11,\n",
       " 15,\n",
       " 5,\n",
       " 32,\n",
       " 17,\n",
       " 120,\n",
       " 5,\n",
       " 30,\n",
       " 12,\n",
       " 5,\n",
       " 4,\n",
       " 26,\n",
       " 30,\n",
       " 24,\n",
       " 26,\n",
       " 10,\n",
       " 63,\n",
       " 9,\n",
       " 44,\n",
       " 17,\n",
       " 19,\n",
       " 5,\n",
       " 17,\n",
       " 2,\n",
       " 3,\n",
       " 30,\n",
       " 9,\n",
       " 9,\n",
       " 11,\n",
       " 6,\n",
       " 40,\n",
       " 5,\n",
       " 3,\n",
       " 28,\n",
       " 45,\n",
       " 16,\n",
       " 11,\n",
       " 60,\n",
       " 9,\n",
       " 14,\n",
       " 3,\n",
       " 20,\n",
       " 86,\n",
       " 3,\n",
       " 1,\n",
       " 1250,\n",
       " 7,\n",
       " 20,\n",
       " 29,\n",
       " 14,\n",
       " 28,\n",
       " 25,\n",
       " 12,\n",
       " 85,\n",
       " 21,\n",
       " 31,\n",
       " 3,\n",
       " 31,\n",
       " 30,\n",
       " 3,\n",
       " 52,\n",
       " 16,\n",
       " 23,\n",
       " 19,\n",
       " 2,\n",
       " 3,\n",
       " 49,\n",
       " 50,\n",
       " 18,\n",
       " 22,\n",
       " 79,\n",
       " 30,\n",
       " 12,\n",
       " 33,\n",
       " 10,\n",
       " 43,\n",
       " 31,\n",
       " 20,\n",
       " 6,\n",
       " 19,\n",
       " 51,\n",
       " 32,\n",
       " 2,\n",
       " 4,\n",
       " 2,\n",
       " 2,\n",
       " 44,\n",
       " 10,\n",
       " 17,\n",
       " 34,\n",
       " 5,\n",
       " 5,\n",
       " 5,\n",
       " 29,\n",
       " 200,\n",
       " 10,\n",
       " 4,\n",
       " 59,\n",
       " 28,\n",
       " 11,\n",
       " 7,\n",
       " 14,\n",
       " 14,\n",
       " 4,\n",
       " 41,\n",
       " 32,\n",
       " 28,\n",
       " 2,\n",
       " 13,\n",
       " 2,\n",
       " 6,\n",
       " 23,\n",
       " 12,\n",
       " 5,\n",
       " 22,\n",
       " 28,\n",
       " 10,\n",
       " 31,\n",
       " 25,\n",
       " 25,\n",
       " 22,\n",
       " 10,\n",
       " 29,\n",
       " 3,\n",
       " 8,\n",
       " 27,\n",
       " 2,\n",
       " 40,\n",
       " 17,\n",
       " 1,\n",
       " 10,\n",
       " 9,\n",
       " 8,\n",
       " 5,\n",
       " 40,\n",
       " 27,\n",
       " 23,\n",
       " 4,\n",
       " 27,\n",
       " 8,\n",
       " 7,\n",
       " 24,\n",
       " 9,\n",
       " 7,\n",
       " 3,\n",
       " 9,\n",
       " 12,\n",
       " 17,\n",
       " 8,\n",
       " 17,\n",
       " 10,\n",
       " 20,\n",
       " 20,\n",
       " 28,\n",
       " 7,\n",
       " 47,\n",
       " 34,\n",
       " 6,\n",
       " 24,\n",
       " 16,\n",
       " 2,\n",
       " 22,\n",
       " 3,\n",
       " 5,\n",
       " 8,\n",
       " 3,\n",
       " 6,\n",
       " 40,\n",
       " 8,\n",
       " 4,\n",
       " 23,\n",
       " 38,\n",
       " 9,\n",
       " 9,\n",
       " 21,\n",
       " 1,\n",
       " 1,\n",
       " 49,\n",
       " 21,\n",
       " 46,\n",
       " 18,\n",
       " 14,\n",
       " 50,\n",
       " 4,\n",
       " 52,\n",
       " 48,\n",
       " 8,\n",
       " 12,\n",
       " 32,\n",
       " 4,\n",
       " 22,\n",
       " 2,\n",
       " 48,\n",
       " 1,\n",
       " 9,\n",
       " 23,\n",
       " 2,\n",
       " 23,\n",
       " 82,\n",
       " 37,\n",
       " 5,\n",
       " 8,\n",
       " 1,\n",
       " 26,\n",
       " 6,\n",
       " 21,\n",
       " 2,\n",
       " 29,\n",
       " 13,\n",
       " 7,\n",
       " 23,\n",
       " 35,\n",
       " 35,\n",
       " 73,\n",
       " 22,\n",
       " 4,\n",
       " 18,\n",
       " 62,\n",
       " 54,\n",
       " 22,\n",
       " 14,\n",
       " 13,\n",
       " 29,\n",
       " 54,\n",
       " 97,\n",
       " 94,\n",
       " 34,\n",
       " 12,\n",
       " 24,\n",
       " 11,\n",
       " 4,\n",
       " 7,\n",
       " 15,\n",
       " 100,\n",
       " 42,\n",
       " 4,\n",
       " 25,\n",
       " 21,\n",
       " 32,\n",
       " 52,\n",
       " 25,\n",
       " 64,\n",
       " 8,\n",
       " 2,\n",
       " 20,\n",
       " 7,\n",
       " 48,\n",
       " 2,\n",
       " 32,\n",
       " 29,\n",
       " 26,\n",
       " 84,\n",
       " 9,\n",
       " 6,\n",
       " 34,\n",
       " 6,\n",
       " 9,\n",
       " 2,\n",
       " 10,\n",
       " 47,\n",
       " 6,\n",
       " 1,\n",
       " 1,\n",
       " 41,\n",
       " 85,\n",
       " 1,\n",
       " 33,\n",
       " 3,\n",
       " 12,\n",
       " 31,\n",
       " 10,\n",
       " 6,\n",
       " 11,\n",
       " 20,\n",
       " 12,\n",
       " 5,\n",
       " 49,\n",
       " 25,\n",
       " 25,\n",
       " 4,\n",
       " 9,\n",
       " 1,\n",
       " 88,\n",
       " 56,\n",
       " 22,\n",
       " 192,\n",
       " 24,\n",
       " 23,\n",
       " 8,\n",
       " 6,\n",
       " 17,\n",
       " 7,\n",
       " 42,\n",
       " 10,\n",
       " 1,\n",
       " 1,\n",
       " 19,\n",
       " 5,\n",
       " 6,\n",
       " 13,\n",
       " 12,\n",
       " 26,\n",
       " 12,\n",
       " 2,\n",
       " 10,\n",
       " 14,\n",
       " 13,\n",
       " 10,\n",
       " 17,\n",
       " 9,\n",
       " 6,\n",
       " 28,\n",
       " 9,\n",
       " 3,\n",
       " 61,\n",
       " 48,\n",
       " 1,\n",
       " 25,\n",
       " 8,\n",
       " 3,\n",
       " 42,\n",
       " 23,\n",
       " 28,\n",
       " 17,\n",
       " 2,\n",
       " 11,\n",
       " 28,\n",
       " 64,\n",
       " 6,\n",
       " 31,\n",
       " 13,\n",
       " 25,\n",
       " 27,\n",
       " 66,\n",
       " 45,\n",
       " 21,\n",
       " 18,\n",
       " 15,\n",
       " 15,\n",
       " 1,\n",
       " 22,\n",
       " 57,\n",
       " 33,\n",
       " 18,\n",
       " 1,\n",
       " 20,\n",
       " 5,\n",
       " 13,\n",
       " 54,\n",
       " 29,\n",
       " 16,\n",
       " 56,\n",
       " 2,\n",
       " 14,\n",
       " 21,\n",
       " 14,\n",
       " 32,\n",
       " 16,\n",
       " 21,\n",
       " 18,\n",
       " 9,\n",
       " 27,\n",
       " 51,\n",
       " 20,\n",
       " 22,\n",
       " 22,\n",
       " 3,\n",
       " 1,\n",
       " 1,\n",
       " 45,\n",
       " 11,\n",
       " 57,\n",
       " 16,\n",
       " 12,\n",
       " 19,\n",
       " 16,\n",
       " 16,\n",
       " 21,\n",
       " 4,\n",
       " 35,\n",
       " 8,\n",
       " 35,\n",
       " 32,\n",
       " 6,\n",
       " 25,\n",
       " 47,\n",
       " 45,\n",
       " 57,\n",
       " 40,\n",
       " 14,\n",
       " 7,\n",
       " 21,\n",
       " 15,\n",
       " 1,\n",
       " 9,\n",
       " 21,\n",
       " 49,\n",
       " 1,\n",
       " 6,\n",
       " 51,\n",
       " 2,\n",
       " 14,\n",
       " 10,\n",
       " 32,\n",
       " 57,\n",
       " 20,\n",
       " 12,\n",
       " 32,\n",
       " 3,\n",
       " 12,\n",
       " 74,\n",
       " 4,\n",
       " 13,\n",
       " 40,\n",
       " 16,\n",
       " 3,\n",
       " 85,\n",
       " 5,\n",
       " 19,\n",
       " 15,\n",
       " 30,\n",
       " 5,\n",
       " 16,\n",
       " 1,\n",
       " 43,\n",
       " 16,\n",
       " 1,\n",
       " 85,\n",
       " 60,\n",
       " 55,\n",
       " 19,\n",
       " 28,\n",
       " 24,\n",
       " 32,\n",
       " 2,\n",
       " 100,\n",
       " 3,\n",
       " 5,\n",
       " 63,\n",
       " 18,\n",
       " 5,\n",
       " 92,\n",
       " 212,\n",
       " 8,\n",
       " 19,\n",
       " 24,\n",
       " 286,\n",
       " 10,\n",
       " 10,\n",
       " 27,\n",
       " 15,\n",
       " 26,\n",
       " 12,\n",
       " 23,\n",
       " 63,\n",
       " 31,\n",
       " 12,\n",
       " 20,\n",
       " 7,\n",
       " 14,\n",
       " 16,\n",
       " 8,\n",
       " 18,\n",
       " 25,\n",
       " 194,\n",
       " 22,\n",
       " 1,\n",
       " 38,\n",
       " 45,\n",
       " 10,\n",
       " 31,\n",
       " 45,\n",
       " 24,\n",
       " 22,\n",
       " 234,\n",
       " 1,\n",
       " 27,\n",
       " 13,\n",
       " 16,\n",
       " 71,\n",
       " 17,\n",
       " 1,\n",
       " 28,\n",
       " 55,\n",
       " 51,\n",
       " 16,\n",
       " 2,\n",
       " 14,\n",
       " 11,\n",
       " 4,\n",
       " 87,\n",
       " 12,\n",
       " 14,\n",
       " 17,\n",
       " 10,\n",
       " 2,\n",
       " 23,\n",
       " 2,\n",
       " 61,\n",
       " 3,\n",
       " 1,\n",
       " 195,\n",
       " 9,\n",
       " 1,\n",
       " 12,\n",
       " 63,\n",
       " 41,\n",
       " 74,\n",
       " 17,\n",
       " 74,\n",
       " 22,\n",
       " 23,\n",
       " 74,\n",
       " 31,\n",
       " 11,\n",
       " 30,\n",
       " 14,\n",
       " 20,\n",
       " 25,\n",
       " 9,\n",
       " 11,\n",
       " 16,\n",
       " 15,\n",
       " 14,\n",
       " 3,\n",
       " 16,\n",
       " 15,\n",
       " 1,\n",
       " 28,\n",
       " 23,\n",
       " 66,\n",
       " 2,\n",
       " 7,\n",
       " 12,\n",
       " 3,\n",
       " 77,\n",
       " 20,\n",
       " 30,\n",
       " 8,\n",
       " 17,\n",
       " 15,\n",
       " 25,\n",
       " 17,\n",
       " 10,\n",
       " 1,\n",
       " 26,\n",
       " 10,\n",
       " 8,\n",
       " 42,\n",
       " 31,\n",
       " 23,\n",
       " 57,\n",
       " 15,\n",
       " 45,\n",
       " 20,\n",
       " 4,\n",
       " 36,\n",
       " 40,\n",
       " 31,\n",
       " 31,\n",
       " 15,\n",
       " 2,\n",
       " 36,\n",
       " 27,\n",
       " 5,\n",
       " 6,\n",
       " 30,\n",
       " 31,\n",
       " 11,\n",
       " 7,\n",
       " 17,\n",
       " 37,\n",
       " 59,\n",
       " 32,\n",
       " 38,\n",
       " 25,\n",
       " 53,\n",
       " 4,\n",
       " 9,\n",
       " 4,\n",
       " 28,\n",
       " 49,\n",
       " 2,\n",
       " 19,\n",
       " 4,\n",
       " 16,\n",
       " 93,\n",
       " 7,\n",
       " 29,\n",
       " 30,\n",
       " 7,\n",
       " 15,\n",
       " 33,\n",
       " 89,\n",
       " 66,\n",
       " 4,\n",
       " 25,\n",
       " 2,\n",
       " 1,\n",
       " 1,\n",
       " ...]"
      ]
     },
     "execution_count": 25,
     "metadata": {},
     "output_type": "execute_result"
    }
   ],
   "source": [
    "lengths_smalls = []\n",
    "for i in range(0, len(elmo_in_smalls)):\n",
    "    lengths_smalls.extend([len(elmo_in_smalls[i])])\n",
    "\n",
    "#lengths_smalls"
   ]
  },
  {
   "cell_type": "code",
   "execution_count": 26,
   "metadata": {},
   "outputs": [
    {
     "data": {
      "image/png": "[encoded data removed]",
      "text/plain": [
       "<Figure size 432x288 with 1 Axes>"
      ]
     },
     "metadata": {
      "needs_background": "light"
     },
     "output_type": "display_data"
    }
   ],
   "source": [
    "# let's look at distributions of resume length\n",
    "\n",
    "plt.hist(lengths_smalls, bins=range(0, 100, 5))\n",
    "\n",
    "plt.show()\n"
   ]
  },
  {
   "cell_type": "code",
   "execution_count": 27,
   "metadata": {},
   "outputs": [],
   "source": [
    "# now we have lengths_smalls for each length\n",
    "# now we have elmo_in_smalls for each resume"
   ]
  },
  {
   "cell_type": "code",
   "execution_count": 28,
   "metadata": {},
   "outputs": [
    {
     "data": {
      "text/plain": [
       "list"
      ]
     },
     "execution_count": 28,
     "metadata": {},
     "output_type": "execute_result"
    }
   ],
   "source": [
    "type(elmo_in_smalls[0])"
   ]
  },
  {
   "cell_type": "code",
   "execution_count": 29,
   "metadata": {},
   "outputs": [
    {
     "name": "stdout",
     "output_type": "stream",
     "text": [
      "Num GPUs Available:  1\n"
     ]
    }
   ],
   "source": [
    "# I have elmo saved locally\n",
    "elmo = hub.Module(\"/home/ubuntu/module/module_elmo2\", trainable=False)\n",
    "\n",
    "# It's a Tesla K80 \n",
    "print(\"Num GPUs Available: \", len(tf.config.experimental.list_physical_devices('GPU')))"
   ]
  },
  {
   "cell_type": "code",
   "execution_count": 30,
   "metadata": {},
   "outputs": [
    {
     "name": "stdout",
     "output_type": "stream",
     "text": [
      "INFO:tensorflow:Saver not created because there are no variables in the graph to restore\n",
      "embeddings is type <class 'tensorflow.python.framework.ops.Tensor'> and shape (35, 74, 1024)\n",
      "message_embeddings_2d is type <class 'numpy.ndarray'> and shape (74, 1024)\n",
      "message_embeddings_1d is type <class 'tensorflow.python.framework.ops.Tensor'> and shape (1, 1024)\n"
     ]
    }
   ],
   "source": [
    "# first_try = []\n",
    "# for i in range(0, len(elmo_in_smalls[0])):\n",
    "#     first_try = elmo_vectors(elmo_in_smalls[0][i])\n",
    "#     print(first_try)\n",
    "\n",
    "\n",
    "#trying on elmo_in_smalls[0]\n",
    "embeddings = elmo(elmo_in_smalls[0], signature=\"default\",as_dict=True)[\"elmo\"]\n",
    "print(\"embeddings is type {} and shape {}\".format(type(embeddings), embeddings.shape))\n",
    "with tf.Session() as session:\n",
    "    session.run([tf.global_variables_initializer(), tf.tables_initializer()])\n",
    "    message_embeddings_2d = session.run(tf.reduce_mean(embeddings,axis=0))\n",
    "    print(\"message_embeddings_2d is type {} and shape {}\".format(type(message_embeddings_2d), message_embeddings_2d.shape))\n",
    "    message_embeddings_1d = tf.reduce_mean(tf.convert_to_tensor(message_embeddings_2d), axis = 0, keepdims=True)\n",
    "    print(\"message_embeddings_1d is type {} and shape {}\".format(type(message_embeddings_1d), message_embeddings_1d.shape))\n"
   ]
  },
  {
   "cell_type": "code",
   "execution_count": 31,
   "metadata": {},
   "outputs": [
    {
     "name": "stdout",
     "output_type": "stream",
     "text": [
      "[[ 0.00236083 -0.02235312  0.00068047 ... -0.00174407 -0.00945802\n",
      "  -0.02746925]]\n"
     ]
    }
   ],
   "source": [
    "with tf.Session() as sess:  print(message_embeddings_1d.eval()) "
   ]
  },
  {
   "cell_type": "code",
   "execution_count": null,
   "metadata": {},
   "outputs": [],
   "source": []
  },
  {
   "cell_type": "code",
   "execution_count": 32,
   "metadata": {},
   "outputs": [
    {
     "name": "stdout",
     "output_type": "stream",
     "text": [
      "INFO:tensorflow:Saver not created because there are no variables in the graph to restore\n",
      "embeddings is type <class 'tensorflow.python.framework.ops.Tensor'> and shape (9, 51, 1024)\n",
      "message_embeddings1_2d is type <class 'numpy.ndarray'> and shape (51, 1024)\n",
      "message_embeddings1_1d is type <class 'numpy.ndarray'> and shape (1, 1024)\n"
     ]
    }
   ],
   "source": [
    "#trying on elmo_in_smalls[1]\n",
    "embeddings1 = elmo(elmo_in_smalls[1], signature=\"default\",as_dict=True)[\"elmo\"]\n",
    "print(\"embeddings is type {} and shape {}\".format(type(embeddings1), embeddings1.shape))\n",
    "with tf.Session() as session:\n",
    "    session.run([tf.global_variables_initializer(), tf.tables_initializer()])\n",
    "    message_embeddings1_2d = session.run(tf.reduce_mean(embeddings1,axis=0))\n",
    "    print(\"message_embeddings1_2d is type {} and shape {}\".format(type(message_embeddings1_2d), message_embeddings1_2d.shape))\n",
    "    message_embeddings1_1d = session.run(tf.reduce_mean(tf.convert_to_tensor(message_embeddings1_2d), axis = 0, keepdims=True))\n",
    "    print(\"message_embeddings1_1d is type {} and shape {}\".format(type(message_embeddings1_1d), message_embeddings1_1d.shape))\n",
    "\n",
    "    "
   ]
  },
  {
   "cell_type": "code",
   "execution_count": 33,
   "metadata": {},
   "outputs": [
    {
     "name": "stdout",
     "output_type": "stream",
     "text": [
      "[[ 0.03504544  0.00220909 -0.02226396 ... -0.0515295   0.03278996\n",
      "  -0.01769879]]\n"
     ]
    }
   ],
   "source": [
    "print(message_embeddings1_1d)"
   ]
  },
  {
   "cell_type": "code",
   "execution_count": null,
   "metadata": {},
   "outputs": [],
   "source": [
    "with tf.Session() as sess:  print(message_embeddings1_1d.eval()) "
   ]
  },
  {
   "cell_type": "code",
   "execution_count": null,
   "metadata": {},
   "outputs": [],
   "source": [
    "with tf.Session() as sess: print(cosine_similarity(message_embeddings_1d.eval(), message_embeddings1_1d.eval()))\n"
   ]
  },
  {
   "cell_type": "code",
   "execution_count": null,
   "metadata": {},
   "outputs": [],
   "source": []
  },
  {
   "cell_type": "code",
   "execution_count": null,
   "metadata": {},
   "outputs": [],
   "source": [
    "# print(\"embeddings shape: {}\".format(embeddings.shape))\n",
    "# print(\"elmo_in_smalls[0] sentences: {}\".format(len(elmo_in_smalls[0])))\n",
    "# max_sentence_length = 0\n",
    "# for i in range(0, len(elmo_in_smalls[0])):\n",
    "#     if len(elmo_in_smalls[0][i].split()) > max_sentence_length:\n",
    "#         max_sentence_length = len(elmo_in_smalls[0][i])\n",
    "                                  \n",
    "# print(\"elmo_in_smalls[0] max sentence length: {}\".format(max_sentence_length))\n"
   ]
  },
  {
   "cell_type": "code",
   "execution_count": null,
   "metadata": {},
   "outputs": [],
   "source": [
    "len(elmo_in_smalls)"
   ]
  },
  {
   "cell_type": "code",
   "execution_count": 36,
   "metadata": {},
   "outputs": [
    {
     "data": {
      "text/plain": [
       "1"
      ]
     },
     "execution_count": 36,
     "metadata": {},
     "output_type": "execute_result"
    }
   ],
   "source": [
    "len(elmo_in_smalls[129])"
   ]
  },
  {
   "cell_type": "code",
   "execution_count": 70,
   "metadata": {},
   "outputs": [
    {
     "data": {
      "text/plain": [
       "True"
      ]
     },
     "execution_count": 70,
     "metadata": {},
     "output_type": "execute_result"
    }
   ],
   "source": [
    "(100 % 100) == 0"
   ]
  },
  {
   "cell_type": "code",
   "execution_count": null,
   "metadata": {},
   "outputs": [],
   "source": []
  },
  {
   "cell_type": "code",
   "execution_count": null,
   "metadata": {
    "scrolled": false
   },
   "outputs": [
    {
     "name": "stderr",
     "output_type": "stream",
     "text": [
      "\n",
      "\n",
      "\n",
      "\n",
      "  0%|          | 0/1071 [00:00<?, ?it/s]\u001b[A\u001b[A\u001b[A\u001b[A"
     ]
    },
    {
     "name": "stdout",
     "output_type": "stream",
     "text": [
      "elmo_in_smalls[0]\n",
      "INFO:tensorflow:Saver not created because there are no variables in the graph to restore\n",
      "extended with elmo_in_smalls[{}].format()\n"
     ]
    },
    {
     "name": "stderr",
     "output_type": "stream",
     "text": [
      "\n",
      "\n",
      "\n",
      "\n",
      "  0%|          | 1/1071 [00:48<14:18:09, 48.12s/it]\u001b[A\u001b[A\u001b[A\u001b[A"
     ]
    },
    {
     "name": "stdout",
     "output_type": "stream",
     "text": [
      "elmo_in_smalls[1]\n",
      "INFO:tensorflow:Saver not created because there are no variables in the graph to restore\n",
      "extended with elmo_in_smalls[{}].format()\n"
     ]
    },
    {
     "name": "stderr",
     "output_type": "stream",
     "text": [
      "\n",
      "\n",
      "\n",
      "\n",
      "  0%|          | 2/1071 [01:36<14:18:32, 48.19s/it]\u001b[A\u001b[A\u001b[A\u001b[A"
     ]
    },
    {
     "name": "stdout",
     "output_type": "stream",
     "text": [
      "elmo_in_smalls[2]\n",
      "INFO:tensorflow:Saver not created because there are no variables in the graph to restore\n",
      "extended with elmo_in_smalls[{}].format()\n"
     ]
    },
    {
     "name": "stderr",
     "output_type": "stream",
     "text": [
      "\n",
      "\n",
      "\n",
      "\n",
      "  0%|          | 3/1071 [02:25<14:23:42, 48.52s/it]\u001b[A\u001b[A\u001b[A\u001b[A"
     ]
    },
    {
     "name": "stdout",
     "output_type": "stream",
     "text": [
      "elmo_in_smalls[3]\n",
      "INFO:tensorflow:Saver not created because there are no variables in the graph to restore\n",
      "extended with elmo_in_smalls[{}].format()\n"
     ]
    },
    {
     "name": "stderr",
     "output_type": "stream",
     "text": [
      "\n",
      "\n",
      "\n",
      "\n",
      "  0%|          | 4/1071 [03:14<14:25:34, 48.67s/it]\u001b[A\u001b[A\u001b[A\u001b[A"
     ]
    },
    {
     "name": "stdout",
     "output_type": "stream",
     "text": [
      "elmo_in_smalls[4]\n",
      "INFO:tensorflow:Saver not created because there are no variables in the graph to restore\n",
      "extended with elmo_in_smalls[{}].format()\n"
     ]
    },
    {
     "name": "stderr",
     "output_type": "stream",
     "text": [
      "\n",
      "\n",
      "\n",
      "\n",
      "  0%|          | 5/1071 [04:03<14:25:15, 48.70s/it]\u001b[A\u001b[A\u001b[A\u001b[A"
     ]
    },
    {
     "name": "stdout",
     "output_type": "stream",
     "text": [
      "elmo_in_smalls[5]\n",
      "INFO:tensorflow:Saver not created because there are no variables in the graph to restore\n",
      "extended with elmo_in_smalls[{}].format()\n"
     ]
    },
    {
     "name": "stderr",
     "output_type": "stream",
     "text": [
      "\n",
      "\n",
      "\n",
      "\n",
      "  1%|          | 6/1071 [04:53<14:29:32, 48.99s/it]\u001b[A\u001b[A\u001b[A\u001b[A"
     ]
    },
    {
     "name": "stdout",
     "output_type": "stream",
     "text": [
      "elmo_in_smalls[6]\n",
      "INFO:tensorflow:Saver not created because there are no variables in the graph to restore\n",
      "extended with elmo_in_smalls[{}].format()\n"
     ]
    },
    {
     "name": "stderr",
     "output_type": "stream",
     "text": [
      "\n",
      "\n",
      "\n",
      "\n",
      "  1%|          | 7/1071 [05:42<14:32:28, 49.20s/it]\u001b[A\u001b[A\u001b[A\u001b[A"
     ]
    },
    {
     "name": "stdout",
     "output_type": "stream",
     "text": [
      "elmo_in_smalls[7]\n",
      "INFO:tensorflow:Saver not created because there are no variables in the graph to restore\n",
      "extended with elmo_in_smalls[{}].format()\n"
     ]
    },
    {
     "name": "stderr",
     "output_type": "stream",
     "text": [
      "\n",
      "\n",
      "\n",
      "\n",
      "  1%|          | 8/1071 [06:34<14:42:03, 49.79s/it]\u001b[A\u001b[A\u001b[A\u001b[A"
     ]
    },
    {
     "name": "stdout",
     "output_type": "stream",
     "text": [
      "elmo_in_smalls[8]\n",
      "INFO:tensorflow:Saver not created because there are no variables in the graph to restore\n",
      "extended with elmo_in_smalls[{}].format()\n"
     ]
    },
    {
     "name": "stderr",
     "output_type": "stream",
     "text": [
      "\n",
      "\n",
      "\n",
      "\n",
      "  1%|          | 9/1071 [07:24<14:46:06, 50.06s/it]\u001b[A\u001b[A\u001b[A\u001b[A"
     ]
    },
    {
     "name": "stdout",
     "output_type": "stream",
     "text": [
      "elmo_in_smalls[9]\n",
      "INFO:tensorflow:Saver not created because there are no variables in the graph to restore\n",
      "extended with elmo_in_smalls[{}].format()\n"
     ]
    },
    {
     "name": "stderr",
     "output_type": "stream",
     "text": [
      "\n",
      "\n",
      "\n",
      "\n",
      "  1%|          | 10/1071 [08:16<14:56:30, 50.70s/it]\u001b[A\u001b[A\u001b[A\u001b[A"
     ]
    },
    {
     "name": "stdout",
     "output_type": "stream",
     "text": [
      "elmo_in_smalls[10]\n",
      "INFO:tensorflow:Saver not created because there are no variables in the graph to restore\n",
      "extended with elmo_in_smalls[{}].format()\n"
     ]
    },
    {
     "name": "stderr",
     "output_type": "stream",
     "text": [
      "\n",
      "\n",
      "\n",
      "\n",
      "  1%|          | 11/1071 [09:08<15:01:22, 51.02s/it]\u001b[A\u001b[A\u001b[A\u001b[A"
     ]
    },
    {
     "name": "stdout",
     "output_type": "stream",
     "text": [
      "elmo_in_smalls[11]\n",
      "INFO:tensorflow:Saver not created because there are no variables in the graph to restore\n",
      "extended with elmo_in_smalls[{}].format()\n"
     ]
    },
    {
     "name": "stderr",
     "output_type": "stream",
     "text": [
      "\n",
      "\n",
      "\n",
      "\n",
      "  1%|          | 12/1071 [09:59<14:59:02, 50.94s/it]\u001b[A\u001b[A\u001b[A\u001b[A"
     ]
    },
    {
     "name": "stdout",
     "output_type": "stream",
     "text": [
      "elmo_in_smalls[12]\n",
      "INFO:tensorflow:Saver not created because there are no variables in the graph to restore\n",
      "extended with elmo_in_smalls[{}].format()\n"
     ]
    },
    {
     "name": "stderr",
     "output_type": "stream",
     "text": [
      "\n",
      "\n",
      "\n",
      "\n",
      "  1%|          | 13/1071 [10:50<14:59:48, 51.03s/it]\u001b[A\u001b[A\u001b[A\u001b[A"
     ]
    },
    {
     "name": "stdout",
     "output_type": "stream",
     "text": [
      "elmo_in_smalls[13]\n",
      "INFO:tensorflow:Saver not created because there are no variables in the graph to restore\n",
      "extended with elmo_in_smalls[{}].format()\n"
     ]
    },
    {
     "name": "stderr",
     "output_type": "stream",
     "text": [
      "\n",
      "\n",
      "\n",
      "\n",
      "  1%|▏         | 14/1071 [11:42<15:00:37, 51.12s/it]\u001b[A\u001b[A\u001b[A\u001b[A"
     ]
    },
    {
     "name": "stdout",
     "output_type": "stream",
     "text": [
      "elmo_in_smalls[14]\n",
      "INFO:tensorflow:Saver not created because there are no variables in the graph to restore\n",
      "extended with elmo_in_smalls[{}].format()\n"
     ]
    },
    {
     "name": "stderr",
     "output_type": "stream",
     "text": [
      "\n",
      "\n",
      "\n",
      "\n",
      "  1%|▏         | 15/1071 [12:34<15:04:49, 51.41s/it]\u001b[A\u001b[A\u001b[A\u001b[A"
     ]
    },
    {
     "name": "stdout",
     "output_type": "stream",
     "text": [
      "elmo_in_smalls[15]\n",
      "INFO:tensorflow:Saver not created because there are no variables in the graph to restore\n",
      "extended with elmo_in_smalls[{}].format()\n"
     ]
    },
    {
     "name": "stderr",
     "output_type": "stream",
     "text": [
      "\n",
      "\n",
      "\n",
      "\n",
      "  1%|▏         | 16/1071 [13:27<15:13:11, 51.94s/it]\u001b[A\u001b[A\u001b[A\u001b[A"
     ]
    },
    {
     "name": "stdout",
     "output_type": "stream",
     "text": [
      "elmo_in_smalls[16]\n",
      "INFO:tensorflow:Saver not created because there are no variables in the graph to restore\n",
      "extended with elmo_in_smalls[{}].format()\n"
     ]
    },
    {
     "name": "stderr",
     "output_type": "stream",
     "text": [
      "\n",
      "\n",
      "\n",
      "\n",
      "  2%|▏         | 17/1071 [14:20<15:17:52, 52.25s/it]\u001b[A\u001b[A\u001b[A\u001b[A"
     ]
    },
    {
     "name": "stdout",
     "output_type": "stream",
     "text": [
      "elmo_in_smalls[17]\n",
      "INFO:tensorflow:Saver not created because there are no variables in the graph to restore\n",
      "extended with elmo_in_smalls[{}].format()\n"
     ]
    },
    {
     "name": "stderr",
     "output_type": "stream",
     "text": [
      "\n",
      "\n",
      "\n",
      "\n",
      "  2%|▏         | 18/1071 [15:13<15:21:14, 52.49s/it]\u001b[A\u001b[A\u001b[A\u001b[A"
     ]
    },
    {
     "name": "stdout",
     "output_type": "stream",
     "text": [
      "elmo_in_smalls[18]\n",
      "INFO:tensorflow:Saver not created because there are no variables in the graph to restore\n",
      "extended with elmo_in_smalls[{}].format()\n"
     ]
    },
    {
     "name": "stderr",
     "output_type": "stream",
     "text": [
      "\n",
      "\n",
      "\n",
      "\n",
      "  2%|▏         | 19/1071 [16:06<15:24:14, 52.71s/it]\u001b[A\u001b[A\u001b[A\u001b[A"
     ]
    },
    {
     "name": "stdout",
     "output_type": "stream",
     "text": [
      "elmo_in_smalls[19]\n",
      "INFO:tensorflow:Saver not created because there are no variables in the graph to restore\n",
      "extended with elmo_in_smalls[{}].format()\n"
     ]
    },
    {
     "name": "stderr",
     "output_type": "stream",
     "text": [
      "\n",
      "\n",
      "\n",
      "\n",
      "  2%|▏         | 20/1071 [16:59<15:25:58, 52.86s/it]\u001b[A\u001b[A\u001b[A\u001b[A"
     ]
    },
    {
     "name": "stdout",
     "output_type": "stream",
     "text": [
      "elmo_in_smalls[20]\n",
      "INFO:tensorflow:Saver not created because there are no variables in the graph to restore\n",
      "extended with elmo_in_smalls[{}].format()\n"
     ]
    },
    {
     "name": "stderr",
     "output_type": "stream",
     "text": [
      "\n",
      "\n",
      "\n",
      "\n",
      "  2%|▏         | 21/1071 [17:53<15:29:41, 53.13s/it]\u001b[A\u001b[A\u001b[A\u001b[A"
     ]
    },
    {
     "name": "stdout",
     "output_type": "stream",
     "text": [
      "elmo_in_smalls[21]\n",
      "INFO:tensorflow:Saver not created because there are no variables in the graph to restore\n",
      "extended with elmo_in_smalls[{}].format()\n"
     ]
    },
    {
     "name": "stderr",
     "output_type": "stream",
     "text": [
      "\n",
      "\n",
      "\n",
      "\n",
      "  2%|▏         | 22/1071 [18:47<15:31:11, 53.26s/it]\u001b[A\u001b[A\u001b[A\u001b[A"
     ]
    },
    {
     "name": "stdout",
     "output_type": "stream",
     "text": [
      "elmo_in_smalls[22]\n",
      "INFO:tensorflow:Saver not created because there are no variables in the graph to restore\n",
      "extended with elmo_in_smalls[{}].format()\n"
     ]
    },
    {
     "name": "stderr",
     "output_type": "stream",
     "text": [
      "\n",
      "\n",
      "\n",
      "\n",
      "  2%|▏         | 23/1071 [19:41<15:34:37, 53.51s/it]\u001b[A\u001b[A\u001b[A\u001b[A"
     ]
    },
    {
     "name": "stdout",
     "output_type": "stream",
     "text": [
      "elmo_in_smalls[23]\n",
      "INFO:tensorflow:Saver not created because there are no variables in the graph to restore\n",
      "extended with elmo_in_smalls[{}].format()\n"
     ]
    },
    {
     "name": "stderr",
     "output_type": "stream",
     "text": [
      "\n",
      "\n",
      "\n",
      "\n",
      "  2%|▏         | 24/1071 [20:36<15:45:23, 54.18s/it]\u001b[A\u001b[A\u001b[A\u001b[A"
     ]
    },
    {
     "name": "stdout",
     "output_type": "stream",
     "text": [
      "elmo_in_smalls[24]\n",
      "INFO:tensorflow:Saver not created because there are no variables in the graph to restore\n",
      "extended with elmo_in_smalls[{}].format()\n"
     ]
    },
    {
     "name": "stderr",
     "output_type": "stream",
     "text": [
      "\n",
      "\n",
      "\n",
      "\n",
      "  2%|▏         | 25/1071 [21:31<15:45:27, 54.23s/it]\u001b[A\u001b[A\u001b[A\u001b[A"
     ]
    },
    {
     "name": "stdout",
     "output_type": "stream",
     "text": [
      "elmo_in_smalls[25]\n",
      "INFO:tensorflow:Saver not created because there are no variables in the graph to restore\n",
      "extended with elmo_in_smalls[{}].format()\n"
     ]
    },
    {
     "name": "stderr",
     "output_type": "stream",
     "text": [
      "\n",
      "\n",
      "\n",
      "\n",
      "  2%|▏         | 26/1071 [22:27<15:52:32, 54.69s/it]\u001b[A\u001b[A\u001b[A\u001b[A"
     ]
    },
    {
     "name": "stdout",
     "output_type": "stream",
     "text": [
      "elmo_in_smalls[26]\n",
      "INFO:tensorflow:Saver not created because there are no variables in the graph to restore\n",
      "extended with elmo_in_smalls[{}].format()\n"
     ]
    },
    {
     "name": "stderr",
     "output_type": "stream",
     "text": [
      "\n",
      "\n",
      "\n",
      "\n",
      "  3%|▎         | 27/1071 [23:23<16:03:11, 55.36s/it]\u001b[A\u001b[A\u001b[A\u001b[A"
     ]
    },
    {
     "name": "stdout",
     "output_type": "stream",
     "text": [
      "elmo_in_smalls[27]\n",
      "INFO:tensorflow:Saver not created because there are no variables in the graph to restore\n",
      "extended with elmo_in_smalls[{}].format()\n"
     ]
    },
    {
     "name": "stderr",
     "output_type": "stream",
     "text": [
      "\n",
      "\n",
      "\n",
      "\n",
      "  3%|▎         | 28/1071 [24:20<16:11:01, 55.86s/it]\u001b[A\u001b[A\u001b[A\u001b[A"
     ]
    },
    {
     "name": "stdout",
     "output_type": "stream",
     "text": [
      "elmo_in_smalls[28]\n",
      "INFO:tensorflow:Saver not created because there are no variables in the graph to restore\n",
      "extended with elmo_in_smalls[{}].format()\n"
     ]
    },
    {
     "name": "stderr",
     "output_type": "stream",
     "text": [
      "\n",
      "\n",
      "\n",
      "\n",
      "  3%|▎         | 29/1071 [25:16<16:09:30, 55.83s/it]\u001b[A\u001b[A\u001b[A\u001b[A"
     ]
    },
    {
     "name": "stdout",
     "output_type": "stream",
     "text": [
      "elmo_in_smalls[29]\n",
      "INFO:tensorflow:Saver not created because there are no variables in the graph to restore\n",
      "extended with elmo_in_smalls[{}].format()\n"
     ]
    },
    {
     "name": "stderr",
     "output_type": "stream",
     "text": [
      "\n",
      "\n",
      "\n",
      "\n",
      "  3%|▎         | 30/1071 [26:13<16:15:14, 56.21s/it]\u001b[A\u001b[A\u001b[A\u001b[A"
     ]
    },
    {
     "name": "stdout",
     "output_type": "stream",
     "text": [
      "elmo_in_smalls[30]\n",
      "INFO:tensorflow:Saver not created because there are no variables in the graph to restore\n",
      "extended with elmo_in_smalls[{}].format()\n"
     ]
    },
    {
     "name": "stderr",
     "output_type": "stream",
     "text": [
      "\n",
      "\n",
      "\n",
      "\n",
      "  3%|▎         | 31/1071 [27:10<16:17:34, 56.40s/it]\u001b[A\u001b[A\u001b[A\u001b[A"
     ]
    },
    {
     "name": "stdout",
     "output_type": "stream",
     "text": [
      "elmo_in_smalls[31]\n",
      "INFO:tensorflow:Saver not created because there are no variables in the graph to restore\n",
      "extended with elmo_in_smalls[{}].format()\n"
     ]
    },
    {
     "name": "stderr",
     "output_type": "stream",
     "text": [
      "\n",
      "\n",
      "\n",
      "\n",
      "  3%|▎         | 32/1071 [28:07<16:20:11, 56.60s/it]\u001b[A\u001b[A\u001b[A\u001b[A"
     ]
    },
    {
     "name": "stdout",
     "output_type": "stream",
     "text": [
      "elmo_in_smalls[32]\n",
      "INFO:tensorflow:Saver not created because there are no variables in the graph to restore\n",
      "extended with elmo_in_smalls[{}].format()\n"
     ]
    },
    {
     "name": "stderr",
     "output_type": "stream",
     "text": [
      "\n",
      "\n",
      "\n",
      "\n",
      "  3%|▎         | 33/1071 [29:05<16:23:17, 56.84s/it]\u001b[A\u001b[A\u001b[A\u001b[A"
     ]
    },
    {
     "name": "stdout",
     "output_type": "stream",
     "text": [
      "elmo_in_smalls[33]\n",
      "INFO:tensorflow:Saver not created because there are no variables in the graph to restore\n",
      "extended with elmo_in_smalls[{}].format()\n"
     ]
    },
    {
     "name": "stderr",
     "output_type": "stream",
     "text": [
      "\n",
      "\n",
      "\n",
      "\n",
      "  3%|▎         | 34/1071 [30:02<16:27:02, 57.11s/it]\u001b[A\u001b[A\u001b[A\u001b[A"
     ]
    },
    {
     "name": "stdout",
     "output_type": "stream",
     "text": [
      "elmo_in_smalls[34]\n",
      "INFO:tensorflow:Saver not created because there are no variables in the graph to restore\n",
      "extended with elmo_in_smalls[{}].format()\n"
     ]
    },
    {
     "name": "stderr",
     "output_type": "stream",
     "text": [
      "\n",
      "\n",
      "\n",
      "\n",
      "  3%|▎         | 35/1071 [31:00<16:29:38, 57.32s/it]\u001b[A\u001b[A\u001b[A\u001b[A"
     ]
    },
    {
     "name": "stdout",
     "output_type": "stream",
     "text": [
      "elmo_in_smalls[35]\n",
      "INFO:tensorflow:Saver not created because there are no variables in the graph to restore\n",
      "extended with elmo_in_smalls[{}].format()\n"
     ]
    },
    {
     "name": "stderr",
     "output_type": "stream",
     "text": [
      "\n",
      "\n",
      "\n",
      "\n",
      "  3%|▎         | 36/1071 [31:58<16:31:23, 57.47s/it]\u001b[A\u001b[A\u001b[A\u001b[A"
     ]
    },
    {
     "name": "stdout",
     "output_type": "stream",
     "text": [
      "elmo_in_smalls[36]\n",
      "INFO:tensorflow:Saver not created because there are no variables in the graph to restore\n",
      "extended with elmo_in_smalls[{}].format()\n"
     ]
    },
    {
     "name": "stderr",
     "output_type": "stream",
     "text": [
      "\n",
      "\n",
      "\n",
      "\n",
      "  3%|▎         | 37/1071 [32:57<16:39:13, 57.98s/it]\u001b[A\u001b[A\u001b[A\u001b[A"
     ]
    },
    {
     "name": "stdout",
     "output_type": "stream",
     "text": [
      "elmo_in_smalls[37]\n",
      "INFO:tensorflow:Saver not created because there are no variables in the graph to restore\n",
      "extended with elmo_in_smalls[{}].format()\n"
     ]
    },
    {
     "name": "stderr",
     "output_type": "stream",
     "text": [
      "\n",
      "\n",
      "\n",
      "\n",
      "  4%|▎         | 38/1071 [33:55<16:38:47, 58.01s/it]\u001b[A\u001b[A\u001b[A\u001b[A"
     ]
    },
    {
     "name": "stdout",
     "output_type": "stream",
     "text": [
      "elmo_in_smalls[38]\n",
      "INFO:tensorflow:Saver not created because there are no variables in the graph to restore\n",
      "extended with elmo_in_smalls[{}].format()\n"
     ]
    },
    {
     "name": "stderr",
     "output_type": "stream",
     "text": [
      "\n",
      "\n",
      "\n",
      "\n",
      "  4%|▎         | 39/1071 [34:54<16:42:06, 58.26s/it]\u001b[A\u001b[A\u001b[A\u001b[A"
     ]
    },
    {
     "name": "stdout",
     "output_type": "stream",
     "text": [
      "elmo_in_smalls[39]\n",
      "INFO:tensorflow:Saver not created because there are no variables in the graph to restore\n",
      "extended with elmo_in_smalls[{}].format()\n"
     ]
    },
    {
     "name": "stderr",
     "output_type": "stream",
     "text": [
      "\n",
      "\n",
      "\n",
      "\n",
      "  4%|▎         | 40/1071 [35:53<16:45:58, 58.54s/it]\u001b[A\u001b[A\u001b[A\u001b[A"
     ]
    },
    {
     "name": "stdout",
     "output_type": "stream",
     "text": [
      "elmo_in_smalls[40]\n",
      "INFO:tensorflow:Saver not created because there are no variables in the graph to restore\n",
      "extended with elmo_in_smalls[{}].format()\n"
     ]
    },
    {
     "name": "stderr",
     "output_type": "stream",
     "text": [
      "\n",
      "\n",
      "\n",
      "\n",
      "  4%|▍         | 41/1071 [36:52<16:46:49, 58.65s/it]\u001b[A\u001b[A\u001b[A\u001b[A"
     ]
    },
    {
     "name": "stdout",
     "output_type": "stream",
     "text": [
      "elmo_in_smalls[41]\n",
      "INFO:tensorflow:Saver not created because there are no variables in the graph to restore\n",
      "extended with elmo_in_smalls[{}].format()\n"
     ]
    },
    {
     "name": "stderr",
     "output_type": "stream",
     "text": [
      "\n",
      "\n",
      "\n",
      "\n",
      "  4%|▍         | 42/1071 [37:53<16:55:53, 59.24s/it]\u001b[A\u001b[A\u001b[A\u001b[A"
     ]
    },
    {
     "name": "stdout",
     "output_type": "stream",
     "text": [
      "elmo_in_smalls[42]\n",
      "INFO:tensorflow:Saver not created because there are no variables in the graph to restore\n",
      "extended with elmo_in_smalls[{}].format()\n"
     ]
    },
    {
     "name": "stderr",
     "output_type": "stream",
     "text": [
      "\n",
      "\n",
      "\n",
      "\n",
      "  4%|▍         | 43/1071 [38:52<16:56:26, 59.33s/it]\u001b[A\u001b[A\u001b[A\u001b[A"
     ]
    },
    {
     "name": "stdout",
     "output_type": "stream",
     "text": [
      "elmo_in_smalls[43]\n",
      "INFO:tensorflow:Saver not created because there are no variables in the graph to restore\n",
      "extended with elmo_in_smalls[{}].format()\n"
     ]
    },
    {
     "name": "stderr",
     "output_type": "stream",
     "text": [
      "\n",
      "\n",
      "\n",
      "\n",
      "  4%|▍         | 44/1071 [39:52<16:56:56, 59.41s/it]\u001b[A\u001b[A\u001b[A\u001b[A"
     ]
    },
    {
     "name": "stdout",
     "output_type": "stream",
     "text": [
      "elmo_in_smalls[44]\n",
      "INFO:tensorflow:Saver not created because there are no variables in the graph to restore\n",
      "extended with elmo_in_smalls[{}].format()\n"
     ]
    },
    {
     "name": "stderr",
     "output_type": "stream",
     "text": [
      "\n",
      "\n",
      "\n",
      "\n",
      "  4%|▍         | 45/1071 [40:53<17:03:22, 59.85s/it]\u001b[A\u001b[A\u001b[A\u001b[A"
     ]
    },
    {
     "name": "stdout",
     "output_type": "stream",
     "text": [
      "elmo_in_smalls[45]\n",
      "INFO:tensorflow:Saver not created because there are no variables in the graph to restore\n",
      "extended with elmo_in_smalls[{}].format()\n"
     ]
    },
    {
     "name": "stderr",
     "output_type": "stream",
     "text": [
      "\n",
      "\n",
      "\n",
      "\n",
      "  4%|▍         | 46/1071 [41:53<17:06:00, 60.06s/it]\u001b[A\u001b[A\u001b[A\u001b[A"
     ]
    },
    {
     "name": "stdout",
     "output_type": "stream",
     "text": [
      "elmo_in_smalls[46]\n",
      "INFO:tensorflow:Saver not created because there are no variables in the graph to restore\n",
      "extended with elmo_in_smalls[{}].format()\n"
     ]
    },
    {
     "name": "stderr",
     "output_type": "stream",
     "text": [
      "\n",
      "\n",
      "\n",
      "\n",
      "  4%|▍         | 47/1071 [42:55<17:13:15, 60.54s/it]\u001b[A\u001b[A\u001b[A\u001b[A"
     ]
    },
    {
     "name": "stdout",
     "output_type": "stream",
     "text": [
      "elmo_in_smalls[47]\n",
      "INFO:tensorflow:Saver not created because there are no variables in the graph to restore\n",
      "extended with elmo_in_smalls[{}].format()\n"
     ]
    },
    {
     "name": "stderr",
     "output_type": "stream",
     "text": [
      "\n",
      "\n",
      "\n",
      "\n",
      "  4%|▍         | 48/1071 [43:57<17:18:21, 60.90s/it]\u001b[A\u001b[A\u001b[A\u001b[A"
     ]
    },
    {
     "name": "stdout",
     "output_type": "stream",
     "text": [
      "elmo_in_smalls[48]\n",
      "INFO:tensorflow:Saver not created because there are no variables in the graph to restore\n",
      "extended with elmo_in_smalls[{}].format()\n"
     ]
    },
    {
     "name": "stderr",
     "output_type": "stream",
     "text": [
      "\n",
      "\n",
      "\n",
      "\n",
      "  5%|▍         | 49/1071 [44:59<17:23:43, 61.28s/it]\u001b[A\u001b[A\u001b[A\u001b[A"
     ]
    },
    {
     "name": "stdout",
     "output_type": "stream",
     "text": [
      "elmo_in_smalls[49]\n",
      "INFO:tensorflow:Saver not created because there are no variables in the graph to restore\n",
      "extended with elmo_in_smalls[{}].format()\n"
     ]
    },
    {
     "name": "stderr",
     "output_type": "stream",
     "text": [
      "\n",
      "\n",
      "\n",
      "\n",
      "  5%|▍         | 50/1071 [46:01<17:26:05, 61.47s/it]\u001b[A\u001b[A\u001b[A\u001b[A"
     ]
    },
    {
     "name": "stdout",
     "output_type": "stream",
     "text": [
      "elmo_in_smalls[50]\n",
      "INFO:tensorflow:Saver not created because there are no variables in the graph to restore\n",
      "extended with elmo_in_smalls[{}].format()\n"
     ]
    },
    {
     "name": "stderr",
     "output_type": "stream",
     "text": [
      "\n",
      "\n",
      "\n",
      "\n",
      "  5%|▍         | 51/1071 [47:03<17:27:24, 61.61s/it]\u001b[A\u001b[A\u001b[A\u001b[A"
     ]
    },
    {
     "name": "stdout",
     "output_type": "stream",
     "text": [
      "elmo_in_smalls[51]\n",
      "INFO:tensorflow:Saver not created because there are no variables in the graph to restore\n",
      "extended with elmo_in_smalls[{}].format()\n"
     ]
    },
    {
     "name": "stderr",
     "output_type": "stream",
     "text": [
      "\n",
      "\n",
      "\n",
      "\n",
      "  5%|▍         | 52/1071 [48:05<17:29:21, 61.79s/it]\u001b[A\u001b[A\u001b[A\u001b[A"
     ]
    },
    {
     "name": "stdout",
     "output_type": "stream",
     "text": [
      "elmo_in_smalls[52]\n",
      "INFO:tensorflow:Saver not created because there are no variables in the graph to restore\n",
      "extended with elmo_in_smalls[{}].format()\n"
     ]
    },
    {
     "name": "stderr",
     "output_type": "stream",
     "text": [
      "\n",
      "\n",
      "\n",
      "\n",
      "  5%|▍         | 53/1071 [49:08<17:33:03, 62.07s/it]\u001b[A\u001b[A\u001b[A\u001b[A"
     ]
    },
    {
     "name": "stdout",
     "output_type": "stream",
     "text": [
      "elmo_in_smalls[53]\n",
      "INFO:tensorflow:Saver not created because there are no variables in the graph to restore\n",
      "extended with elmo_in_smalls[{}].format()\n"
     ]
    },
    {
     "name": "stderr",
     "output_type": "stream",
     "text": [
      "\n",
      "\n",
      "\n",
      "\n",
      "  5%|▌         | 54/1071 [50:11<17:36:08, 62.31s/it]\u001b[A\u001b[A\u001b[A\u001b[A"
     ]
    },
    {
     "name": "stdout",
     "output_type": "stream",
     "text": [
      "elmo_in_smalls[54]\n",
      "INFO:tensorflow:Saver not created because there are no variables in the graph to restore\n",
      "extended with elmo_in_smalls[{}].format()\n"
     ]
    },
    {
     "name": "stderr",
     "output_type": "stream",
     "text": [
      "\n",
      "\n",
      "\n",
      "\n",
      "  5%|▌         | 55/1071 [51:14<17:39:37, 62.58s/it]\u001b[A\u001b[A\u001b[A\u001b[A"
     ]
    },
    {
     "name": "stdout",
     "output_type": "stream",
     "text": [
      "elmo_in_smalls[55]\n",
      "INFO:tensorflow:Saver not created because there are no variables in the graph to restore\n",
      "extended with elmo_in_smalls[{}].format()\n"
     ]
    },
    {
     "name": "stderr",
     "output_type": "stream",
     "text": [
      "\n",
      "\n",
      "\n",
      "\n",
      "  5%|▌         | 56/1071 [52:17<17:40:40, 62.70s/it]\u001b[A\u001b[A\u001b[A\u001b[A"
     ]
    },
    {
     "name": "stdout",
     "output_type": "stream",
     "text": [
      "elmo_in_smalls[56]\n",
      "INFO:tensorflow:Saver not created because there are no variables in the graph to restore\n",
      "extended with elmo_in_smalls[{}].format()\n"
     ]
    },
    {
     "name": "stderr",
     "output_type": "stream",
     "text": [
      "\n",
      "\n",
      "\n",
      "\n",
      "  5%|▌         | 57/1071 [53:21<17:46:17, 63.09s/it]\u001b[A\u001b[A\u001b[A\u001b[A"
     ]
    },
    {
     "name": "stdout",
     "output_type": "stream",
     "text": [
      "elmo_in_smalls[57]\n",
      "INFO:tensorflow:Saver not created because there are no variables in the graph to restore\n",
      "extended with elmo_in_smalls[{}].format()\n"
     ]
    },
    {
     "name": "stderr",
     "output_type": "stream",
     "text": [
      "\n",
      "\n",
      "\n",
      "\n",
      "  5%|▌         | 58/1071 [54:25<17:50:59, 63.43s/it]\u001b[A\u001b[A\u001b[A\u001b[A"
     ]
    },
    {
     "name": "stdout",
     "output_type": "stream",
     "text": [
      "elmo_in_smalls[58]\n",
      "INFO:tensorflow:Saver not created because there are no variables in the graph to restore\n",
      "extended with elmo_in_smalls[{}].format()\n"
     ]
    },
    {
     "name": "stderr",
     "output_type": "stream",
     "text": [
      "\n",
      "\n",
      "\n",
      "\n",
      "  6%|▌         | 59/1071 [55:29<17:52:30, 63.59s/it]\u001b[A\u001b[A\u001b[A\u001b[A"
     ]
    },
    {
     "name": "stdout",
     "output_type": "stream",
     "text": [
      "elmo_in_smalls[59]\n",
      "INFO:tensorflow:Saver not created because there are no variables in the graph to restore\n",
      "extended with elmo_in_smalls[{}].format()\n"
     ]
    },
    {
     "name": "stderr",
     "output_type": "stream",
     "text": [
      "\n",
      "\n",
      "\n",
      "\n",
      "  6%|▌         | 60/1071 [56:36<18:08:39, 64.61s/it]\u001b[A\u001b[A\u001b[A\u001b[A"
     ]
    },
    {
     "name": "stdout",
     "output_type": "stream",
     "text": [
      "elmo_in_smalls[60]\n",
      "INFO:tensorflow:Saver not created because there are no variables in the graph to restore\n",
      "extended with elmo_in_smalls[{}].format()\n"
     ]
    },
    {
     "name": "stderr",
     "output_type": "stream",
     "text": [
      "\n",
      "\n",
      "\n",
      "\n",
      "  6%|▌         | 61/1071 [57:41<18:10:45, 64.80s/it]\u001b[A\u001b[A\u001b[A\u001b[A"
     ]
    },
    {
     "name": "stdout",
     "output_type": "stream",
     "text": [
      "elmo_in_smalls[61]\n",
      "INFO:tensorflow:Saver not created because there are no variables in the graph to restore\n",
      "extended with elmo_in_smalls[{}].format()\n"
     ]
    },
    {
     "name": "stderr",
     "output_type": "stream",
     "text": [
      "\n",
      "\n",
      "\n",
      "\n",
      "  6%|▌         | 62/1071 [58:47<18:13:11, 65.01s/it]\u001b[A\u001b[A\u001b[A\u001b[A"
     ]
    },
    {
     "name": "stdout",
     "output_type": "stream",
     "text": [
      "elmo_in_smalls[62]\n",
      "INFO:tensorflow:Saver not created because there are no variables in the graph to restore\n",
      "extended with elmo_in_smalls[{}].format()\n"
     ]
    },
    {
     "name": "stderr",
     "output_type": "stream",
     "text": [
      "\n",
      "\n",
      "\n",
      "\n",
      "  6%|▌         | 63/1071 [59:54<18:22:09, 65.60s/it]\u001b[A\u001b[A\u001b[A\u001b[A"
     ]
    },
    {
     "name": "stdout",
     "output_type": "stream",
     "text": [
      "elmo_in_smalls[63]\n",
      "INFO:tensorflow:Saver not created because there are no variables in the graph to restore\n",
      "extended with elmo_in_smalls[{}].format()\n"
     ]
    },
    {
     "name": "stderr",
     "output_type": "stream",
     "text": [
      "\n",
      "\n",
      "\n",
      "\n",
      "  6%|▌         | 64/1071 [1:01:00<18:26:58, 65.96s/it]\u001b[A\u001b[A\u001b[A\u001b[A"
     ]
    },
    {
     "name": "stdout",
     "output_type": "stream",
     "text": [
      "elmo_in_smalls[64]\n",
      "INFO:tensorflow:Saver not created because there are no variables in the graph to restore\n",
      "extended with elmo_in_smalls[{}].format()\n"
     ]
    },
    {
     "name": "stderr",
     "output_type": "stream",
     "text": [
      "\n",
      "\n",
      "\n",
      "\n",
      "  6%|▌         | 65/1071 [1:02:07<18:28:55, 66.14s/it]\u001b[A\u001b[A\u001b[A\u001b[A"
     ]
    },
    {
     "name": "stdout",
     "output_type": "stream",
     "text": [
      "elmo_in_smalls[65]\n",
      "INFO:tensorflow:Saver not created because there are no variables in the graph to restore\n",
      "extended with elmo_in_smalls[{}].format()\n"
     ]
    },
    {
     "name": "stderr",
     "output_type": "stream",
     "text": [
      "\n",
      "\n",
      "\n",
      "\n",
      "  6%|▌         | 66/1071 [1:03:13<18:29:08, 66.22s/it]\u001b[A\u001b[A\u001b[A\u001b[A"
     ]
    },
    {
     "name": "stdout",
     "output_type": "stream",
     "text": [
      "elmo_in_smalls[66]\n",
      "INFO:tensorflow:Saver not created because there are no variables in the graph to restore\n",
      "extended with elmo_in_smalls[{}].format()\n"
     ]
    },
    {
     "name": "stderr",
     "output_type": "stream",
     "text": [
      "\n",
      "\n",
      "\n",
      "\n",
      "  6%|▋         | 67/1071 [1:04:20<18:32:07, 66.46s/it]\u001b[A\u001b[A\u001b[A\u001b[A"
     ]
    },
    {
     "name": "stdout",
     "output_type": "stream",
     "text": [
      "elmo_in_smalls[67]\n",
      "INFO:tensorflow:Saver not created because there are no variables in the graph to restore\n",
      "extended with elmo_in_smalls[{}].format()\n"
     ]
    },
    {
     "name": "stderr",
     "output_type": "stream",
     "text": [
      "\n",
      "\n",
      "\n",
      "\n",
      "  6%|▋         | 68/1071 [1:05:27<18:31:08, 66.47s/it]\u001b[A\u001b[A\u001b[A\u001b[A"
     ]
    },
    {
     "name": "stdout",
     "output_type": "stream",
     "text": [
      "elmo_in_smalls[68]\n",
      "INFO:tensorflow:Saver not created because there are no variables in the graph to restore\n",
      "extended with elmo_in_smalls[{}].format()\n"
     ]
    },
    {
     "name": "stderr",
     "output_type": "stream",
     "text": [
      "\n",
      "\n",
      "\n",
      "\n",
      "  6%|▋         | 69/1071 [1:06:34<18:33:24, 66.67s/it]\u001b[A\u001b[A\u001b[A\u001b[A"
     ]
    },
    {
     "name": "stdout",
     "output_type": "stream",
     "text": [
      "elmo_in_smalls[69]\n",
      "INFO:tensorflow:Saver not created because there are no variables in the graph to restore\n",
      "extended with elmo_in_smalls[{}].format()\n"
     ]
    },
    {
     "name": "stderr",
     "output_type": "stream",
     "text": [
      "\n",
      "\n",
      "\n",
      "\n",
      "  7%|▋         | 70/1071 [1:07:41<18:34:59, 66.83s/it]\u001b[A\u001b[A\u001b[A\u001b[A"
     ]
    },
    {
     "name": "stdout",
     "output_type": "stream",
     "text": [
      "elmo_in_smalls[70]\n",
      "INFO:tensorflow:Saver not created because there are no variables in the graph to restore\n",
      "extended with elmo_in_smalls[{}].format()\n"
     ]
    },
    {
     "name": "stderr",
     "output_type": "stream",
     "text": [
      "\n",
      "\n",
      "\n",
      "\n",
      "  7%|▋         | 71/1071 [1:08:50<18:43:50, 67.43s/it]\u001b[A\u001b[A\u001b[A\u001b[A"
     ]
    },
    {
     "name": "stdout",
     "output_type": "stream",
     "text": [
      "elmo_in_smalls[71]\n",
      "INFO:tensorflow:Saver not created because there are no variables in the graph to restore\n",
      "extended with elmo_in_smalls[{}].format()\n"
     ]
    },
    {
     "name": "stderr",
     "output_type": "stream",
     "text": [
      "\n",
      "\n",
      "\n",
      "\n",
      "  7%|▋         | 72/1071 [1:09:58<18:44:26, 67.53s/it]\u001b[A\u001b[A\u001b[A\u001b[A"
     ]
    },
    {
     "name": "stdout",
     "output_type": "stream",
     "text": [
      "elmo_in_smalls[72]\n",
      "INFO:tensorflow:Saver not created because there are no variables in the graph to restore\n",
      "extended with elmo_in_smalls[{}].format()\n"
     ]
    },
    {
     "name": "stderr",
     "output_type": "stream",
     "text": [
      "\n",
      "\n",
      "\n",
      "\n",
      "  7%|▋         | 73/1071 [1:11:08<18:57:40, 68.40s/it]\u001b[A\u001b[A\u001b[A\u001b[A"
     ]
    },
    {
     "name": "stdout",
     "output_type": "stream",
     "text": [
      "elmo_in_smalls[73]\n",
      "INFO:tensorflow:Saver not created because there are no variables in the graph to restore\n",
      "extended with elmo_in_smalls[{}].format()\n"
     ]
    },
    {
     "name": "stderr",
     "output_type": "stream",
     "text": [
      "\n",
      "\n",
      "\n",
      "\n",
      "  7%|▋         | 74/1071 [1:12:17<18:59:20, 68.57s/it]\u001b[A\u001b[A\u001b[A\u001b[A"
     ]
    },
    {
     "name": "stdout",
     "output_type": "stream",
     "text": [
      "elmo_in_smalls[74]\n",
      "INFO:tensorflow:Saver not created because there are no variables in the graph to restore\n",
      "extended with elmo_in_smalls[{}].format()\n"
     ]
    },
    {
     "name": "stderr",
     "output_type": "stream",
     "text": [
      "\n",
      "\n",
      "\n",
      "\n",
      "  7%|▋         | 75/1071 [1:13:26<18:59:10, 68.63s/it]\u001b[A\u001b[A\u001b[A\u001b[A"
     ]
    },
    {
     "name": "stdout",
     "output_type": "stream",
     "text": [
      "elmo_in_smalls[75]\n",
      "INFO:tensorflow:Saver not created because there are no variables in the graph to restore\n",
      "extended with elmo_in_smalls[{}].format()\n"
     ]
    },
    {
     "name": "stderr",
     "output_type": "stream",
     "text": [
      "\n",
      "\n",
      "\n",
      "\n",
      "  7%|▋         | 76/1071 [1:14:36<19:05:57, 69.10s/it]\u001b[A\u001b[A\u001b[A\u001b[A"
     ]
    },
    {
     "name": "stdout",
     "output_type": "stream",
     "text": [
      "elmo_in_smalls[76]\n",
      "INFO:tensorflow:Saver not created because there are no variables in the graph to restore\n",
      "extended with elmo_in_smalls[{}].format()\n"
     ]
    },
    {
     "name": "stderr",
     "output_type": "stream",
     "text": [
      "\n",
      "\n",
      "\n",
      "\n",
      "  7%|▋         | 77/1071 [1:15:46<19:09:45, 69.40s/it]\u001b[A\u001b[A\u001b[A\u001b[A"
     ]
    },
    {
     "name": "stdout",
     "output_type": "stream",
     "text": [
      "elmo_in_smalls[77]\n",
      "INFO:tensorflow:Saver not created because there are no variables in the graph to restore\n",
      "extended with elmo_in_smalls[{}].format()\n"
     ]
    },
    {
     "name": "stderr",
     "output_type": "stream",
     "text": [
      "\n",
      "\n",
      "\n",
      "\n",
      "  7%|▋         | 78/1071 [1:16:57<19:15:09, 69.80s/it]\u001b[A\u001b[A\u001b[A\u001b[A"
     ]
    },
    {
     "name": "stdout",
     "output_type": "stream",
     "text": [
      "elmo_in_smalls[78]\n",
      "INFO:tensorflow:Saver not created because there are no variables in the graph to restore\n",
      "extended with elmo_in_smalls[{}].format()\n"
     ]
    },
    {
     "name": "stderr",
     "output_type": "stream",
     "text": [
      "\n",
      "\n",
      "\n",
      "\n",
      "  7%|▋         | 79/1071 [1:18:07<19:12:59, 69.74s/it]\u001b[A\u001b[A\u001b[A\u001b[A"
     ]
    },
    {
     "name": "stdout",
     "output_type": "stream",
     "text": [
      "elmo_in_smalls[79]\n",
      "INFO:tensorflow:Saver not created because there are no variables in the graph to restore\n",
      "extended with elmo_in_smalls[{}].format()\n"
     ]
    },
    {
     "name": "stderr",
     "output_type": "stream",
     "text": [
      "\n",
      "\n",
      "\n",
      "\n",
      "  7%|▋         | 80/1071 [1:19:17<19:12:39, 69.79s/it]\u001b[A\u001b[A\u001b[A\u001b[A"
     ]
    },
    {
     "name": "stdout",
     "output_type": "stream",
     "text": [
      "elmo_in_smalls[80]\n",
      "INFO:tensorflow:Saver not created because there are no variables in the graph to restore\n",
      "extended with elmo_in_smalls[{}].format()\n"
     ]
    },
    {
     "name": "stderr",
     "output_type": "stream",
     "text": [
      "\n",
      "\n",
      "\n",
      "\n",
      "  8%|▊         | 81/1071 [1:20:27<19:15:55, 70.06s/it]\u001b[A\u001b[A\u001b[A\u001b[A"
     ]
    },
    {
     "name": "stdout",
     "output_type": "stream",
     "text": [
      "elmo_in_smalls[81]\n",
      "INFO:tensorflow:Saver not created because there are no variables in the graph to restore\n",
      "extended with elmo_in_smalls[{}].format()\n"
     ]
    },
    {
     "name": "stderr",
     "output_type": "stream",
     "text": [
      "\n",
      "\n",
      "\n",
      "\n",
      "  8%|▊         | 82/1071 [1:21:40<19:28:02, 70.86s/it]\u001b[A\u001b[A\u001b[A\u001b[A"
     ]
    },
    {
     "name": "stdout",
     "output_type": "stream",
     "text": [
      "elmo_in_smalls[82]\n",
      "INFO:tensorflow:Saver not created because there are no variables in the graph to restore\n",
      "extended with elmo_in_smalls[{}].format()\n"
     ]
    },
    {
     "name": "stderr",
     "output_type": "stream",
     "text": [
      "\n",
      "\n",
      "\n",
      "\n",
      "  8%|▊         | 83/1071 [1:22:51<19:26:30, 70.84s/it]\u001b[A\u001b[A\u001b[A\u001b[A"
     ]
    },
    {
     "name": "stdout",
     "output_type": "stream",
     "text": [
      "elmo_in_smalls[83]\n",
      "INFO:tensorflow:Saver not created because there are no variables in the graph to restore\n",
      "extended with elmo_in_smalls[{}].format()\n"
     ]
    },
    {
     "name": "stderr",
     "output_type": "stream",
     "text": [
      "\n",
      "\n",
      "\n",
      "\n",
      "  8%|▊         | 84/1071 [1:24:02<19:29:23, 71.09s/it]\u001b[A\u001b[A\u001b[A\u001b[A"
     ]
    },
    {
     "name": "stdout",
     "output_type": "stream",
     "text": [
      "elmo_in_smalls[84]\n",
      "INFO:tensorflow:Saver not created because there are no variables in the graph to restore\n",
      "extended with elmo_in_smalls[{}].format()\n"
     ]
    },
    {
     "name": "stderr",
     "output_type": "stream",
     "text": [
      "\n",
      "\n",
      "\n",
      "\n",
      "  8%|▊         | 85/1071 [1:25:14<19:31:42, 71.30s/it]\u001b[A\u001b[A\u001b[A\u001b[A"
     ]
    },
    {
     "name": "stdout",
     "output_type": "stream",
     "text": [
      "elmo_in_smalls[85]\n",
      "INFO:tensorflow:Saver not created because there are no variables in the graph to restore\n",
      "extended with elmo_in_smalls[{}].format()\n"
     ]
    },
    {
     "name": "stderr",
     "output_type": "stream",
     "text": [
      "\n",
      "\n",
      "\n",
      "\n",
      "  8%|▊         | 86/1071 [1:26:26<19:33:18, 71.47s/it]\u001b[A\u001b[A\u001b[A\u001b[A"
     ]
    },
    {
     "name": "stdout",
     "output_type": "stream",
     "text": [
      "elmo_in_smalls[86]\n",
      "INFO:tensorflow:Saver not created because there are no variables in the graph to restore\n",
      "extended with elmo_in_smalls[{}].format()\n"
     ]
    },
    {
     "name": "stderr",
     "output_type": "stream",
     "text": [
      "\n",
      "\n",
      "\n",
      "\n",
      "  8%|▊         | 87/1071 [1:27:39<19:40:17, 71.97s/it]\u001b[A\u001b[A\u001b[A\u001b[A"
     ]
    },
    {
     "name": "stdout",
     "output_type": "stream",
     "text": [
      "elmo_in_smalls[87]\n",
      "INFO:tensorflow:Saver not created because there are no variables in the graph to restore\n",
      "extended with elmo_in_smalls[{}].format()\n"
     ]
    },
    {
     "name": "stderr",
     "output_type": "stream",
     "text": [
      "\n",
      "\n",
      "\n",
      "\n",
      "  8%|▊         | 88/1071 [1:28:52<19:45:11, 72.34s/it]\u001b[A\u001b[A\u001b[A\u001b[A"
     ]
    },
    {
     "name": "stdout",
     "output_type": "stream",
     "text": [
      "elmo_in_smalls[88]\n",
      "INFO:tensorflow:Saver not created because there are no variables in the graph to restore\n",
      "extended with elmo_in_smalls[{}].format()\n"
     ]
    },
    {
     "name": "stderr",
     "output_type": "stream",
     "text": [
      "\n",
      "\n",
      "\n",
      "\n",
      "  8%|▊         | 89/1071 [1:30:06<19:50:42, 72.75s/it]\u001b[A\u001b[A\u001b[A\u001b[A"
     ]
    },
    {
     "name": "stdout",
     "output_type": "stream",
     "text": [
      "elmo_in_smalls[89]\n",
      "INFO:tensorflow:Saver not created because there are no variables in the graph to restore\n",
      "extended with elmo_in_smalls[{}].format()\n"
     ]
    },
    {
     "name": "stderr",
     "output_type": "stream",
     "text": [
      "\n",
      "\n",
      "\n",
      "\n",
      "  8%|▊         | 90/1071 [1:31:19<19:51:27, 72.87s/it]\u001b[A\u001b[A\u001b[A\u001b[A"
     ]
    },
    {
     "name": "stdout",
     "output_type": "stream",
     "text": [
      "elmo_in_smalls[90]\n",
      "INFO:tensorflow:Saver not created because there are no variables in the graph to restore\n",
      "extended with elmo_in_smalls[{}].format()\n"
     ]
    },
    {
     "name": "stderr",
     "output_type": "stream",
     "text": [
      "\n",
      "\n",
      "\n",
      "\n",
      "  8%|▊         | 91/1071 [1:32:33<19:53:31, 73.07s/it]\u001b[A\u001b[A\u001b[A\u001b[A"
     ]
    },
    {
     "name": "stdout",
     "output_type": "stream",
     "text": [
      "elmo_in_smalls[91]\n",
      "INFO:tensorflow:Saver not created because there are no variables in the graph to restore\n",
      "extended with elmo_in_smalls[{}].format()\n"
     ]
    },
    {
     "name": "stderr",
     "output_type": "stream",
     "text": [
      "\n",
      "\n",
      "\n",
      "\n",
      "  9%|▊         | 92/1071 [1:33:47<19:56:01, 73.30s/it]\u001b[A\u001b[A\u001b[A\u001b[A"
     ]
    },
    {
     "name": "stdout",
     "output_type": "stream",
     "text": [
      "elmo_in_smalls[92]\n",
      "INFO:tensorflow:Saver not created because there are no variables in the graph to restore\n",
      "extended with elmo_in_smalls[{}].format()\n"
     ]
    },
    {
     "name": "stderr",
     "output_type": "stream",
     "text": [
      "\n",
      "\n",
      "\n",
      "\n",
      "  9%|▊         | 93/1071 [1:35:01<20:01:53, 73.74s/it]\u001b[A\u001b[A\u001b[A\u001b[A"
     ]
    },
    {
     "name": "stdout",
     "output_type": "stream",
     "text": [
      "elmo_in_smalls[93]\n",
      "INFO:tensorflow:Saver not created because there are no variables in the graph to restore\n",
      "extended with elmo_in_smalls[{}].format()\n"
     ]
    },
    {
     "name": "stderr",
     "output_type": "stream",
     "text": [
      "\n",
      "\n",
      "\n",
      "\n",
      "  9%|▉         | 94/1071 [1:36:15<20:01:57, 73.82s/it]\u001b[A\u001b[A\u001b[A\u001b[A"
     ]
    },
    {
     "name": "stdout",
     "output_type": "stream",
     "text": [
      "elmo_in_smalls[94]\n",
      "INFO:tensorflow:Saver not created because there are no variables in the graph to restore\n",
      "extended with elmo_in_smalls[{}].format()\n"
     ]
    },
    {
     "name": "stderr",
     "output_type": "stream",
     "text": [
      "\n",
      "\n",
      "\n",
      "\n",
      "  9%|▉         | 95/1071 [1:37:30<20:06:34, 74.17s/it]\u001b[A\u001b[A\u001b[A\u001b[A"
     ]
    },
    {
     "name": "stdout",
     "output_type": "stream",
     "text": [
      "elmo_in_smalls[95]\n",
      "INFO:tensorflow:Saver not created because there are no variables in the graph to restore\n",
      "extended with elmo_in_smalls[{}].format()\n"
     ]
    },
    {
     "name": "stderr",
     "output_type": "stream",
     "text": [
      "\n",
      "\n",
      "\n",
      "\n",
      "  9%|▉         | 96/1071 [1:38:45<20:06:09, 74.23s/it]\u001b[A\u001b[A\u001b[A\u001b[A"
     ]
    },
    {
     "name": "stdout",
     "output_type": "stream",
     "text": [
      "elmo_in_smalls[96]\n",
      "INFO:tensorflow:Saver not created because there are no variables in the graph to restore\n",
      "extended with elmo_in_smalls[{}].format()\n"
     ]
    },
    {
     "name": "stderr",
     "output_type": "stream",
     "text": [
      "\n",
      "\n",
      "\n",
      "\n",
      "  9%|▉         | 97/1071 [1:40:00<20:11:27, 74.63s/it]\u001b[A\u001b[A\u001b[A\u001b[A"
     ]
    },
    {
     "name": "stdout",
     "output_type": "stream",
     "text": [
      "elmo_in_smalls[97]\n",
      "INFO:tensorflow:Saver not created because there are no variables in the graph to restore\n",
      "extended with elmo_in_smalls[{}].format()\n"
     ]
    },
    {
     "name": "stderr",
     "output_type": "stream",
     "text": [
      "\n",
      "\n",
      "\n",
      "\n",
      "  9%|▉         | 98/1071 [1:41:15<20:12:08, 74.75s/it]\u001b[A\u001b[A\u001b[A\u001b[A"
     ]
    },
    {
     "name": "stdout",
     "output_type": "stream",
     "text": [
      "elmo_in_smalls[98]\n",
      "INFO:tensorflow:Saver not created because there are no variables in the graph to restore\n",
      "extended with elmo_in_smalls[{}].format()\n"
     ]
    },
    {
     "name": "stderr",
     "output_type": "stream",
     "text": [
      "\n",
      "\n",
      "\n",
      "\n",
      "  9%|▉         | 99/1071 [1:42:31<20:15:06, 75.01s/it]\u001b[A\u001b[A\u001b[A\u001b[A"
     ]
    },
    {
     "name": "stdout",
     "output_type": "stream",
     "text": [
      "elmo_in_smalls[99]\n",
      "INFO:tensorflow:Saver not created because there are no variables in the graph to restore\n",
      "extended with elmo_in_smalls[{}].format()\n"
     ]
    },
    {
     "name": "stderr",
     "output_type": "stream",
     "text": [
      "\n",
      "\n",
      "\n",
      "\n",
      "  9%|▉         | 100/1071 [1:43:47<20:20:27, 75.41s/it]\u001b[A\u001b[A\u001b[A\u001b[A"
     ]
    },
    {
     "name": "stdout",
     "output_type": "stream",
     "text": [
      "elmo_in_smalls[100]\n",
      "INFO:tensorflow:Saver not created because there are no variables in the graph to restore\n",
      "extended with elmo_in_smalls[{}].format()\n"
     ]
    },
    {
     "name": "stderr",
     "output_type": "stream",
     "text": [
      "\n",
      "\n",
      "\n",
      "\n",
      "  9%|▉         | 101/1071 [1:45:04<20:23:32, 75.68s/it]\u001b[A\u001b[A\u001b[A\u001b[A"
     ]
    },
    {
     "name": "stdout",
     "output_type": "stream",
     "text": [
      "elmo_in_smalls[101]\n",
      "INFO:tensorflow:Saver not created because there are no variables in the graph to restore\n",
      "extended with elmo_in_smalls[{}].format()\n"
     ]
    },
    {
     "name": "stderr",
     "output_type": "stream",
     "text": [
      "\n",
      "\n",
      "\n",
      "\n",
      " 10%|▉         | 102/1071 [1:46:22<20:32:46, 76.33s/it]\u001b[A\u001b[A\u001b[A\u001b[A"
     ]
    },
    {
     "name": "stdout",
     "output_type": "stream",
     "text": [
      "elmo_in_smalls[102]\n",
      "INFO:tensorflow:Saver not created because there are no variables in the graph to restore\n",
      "extended with elmo_in_smalls[{}].format()\n"
     ]
    },
    {
     "name": "stderr",
     "output_type": "stream",
     "text": [
      "\n",
      "\n",
      "\n",
      "\n",
      " 10%|▉         | 103/1071 [1:47:38<20:33:07, 76.43s/it]\u001b[A\u001b[A\u001b[A\u001b[A"
     ]
    },
    {
     "name": "stdout",
     "output_type": "stream",
     "text": [
      "elmo_in_smalls[103]\n",
      "INFO:tensorflow:Saver not created because there are no variables in the graph to restore\n",
      "extended with elmo_in_smalls[{}].format()\n"
     ]
    },
    {
     "name": "stderr",
     "output_type": "stream",
     "text": [
      "\n",
      "\n",
      "\n",
      "\n",
      " 10%|▉         | 104/1071 [1:48:56<20:37:28, 76.78s/it]\u001b[A\u001b[A\u001b[A\u001b[A"
     ]
    },
    {
     "name": "stdout",
     "output_type": "stream",
     "text": [
      "elmo_in_smalls[104]\n",
      "INFO:tensorflow:Saver not created because there are no variables in the graph to restore\n",
      "extended with elmo_in_smalls[{}].format()\n"
     ]
    },
    {
     "name": "stderr",
     "output_type": "stream",
     "text": [
      "\n",
      "\n",
      "\n",
      "\n",
      " 10%|▉         | 105/1071 [1:50:13<20:38:31, 76.93s/it]\u001b[A\u001b[A\u001b[A\u001b[A"
     ]
    },
    {
     "name": "stdout",
     "output_type": "stream",
     "text": [
      "elmo_in_smalls[105]\n",
      "INFO:tensorflow:Saver not created because there are no variables in the graph to restore\n",
      "extended with elmo_in_smalls[{}].format()\n"
     ]
    },
    {
     "name": "stderr",
     "output_type": "stream",
     "text": [
      "\n",
      "\n",
      "\n",
      "\n",
      " 10%|▉         | 106/1071 [1:51:31<20:40:08, 77.11s/it]\u001b[A\u001b[A\u001b[A\u001b[A"
     ]
    },
    {
     "name": "stdout",
     "output_type": "stream",
     "text": [
      "elmo_in_smalls[106]\n",
      "INFO:tensorflow:Saver not created because there are no variables in the graph to restore\n",
      "extended with elmo_in_smalls[{}].format()\n"
     ]
    },
    {
     "name": "stderr",
     "output_type": "stream",
     "text": [
      "\n",
      "\n",
      "\n",
      "\n",
      " 10%|▉         | 107/1071 [1:52:49<20:43:05, 77.37s/it]\u001b[A\u001b[A\u001b[A\u001b[A"
     ]
    },
    {
     "name": "stdout",
     "output_type": "stream",
     "text": [
      "elmo_in_smalls[107]\n",
      "INFO:tensorflow:Saver not created because there are no variables in the graph to restore\n",
      "extended with elmo_in_smalls[{}].format()\n"
     ]
    },
    {
     "name": "stderr",
     "output_type": "stream",
     "text": [
      "\n",
      "\n",
      "\n",
      "\n",
      " 10%|█         | 108/1071 [1:54:08<20:51:35, 77.98s/it]\u001b[A\u001b[A\u001b[A\u001b[A"
     ]
    },
    {
     "name": "stdout",
     "output_type": "stream",
     "text": [
      "elmo_in_smalls[108]\n",
      "INFO:tensorflow:Saver not created because there are no variables in the graph to restore\n",
      "extended with elmo_in_smalls[{}].format()\n"
     ]
    },
    {
     "name": "stderr",
     "output_type": "stream",
     "text": [
      "\n",
      "\n",
      "\n",
      "\n",
      " 10%|█         | 109/1071 [1:55:26<20:52:11, 78.10s/it]\u001b[A\u001b[A\u001b[A\u001b[A"
     ]
    },
    {
     "name": "stdout",
     "output_type": "stream",
     "text": [
      "elmo_in_smalls[109]\n",
      "INFO:tensorflow:Saver not created because there are no variables in the graph to restore\n",
      "extended with elmo_in_smalls[{}].format()\n"
     ]
    },
    {
     "name": "stderr",
     "output_type": "stream",
     "text": [
      "\n",
      "\n",
      "\n",
      "\n",
      " 10%|█         | 110/1071 [1:56:45<20:53:06, 78.24s/it]\u001b[A\u001b[A\u001b[A\u001b[A"
     ]
    },
    {
     "name": "stdout",
     "output_type": "stream",
     "text": [
      "elmo_in_smalls[110]\n",
      "INFO:tensorflow:Saver not created because there are no variables in the graph to restore\n",
      "extended with elmo_in_smalls[{}].format()\n"
     ]
    },
    {
     "name": "stderr",
     "output_type": "stream",
     "text": [
      "\n",
      "\n",
      "\n",
      "\n",
      " 10%|█         | 111/1071 [1:58:04<20:56:02, 78.50s/it]\u001b[A\u001b[A\u001b[A\u001b[A"
     ]
    },
    {
     "name": "stdout",
     "output_type": "stream",
     "text": [
      "elmo_in_smalls[111]\n",
      "INFO:tensorflow:Saver not created because there are no variables in the graph to restore\n",
      "extended with elmo_in_smalls[{}].format()\n"
     ]
    },
    {
     "name": "stderr",
     "output_type": "stream",
     "text": [
      "\n",
      "\n",
      "\n",
      "\n",
      " 10%|█         | 112/1071 [1:59:24<21:02:49, 79.01s/it]\u001b[A\u001b[A\u001b[A\u001b[A"
     ]
    },
    {
     "name": "stdout",
     "output_type": "stream",
     "text": [
      "elmo_in_smalls[112]\n",
      "INFO:tensorflow:Saver not created because there are no variables in the graph to restore\n",
      "extended with elmo_in_smalls[{}].format()\n"
     ]
    },
    {
     "name": "stderr",
     "output_type": "stream",
     "text": [
      "\n",
      "\n",
      "\n",
      "\n",
      " 11%|█         | 113/1071 [2:00:45<21:08:15, 79.43s/it]\u001b[A\u001b[A\u001b[A\u001b[A"
     ]
    },
    {
     "name": "stdout",
     "output_type": "stream",
     "text": [
      "elmo_in_smalls[113]\n",
      "INFO:tensorflow:Saver not created because there are no variables in the graph to restore\n",
      "extended with elmo_in_smalls[{}].format()\n"
     ]
    },
    {
     "name": "stderr",
     "output_type": "stream",
     "text": [
      "\n",
      "\n",
      "\n",
      "\n",
      " 11%|█         | 114/1071 [2:02:05<21:12:04, 79.75s/it]\u001b[A\u001b[A\u001b[A\u001b[A"
     ]
    },
    {
     "name": "stdout",
     "output_type": "stream",
     "text": [
      "elmo_in_smalls[114]\n",
      "INFO:tensorflow:Saver not created because there are no variables in the graph to restore\n",
      "extended with elmo_in_smalls[{}].format()\n"
     ]
    },
    {
     "name": "stderr",
     "output_type": "stream",
     "text": [
      "\n",
      "\n",
      "\n",
      "\n",
      " 11%|█         | 115/1071 [2:03:25<21:13:06, 79.90s/it]\u001b[A\u001b[A\u001b[A\u001b[A"
     ]
    },
    {
     "name": "stdout",
     "output_type": "stream",
     "text": [
      "elmo_in_smalls[115]\n",
      "INFO:tensorflow:Saver not created because there are no variables in the graph to restore\n",
      "extended with elmo_in_smalls[{}].format()\n"
     ]
    },
    {
     "name": "stderr",
     "output_type": "stream",
     "text": [
      "\n",
      "\n",
      "\n",
      "\n",
      " 11%|█         | 116/1071 [2:04:46<21:15:33, 80.14s/it]\u001b[A\u001b[A\u001b[A\u001b[A"
     ]
    },
    {
     "name": "stdout",
     "output_type": "stream",
     "text": [
      "elmo_in_smalls[116]\n",
      "INFO:tensorflow:Saver not created because there are no variables in the graph to restore\n",
      "extended with elmo_in_smalls[{}].format()\n"
     ]
    },
    {
     "name": "stderr",
     "output_type": "stream",
     "text": [
      "\n",
      "\n",
      "\n",
      "\n",
      " 11%|█         | 117/1071 [2:06:08<21:20:51, 80.56s/it]\u001b[A\u001b[A\u001b[A\u001b[A"
     ]
    },
    {
     "name": "stdout",
     "output_type": "stream",
     "text": [
      "elmo_in_smalls[117]\n",
      "INFO:tensorflow:Saver not created because there are no variables in the graph to restore\n",
      "extended with elmo_in_smalls[{}].format()\n"
     ]
    },
    {
     "name": "stderr",
     "output_type": "stream",
     "text": [
      "\n",
      "\n",
      "\n",
      "\n",
      " 11%|█         | 118/1071 [2:07:29<21:23:38, 80.82s/it]\u001b[A\u001b[A\u001b[A\u001b[A"
     ]
    },
    {
     "name": "stdout",
     "output_type": "stream",
     "text": [
      "elmo_in_smalls[118]\n",
      "INFO:tensorflow:Saver not created because there are no variables in the graph to restore\n",
      "extended with elmo_in_smalls[{}].format()\n"
     ]
    },
    {
     "name": "stderr",
     "output_type": "stream",
     "text": [
      "\n",
      "\n",
      "\n",
      "\n",
      " 11%|█         | 119/1071 [2:08:52<21:33:43, 81.54s/it]\u001b[A\u001b[A\u001b[A\u001b[A"
     ]
    },
    {
     "name": "stdout",
     "output_type": "stream",
     "text": [
      "elmo_in_smalls[119]\n",
      "INFO:tensorflow:Saver not created because there are no variables in the graph to restore\n",
      "extended with elmo_in_smalls[{}].format()\n"
     ]
    },
    {
     "name": "stderr",
     "output_type": "stream",
     "text": [
      "\n",
      "\n",
      "\n",
      "\n",
      " 11%|█         | 120/1071 [2:10:15<21:36:25, 81.79s/it]\u001b[A\u001b[A\u001b[A\u001b[A"
     ]
    },
    {
     "name": "stdout",
     "output_type": "stream",
     "text": [
      "elmo_in_smalls[120]\n",
      "INFO:tensorflow:Saver not created because there are no variables in the graph to restore\n",
      "extended with elmo_in_smalls[{}].format()\n"
     ]
    },
    {
     "name": "stderr",
     "output_type": "stream",
     "text": [
      "\n",
      "\n",
      "\n",
      "\n",
      " 11%|█▏        | 121/1071 [2:11:39<21:45:29, 82.45s/it]\u001b[A\u001b[A\u001b[A\u001b[A"
     ]
    },
    {
     "name": "stdout",
     "output_type": "stream",
     "text": [
      "elmo_in_smalls[121]\n",
      "INFO:tensorflow:Saver not created because there are no variables in the graph to restore\n",
      "extended with elmo_in_smalls[{}].format()\n"
     ]
    },
    {
     "name": "stderr",
     "output_type": "stream",
     "text": [
      "\n",
      "\n",
      "\n",
      "\n",
      " 11%|█▏        | 122/1071 [2:13:03<21:51:07, 82.90s/it]\u001b[A\u001b[A\u001b[A\u001b[A"
     ]
    },
    {
     "name": "stdout",
     "output_type": "stream",
     "text": [
      "elmo_in_smalls[122]\n",
      "INFO:tensorflow:Saver not created because there are no variables in the graph to restore\n",
      "extended with elmo_in_smalls[{}].format()\n"
     ]
    },
    {
     "name": "stderr",
     "output_type": "stream",
     "text": [
      "\n",
      "\n",
      "\n",
      "\n",
      " 11%|█▏        | 123/1071 [2:14:26<21:53:02, 83.10s/it]\u001b[A\u001b[A\u001b[A\u001b[A"
     ]
    },
    {
     "name": "stdout",
     "output_type": "stream",
     "text": [
      "elmo_in_smalls[123]\n",
      "INFO:tensorflow:Saver not created because there are no variables in the graph to restore\n",
      "extended with elmo_in_smalls[{}].format()\n"
     ]
    },
    {
     "name": "stderr",
     "output_type": "stream",
     "text": [
      "\n",
      "\n",
      "\n",
      "\n",
      " 12%|█▏        | 124/1071 [2:15:49<21:49:52, 82.99s/it]\u001b[A\u001b[A\u001b[A\u001b[A"
     ]
    },
    {
     "name": "stdout",
     "output_type": "stream",
     "text": [
      "elmo_in_smalls[124]\n",
      "INFO:tensorflow:Saver not created because there are no variables in the graph to restore\n",
      "extended with elmo_in_smalls[{}].format()\n"
     ]
    },
    {
     "name": "stderr",
     "output_type": "stream",
     "text": [
      "\n",
      "\n",
      "\n",
      "\n",
      " 12%|█▏        | 125/1071 [2:17:12<21:51:12, 83.16s/it]\u001b[A\u001b[A\u001b[A\u001b[A"
     ]
    },
    {
     "name": "stdout",
     "output_type": "stream",
     "text": [
      "elmo_in_smalls[125]\n",
      "INFO:tensorflow:Saver not created because there are no variables in the graph to restore\n",
      "extended with elmo_in_smalls[{}].format()\n"
     ]
    },
    {
     "name": "stderr",
     "output_type": "stream",
     "text": [
      "\n",
      "\n",
      "\n",
      "\n",
      " 12%|█▏        | 126/1071 [2:18:39<22:05:02, 84.13s/it]\u001b[A\u001b[A\u001b[A\u001b[A"
     ]
    },
    {
     "name": "stdout",
     "output_type": "stream",
     "text": [
      "elmo_in_smalls[126]\n",
      "INFO:tensorflow:Saver not created because there are no variables in the graph to restore\n",
      "extended with elmo_in_smalls[{}].format()\n"
     ]
    },
    {
     "name": "stderr",
     "output_type": "stream",
     "text": [
      "\n",
      "\n",
      "\n",
      "\n",
      " 12%|█▏        | 127/1071 [2:20:03<22:03:43, 84.14s/it]\u001b[A\u001b[A\u001b[A\u001b[A"
     ]
    },
    {
     "name": "stdout",
     "output_type": "stream",
     "text": [
      "elmo_in_smalls[127]\n",
      "INFO:tensorflow:Saver not created because there are no variables in the graph to restore\n",
      "extended with elmo_in_smalls[{}].format()\n"
     ]
    },
    {
     "name": "stderr",
     "output_type": "stream",
     "text": [
      "\n",
      "\n",
      "\n",
      "\n",
      " 12%|█▏        | 128/1071 [2:21:27<22:02:01, 84.12s/it]\u001b[A\u001b[A\u001b[A\u001b[A"
     ]
    },
    {
     "name": "stdout",
     "output_type": "stream",
     "text": [
      "elmo_in_smalls[128]\n",
      "INFO:tensorflow:Saver not created because there are no variables in the graph to restore\n",
      "extended with elmo_in_smalls[{}].format()\n"
     ]
    },
    {
     "name": "stderr",
     "output_type": "stream",
     "text": [
      "\n",
      "\n",
      "\n",
      "\n",
      " 12%|█▏        | 129/1071 [2:22:53<22:07:54, 84.58s/it]\u001b[A\u001b[A\u001b[A\u001b[A"
     ]
    },
    {
     "name": "stdout",
     "output_type": "stream",
     "text": [
      "elmo_in_smalls[129]\n",
      "INFO:tensorflow:Saver not created because there are no variables in the graph to restore\n",
      "extended with elmo_in_smalls[{}].format()\n"
     ]
    },
    {
     "name": "stderr",
     "output_type": "stream",
     "text": [
      "\n",
      "\n",
      "\n",
      "\n",
      " 12%|█▏        | 130/1071 [2:24:19<22:12:46, 84.98s/it]\u001b[A\u001b[A\u001b[A\u001b[A"
     ]
    },
    {
     "name": "stdout",
     "output_type": "stream",
     "text": [
      "elmo_in_smalls[130]\n",
      "INFO:tensorflow:Saver not created because there are no variables in the graph to restore\n",
      "extended with elmo_in_smalls[{}].format()\n"
     ]
    },
    {
     "name": "stderr",
     "output_type": "stream",
     "text": [
      "\n",
      "\n",
      "\n",
      "\n",
      " 12%|█▏        | 131/1071 [2:25:45<22:15:58, 85.27s/it]\u001b[A\u001b[A\u001b[A\u001b[A"
     ]
    },
    {
     "name": "stdout",
     "output_type": "stream",
     "text": [
      "elmo_in_smalls[131]\n",
      "INFO:tensorflow:Saver not created because there are no variables in the graph to restore\n",
      "extended with elmo_in_smalls[{}].format()\n"
     ]
    },
    {
     "name": "stderr",
     "output_type": "stream",
     "text": [
      "\n",
      "\n",
      "\n",
      "\n",
      " 12%|█▏        | 132/1071 [2:27:10<22:15:31, 85.34s/it]\u001b[A\u001b[A\u001b[A\u001b[A"
     ]
    },
    {
     "name": "stdout",
     "output_type": "stream",
     "text": [
      "elmo_in_smalls[132]\n",
      "INFO:tensorflow:Saver not created because there are no variables in the graph to restore\n",
      "extended with elmo_in_smalls[{}].format()\n"
     ]
    },
    {
     "name": "stderr",
     "output_type": "stream",
     "text": [
      "\n",
      "\n",
      "\n",
      "\n",
      " 12%|█▏        | 133/1071 [2:28:36<22:16:35, 85.50s/it]\u001b[A\u001b[A\u001b[A\u001b[A"
     ]
    },
    {
     "name": "stdout",
     "output_type": "stream",
     "text": [
      "elmo_in_smalls[133]\n",
      "INFO:tensorflow:Saver not created because there are no variables in the graph to restore\n",
      "extended with elmo_in_smalls[{}].format()\n"
     ]
    },
    {
     "name": "stderr",
     "output_type": "stream",
     "text": [
      "\n",
      "\n",
      "\n",
      "\n",
      " 13%|█▎        | 134/1071 [2:30:02<22:16:18, 85.57s/it]\u001b[A\u001b[A\u001b[A\u001b[A"
     ]
    },
    {
     "name": "stdout",
     "output_type": "stream",
     "text": [
      "elmo_in_smalls[134]\n",
      "INFO:tensorflow:Saver not created because there are no variables in the graph to restore\n",
      "extended with elmo_in_smalls[{}].format()\n"
     ]
    },
    {
     "name": "stderr",
     "output_type": "stream",
     "text": [
      "\n",
      "\n",
      "\n",
      "\n",
      " 13%|█▎        | 135/1071 [2:31:29<22:22:19, 86.05s/it]\u001b[A\u001b[A\u001b[A\u001b[A"
     ]
    },
    {
     "name": "stdout",
     "output_type": "stream",
     "text": [
      "elmo_in_smalls[135]\n",
      "INFO:tensorflow:Saver not created because there are no variables in the graph to restore\n",
      "extended with elmo_in_smalls[{}].format()\n"
     ]
    },
    {
     "name": "stderr",
     "output_type": "stream",
     "text": [
      "\n",
      "\n",
      "\n",
      "\n",
      " 13%|█▎        | 136/1071 [2:32:56<22:27:15, 86.45s/it]\u001b[A\u001b[A\u001b[A\u001b[A"
     ]
    },
    {
     "name": "stdout",
     "output_type": "stream",
     "text": [
      "elmo_in_smalls[136]\n",
      "INFO:tensorflow:Saver not created because there are no variables in the graph to restore\n",
      "extended with elmo_in_smalls[{}].format()\n"
     ]
    },
    {
     "name": "stderr",
     "output_type": "stream",
     "text": [
      "\n",
      "\n",
      "\n",
      "\n",
      " 13%|█▎        | 137/1071 [2:34:23<22:25:54, 86.46s/it]\u001b[A\u001b[A\u001b[A\u001b[A"
     ]
    },
    {
     "name": "stdout",
     "output_type": "stream",
     "text": [
      "elmo_in_smalls[137]\n",
      "INFO:tensorflow:Saver not created because there are no variables in the graph to restore\n",
      "extended with elmo_in_smalls[{}].format()\n"
     ]
    },
    {
     "name": "stderr",
     "output_type": "stream",
     "text": [
      "\n",
      "\n",
      "\n",
      "\n",
      " 13%|█▎        | 138/1071 [2:35:50<22:25:57, 86.56s/it]\u001b[A\u001b[A\u001b[A\u001b[A"
     ]
    },
    {
     "name": "stdout",
     "output_type": "stream",
     "text": [
      "elmo_in_smalls[138]\n",
      "INFO:tensorflow:Saver not created because there are no variables in the graph to restore\n",
      "extended with elmo_in_smalls[{}].format()\n"
     ]
    },
    {
     "name": "stderr",
     "output_type": "stream",
     "text": [
      "\n",
      "\n",
      "\n",
      "\n",
      " 13%|█▎        | 139/1071 [2:37:16<22:26:06, 86.66s/it]\u001b[A\u001b[A\u001b[A\u001b[A"
     ]
    },
    {
     "name": "stdout",
     "output_type": "stream",
     "text": [
      "elmo_in_smalls[139]\n",
      "INFO:tensorflow:Saver not created because there are no variables in the graph to restore\n",
      "extended with elmo_in_smalls[{}].format()\n"
     ]
    },
    {
     "name": "stderr",
     "output_type": "stream",
     "text": [
      "\n",
      "\n",
      "\n",
      "\n",
      " 13%|█▎        | 140/1071 [2:38:44<22:31:07, 87.08s/it]\u001b[A\u001b[A\u001b[A\u001b[A"
     ]
    },
    {
     "name": "stdout",
     "output_type": "stream",
     "text": [
      "elmo_in_smalls[140]\n",
      "INFO:tensorflow:Saver not created because there are no variables in the graph to restore\n",
      "extended with elmo_in_smalls[{}].format()\n"
     ]
    },
    {
     "name": "stderr",
     "output_type": "stream",
     "text": [
      "\n",
      "\n",
      "\n",
      "\n",
      " 13%|█▎        | 141/1071 [2:40:14<22:40:28, 87.77s/it]\u001b[A\u001b[A\u001b[A\u001b[A"
     ]
    },
    {
     "name": "stdout",
     "output_type": "stream",
     "text": [
      "elmo_in_smalls[141]\n",
      "INFO:tensorflow:Saver not created because there are no variables in the graph to restore\n",
      "extended with elmo_in_smalls[{}].format()\n"
     ]
    },
    {
     "name": "stderr",
     "output_type": "stream",
     "text": [
      "\n",
      "\n",
      "\n",
      "\n",
      " 13%|█▎        | 142/1071 [2:41:42<22:38:41, 87.75s/it]\u001b[A\u001b[A\u001b[A\u001b[A"
     ]
    },
    {
     "name": "stdout",
     "output_type": "stream",
     "text": [
      "elmo_in_smalls[142]\n",
      "INFO:tensorflow:Saver not created because there are no variables in the graph to restore\n",
      "extended with elmo_in_smalls[{}].format()\n"
     ]
    },
    {
     "name": "stderr",
     "output_type": "stream",
     "text": [
      "\n",
      "\n",
      "\n",
      "\n",
      " 13%|█▎        | 143/1071 [2:43:11<22:42:37, 88.10s/it]\u001b[A\u001b[A\u001b[A\u001b[A"
     ]
    },
    {
     "name": "stdout",
     "output_type": "stream",
     "text": [
      "elmo_in_smalls[143]\n",
      "INFO:tensorflow:Saver not created because there are no variables in the graph to restore\n",
      "extended with elmo_in_smalls[{}].format()\n"
     ]
    },
    {
     "name": "stderr",
     "output_type": "stream",
     "text": [
      "\n",
      "\n",
      "\n",
      "\n",
      " 13%|█▎        | 144/1071 [2:44:39<22:41:09, 88.10s/it]\u001b[A\u001b[A\u001b[A\u001b[A"
     ]
    },
    {
     "name": "stdout",
     "output_type": "stream",
     "text": [
      "elmo_in_smalls[144]\n",
      "INFO:tensorflow:Saver not created because there are no variables in the graph to restore\n",
      "extended with elmo_in_smalls[{}].format()\n"
     ]
    },
    {
     "name": "stderr",
     "output_type": "stream",
     "text": [
      "\n",
      "\n",
      "\n",
      "\n",
      " 14%|█▎        | 145/1071 [2:46:08<22:46:22, 88.53s/it]\u001b[A\u001b[A\u001b[A\u001b[A"
     ]
    },
    {
     "name": "stdout",
     "output_type": "stream",
     "text": [
      "elmo_in_smalls[145]\n",
      "INFO:tensorflow:Saver not created because there are no variables in the graph to restore\n",
      "extended with elmo_in_smalls[{}].format()\n"
     ]
    },
    {
     "name": "stderr",
     "output_type": "stream",
     "text": [
      "\n",
      "\n",
      "\n",
      "\n",
      " 14%|█▎        | 146/1071 [2:47:37<22:48:03, 88.74s/it]\u001b[A\u001b[A\u001b[A\u001b[A"
     ]
    },
    {
     "name": "stdout",
     "output_type": "stream",
     "text": [
      "elmo_in_smalls[146]\n",
      "INFO:tensorflow:Saver not created because there are no variables in the graph to restore\n",
      "extended with elmo_in_smalls[{}].format()\n"
     ]
    },
    {
     "name": "stderr",
     "output_type": "stream",
     "text": [
      "\n",
      "\n",
      "\n",
      "\n",
      " 14%|█▎        | 147/1071 [2:49:08<22:53:26, 89.18s/it]\u001b[A\u001b[A\u001b[A\u001b[A"
     ]
    },
    {
     "name": "stdout",
     "output_type": "stream",
     "text": [
      "elmo_in_smalls[147]\n",
      "INFO:tensorflow:Saver not created because there are no variables in the graph to restore\n",
      "extended with elmo_in_smalls[{}].format()\n"
     ]
    },
    {
     "name": "stderr",
     "output_type": "stream",
     "text": [
      "\n",
      "\n",
      "\n",
      "\n",
      " 14%|█▍        | 148/1071 [2:50:38<22:55:23, 89.41s/it]\u001b[A\u001b[A\u001b[A\u001b[A"
     ]
    },
    {
     "name": "stdout",
     "output_type": "stream",
     "text": [
      "elmo_in_smalls[148]\n",
      "INFO:tensorflow:Saver not created because there are no variables in the graph to restore\n",
      "extended with elmo_in_smalls[{}].format()\n"
     ]
    },
    {
     "name": "stderr",
     "output_type": "stream",
     "text": [
      "\n",
      "\n",
      "\n",
      "\n",
      " 14%|█▍        | 149/1071 [2:52:08<22:59:49, 89.79s/it]\u001b[A\u001b[A\u001b[A\u001b[A"
     ]
    },
    {
     "name": "stdout",
     "output_type": "stream",
     "text": [
      "elmo_in_smalls[149]\n",
      "INFO:tensorflow:Saver not created because there are no variables in the graph to restore\n",
      "extended with elmo_in_smalls[{}].format()\n"
     ]
    },
    {
     "name": "stderr",
     "output_type": "stream",
     "text": [
      "\n",
      "\n",
      "\n",
      "\n",
      " 14%|█▍        | 150/1071 [2:53:39<23:01:18, 89.99s/it]\u001b[A\u001b[A\u001b[A\u001b[A"
     ]
    },
    {
     "name": "stdout",
     "output_type": "stream",
     "text": [
      "elmo_in_smalls[150]\n",
      "INFO:tensorflow:Saver not created because there are no variables in the graph to restore\n",
      "extended with elmo_in_smalls[{}].format()\n"
     ]
    },
    {
     "name": "stderr",
     "output_type": "stream",
     "text": [
      "\n",
      "\n",
      "\n",
      "\n",
      " 14%|█▍        | 151/1071 [2:55:10<23:05:13, 90.34s/it]\u001b[A\u001b[A\u001b[A\u001b[A"
     ]
    },
    {
     "name": "stdout",
     "output_type": "stream",
     "text": [
      "elmo_in_smalls[151]\n",
      "INFO:tensorflow:Saver not created because there are no variables in the graph to restore\n",
      "extended with elmo_in_smalls[{}].format()\n"
     ]
    },
    {
     "name": "stderr",
     "output_type": "stream",
     "text": [
      "\n",
      "\n",
      "\n",
      "\n",
      " 14%|█▍        | 152/1071 [2:56:42<23:13:24, 90.97s/it]\u001b[A\u001b[A\u001b[A\u001b[A"
     ]
    },
    {
     "name": "stdout",
     "output_type": "stream",
     "text": [
      "elmo_in_smalls[152]\n",
      "INFO:tensorflow:Saver not created because there are no variables in the graph to restore\n",
      "extended with elmo_in_smalls[{}].format()\n"
     ]
    },
    {
     "name": "stderr",
     "output_type": "stream",
     "text": [
      "\n",
      "\n",
      "\n",
      "\n",
      " 14%|█▍        | 153/1071 [2:58:14<23:17:06, 91.31s/it]\u001b[A\u001b[A\u001b[A\u001b[A"
     ]
    },
    {
     "name": "stdout",
     "output_type": "stream",
     "text": [
      "elmo_in_smalls[153]\n",
      "INFO:tensorflow:Saver not created because there are no variables in the graph to restore\n",
      "extended with elmo_in_smalls[{}].format()\n"
     ]
    },
    {
     "name": "stderr",
     "output_type": "stream",
     "text": [
      "\n",
      "\n",
      "\n",
      "\n",
      " 14%|█▍        | 154/1071 [2:59:47<23:20:35, 91.64s/it]\u001b[A\u001b[A\u001b[A\u001b[A"
     ]
    },
    {
     "name": "stdout",
     "output_type": "stream",
     "text": [
      "elmo_in_smalls[154]\n",
      "INFO:tensorflow:Saver not created because there are no variables in the graph to restore\n",
      "extended with elmo_in_smalls[{}].format()\n"
     ]
    },
    {
     "name": "stderr",
     "output_type": "stream",
     "text": [
      "\n",
      "\n",
      "\n",
      "\n",
      " 14%|█▍        | 155/1071 [3:01:19<23:19:33, 91.67s/it]\u001b[A\u001b[A\u001b[A\u001b[A"
     ]
    },
    {
     "name": "stdout",
     "output_type": "stream",
     "text": [
      "elmo_in_smalls[155]\n",
      "INFO:tensorflow:Saver not created because there are no variables in the graph to restore\n",
      "extended with elmo_in_smalls[{}].format()\n"
     ]
    },
    {
     "name": "stderr",
     "output_type": "stream",
     "text": [
      "\n",
      "\n",
      "\n",
      "\n",
      " 15%|█▍        | 156/1071 [3:02:51<23:23:19, 92.02s/it]\u001b[A\u001b[A\u001b[A\u001b[A"
     ]
    },
    {
     "name": "stdout",
     "output_type": "stream",
     "text": [
      "elmo_in_smalls[156]\n",
      "INFO:tensorflow:Saver not created because there are no variables in the graph to restore\n",
      "extended with elmo_in_smalls[{}].format()\n"
     ]
    },
    {
     "name": "stderr",
     "output_type": "stream",
     "text": [
      "\n",
      "\n",
      "\n",
      "\n",
      " 15%|█▍        | 157/1071 [3:04:24<23:22:41, 92.08s/it]\u001b[A\u001b[A\u001b[A\u001b[A"
     ]
    },
    {
     "name": "stdout",
     "output_type": "stream",
     "text": [
      "elmo_in_smalls[157]\n",
      "INFO:tensorflow:Saver not created because there are no variables in the graph to restore\n",
      "extended with elmo_in_smalls[{}].format()\n"
     ]
    },
    {
     "name": "stderr",
     "output_type": "stream",
     "text": [
      "\n",
      "\n",
      "\n",
      "\n",
      " 15%|█▍        | 158/1071 [3:05:58<23:31:29, 92.76s/it]\u001b[A\u001b[A\u001b[A\u001b[A"
     ]
    },
    {
     "name": "stdout",
     "output_type": "stream",
     "text": [
      "elmo_in_smalls[158]\n",
      "INFO:tensorflow:Saver not created because there are no variables in the graph to restore\n",
      "extended with elmo_in_smalls[{}].format()\n"
     ]
    },
    {
     "name": "stderr",
     "output_type": "stream",
     "text": [
      "\n",
      "\n",
      "\n",
      "\n",
      " 15%|█▍        | 159/1071 [3:07:33<23:40:27, 93.45s/it]\u001b[A\u001b[A\u001b[A\u001b[A"
     ]
    },
    {
     "name": "stdout",
     "output_type": "stream",
     "text": [
      "elmo_in_smalls[159]\n",
      "INFO:tensorflow:Saver not created because there are no variables in the graph to restore\n",
      "extended with elmo_in_smalls[{}].format()\n"
     ]
    },
    {
     "name": "stderr",
     "output_type": "stream",
     "text": [
      "\n",
      "\n",
      "\n",
      "\n",
      " 15%|█▍        | 160/1071 [3:09:07<23:40:48, 93.58s/it]\u001b[A\u001b[A\u001b[A\u001b[A"
     ]
    },
    {
     "name": "stdout",
     "output_type": "stream",
     "text": [
      "elmo_in_smalls[160]\n",
      "INFO:tensorflow:Saver not created because there are no variables in the graph to restore\n",
      "extended with elmo_in_smalls[{}].format()\n"
     ]
    },
    {
     "name": "stderr",
     "output_type": "stream",
     "text": [
      "\n",
      "\n",
      "\n",
      "\n",
      " 15%|█▌        | 161/1071 [3:10:42<23:47:06, 94.10s/it]\u001b[A\u001b[A\u001b[A\u001b[A"
     ]
    },
    {
     "name": "stdout",
     "output_type": "stream",
     "text": [
      "elmo_in_smalls[161]\n",
      "INFO:tensorflow:Saver not created because there are no variables in the graph to restore\n",
      "extended with elmo_in_smalls[{}].format()\n"
     ]
    },
    {
     "name": "stderr",
     "output_type": "stream",
     "text": [
      "\n",
      "\n",
      "\n",
      "\n",
      " 15%|█▌        | 162/1071 [3:12:17<23:48:44, 94.31s/it]\u001b[A\u001b[A\u001b[A\u001b[A"
     ]
    },
    {
     "name": "stdout",
     "output_type": "stream",
     "text": [
      "elmo_in_smalls[162]\n",
      "INFO:tensorflow:Saver not created because there are no variables in the graph to restore\n",
      "extended with elmo_in_smalls[{}].format()\n"
     ]
    },
    {
     "name": "stderr",
     "output_type": "stream",
     "text": [
      "\n",
      "\n",
      "\n",
      "\n",
      " 15%|█▌        | 163/1071 [3:13:52<23:48:55, 94.42s/it]\u001b[A\u001b[A\u001b[A\u001b[A"
     ]
    },
    {
     "name": "stdout",
     "output_type": "stream",
     "text": [
      "elmo_in_smalls[163]\n",
      "INFO:tensorflow:Saver not created because there are no variables in the graph to restore\n",
      "extended with elmo_in_smalls[{}].format()\n"
     ]
    },
    {
     "name": "stderr",
     "output_type": "stream",
     "text": [
      "\n",
      "\n",
      "\n",
      "\n",
      " 15%|█▌        | 164/1071 [3:15:27<23:49:36, 94.57s/it]\u001b[A\u001b[A\u001b[A\u001b[A"
     ]
    },
    {
     "name": "stdout",
     "output_type": "stream",
     "text": [
      "elmo_in_smalls[164]\n",
      "INFO:tensorflow:Saver not created because there are no variables in the graph to restore\n",
      "extended with elmo_in_smalls[{}].format()\n"
     ]
    },
    {
     "name": "stderr",
     "output_type": "stream",
     "text": [
      "\n",
      "\n",
      "\n",
      "\n",
      " 15%|█▌        | 165/1071 [3:17:02<23:50:47, 94.75s/it]\u001b[A\u001b[A\u001b[A\u001b[A"
     ]
    },
    {
     "name": "stdout",
     "output_type": "stream",
     "text": [
      "elmo_in_smalls[165]\n",
      "INFO:tensorflow:Saver not created because there are no variables in the graph to restore\n",
      "extended with elmo_in_smalls[{}].format()\n"
     ]
    },
    {
     "name": "stderr",
     "output_type": "stream",
     "text": [
      "\n",
      "\n",
      "\n",
      "\n",
      " 15%|█▌        | 166/1071 [3:18:38<23:55:32, 95.17s/it]\u001b[A\u001b[A\u001b[A\u001b[A"
     ]
    },
    {
     "name": "stdout",
     "output_type": "stream",
     "text": [
      "elmo_in_smalls[166]\n",
      "INFO:tensorflow:Saver not created because there are no variables in the graph to restore\n",
      "extended with elmo_in_smalls[{}].format()\n"
     ]
    },
    {
     "name": "stderr",
     "output_type": "stream",
     "text": [
      "\n",
      "\n",
      "\n",
      "\n",
      " 16%|█▌        | 167/1071 [3:20:13<23:53:05, 95.12s/it]\u001b[A\u001b[A\u001b[A\u001b[A"
     ]
    },
    {
     "name": "stdout",
     "output_type": "stream",
     "text": [
      "elmo_in_smalls[167]\n",
      "INFO:tensorflow:Saver not created because there are no variables in the graph to restore\n",
      "extended with elmo_in_smalls[{}].format()\n"
     ]
    },
    {
     "name": "stderr",
     "output_type": "stream",
     "text": [
      "\n",
      "\n",
      "\n",
      "\n",
      " 16%|█▌        | 168/1071 [3:21:52<24:10:22, 96.37s/it]\u001b[A\u001b[A\u001b[A\u001b[A"
     ]
    },
    {
     "name": "stdout",
     "output_type": "stream",
     "text": [
      "elmo_in_smalls[168]\n",
      "INFO:tensorflow:Saver not created because there are no variables in the graph to restore\n",
      "extended with elmo_in_smalls[{}].format()\n"
     ]
    },
    {
     "name": "stderr",
     "output_type": "stream",
     "text": [
      "\n",
      "\n",
      "\n",
      "\n",
      " 16%|█▌        | 169/1071 [3:23:28<24:05:20, 96.14s/it]\u001b[A\u001b[A\u001b[A\u001b[A"
     ]
    },
    {
     "name": "stdout",
     "output_type": "stream",
     "text": [
      "elmo_in_smalls[169]\n",
      "INFO:tensorflow:Saver not created because there are no variables in the graph to restore\n",
      "extended with elmo_in_smalls[{}].format()\n"
     ]
    },
    {
     "name": "stderr",
     "output_type": "stream",
     "text": [
      "\n",
      "\n",
      "\n",
      "\n",
      " 16%|█▌        | 170/1071 [3:25:04<24:03:08, 96.10s/it]\u001b[A\u001b[A\u001b[A\u001b[A"
     ]
    },
    {
     "name": "stdout",
     "output_type": "stream",
     "text": [
      "elmo_in_smalls[170]\n",
      "INFO:tensorflow:Saver not created because there are no variables in the graph to restore\n",
      "extended with elmo_in_smalls[{}].format()\n"
     ]
    },
    {
     "name": "stderr",
     "output_type": "stream",
     "text": [
      "\n",
      "\n",
      "\n",
      "\n",
      " 16%|█▌        | 171/1071 [3:26:42<24:12:21, 96.82s/it]\u001b[A\u001b[A\u001b[A\u001b[A"
     ]
    },
    {
     "name": "stdout",
     "output_type": "stream",
     "text": [
      "elmo_in_smalls[171]\n",
      "INFO:tensorflow:Saver not created because there are no variables in the graph to restore\n",
      "extended with elmo_in_smalls[{}].format()\n"
     ]
    },
    {
     "name": "stderr",
     "output_type": "stream",
     "text": [
      "\n",
      "\n",
      "\n",
      "\n",
      " 16%|█▌        | 172/1071 [3:28:19<24:11:22, 96.87s/it]\u001b[A\u001b[A\u001b[A\u001b[A"
     ]
    },
    {
     "name": "stdout",
     "output_type": "stream",
     "text": [
      "elmo_in_smalls[172]\n",
      "INFO:tensorflow:Saver not created because there are no variables in the graph to restore\n",
      "extended with elmo_in_smalls[{}].format()\n"
     ]
    },
    {
     "name": "stderr",
     "output_type": "stream",
     "text": [
      "\n",
      "\n",
      "\n",
      "\n",
      " 16%|█▌        | 173/1071 [3:29:57<24:13:50, 97.14s/it]\u001b[A\u001b[A\u001b[A\u001b[A"
     ]
    },
    {
     "name": "stdout",
     "output_type": "stream",
     "text": [
      "elmo_in_smalls[173]\n",
      "INFO:tensorflow:Saver not created because there are no variables in the graph to restore\n",
      "extended with elmo_in_smalls[{}].format()\n"
     ]
    },
    {
     "name": "stderr",
     "output_type": "stream",
     "text": [
      "\n",
      "\n",
      "\n",
      "\n",
      " 16%|█▌        | 174/1071 [3:31:36<24:21:12, 97.74s/it]\u001b[A\u001b[A\u001b[A\u001b[A"
     ]
    },
    {
     "name": "stdout",
     "output_type": "stream",
     "text": [
      "elmo_in_smalls[174]\n",
      "INFO:tensorflow:Saver not created because there are no variables in the graph to restore\n",
      "extended with elmo_in_smalls[{}].format()\n"
     ]
    },
    {
     "name": "stderr",
     "output_type": "stream",
     "text": [
      "\n",
      "\n",
      "\n",
      "\n",
      " 16%|█▋        | 175/1071 [3:33:15<24:25:48, 98.16s/it]\u001b[A\u001b[A\u001b[A\u001b[A"
     ]
    },
    {
     "name": "stdout",
     "output_type": "stream",
     "text": [
      "elmo_in_smalls[175]\n",
      "INFO:tensorflow:Saver not created because there are no variables in the graph to restore\n",
      "extended with elmo_in_smalls[{}].format()\n"
     ]
    },
    {
     "name": "stderr",
     "output_type": "stream",
     "text": [
      "\n",
      "\n",
      "\n",
      "\n",
      " 16%|█▋        | 176/1071 [3:34:54<24:27:55, 98.41s/it]\u001b[A\u001b[A\u001b[A\u001b[A"
     ]
    },
    {
     "name": "stdout",
     "output_type": "stream",
     "text": [
      "elmo_in_smalls[176]\n",
      "INFO:tensorflow:Saver not created because there are no variables in the graph to restore\n",
      "extended with elmo_in_smalls[{}].format()\n"
     ]
    },
    {
     "name": "stderr",
     "output_type": "stream",
     "text": [
      "\n",
      "\n",
      "\n",
      "\n",
      " 17%|█▋        | 177/1071 [3:36:32<24:23:15, 98.21s/it]\u001b[A\u001b[A\u001b[A\u001b[A"
     ]
    },
    {
     "name": "stdout",
     "output_type": "stream",
     "text": [
      "elmo_in_smalls[177]\n",
      "INFO:tensorflow:Saver not created because there are no variables in the graph to restore\n",
      "extended with elmo_in_smalls[{}].format()\n"
     ]
    },
    {
     "name": "stderr",
     "output_type": "stream",
     "text": [
      "\n",
      "\n",
      "\n",
      "\n",
      " 17%|█▋        | 178/1071 [3:38:11<24:24:31, 98.40s/it]\u001b[A\u001b[A\u001b[A\u001b[A"
     ]
    },
    {
     "name": "stdout",
     "output_type": "stream",
     "text": [
      "elmo_in_smalls[178]\n",
      "INFO:tensorflow:Saver not created because there are no variables in the graph to restore\n",
      "extended with elmo_in_smalls[{}].format()\n"
     ]
    },
    {
     "name": "stderr",
     "output_type": "stream",
     "text": [
      "\n",
      "\n",
      "\n",
      "\n",
      " 17%|█▋        | 179/1071 [3:39:50<24:26:44, 98.66s/it]\u001b[A\u001b[A\u001b[A\u001b[A"
     ]
    },
    {
     "name": "stdout",
     "output_type": "stream",
     "text": [
      "elmo_in_smalls[179]\n",
      "INFO:tensorflow:Saver not created because there are no variables in the graph to restore\n",
      "extended with elmo_in_smalls[{}].format()\n"
     ]
    },
    {
     "name": "stderr",
     "output_type": "stream",
     "text": [
      "\n",
      "\n",
      "\n",
      "\n",
      " 17%|█▋        | 180/1071 [3:41:30<24:32:19, 99.15s/it]\u001b[A\u001b[A\u001b[A\u001b[A"
     ]
    },
    {
     "name": "stdout",
     "output_type": "stream",
     "text": [
      "elmo_in_smalls[180]\n",
      "INFO:tensorflow:Saver not created because there are no variables in the graph to restore\n",
      "extended with elmo_in_smalls[{}].format()\n"
     ]
    },
    {
     "name": "stderr",
     "output_type": "stream",
     "text": [
      "\n",
      "\n",
      "\n",
      "\n",
      " 17%|█▋        | 181/1071 [3:43:10<24:32:30, 99.27s/it]\u001b[A\u001b[A\u001b[A\u001b[A"
     ]
    },
    {
     "name": "stdout",
     "output_type": "stream",
     "text": [
      "elmo_in_smalls[181]\n",
      "INFO:tensorflow:Saver not created because there are no variables in the graph to restore\n",
      "extended with elmo_in_smalls[{}].format()\n"
     ]
    },
    {
     "name": "stderr",
     "output_type": "stream",
     "text": [
      "\n",
      "\n",
      "\n",
      "\n",
      " 17%|█▋        | 182/1071 [3:44:50<24:31:59, 99.35s/it]\u001b[A\u001b[A\u001b[A\u001b[A"
     ]
    },
    {
     "name": "stdout",
     "output_type": "stream",
     "text": [
      "elmo_in_smalls[182]\n",
      "INFO:tensorflow:Saver not created because there are no variables in the graph to restore\n",
      "extended with elmo_in_smalls[{}].format()\n"
     ]
    },
    {
     "name": "stderr",
     "output_type": "stream",
     "text": [
      "\n",
      "\n",
      "\n",
      "\n",
      " 17%|█▋        | 183/1071 [3:46:30<24:33:41, 99.57s/it]\u001b[A\u001b[A\u001b[A\u001b[A"
     ]
    },
    {
     "name": "stdout",
     "output_type": "stream",
     "text": [
      "elmo_in_smalls[183]\n",
      "INFO:tensorflow:Saver not created because there are no variables in the graph to restore\n",
      "extended with elmo_in_smalls[{}].format()\n"
     ]
    },
    {
     "name": "stderr",
     "output_type": "stream",
     "text": [
      "\n",
      "\n",
      "\n",
      "\n",
      " 17%|█▋        | 184/1071 [3:48:11<24:38:30, 100.01s/it]\u001b[A\u001b[A\u001b[A\u001b[A"
     ]
    },
    {
     "name": "stdout",
     "output_type": "stream",
     "text": [
      "elmo_in_smalls[184]\n",
      "INFO:tensorflow:Saver not created because there are no variables in the graph to restore\n",
      "extended with elmo_in_smalls[{}].format()\n"
     ]
    },
    {
     "name": "stderr",
     "output_type": "stream",
     "text": [
      "\n",
      "\n",
      "\n",
      "\n",
      " 17%|█▋        | 185/1071 [3:49:51<24:39:47, 100.21s/it]\u001b[A\u001b[A\u001b[A\u001b[A"
     ]
    },
    {
     "name": "stdout",
     "output_type": "stream",
     "text": [
      "elmo_in_smalls[185]\n",
      "INFO:tensorflow:Saver not created because there are no variables in the graph to restore\n",
      "extended with elmo_in_smalls[{}].format()\n"
     ]
    },
    {
     "name": "stderr",
     "output_type": "stream",
     "text": [
      "\n",
      "\n",
      "\n",
      "\n",
      " 17%|█▋        | 186/1071 [3:51:33<24:42:14, 100.49s/it]\u001b[A\u001b[A\u001b[A\u001b[A"
     ]
    },
    {
     "name": "stdout",
     "output_type": "stream",
     "text": [
      "elmo_in_smalls[186]\n",
      "INFO:tensorflow:Saver not created because there are no variables in the graph to restore\n",
      "extended with elmo_in_smalls[{}].format()\n"
     ]
    },
    {
     "name": "stderr",
     "output_type": "stream",
     "text": [
      "\n",
      "\n",
      "\n",
      "\n",
      " 17%|█▋        | 187/1071 [3:53:13<24:40:20, 100.48s/it]\u001b[A\u001b[A\u001b[A\u001b[A"
     ]
    },
    {
     "name": "stdout",
     "output_type": "stream",
     "text": [
      "elmo_in_smalls[187]\n",
      "INFO:tensorflow:Saver not created because there are no variables in the graph to restore\n",
      "extended with elmo_in_smalls[{}].format()\n"
     ]
    },
    {
     "name": "stderr",
     "output_type": "stream",
     "text": [
      "\n",
      "\n",
      "\n",
      "\n",
      " 18%|█▊        | 188/1071 [3:54:55<24:44:38, 100.88s/it]\u001b[A\u001b[A\u001b[A\u001b[A"
     ]
    },
    {
     "name": "stdout",
     "output_type": "stream",
     "text": [
      "elmo_in_smalls[188]\n",
      "INFO:tensorflow:Saver not created because there are no variables in the graph to restore\n",
      "extended with elmo_in_smalls[{}].format()\n"
     ]
    },
    {
     "name": "stderr",
     "output_type": "stream",
     "text": [
      "\n",
      "\n",
      "\n",
      "\n",
      " 18%|█▊        | 189/1071 [3:56:36<24:46:14, 101.11s/it]\u001b[A\u001b[A\u001b[A\u001b[A"
     ]
    },
    {
     "name": "stdout",
     "output_type": "stream",
     "text": [
      "elmo_in_smalls[189]\n",
      "INFO:tensorflow:Saver not created because there are no variables in the graph to restore\n",
      "extended with elmo_in_smalls[{}].format()\n"
     ]
    },
    {
     "name": "stderr",
     "output_type": "stream",
     "text": [
      "\n",
      "\n",
      "\n",
      "\n",
      " 18%|█▊        | 190/1071 [3:58:20<24:54:34, 101.79s/it]\u001b[A\u001b[A\u001b[A\u001b[A"
     ]
    },
    {
     "name": "stdout",
     "output_type": "stream",
     "text": [
      "elmo_in_smalls[190]\n",
      "INFO:tensorflow:Saver not created because there are no variables in the graph to restore\n",
      "extended with elmo_in_smalls[{}].format()\n"
     ]
    },
    {
     "name": "stderr",
     "output_type": "stream",
     "text": [
      "\n",
      "\n",
      "\n",
      "\n",
      " 18%|█▊        | 191/1071 [4:00:02<24:54:33, 101.90s/it]\u001b[A\u001b[A\u001b[A\u001b[A"
     ]
    },
    {
     "name": "stdout",
     "output_type": "stream",
     "text": [
      "elmo_in_smalls[191]\n",
      "INFO:tensorflow:Saver not created because there are no variables in the graph to restore\n",
      "extended with elmo_in_smalls[{}].format()\n"
     ]
    },
    {
     "name": "stderr",
     "output_type": "stream",
     "text": [
      "\n",
      "\n",
      "\n",
      "\n",
      " 18%|█▊        | 192/1071 [4:01:47<25:06:04, 102.80s/it]\u001b[A\u001b[A\u001b[A\u001b[A"
     ]
    },
    {
     "name": "stdout",
     "output_type": "stream",
     "text": [
      "elmo_in_smalls[192]\n",
      "INFO:tensorflow:Saver not created because there are no variables in the graph to restore\n",
      "extended with elmo_in_smalls[{}].format()\n"
     ]
    },
    {
     "name": "stderr",
     "output_type": "stream",
     "text": [
      "\n",
      "\n",
      "\n",
      "\n",
      " 18%|█▊        | 193/1071 [4:03:30<25:06:59, 102.98s/it]\u001b[A\u001b[A\u001b[A\u001b[A"
     ]
    },
    {
     "name": "stdout",
     "output_type": "stream",
     "text": [
      "elmo_in_smalls[193]\n",
      "INFO:tensorflow:Saver not created because there are no variables in the graph to restore\n",
      "extended with elmo_in_smalls[{}].format()\n"
     ]
    },
    {
     "name": "stderr",
     "output_type": "stream",
     "text": [
      "\n",
      "\n",
      "\n",
      "\n",
      " 18%|█▊        | 194/1071 [4:05:13<25:06:18, 103.05s/it]\u001b[A\u001b[A\u001b[A\u001b[A"
     ]
    },
    {
     "name": "stdout",
     "output_type": "stream",
     "text": [
      "elmo_in_smalls[194]\n",
      "INFO:tensorflow:Saver not created because there are no variables in the graph to restore\n",
      "extended with elmo_in_smalls[{}].format()\n"
     ]
    },
    {
     "name": "stderr",
     "output_type": "stream",
     "text": [
      "\n",
      "\n",
      "\n",
      "\n",
      " 18%|█▊        | 195/1071 [4:06:59<25:15:57, 103.83s/it]\u001b[A\u001b[A\u001b[A\u001b[A"
     ]
    },
    {
     "name": "stdout",
     "output_type": "stream",
     "text": [
      "elmo_in_smalls[195]\n",
      "INFO:tensorflow:Saver not created because there are no variables in the graph to restore\n",
      "extended with elmo_in_smalls[{}].format()\n"
     ]
    },
    {
     "name": "stderr",
     "output_type": "stream",
     "text": [
      "\n",
      "\n",
      "\n",
      "\n",
      " 18%|█▊        | 196/1071 [4:08:44<25:18:32, 104.13s/it]\u001b[A\u001b[A\u001b[A\u001b[A"
     ]
    },
    {
     "name": "stdout",
     "output_type": "stream",
     "text": [
      "elmo_in_smalls[196]\n",
      "INFO:tensorflow:Saver not created because there are no variables in the graph to restore\n",
      "extended with elmo_in_smalls[{}].format()\n"
     ]
    },
    {
     "name": "stderr",
     "output_type": "stream",
     "text": [
      "\n",
      "\n",
      "\n",
      "\n",
      " 18%|█▊        | 197/1071 [4:10:29<25:20:53, 104.41s/it]\u001b[A\u001b[A\u001b[A\u001b[A"
     ]
    },
    {
     "name": "stdout",
     "output_type": "stream",
     "text": [
      "elmo_in_smalls[197]\n",
      "INFO:tensorflow:Saver not created because there are no variables in the graph to restore\n",
      "extended with elmo_in_smalls[{}].format()\n"
     ]
    },
    {
     "name": "stderr",
     "output_type": "stream",
     "text": [
      "\n",
      "\n",
      "\n",
      "\n",
      " 18%|█▊        | 198/1071 [4:12:14<25:23:20, 104.70s/it]\u001b[A\u001b[A\u001b[A\u001b[A"
     ]
    },
    {
     "name": "stdout",
     "output_type": "stream",
     "text": [
      "elmo_in_smalls[198]\n",
      "INFO:tensorflow:Saver not created because there are no variables in the graph to restore\n",
      "extended with elmo_in_smalls[{}].format()\n"
     ]
    },
    {
     "name": "stderr",
     "output_type": "stream",
     "text": [
      "\n",
      "\n",
      "\n",
      "\n",
      " 19%|█▊        | 199/1071 [4:14:00<25:27:31, 105.10s/it]\u001b[A\u001b[A\u001b[A\u001b[A"
     ]
    },
    {
     "name": "stdout",
     "output_type": "stream",
     "text": [
      "elmo_in_smalls[199]\n",
      "INFO:tensorflow:Saver not created because there are no variables in the graph to restore\n",
      "extended with elmo_in_smalls[{}].format()\n"
     ]
    },
    {
     "name": "stderr",
     "output_type": "stream",
     "text": [
      "\n",
      "\n",
      "\n",
      "\n",
      " 19%|█▊        | 200/1071 [4:15:46<25:27:45, 105.24s/it]\u001b[A\u001b[A\u001b[A\u001b[A"
     ]
    },
    {
     "name": "stdout",
     "output_type": "stream",
     "text": [
      "elmo_in_smalls[200]\n",
      "INFO:tensorflow:Saver not created because there are no variables in the graph to restore\n",
      "extended with elmo_in_smalls[{}].format()\n"
     ]
    },
    {
     "name": "stderr",
     "output_type": "stream",
     "text": [
      "\n",
      "\n",
      "\n",
      "\n",
      " 19%|█▉        | 201/1071 [4:17:32<25:30:19, 105.54s/it]\u001b[A\u001b[A\u001b[A\u001b[A"
     ]
    },
    {
     "name": "stdout",
     "output_type": "stream",
     "text": [
      "elmo_in_smalls[201]\n",
      "INFO:tensorflow:Saver not created because there are no variables in the graph to restore\n",
      "extended with elmo_in_smalls[{}].format()\n"
     ]
    },
    {
     "name": "stderr",
     "output_type": "stream",
     "text": [
      "\n",
      "\n",
      "\n",
      "\n",
      " 19%|█▉        | 202/1071 [4:19:20<25:36:47, 106.11s/it]\u001b[A\u001b[A\u001b[A\u001b[A"
     ]
    },
    {
     "name": "stdout",
     "output_type": "stream",
     "text": [
      "elmo_in_smalls[202]\n",
      "INFO:tensorflow:Saver not created because there are no variables in the graph to restore\n",
      "extended with elmo_in_smalls[{}].format()\n"
     ]
    },
    {
     "name": "stderr",
     "output_type": "stream",
     "text": [
      "\n",
      "\n",
      "\n",
      "\n",
      " 19%|█▉        | 203/1071 [4:21:07<25:39:19, 106.41s/it]\u001b[A\u001b[A\u001b[A\u001b[A"
     ]
    },
    {
     "name": "stdout",
     "output_type": "stream",
     "text": [
      "elmo_in_smalls[203]\n",
      "INFO:tensorflow:Saver not created because there are no variables in the graph to restore\n",
      "extended with elmo_in_smalls[{}].format()\n"
     ]
    },
    {
     "name": "stderr",
     "output_type": "stream",
     "text": [
      "\n",
      "\n",
      "\n",
      "\n",
      " 19%|█▉        | 204/1071 [4:22:53<25:37:59, 106.44s/it]\u001b[A\u001b[A\u001b[A\u001b[A"
     ]
    },
    {
     "name": "stdout",
     "output_type": "stream",
     "text": [
      "elmo_in_smalls[204]\n",
      "INFO:tensorflow:Saver not created because there are no variables in the graph to restore\n",
      "extended with elmo_in_smalls[{}].format()\n"
     ]
    },
    {
     "name": "stderr",
     "output_type": "stream",
     "text": [
      "\n",
      "\n",
      "\n",
      "\n",
      " 19%|█▉        | 205/1071 [4:24:41<25:39:50, 106.69s/it]\u001b[A\u001b[A\u001b[A\u001b[A"
     ]
    },
    {
     "name": "stdout",
     "output_type": "stream",
     "text": [
      "elmo_in_smalls[205]\n",
      "INFO:tensorflow:Saver not created because there are no variables in the graph to restore\n",
      "extended with elmo_in_smalls[{}].format()\n"
     ]
    },
    {
     "name": "stderr",
     "output_type": "stream",
     "text": [
      "\n",
      "\n",
      "\n",
      "\n",
      " 19%|█▉        | 206/1071 [4:26:28<25:39:31, 106.79s/it]\u001b[A\u001b[A\u001b[A\u001b[A"
     ]
    },
    {
     "name": "stdout",
     "output_type": "stream",
     "text": [
      "elmo_in_smalls[206]\n",
      "INFO:tensorflow:Saver not created because there are no variables in the graph to restore\n",
      "extended with elmo_in_smalls[{}].format()\n"
     ]
    },
    {
     "name": "stderr",
     "output_type": "stream",
     "text": [
      "\n",
      "\n",
      "\n",
      "\n",
      " 19%|█▉        | 207/1071 [4:28:16<25:45:03, 107.30s/it]\u001b[A\u001b[A\u001b[A\u001b[A"
     ]
    },
    {
     "name": "stdout",
     "output_type": "stream",
     "text": [
      "elmo_in_smalls[207]\n",
      "INFO:tensorflow:Saver not created because there are no variables in the graph to restore\n",
      "extended with elmo_in_smalls[{}].format()\n"
     ]
    },
    {
     "name": "stderr",
     "output_type": "stream",
     "text": [
      "\n",
      "\n",
      "\n",
      "\n",
      " 19%|█▉        | 208/1071 [4:30:05<25:48:34, 107.66s/it]\u001b[A\u001b[A\u001b[A\u001b[A"
     ]
    },
    {
     "name": "stdout",
     "output_type": "stream",
     "text": [
      "elmo_in_smalls[208]\n",
      "INFO:tensorflow:Saver not created because there are no variables in the graph to restore\n",
      "extended with elmo_in_smalls[{}].format()\n"
     ]
    },
    {
     "name": "stderr",
     "output_type": "stream",
     "text": [
      "\n",
      "\n",
      "\n",
      "\n",
      " 20%|█▉        | 209/1071 [4:31:52<25:46:07, 107.62s/it]\u001b[A\u001b[A\u001b[A\u001b[A"
     ]
    },
    {
     "name": "stdout",
     "output_type": "stream",
     "text": [
      "elmo_in_smalls[209]\n",
      "INFO:tensorflow:Saver not created because there are no variables in the graph to restore\n",
      "extended with elmo_in_smalls[{}].format()\n"
     ]
    },
    {
     "name": "stderr",
     "output_type": "stream",
     "text": [
      "\n",
      "\n",
      "\n",
      "\n",
      " 20%|█▉        | 210/1071 [4:33:43<25:59:36, 108.68s/it]\u001b[A\u001b[A\u001b[A\u001b[A"
     ]
    },
    {
     "name": "stdout",
     "output_type": "stream",
     "text": [
      "elmo_in_smalls[210]\n",
      "INFO:tensorflow:Saver not created because there are no variables in the graph to restore\n",
      "extended with elmo_in_smalls[{}].format()\n"
     ]
    },
    {
     "name": "stderr",
     "output_type": "stream",
     "text": [
      "\n",
      "\n",
      "\n",
      "\n",
      " 20%|█▉        | 211/1071 [4:35:32<25:59:31, 108.80s/it]\u001b[A\u001b[A\u001b[A\u001b[A"
     ]
    },
    {
     "name": "stdout",
     "output_type": "stream",
     "text": [
      "elmo_in_smalls[211]\n",
      "INFO:tensorflow:Saver not created because there are no variables in the graph to restore\n",
      "extended with elmo_in_smalls[{}].format()\n"
     ]
    },
    {
     "name": "stderr",
     "output_type": "stream",
     "text": [
      "\n",
      "\n",
      "\n",
      "\n",
      " 20%|█▉        | 212/1071 [4:37:21<25:56:28, 108.72s/it]\u001b[A\u001b[A\u001b[A\u001b[A"
     ]
    },
    {
     "name": "stdout",
     "output_type": "stream",
     "text": [
      "elmo_in_smalls[212]\n",
      "INFO:tensorflow:Saver not created because there are no variables in the graph to restore\n",
      "extended with elmo_in_smalls[{}].format()\n"
     ]
    },
    {
     "name": "stderr",
     "output_type": "stream",
     "text": [
      "\n",
      "\n",
      "\n",
      "\n",
      " 20%|█▉        | 213/1071 [4:39:11<26:00:22, 109.12s/it]\u001b[A\u001b[A\u001b[A\u001b[A"
     ]
    },
    {
     "name": "stdout",
     "output_type": "stream",
     "text": [
      "elmo_in_smalls[213]\n",
      "INFO:tensorflow:Saver not created because there are no variables in the graph to restore\n",
      "extended with elmo_in_smalls[{}].format()\n"
     ]
    },
    {
     "name": "stderr",
     "output_type": "stream",
     "text": [
      "\n",
      "\n",
      "\n",
      "\n",
      " 20%|█▉        | 214/1071 [4:41:00<25:59:23, 109.18s/it]\u001b[A\u001b[A\u001b[A\u001b[A"
     ]
    },
    {
     "name": "stdout",
     "output_type": "stream",
     "text": [
      "elmo_in_smalls[214]\n",
      "INFO:tensorflow:Saver not created because there are no variables in the graph to restore\n",
      "extended with elmo_in_smalls[{}].format()\n"
     ]
    },
    {
     "name": "stderr",
     "output_type": "stream",
     "text": [
      "\n",
      "\n",
      "\n",
      "\n",
      " 20%|██        | 215/1071 [4:42:51<26:02:41, 109.53s/it]\u001b[A\u001b[A\u001b[A\u001b[A"
     ]
    },
    {
     "name": "stdout",
     "output_type": "stream",
     "text": [
      "elmo_in_smalls[215]\n",
      "INFO:tensorflow:Saver not created because there are no variables in the graph to restore\n",
      "extended with elmo_in_smalls[{}].format()\n"
     ]
    },
    {
     "name": "stderr",
     "output_type": "stream",
     "text": [
      "\n",
      "\n",
      "\n",
      "\n",
      " 20%|██        | 216/1071 [4:44:40<25:58:43, 109.38s/it]\u001b[A\u001b[A\u001b[A\u001b[A"
     ]
    },
    {
     "name": "stdout",
     "output_type": "stream",
     "text": [
      "elmo_in_smalls[216]\n",
      "INFO:tensorflow:Saver not created because there are no variables in the graph to restore\n",
      "extended with elmo_in_smalls[{}].format()\n"
     ]
    },
    {
     "name": "stderr",
     "output_type": "stream",
     "text": [
      "\n",
      "\n",
      "\n",
      "\n",
      " 20%|██        | 217/1071 [4:46:30<26:00:37, 109.65s/it]\u001b[A\u001b[A\u001b[A\u001b[A"
     ]
    },
    {
     "name": "stdout",
     "output_type": "stream",
     "text": [
      "elmo_in_smalls[217]\n",
      "INFO:tensorflow:Saver not created because there are no variables in the graph to restore\n",
      "extended with elmo_in_smalls[{}].format()\n"
     ]
    },
    {
     "name": "stderr",
     "output_type": "stream",
     "text": [
      "\n",
      "\n",
      "\n",
      "\n",
      " 20%|██        | 218/1071 [4:48:20<26:02:19, 109.89s/it]\u001b[A\u001b[A\u001b[A\u001b[A"
     ]
    },
    {
     "name": "stdout",
     "output_type": "stream",
     "text": [
      "elmo_in_smalls[218]\n",
      "INFO:tensorflow:Saver not created because there are no variables in the graph to restore\n",
      "extended with elmo_in_smalls[{}].format()\n"
     ]
    },
    {
     "name": "stderr",
     "output_type": "stream",
     "text": [
      "\n",
      "\n",
      "\n",
      "\n",
      " 20%|██        | 219/1071 [4:50:12<26:09:04, 110.50s/it]\u001b[A\u001b[A\u001b[A\u001b[A"
     ]
    },
    {
     "name": "stdout",
     "output_type": "stream",
     "text": [
      "elmo_in_smalls[219]\n",
      "INFO:tensorflow:Saver not created because there are no variables in the graph to restore\n",
      "extended with elmo_in_smalls[{}].format()\n"
     ]
    },
    {
     "name": "stderr",
     "output_type": "stream",
     "text": [
      "\n",
      "\n",
      "\n",
      "\n",
      " 21%|██        | 220/1071 [4:52:03<26:09:25, 110.65s/it]\u001b[A\u001b[A\u001b[A\u001b[A"
     ]
    },
    {
     "name": "stdout",
     "output_type": "stream",
     "text": [
      "elmo_in_smalls[220]\n",
      "INFO:tensorflow:Saver not created because there are no variables in the graph to restore\n",
      "extended with elmo_in_smalls[{}].format()\n"
     ]
    },
    {
     "name": "stderr",
     "output_type": "stream",
     "text": [
      "\n",
      "\n",
      "\n",
      "\n",
      " 21%|██        | 221/1071 [4:53:54<26:06:46, 110.60s/it]\u001b[A\u001b[A\u001b[A\u001b[A"
     ]
    },
    {
     "name": "stdout",
     "output_type": "stream",
     "text": [
      "elmo_in_smalls[221]\n",
      "INFO:tensorflow:Saver not created because there are no variables in the graph to restore\n",
      "extended with elmo_in_smalls[{}].format()\n"
     ]
    },
    {
     "name": "stderr",
     "output_type": "stream",
     "text": [
      "\n",
      "\n",
      "\n",
      "\n",
      " 21%|██        | 222/1071 [4:55:44<26:05:27, 110.63s/it]\u001b[A\u001b[A\u001b[A\u001b[A"
     ]
    },
    {
     "name": "stdout",
     "output_type": "stream",
     "text": [
      "elmo_in_smalls[222]\n",
      "INFO:tensorflow:Saver not created because there are no variables in the graph to restore\n",
      "extended with elmo_in_smalls[{}].format()\n"
     ]
    },
    {
     "name": "stderr",
     "output_type": "stream",
     "text": [
      "\n",
      "\n",
      "\n",
      "\n",
      " 21%|██        | 223/1071 [4:57:36<26:05:45, 110.78s/it]\u001b[A\u001b[A\u001b[A\u001b[A"
     ]
    },
    {
     "name": "stdout",
     "output_type": "stream",
     "text": [
      "elmo_in_smalls[223]\n",
      "INFO:tensorflow:Saver not created because there are no variables in the graph to restore\n",
      "extended with elmo_in_smalls[{}].format()\n"
     ]
    },
    {
     "name": "stderr",
     "output_type": "stream",
     "text": [
      "\n",
      "\n",
      "\n",
      "\n",
      " 21%|██        | 224/1071 [4:59:28<26:11:18, 111.31s/it]\u001b[A\u001b[A\u001b[A\u001b[A"
     ]
    },
    {
     "name": "stdout",
     "output_type": "stream",
     "text": [
      "elmo_in_smalls[224]\n",
      "INFO:tensorflow:Saver not created because there are no variables in the graph to restore\n",
      "extended with elmo_in_smalls[{}].format()\n"
     ]
    },
    {
     "name": "stderr",
     "output_type": "stream",
     "text": [
      "\n",
      "\n",
      "\n",
      "\n",
      " 21%|██        | 225/1071 [5:01:21<26:14:06, 111.64s/it]\u001b[A\u001b[A\u001b[A\u001b[A"
     ]
    },
    {
     "name": "stdout",
     "output_type": "stream",
     "text": [
      "elmo_in_smalls[225]\n",
      "INFO:tensorflow:Saver not created because there are no variables in the graph to restore\n",
      "extended with elmo_in_smalls[{}].format()\n"
     ]
    },
    {
     "name": "stderr",
     "output_type": "stream",
     "text": [
      "\n",
      "\n",
      "\n",
      "\n",
      " 21%|██        | 226/1071 [5:03:13<26:16:23, 111.93s/it]\u001b[A\u001b[A\u001b[A\u001b[A"
     ]
    },
    {
     "name": "stdout",
     "output_type": "stream",
     "text": [
      "elmo_in_smalls[226]\n",
      "INFO:tensorflow:Saver not created because there are no variables in the graph to restore\n",
      "extended with elmo_in_smalls[{}].format()\n"
     ]
    },
    {
     "name": "stderr",
     "output_type": "stream",
     "text": [
      "\n",
      "\n",
      "\n",
      "\n",
      " 21%|██        | 227/1071 [5:05:07<26:22:30, 112.50s/it]\u001b[A\u001b[A\u001b[A\u001b[A"
     ]
    },
    {
     "name": "stdout",
     "output_type": "stream",
     "text": [
      "elmo_in_smalls[227]\n",
      "INFO:tensorflow:Saver not created because there are no variables in the graph to restore\n",
      "extended with elmo_in_smalls[{}].format()\n"
     ]
    },
    {
     "name": "stderr",
     "output_type": "stream",
     "text": [
      "\n",
      "\n",
      "\n",
      "\n",
      " 21%|██▏       | 228/1071 [5:07:00<26:22:07, 112.61s/it]\u001b[A\u001b[A\u001b[A\u001b[A"
     ]
    },
    {
     "name": "stdout",
     "output_type": "stream",
     "text": [
      "elmo_in_smalls[228]\n",
      "INFO:tensorflow:Saver not created because there are no variables in the graph to restore\n",
      "extended with elmo_in_smalls[{}].format()\n"
     ]
    },
    {
     "name": "stderr",
     "output_type": "stream",
     "text": [
      "\n",
      "\n",
      "\n",
      "\n",
      " 21%|██▏       | 229/1071 [5:08:54<26:27:07, 113.10s/it]\u001b[A\u001b[A\u001b[A\u001b[A"
     ]
    },
    {
     "name": "stdout",
     "output_type": "stream",
     "text": [
      "elmo_in_smalls[229]\n",
      "INFO:tensorflow:Saver not created because there are no variables in the graph to restore\n"
     ]
    }
   ],
   "source": [
    "# for all embeddings\n",
    "\n",
    "resume_embeddings = []\n",
    "\n",
    "\n",
    "for i in tqdm(range(0, len(elmo_in_smalls))):\n",
    "    # save np array of embeddings\n",
    "    if i % 100 == 0:\n",
    "        np_ELMo_embeddings_resumes = np.asarray(resume_embeddings)\n",
    "        np.save('ELMo_embeddings_resumes{}'.format(i), np_ELMo_embeddings_resumes) \n",
    "    \n",
    "    print('elmo_in_smalls[{}]'.format(i))\n",
    "    embeddings_3d = elmo(elmo_in_smalls[i], signature=\"default\",as_dict=True)[\"elmo\"]\n",
    "#     print(\"embeddings is type {} and shape {}\".format(type(embeddings), embeddings.shape))\n",
    "    with tf.Session() as session:\n",
    "        session.run([tf.global_variables_initializer(), tf.tables_initializer()])\n",
    "        embeddings_2d = session.run(tf.reduce_mean(embeddings_3d,axis=0))\n",
    "#         print(\"message_embeddings_2d is type {} and shape {}\".format(type(message_embeddings_2d), message_embeddings_2d.shape))\n",
    "        embeddings_1d = session.run(tf.reduce_mean(tf.convert_to_tensor(embeddings_2d), axis = 0, keepdims=True))\n",
    "#         print(\"message_embeddings_1d is type {} and shape {}\".format(type(message_embeddings_1d), message_embeddings_1d.shape))\n",
    "        resume_embeddings.extend(embeddings_1d)\n",
    "        print('extended with elmo_in_smalls[{}].format()')\n",
    "    \n",
    "\n",
    "\n",
    "    "
   ]
  },
  {
   "cell_type": "code",
   "execution_count": null,
   "metadata": {},
   "outputs": [],
   "source": []
  },
  {
   "cell_type": "code",
   "execution_count": null,
   "metadata": {},
   "outputs": [],
   "source": [
    "# save elmo in smalls\n",
    "np_elmo_in_smalls = np.asarray(elmo_in_smalls)\n",
    "np.save('ELMo_embeddings_resumes', np_elmo_in_smalls) "
   ]
  },
  {
   "cell_type": "code",
   "execution_count": null,
   "metadata": {},
   "outputs": [],
   "source": [
    "# save np array of embeddings\n",
    "np_ELMo_embeddings_resumes = np.asarray(resume_embeddings)\n",
    "np.save('ELMo_embeddings_resumes{}', np_ELMo_embeddings_resumes) "
   ]
  },
  {
   "cell_type": "code",
   "execution_count": null,
   "metadata": {},
   "outputs": [],
   "source": [
    "# save elmo_train_new\n",
    "pickle_out = open(\"ELMo_embeddings_resumes.pickle\",\"wb\")\n",
    "pickle.dump(np_ELMo_embeddings_resumes, pickle_out)\n",
    "pickle_out.close()"
   ]
  },
  {
   "cell_type": "code",
   "execution_count": null,
   "metadata": {},
   "outputs": [],
   "source": []
  },
  {
   "cell_type": "code",
   "execution_count": null,
   "metadata": {},
   "outputs": [],
   "source": []
  },
  {
   "cell_type": "code",
   "execution_count": null,
   "metadata": {},
   "outputs": [],
   "source": []
  },
  {
   "cell_type": "markdown",
   "metadata": {},
   "source": [
    "# ========================================"
   ]
  },
  {
   "cell_type": "code",
   "execution_count": null,
   "metadata": {},
   "outputs": [],
   "source": []
  }
 ],
 "metadata": {
  "kernelspec": {
   "display_name": "Python 3",
   "language": "python",
   "name": "python3"
  },
  "language_info": {
   "codemirror_mode": {
    "name": "ipython",
    "version": 3
   },
   "file_extension": ".py",
   "mimetype": "text/x-python",
   "name": "python",
   "nbconvert_exporter": "python",
   "pygments_lexer": "ipython3",
   "version": "3.6.10"
  }
 },
 "nbformat": 4,
 "nbformat_minor": 4
}
