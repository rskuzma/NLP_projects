{
 "cells": [
  {
   "cell_type": "markdown",
   "metadata": {},
   "source": [
    "https://www.analyticsvidhya.com/blog/2019/03/learn-to-use-elmo-to-extract-features-from-text/"
   ]
  },
  {
   "cell_type": "markdown",
   "metadata": {},
   "source": [
    "#### to load elmo to local disk:\n",
    "#download the model to local so it can be used again and again\n",
    "$ mkdir module/module_elmo2\n",
    "# Download the module, and uncompress it to the destination folder. \n",
    "$ curl -L \"https://tfhub.dev/google/elmo/2?tf-hub-format=compressed\" | tar -zxvC module/module_elmo2"
   ]
  },
  {
   "cell_type": "code",
   "execution_count": null,
   "metadata": {},
   "outputs": [],
   "source": []
  },
  {
   "cell_type": "code",
   "execution_count": 3,
   "metadata": {},
   "outputs": [],
   "source": [
    "#data science\n",
    "import pandas as pd\n",
    "import numpy as np\n",
    "import sklearn as skl\n",
    "from sklearn.metrics.pairwise import cosine_similarity\n",
    "import random\n",
    "from matplotlib import pyplot as plt\n",
    "\n",
    "#NLP\n",
    "#import spacy\n",
    "import re\n",
    "\n",
    "import time\n",
    "from tqdm import tqdm  # progress bar\n",
    "\n",
    "# file loading\n",
    "import pickle\n",
    "\n",
    "#deep learning\n",
    "import tensorflow as tf\n",
    "import tensorflow_hub as hub\n"
   ]
  },
  {
   "cell_type": "code",
   "execution_count": 2,
   "metadata": {},
   "outputs": [
    {
     "name": "stdout",
     "output_type": "stream",
     "text": [
      "Num GPUs Available:  1\n"
     ]
    }
   ],
   "source": [
    "# It's a Tesla V100 with a P3, K80 with P2 \n",
    "print(\"Num GPUs Available: \", len(tf.config.experimental.list_physical_devices('GPU')))"
   ]
  },
  {
   "cell_type": "code",
   "execution_count": 3,
   "metadata": {},
   "outputs": [],
   "source": [
    "pd.set_option('display.max_colwidth', 200)"
   ]
  },
  {
   "cell_type": "code",
   "execution_count": null,
   "metadata": {},
   "outputs": [],
   "source": []
  },
  {
   "cell_type": "code",
   "execution_count": 4,
   "metadata": {},
   "outputs": [],
   "source": [
    "# resumes only for now\n",
    "# gives df with list of strings (tokenized) as well as lemmatized list of strings\n",
    "\n",
    "ec2_resumes_path = '/home/ubuntu/NLP_projects/job_recommender_project/data/large_files/lf_cleaned_lemmatized_tokenized_resumes.csv'\n",
    "ec2_pickle_resumes_path = '/home/ec2-user/NLP_projects/job_recommender_project/data/resumes_with_list_of_list.pickle'\n",
    "\n",
    "resumes = pd.read_pickle(ec2_pickle_resumes_path)\n"
   ]
  },
  {
   "cell_type": "code",
   "execution_count": 5,
   "metadata": {},
   "outputs": [
    {
     "data": {
      "text/html": [
       "<div>\n",
       "<style scoped>\n",
       "    .dataframe tbody tr th:only-of-type {\n",
       "        vertical-align: middle;\n",
       "    }\n",
       "\n",
       "    .dataframe tbody tr th {\n",
       "        vertical-align: top;\n",
       "    }\n",
       "\n",
       "    .dataframe thead th {\n",
       "        text-align: right;\n",
       "    }\n",
       "</style>\n",
       "<table border=\"1\" class=\"dataframe\">\n",
       "  <thead>\n",
       "    <tr style=\"text-align: right;\">\n",
       "      <th></th>\n",
       "      <th>ID</th>\n",
       "      <th>dirty_resume</th>\n",
       "      <th>resume</th>\n",
       "      <th>lol</th>\n",
       "    </tr>\n",
       "  </thead>\n",
       "  <tbody>\n",
       "    <tr>\n",
       "      <th>0</th>\n",
       "      <td>1</td>\n",
       "      <td>b'John H. Smith, P.H.R.\\n800-991-5187 | PO Box 1673 | Callahan, FL 32011 | info@greatresumesfast.com\\n\\nApproachable innovator with a passion for Human Resources.\\n\\nSENIOR HUMAN RESOURCES PROFESS...</td>\n",
       "      <td>john h smith phr    po box  callahan fl  infogreatresumesfastcom approachable innovator passion human resources senior human resources professional personable analytical flexible senior hr profess...</td>\n",
       "      <td>[[john, h], [smith, phr], [po, box, callahan, fl, infogreatresumesfastcom, approachable, innovator, passion, human, resources], [senior, human, resources, professional, personable, analytical, fle...</td>\n",
       "    </tr>\n",
       "    <tr>\n",
       "      <th>1</th>\n",
       "      <td>2</td>\n",
       "      <td>b'Name Surname\\nAddress\\nMobile No/Email\\nPERSONAL PROFILE\\nI am a self motivated individual who has a confident approach to people. I communicate\\nwell with all levels of personnel and feel that ...</td>\n",
       "      <td>name surname address mobile noemail personal profile self motivated individual confident approach people communicate well levels personnel feel good listening ability allows resolve problems quick...</td>\n",
       "      <td>[[name, surname, address, mobile, noemail, personal, profile, self, motivated, individual, confident, approach, people], [communicate, well, levels, personnel, feel, good, listening, ability, allo...</td>\n",
       "    </tr>\n",
       "    <tr>\n",
       "      <th>2</th>\n",
       "      <td>3</td>\n",
       "      <td>b'Anthony Brown\\nHR Assistant\\nAREAS OF EXPERTISE\\n\\nPERSONAL SUMMARY\\n\\nHR processes &amp; systems\\n\\nA competent and organised individual who is able to work as part of a team and\\nmanage several pr...</td>\n",
       "      <td>anthony brown hr assistant areas expertise personal summary hr processes systems competent organised individual able work part team manage several priorities one time anthony positive attitude str...</td>\n",
       "      <td>[[anthony, brown, hr, assistant, areas, expertise, personal, summary, hr, processes, systems, competent, organised, individual, able, work, part, team, manage, several, priorities, one, time], [an...</td>\n",
       "    </tr>\n",
       "    <tr>\n",
       "      <th>3</th>\n",
       "      <td>4</td>\n",
       "      <td>b'www.downloadmela.com\\nSatheesh\\nEMAIL ID:\\nCareer Objective\\nTo pursue a growth oriented career with a progressive company that provides a scope to apply my\\nknowledge and skills that would help...</td>\n",
       "      <td>satheesh email id career objective pursue growth oriented career progressive company provides scope apply knowledge skills would help contribute best organization personal skills enjoy strong log...</td>\n",
       "      <td>[[id, career, objective, pursue, growth, oriented, career, progressive, company, provides, scope, apply, knowledge, skills, would, help, contribute, best, organization], [personal, skills, enjoy, ...</td>\n",
       "    </tr>\n",
       "    <tr>\n",
       "      <th>4</th>\n",
       "      <td>5</td>\n",
       "      <td>b\"HUMAN RESOURCES DIRECTOR\\n\\xef\\x82\\xb7Expert in organizational effectiveness.\\n\\xef\\x82\\xb7Recognized consensus-builder among diverse groups.\\n\\xef\\x82\\xb7Innovative problem solver.\\n\\xef\\x82\\xb...</td>\n",
       "      <td>human resources director expert organizational effectiveness recognized consensus builder among diverse groups innovative problem solver strategic partner effective executive coach facilitator man...</td>\n",
       "      <td>[[human, resources, director, expert, organizational, effectiveness], [recognized, consensus, builder, among, diverse, groups], [innovative, problem, solver], [strategic, partner], [effective, exe...</td>\n",
       "    </tr>\n",
       "  </tbody>\n",
       "</table>\n",
       "</div>"
      ],
      "text/plain": [
       "   ID  \\\n",
       "0   1   \n",
       "1   2   \n",
       "2   3   \n",
       "3   4   \n",
       "4   5   \n",
       "\n",
       "                                                                                                                                                                                              dirty_resume  \\\n",
       "0  b'John H. Smith, P.H.R.\\n800-991-5187 | PO Box 1673 | Callahan, FL 32011 | info@greatresumesfast.com\\n\\nApproachable innovator with a passion for Human Resources.\\n\\nSENIOR HUMAN RESOURCES PROFESS...   \n",
       "1  b'Name Surname\\nAddress\\nMobile No/Email\\nPERSONAL PROFILE\\nI am a self motivated individual who has a confident approach to people. I communicate\\nwell with all levels of personnel and feel that ...   \n",
       "2  b'Anthony Brown\\nHR Assistant\\nAREAS OF EXPERTISE\\n\\nPERSONAL SUMMARY\\n\\nHR processes & systems\\n\\nA competent and organised individual who is able to work as part of a team and\\nmanage several pr...   \n",
       "3  b'www.downloadmela.com\\nSatheesh\\nEMAIL ID:\\nCareer Objective\\nTo pursue a growth oriented career with a progressive company that provides a scope to apply my\\nknowledge and skills that would help...   \n",
       "4  b\"HUMAN RESOURCES DIRECTOR\\n\\xef\\x82\\xb7Expert in organizational effectiveness.\\n\\xef\\x82\\xb7Recognized consensus-builder among diverse groups.\\n\\xef\\x82\\xb7Innovative problem solver.\\n\\xef\\x82\\xb...   \n",
       "\n",
       "                                                                                                                                                                                                    resume  \\\n",
       "0  john h smith phr    po box  callahan fl  infogreatresumesfastcom approachable innovator passion human resources senior human resources professional personable analytical flexible senior hr profess...   \n",
       "1  name surname address mobile noemail personal profile self motivated individual confident approach people communicate well levels personnel feel good listening ability allows resolve problems quick...   \n",
       "2  anthony brown hr assistant areas expertise personal summary hr processes systems competent organised individual able work part team manage several priorities one time anthony positive attitude str...   \n",
       "3   satheesh email id career objective pursue growth oriented career progressive company provides scope apply knowledge skills would help contribute best organization personal skills enjoy strong log...   \n",
       "4  human resources director expert organizational effectiveness recognized consensus builder among diverse groups innovative problem solver strategic partner effective executive coach facilitator man...   \n",
       "\n",
       "                                                                                                                                                                                                       lol  \n",
       "0  [[john, h], [smith, phr], [po, box, callahan, fl, infogreatresumesfastcom, approachable, innovator, passion, human, resources], [senior, human, resources, professional, personable, analytical, fle...  \n",
       "1  [[name, surname, address, mobile, noemail, personal, profile, self, motivated, individual, confident, approach, people], [communicate, well, levels, personnel, feel, good, listening, ability, allo...  \n",
       "2  [[anthony, brown, hr, assistant, areas, expertise, personal, summary, hr, processes, systems, competent, organised, individual, able, work, part, team, manage, several, priorities, one, time], [an...  \n",
       "3  [[id, career, objective, pursue, growth, oriented, career, progressive, company, provides, scope, apply, knowledge, skills, would, help, contribute, best, organization], [personal, skills, enjoy, ...  \n",
       "4  [[human, resources, director, expert, organizational, effectiveness], [recognized, consensus, builder, among, diverse, groups], [innovative, problem, solver], [strategic, partner], [effective, exe...  "
      ]
     },
     "execution_count": 5,
     "metadata": {},
     "output_type": "execute_result"
    }
   ],
   "source": [
    "resumes.head()"
   ]
  },
  {
   "cell_type": "code",
   "execution_count": 6,
   "metadata": {},
   "outputs": [
    {
     "data": {
      "text/plain": [
       "str"
      ]
     },
     "execution_count": 6,
     "metadata": {},
     "output_type": "execute_result"
    }
   ],
   "source": [
    "type(resumes['lol'][0][0][0])"
   ]
  },
  {
   "cell_type": "code",
   "execution_count": 7,
   "metadata": {},
   "outputs": [],
   "source": [
    "resumes['los'] = resumes['lol']"
   ]
  },
  {
   "cell_type": "code",
   "execution_count": 8,
   "metadata": {},
   "outputs": [
    {
     "data": {
      "text/plain": [
       "35"
      ]
     },
     "execution_count": 8,
     "metadata": {},
     "output_type": "execute_result"
    }
   ],
   "source": [
    "len(resumes['los'][0])"
   ]
  },
  {
   "cell_type": "code",
   "execution_count": 9,
   "metadata": {},
   "outputs": [],
   "source": [
    "for i in range (0, len(resumes['los'])):\n",
    "    for j in range (0, len(resumes['los'][i])):\n",
    "        resumes['los'][i][j] = ' '.join(resumes['los'][i][j])"
   ]
  },
  {
   "cell_type": "code",
   "execution_count": 10,
   "metadata": {},
   "outputs": [
    {
     "data": {
      "text/plain": [
       "'senior human resources professional personable analytical flexible senior hr professional multifaceted expertise'"
      ]
     },
     "execution_count": 10,
     "metadata": {},
     "output_type": "execute_result"
    }
   ],
   "source": [
    "resumes['los'][0][3]"
   ]
  },
  {
   "cell_type": "code",
   "execution_count": 11,
   "metadata": {},
   "outputs": [],
   "source": [
    "elmo_in = resumes['los']\n"
   ]
  },
  {
   "cell_type": "code",
   "execution_count": null,
   "metadata": {},
   "outputs": [],
   "source": []
  },
  {
   "cell_type": "code",
   "execution_count": 12,
   "metadata": {},
   "outputs": [],
   "source": [
    "# # the lenghts of each resume and resume ID for reference\n",
    "\n",
    "# for x in range(len(elmo_in)):\n",
    "#     print(x, ':  ', len(elmo_in[x]))\n",
    "\n",
    "#     #elmo_in[28] has 212 sentences\n",
    "#     #\n",
    "#     #elmo_in[34] has 945 sentences\n",
    "#     #elmo_in[75] has 3 sentences"
   ]
  },
  {
   "cell_type": "code",
   "execution_count": null,
   "metadata": {},
   "outputs": [],
   "source": []
  },
  {
   "cell_type": "code",
   "execution_count": 13,
   "metadata": {},
   "outputs": [],
   "source": [
    "# let's examine resume length in sentences\n",
    "\n",
    "\n",
    "lengths = []\n",
    "for i in range(0, len(elmo_in)):\n",
    "    lengths.extend([len(elmo_in[i])])\n",
    "\n",
    "#lengths"
   ]
  },
  {
   "cell_type": "code",
   "execution_count": null,
   "metadata": {},
   "outputs": [],
   "source": []
  },
  {
   "cell_type": "code",
   "execution_count": 14,
   "metadata": {},
   "outputs": [
    {
     "data": {
      "image/png": "[encoded data removed]",
      "text/plain": [
       "<Figure size 432x288 with 1 Axes>"
      ]
     },
     "metadata": {},
     "output_type": "display_data"
    }
   ],
   "source": [
    "# let's look at distributions of resume length\n",
    "\n",
    "plt.hist(lengths, bins=range(0, 1000, 10))\n",
    "\n",
    "plt.show()\n"
   ]
  },
  {
   "cell_type": "code",
   "execution_count": 15,
   "metadata": {},
   "outputs": [
    {
     "data": {
      "image/png": "[encoded data removed]",
      "text/plain": [
       "<Figure size 432x288 with 1 Axes>"
      ]
     },
     "metadata": {},
     "output_type": "display_data"
    }
   ],
   "source": [
    "plt.hist(lengths, bins=range(0, 200, 5))\n",
    "\n",
    "plt.show()"
   ]
  },
  {
   "cell_type": "code",
   "execution_count": 16,
   "metadata": {},
   "outputs": [
    {
     "name": "stdout",
     "output_type": "stream",
     "text": [
      "example of a short resume:\n",
      "resume number 244\n",
      "resume length: 9 sentences\n",
      "['carmen morant arbor court wheatland wy tel e mail carmenresumesamplesinfo objective experienced assistant manager looking position reputable organization', 'summary qualifications vast working experience computers windows support profound knowledge project management proficient microsoft office familiarity call center related applications ability handle multi tasks ability communicate effectively experience assistant manager present veredus corporation durham nc recommended implemented approved lanwan policies standards', 'supported office personnel corporate applications', 'created executed proper backup disaster recovery procedures', 'managed within regionally approved budget', 'maintained baseline security standard policies', 'provided solution costing rfprfq submissions system upgrades', 'educational background bachelors degree computer science mills college oakland ca gpa', 'scale']\n"
     ]
    }
   ],
   "source": [
    "print(\"example of a short resume:\")\n",
    "print(\"resume number 244\")\n",
    "print(\"resume length: {} sentences\".format(len(elmo_in[244])))\n",
    "print(elmo_in[244])"
   ]
  },
  {
   "cell_type": "code",
   "execution_count": 17,
   "metadata": {},
   "outputs": [
    {
     "name": "stdout",
     "output_type": "stream",
     "text": [
      "example of a medium resume:\n",
      "resume number 202\n",
      "resume length: 25 sentences\n",
      "['gayle laakmann apple lane philadelphia pa gaylecareercupcom education wharton school university pennsylvania philadelphia pa master business administration candidate major marketing entrepreneurship wharton ventures early stage vc fund principal one eight students selected applicants join wv sources deals performs due diligence analyzes tech healthcare investments deals k million', 'chair wharton yearbook helped launch whartons yearbook publish months', 'wharton venture capital competition finalist', 'elected social chair cohort students', 'university pennsylvania philadelphia pa master science engineering computer information science bachelor science engineering major computer science engineering minor mathematics created independently taught computer science course first undergraduate earned permission so', 'experience careercupcom seattle wa founder ceo present founded careercup help candidates prepare technical interviews online forum book video coaching', 'built company xk revenue yk annual profit', 'negotiated partnerships websites glassdoorcom softwareinterviewcom technical interviewcom', 'seattle anti freeze seattle wa founder co ceo present founded saf organize social events young professionals grew xkyear revenue ykyear profit', 'landed article front page seattle pis lifestyle section within months company launch', 'keenscreen seattle wa vice president engineering rd led architecture online advertising product enabling company ship product previously estimated time', 'prepared ceo projected cash flow statements three years cut expected costs', 'hired managed remote testing team design team assistant', 'google kirkland wa software engineer led successful integration google talk music features partner team helped redesign product better usability', 'designed built google docs feature requiring collaboration three internal teams four outside companies', 'directed recruiting efforts university pennsylvania recruiting candidates earning award top', 'apple computer software engineer intern designed new approach searching ichat files enabling rapid searching backwards compatibility', 'microsoft corporation software design engineer intern implemented features developer products millions users estimated time', 'cupertino ca summer redmond wa summers additional information author google resume prepare career land job apple microsoft google top tech company published john wiley sons inc', 'march', 'author cracking coding interview wrote book prepare master programming interviews', 'available amazoncom barnesandnoblecom', 'isbn', 'instructor university washington taught two computer science courses earning rating', '']\n"
     ]
    }
   ],
   "source": [
    "print(\"example of a medium resume:\")\n",
    "print(\"resume number 202\")\n",
    "print(\"resume length: {} sentences\".format(len(elmo_in[202])))\n",
    "print(elmo_in[202])"
   ]
  },
  {
   "cell_type": "code",
   "execution_count": 18,
   "metadata": {},
   "outputs": [
    {
     "name": "stdout",
     "output_type": "stream",
     "text": [
      "example of a long resume:\n",
      "resume number 28\n",
      "resume length: 212 sentences\n",
      "['write professional resume xcxcresume tips following tips suggestions consider writing sending resume prospective employers use white light colored paper standard size xcxbd x inches', 'many office supply stores sell resume paper', 'sure include cover letter mailed emailed resumes', 'email resume cover letter create short introduction use email body', 'resume easy read crisp consistent format', 'always keep resume date many companies use applicant tracking systems ats scan resumes key words themes match job description', 'words identify skills company looking fill specific job postings', 'however due use software specific ways resume formatted scan properly companys system', 'use template invisible text boxes special graphics color shading', 'always use blank microsoft word document create text version resume online submissions', 'always submit resume pdf format save creative versions resume hand employer person', 'use standard non decorative fonts black ink only', 'font sizes pt name pt body resume', 'margins equally set', 'inch sides', 'avoid folding stapling resume', 'resume one page create header andor footer name contact information page number', 'key words describe skills using nouns action verbs important resume', 'companies usually indicate key skills looking job posting', 'use synonyms resume use word attorney also use word lawyer', 'use personal pronouns simply begin statements strong action verbs describe did', 'key words experience knowledge honest exaggerate skills', 'always proofread resume send xcobjectives objective statement one two line statement career job search goal', 'used place longer summary likely candidate little experience related target position', 'objective specific type position field youre applying focus contribute position company want gain experience', 'note following samples reference purposes copy', 'management seeking entry level management position responsibilities including problem solving planning organizing managing budgets', 'admin administrative position area rehabilitation geriatric healthcare utilizing knowledge clinical community patient services', 'teaching position elementary school teacher utilize strong teaching abilities create nurturing motivational stimulating learning environment help children achieve potential', 'criminal justice seeking full time position field criminal justice education initiative succeed desire serve value administering safeguarding criminal judicial processes', 'tech support position utilizing training hands experience mis help desk services technical support customer service', 'accounting seeking entry level position staff accountant utilizing outstanding analytical accounting leadership skills', 'xcsummaries summary takes place objective statement candidate relevant experience field applying', 'summary longer objective highlights desired position relevant qualifications', 'note following samples reference purposes copy', 'samples based examples presented modernize resumes cover letters wendy enelow louise kursmark resume writing academy career thought leaders consortium', 'modern style health social service manager mental health program coordinator xexx social worker case manager bilingual english spanish healthcare leader delivering top notch health social service outreach rural urban communities since forensic science technician passion science discovery bs biology criminology experience collecting identifying classifying analyzing physical evidence classroom projects criminal investigation internship study abroad', 'programmer analyst software developer analytical thinker years experience healthcare pharmaceutical industry', 'technical expertise includes command interpreters xexxa mysql software xexxa iea software emerald xexxa microsoft access microsoft visual basic xexxa c xexxa python xexxa html xexxa javascript accounting finance taxation audit xefxxa financial planning investment intuit quickbooks xefxxa erp software xefxxa oracle peoplesoft xefxxa ms excel xefxxa hr block tax software traditional style outgoing articulate excellent people skills', 'frequently commended communication interaction skills customers colleagues', 'proven ability learn retain apply new information quickly solid academic employment achievements', 'leadership abilities', 'consistently gained increased responsibility employment history academic pursuit', 'sound judgment solid decision making skills', 'detail oriented high energy chemical engineering graduate keen problem solving analytical skills evidenced ability provide analysis recommendations improve plant operations', 'strong interpersonal planning organizational skills demonstrated chemical engineering internships', 'contribute independently part team coordinate manage products ranging floor layout designs thermodynamic calculations reproduction obsolete parts', 'excellent performance records personal reviews three previous co op positions', 'xcrelevant courses relevant courses section used resume need demonstrate knowledge industry little relevant work experience', 'choose impressive courses try avoid listing entry level ones', 'section best paired academic projects section', 'together sections excellent way utilize degree job goal', 'format section simply list classes using multiple columns', 'course numbers descriptions grades necessary', 'note following samples reference purposes copy', 'two column sample relevant courses financial accounting calculus macroeconomics management accounting business finance organizational development three column sample relevant courses digital circuits hardware modeling vlsi design information security advanced systems numerical analysis digital logic computer graphics automata theory xcacademic projects academic projects used demonstrate knowledge area industry little experience', 'anything done class except tests presented project', 'examples include presentations papers group work case studies research', 'academic projects written active voice using strongest action verbs possible', 'suggested format include title keep overview two three lines providing enough information prospective employer ask questions', 'project depth present two three lines use two three bulleted statements instead paragraph format', 'note following samples reference purposes copy', 'software engineering group project designed library catalog web system using tier client server model', 'presented project plan software requirement specification non functional specification detailed case analysis technical specification test plan', 'java programming project computed united states golf association handicap index number golf players designing simple install easy use application', 'created user friendly interface input players performances display handicap', 'comparison accounting systems researched compared accounting systems two international companies determine long term strategic direction make financial recommendations improving revenue', 'investment management managed investment portfolio stock trak simulation', 'determined successful investment strategies tested theories researched various markets', 'psychology research project investigated psychophysiology schema depression young adolescents', 'conducted physiological measurement clinical diagnostic interviewing determine patterns behavior', 'd graphic design project created d model skeletal infrastructure story building intricate detail using maya software', 'ensured measurement layout accuracy careful architectural research', 'xcresultaccomplishment statements result accomplishment statements used describing previous experience show employer written proof results achievements successes', 'demonstrate unique add value potential position citing specific examples', 'simply listing duties responsibilities job description enough focus actually efforts impacted position project organization', 'help get mindset writing result accomplishment statements ask questions purpose work work relevant organization goals contributing value benefit add go beyond basic job duties compared others position stand work save timemoney increase customer satisfaction designimprove process policy etc achieve less complete something ahead schedulebudget receive promotion andor recognition employment consistently maintain hit personal company goals quotas note following samples reference purposes copy', 'develop result accomplishment statements using several methods described soar statement action action verb occurrence action often action occurredtook place daily weekly annually etc', 'amount action much many m etc', 'result action resultoutcome efforts increased decreased designed saved implemented etc', 'statement managed technical crew occurrence managed technical crew daily basis amount managed technical crew people daily basis result managed technical crew people daily basis increased production quarters row parcar problemchallenge problemchallengeopportunity action action taken solve problem result result outcome efforts star situationtask situation task hand action action taken result result action taken additional resultaccomplishment statement examples selected freshman orientation leader acclimated new students college environment guided tours campus presentations day period', 'led member team project collected new hire data employers dallas fort worth metroplex', 'redesigned company accounting payroll systems implementing new electronic reporting system decreased turnaround time reimbursements', 'trained new insurance agents month time frame legal ethical regulatory aspects insurance securities sales', 'innovated blood drive volunteer system increased student faculty participation', 'recognized promoted assistant sales manager within year consistent customer service oriented attitude product knowledge leadership capabilities', 'xctransferable skills obtained many skills throughout life working student participating extracurricular activities even personal experiences contributed skill set', 'skills apply many different jobs areas called transferable skills', 'especially handy use relevant work experience changing career paths', 'incorporating work experience section help showcase applicable skills offer employer', 'remember simply listing skills enough', 'must include used skills order prove possess show relevant applicable employer', 'list transferable skills help get started', 'communication speaking effectively listening attentively writing concisely editing providing appropriate feedback perceiving nonverbal messages facilitating group discussion expressing ideas negotiating persuading speaking foreign language reporting information describing feelings research planning creating ideas setting goals forecasting analyzing extracting information identifying resources developing strategies predicting outcomes gathering information synthesizing data solving problems defining needs human relations developing rapport sensitive counseling asserting perceiving feelings situations providing support others delegating respect conveying feelings representing others cooperating motivating listening organization management leadership initiating new ideas decision making others managing groups delegating responsibility managing conflict selling ideas products coaching handling details coordinating tasks promoting change counseling teaching work survival punctual meeting goals cooperating organizing attending detail enforcing policies making decisions enlisting help setting meeting deadlines implementing decisions accepting responsibility managing time xctransferable skills samples examples use transferable skills improve basic job descriptions prove employer possess relevant job related skills', 'remember focus results accomplishments rather simply listing duties responsibilities', 'note following samples reference purposes copy', 'server provided customer service customers', 'gained maintained clientele regular customers reputation excellent server', 'sold desserts appetizers customers', 'effectively utilized marketing strategies upsell items become top seller section', 'front desk worker helped events', 'recruited director two consecutive years organize promote school wide participation departments annual program', 'interacted customers', 'interacted customers speaking clearly ensure proper communication policies', 'sales associate responsible opening closing store keyholder', 'fast track promotion sales associate keyholder exceptional communication skills devotion promoting stores brand', 'sold shoes purses accessories', 'exceeded daily sales goals regularly serving customers day high customer satisfaction rating', 'camp counselor worked summers girl scout camp', 'supervised girl scout camps area developing study skills fostering creativity encouraging appreciation outdoors', 'taught valuable skills', 'worked upper management teach risk youth leadership teamwork skills', 'xcaction verbs describing current job project use verbs describing past job project make sure change verbs past tense endings', 'bolded words especially good describing accomplishments', 'management leadership administer analyze appoint delegate develop direct generate handle hire lead manage mediate outline oversee plan resolve review schedule communication address arbitrate correspond define incorporate interact persuade present speak transcribe organization approve arrange distribute execute operate order retrieve schedule assign eliminate improve merge preside strengthen arrange develop interpret promote translate categorize file organize screen author direct lecture propose verbalize catalog generate outline specify attain enhance incorporate moderate prioritize supervise chair ensure increase motivate produce support authorize draft market publicize write collaborate edit mediate reconcile classify implement prepare systematize consolidate establish initiate negotiate recommend transition collect incorporate process standardize contract evaluate institute organize recruit unify communicate enlist moderate recruit compile inspect purchase tabulate research clarify collect critique diagnose evaluate examine extract interview investigate organize review summarize survey coordinate execute interview originate reorganize compose formulate motivate report condense maintain record update convince influence negotiate resolve define monitor report validate identify inspect interpret technical assemble build calculate compute design devise engineer fabricate maintain operate overhaul program remodel repair solve train troubleshoot upgrade financial administer allocate analyze appraise audit balance budget calculate compute develop forecast manage market plan project research reconcile report target helping teamwork advocate aid assess clarify coach collaborate contribute counsel demonstrate diagnose educate ensure expedite facilitate familiarize guide mediate moderate participate refer represent resolve support volunteer unite creative act compose conceptualize create customize design develop direct establish fashion found illustrate initiate institute integrate introduce invent market originate perform plan promote propose revitalize shape transform xcadditional verbs teaching accomplish achieve adapt advance complete conduct consult deliver encourage expand explain focus install instruct involve launch provide publish receive reduce select serve set goals solidify test travel tutor utilize advise discover group network restore sponsor validate articulate distinguish guide nominate restructure stimulate venture assist diversify influence observe reverse streamline verify additional verbs engineering computer science abstract acquire add advertise answer anticipate assess audit augment bolster buy brief charter check combine compare compile conceive convert cooperate copy correlate cultivate deal detect determine discriminate dispatch display dissect drive earn empathize enforce enlighten enlist experiment explore express finance fix follow give govern help imagine improvise inaugurate listen keep lay learn level lift maintain manage manipulate map master maximize meet minimize model modify narrate offer plant practice predict protect prove query rank rationalize read reason relate rely scan scheme sell solicit specialize spread supervise sustain symbolize synthesize talk theorize visualize commend enable inform obtain revise study work apply bring conserve debate document estimate foster index locate measure overcome question respond strategize trace compete encounter innovate participate reward teach appraise care construct debug draw exceed gain indicate log memorize perceive raise revamp stress transmit ascertain charge contract decide drive excel gather judge make mentor perfect run save succeed verify active adjectives adjectives perfect job search document need describe accomplishments', 'remember resume', 'e active attentive determined enterprising adaptable bright diligent enthusiastic adaptive committed diplomatic exceptional adept aggressive altruistic analytical ambitious assertive competent conscientious consistent creative dedicated dependable disciplined discreet dynamic effective efficient energetic experienced f p fair faithful familiar firm generous honest independent innovative keen logical loyal mature methodical motivated objective organized outgoing passionate persistent pleasant positive practical productive professional r z receptive reliable resilient resourceful respectful quick witted self confident self motivated self reliant self starter sensitive sharp sincere skilled skillful strong studious successful tactful team player tenacious trustworthy understanding well organized xcreference page references separate document resume', 'best ask permission listing someone reference', 'receive permission provide copy resume reference refer prospective employer calls', 'list references use font format margins name contact information reference document used resume present uniform package', 'possible references include former managerssupervisors colleagues important customers business associates professors compile following information prospects name positioncompany town state zip phone email sample jane doe deer forest street plano tx janedoeemailutdcom reference list artemis fowl entrepreneur tara ireland fowlisfairaaaeee prof', 'severus snape professor potions dark arts hogwarts school witchcraft wizardry london england h gs snapeaaaeee james sunderland employee lakeview hotel silent hill tx pyramidheadaaaeee roland deschain gunslinger dark tower dallas tx seekingsusanaaaeee xcresume samples attention following resumes reference purposes copying word word form academic dishonesty', 'imperative resume information reflect skills abilities experience', 'strongly recommended templates boilerplate wording avoided create strong effective resume', 'provide false information copy wording sources', 'xcsample best utilized distinguish relevant non relevant work experience sample based resume best resumes college students new grads louise m', 'kursmark', 'raphael giovanni midwich ln', 'xexxa fremont ne xexxa xexxa giovanniemailcom social studies teacher grades teaching training experience schools business', 'competent results oriented instructor able motivate students differing abilities achieve true potential', 'xefxx certified teach history political science geography economics sociology psychology xefxx strengths integrated curriculum multicultural service learning special needs students xefxx classroom media powerpoint internet research education honors bachelor arts education social science field endorsement university nebraska lincoln ne deans list gpa', 'may teaching experience student teacher grades xexxa dunwich public schools dunwich ne xefxx taught world history american history sociology students', 'xefxx instructed students research political parties develop platforms debate ideas', 'student practicum grades xexxa alchemilla middle school fremont ne master level tutor undergraduates xexxa university nebraska lincoln ne student mentor grade xexxa aperture science middle school fremont ne xefxx created taught unit louisiana purchase students', 'xefxx increased awareness economically disadvantaged persons planning implementation service learning project', 'xefxx certified international college reading learning association', 'xefxx tutored students history political science sociology geography', 'xefxx trained several new tutors workshops implemented new learning programs', 'xefxx tutored student adhd english math science history', 'xefxx implemented creative learning techniques resulted student passing exams', 'computer language skills ms office internet research windowsmac proficient german additional work experience shift managercrew member xexxa flet woods eatery fremont ne present xefxx managed five employees including hiring training scheduling', 'xefxx balanced daily receipts deposited cash bank', 'discovered fixed mechanical error resulting savings', 'xcsample best utilized display relevant experience sample based resume best resumes college students new grads louise m', 'kursmark', 'talia ross massachusetts', 'taliaemailcom profile detail oriented high energy chemical engineering graduate keen problem solving analytical skills evidenced ability provide analysis recommendations improve plant operations', 'strong interpersonal planning organizational skills demonstrated chemical engineering internships', 'contribute independently part team coordinate manage products ranging floor layout designs thermodynamic calculations reproduction obsolete parts', 'excellent performance records personal reviews three previous co op positions', 'education bachelor science chemical engineering minor psychology miskatonic university arkham massachusetts gpa', 'december intern experience engineering co op herbert west biotechnology arkham massachusetts maintenance engineering department january may researched specifications large batch mixer capital project collaborated across business functions develop engineering operating requirements startup installation', 'facilitated meetings approval design assembly new polyfilm applicator', 'performed troubleshooting necessary field changes', 'collaborated team members reengineer bulk powder flow hopper material improving speed production process', 'maintenance engineering department august december gathered calculated daily loadings cooling tower water chiller ensure adequate amounts current usages', 'designed backup system emergency situations', 'developed layout designs plant utilities room house installation new vacuum system made improvements existing system', 'compiled information causes chemical tote pump failures developed solutions reducing breakdown frequency', 'production department may august redesigned plant pigment room layout accommodate new scales equipment', 'worked extensively updating new plant systems pids built drawings', 'modified pump controls meet operating procedures required osha', 'technical skills tools chemcad xexxa c xexxa engineers aide sinet xexxa thermal analysis systems energy analyst catalytic reactors xexxa plate filter press xexxa agitatorsmixers xexxa vial handling systems activities leadership miskatonic university chapter habitat humanity xexxa leadershape institute xcsample best utilized highlight academic achievements scholarshipaward applications sample based resume best resumes college students new grads louise m', 'kursmark', 'sten r', 'stewart fusrodah blvd', 'apt', 'fairfield ct', 'stenyahoocom summary accomplished well rounded college professional seeking summer fellowship government public policy', 'enthusiastic energetic contributor student government mentoring programs strengths including leadership problem solving cross cultural communications education honors bs', 'government public policy fairfield university fairfield ct', 'gpa', 'recipient aramark fellowship spring recipient academic excellence scholarship selected collegium v fairfield universitys honors program may relevant coursework us', 'foreign relations moot court honors class government political communication political policy process procedures leadershiporganizational activities chair academic affairs committee student government association present instrumental various projects including surveying students persuading administration implement new foreign language curriculum', 'currently involved initiatives advanced placement credit selected classes establishing campus radio station', 'senator executive committee student government association elected senator two consecutive terms', 'collaborated president vice president senate chairs establish effective processesprocedures within committee partnering campus organizations', 'orientation team member new students program completed preparatory class included leadership skills training', 'participated coordination orientation programs facilitate transition freshmen transfer graduate students university well freshmen camp emerging leadership program', 'served mentor students assisted transitionacademic issues', 'fellowship special assistant united nations information centre washington dc spring awarded aramark fellowship fairfield university', 'produced reports congressional hearings conferences lectures relating united nations activities', 'researched non profit organizations applying ngo status un prepared information updates un conference sustainable finance', 'work experience cashier whole foods fairfield ct xcsample best utilized highlight academic projectscourses littleno work experience merrill woodward mirrorlane circle richardson tx merrillgmailcom objective obtain internship software engineering preferably object oriented development utilizing excellent problem solving critical thinking communication skills', 'education bs computer science', 'gpa', 'university texas dallas richardson tx expected december business', 'gpa', 'collin college mckinney tx may computer skills languages c c assembly language matlab simulink operating systems unix solaris ms dos windows versions packages ms office html', 'hardware vhdl spice relevant coursework signals systems probability statistics digital circuits systems control communications systems electromagnetic engineering digital signal processing microwave circuits systems academic projects software engineering group project designed library catalog web system using tier client server model', 'presented project plan software requirement specification non functional specification detailed case analysis technical specification test plan', 'java programming project computed united states golf association handicap index number golf players designing simple toinstall easy use application', 'created user friendly interface input players performances display handicap', 'activities member ieee ut dallas member emerging leaders program ut dallas visa status availability f available spring fall present xcsample best utilized applying campus positions susan b', 'green robin ln', 'richardson tx sbgutdallasedu objective obtain part time campus position utilizing outstanding customer service organizational leadership skills', 'education bs computer science university texas dallas richardson tx expected may work experience customer service representative may present kohls department stores richardson tx provide efficient customer service accurately manage register transactions balance reconcile daily cash receipts transactions assist training new employees showing necessary procedures company technical language skills familiar microsoft word excel access experience multi line phone systems proficient spanish community involvement volunteer present habitat humanity participate various builds throughout dfw area sell donated materials habitats restore support construction homes activities president ut dallas emerging leaders program present member ieee present secretary crush crew xcsample best utilized changing careers gaps work history sample based resume resume magic susan britton whitcomb grace colterman riversong drive selton alabama gracegmailcom customer service manager communications xefxxa sales xefxxa administration bilingual english spanish professional years experience training program management customer relations supervision', 'professional experience communications public relations advertising training staff development xefxxa degree public relationsjournalism completed comprehensive training public relations including advanced coursework mass communications newswriting editing advertising media graphic arts', 'xefxxa writingverbal skills excellent communication skills effective customer communications proposals correspondence flyers newsletters internal communications public speaking', 'xefxxa staff development successfully coordinated implemented monthly training programs assessed learning needs created curriculum presented instruction secured nationally recognized guest speakers', 'xefxxa background educator able provide client centered interactive training sessions emphasizing practical applications customer education andor staff development', 'sales presentations negotiations customer relations event planning fund raising xefxxa persuasive communicator made formal presentations boards decision makers sold new program ideas secured approval funding', 'demonstrated ability sell varied products floater upscale retailer generated daily sales equal experienced sales associates', 'xefxxa customer relations selected management liaison troubleshooter resolve concerns coworkers external customers vendors', 'xefxxa event planning organized well received special events work community volunteer capacities', 'planned events', 'initiated fund raising projects offset reduction state funding', 'administration program management planning development budgeting supervision xefxxa management held direct accountability planning staffing facilities management coordination education program enrollees instructors', 'hired placed evaluated certified instructors', 'xefxxa program development created successful programs business school partnerships volunteerism community outreach concept development implementation multiple sites', 'xefxxa planning served cross functional team conducted strategic planning developed budgets excess determined programming ensured compliance school site serving students', 'employment history education site administrator alton unified school district teacher dunder mifflin union school district bachelor arts public relationsjournalism university alabama']\n"
     ]
    }
   ],
   "source": [
    "print(\"example of a long resume:\")\n",
    "print(\"resume number 28\")\n",
    "print(\"resume length: {} sentences\".format(len(elmo_in[28])))\n",
    "print(elmo_in[28])"
   ]
  },
  {
   "cell_type": "code",
   "execution_count": 19,
   "metadata": {},
   "outputs": [
    {
     "name": "stdout",
     "output_type": "stream",
     "text": [
      "min: 1\n",
      "max: 1250\n",
      "median: 20.0\n",
      "mean: 44.66858080393765\n",
      "stdev: 95.13732618693363\n"
     ]
    }
   ],
   "source": [
    "print('min: {}'.format(np.amin(lengths)))\n",
    "print('max: {}'.format(np.amax(lengths)))\n",
    "print('median: {}'.format(np.median(lengths)))\n",
    "print('mean: {}'.format(np.mean(lengths)))\n",
    "print('stdev: {}'.format(np.std(lengths)))\n"
   ]
  },
  {
   "cell_type": "code",
   "execution_count": 20,
   "metadata": {},
   "outputs": [],
   "source": [
    "lengths_copy = lengths.copy()\n"
   ]
  },
  {
   "cell_type": "code",
   "execution_count": 21,
   "metadata": {},
   "outputs": [],
   "source": [
    "elmo_in_smalls = elmo_in.copy()"
   ]
  },
  {
   "cell_type": "code",
   "execution_count": 22,
   "metadata": {},
   "outputs": [],
   "source": [
    "elmo_in_smalls = elmo_in_smalls.tolist()"
   ]
  },
  {
   "cell_type": "code",
   "execution_count": 23,
   "metadata": {},
   "outputs": [
    {
     "data": {
      "text/plain": [
       "list"
      ]
     },
     "execution_count": 23,
     "metadata": {},
     "output_type": "execute_result"
    }
   ],
   "source": [
    "type(elmo_in_smalls)"
   ]
  },
  {
   "cell_type": "code",
   "execution_count": 24,
   "metadata": {},
   "outputs": [],
   "source": [
    "for i in elmo_in_smalls:\n",
    "    if len(i) > 100:\n",
    "        elmo_in_smalls.remove(i)\n",
    "    if len(i) <2:\n",
    "        elmo_in_smalls.remove(i)\n",
    "\n",
    "#elmo_in_smalls"
   ]
  },
  {
   "cell_type": "code",
   "execution_count": 25,
   "metadata": {},
   "outputs": [
    {
     "name": "stdout",
     "output_type": "stream",
     "text": [
      "[0]  ['john h', 'smith phr', 'po box callahan fl infogreatresumesfastcom approachable innovator passion human resources', 'senior human resources professional personable analytical flexible senior hr professional multifaceted expertise', 'seasoned benefits administrator extensive experience working highly paid professionals client relationship based settings', 'dynamic team leader capable analyzing alternatives identifying tough choices communicating total value benefit compensation packages senior level executives employees', 'core competencies benefits administration customer service cost control recruiting acquisition management compliance reporting retention professional services domestic international benefits collaboration adaptability change management defined contribution plans auditing negotiation corporate hr policies full lifecycle training k form confidential files eeo aap fmla std ltd h b visa vets eap processing payroll hr technology hris data management auditing ultipro back office ultipro web connect deltek costpoint deltek gcs premiere cognos adp professional experience human services inc', 'tampa fl present providing institutional behavioral health medical management contracting services employees benefits manager manage administer robust m health welfare program administer benefits programs two smaller minority business enterprise clients', 'deliver excellence client services leveraging interpersonal skills establish rapport team members', 'perform cost analysis gather claims data coordinate enrollment large selffunded medical plan plus two smaller fully insured plans', 'analyze data projections create forecasts narrative graph format clearly succinctly communicate trends senior management meetings', 'directly supervise staff hr admin plus two human resource specialists', 'lead healthcare reform change management process analyzing changes developing strategic plans timeline crucial decisions ahead deadlines', 'communicate early changes dependent coverage preventive care lifetime maximum benefits employees', 'identified researched implemented hsa healthcare savings account health insurance option high deductible health insurance plan provide tax sheltered benefits physicians high income highprofile professionals', 'saved k annually restructuring open enrollment strategy leveraging existing human capital hr business partners achieve better communication lower cost', 'quickly establish rapport employees balance client relationship needs organizational goals cost controls compliance requirements create positive work environment', 'maximize employee recruiting retention implementing competitive benefits packages clearly communicating value team members', 'reduced costs k per year collaborating closely legal department create house total comp statement including implications taxes social security produced better quality analysis lower costs', 'xcjohn h', 'smith phr', 'page infogreatresumesfastcom approachable innovator passion human resources', 'human management inc', 'atlanta ga nonprofit government consulting firm domestic international employees senior human resources generalist performed diverse human resources functions administered benefits led special projects updated policies collaborated eeo vets affirmative action plan aap reporting', 'revamped orientation training programs newly hired employees include comprehensive information delivered personal formats teleconferences small group meetings tours one one conversations follow phone calls', 'supervised hr assistant temporary human resource specialists handling high volume work peak periods open enrollment company merger', 'led change management process seamlessly integrated benefits compensation retirement plans logistics newly acquired company employees prepared encompassing reports total compensation plans', 'developed webinars personal meetings communicate value benefits employees despite reductions economic recession maintained employee retention job satisfaction rankings despite cutbacks', 'reduced overall benefit costs including decrease std benefits base compensation without significant increase employee turnover', 'researched procured benefits government contractors traveling hazardous areas including kidnap ransom kr increased life insurance travel insurance', 'identified implemented medical dental benefit plans ensure comparable compensation international employees worldwide', 'managed diverse retirement plans including defined contribution b a executive b plans', 'abc corporation new york ny engineering construction consulting international domestic employees senior human resources generalist acme inc', 'washington dc', 'professional services consulting firm employees hr generalist benefits specialist human resource corporation tampa fl environmental management consulting firm employees human resources assistant education certification affiliation bachelor science psychology community college professional human resources phr certificate employee benefit specialist cebs certification pending member shrm society human resource management']\n"
     ]
    }
   ],
   "source": [
    "print('[0] ',elmo_in_smalls[0])"
   ]
  },
  {
   "cell_type": "code",
   "execution_count": 26,
   "metadata": {},
   "outputs": [
    {
     "name": "stdout",
     "output_type": "stream",
     "text": [
      "[0][3]  <class 'str'> 112 senior human resources professional personable analytical flexible senior hr professional multifaceted expertise\n"
     ]
    }
   ],
   "source": [
    "print('[0][3] ', type(elmo_in_smalls[0][3]), len(elmo_in_smalls[0][3]), elmo_in_smalls[0][3])"
   ]
  },
  {
   "cell_type": "code",
   "execution_count": 27,
   "metadata": {},
   "outputs": [
    {
     "name": "stdout",
     "output_type": "stream",
     "text": [
      "7 1 o\n",
      "8 3 \n",
      "8 4 \n",
      "8 5 \n",
      "8 6 \n",
      "8 7 \n",
      "8 15 \n",
      "8 17 \n",
      "8 25 c\n",
      "8 29 f\n",
      "8 41 \n",
      "25 38 \n",
      "30 3 \n",
      "30 4 \n",
      "30 5 \n",
      "30 6 \n",
      "30 7 \n",
      "30 15 \n",
      "30 17 \n",
      "30 25 c\n",
      "30 29 f\n",
      "30 41 \n",
      "33 3 \n",
      "33 4 \n",
      "33 5 \n",
      "33 6 \n",
      "33 7 \n",
      "33 15 \n",
      "33 17 \n",
      "33 25 c\n",
      "33 29 f\n",
      "33 41 \n",
      "43 6 \n",
      "43 24 \n",
      "45 39 \n",
      "54 15 \n",
      "59 9 \n",
      "59 17 p\n",
      "70 34 \n",
      "70 51 \n",
      "70 59 \n",
      "70 68 \n",
      "70 85 \n",
      "85 4 \n",
      "85 5 \n",
      "95 33 \n",
      "108 55 \n",
      "119 8 j\n",
      "128 2 \n",
      "135 31 \n",
      "156 5 \n",
      "156 11 \n",
      "156 18 \n",
      "156 20 \n",
      "156 22 \n",
      "156 36 \n",
      "156 39 \n",
      "156 43 \n",
      "156 46 \n",
      "159 13 \n",
      "159 63 \n",
      "160 11 a\n",
      "160 15 a\n",
      "160 27 p\n",
      "160 40 a\n",
      "165 20 \n",
      "167 6 \n",
      "167 7 \n",
      "168 16 \n",
      "174 21 \n",
      "174 23 \n",
      "185 22 \n",
      "187 6 \n",
      "187 7 \n",
      "188 24 \n",
      "190 74 \n",
      "192 42 m\n",
      "201 2 \n",
      "201 31 \n",
      "204 3 \n",
      "207 11 \n",
      "212 6 \n",
      "212 8 \n",
      "214 12 \n",
      "216 18 \n",
      "217 16 \n",
      "221 3 \n",
      "222 5 \n",
      "229 24 \n",
      "233 7 \n",
      "233 21 \n",
      "233 22 \n",
      "233 28 \n",
      "233 39 \n",
      "233 40 \n",
      "245 1 g\n",
      "254 37 \n",
      "260 4 \n",
      "263 21 \n",
      "263 46 \n",
      "263 57 \n",
      "263 66 \n",
      "263 82 \n",
      "263 84 \n",
      "263 86 \n",
      "263 88 \n",
      "266 5 \n",
      "266 7 \n",
      "266 9 \n",
      "266 11 \n",
      "266 13 \n",
      "266 15 \n",
      "266 17 \n",
      "266 19 \n",
      "266 31 \n",
      "268 4 \n",
      "274 16 \n",
      "275 16 \n",
      "284 2 o\n",
      "288 1 \n",
      "288 2 \n",
      "288 3 \n",
      "291 48 d\n",
      "291 51 h\n",
      "292 50 q\n",
      "292 120 \n",
      "292 122 \n",
      "292 128 \n",
      "292 131 \n",
      "292 133 \n",
      "292 139 \n",
      "292 143 \n",
      "292 147 \n",
      "292 151 \n",
      "292 183 \n",
      "292 193 \n",
      "292 229 \n",
      "292 274 \n",
      "302 50 p\n",
      "302 53 \n",
      "302 62 \n",
      "302 68 \n",
      "302 72 p\n",
      "302 75 \n",
      "302 80 r\n",
      "302 83 \n",
      "302 88 \n",
      "302 96 \n",
      "302 98 m\n",
      "302 103 s\n",
      "302 105 \n",
      "302 107 w\n",
      "302 113 d\n",
      "302 115 \n",
      "302 117 e\n",
      "302 123 j\n",
      "302 125 \n",
      "302 127 m\n",
      "302 132 m\n",
      "302 134 \n",
      "302 141 \n",
      "302 145 p\n",
      "302 147 \n",
      "302 151 \n",
      "302 154 r\n",
      "302 156 \n",
      "302 159 s\n",
      "302 161 \n",
      "302 164 p\n",
      "302 166 \n",
      "302 169 \n",
      "302 171 s\n",
      "302 177 m\n",
      "302 179 \n",
      "302 182 \n",
      "302 185 p\n",
      "302 187 \n",
      "302 190 \n",
      "302 193 \n",
      "302 196 j\n",
      "302 198 \n",
      "302 201 b\n",
      "302 203 \n",
      "302 205 j\n",
      "302 211 j\n",
      "302 213 \n",
      "302 216 \n",
      "302 219 b\n",
      "302 221 \n",
      "302 223 m\n",
      "302 230 b\n",
      "302 232 \n",
      "302 235 \n",
      "302 238 \n",
      "302 240 d\n",
      "302 246 \n",
      "302 253 \n",
      "302 255 b\n",
      "302 260 \n",
      "302 262 b\n",
      "302 269 \n",
      "302 271 j\n",
      "302 277 \n",
      "302 280 \n",
      "302 283 \n",
      "302 289 \n",
      "302 293 h\n",
      "302 295 \n",
      "302 299 \n",
      "302 304 \n",
      "302 317 \n",
      "307 2 o\n",
      "310 12 \n",
      "313 21 \n",
      "319 26 \n",
      "319 28 l\n",
      "319 37 \n",
      "322 2 \n",
      "327 18 \n",
      "327 27 \n",
      "327 50 \n",
      "327 52 \n",
      "327 54 \n",
      "338 10 \n",
      "342 9 w\n",
      "343 13 l\n",
      "343 19 \n",
      "343 21 \n",
      "344 4 \n",
      "344 11 \n",
      "345 1 y\n",
      "345 5 t\n",
      "345 7 t\n",
      "345 8 o\n",
      "345 10 p\n",
      "348 3 \n",
      "348 5 \n",
      "348 16 \n",
      "348 19 \n",
      "348 28 \n",
      "349 1 \n",
      "351 14 l\n",
      "351 18 \n",
      "351 20 j\n",
      "351 48 c\n",
      "355 35 \n",
      "355 93 d\n",
      "355 112 \n",
      "356 26 l\n",
      "357 2 l\n",
      "357 5 \n",
      "358 23 \n",
      "358 28 l\n",
      "358 29 r\n",
      "358 30 \n",
      "358 32 r\n",
      "358 33 \n",
      "358 36 \n",
      "358 38 \n",
      "358 41 \n",
      "358 44 \n",
      "358 67 v\n",
      "358 72 \n",
      "358 74 v\n",
      "358 85 \n",
      "360 34 \n",
      "360 41 \n",
      "363 2 c\n",
      "368 18 \n",
      "368 27 \n",
      "368 50 \n",
      "368 52 \n",
      "368 54 \n",
      "376 91 p\n",
      "385 9 \n",
      "386 13 \n",
      "398 15 \n",
      "398 18 \n",
      "400 7 \n",
      "403 43 \n",
      "412 4 \n",
      "414 4 \n",
      "418 3 \n",
      "418 6 \n",
      "422 59 \n",
      "427 3 o\n",
      "427 28 \n",
      "427 37 \n",
      "427 41 k\n",
      "427 43 \n",
      "429 20 k\n",
      "429 241 j\n",
      "429 330 j\n",
      "429 338 j\n",
      "429 342 j\n",
      "429 345 j\n",
      "429 359 j\n",
      "430 1 \n",
      "436 11 \n",
      "437 35 \n",
      "437 44 \n",
      "437 48 \n",
      "437 66 \n",
      "437 70 \n",
      "437 74 \n",
      "437 78 \n",
      "437 79 \n",
      "437 83 \n",
      "445 9 \n",
      "445 12 \n",
      "445 14 \n",
      "455 6 \n",
      "455 9 \n",
      "455 11 \n",
      "455 13 \n",
      "455 18 \n",
      "455 29 \n",
      "464 19 \n",
      "464 22 \n",
      "464 25 \n",
      "464 28 \n",
      "464 36 \n",
      "478 24 \n",
      "478 27 \n",
      "478 73 \n",
      "478 77 \n",
      "478 82 \n",
      "478 94 \n",
      "478 158 \n",
      "484 1 \n",
      "488 13 \n",
      "488 15 \n",
      "488 18 \n",
      "488 23 \n",
      "488 28 \n",
      "525 5 \n",
      "542 9 \n",
      "551 7 \n",
      "573 26 \n",
      "578 49 \n",
      "578 50 \n",
      "578 55 \n",
      "596 33 \n",
      "597 11 \n",
      "599 13 \n",
      "603 13 r\n",
      "603 14 r\n",
      "612 93 \n",
      "612 96 \n",
      "618 51 \n",
      "619 24 \n",
      "620 4 \n",
      "620 6 \n",
      "620 9 \n",
      "620 12 \n",
      "620 14 \n",
      "620 20 \n",
      "620 22 \n",
      "620 54 \n",
      "620 60 \n",
      "625 47 \n",
      "630 56 \n",
      "630 60 \n",
      "630 82 \n",
      "641 10 \n",
      "651 1 f\n",
      "659 6 \n",
      "659 30 \n",
      "659 34 \n",
      "659 40 \n",
      "659 53 m\n",
      "660 2 \n",
      "661 20 v\n",
      "661 108 a\n",
      "661 110 a\n",
      "661 171 \n",
      "662 2 \n",
      "668 36 \n",
      "674 2 \n",
      "677 10 w\n",
      "683 2 \n",
      "689 49 \n",
      "701 18 \n",
      "701 20 \n",
      "701 22 \n",
      "701 24 \n",
      "701 26 \n",
      "701 28 \n",
      "701 30 \n",
      "701 32 \n",
      "701 36 \n",
      "701 38 \n",
      "701 42 \n",
      "701 46 \n",
      "701 48 \n",
      "701 50 \n",
      "701 52 \n",
      "701 54 \n",
      "702 2 \n",
      "702 3 \n",
      "702 4 \n",
      "704 5 \n",
      "704 8 \n",
      "715 7 \n",
      "715 9 \n",
      "715 11 \n",
      "715 15 \n",
      "715 20 \n",
      "715 23 \n",
      "715 25 \n",
      "715 27 \n",
      "715 29 \n",
      "716 15 \n",
      "720 34 \n",
      "720 35 \n",
      "720 36 \n",
      "752 31 \n",
      "758 27 \n",
      "771 9 \n",
      "771 17 p\n",
      "775 9 \n",
      "775 17 p\n",
      "785 1 \n",
      "797 3 \n",
      "797 4 \n",
      "798 6 \n",
      "798 7 \n",
      "799 13 \n",
      "804 62 \n",
      "807 87 s\n",
      "818 0 r\n",
      "820 54 \n",
      "820 60 \n",
      "822 3 \n",
      "826 3 b\n",
      "829 6 \n",
      "829 9 \n",
      "829 10 \n",
      "829 13 \n",
      "831 151 d\n",
      "834 31 \n",
      "835 5 h\n",
      "835 7 m\n",
      "835 11 h\n",
      "835 13 s\n",
      "835 30 h\n",
      "838 42 m\n",
      "841 79 \n",
      "841 86 b\n",
      "841 88 c\n",
      "841 90 \n",
      "841 93 \n",
      "841 96 \n",
      "841 102 \n",
      "841 111 \n",
      "841 149 \n",
      "841 158 \n",
      "841 165 \n",
      "841 172 \n",
      "841 180 \n",
      "842 14 \n",
      "842 22 \n",
      "845 35 s\n",
      "845 47 s\n",
      "847 42 \n",
      "849 50 s\n",
      "849 52 \n",
      "851 0 v\n",
      "859 1 \n",
      "864 16 d\n",
      "864 20 n\n",
      "864 41 j\n",
      "864 42 d\n",
      "864 44 i\n",
      "864 46 c\n",
      "864 50 \n",
      "864 51 \n",
      "866 0 \n",
      "867 26 \n",
      "867 28 \n",
      "870 62 \n",
      "871 6 \n",
      "871 7 \n",
      "871 8 \n",
      "871 29 \n",
      "872 6 b\n",
      "872 8 c\n",
      "872 10 \n",
      "872 17 a\n",
      "872 20 b\n",
      "872 22 \n",
      "872 27 \n",
      "872 29 \n",
      "872 32 \n",
      "872 37 \n",
      "872 44 \n",
      "872 49 \n",
      "872 61 p\n",
      "872 67 p\n",
      "874 6 b\n",
      "874 8 c\n",
      "874 10 \n",
      "874 17 a\n",
      "874 20 b\n",
      "874 22 \n",
      "874 27 \n",
      "874 29 \n",
      "874 32 \n",
      "874 37 \n",
      "874 44 \n",
      "874 49 \n",
      "874 61 p\n",
      "874 67 p\n",
      "877 6 b\n",
      "877 8 c\n",
      "877 10 \n",
      "877 17 a\n",
      "877 20 b\n",
      "877 22 \n",
      "877 27 \n",
      "877 29 \n",
      "877 32 \n",
      "877 37 \n",
      "877 44 \n",
      "877 49 \n",
      "877 61 p\n",
      "877 67 p\n",
      "887 4 \n",
      "891 3 j\n",
      "891 6 n\n",
      "891 7 m\n",
      "891 8 u\n",
      "892 1 j\n",
      "892 15 j\n",
      "892 26 j\n",
      "894 2 \n",
      "936 4 \n",
      "936 6 \n",
      "936 9 \n",
      "936 15 \n",
      "936 19 \n",
      "936 23 \n",
      "936 25 \n",
      "936 27 \n",
      "939 12 \n",
      "949 6 \n",
      "949 67 \n",
      "951 5 \n",
      "951 8 \n",
      "951 14 \n",
      "951 18 \n",
      "951 20 \n",
      "951 22 \n",
      "951 24 \n",
      "956 44 \n",
      "956 46 \n",
      "956 73 d\n",
      "968 0 \n",
      "977 34 \n",
      "985 15 \n",
      "1033 10 b\n",
      "1033 11 a\n",
      "1033 12 l\n",
      "1033 13 j\n",
      "1033 17 c\n",
      "1033 18 a\n",
      "1033 19 \n",
      "1033 23 s\n",
      "1033 24 c\n",
      "1033 25 g\n",
      "1033 26 s\n",
      "1033 27 e\n",
      "1033 28 b\n",
      "1033 30 s\n",
      "1033 31 c\n",
      "1033 32 g\n",
      "1033 33 s\n",
      "1033 34 e\n",
      "1033 35 b\n",
      "1041 0 m\n",
      "1041 1 a\n",
      "1050 3 a\n",
      "1058 8 \n",
      "1059 0 \n",
      "1059 3 \n",
      "1069 4 m\n",
      "1069 6 u\n",
      "1072 6 a\n",
      "1082 12 \n",
      "1087 20 v\n",
      "1087 99 \n",
      "1087 111 \n",
      "1087 136 \n",
      "1087 153 a\n",
      "1087 155 a\n"
     ]
    }
   ],
   "source": [
    "for i in range(0, len(elmo_in_smalls)):\n",
    "    for j in range (0, len(elmo_in_smalls[i])):\n",
    "        if len(elmo_in_smalls[i][j])<2:\n",
    "            print(i, j, elmo_in_smalls[i][j])\n",
    "\n"
   ]
  },
  {
   "cell_type": "code",
   "execution_count": null,
   "metadata": {},
   "outputs": [],
   "source": []
  },
  {
   "cell_type": "code",
   "execution_count": 28,
   "metadata": {},
   "outputs": [
    {
     "data": {
      "text/plain": [
       "1088"
      ]
     },
     "execution_count": 28,
     "metadata": {},
     "output_type": "execute_result"
    }
   ],
   "source": [
    "len(elmo_in_smalls)"
   ]
  },
  {
   "cell_type": "code",
   "execution_count": 29,
   "metadata": {},
   "outputs": [],
   "source": [
    "lengths_smalls = []\n",
    "for i in range(0, len(elmo_in_smalls)):\n",
    "    lengths_smalls.extend([len(elmo_in_smalls[i])])\n",
    "\n",
    "#lengths_smalls"
   ]
  },
  {
   "cell_type": "code",
   "execution_count": 30,
   "metadata": {},
   "outputs": [
    {
     "data": {
      "image/png": "[encoded data removed]",
      "text/plain": [
       "<Figure size 432x288 with 1 Axes>"
      ]
     },
     "metadata": {},
     "output_type": "display_data"
    }
   ],
   "source": [
    "# let's look at distributions of resume length\n",
    "\n",
    "plt.hist(lengths_smalls, bins=range(0, 100, 5))\n",
    "\n",
    "plt.show()\n"
   ]
  },
  {
   "cell_type": "code",
   "execution_count": 31,
   "metadata": {},
   "outputs": [],
   "source": [
    "# now we have lengths_smalls for each length\n",
    "# now we have elmo_in_smalls for each resume"
   ]
  },
  {
   "cell_type": "code",
   "execution_count": 32,
   "metadata": {},
   "outputs": [
    {
     "data": {
      "text/plain": [
       "list"
      ]
     },
     "execution_count": 32,
     "metadata": {},
     "output_type": "execute_result"
    }
   ],
   "source": [
    "type(elmo_in_smalls[0])"
   ]
  },
  {
   "cell_type": "code",
   "execution_count": 11,
   "metadata": {},
   "outputs": [],
   "source": [
    "# I have elmo saved locally\n",
    "elmo = hub.Module(\"/home/ec2-user/module/module_elmo2\", trainable=False)\n",
    "\n"
   ]
  },
  {
   "cell_type": "code",
   "execution_count": 35,
   "metadata": {},
   "outputs": [
    {
     "data": {
      "text/plain": [
       "1088"
      ]
     },
     "execution_count": 35,
     "metadata": {},
     "output_type": "execute_result"
    }
   ],
   "source": [
    "len(elmo_in_smalls)"
   ]
  },
  {
   "cell_type": "code",
   "execution_count": 36,
   "metadata": {},
   "outputs": [],
   "source": [
    "#### SAVING ELMO_IN_SMALLS\n",
    "type(elmo_in_smalls)\n",
    "# save elmo in smalls\n",
    "np_elmo_in_smalls = np.asarray(elmo_in_smalls)\n",
    "np.save('elmo_resumes_under_100_sentences', np_elmo_in_smalls) "
   ]
  },
  {
   "cell_type": "code",
   "execution_count": null,
   "metadata": {},
   "outputs": [],
   "source": []
  },
  {
   "cell_type": "code",
   "execution_count": null,
   "metadata": {},
   "outputs": [],
   "source": [
    "# first_try = []\n",
    "# for i in range(0, len(elmo_in_smalls[0])):\n",
    "#     first_try = elmo_vectors(elmo_in_smalls[0][i])\n",
    "#     print(first_try)\n",
    "\n",
    "\n",
    "#trying on elmo_in_smalls[0]\n",
    "embeddings = elmo(elmo_in_smalls[0], signature=\"default\",as_dict=True)[\"elmo\"]\n",
    "print(\"embeddings is type {} and shape {}\".format(type(embeddings), embeddings.shape))\n",
    "with tf.Session() as session:\n",
    "    session.run([tf.global_variables_initializer(), tf.tables_initializer()])\n",
    "    message_embeddings_2d = session.run(tf.reduce_mean(embeddings,axis=0))\n",
    "    print(\"message_embeddings_2d is type {} and shape {}\".format(type(message_embeddings_2d), message_embeddings_2d.shape))\n",
    "    message_embeddings_1d = tf.reduce_mean(tf.convert_to_tensor(message_embeddings_2d), axis = 0, keepdims=True)\n",
    "    print(\"message_embeddings_1d is type {} and shape {}\".format(type(message_embeddings_1d), message_embeddings_1d.shape))\n"
   ]
  },
  {
   "cell_type": "code",
   "execution_count": null,
   "metadata": {},
   "outputs": [],
   "source": [
    "with tf.Session() as sess:  print(message_embeddings_1d.eval()) "
   ]
  },
  {
   "cell_type": "code",
   "execution_count": null,
   "metadata": {},
   "outputs": [],
   "source": []
  },
  {
   "cell_type": "code",
   "execution_count": null,
   "metadata": {},
   "outputs": [],
   "source": [
    "#trying on elmo_in_smalls[1]\n",
    "embeddings1 = elmo(elmo_in_smalls[1], signature=\"default\",as_dict=True)[\"elmo\"]\n",
    "print(\"embeddings is type {} and shape {}\".format(type(embeddings1), embeddings1.shape))\n",
    "with tf.Session() as session:\n",
    "    session.run([tf.global_variables_initializer(), tf.tables_initializer()])\n",
    "    message_embeddings1_2d = session.run(tf.reduce_mean(embeddings1,axis=0))\n",
    "    print(\"message_embeddings1_2d is type {} and shape {}\".format(type(message_embeddings1_2d), message_embeddings1_2d.shape))\n",
    "    message_embeddings1_1d = session.run(tf.reduce_mean(tf.convert_to_tensor(message_embeddings1_2d), axis = 0, keepdims=True))\n",
    "    print(\"message_embeddings1_1d is type {} and shape {}\".format(type(message_embeddings1_1d), message_embeddings1_1d.shape))\n",
    "\n",
    "    "
   ]
  },
  {
   "cell_type": "code",
   "execution_count": null,
   "metadata": {},
   "outputs": [],
   "source": [
    "print(message_embeddings1_1d)"
   ]
  },
  {
   "cell_type": "code",
   "execution_count": null,
   "metadata": {},
   "outputs": [],
   "source": [
    "with tf.Session() as sess:  print(message_embeddings1_1d.eval()) "
   ]
  },
  {
   "cell_type": "code",
   "execution_count": null,
   "metadata": {},
   "outputs": [],
   "source": [
    "with tf.Session() as sess: print(cosine_similarity(message_embeddings_1d.eval(), message_embeddings1_1d.eval()))\n"
   ]
  },
  {
   "cell_type": "code",
   "execution_count": null,
   "metadata": {},
   "outputs": [],
   "source": []
  },
  {
   "cell_type": "code",
   "execution_count": null,
   "metadata": {},
   "outputs": [],
   "source": [
    "# print(\"embeddings shape: {}\".format(embeddings.shape))\n",
    "# print(\"elmo_in_smalls[0] sentences: {}\".format(len(elmo_in_smalls[0])))\n",
    "# max_sentence_length = 0\n",
    "# for i in range(0, len(elmo_in_smalls[0])):\n",
    "#     if len(elmo_in_smalls[0][i].split()) > max_sentence_length:\n",
    "#         max_sentence_length = len(elmo_in_smalls[0][i])\n",
    "                                  \n",
    "# print(\"elmo_in_smalls[0] max sentence length: {}\".format(max_sentence_length))\n"
   ]
  },
  {
   "cell_type": "code",
   "execution_count": null,
   "metadata": {},
   "outputs": [],
   "source": [
    "len(elmo_in_smalls)"
   ]
  },
  {
   "cell_type": "code",
   "execution_count": null,
   "metadata": {},
   "outputs": [],
   "source": [
    "len(elmo_in_smalls[129])"
   ]
  },
  {
   "cell_type": "code",
   "execution_count": null,
   "metadata": {},
   "outputs": [],
   "source": [
    "(100 % 100) == 0"
   ]
  },
  {
   "cell_type": "code",
   "execution_count": null,
   "metadata": {},
   "outputs": [],
   "source": []
  },
  {
   "cell_type": "code",
   "execution_count": null,
   "metadata": {},
   "outputs": [],
   "source": []
  },
  {
   "cell_type": "code",
   "execution_count": 6,
   "metadata": {},
   "outputs": [],
   "source": [
    "### try this right after imports to load elmo_in_smalls\n",
    "elmo_in_smalls = np.load('/home/ec2-user/NLP_projects/job_recommender_project/elmo_resumes_under_100_sentences.npy', allow_pickle=True).tolist()\n"
   ]
  },
  {
   "cell_type": "code",
   "execution_count": null,
   "metadata": {
    "scrolled": true
   },
   "outputs": [
    {
     "name": "stderr",
     "output_type": "stream",
     "text": [
      "\r",
      "  0%|          | 0/687 [00:00<?, ?it/s]"
     ]
    },
    {
     "name": "stdout",
     "output_type": "stream",
     "text": [
      "elmo_in_smalls[401]\n",
      "INFO:tensorflow:Saver not created because there are no variables in the graph to restore\n"
     ]
    },
    {
     "name": "stderr",
     "output_type": "stream",
     "text": [
      "\r",
      "  0%|          | 1/687 [00:07<1:26:45,  7.59s/it]"
     ]
    },
    {
     "name": "stdout",
     "output_type": "stream",
     "text": [
      "elmo_in_smalls[402]\n",
      "INFO:tensorflow:Saver not created because there are no variables in the graph to restore\n"
     ]
    },
    {
     "name": "stderr",
     "output_type": "stream",
     "text": [
      "\r",
      "  0%|          | 2/687 [00:10<1:10:49,  6.20s/it]"
     ]
    },
    {
     "name": "stdout",
     "output_type": "stream",
     "text": [
      "elmo_in_smalls[403]\n",
      "INFO:tensorflow:Saver not created because there are no variables in the graph to restore\n"
     ]
    },
    {
     "name": "stderr",
     "output_type": "stream",
     "text": [
      "\r",
      "  0%|          | 3/687 [00:17<1:11:38,  6.28s/it]"
     ]
    },
    {
     "name": "stdout",
     "output_type": "stream",
     "text": [
      "elmo_in_smalls[404]\n",
      "INFO:tensorflow:Saver not created because there are no variables in the graph to restore\n"
     ]
    },
    {
     "name": "stderr",
     "output_type": "stream",
     "text": [
      "\r",
      "  1%|          | 4/687 [00:22<1:09:27,  6.10s/it]"
     ]
    },
    {
     "name": "stdout",
     "output_type": "stream",
     "text": [
      "elmo_in_smalls[405]\n",
      "INFO:tensorflow:Saver not created because there are no variables in the graph to restore\n"
     ]
    },
    {
     "name": "stderr",
     "output_type": "stream",
     "text": [
      "\r",
      "  1%|          | 5/687 [00:26<1:00:14,  5.30s/it]"
     ]
    },
    {
     "name": "stdout",
     "output_type": "stream",
     "text": [
      "elmo_in_smalls[406]\n",
      "INFO:tensorflow:Saver not created because there are no variables in the graph to restore\n"
     ]
    },
    {
     "name": "stderr",
     "output_type": "stream",
     "text": [
      "\r",
      "  1%|          | 6/687 [00:30<55:26,  4.88s/it]  "
     ]
    },
    {
     "name": "stdout",
     "output_type": "stream",
     "text": [
      "elmo_in_smalls[407]\n",
      "INFO:tensorflow:Saver not created because there are no variables in the graph to restore\n"
     ]
    },
    {
     "name": "stderr",
     "output_type": "stream",
     "text": [
      "\r",
      "  1%|          | 7/687 [00:33<51:12,  4.52s/it]"
     ]
    },
    {
     "name": "stdout",
     "output_type": "stream",
     "text": [
      "elmo_in_smalls[408]\n",
      "INFO:tensorflow:Saver not created because there are no variables in the graph to restore\n"
     ]
    },
    {
     "name": "stderr",
     "output_type": "stream",
     "text": [
      "\r",
      "  1%|          | 8/687 [00:40<58:33,  5.17s/it]"
     ]
    },
    {
     "name": "stdout",
     "output_type": "stream",
     "text": [
      "elmo_in_smalls[409]\n",
      "INFO:tensorflow:Saver not created because there are no variables in the graph to restore\n"
     ]
    },
    {
     "name": "stderr",
     "output_type": "stream",
     "text": [
      "\r",
      "  1%|▏         | 9/687 [00:45<59:09,  5.23s/it]"
     ]
    },
    {
     "name": "stdout",
     "output_type": "stream",
     "text": [
      "elmo_in_smalls[410]\n",
      "INFO:tensorflow:Saver not created because there are no variables in the graph to restore\n"
     ]
    },
    {
     "name": "stderr",
     "output_type": "stream",
     "text": [
      "\r",
      "  1%|▏         | 10/687 [00:50<57:11,  5.07s/it]"
     ]
    },
    {
     "name": "stdout",
     "output_type": "stream",
     "text": [
      "elmo_in_smalls[411]\n",
      "INFO:tensorflow:Saver not created because there are no variables in the graph to restore\n"
     ]
    },
    {
     "name": "stderr",
     "output_type": "stream",
     "text": [
      "\r",
      "  2%|▏         | 11/687 [00:54<54:08,  4.81s/it]"
     ]
    },
    {
     "name": "stdout",
     "output_type": "stream",
     "text": [
      "elmo_in_smalls[412]\n",
      "INFO:tensorflow:Saver not created because there are no variables in the graph to restore\n"
     ]
    },
    {
     "name": "stderr",
     "output_type": "stream",
     "text": [
      "\r",
      "  2%|▏         | 12/687 [01:00<57:20,  5.10s/it]"
     ]
    },
    {
     "name": "stdout",
     "output_type": "stream",
     "text": [
      "elmo_in_smalls[413]\n",
      "INFO:tensorflow:Saver not created because there are no variables in the graph to restore\n"
     ]
    },
    {
     "name": "stderr",
     "output_type": "stream",
     "text": [
      "\r",
      "  2%|▏         | 13/687 [01:05<58:27,  5.20s/it]"
     ]
    },
    {
     "name": "stdout",
     "output_type": "stream",
     "text": [
      "elmo_in_smalls[414]\n",
      "INFO:tensorflow:Saver not created because there are no variables in the graph to restore\n"
     ]
    },
    {
     "name": "stderr",
     "output_type": "stream",
     "text": [
      "\r",
      "  2%|▏         | 14/687 [01:11<1:00:48,  5.42s/it]"
     ]
    },
    {
     "name": "stdout",
     "output_type": "stream",
     "text": [
      "elmo_in_smalls[415]\n",
      "INFO:tensorflow:Saver not created because there are no variables in the graph to restore\n"
     ]
    },
    {
     "name": "stderr",
     "output_type": "stream",
     "text": [
      "\r",
      "  2%|▏         | 15/687 [01:18<1:06:34,  5.94s/it]"
     ]
    },
    {
     "name": "stdout",
     "output_type": "stream",
     "text": [
      "elmo_in_smalls[416]\n",
      "INFO:tensorflow:Saver not created because there are no variables in the graph to restore\n"
     ]
    },
    {
     "name": "stderr",
     "output_type": "stream",
     "text": [
      "\r",
      "  2%|▏         | 16/687 [01:26<1:10:41,  6.32s/it]"
     ]
    },
    {
     "name": "stdout",
     "output_type": "stream",
     "text": [
      "elmo_in_smalls[417]\n",
      "INFO:tensorflow:Saver not created because there are no variables in the graph to restore\n"
     ]
    },
    {
     "name": "stderr",
     "output_type": "stream",
     "text": [
      "\r",
      "  2%|▏         | 17/687 [01:32<1:10:33,  6.32s/it]"
     ]
    },
    {
     "name": "stdout",
     "output_type": "stream",
     "text": [
      "elmo_in_smalls[418]\n",
      "INFO:tensorflow:Saver not created because there are no variables in the graph to restore\n"
     ]
    },
    {
     "name": "stderr",
     "output_type": "stream",
     "text": [
      "\r",
      "  3%|▎         | 18/687 [01:39<1:11:04,  6.37s/it]"
     ]
    },
    {
     "name": "stdout",
     "output_type": "stream",
     "text": [
      "elmo_in_smalls[419]\n",
      "INFO:tensorflow:Saver not created because there are no variables in the graph to restore\n"
     ]
    },
    {
     "name": "stderr",
     "output_type": "stream",
     "text": [
      "\r",
      "  3%|▎         | 19/687 [01:45<1:12:16,  6.49s/it]"
     ]
    },
    {
     "name": "stdout",
     "output_type": "stream",
     "text": [
      "elmo_in_smalls[420]\n",
      "INFO:tensorflow:Saver not created because there are no variables in the graph to restore\n"
     ]
    },
    {
     "name": "stderr",
     "output_type": "stream",
     "text": [
      "\r",
      "  3%|▎         | 20/687 [01:54<1:18:43,  7.08s/it]"
     ]
    },
    {
     "name": "stdout",
     "output_type": "stream",
     "text": [
      "elmo_in_smalls[421]\n",
      "INFO:tensorflow:Saver not created because there are no variables in the graph to restore\n"
     ]
    },
    {
     "name": "stderr",
     "output_type": "stream",
     "text": [
      "\r",
      "  3%|▎         | 21/687 [02:00<1:15:03,  6.76s/it]"
     ]
    },
    {
     "name": "stdout",
     "output_type": "stream",
     "text": [
      "elmo_in_smalls[422]\n",
      "INFO:tensorflow:Saver not created because there are no variables in the graph to restore\n"
     ]
    },
    {
     "name": "stderr",
     "output_type": "stream",
     "text": [
      "\r",
      "  3%|▎         | 22/687 [02:25<2:14:48, 12.16s/it]"
     ]
    },
    {
     "name": "stdout",
     "output_type": "stream",
     "text": [
      "elmo_in_smalls[423]\n",
      "INFO:tensorflow:Saver not created because there are no variables in the graph to restore\n"
     ]
    },
    {
     "name": "stderr",
     "output_type": "stream",
     "text": [
      "\r",
      "  3%|▎         | 23/687 [02:34<2:04:27, 11.25s/it]"
     ]
    },
    {
     "name": "stdout",
     "output_type": "stream",
     "text": [
      "elmo_in_smalls[424]\n",
      "INFO:tensorflow:Saver not created because there are no variables in the graph to restore\n"
     ]
    },
    {
     "name": "stderr",
     "output_type": "stream",
     "text": [
      "\r",
      "  3%|▎         | 24/687 [02:41<1:52:33, 10.19s/it]"
     ]
    },
    {
     "name": "stdout",
     "output_type": "stream",
     "text": [
      "elmo_in_smalls[425]\n",
      "INFO:tensorflow:Saver not created because there are no variables in the graph to restore\n"
     ]
    },
    {
     "name": "stderr",
     "output_type": "stream",
     "text": [
      "\r",
      "  4%|▎         | 25/687 [02:50<1:47:05,  9.71s/it]"
     ]
    },
    {
     "name": "stdout",
     "output_type": "stream",
     "text": [
      "elmo_in_smalls[426]\n",
      "INFO:tensorflow:Saver not created because there are no variables in the graph to restore\n"
     ]
    },
    {
     "name": "stderr",
     "output_type": "stream",
     "text": [
      "\r",
      "  4%|▍         | 26/687 [03:02<1:54:56, 10.43s/it]"
     ]
    },
    {
     "name": "stdout",
     "output_type": "stream",
     "text": [
      "elmo_in_smalls[427]\n",
      "INFO:tensorflow:Saver not created because there are no variables in the graph to restore\n"
     ]
    },
    {
     "name": "stderr",
     "output_type": "stream",
     "text": [
      "\r",
      "  4%|▍         | 27/687 [03:32<2:59:54, 16.35s/it]"
     ]
    },
    {
     "name": "stdout",
     "output_type": "stream",
     "text": [
      "elmo_in_smalls[428]\n",
      "INFO:tensorflow:Saver not created because there are no variables in the graph to restore\n"
     ]
    },
    {
     "name": "stderr",
     "output_type": "stream",
     "text": [
      "\r",
      "  4%|▍         | 28/687 [03:45<2:47:31, 15.25s/it]"
     ]
    },
    {
     "name": "stdout",
     "output_type": "stream",
     "text": [
      "elmo_in_smalls[429]\n",
      "INFO:tensorflow:Saver not created because there are no variables in the graph to restore\n"
     ]
    },
    {
     "name": "stderr",
     "output_type": "stream",
     "text": [
      "\r",
      "  4%|▍         | 29/687 [06:15<10:11:15, 55.74s/it]"
     ]
    },
    {
     "name": "stdout",
     "output_type": "stream",
     "text": [
      "elmo_in_smalls[430]\n",
      "INFO:tensorflow:Saver not created because there are no variables in the graph to restore\n"
     ]
    },
    {
     "name": "stderr",
     "output_type": "stream",
     "text": [
      "\r",
      "  4%|▍         | 30/687 [06:26<7:43:32, 42.33s/it] "
     ]
    },
    {
     "name": "stdout",
     "output_type": "stream",
     "text": [
      "elmo_in_smalls[431]\n",
      "INFO:tensorflow:Saver not created because there are no variables in the graph to restore\n"
     ]
    },
    {
     "name": "stderr",
     "output_type": "stream",
     "text": [
      "\r",
      "  5%|▍         | 31/687 [06:36<5:54:53, 32.46s/it]"
     ]
    },
    {
     "name": "stdout",
     "output_type": "stream",
     "text": [
      "elmo_in_smalls[432]\n",
      "INFO:tensorflow:Saver not created because there are no variables in the graph to restore\n"
     ]
    },
    {
     "name": "stderr",
     "output_type": "stream",
     "text": [
      "\r",
      "  5%|▍         | 32/687 [06:45<4:39:30, 25.60s/it]"
     ]
    },
    {
     "name": "stdout",
     "output_type": "stream",
     "text": [
      "elmo_in_smalls[433]\n",
      "INFO:tensorflow:Saver not created because there are no variables in the graph to restore\n"
     ]
    },
    {
     "name": "stderr",
     "output_type": "stream",
     "text": [
      "\r",
      "  5%|▍         | 33/687 [06:55<3:48:25, 20.96s/it]"
     ]
    },
    {
     "name": "stdout",
     "output_type": "stream",
     "text": [
      "elmo_in_smalls[434]\n",
      "INFO:tensorflow:Saver not created because there are no variables in the graph to restore\n"
     ]
    },
    {
     "name": "stderr",
     "output_type": "stream",
     "text": [
      "\r",
      "  5%|▍         | 34/687 [07:06<3:15:59, 18.01s/it]"
     ]
    },
    {
     "name": "stdout",
     "output_type": "stream",
     "text": [
      "elmo_in_smalls[435]\n",
      "INFO:tensorflow:Saver not created because there are no variables in the graph to restore\n"
     ]
    },
    {
     "name": "stderr",
     "output_type": "stream",
     "text": [
      "\r",
      "  5%|▌         | 35/687 [07:18<2:55:59, 16.20s/it]"
     ]
    },
    {
     "name": "stdout",
     "output_type": "stream",
     "text": [
      "elmo_in_smalls[436]\n",
      "INFO:tensorflow:Saver not created because there are no variables in the graph to restore\n"
     ]
    },
    {
     "name": "stderr",
     "output_type": "stream",
     "text": [
      "\r",
      "  5%|▌         | 36/687 [07:32<2:48:45, 15.55s/it]"
     ]
    },
    {
     "name": "stdout",
     "output_type": "stream",
     "text": [
      "elmo_in_smalls[437]\n",
      "INFO:tensorflow:Saver not created because there are no variables in the graph to restore\n"
     ]
    },
    {
     "name": "stderr",
     "output_type": "stream",
     "text": [
      "\r",
      "  5%|▌         | 37/687 [07:59<3:22:56, 18.73s/it]"
     ]
    },
    {
     "name": "stdout",
     "output_type": "stream",
     "text": [
      "elmo_in_smalls[438]\n",
      "INFO:tensorflow:Saver not created because there are no variables in the graph to restore\n"
     ]
    },
    {
     "name": "stderr",
     "output_type": "stream",
     "text": [
      "\r",
      "  6%|▌         | 38/687 [08:11<3:00:59, 16.73s/it]"
     ]
    },
    {
     "name": "stdout",
     "output_type": "stream",
     "text": [
      "elmo_in_smalls[439]\n",
      "INFO:tensorflow:Saver not created because there are no variables in the graph to restore\n"
     ]
    },
    {
     "name": "stderr",
     "output_type": "stream",
     "text": [
      "\r",
      "  6%|▌         | 39/687 [08:23<2:45:52, 15.36s/it]"
     ]
    },
    {
     "name": "stdout",
     "output_type": "stream",
     "text": [
      "elmo_in_smalls[440]\n",
      "INFO:tensorflow:Saver not created because there are no variables in the graph to restore\n"
     ]
    },
    {
     "name": "stderr",
     "output_type": "stream",
     "text": [
      "\r",
      "  6%|▌         | 40/687 [08:37<2:42:09, 15.04s/it]"
     ]
    },
    {
     "name": "stdout",
     "output_type": "stream",
     "text": [
      "elmo_in_smalls[441]\n",
      "INFO:tensorflow:Saver not created because there are no variables in the graph to restore\n"
     ]
    },
    {
     "name": "stderr",
     "output_type": "stream",
     "text": [
      "\r",
      "  6%|▌         | 41/687 [08:50<2:36:33, 14.54s/it]"
     ]
    },
    {
     "name": "stdout",
     "output_type": "stream",
     "text": [
      "elmo_in_smalls[442]\n",
      "INFO:tensorflow:Saver not created because there are no variables in the graph to restore\n"
     ]
    },
    {
     "name": "stderr",
     "output_type": "stream",
     "text": [
      "\r",
      "  6%|▌         | 42/687 [09:05<2:34:44, 14.39s/it]"
     ]
    },
    {
     "name": "stdout",
     "output_type": "stream",
     "text": [
      "elmo_in_smalls[443]\n",
      "INFO:tensorflow:Saver not created because there are no variables in the graph to restore\n"
     ]
    },
    {
     "name": "stderr",
     "output_type": "stream",
     "text": [
      "\r",
      "  6%|▋         | 43/687 [09:19<2:34:26, 14.39s/it]"
     ]
    },
    {
     "name": "stdout",
     "output_type": "stream",
     "text": [
      "elmo_in_smalls[444]\n",
      "INFO:tensorflow:Saver not created because there are no variables in the graph to restore\n"
     ]
    },
    {
     "name": "stderr",
     "output_type": "stream",
     "text": [
      "\r",
      "  6%|▋         | 44/687 [09:35<2:40:51, 15.01s/it]"
     ]
    },
    {
     "name": "stdout",
     "output_type": "stream",
     "text": [
      "elmo_in_smalls[445]\n",
      "INFO:tensorflow:Saver not created because there are no variables in the graph to restore\n"
     ]
    },
    {
     "name": "stderr",
     "output_type": "stream",
     "text": [
      "\r",
      "  7%|▋         | 45/687 [09:54<2:51:13, 16.00s/it]"
     ]
    },
    {
     "name": "stdout",
     "output_type": "stream",
     "text": [
      "elmo_in_smalls[446]\n",
      "INFO:tensorflow:Saver not created because there are no variables in the graph to restore\n"
     ]
    },
    {
     "name": "stderr",
     "output_type": "stream",
     "text": [
      "\r",
      "  7%|▋         | 46/687 [10:14<3:06:12, 17.43s/it]"
     ]
    },
    {
     "name": "stdout",
     "output_type": "stream",
     "text": [
      "elmo_in_smalls[447]\n",
      "INFO:tensorflow:Saver not created because there are no variables in the graph to restore\n"
     ]
    },
    {
     "name": "stderr",
     "output_type": "stream",
     "text": [
      "\r",
      "  7%|▋         | 47/687 [10:28<2:52:55, 16.21s/it]"
     ]
    },
    {
     "name": "stdout",
     "output_type": "stream",
     "text": [
      "elmo_in_smalls[448]\n",
      "INFO:tensorflow:Saver not created because there are no variables in the graph to restore\n"
     ]
    },
    {
     "name": "stderr",
     "output_type": "stream",
     "text": [
      "\r",
      "  7%|▋         | 48/687 [11:15<4:31:02, 25.45s/it]"
     ]
    },
    {
     "name": "stdout",
     "output_type": "stream",
     "text": [
      "elmo_in_smalls[449]\n",
      "INFO:tensorflow:Saver not created because there are no variables in the graph to restore\n"
     ]
    },
    {
     "name": "stderr",
     "output_type": "stream",
     "text": [
      "\r",
      "  7%|▋         | 49/687 [11:29<3:55:49, 22.18s/it]"
     ]
    },
    {
     "name": "stdout",
     "output_type": "stream",
     "text": [
      "elmo_in_smalls[450]\n",
      "INFO:tensorflow:Saver not created because there are no variables in the graph to restore\n"
     ]
    },
    {
     "name": "stderr",
     "output_type": "stream",
     "text": [
      "\r",
      "  7%|▋         | 50/687 [11:45<3:34:18, 20.19s/it]"
     ]
    },
    {
     "name": "stdout",
     "output_type": "stream",
     "text": [
      "elmo_in_smalls[451]\n",
      "INFO:tensorflow:Saver not created because there are no variables in the graph to restore\n"
     ]
    },
    {
     "name": "stderr",
     "output_type": "stream",
     "text": [
      "\r",
      "  7%|▋         | 51/687 [12:03<3:26:00, 19.43s/it]"
     ]
    },
    {
     "name": "stdout",
     "output_type": "stream",
     "text": [
      "elmo_in_smalls[452]\n",
      "INFO:tensorflow:Saver not created because there are no variables in the graph to restore\n"
     ]
    },
    {
     "name": "stderr",
     "output_type": "stream",
     "text": [
      "\r",
      "  8%|▊         | 52/687 [12:18<3:11:20, 18.08s/it]"
     ]
    },
    {
     "name": "stdout",
     "output_type": "stream",
     "text": [
      "elmo_in_smalls[453]\n",
      "INFO:tensorflow:Saver not created because there are no variables in the graph to restore\n"
     ]
    },
    {
     "name": "stderr",
     "output_type": "stream",
     "text": [
      "\r",
      "  8%|▊         | 53/687 [12:33<3:03:55, 17.41s/it]"
     ]
    },
    {
     "name": "stdout",
     "output_type": "stream",
     "text": [
      "elmo_in_smalls[454]\n",
      "INFO:tensorflow:Saver not created because there are no variables in the graph to restore\n"
     ]
    },
    {
     "name": "stderr",
     "output_type": "stream",
     "text": [
      "\r",
      "  8%|▊         | 54/687 [13:03<3:43:40, 21.20s/it]"
     ]
    },
    {
     "name": "stdout",
     "output_type": "stream",
     "text": [
      "elmo_in_smalls[455]\n",
      "INFO:tensorflow:Saver not created because there are no variables in the graph to restore\n"
     ]
    },
    {
     "name": "stderr",
     "output_type": "stream",
     "text": [
      "\r",
      "  8%|▊         | 55/687 [13:21<3:31:21, 20.07s/it]"
     ]
    },
    {
     "name": "stdout",
     "output_type": "stream",
     "text": [
      "elmo_in_smalls[456]\n",
      "INFO:tensorflow:Saver not created because there are no variables in the graph to restore\n"
     ]
    },
    {
     "name": "stderr",
     "output_type": "stream",
     "text": [
      "\r",
      "  8%|▊         | 56/687 [13:40<3:27:32, 19.73s/it]"
     ]
    },
    {
     "name": "stdout",
     "output_type": "stream",
     "text": [
      "elmo_in_smalls[457]\n",
      "INFO:tensorflow:Saver not created because there are no variables in the graph to restore\n"
     ]
    },
    {
     "name": "stderr",
     "output_type": "stream",
     "text": [
      "\r",
      "  8%|▊         | 57/687 [13:56<3:15:25, 18.61s/it]"
     ]
    },
    {
     "name": "stdout",
     "output_type": "stream",
     "text": [
      "elmo_in_smalls[458]\n",
      "INFO:tensorflow:Saver not created because there are no variables in the graph to restore\n"
     ]
    },
    {
     "name": "stderr",
     "output_type": "stream",
     "text": [
      "\r",
      "  8%|▊         | 58/687 [14:15<3:15:50, 18.68s/it]"
     ]
    },
    {
     "name": "stdout",
     "output_type": "stream",
     "text": [
      "elmo_in_smalls[459]\n",
      "INFO:tensorflow:Saver not created because there are no variables in the graph to restore\n"
     ]
    },
    {
     "name": "stderr",
     "output_type": "stream",
     "text": [
      "\r",
      "  9%|▊         | 59/687 [14:34<3:17:09, 18.84s/it]"
     ]
    },
    {
     "name": "stdout",
     "output_type": "stream",
     "text": [
      "elmo_in_smalls[460]\n",
      "INFO:tensorflow:Saver not created because there are no variables in the graph to restore\n"
     ]
    },
    {
     "name": "stderr",
     "output_type": "stream",
     "text": [
      "\r",
      "  9%|▊         | 60/687 [14:59<3:37:54, 20.85s/it]"
     ]
    },
    {
     "name": "stdout",
     "output_type": "stream",
     "text": [
      "elmo_in_smalls[461]\n",
      "INFO:tensorflow:Saver not created because there are no variables in the graph to restore\n"
     ]
    },
    {
     "name": "stderr",
     "output_type": "stream",
     "text": [
      "\r",
      "  9%|▉         | 61/687 [15:20<3:37:46, 20.87s/it]"
     ]
    },
    {
     "name": "stdout",
     "output_type": "stream",
     "text": [
      "elmo_in_smalls[462]\n",
      "INFO:tensorflow:Saver not created because there are no variables in the graph to restore\n"
     ]
    },
    {
     "name": "stderr",
     "output_type": "stream",
     "text": [
      "\r",
      "  9%|▉         | 62/687 [15:38<3:27:01, 19.87s/it]"
     ]
    },
    {
     "name": "stdout",
     "output_type": "stream",
     "text": [
      "elmo_in_smalls[463]\n",
      "INFO:tensorflow:Saver not created because there are no variables in the graph to restore\n"
     ]
    },
    {
     "name": "stderr",
     "output_type": "stream",
     "text": [
      "\r",
      "  9%|▉         | 63/687 [15:55<3:19:39, 19.20s/it]"
     ]
    },
    {
     "name": "stdout",
     "output_type": "stream",
     "text": [
      "elmo_in_smalls[464]\n",
      "INFO:tensorflow:Saver not created because there are no variables in the graph to restore\n"
     ]
    },
    {
     "name": "stderr",
     "output_type": "stream",
     "text": [
      "\r",
      "  9%|▉         | 64/687 [16:28<3:59:32, 23.07s/it]"
     ]
    },
    {
     "name": "stdout",
     "output_type": "stream",
     "text": [
      "elmo_in_smalls[465]\n",
      "INFO:tensorflow:Saver not created because there are no variables in the graph to restore\n"
     ]
    },
    {
     "name": "stderr",
     "output_type": "stream",
     "text": [
      "\r",
      "  9%|▉         | 65/687 [16:48<3:52:14, 22.40s/it]"
     ]
    },
    {
     "name": "stdout",
     "output_type": "stream",
     "text": [
      "elmo_in_smalls[466]\n",
      "INFO:tensorflow:Saver not created because there are no variables in the graph to restore\n"
     ]
    },
    {
     "name": "stderr",
     "output_type": "stream",
     "text": [
      "\r",
      " 10%|▉         | 66/687 [17:07<3:40:55, 21.34s/it]"
     ]
    },
    {
     "name": "stdout",
     "output_type": "stream",
     "text": [
      "elmo_in_smalls[467]\n",
      "INFO:tensorflow:Saver not created because there are no variables in the graph to restore\n"
     ]
    },
    {
     "name": "stderr",
     "output_type": "stream",
     "text": [
      "\r",
      " 10%|▉         | 67/687 [17:29<3:40:11, 21.31s/it]"
     ]
    },
    {
     "name": "stdout",
     "output_type": "stream",
     "text": [
      "elmo_in_smalls[468]\n",
      "INFO:tensorflow:Saver not created because there are no variables in the graph to restore\n"
     ]
    },
    {
     "name": "stderr",
     "output_type": "stream",
     "text": [
      "\r",
      " 10%|▉         | 68/687 [17:52<3:47:48, 22.08s/it]"
     ]
    },
    {
     "name": "stdout",
     "output_type": "stream",
     "text": [
      "elmo_in_smalls[469]\n",
      "INFO:tensorflow:Saver not created because there are no variables in the graph to restore\n"
     ]
    },
    {
     "name": "stderr",
     "output_type": "stream",
     "text": [
      "\r",
      " 10%|█         | 69/687 [18:13<3:43:28, 21.70s/it]"
     ]
    },
    {
     "name": "stdout",
     "output_type": "stream",
     "text": [
      "elmo_in_smalls[470]\n",
      "INFO:tensorflow:Saver not created because there are no variables in the graph to restore\n"
     ]
    },
    {
     "name": "stderr",
     "output_type": "stream",
     "text": [
      "\r",
      " 10%|█         | 70/687 [18:40<4:00:08, 23.35s/it]"
     ]
    },
    {
     "name": "stdout",
     "output_type": "stream",
     "text": [
      "elmo_in_smalls[471]\n",
      "INFO:tensorflow:Saver not created because there are no variables in the graph to restore\n"
     ]
    },
    {
     "name": "stderr",
     "output_type": "stream",
     "text": [
      "\r",
      " 10%|█         | 71/687 [19:01<3:52:39, 22.66s/it]"
     ]
    },
    {
     "name": "stdout",
     "output_type": "stream",
     "text": [
      "elmo_in_smalls[472]\n",
      "INFO:tensorflow:Saver not created because there are no variables in the graph to restore\n"
     ]
    },
    {
     "name": "stderr",
     "output_type": "stream",
     "text": [
      "\r",
      " 10%|█         | 72/687 [19:21<3:43:03, 21.76s/it]"
     ]
    },
    {
     "name": "stdout",
     "output_type": "stream",
     "text": [
      "elmo_in_smalls[473]\n",
      "INFO:tensorflow:Saver not created because there are no variables in the graph to restore\n"
     ]
    },
    {
     "name": "stderr",
     "output_type": "stream",
     "text": [
      "\r",
      " 11%|█         | 73/687 [19:42<3:41:22, 21.63s/it]"
     ]
    },
    {
     "name": "stdout",
     "output_type": "stream",
     "text": [
      "elmo_in_smalls[474]\n",
      "INFO:tensorflow:Saver not created because there are no variables in the graph to restore\n"
     ]
    },
    {
     "name": "stderr",
     "output_type": "stream",
     "text": [
      "\r",
      " 11%|█         | 74/687 [20:07<3:49:37, 22.48s/it]"
     ]
    },
    {
     "name": "stdout",
     "output_type": "stream",
     "text": [
      "elmo_in_smalls[475]\n",
      "INFO:tensorflow:Saver not created because there are no variables in the graph to restore\n"
     ]
    },
    {
     "name": "stderr",
     "output_type": "stream",
     "text": [
      "\r",
      " 11%|█         | 75/687 [20:29<3:48:25, 22.39s/it]"
     ]
    },
    {
     "name": "stdout",
     "output_type": "stream",
     "text": [
      "elmo_in_smalls[476]\n",
      "INFO:tensorflow:Saver not created because there are no variables in the graph to restore\n"
     ]
    },
    {
     "name": "stderr",
     "output_type": "stream",
     "text": [
      "\r",
      " 11%|█         | 76/687 [20:51<3:46:37, 22.25s/it]"
     ]
    },
    {
     "name": "stdout",
     "output_type": "stream",
     "text": [
      "elmo_in_smalls[477]\n",
      "INFO:tensorflow:Saver not created because there are no variables in the graph to restore\n"
     ]
    },
    {
     "name": "stderr",
     "output_type": "stream",
     "text": [
      "\r",
      " 11%|█         | 77/687 [21:13<3:46:05, 22.24s/it]"
     ]
    },
    {
     "name": "stdout",
     "output_type": "stream",
     "text": [
      "elmo_in_smalls[478]\n",
      "INFO:tensorflow:Saver not created because there are no variables in the graph to restore\n"
     ]
    },
    {
     "name": "stderr",
     "output_type": "stream",
     "text": [
      "\r",
      " 11%|█▏        | 78/687 [22:11<5:33:23, 32.85s/it]"
     ]
    },
    {
     "name": "stdout",
     "output_type": "stream",
     "text": [
      "elmo_in_smalls[479]\n",
      "INFO:tensorflow:Saver not created because there are no variables in the graph to restore\n"
     ]
    },
    {
     "name": "stderr",
     "output_type": "stream",
     "text": [
      "\r",
      " 11%|█▏        | 79/687 [22:41<5:24:56, 32.07s/it]"
     ]
    },
    {
     "name": "stdout",
     "output_type": "stream",
     "text": [
      "elmo_in_smalls[480]\n",
      "INFO:tensorflow:Saver not created because there are no variables in the graph to restore\n"
     ]
    },
    {
     "name": "stderr",
     "output_type": "stream",
     "text": [
      "\r",
      " 12%|█▏        | 80/687 [23:04<4:57:33, 29.41s/it]"
     ]
    },
    {
     "name": "stdout",
     "output_type": "stream",
     "text": [
      "elmo_in_smalls[481]\n",
      "INFO:tensorflow:Saver not created because there are no variables in the graph to restore\n"
     ]
    },
    {
     "name": "stderr",
     "output_type": "stream",
     "text": [
      "\r",
      " 12%|█▏        | 81/687 [23:28<4:40:55, 27.81s/it]"
     ]
    },
    {
     "name": "stdout",
     "output_type": "stream",
     "text": [
      "elmo_in_smalls[482]\n",
      "INFO:tensorflow:Saver not created because there are no variables in the graph to restore\n"
     ]
    },
    {
     "name": "stderr",
     "output_type": "stream",
     "text": [
      "\r",
      " 12%|█▏        | 82/687 [23:51<4:24:37, 26.24s/it]"
     ]
    },
    {
     "name": "stdout",
     "output_type": "stream",
     "text": [
      "elmo_in_smalls[483]\n",
      "INFO:tensorflow:Saver not created because there are no variables in the graph to restore\n"
     ]
    },
    {
     "name": "stderr",
     "output_type": "stream",
     "text": [
      "\r",
      " 12%|█▏        | 83/687 [24:16<4:20:33, 25.88s/it]"
     ]
    },
    {
     "name": "stdout",
     "output_type": "stream",
     "text": [
      "elmo_in_smalls[484]\n",
      "INFO:tensorflow:Saver not created because there are no variables in the graph to restore\n"
     ]
    },
    {
     "name": "stderr",
     "output_type": "stream",
     "text": [
      "\r",
      " 12%|█▏        | 84/687 [24:41<4:18:23, 25.71s/it]"
     ]
    },
    {
     "name": "stdout",
     "output_type": "stream",
     "text": [
      "elmo_in_smalls[485]\n",
      "INFO:tensorflow:Saver not created because there are no variables in the graph to restore\n"
     ]
    },
    {
     "name": "stderr",
     "output_type": "stream",
     "text": [
      "\r",
      " 12%|█▏        | 85/687 [25:04<4:08:39, 24.78s/it]"
     ]
    },
    {
     "name": "stdout",
     "output_type": "stream",
     "text": [
      "elmo_in_smalls[486]\n",
      "INFO:tensorflow:Saver not created because there are no variables in the graph to restore\n"
     ]
    },
    {
     "name": "stderr",
     "output_type": "stream",
     "text": [
      "\r",
      " 13%|█▎        | 86/687 [25:27<4:02:22, 24.20s/it]"
     ]
    },
    {
     "name": "stdout",
     "output_type": "stream",
     "text": [
      "elmo_in_smalls[487]\n",
      "INFO:tensorflow:Saver not created because there are no variables in the graph to restore\n"
     ]
    },
    {
     "name": "stderr",
     "output_type": "stream",
     "text": [
      "\r",
      " 13%|█▎        | 87/687 [25:50<4:00:15, 24.03s/it]"
     ]
    },
    {
     "name": "stdout",
     "output_type": "stream",
     "text": [
      "elmo_in_smalls[488]\n",
      "INFO:tensorflow:Saver not created because there are no variables in the graph to restore\n"
     ]
    },
    {
     "name": "stderr",
     "output_type": "stream",
     "text": [
      "\r",
      " 13%|█▎        | 88/687 [26:14<3:58:20, 23.87s/it]"
     ]
    },
    {
     "name": "stdout",
     "output_type": "stream",
     "text": [
      "elmo_in_smalls[489]\n",
      "INFO:tensorflow:Saver not created because there are no variables in the graph to restore\n"
     ]
    },
    {
     "name": "stderr",
     "output_type": "stream",
     "text": [
      "\r",
      " 13%|█▎        | 89/687 [26:38<3:57:11, 23.80s/it]"
     ]
    },
    {
     "name": "stdout",
     "output_type": "stream",
     "text": [
      "elmo_in_smalls[490]\n",
      "INFO:tensorflow:Saver not created because there are no variables in the graph to restore\n"
     ]
    },
    {
     "name": "stderr",
     "output_type": "stream",
     "text": [
      "\r",
      " 13%|█▎        | 90/687 [27:01<3:57:09, 23.83s/it]"
     ]
    },
    {
     "name": "stdout",
     "output_type": "stream",
     "text": [
      "elmo_in_smalls[491]\n",
      "INFO:tensorflow:Saver not created because there are no variables in the graph to restore\n"
     ]
    },
    {
     "name": "stderr",
     "output_type": "stream",
     "text": [
      "\r",
      " 13%|█▎        | 91/687 [27:27<4:00:28, 24.21s/it]"
     ]
    },
    {
     "name": "stdout",
     "output_type": "stream",
     "text": [
      "elmo_in_smalls[492]\n",
      "INFO:tensorflow:Saver not created because there are no variables in the graph to restore\n"
     ]
    },
    {
     "name": "stderr",
     "output_type": "stream",
     "text": [
      "\r",
      " 13%|█▎        | 92/687 [27:51<4:00:13, 24.22s/it]"
     ]
    },
    {
     "name": "stdout",
     "output_type": "stream",
     "text": [
      "elmo_in_smalls[493]\n",
      "INFO:tensorflow:Saver not created because there are no variables in the graph to restore\n"
     ]
    },
    {
     "name": "stderr",
     "output_type": "stream",
     "text": [
      "\r",
      " 14%|█▎        | 93/687 [28:17<4:04:34, 24.70s/it]"
     ]
    },
    {
     "name": "stdout",
     "output_type": "stream",
     "text": [
      "elmo_in_smalls[494]\n",
      "INFO:tensorflow:Saver not created because there are no variables in the graph to restore\n"
     ]
    },
    {
     "name": "stderr",
     "output_type": "stream",
     "text": [
      "\r",
      " 14%|█▎        | 94/687 [28:42<4:06:11, 24.91s/it]"
     ]
    },
    {
     "name": "stdout",
     "output_type": "stream",
     "text": [
      "elmo_in_smalls[495]\n",
      "INFO:tensorflow:Saver not created because there are no variables in the graph to restore\n"
     ]
    },
    {
     "name": "stderr",
     "output_type": "stream",
     "text": [
      "\r",
      " 14%|█▍        | 95/687 [29:08<4:09:26, 25.28s/it]"
     ]
    },
    {
     "name": "stdout",
     "output_type": "stream",
     "text": [
      "elmo_in_smalls[496]\n",
      "INFO:tensorflow:Saver not created because there are no variables in the graph to restore\n"
     ]
    },
    {
     "name": "stderr",
     "output_type": "stream",
     "text": [
      "\r",
      " 14%|█▍        | 96/687 [29:34<4:11:47, 25.56s/it]"
     ]
    },
    {
     "name": "stdout",
     "output_type": "stream",
     "text": [
      "elmo_in_smalls[497]\n",
      "INFO:tensorflow:Saver not created because there are no variables in the graph to restore\n"
     ]
    },
    {
     "name": "stderr",
     "output_type": "stream",
     "text": [
      "\r",
      " 14%|█▍        | 97/687 [30:03<4:20:08, 26.46s/it]"
     ]
    },
    {
     "name": "stdout",
     "output_type": "stream",
     "text": [
      "elmo_in_smalls[498]\n",
      "INFO:tensorflow:Saver not created because there are no variables in the graph to restore\n"
     ]
    },
    {
     "name": "stderr",
     "output_type": "stream",
     "text": [
      "\r",
      " 14%|█▍        | 98/687 [30:30<4:20:46, 26.57s/it]"
     ]
    },
    {
     "name": "stdout",
     "output_type": "stream",
     "text": [
      "elmo_in_smalls[499]\n",
      "INFO:tensorflow:Saver not created because there are no variables in the graph to restore\n"
     ]
    },
    {
     "name": "stderr",
     "output_type": "stream",
     "text": [
      "\r",
      " 14%|█▍        | 99/687 [30:57<4:22:26, 26.78s/it]"
     ]
    },
    {
     "name": "stdout",
     "output_type": "stream",
     "text": [
      "elmo_in_smalls[500]\n",
      "INFO:tensorflow:Saver not created because there are no variables in the graph to restore\n"
     ]
    },
    {
     "name": "stderr",
     "output_type": "stream",
     "text": [
      "\r",
      " 15%|█▍        | 100/687 [31:25<4:24:27, 27.03s/it]"
     ]
    },
    {
     "name": "stdout",
     "output_type": "stream",
     "text": [
      "elmo_in_smalls[501]\n",
      "INFO:tensorflow:Saver not created because there are no variables in the graph to restore\n"
     ]
    },
    {
     "name": "stderr",
     "output_type": "stream",
     "text": [
      "\r",
      " 15%|█▍        | 101/687 [31:52<4:25:43, 27.21s/it]"
     ]
    },
    {
     "name": "stdout",
     "output_type": "stream",
     "text": [
      "elmo_in_smalls[502]\n",
      "INFO:tensorflow:Saver not created because there are no variables in the graph to restore\n"
     ]
    },
    {
     "name": "stderr",
     "output_type": "stream",
     "text": [
      "\r",
      " 15%|█▍        | 102/687 [32:20<4:26:03, 27.29s/it]"
     ]
    },
    {
     "name": "stdout",
     "output_type": "stream",
     "text": [
      "elmo_in_smalls[503]\n",
      "INFO:tensorflow:Saver not created because there are no variables in the graph to restore\n"
     ]
    },
    {
     "name": "stderr",
     "output_type": "stream",
     "text": [
      "\r",
      " 15%|█▍        | 103/687 [32:48<4:27:18, 27.46s/it]"
     ]
    },
    {
     "name": "stdout",
     "output_type": "stream",
     "text": [
      "elmo_in_smalls[504]\n",
      "INFO:tensorflow:Saver not created because there are no variables in the graph to restore\n"
     ]
    },
    {
     "name": "stderr",
     "output_type": "stream",
     "text": [
      "\r",
      " 15%|█▌        | 104/687 [33:16<4:28:12, 27.60s/it]"
     ]
    },
    {
     "name": "stdout",
     "output_type": "stream",
     "text": [
      "elmo_in_smalls[505]\n",
      "INFO:tensorflow:Saver not created because there are no variables in the graph to restore\n"
     ]
    },
    {
     "name": "stderr",
     "output_type": "stream",
     "text": [
      "\r",
      " 15%|█▌        | 105/687 [33:43<4:28:06, 27.64s/it]"
     ]
    },
    {
     "name": "stdout",
     "output_type": "stream",
     "text": [
      "elmo_in_smalls[506]\n",
      "INFO:tensorflow:Saver not created because there are no variables in the graph to restore\n"
     ]
    },
    {
     "name": "stderr",
     "output_type": "stream",
     "text": [
      "\r",
      " 15%|█▌        | 106/687 [34:11<4:29:11, 27.80s/it]"
     ]
    },
    {
     "name": "stdout",
     "output_type": "stream",
     "text": [
      "elmo_in_smalls[507]\n",
      "INFO:tensorflow:Saver not created because there are no variables in the graph to restore\n"
     ]
    },
    {
     "name": "stderr",
     "output_type": "stream",
     "text": [
      "\r",
      " 16%|█▌        | 107/687 [34:41<4:33:44, 28.32s/it]"
     ]
    },
    {
     "name": "stdout",
     "output_type": "stream",
     "text": [
      "elmo_in_smalls[508]\n",
      "INFO:tensorflow:Saver not created because there are no variables in the graph to restore\n"
     ]
    },
    {
     "name": "stderr",
     "output_type": "stream",
     "text": [
      "\r",
      " 16%|█▌        | 108/687 [35:10<4:36:33, 28.66s/it]"
     ]
    },
    {
     "name": "stdout",
     "output_type": "stream",
     "text": [
      "elmo_in_smalls[509]\n",
      "INFO:tensorflow:Saver not created because there are no variables in the graph to restore\n"
     ]
    },
    {
     "name": "stderr",
     "output_type": "stream",
     "text": [
      "\r",
      " 16%|█▌        | 109/687 [35:41<4:42:32, 29.33s/it]"
     ]
    },
    {
     "name": "stdout",
     "output_type": "stream",
     "text": [
      "elmo_in_smalls[510]\n",
      "INFO:tensorflow:Saver not created because there are no variables in the graph to restore\n"
     ]
    },
    {
     "name": "stderr",
     "output_type": "stream",
     "text": [
      "\r",
      " 16%|█▌        | 110/687 [36:13<4:49:19, 30.09s/it]"
     ]
    },
    {
     "name": "stdout",
     "output_type": "stream",
     "text": [
      "elmo_in_smalls[511]\n",
      "INFO:tensorflow:Saver not created because there are no variables in the graph to restore\n"
     ]
    },
    {
     "name": "stderr",
     "output_type": "stream",
     "text": [
      "\r",
      " 16%|█▌        | 111/687 [36:43<4:48:58, 30.10s/it]"
     ]
    },
    {
     "name": "stdout",
     "output_type": "stream",
     "text": [
      "elmo_in_smalls[512]\n",
      "INFO:tensorflow:Saver not created because there are no variables in the graph to restore\n"
     ]
    },
    {
     "name": "stderr",
     "output_type": "stream",
     "text": [
      "\r",
      " 16%|█▋        | 112/687 [37:14<4:48:51, 30.14s/it]"
     ]
    },
    {
     "name": "stdout",
     "output_type": "stream",
     "text": [
      "elmo_in_smalls[513]\n",
      "INFO:tensorflow:Saver not created because there are no variables in the graph to restore\n"
     ]
    },
    {
     "name": "stderr",
     "output_type": "stream",
     "text": [
      "\r",
      " 16%|█▋        | 113/687 [37:44<4:48:08, 30.12s/it]"
     ]
    },
    {
     "name": "stdout",
     "output_type": "stream",
     "text": [
      "elmo_in_smalls[514]\n",
      "INFO:tensorflow:Saver not created because there are no variables in the graph to restore\n"
     ]
    },
    {
     "name": "stderr",
     "output_type": "stream",
     "text": [
      "\r",
      " 17%|█▋        | 114/687 [38:14<4:47:59, 30.16s/it]"
     ]
    },
    {
     "name": "stdout",
     "output_type": "stream",
     "text": [
      "elmo_in_smalls[515]\n",
      "INFO:tensorflow:Saver not created because there are no variables in the graph to restore\n"
     ]
    },
    {
     "name": "stderr",
     "output_type": "stream",
     "text": [
      "\r",
      " 17%|█▋        | 115/687 [38:48<4:58:16, 31.29s/it]"
     ]
    },
    {
     "name": "stdout",
     "output_type": "stream",
     "text": [
      "elmo_in_smalls[516]\n",
      "INFO:tensorflow:Saver not created because there are no variables in the graph to restore\n"
     ]
    },
    {
     "name": "stderr",
     "output_type": "stream",
     "text": [
      "\r",
      " 17%|█▋        | 116/687 [39:22<5:06:47, 32.24s/it]"
     ]
    },
    {
     "name": "stdout",
     "output_type": "stream",
     "text": [
      "elmo_in_smalls[517]\n",
      "INFO:tensorflow:Saver not created because there are no variables in the graph to restore\n"
     ]
    },
    {
     "name": "stderr",
     "output_type": "stream",
     "text": [
      "\r",
      " 17%|█▋        | 117/687 [39:53<5:03:26, 31.94s/it]"
     ]
    },
    {
     "name": "stdout",
     "output_type": "stream",
     "text": [
      "elmo_in_smalls[518]\n",
      "INFO:tensorflow:Saver not created because there are no variables in the graph to restore\n"
     ]
    },
    {
     "name": "stderr",
     "output_type": "stream",
     "text": [
      "\r",
      " 17%|█▋        | 118/687 [40:26<5:03:44, 32.03s/it]"
     ]
    },
    {
     "name": "stdout",
     "output_type": "stream",
     "text": [
      "elmo_in_smalls[519]\n",
      "INFO:tensorflow:Saver not created because there are no variables in the graph to restore\n"
     ]
    },
    {
     "name": "stderr",
     "output_type": "stream",
     "text": [
      "\r",
      " 17%|█▋        | 119/687 [40:57<5:01:57, 31.90s/it]"
     ]
    },
    {
     "name": "stdout",
     "output_type": "stream",
     "text": [
      "elmo_in_smalls[520]\n",
      "INFO:tensorflow:Saver not created because there are no variables in the graph to restore\n"
     ]
    },
    {
     "name": "stderr",
     "output_type": "stream",
     "text": [
      "\r",
      " 17%|█▋        | 120/687 [41:30<5:04:44, 32.25s/it]"
     ]
    },
    {
     "name": "stdout",
     "output_type": "stream",
     "text": [
      "elmo_in_smalls[521]\n",
      "INFO:tensorflow:Saver not created because there are no variables in the graph to restore\n"
     ]
    },
    {
     "name": "stderr",
     "output_type": "stream",
     "text": [
      "\r",
      " 18%|█▊        | 121/687 [42:05<5:12:16, 33.10s/it]"
     ]
    },
    {
     "name": "stdout",
     "output_type": "stream",
     "text": [
      "elmo_in_smalls[522]\n",
      "INFO:tensorflow:Saver not created because there are no variables in the graph to restore\n"
     ]
    },
    {
     "name": "stderr",
     "output_type": "stream",
     "text": [
      "\r",
      " 18%|█▊        | 122/687 [42:38<5:09:44, 32.89s/it]"
     ]
    },
    {
     "name": "stdout",
     "output_type": "stream",
     "text": [
      "elmo_in_smalls[523]\n",
      "INFO:tensorflow:Saver not created because there are no variables in the graph to restore\n"
     ]
    },
    {
     "name": "stderr",
     "output_type": "stream",
     "text": [
      "\r",
      " 18%|█▊        | 123/687 [43:11<5:10:07, 32.99s/it]"
     ]
    },
    {
     "name": "stdout",
     "output_type": "stream",
     "text": [
      "elmo_in_smalls[524]\n",
      "INFO:tensorflow:Saver not created because there are no variables in the graph to restore\n"
     ]
    },
    {
     "name": "stderr",
     "output_type": "stream",
     "text": [
      "\r",
      " 18%|█▊        | 124/687 [43:46<5:16:21, 33.72s/it]"
     ]
    },
    {
     "name": "stdout",
     "output_type": "stream",
     "text": [
      "elmo_in_smalls[525]\n",
      "INFO:tensorflow:Saver not created because there are no variables in the graph to restore\n"
     ]
    },
    {
     "name": "stderr",
     "output_type": "stream",
     "text": [
      "\r",
      " 18%|█▊        | 125/687 [44:20<5:15:14, 33.66s/it]"
     ]
    },
    {
     "name": "stdout",
     "output_type": "stream",
     "text": [
      "elmo_in_smalls[526]\n",
      "INFO:tensorflow:Saver not created because there are no variables in the graph to restore\n"
     ]
    },
    {
     "name": "stderr",
     "output_type": "stream",
     "text": [
      "\r",
      " 18%|█▊        | 126/687 [44:54<5:14:42, 33.66s/it]"
     ]
    },
    {
     "name": "stdout",
     "output_type": "stream",
     "text": [
      "elmo_in_smalls[527]\n",
      "INFO:tensorflow:Saver not created because there are no variables in the graph to restore\n"
     ]
    },
    {
     "name": "stderr",
     "output_type": "stream",
     "text": [
      "\r",
      " 18%|█▊        | 127/687 [45:29<5:17:55, 34.06s/it]"
     ]
    },
    {
     "name": "stdout",
     "output_type": "stream",
     "text": [
      "elmo_in_smalls[528]\n",
      "INFO:tensorflow:Saver not created because there are no variables in the graph to restore\n"
     ]
    },
    {
     "name": "stderr",
     "output_type": "stream",
     "text": [
      "\r",
      " 19%|█▊        | 128/687 [46:03<5:16:43, 34.00s/it]"
     ]
    },
    {
     "name": "stdout",
     "output_type": "stream",
     "text": [
      "elmo_in_smalls[529]\n",
      "INFO:tensorflow:Saver not created because there are no variables in the graph to restore\n"
     ]
    },
    {
     "name": "stderr",
     "output_type": "stream",
     "text": [
      "\r",
      " 19%|█▉        | 129/687 [46:36<5:15:31, 33.93s/it]"
     ]
    },
    {
     "name": "stdout",
     "output_type": "stream",
     "text": [
      "elmo_in_smalls[530]\n",
      "INFO:tensorflow:Saver not created because there are no variables in the graph to restore\n"
     ]
    },
    {
     "name": "stderr",
     "output_type": "stream",
     "text": [
      "\r",
      " 19%|█▉        | 130/687 [47:11<5:16:23, 34.08s/it]"
     ]
    },
    {
     "name": "stdout",
     "output_type": "stream",
     "text": [
      "elmo_in_smalls[531]\n",
      "INFO:tensorflow:Saver not created because there are no variables in the graph to restore\n"
     ]
    },
    {
     "name": "stderr",
     "output_type": "stream",
     "text": [
      "\r",
      " 19%|█▉        | 131/687 [47:45<5:15:30, 34.05s/it]"
     ]
    },
    {
     "name": "stdout",
     "output_type": "stream",
     "text": [
      "elmo_in_smalls[532]\n",
      "INFO:tensorflow:Saver not created because there are no variables in the graph to restore\n"
     ]
    },
    {
     "name": "stderr",
     "output_type": "stream",
     "text": [
      "\r",
      " 19%|█▉        | 132/687 [48:20<5:18:21, 34.42s/it]"
     ]
    },
    {
     "name": "stdout",
     "output_type": "stream",
     "text": [
      "elmo_in_smalls[533]\n",
      "INFO:tensorflow:Saver not created because there are no variables in the graph to restore\n"
     ]
    },
    {
     "name": "stderr",
     "output_type": "stream",
     "text": [
      "\r",
      " 19%|█▉        | 133/687 [48:56<5:21:18, 34.80s/it]"
     ]
    },
    {
     "name": "stdout",
     "output_type": "stream",
     "text": [
      "elmo_in_smalls[534]\n",
      "INFO:tensorflow:Saver not created because there are no variables in the graph to restore\n"
     ]
    },
    {
     "name": "stderr",
     "output_type": "stream",
     "text": [
      "\r",
      " 20%|█▉        | 134/687 [49:31<5:23:02, 35.05s/it]"
     ]
    },
    {
     "name": "stdout",
     "output_type": "stream",
     "text": [
      "elmo_in_smalls[535]\n",
      "INFO:tensorflow:Saver not created because there are no variables in the graph to restore\n"
     ]
    },
    {
     "name": "stderr",
     "output_type": "stream",
     "text": [
      "\r",
      " 20%|█▉        | 135/687 [50:08<5:25:42, 35.40s/it]"
     ]
    },
    {
     "name": "stdout",
     "output_type": "stream",
     "text": [
      "elmo_in_smalls[536]\n",
      "INFO:tensorflow:Saver not created because there are no variables in the graph to restore\n"
     ]
    },
    {
     "name": "stderr",
     "output_type": "stream",
     "text": [
      "\r",
      " 20%|█▉        | 136/687 [50:44<5:28:57, 35.82s/it]"
     ]
    },
    {
     "name": "stdout",
     "output_type": "stream",
     "text": [
      "elmo_in_smalls[537]\n",
      "INFO:tensorflow:Saver not created because there are no variables in the graph to restore\n"
     ]
    },
    {
     "name": "stderr",
     "output_type": "stream",
     "text": [
      "\r",
      " 20%|█▉        | 137/687 [51:21<5:30:59, 36.11s/it]"
     ]
    },
    {
     "name": "stdout",
     "output_type": "stream",
     "text": [
      "elmo_in_smalls[538]\n",
      "INFO:tensorflow:Saver not created because there are no variables in the graph to restore\n"
     ]
    },
    {
     "name": "stderr",
     "output_type": "stream",
     "text": [
      "\r",
      " 20%|██        | 138/687 [52:01<5:39:54, 37.15s/it]"
     ]
    },
    {
     "name": "stdout",
     "output_type": "stream",
     "text": [
      "elmo_in_smalls[539]\n",
      "INFO:tensorflow:Saver not created because there are no variables in the graph to restore\n"
     ]
    },
    {
     "name": "stderr",
     "output_type": "stream",
     "text": [
      "\r",
      " 20%|██        | 139/687 [52:43<5:52:20, 38.58s/it]"
     ]
    },
    {
     "name": "stdout",
     "output_type": "stream",
     "text": [
      "elmo_in_smalls[540]\n",
      "INFO:tensorflow:Saver not created because there are no variables in the graph to restore\n"
     ]
    },
    {
     "name": "stderr",
     "output_type": "stream",
     "text": [
      "\r",
      " 20%|██        | 140/687 [53:21<5:51:46, 38.59s/it]"
     ]
    },
    {
     "name": "stdout",
     "output_type": "stream",
     "text": [
      "elmo_in_smalls[541]\n",
      "INFO:tensorflow:Saver not created because there are no variables in the graph to restore\n"
     ]
    },
    {
     "name": "stderr",
     "output_type": "stream",
     "text": [
      "\r",
      " 21%|██        | 141/687 [53:58<5:47:08, 38.15s/it]"
     ]
    },
    {
     "name": "stdout",
     "output_type": "stream",
     "text": [
      "elmo_in_smalls[542]\n",
      "INFO:tensorflow:Saver not created because there are no variables in the graph to restore\n"
     ]
    },
    {
     "name": "stderr",
     "output_type": "stream",
     "text": [
      "\r",
      " 21%|██        | 142/687 [54:36<5:44:07, 37.89s/it]"
     ]
    },
    {
     "name": "stdout",
     "output_type": "stream",
     "text": [
      "elmo_in_smalls[543]\n",
      "INFO:tensorflow:Saver not created because there are no variables in the graph to restore\n"
     ]
    },
    {
     "name": "stderr",
     "output_type": "stream",
     "text": [
      "\r",
      " 21%|██        | 143/687 [55:15<5:46:26, 38.21s/it]"
     ]
    },
    {
     "name": "stdout",
     "output_type": "stream",
     "text": [
      "elmo_in_smalls[544]\n",
      "INFO:tensorflow:Saver not created because there are no variables in the graph to restore\n"
     ]
    },
    {
     "name": "stderr",
     "output_type": "stream",
     "text": [
      "\r",
      " 21%|██        | 144/687 [55:53<5:45:17, 38.15s/it]"
     ]
    },
    {
     "name": "stdout",
     "output_type": "stream",
     "text": [
      "elmo_in_smalls[545]\n",
      "INFO:tensorflow:Saver not created because there are no variables in the graph to restore\n"
     ]
    },
    {
     "name": "stderr",
     "output_type": "stream",
     "text": [
      "\r",
      " 21%|██        | 145/687 [56:32<5:47:02, 38.42s/it]"
     ]
    },
    {
     "name": "stdout",
     "output_type": "stream",
     "text": [
      "elmo_in_smalls[546]\n",
      "INFO:tensorflow:Saver not created because there are no variables in the graph to restore\n"
     ]
    },
    {
     "name": "stderr",
     "output_type": "stream",
     "text": [
      "\r",
      " 21%|██▏       | 146/687 [57:11<5:48:15, 38.62s/it]"
     ]
    },
    {
     "name": "stdout",
     "output_type": "stream",
     "text": [
      "elmo_in_smalls[547]\n",
      "INFO:tensorflow:Saver not created because there are no variables in the graph to restore\n"
     ]
    },
    {
     "name": "stderr",
     "output_type": "stream",
     "text": [
      "\r",
      " 21%|██▏       | 147/687 [57:51<5:50:51, 38.98s/it]"
     ]
    },
    {
     "name": "stdout",
     "output_type": "stream",
     "text": [
      "elmo_in_smalls[548]\n",
      "INFO:tensorflow:Saver not created because there are no variables in the graph to restore\n"
     ]
    },
    {
     "name": "stderr",
     "output_type": "stream",
     "text": [
      "\r",
      " 22%|██▏       | 148/687 [58:32<5:57:06, 39.75s/it]"
     ]
    },
    {
     "name": "stdout",
     "output_type": "stream",
     "text": [
      "elmo_in_smalls[549]\n",
      "INFO:tensorflow:Saver not created because there are no variables in the graph to restore\n"
     ]
    },
    {
     "name": "stderr",
     "output_type": "stream",
     "text": [
      "\r",
      " 22%|██▏       | 149/687 [59:11<5:54:11, 39.50s/it]"
     ]
    },
    {
     "name": "stdout",
     "output_type": "stream",
     "text": [
      "elmo_in_smalls[550]\n",
      "INFO:tensorflow:Saver not created because there are no variables in the graph to restore\n"
     ]
    },
    {
     "name": "stderr",
     "output_type": "stream",
     "text": [
      "\r",
      " 22%|██▏       | 150/687 [59:53<6:01:24, 40.38s/it]"
     ]
    },
    {
     "name": "stdout",
     "output_type": "stream",
     "text": [
      "elmo_in_smalls[551]\n",
      "INFO:tensorflow:Saver not created because there are no variables in the graph to restore\n"
     ]
    },
    {
     "name": "stderr",
     "output_type": "stream",
     "text": [
      "\r",
      " 22%|██▏       | 151/687 [1:00:37<6:08:26, 41.24s/it]"
     ]
    },
    {
     "name": "stdout",
     "output_type": "stream",
     "text": [
      "elmo_in_smalls[552]\n",
      "INFO:tensorflow:Saver not created because there are no variables in the graph to restore\n"
     ]
    },
    {
     "name": "stderr",
     "output_type": "stream",
     "text": [
      "\r",
      " 22%|██▏       | 152/687 [1:01:18<6:08:22, 41.31s/it]"
     ]
    },
    {
     "name": "stdout",
     "output_type": "stream",
     "text": [
      "elmo_in_smalls[553]\n",
      "INFO:tensorflow:Saver not created because there are no variables in the graph to restore\n"
     ]
    },
    {
     "name": "stderr",
     "output_type": "stream",
     "text": [
      "\r",
      " 22%|██▏       | 153/687 [1:01:59<6:06:59, 41.24s/it]"
     ]
    },
    {
     "name": "stdout",
     "output_type": "stream",
     "text": [
      "elmo_in_smalls[554]\n",
      "INFO:tensorflow:Saver not created because there are no variables in the graph to restore\n"
     ]
    },
    {
     "name": "stderr",
     "output_type": "stream",
     "text": [
      "\r",
      " 22%|██▏       | 154/687 [1:02:43<6:13:03, 41.99s/it]"
     ]
    },
    {
     "name": "stdout",
     "output_type": "stream",
     "text": [
      "elmo_in_smalls[555]\n",
      "INFO:tensorflow:Saver not created because there are no variables in the graph to restore\n"
     ]
    },
    {
     "name": "stderr",
     "output_type": "stream",
     "text": [
      "\r",
      " 23%|██▎       | 155/687 [1:03:24<6:09:51, 41.71s/it]"
     ]
    },
    {
     "name": "stdout",
     "output_type": "stream",
     "text": [
      "elmo_in_smalls[556]\n",
      "INFO:tensorflow:Saver not created because there are no variables in the graph to restore\n"
     ]
    },
    {
     "name": "stderr",
     "output_type": "stream",
     "text": [
      "\r",
      " 23%|██▎       | 156/687 [1:04:06<6:09:40, 41.77s/it]"
     ]
    },
    {
     "name": "stdout",
     "output_type": "stream",
     "text": [
      "elmo_in_smalls[557]\n",
      "INFO:tensorflow:Saver not created because there are no variables in the graph to restore\n"
     ]
    },
    {
     "name": "stderr",
     "output_type": "stream",
     "text": [
      "\r",
      " 23%|██▎       | 157/687 [1:04:49<6:11:41, 42.08s/it]"
     ]
    },
    {
     "name": "stdout",
     "output_type": "stream",
     "text": [
      "elmo_in_smalls[558]\n",
      "INFO:tensorflow:Saver not created because there are no variables in the graph to restore\n"
     ]
    },
    {
     "name": "stderr",
     "output_type": "stream",
     "text": [
      "\r",
      " 23%|██▎       | 158/687 [1:05:34<6:19:47, 43.08s/it]"
     ]
    },
    {
     "name": "stdout",
     "output_type": "stream",
     "text": [
      "elmo_in_smalls[559]\n",
      "INFO:tensorflow:Saver not created because there are no variables in the graph to restore\n"
     ]
    },
    {
     "name": "stderr",
     "output_type": "stream",
     "text": [
      "\r",
      " 23%|██▎       | 159/687 [1:06:18<6:20:36, 43.25s/it]"
     ]
    },
    {
     "name": "stdout",
     "output_type": "stream",
     "text": [
      "elmo_in_smalls[560]\n",
      "INFO:tensorflow:Saver not created because there are no variables in the graph to restore\n"
     ]
    },
    {
     "name": "stderr",
     "output_type": "stream",
     "text": [
      "\r",
      " 23%|██▎       | 160/687 [1:07:02<6:21:50, 43.47s/it]"
     ]
    },
    {
     "name": "stdout",
     "output_type": "stream",
     "text": [
      "elmo_in_smalls[561]\n",
      "INFO:tensorflow:Saver not created because there are no variables in the graph to restore\n"
     ]
    },
    {
     "name": "stderr",
     "output_type": "stream",
     "text": [
      "\r",
      " 23%|██▎       | 161/687 [1:07:44<6:18:59, 43.23s/it]"
     ]
    },
    {
     "name": "stdout",
     "output_type": "stream",
     "text": [
      "elmo_in_smalls[562]\n",
      "INFO:tensorflow:Saver not created because there are no variables in the graph to restore\n"
     ]
    },
    {
     "name": "stderr",
     "output_type": "stream",
     "text": [
      "\r",
      " 24%|██▎       | 162/687 [1:08:28<6:19:08, 43.33s/it]"
     ]
    },
    {
     "name": "stdout",
     "output_type": "stream",
     "text": [
      "elmo_in_smalls[563]\n",
      "INFO:tensorflow:Saver not created because there are no variables in the graph to restore\n"
     ]
    },
    {
     "name": "stderr",
     "output_type": "stream",
     "text": [
      "\r",
      " 24%|██▎       | 163/687 [1:09:15<6:26:51, 44.30s/it]"
     ]
    },
    {
     "name": "stdout",
     "output_type": "stream",
     "text": [
      "elmo_in_smalls[564]\n",
      "INFO:tensorflow:Saver not created because there are no variables in the graph to restore\n"
     ]
    },
    {
     "name": "stderr",
     "output_type": "stream",
     "text": [
      "\r",
      " 24%|██▍       | 164/687 [1:10:00<6:28:29, 44.57s/it]"
     ]
    },
    {
     "name": "stdout",
     "output_type": "stream",
     "text": [
      "elmo_in_smalls[565]\n",
      "INFO:tensorflow:Saver not created because there are no variables in the graph to restore\n"
     ]
    },
    {
     "name": "stderr",
     "output_type": "stream",
     "text": [
      "\r",
      " 24%|██▍       | 165/687 [1:10:46<6:33:10, 45.19s/it]"
     ]
    },
    {
     "name": "stdout",
     "output_type": "stream",
     "text": [
      "elmo_in_smalls[566]\n",
      "INFO:tensorflow:Saver not created because there are no variables in the graph to restore\n"
     ]
    },
    {
     "name": "stderr",
     "output_type": "stream",
     "text": [
      "\r",
      " 24%|██▍       | 166/687 [1:11:33<6:35:51, 45.59s/it]"
     ]
    },
    {
     "name": "stdout",
     "output_type": "stream",
     "text": [
      "elmo_in_smalls[567]\n",
      "INFO:tensorflow:Saver not created because there are no variables in the graph to restore\n"
     ]
    },
    {
     "name": "stderr",
     "output_type": "stream",
     "text": [
      "\r",
      " 24%|██▍       | 167/687 [1:12:18<6:33:32, 45.41s/it]"
     ]
    },
    {
     "name": "stdout",
     "output_type": "stream",
     "text": [
      "elmo_in_smalls[568]\n",
      "INFO:tensorflow:Saver not created because there are no variables in the graph to restore\n"
     ]
    },
    {
     "name": "stderr",
     "output_type": "stream",
     "text": [
      "\r",
      " 24%|██▍       | 168/687 [1:13:04<6:33:41, 45.51s/it]"
     ]
    },
    {
     "name": "stdout",
     "output_type": "stream",
     "text": [
      "elmo_in_smalls[569]\n",
      "INFO:tensorflow:Saver not created because there are no variables in the graph to restore\n"
     ]
    },
    {
     "name": "stderr",
     "output_type": "stream",
     "text": [
      "\r",
      " 25%|██▍       | 169/687 [1:13:49<6:33:15, 45.55s/it]"
     ]
    },
    {
     "name": "stdout",
     "output_type": "stream",
     "text": [
      "elmo_in_smalls[570]\n",
      "INFO:tensorflow:Saver not created because there are no variables in the graph to restore\n"
     ]
    },
    {
     "name": "stderr",
     "output_type": "stream",
     "text": [
      "\r",
      " 25%|██▍       | 170/687 [1:14:36<6:36:28, 46.01s/it]"
     ]
    },
    {
     "name": "stdout",
     "output_type": "stream",
     "text": [
      "elmo_in_smalls[571]\n",
      "INFO:tensorflow:Saver not created because there are no variables in the graph to restore\n"
     ]
    },
    {
     "name": "stderr",
     "output_type": "stream",
     "text": [
      "\r",
      " 25%|██▍       | 171/687 [1:15:22<6:33:24, 45.75s/it]"
     ]
    },
    {
     "name": "stdout",
     "output_type": "stream",
     "text": [
      "elmo_in_smalls[572]\n",
      "INFO:tensorflow:Saver not created because there are no variables in the graph to restore\n"
     ]
    },
    {
     "name": "stderr",
     "output_type": "stream",
     "text": [
      "\r",
      " 25%|██▌       | 172/687 [1:16:10<6:39:13, 46.51s/it]"
     ]
    },
    {
     "name": "stdout",
     "output_type": "stream",
     "text": [
      "elmo_in_smalls[573]\n",
      "INFO:tensorflow:Saver not created because there are no variables in the graph to restore\n"
     ]
    },
    {
     "name": "stderr",
     "output_type": "stream",
     "text": [
      "\r",
      " 25%|██▌       | 173/687 [1:16:59<6:45:16, 47.31s/it]"
     ]
    },
    {
     "name": "stdout",
     "output_type": "stream",
     "text": [
      "elmo_in_smalls[574]\n",
      "INFO:tensorflow:Saver not created because there are no variables in the graph to restore\n"
     ]
    },
    {
     "name": "stderr",
     "output_type": "stream",
     "text": [
      "\r",
      " 25%|██▌       | 174/687 [1:17:47<6:45:35, 47.44s/it]"
     ]
    },
    {
     "name": "stdout",
     "output_type": "stream",
     "text": [
      "elmo_in_smalls[575]\n",
      "INFO:tensorflow:Saver not created because there are no variables in the graph to restore\n"
     ]
    },
    {
     "name": "stderr",
     "output_type": "stream",
     "text": [
      "\r",
      " 25%|██▌       | 175/687 [1:18:33<6:42:27, 47.16s/it]"
     ]
    },
    {
     "name": "stdout",
     "output_type": "stream",
     "text": [
      "elmo_in_smalls[576]\n",
      "INFO:tensorflow:Saver not created because there are no variables in the graph to restore\n"
     ]
    },
    {
     "name": "stderr",
     "output_type": "stream",
     "text": [
      "\r",
      " 26%|██▌       | 176/687 [1:19:22<6:44:51, 47.54s/it]"
     ]
    },
    {
     "name": "stdout",
     "output_type": "stream",
     "text": [
      "elmo_in_smalls[577]\n",
      "INFO:tensorflow:Saver not created because there are no variables in the graph to restore\n"
     ]
    },
    {
     "name": "stderr",
     "output_type": "stream",
     "text": [
      "\r",
      " 26%|██▌       | 177/687 [1:20:08<6:40:38, 47.13s/it]"
     ]
    },
    {
     "name": "stdout",
     "output_type": "stream",
     "text": [
      "elmo_in_smalls[578]\n",
      "INFO:tensorflow:Saver not created because there are no variables in the graph to restore\n"
     ]
    },
    {
     "name": "stderr",
     "output_type": "stream",
     "text": [
      "\r",
      " 26%|██▌       | 178/687 [1:20:58<6:47:56, 48.09s/it]"
     ]
    },
    {
     "name": "stdout",
     "output_type": "stream",
     "text": [
      "elmo_in_smalls[579]\n",
      "INFO:tensorflow:Saver not created because there are no variables in the graph to restore\n"
     ]
    },
    {
     "name": "stderr",
     "output_type": "stream",
     "text": [
      "\r",
      " 26%|██▌       | 179/687 [1:21:47<6:48:39, 48.27s/it]"
     ]
    },
    {
     "name": "stdout",
     "output_type": "stream",
     "text": [
      "elmo_in_smalls[580]\n",
      "INFO:tensorflow:Saver not created because there are no variables in the graph to restore\n"
     ]
    },
    {
     "name": "stderr",
     "output_type": "stream",
     "text": [
      "\r",
      " 26%|██▌       | 180/687 [1:22:38<6:54:02, 49.00s/it]"
     ]
    },
    {
     "name": "stdout",
     "output_type": "stream",
     "text": [
      "elmo_in_smalls[581]\n",
      "INFO:tensorflow:Saver not created because there are no variables in the graph to restore\n"
     ]
    },
    {
     "name": "stderr",
     "output_type": "stream",
     "text": [
      "\r",
      " 26%|██▋       | 181/687 [1:23:26<6:52:13, 48.88s/it]"
     ]
    },
    {
     "name": "stdout",
     "output_type": "stream",
     "text": [
      "elmo_in_smalls[582]\n",
      "INFO:tensorflow:Saver not created because there are no variables in the graph to restore\n"
     ]
    },
    {
     "name": "stderr",
     "output_type": "stream",
     "text": [
      "\r",
      " 26%|██▋       | 182/687 [1:24:15<6:52:24, 49.00s/it]"
     ]
    },
    {
     "name": "stdout",
     "output_type": "stream",
     "text": [
      "elmo_in_smalls[583]\n",
      "INFO:tensorflow:Saver not created because there are no variables in the graph to restore\n"
     ]
    },
    {
     "name": "stderr",
     "output_type": "stream",
     "text": [
      "\r",
      " 27%|██▋       | 183/687 [1:25:05<6:51:51, 49.03s/it]"
     ]
    },
    {
     "name": "stdout",
     "output_type": "stream",
     "text": [
      "elmo_in_smalls[584]\n",
      "INFO:tensorflow:Saver not created because there are no variables in the graph to restore\n"
     ]
    },
    {
     "name": "stderr",
     "output_type": "stream",
     "text": [
      "\r",
      " 27%|██▋       | 184/687 [1:25:54<6:51:11, 49.05s/it]"
     ]
    },
    {
     "name": "stdout",
     "output_type": "stream",
     "text": [
      "elmo_in_smalls[585]\n",
      "INFO:tensorflow:Saver not created because there are no variables in the graph to restore\n"
     ]
    },
    {
     "name": "stderr",
     "output_type": "stream",
     "text": [
      "\r",
      " 27%|██▋       | 185/687 [1:26:45<6:55:21, 49.65s/it]"
     ]
    },
    {
     "name": "stdout",
     "output_type": "stream",
     "text": [
      "elmo_in_smalls[586]\n",
      "INFO:tensorflow:Saver not created because there are no variables in the graph to restore\n"
     ]
    },
    {
     "name": "stderr",
     "output_type": "stream",
     "text": [
      "\r",
      " 27%|██▋       | 186/687 [1:27:37<7:00:42, 50.38s/it]"
     ]
    },
    {
     "name": "stdout",
     "output_type": "stream",
     "text": [
      "elmo_in_smalls[587]\n",
      "INFO:tensorflow:Saver not created because there are no variables in the graph to restore\n"
     ]
    },
    {
     "name": "stderr",
     "output_type": "stream",
     "text": [
      "\r",
      " 27%|██▋       | 187/687 [1:28:27<6:58:16, 50.19s/it]"
     ]
    },
    {
     "name": "stdout",
     "output_type": "stream",
     "text": [
      "elmo_in_smalls[588]\n",
      "INFO:tensorflow:Saver not created because there are no variables in the graph to restore\n"
     ]
    },
    {
     "name": "stderr",
     "output_type": "stream",
     "text": [
      "\r",
      " 27%|██▋       | 188/687 [1:29:20<7:06:05, 51.23s/it]"
     ]
    },
    {
     "name": "stdout",
     "output_type": "stream",
     "text": [
      "elmo_in_smalls[589]\n",
      "INFO:tensorflow:Saver not created because there are no variables in the graph to restore\n"
     ]
    },
    {
     "name": "stderr",
     "output_type": "stream",
     "text": [
      "\r",
      " 28%|██▊       | 189/687 [1:30:10<7:02:20, 50.88s/it]"
     ]
    },
    {
     "name": "stdout",
     "output_type": "stream",
     "text": [
      "elmo_in_smalls[590]\n",
      "INFO:tensorflow:Saver not created because there are no variables in the graph to restore\n"
     ]
    },
    {
     "name": "stderr",
     "output_type": "stream",
     "text": [
      "\r",
      " 28%|██▊       | 190/687 [1:31:03<7:05:19, 51.35s/it]"
     ]
    },
    {
     "name": "stdout",
     "output_type": "stream",
     "text": [
      "elmo_in_smalls[591]\n",
      "INFO:tensorflow:Saver not created because there are no variables in the graph to restore\n"
     ]
    },
    {
     "name": "stderr",
     "output_type": "stream",
     "text": [
      "\r",
      " 28%|██▊       | 191/687 [1:31:54<7:05:03, 51.42s/it]"
     ]
    },
    {
     "name": "stdout",
     "output_type": "stream",
     "text": [
      "elmo_in_smalls[592]\n",
      "INFO:tensorflow:Saver not created because there are no variables in the graph to restore\n"
     ]
    },
    {
     "name": "stderr",
     "output_type": "stream",
     "text": [
      "\r",
      " 28%|██▊       | 192/687 [1:32:55<7:27:49, 54.28s/it]"
     ]
    },
    {
     "name": "stdout",
     "output_type": "stream",
     "text": [
      "elmo_in_smalls[593]\n",
      "INFO:tensorflow:Saver not created because there are no variables in the graph to restore\n"
     ]
    },
    {
     "name": "stderr",
     "output_type": "stream",
     "text": [
      "\r",
      " 28%|██▊       | 193/687 [1:33:54<7:39:07, 55.76s/it]"
     ]
    },
    {
     "name": "stdout",
     "output_type": "stream",
     "text": [
      "elmo_in_smalls[594]\n",
      "INFO:tensorflow:Saver not created because there are no variables in the graph to restore\n"
     ]
    },
    {
     "name": "stderr",
     "output_type": "stream",
     "text": [
      "\r",
      " 28%|██▊       | 194/687 [1:34:49<7:36:18, 55.53s/it]"
     ]
    },
    {
     "name": "stdout",
     "output_type": "stream",
     "text": [
      "elmo_in_smalls[595]\n",
      "INFO:tensorflow:Saver not created because there are no variables in the graph to restore\n"
     ]
    },
    {
     "name": "stderr",
     "output_type": "stream",
     "text": [
      "\r",
      " 28%|██▊       | 195/687 [1:35:42<7:28:02, 54.64s/it]"
     ]
    },
    {
     "name": "stdout",
     "output_type": "stream",
     "text": [
      "elmo_in_smalls[596]\n",
      "INFO:tensorflow:Saver not created because there are no variables in the graph to restore\n"
     ]
    },
    {
     "name": "stderr",
     "output_type": "stream",
     "text": [
      "\r",
      " 29%|██▊       | 196/687 [1:36:39<7:32:32, 55.30s/it]"
     ]
    },
    {
     "name": "stdout",
     "output_type": "stream",
     "text": [
      "elmo_in_smalls[597]\n",
      "INFO:tensorflow:Saver not created because there are no variables in the graph to restore\n"
     ]
    },
    {
     "name": "stderr",
     "output_type": "stream",
     "text": [
      "\r",
      " 29%|██▊       | 197/687 [1:37:53<8:18:21, 61.02s/it]"
     ]
    },
    {
     "name": "stdout",
     "output_type": "stream",
     "text": [
      "elmo_in_smalls[598]\n",
      "INFO:tensorflow:Saver not created because there are no variables in the graph to restore\n"
     ]
    },
    {
     "name": "stderr",
     "output_type": "stream",
     "text": [
      "\r",
      " 29%|██▉       | 198/687 [1:38:49<8:04:01, 59.39s/it]"
     ]
    },
    {
     "name": "stdout",
     "output_type": "stream",
     "text": [
      "elmo_in_smalls[599]\n",
      "INFO:tensorflow:Saver not created because there are no variables in the graph to restore\n"
     ]
    },
    {
     "name": "stderr",
     "output_type": "stream",
     "text": [
      "\r",
      " 29%|██▉       | 199/687 [1:39:48<8:03:22, 59.43s/it]"
     ]
    },
    {
     "name": "stdout",
     "output_type": "stream",
     "text": [
      "elmo_in_smalls[600]\n",
      "INFO:tensorflow:Saver not created because there are no variables in the graph to restore\n"
     ]
    },
    {
     "name": "stderr",
     "output_type": "stream",
     "text": [
      "\r",
      " 29%|██▉       | 200/687 [1:40:43<7:49:56, 57.90s/it]"
     ]
    },
    {
     "name": "stdout",
     "output_type": "stream",
     "text": [
      "elmo_in_smalls[601]\n",
      "INFO:tensorflow:Saver not created because there are no variables in the graph to restore\n"
     ]
    },
    {
     "name": "stderr",
     "output_type": "stream",
     "text": [
      "\r",
      " 29%|██▉       | 201/687 [1:41:37<7:40:36, 56.86s/it]"
     ]
    },
    {
     "name": "stdout",
     "output_type": "stream",
     "text": [
      "elmo_in_smalls[602]\n",
      "INFO:tensorflow:Saver not created because there are no variables in the graph to restore\n"
     ]
    },
    {
     "name": "stderr",
     "output_type": "stream",
     "text": [
      "\r",
      " 29%|██▉       | 202/687 [1:42:34<7:39:18, 56.82s/it]"
     ]
    },
    {
     "name": "stdout",
     "output_type": "stream",
     "text": [
      "elmo_in_smalls[603]\n",
      "INFO:tensorflow:Saver not created because there are no variables in the graph to restore\n"
     ]
    },
    {
     "name": "stderr",
     "output_type": "stream",
     "text": [
      "\r",
      " 30%|██▉       | 203/687 [1:43:39<7:58:23, 59.30s/it]"
     ]
    },
    {
     "name": "stdout",
     "output_type": "stream",
     "text": [
      "elmo_in_smalls[604]\n",
      "INFO:tensorflow:Saver not created because there are no variables in the graph to restore\n"
     ]
    },
    {
     "name": "stderr",
     "output_type": "stream",
     "text": [
      "\r",
      " 30%|██▉       | 204/687 [1:44:36<7:51:30, 58.57s/it]"
     ]
    },
    {
     "name": "stdout",
     "output_type": "stream",
     "text": [
      "elmo_in_smalls[605]\n",
      "INFO:tensorflow:Saver not created because there are no variables in the graph to restore\n"
     ]
    },
    {
     "name": "stderr",
     "output_type": "stream",
     "text": [
      "\r",
      " 30%|██▉       | 205/687 [1:45:30<7:39:10, 57.16s/it]"
     ]
    },
    {
     "name": "stdout",
     "output_type": "stream",
     "text": [
      "elmo_in_smalls[606]\n",
      "INFO:tensorflow:Saver not created because there are no variables in the graph to restore\n"
     ]
    },
    {
     "name": "stderr",
     "output_type": "stream",
     "text": [
      "\r",
      " 30%|██▉       | 206/687 [1:46:25<7:33:15, 56.54s/it]"
     ]
    },
    {
     "name": "stdout",
     "output_type": "stream",
     "text": [
      "elmo_in_smalls[607]\n",
      "INFO:tensorflow:Saver not created because there are no variables in the graph to restore\n"
     ]
    },
    {
     "name": "stderr",
     "output_type": "stream",
     "text": [
      "\r",
      " 30%|███       | 207/687 [1:47:21<7:30:42, 56.34s/it]"
     ]
    },
    {
     "name": "stdout",
     "output_type": "stream",
     "text": [
      "elmo_in_smalls[608]\n",
      "INFO:tensorflow:Saver not created because there are no variables in the graph to restore\n"
     ]
    },
    {
     "name": "stderr",
     "output_type": "stream",
     "text": [
      "\r",
      " 30%|███       | 208/687 [1:48:18<7:32:12, 56.64s/it]"
     ]
    },
    {
     "name": "stdout",
     "output_type": "stream",
     "text": [
      "elmo_in_smalls[609]\n",
      "INFO:tensorflow:Saver not created because there are no variables in the graph to restore\n"
     ]
    },
    {
     "name": "stderr",
     "output_type": "stream",
     "text": [
      "\r",
      " 30%|███       | 209/687 [1:49:13<7:26:59, 56.11s/it]"
     ]
    },
    {
     "name": "stdout",
     "output_type": "stream",
     "text": [
      "elmo_in_smalls[610]\n",
      "INFO:tensorflow:Saver not created because there are no variables in the graph to restore\n"
     ]
    },
    {
     "name": "stderr",
     "output_type": "stream",
     "text": [
      "\r",
      " 31%|███       | 210/687 [1:50:12<7:32:13, 56.88s/it]"
     ]
    },
    {
     "name": "stdout",
     "output_type": "stream",
     "text": [
      "elmo_in_smalls[611]\n",
      "INFO:tensorflow:Saver not created because there are no variables in the graph to restore\n"
     ]
    },
    {
     "name": "stderr",
     "output_type": "stream",
     "text": [
      "\r",
      " 31%|███       | 211/687 [1:51:13<7:42:54, 58.35s/it]"
     ]
    },
    {
     "name": "stdout",
     "output_type": "stream",
     "text": [
      "elmo_in_smalls[612]\n",
      "INFO:tensorflow:Saver not created because there are no variables in the graph to restore\n"
     ]
    },
    {
     "name": "stderr",
     "output_type": "stream",
     "text": [
      "\r",
      " 31%|███       | 212/687 [1:52:13<7:44:53, 58.72s/it]"
     ]
    },
    {
     "name": "stdout",
     "output_type": "stream",
     "text": [
      "elmo_in_smalls[613]\n",
      "INFO:tensorflow:Saver not created because there are no variables in the graph to restore\n"
     ]
    },
    {
     "name": "stderr",
     "output_type": "stream",
     "text": [
      "\r",
      " 31%|███       | 213/687 [1:53:12<7:44:48, 58.84s/it]"
     ]
    },
    {
     "name": "stdout",
     "output_type": "stream",
     "text": [
      "elmo_in_smalls[614]\n",
      "INFO:tensorflow:Saver not created because there are no variables in the graph to restore\n"
     ]
    },
    {
     "name": "stderr",
     "output_type": "stream",
     "text": [
      "\r",
      " 31%|███       | 214/687 [1:54:13<7:48:00, 59.37s/it]"
     ]
    },
    {
     "name": "stdout",
     "output_type": "stream",
     "text": [
      "elmo_in_smalls[615]\n",
      "INFO:tensorflow:Saver not created because there are no variables in the graph to restore\n"
     ]
    },
    {
     "name": "stderr",
     "output_type": "stream",
     "text": [
      "\r",
      " 31%|███▏      | 215/687 [1:55:09<7:40:41, 58.56s/it]"
     ]
    },
    {
     "name": "stdout",
     "output_type": "stream",
     "text": [
      "elmo_in_smalls[616]\n",
      "INFO:tensorflow:Saver not created because there are no variables in the graph to restore\n"
     ]
    },
    {
     "name": "stderr",
     "output_type": "stream",
     "text": [
      "\r",
      " 31%|███▏      | 216/687 [1:56:06<7:36:12, 58.11s/it]"
     ]
    },
    {
     "name": "stdout",
     "output_type": "stream",
     "text": [
      "elmo_in_smalls[617]\n",
      "INFO:tensorflow:Saver not created because there are no variables in the graph to restore\n"
     ]
    },
    {
     "name": "stderr",
     "output_type": "stream",
     "text": [
      "\r",
      " 32%|███▏      | 217/687 [1:57:05<7:37:21, 58.39s/it]"
     ]
    },
    {
     "name": "stdout",
     "output_type": "stream",
     "text": [
      "elmo_in_smalls[618]\n",
      "INFO:tensorflow:Saver not created because there are no variables in the graph to restore\n"
     ]
    },
    {
     "name": "stderr",
     "output_type": "stream",
     "text": [
      "\r",
      " 32%|███▏      | 218/687 [1:58:16<8:05:38, 62.13s/it]"
     ]
    },
    {
     "name": "stdout",
     "output_type": "stream",
     "text": [
      "elmo_in_smalls[619]\n",
      "INFO:tensorflow:Saver not created because there are no variables in the graph to restore\n"
     ]
    },
    {
     "name": "stderr",
     "output_type": "stream",
     "text": [
      "\r",
      " 32%|███▏      | 219/687 [1:59:17<8:01:47, 61.77s/it]"
     ]
    },
    {
     "name": "stdout",
     "output_type": "stream",
     "text": [
      "elmo_in_smalls[620]\n",
      "INFO:tensorflow:Saver not created because there are no variables in the graph to restore\n"
     ]
    },
    {
     "name": "stderr",
     "output_type": "stream",
     "text": [
      "\r",
      " 32%|███▏      | 220/687 [2:00:21<8:05:43, 62.41s/it]"
     ]
    },
    {
     "name": "stdout",
     "output_type": "stream",
     "text": [
      "elmo_in_smalls[621]\n",
      "INFO:tensorflow:Saver not created because there are no variables in the graph to restore\n"
     ]
    },
    {
     "name": "stderr",
     "output_type": "stream",
     "text": [
      "\r",
      " 32%|███▏      | 221/687 [2:01:28<8:14:21, 63.65s/it]"
     ]
    },
    {
     "name": "stdout",
     "output_type": "stream",
     "text": [
      "elmo_in_smalls[622]\n",
      "INFO:tensorflow:Saver not created because there are no variables in the graph to restore\n"
     ]
    },
    {
     "name": "stderr",
     "output_type": "stream",
     "text": [
      "\r",
      " 32%|███▏      | 222/687 [2:02:30<8:10:58, 63.35s/it]"
     ]
    },
    {
     "name": "stdout",
     "output_type": "stream",
     "text": [
      "elmo_in_smalls[623]\n",
      "INFO:tensorflow:Saver not created because there are no variables in the graph to restore\n"
     ]
    },
    {
     "name": "stderr",
     "output_type": "stream",
     "text": [
      "\r",
      " 32%|███▏      | 223/687 [2:03:31<8:03:03, 62.46s/it]"
     ]
    },
    {
     "name": "stdout",
     "output_type": "stream",
     "text": [
      "elmo_in_smalls[624]\n",
      "INFO:tensorflow:Saver not created because there are no variables in the graph to restore\n"
     ]
    },
    {
     "name": "stderr",
     "output_type": "stream",
     "text": [
      "\r",
      " 33%|███▎      | 224/687 [2:04:33<8:00:36, 62.28s/it]"
     ]
    },
    {
     "name": "stdout",
     "output_type": "stream",
     "text": [
      "elmo_in_smalls[625]\n",
      "INFO:tensorflow:Saver not created because there are no variables in the graph to restore\n"
     ]
    },
    {
     "name": "stderr",
     "output_type": "stream",
     "text": [
      "\r",
      " 33%|███▎      | 225/687 [2:05:34<7:58:15, 62.11s/it]"
     ]
    },
    {
     "name": "stdout",
     "output_type": "stream",
     "text": [
      "elmo_in_smalls[626]\n",
      "INFO:tensorflow:Saver not created because there are no variables in the graph to restore\n"
     ]
    },
    {
     "name": "stderr",
     "output_type": "stream",
     "text": [
      "\r",
      " 33%|███▎      | 226/687 [2:06:37<7:58:24, 62.27s/it]"
     ]
    },
    {
     "name": "stdout",
     "output_type": "stream",
     "text": [
      "elmo_in_smalls[627]\n",
      "INFO:tensorflow:Saver not created because there are no variables in the graph to restore\n"
     ]
    },
    {
     "name": "stderr",
     "output_type": "stream",
     "text": [
      "\r",
      " 33%|███▎      | 227/687 [2:07:38<7:54:39, 61.91s/it]"
     ]
    },
    {
     "name": "stdout",
     "output_type": "stream",
     "text": [
      "elmo_in_smalls[628]\n",
      "INFO:tensorflow:Saver not created because there are no variables in the graph to restore\n"
     ]
    },
    {
     "name": "stderr",
     "output_type": "stream",
     "text": [
      "\r",
      " 33%|███▎      | 228/687 [2:08:39<7:51:56, 61.69s/it]"
     ]
    },
    {
     "name": "stdout",
     "output_type": "stream",
     "text": [
      "elmo_in_smalls[629]\n",
      "INFO:tensorflow:Saver not created because there are no variables in the graph to restore\n"
     ]
    },
    {
     "name": "stderr",
     "output_type": "stream",
     "text": [
      "\r",
      " 33%|███▎      | 229/687 [2:09:40<7:50:04, 61.58s/it]"
     ]
    },
    {
     "name": "stdout",
     "output_type": "stream",
     "text": [
      "elmo_in_smalls[630]\n",
      "INFO:tensorflow:Saver not created because there are no variables in the graph to restore\n"
     ]
    },
    {
     "name": "stderr",
     "output_type": "stream",
     "text": [
      "\r",
      " 33%|███▎      | 230/687 [2:10:46<7:57:50, 62.74s/it]"
     ]
    },
    {
     "name": "stdout",
     "output_type": "stream",
     "text": [
      "elmo_in_smalls[631]\n",
      "INFO:tensorflow:Saver not created because there are no variables in the graph to restore\n"
     ]
    },
    {
     "name": "stderr",
     "output_type": "stream",
     "text": [
      "\r",
      " 34%|███▎      | 231/687 [2:11:46<7:50:58, 61.97s/it]"
     ]
    },
    {
     "name": "stdout",
     "output_type": "stream",
     "text": [
      "elmo_in_smalls[632]\n",
      "INFO:tensorflow:Saver not created because there are no variables in the graph to restore\n"
     ]
    },
    {
     "name": "stderr",
     "output_type": "stream",
     "text": [
      "\r",
      " 34%|███▍      | 232/687 [2:12:51<7:55:52, 62.75s/it]"
     ]
    },
    {
     "name": "stdout",
     "output_type": "stream",
     "text": [
      "elmo_in_smalls[633]\n",
      "INFO:tensorflow:Saver not created because there are no variables in the graph to restore\n"
     ]
    },
    {
     "name": "stderr",
     "output_type": "stream",
     "text": [
      "\r",
      " 34%|███▍      | 233/687 [2:14:03<8:15:40, 65.51s/it]"
     ]
    },
    {
     "name": "stdout",
     "output_type": "stream",
     "text": [
      "elmo_in_smalls[634]\n",
      "INFO:tensorflow:Saver not created because there are no variables in the graph to restore\n"
     ]
    },
    {
     "name": "stderr",
     "output_type": "stream",
     "text": [
      "\r",
      " 34%|███▍      | 234/687 [2:15:05<8:07:58, 64.63s/it]"
     ]
    },
    {
     "name": "stdout",
     "output_type": "stream",
     "text": [
      "elmo_in_smalls[635]\n",
      "INFO:tensorflow:Saver not created because there are no variables in the graph to restore\n"
     ]
    },
    {
     "name": "stderr",
     "output_type": "stream",
     "text": [
      "\r",
      " 34%|███▍      | 235/687 [2:16:06<7:59:15, 63.62s/it]"
     ]
    },
    {
     "name": "stdout",
     "output_type": "stream",
     "text": [
      "elmo_in_smalls[636]\n",
      "INFO:tensorflow:Saver not created because there are no variables in the graph to restore\n"
     ]
    },
    {
     "name": "stderr",
     "output_type": "stream",
     "text": [
      "\r",
      " 34%|███▍      | 236/687 [2:17:09<7:55:52, 63.31s/it]"
     ]
    },
    {
     "name": "stdout",
     "output_type": "stream",
     "text": [
      "elmo_in_smalls[637]\n",
      "INFO:tensorflow:Saver not created because there are no variables in the graph to restore\n"
     ]
    },
    {
     "name": "stderr",
     "output_type": "stream",
     "text": [
      "\r",
      " 34%|███▍      | 237/687 [2:18:10<7:50:29, 62.73s/it]"
     ]
    },
    {
     "name": "stdout",
     "output_type": "stream",
     "text": [
      "elmo_in_smalls[638]\n",
      "INFO:tensorflow:Saver not created because there are no variables in the graph to restore\n"
     ]
    },
    {
     "name": "stderr",
     "output_type": "stream",
     "text": [
      "\r",
      " 35%|███▍      | 238/687 [2:19:22<8:08:30, 65.28s/it]"
     ]
    },
    {
     "name": "stdout",
     "output_type": "stream",
     "text": [
      "elmo_in_smalls[639]\n",
      "INFO:tensorflow:Saver not created because there are no variables in the graph to restore\n"
     ]
    },
    {
     "name": "stderr",
     "output_type": "stream",
     "text": [
      "\r",
      " 35%|███▍      | 239/687 [2:20:25<8:02:24, 64.61s/it]"
     ]
    },
    {
     "name": "stdout",
     "output_type": "stream",
     "text": [
      "elmo_in_smalls[640]\n",
      "INFO:tensorflow:Saver not created because there are no variables in the graph to restore\n"
     ]
    },
    {
     "name": "stderr",
     "output_type": "stream",
     "text": [
      "\r",
      " 35%|███▍      | 240/687 [2:21:30<8:03:08, 64.85s/it]"
     ]
    },
    {
     "name": "stdout",
     "output_type": "stream",
     "text": [
      "elmo_in_smalls[641]\n",
      "INFO:tensorflow:Saver not created because there are no variables in the graph to restore\n"
     ]
    },
    {
     "name": "stderr",
     "output_type": "stream",
     "text": [
      "\r",
      " 35%|███▌      | 241/687 [2:22:39<8:10:32, 65.99s/it]"
     ]
    },
    {
     "name": "stdout",
     "output_type": "stream",
     "text": [
      "elmo_in_smalls[642]\n",
      "INFO:tensorflow:Saver not created because there are no variables in the graph to restore\n"
     ]
    },
    {
     "name": "stderr",
     "output_type": "stream",
     "text": [
      "\r",
      " 35%|███▌      | 242/687 [2:23:57<8:37:40, 69.80s/it]"
     ]
    },
    {
     "name": "stdout",
     "output_type": "stream",
     "text": [
      "elmo_in_smalls[643]\n",
      "INFO:tensorflow:Saver not created because there are no variables in the graph to restore\n"
     ]
    },
    {
     "name": "stderr",
     "output_type": "stream",
     "text": [
      "\r",
      " 35%|███▌      | 243/687 [2:25:11<8:44:38, 70.90s/it]"
     ]
    },
    {
     "name": "stdout",
     "output_type": "stream",
     "text": [
      "elmo_in_smalls[644]\n",
      "INFO:tensorflow:Saver not created because there are no variables in the graph to restore\n"
     ]
    },
    {
     "name": "stderr",
     "output_type": "stream",
     "text": [
      "\r",
      " 36%|███▌      | 244/687 [2:26:15<8:29:31, 69.01s/it]"
     ]
    },
    {
     "name": "stdout",
     "output_type": "stream",
     "text": [
      "elmo_in_smalls[645]\n",
      "INFO:tensorflow:Saver not created because there are no variables in the graph to restore\n"
     ]
    },
    {
     "name": "stderr",
     "output_type": "stream",
     "text": [
      "\r",
      " 36%|███▌      | 245/687 [2:27:19<8:16:08, 67.35s/it]"
     ]
    },
    {
     "name": "stdout",
     "output_type": "stream",
     "text": [
      "elmo_in_smalls[646]\n",
      "INFO:tensorflow:Saver not created because there are no variables in the graph to restore\n"
     ]
    },
    {
     "name": "stderr",
     "output_type": "stream",
     "text": [
      "\r",
      " 36%|███▌      | 246/687 [2:28:24<8:10:15, 66.70s/it]"
     ]
    },
    {
     "name": "stdout",
     "output_type": "stream",
     "text": [
      "elmo_in_smalls[647]\n",
      "INFO:tensorflow:Saver not created because there are no variables in the graph to restore\n"
     ]
    },
    {
     "name": "stderr",
     "output_type": "stream",
     "text": [
      "\r",
      " 36%|███▌      | 247/687 [2:29:28<8:02:56, 65.86s/it]"
     ]
    },
    {
     "name": "stdout",
     "output_type": "stream",
     "text": [
      "elmo_in_smalls[648]\n",
      "INFO:tensorflow:Saver not created because there are no variables in the graph to restore\n"
     ]
    },
    {
     "name": "stderr",
     "output_type": "stream",
     "text": [
      "\r",
      " 36%|███▌      | 248/687 [2:30:35<8:04:27, 66.21s/it]"
     ]
    },
    {
     "name": "stdout",
     "output_type": "stream",
     "text": [
      "elmo_in_smalls[649]\n",
      "INFO:tensorflow:Saver not created because there are no variables in the graph to restore\n"
     ]
    },
    {
     "name": "stderr",
     "output_type": "stream",
     "text": [
      "\r",
      " 36%|███▌      | 249/687 [2:31:40<8:00:11, 65.78s/it]"
     ]
    },
    {
     "name": "stdout",
     "output_type": "stream",
     "text": [
      "elmo_in_smalls[650]\n",
      "INFO:tensorflow:Saver not created because there are no variables in the graph to restore\n"
     ]
    },
    {
     "name": "stderr",
     "output_type": "stream",
     "text": [
      "\r",
      " 36%|███▋      | 250/687 [2:32:46<7:59:51, 65.88s/it]"
     ]
    },
    {
     "name": "stdout",
     "output_type": "stream",
     "text": [
      "elmo_in_smalls[651]\n",
      "INFO:tensorflow:Saver not created because there are no variables in the graph to restore\n"
     ]
    },
    {
     "name": "stderr",
     "output_type": "stream",
     "text": [
      "\r",
      " 37%|███▋      | 251/687 [2:33:52<7:58:29, 65.85s/it]"
     ]
    },
    {
     "name": "stdout",
     "output_type": "stream",
     "text": [
      "elmo_in_smalls[652]\n",
      "INFO:tensorflow:Saver not created because there are no variables in the graph to restore\n"
     ]
    }
   ],
   "source": [
    "## this was the instantiation of elmo\n",
    "# elmo = hub.Module(\"/home/ec2-user/module/module_elmo2\", trainable=False)\n",
    "\n",
    "\n",
    "# for all embeddings\n",
    "\n",
    "resume_embeddings = []\n",
    "\n",
    "\n",
    "for i in tqdm(range(401, len(elmo_in_smalls))):\n",
    "    # save np array of embeddings\n",
    "    if i % 50 == 0:\n",
    "        np_ELMo_embeddings_resumes = np.asarray(resume_embeddings)\n",
    "        np.save('ELMo_embeddings_resumes_401_to_{}'.format(i), np_ELMo_embeddings_resumes) \n",
    "    \n",
    "    print('elmo_in_smalls[{}]'.format(i))\n",
    "    embeddings_3d = elmo(elmo_in_smalls[i], signature=\"default\",as_dict=True)[\"elmo\"]\n",
    "    with tf.Session() as session:\n",
    "        session.run([tf.global_variables_initializer(), tf.tables_initializer()])\n",
    "        embeddings_2d = session.run(tf.reduce_mean(embeddings_3d,axis=0))\n",
    "        embeddings_1d = session.run(tf.reduce_mean(tf.convert_to_tensor(embeddings_2d), axis = 0, keepdims=True))\n",
    "        resume_embeddings.extend(embeddings_1d)\n",
    "    \n",
    "\n",
    "\n",
    "    "
   ]
  },
  {
   "cell_type": "code",
   "execution_count": null,
   "metadata": {},
   "outputs": [],
   "source": []
  },
  {
   "cell_type": "code",
   "execution_count": null,
   "metadata": {},
   "outputs": [],
   "source": []
  },
  {
   "cell_type": "code",
   "execution_count": null,
   "metadata": {},
   "outputs": [],
   "source": [
    "# # save np array of embeddings\n",
    "# np_ELMo_embeddings_resumes = np.asarray(resume_embeddings)\n",
    "# np.save('ELMo_embeddings_resumes_401_{}'.format(len(elmo_in_smalls)', np_ELMo_embeddings_resumes) "
   ]
  },
  {
   "cell_type": "code",
   "execution_count": null,
   "metadata": {},
   "outputs": [],
   "source": [
    "# # save elmo_train_new\n",
    "# pickle_out = open(\"ELMo_embeddings_resumes.pickle\",\"wb\")\n",
    "# pickle.dump(np_ELMo_embeddings_resumes, pickle_out)\n",
    "# pickle_out.close()"
   ]
  },
  {
   "cell_type": "code",
   "execution_count": null,
   "metadata": {},
   "outputs": [],
   "source": []
  },
  {
   "cell_type": "code",
   "execution_count": null,
   "metadata": {},
   "outputs": [],
   "source": []
  },
  {
   "cell_type": "code",
   "execution_count": null,
   "metadata": {},
   "outputs": [],
   "source": []
  },
  {
   "cell_type": "markdown",
   "metadata": {},
   "source": [
    "# ========================================"
   ]
  },
  {
   "cell_type": "code",
   "execution_count": null,
   "metadata": {},
   "outputs": [],
   "source": []
  }
 ],
 "metadata": {
  "kernelspec": {
   "display_name": "Python 3",
   "language": "python",
   "name": "python3"
  },
  "language_info": {
   "codemirror_mode": {
    "name": "ipython",
    "version": 3
   },
   "file_extension": ".py",
   "mimetype": "text/x-python",
   "name": "python",
   "nbconvert_exporter": "python",
   "pygments_lexer": "ipython3",
   "version": "3.7.6"
  }
 },
 "nbformat": 4,
 "nbformat_minor": 4
}
