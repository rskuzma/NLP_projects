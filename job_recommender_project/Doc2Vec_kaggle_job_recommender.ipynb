{
 "cells": [
  {
   "cell_type": "markdown",
   "metadata": {},
   "source": [
    "imports"
   ]
  },
  {
   "cell_type": "code",
   "execution_count": 14,
   "metadata": {},
   "outputs": [],
   "source": [
    "import pandas as pd\n",
    "import numpy as np\n",
    "import seaborn as sns\n",
    "import matplotlib.pyplot as plt\n",
    "import re\n",
    "import nltk\n",
    "import spacy\n",
    "import string"
   ]
  },
  {
   "cell_type": "markdown",
   "metadata": {},
   "source": [
    "Load CSVs into DataFrames"
   ]
  },
  {
   "cell_type": "code",
   "execution_count": 77,
   "metadata": {},
   "outputs": [
    {
     "data": {
      "text/html": [
       "<div>\n",
       "<style scoped>\n",
       "    .dataframe tbody tr th:only-of-type {\n",
       "        vertical-align: middle;\n",
       "    }\n",
       "\n",
       "    .dataframe tbody tr th {\n",
       "        vertical-align: top;\n",
       "    }\n",
       "\n",
       "    .dataframe thead th {\n",
       "        text-align: right;\n",
       "    }\n",
       "</style>\n",
       "<table border=\"1\" class=\"dataframe\">\n",
       "  <thead>\n",
       "    <tr style=\"text-align: right;\">\n",
       "      <th></th>\n",
       "      <th>ID</th>\n",
       "      <th>Category</th>\n",
       "      <th>resume</th>\n",
       "    </tr>\n",
       "  </thead>\n",
       "  <tbody>\n",
       "    <tr>\n",
       "      <th>0</th>\n",
       "      <td>1</td>\n",
       "      <td>HR</td>\n",
       "      <td>john h smith phr    po box  callahan fl  infog...</td>\n",
       "    </tr>\n",
       "    <tr>\n",
       "      <th>1</th>\n",
       "      <td>2</td>\n",
       "      <td>HR</td>\n",
       "      <td>name surname address mobile noemail personal p...</td>\n",
       "    </tr>\n",
       "    <tr>\n",
       "      <th>2</th>\n",
       "      <td>3</td>\n",
       "      <td>HR</td>\n",
       "      <td>anthony brown hr assistant areas expertise per...</td>\n",
       "    </tr>\n",
       "    <tr>\n",
       "      <th>3</th>\n",
       "      <td>4</td>\n",
       "      <td>HR</td>\n",
       "      <td>id career objective pursue growth oriented ca...</td>\n",
       "    </tr>\n",
       "    <tr>\n",
       "      <th>4</th>\n",
       "      <td>5</td>\n",
       "      <td>HR</td>\n",
       "      <td>human resources director xefxxbexpert organiza...</td>\n",
       "    </tr>\n",
       "  </tbody>\n",
       "</table>\n",
       "</div>"
      ],
      "text/plain": [
       "   ID Category                                             resume\n",
       "0   1       HR  john h smith phr    po box  callahan fl  infog...\n",
       "1   2       HR  name surname address mobile noemail personal p...\n",
       "2   3       HR  anthony brown hr assistant areas expertise per...\n",
       "3   4       HR   id career objective pursue growth oriented ca...\n",
       "4   5       HR  human resources director xefxxbexpert organiza..."
      ]
     },
     "execution_count": 77,
     "metadata": {},
     "output_type": "execute_result"
    }
   ],
   "source": [
    "# path to cleaned resume file\n",
    "lightsail_resume_cleaned_path = '/home/ec2-user/NLP_projects/job_recommender_project/data/cleaned_resume_dataset_maitrip.csv'\n",
    "local_resume_cleaned_path = '/Users/richardkuzma/coding/NLP_projects/job_recommender_project/data/cleaned_resume_dataset_maitrip.csv'\n",
    "# resume_cleaned_path = lightsail_jobs_cleaned_path\n",
    "resume_cleaned_path = local_resume_cleaned_path\n",
    "\n",
    "# load cleaned jobs to df\n",
    "resumes = pd.read_csv(resume_cleaned_path)\n",
    "resumes.head()"
   ]
  },
  {
   "cell_type": "code",
   "execution_count": 78,
   "metadata": {},
   "outputs": [
    {
     "data": {
      "text/html": [
       "<div>\n",
       "<style scoped>\n",
       "    .dataframe tbody tr th:only-of-type {\n",
       "        vertical-align: middle;\n",
       "    }\n",
       "\n",
       "    .dataframe tbody tr th {\n",
       "        vertical-align: top;\n",
       "    }\n",
       "\n",
       "    .dataframe thead th {\n",
       "        text-align: right;\n",
       "    }\n",
       "</style>\n",
       "<table border=\"1\" class=\"dataframe\">\n",
       "  <thead>\n",
       "    <tr style=\"text-align: right;\">\n",
       "      <th></th>\n",
       "      <th>Title</th>\n",
       "      <th>Company</th>\n",
       "      <th>JobDescription</th>\n",
       "      <th>RequiredQual</th>\n",
       "      <th>JobRequirement</th>\n",
       "      <th>label</th>\n",
       "      <th>combined</th>\n",
       "    </tr>\n",
       "  </thead>\n",
       "  <tbody>\n",
       "    <tr>\n",
       "      <th>0</th>\n",
       "      <td>Chief Financial Officer</td>\n",
       "      <td>AMERIA Investment Consulting Company</td>\n",
       "      <td>AMERIA Investment Consulting Company is seekin...</td>\n",
       "      <td>To perform this job successfully, an\\r\\nindivi...</td>\n",
       "      <td>- Supervises financial management and administ...</td>\n",
       "      <td>1</td>\n",
       "      <td>chief financial officer ameria investment cons...</td>\n",
       "    </tr>\n",
       "    <tr>\n",
       "      <th>1</th>\n",
       "      <td>Country Coordinator</td>\n",
       "      <td>Caucasus Environmental NGO Network (CENN)</td>\n",
       "      <td>Public outreach and strengthening of a growing...</td>\n",
       "      <td>- Degree in environmentally related field, or ...</td>\n",
       "      <td>- Working with the Country Director to provide...</td>\n",
       "      <td>2</td>\n",
       "      <td>country coordinator public outreach strengthen...</td>\n",
       "    </tr>\n",
       "    <tr>\n",
       "      <th>2</th>\n",
       "      <td>BCC Specialist</td>\n",
       "      <td>Manoff Group</td>\n",
       "      <td>The LEAD (Local Enhancement and Development fo...</td>\n",
       "      <td>- Advanced degree in public health, social sci...</td>\n",
       "      <td>- Identify gaps in knowledge and overseeing in...</td>\n",
       "      <td>3</td>\n",
       "      <td>bcc specialist lead local enhancement developm...</td>\n",
       "    </tr>\n",
       "    <tr>\n",
       "      <th>3</th>\n",
       "      <td>Community Development, Capacity Building and C...</td>\n",
       "      <td>Food Security Regional Cooperation and Stabili...</td>\n",
       "      <td>Food Security Regional Cooperation and Stabili...</td>\n",
       "      <td>- Higher Education and/or professional experie...</td>\n",
       "      <td>- Assist the Tavush Marz communities and commu...</td>\n",
       "      <td>4</td>\n",
       "      <td>community development capacity building confli...</td>\n",
       "    </tr>\n",
       "    <tr>\n",
       "      <th>4</th>\n",
       "      <td>Country Economist (NOB)</td>\n",
       "      <td>United Nations Development Programme, Armenia</td>\n",
       "      <td>The United Nations Development Programme in Ar...</td>\n",
       "      <td>- Minimum Masters Degree in Economics;\\r\\n- Mi...</td>\n",
       "      <td>The incumbent under direct supervision of UNDP...</td>\n",
       "      <td>5</td>\n",
       "      <td>country economist nob united nations developme...</td>\n",
       "    </tr>\n",
       "  </tbody>\n",
       "</table>\n",
       "</div>"
      ],
      "text/plain": [
       "                                               Title  \\\n",
       "0                            Chief Financial Officer   \n",
       "1                                Country Coordinator   \n",
       "2                                     BCC Specialist   \n",
       "3  Community Development, Capacity Building and C...   \n",
       "4                            Country Economist (NOB)   \n",
       "\n",
       "                                             Company  \\\n",
       "0               AMERIA Investment Consulting Company   \n",
       "1          Caucasus Environmental NGO Network (CENN)   \n",
       "2                                       Manoff Group   \n",
       "3  Food Security Regional Cooperation and Stabili...   \n",
       "4      United Nations Development Programme, Armenia   \n",
       "\n",
       "                                      JobDescription  \\\n",
       "0  AMERIA Investment Consulting Company is seekin...   \n",
       "1  Public outreach and strengthening of a growing...   \n",
       "2  The LEAD (Local Enhancement and Development fo...   \n",
       "3  Food Security Regional Cooperation and Stabili...   \n",
       "4  The United Nations Development Programme in Ar...   \n",
       "\n",
       "                                        RequiredQual  \\\n",
       "0  To perform this job successfully, an\\r\\nindivi...   \n",
       "1  - Degree in environmentally related field, or ...   \n",
       "2  - Advanced degree in public health, social sci...   \n",
       "3  - Higher Education and/or professional experie...   \n",
       "4  - Minimum Masters Degree in Economics;\\r\\n- Mi...   \n",
       "\n",
       "                                      JobRequirement  label  \\\n",
       "0  - Supervises financial management and administ...      1   \n",
       "1  - Working with the Country Director to provide...      2   \n",
       "2  - Identify gaps in knowledge and overseeing in...      3   \n",
       "3  - Assist the Tavush Marz communities and commu...      4   \n",
       "4  The incumbent under direct supervision of UNDP...      5   \n",
       "\n",
       "                                            combined  \n",
       "0  chief financial officer ameria investment cons...  \n",
       "1  country coordinator public outreach strengthen...  \n",
       "2  bcc specialist lead local enhancement developm...  \n",
       "3  community development capacity building confli...  \n",
       "4  country economist nob united nations developme...  "
      ]
     },
     "execution_count": 78,
     "metadata": {},
     "output_type": "execute_result"
    }
   ],
   "source": [
    "# path to cleaned jobs file\n",
    "lightsail_jobs_cleaned_path = '/home/ec2-user/NLP_projects/job_recommender_project/data/cleaned_job_posts_madhab.csv'\n",
    "local_jobs_cleaned_path = '/Users/richardkuzma/coding/NLP_projects/job_recommender_project/data/cleaned_job_posts_madhab.csv'\n",
    "# jobs_cleaned_path = lightsail_jobs_cleaned_path\n",
    "jobs_cleaned_path = local_jobs_cleaned_path\n",
    "\n",
    "#load cleaned resumes to df\n",
    "jobs = pd.read_csv(jobs_cleaned_path)\n",
    "jobs.head()"
   ]
  },
  {
   "cell_type": "code",
   "execution_count": null,
   "metadata": {},
   "outputs": [],
   "source": []
  },
  {
   "cell_type": "markdown",
   "metadata": {},
   "source": [
    "<br><br><br><br><br>"
   ]
  },
  {
   "cell_type": "markdown",
   "metadata": {},
   "source": [
    "# Gensim Doc2Vec on Jobs\n",
    "\n"
   ]
  },
  {
   "cell_type": "code",
   "execution_count": 17,
   "metadata": {},
   "outputs": [],
   "source": [
    "from gensim.models import Doc2Vec\n",
    "from gensim.models.doc2vec import TaggedDocument\n",
    "from nltk import word_tokenize"
   ]
  },
  {
   "cell_type": "code",
   "execution_count": 18,
   "metadata": {},
   "outputs": [],
   "source": [
    "# for i in jobs_test['combined']:\n",
    "#     jobs_test['label'] = jobs_test['combined'].index\n",
    "# for i in jobs_train['combined']:\n",
    "#     jobs_train['label'] = jobs_train['combined'].index\n"
   ]
  },
  {
   "cell_type": "code",
   "execution_count": 19,
   "metadata": {},
   "outputs": [],
   "source": [
    "# # see labels applied\n",
    "# jobs_train.head()"
   ]
  },
  {
   "cell_type": "code",
   "execution_count": 20,
   "metadata": {},
   "outputs": [],
   "source": [
    "# TaggedDocumentIterator class takes pandas text and label Series and yields TaggedDocuments\n",
    "class TaggedDocumentIterator(object):\n",
    "    def __init__(self, doc_list, labels_list):\n",
    "        self.labels_list = labels_list\n",
    "        self.doc_list = doc_list\n",
    "    def __iter__(self):\n",
    "        for idx, doc in enumerate(self.doc_list):\n",
    "            yield TaggedDocument(words=doc.split(), tags=[self.labels_list[idx]])\n",
    " \n",
    "docLabels = list(jobs['label'])\n",
    "jobs_data = list(jobs['combined'])\n",
    "jobs_sentences = TaggedDocumentIterator(jobs_data, docLabels)"
   ]
  },
  {
   "cell_type": "markdown",
   "metadata": {},
   "source": [
    "Model will take a few min to train on laptop"
   ]
  },
  {
   "cell_type": "code",
   "execution_count": 25,
   "metadata": {
    "scrolled": true
   },
   "outputs": [
    {
     "name": "stderr",
     "output_type": "stream",
     "text": [
      "/Users/richardkuzma/opt/anaconda3/lib/python3.7/site-packages/ipykernel_launcher.py:5: DeprecationWarning: Call to deprecated `iter` (Attribute will be removed in 4.0.0, use self.epochs instead).\n",
      "  \"\"\"\n"
     ]
    }
   ],
   "source": [
    "# train Doc2Vec model on jobs\n",
    "\n",
    "d2v_jobs_model = Doc2Vec(vector_size=100, window=10, min_count=5, workers=11,alpha=0.025, epochs=20)\n",
    "d2v_jobs_model.build_vocab(jobs_sentences)\n",
    "d2v_jobs_model.train(jobs_sentences,total_examples=d2v_model.corpus_count, epochs=d2v_model.iter)"
   ]
  },
  {
   "cell_type": "code",
   "execution_count": 26,
   "metadata": {},
   "outputs": [],
   "source": [
    "# Store the d2v jbos model to file\n",
    "lightsail_d2v_model_path = '/home/ec2-user/NLP_projects/job_recommender_project/models/d2v_model_jobs.doc2vec'\n",
    "local_d2v_model_path = '/Users/richardkuzma/coding/NLP_projects/job_recommender_project/models/d2v_model_jobs.doc2vec'\n",
    "\n",
    "# save_path = lightsail_d2v_model_path\n",
    "d2v_jobs_save_path = local_d2v_model_path\n"
   ]
  },
  {
   "cell_type": "code",
   "execution_count": 28,
   "metadata": {},
   "outputs": [],
   "source": [
    "#save the model\n",
    "d2v_jobs_model.save(d2v_jobs_save_path)\n"
   ]
  },
  {
   "cell_type": "code",
   "execution_count": 31,
   "metadata": {},
   "outputs": [],
   "source": [
    "#load model\n",
    "d2v_jobs_model = Doc2Vec.load(d2v_jobs_save_path)\n",
    "\n",
    "\n"
   ]
  },
  {
   "cell_type": "code",
   "execution_count": 33,
   "metadata": {},
   "outputs": [
    {
     "data": {
      "text/plain": [
       "gensim.models.keyedvectors.Doc2VecKeyedVectors"
      ]
     },
     "execution_count": 33,
     "metadata": {},
     "output_type": "execute_result"
    }
   ],
   "source": [
    "type(d2v_jobs_model.docvecs)"
   ]
  },
  {
   "cell_type": "code",
   "execution_count": null,
   "metadata": {},
   "outputs": [],
   "source": []
  },
  {
   "cell_type": "code",
   "execution_count": null,
   "metadata": {},
   "outputs": [],
   "source": []
  },
  {
   "cell_type": "markdown",
   "metadata": {},
   "source": [
    "# START HERE AGAIN"
   ]
  },
  {
   "cell_type": "code",
   "execution_count": null,
   "metadata": {},
   "outputs": [],
   "source": []
  },
  {
   "cell_type": "markdown",
   "metadata": {},
   "source": [
    "\n",
    "credit: https://praveenbezawada.com/2018/01/25/document-similarity-using-gensim-dec2vec/"
   ]
  },
  {
   "cell_type": "code",
   "execution_count": null,
   "metadata": {},
   "outputs": [],
   "source": []
  },
  {
   "cell_type": "code",
   "execution_count": 71,
   "metadata": {},
   "outputs": [],
   "source": [
    "# def resume_test_predict(pick_a_resume_number):\n",
    "def given_resume_predict_jobs():\n",
    "    print(\"There are {} resumes\\n\".format(resumes.shape[0]))\n",
    "    \n",
    "    # Select a random int from 0 to length of resume set\n",
    "    rand_int = np.random.randint(1, resumes.shape[0]+1)\n",
    "    # selection = pick_a_resume_number\n",
    "    selection = rand_int\n",
    "    print ('selected resume is ID #{}\\n'.format(selection))\n",
    "    \n",
    "    # pick the resume text and ID associated with the random int\n",
    "    pick_text = resumes.iloc[selection -1 ]['resume']\n",
    "    pick_label = resumes.iloc[selection -1, resumes.columns.get_loc('ID')] #we could grab ID, but this works for non-indexed labels too\n",
    "    print('Resume ID is: {}'.format(pick_label))\n",
    "    print('Resume text: {}'.format(pick_text))\n",
    "    \n",
    "    ####I didn't do his cleaning because I did my own. Need cleaning maybe on other stuff?\n",
    "    #Clean the document using the utility functions used in train phase\n",
    "    #test_sample = default_clean(test_sample)\n",
    "    #test_sample = stop_and_stem(test_sample, stem=False)\n",
    " \n",
    "    #Convert the sample document into a list and use the infer_vector method to get a vector representation for it\n",
    "    pick_words = pick_text.split()\n",
    "    pick_vec = d2v_jobs_model.infer_vector(pick_words, steps=50, alpha=0.25)\n",
    "    #print('split words is: {}'.format(pick_words))\n",
    "    #print('vector is: {}'.format(pick_vec))\n",
    " \n",
    "    #use the most_similar utility to find the most similar documents.\n",
    "    similars = d2v_jobs_model.docvecs.most_similar(positive=[pick_vec])\n",
    " \n",
    "    print('\\n\\n\\t\\tSimilar job descriptions to this resume:')\n",
    "    \n",
    "    count = 1\n",
    "    for i in similars:\n",
    "        print('\\nSimilar job number: {}'.format(count))\n",
    "        count += 1\n",
    "        print('Job ID ', i[0], ' Similarity Score: ', i[1])\n",
    "        \n",
    "        # pulls combined text from jobs_train \n",
    "        #print(jobs_train.iloc[i[0]]['combined'],  '\\n')\n",
    "\n",
    "        # pulls job title and description from jobs.txt\n",
    "        print('Job title: {}'.format(jobs.iloc[i[0]]['Title']))\n",
    "        print('Company: {}'.format(jobs.iloc[i[0]]['Company']))\n",
    "        print('Description: {}'.format(jobs.iloc[i[0]]['JobDescription']))\n",
    "        \n",
    "        \n"
   ]
  },
  {
   "cell_type": "code",
   "execution_count": 72,
   "metadata": {
    "scrolled": false
   },
   "outputs": [
    {
     "name": "stdout",
     "output_type": "stream",
     "text": [
      "There are 1219 resumes\n",
      "\n",
      "selected resume is ID #835\n",
      "\n",
      "Resume ID is: 835\n",
      "Resume text: business administration finance resume professional experience meridian credit union formerly hepcoe credit union mississauga ontario  present administrative assistant xefxxbheld key customer focused position first hepcoe location mississauga providing first line support xefxxbacknowledged tactfully diplomatically providing exemplary customer service patiently methodically working demanding clientele meet diverse banking needs xefxxbrecognized dealing average number customers per day   xefxxbinteracted clients inform various financial products available bank including gics rrsps resps credit lines credit cards foreign exchange mortgages loans xefxxbprocessed cheque credit card cash payments various accounts xefxxbcoordinated schedule branch manager responsible overseeing operations two meridian locations xefxxbtrained secondary customer service representative proving teller support scheduled breaks absences xefxxbplanned branch events including customer appreciation days staff holiday party employee meetings high profile rrsp awareness campaign xefxxbrequested work transition team merger hepcoe meridian credit unions tasked merging customer files providing updated account records atm cards expanded client base cibc mississauga ontaria   administrative assistant xefxxbprovided admin support  person community banking institution reporting assistant manager client services xefxxbcomplied prepared various financial documents presentation customer including mortgages rrsp line credit applications long term investments strategies xcxefxxbinteracted irate unhappy clients worked judiciously resolve issues maintain client loyalty cibc td bank burlington ontario   marketing secretary xefxxbscheduled coordinated participation various community events promote products including trade shows business  meetings chamber commerce luncheons local opportunities xefxxbprepared various marketing initiatives two highly successful products capturing significant attention consumers media xefxxboversaw office administration  person marketing department maintained office supplies created client portfolio documentation acted relief receptionist education professional development university toronto toronto ontario  diploma qualified administrative assistant qaa humber college toronto ontario  effective administration  effective communication  time management professionals affiliations association administrative assistants toronto chapter toronto ontario member  present oakville humane society secretary board directors  \n",
      "\n",
      "\n",
      "\t\tSimilar job descriptions to this resume:\n",
      "\n",
      "Similar job number: 1\n",
      "Job ID  7  Similarity Score:  0.3981790542602539\n",
      "Job title: Administrative Assistant\n",
      "Company: CUTS Centre for International Trade, Economics and Environment\n",
      "Description: This is an excellent opportunity for the right person\r\n",
      "to join CUTS Centre for International Trade, Economics and Environment,\r\n",
      "London. CUTS (Consumer Unity & Trust Society) is a charitable\r\n",
      "organisation, with its headquarters in Jaipur, India, working at the\r\n",
      "local, national, regional and international levels, and has recently\r\n",
      "opened an office in London. The London office will coordinate and manage\r\n",
      "research and advocacy work on trade and economic issues and will also\r\n",
      "support other offices of CUTS by raising funds, organising events, etc.\r\n",
      "The organisation is concerned with the impact of international trade and\r\n",
      "economic regime on developing countries and advocates for the poor at\r\n",
      "different levels. The position will involve providing support for all\r\n",
      "these activities. Applicants must have experience in office\r\n",
      "administration.\n",
      "\n",
      "Similar job number: 2\n",
      "Job ID  3703  Similarity Score:  0.3608470559120178\n",
      "Job title: Project Assistant\n",
      "Company: Organization for Security and Co-operation in Europe (OSCE), Office in\r\n",
      "Yerevan\n",
      "Description: Within its anti-trafficking activities and in\r\n",
      "cooperation with the Ministry of Labour and Social Issues (MLSI) of the\r\n",
      "Republic of Armenia, the OSCE Office in Yerevan announces a vacancy\r\n",
      "position for a Project Assistant, with relevant experience in\r\n",
      "anti-trafficking and project assistance field.\r\n",
      "The Project Assistant will assist in the implementation of the\r\n",
      "programmatic activities of the Anti-Trafficking Support and Resource\r\n",
      "Unit (ATSRU) to be established by the MLSI. The ATSRU activities will\r\n",
      "aim to support Armenia in its efforts to achieve better results in\r\n",
      "combating trafficking.\n",
      "\n",
      "Similar job number: 3\n",
      "Job ID  55  Similarity Score:  0.35071325302124023\n",
      "Job title: Assistant to Director, Translator/ Interpreter\n",
      "Company: \"Compass\"  Ltd\n",
      "Description: We are looking for highly qualified, energetic and\r\n",
      "experienced professionals to fill the position of Assistant to Director.\n",
      "\n",
      "Similar job number: 4\n",
      "Job ID  1658  Similarity Score:  0.34422388672828674\n",
      "Job title: Project Specialist - Public Outreach/Community Development\n",
      "Company: PA Government Services Inc.\n",
      "Description: PA Government Services Inc. (PA) is accepting\r\n",
      "expressions of interest from qualified candidates to work for the\r\n",
      "on-going USAID funded South Caucasus Water Program. The goal of this\r\n",
      "program is to increase regional cooperation in the management of shared\r\n",
      "water resources of the Khrami-Debed and Alazani River Basins. The\r\n",
      "program has a termination date of September 2008. For more information\r\n",
      "on the program visit www.scaucasuswater.org\n",
      "\n",
      "Similar job number: 5\n",
      "Job ID  10153  Similarity Score:  0.33576714992523193\n",
      "Job title: Collections Manager\n",
      "Company: HSBC Bank Armenia CJSC\n",
      "Description: The jobholder will be taking full responsibility for\r\n",
      "the Collections function, including people development, production\r\n",
      "management and strategy implementation. He/ she should leverage the\r\n",
      "performance of multiple functional business units and external agencies\r\n",
      "while ensuring employees comply with all established policies and\r\n",
      "procedures. The jobholder is also expected to take active part in\r\n",
      "conducting various activities related to Risk Management by providing\r\n",
      "full support to the Chief Risk Officer.\n",
      "\n",
      "Similar job number: 6\n",
      "Job ID  11804  Similarity Score:  0.3323432505130768\n",
      "Job title: Loan Management Unit Officer\n",
      "Company: HSBC Bank Armenia CJSC\n",
      "Description: LMU is responsible for the management of the Bank's\r\n",
      "relationships with corporate and commercial clients facing critical\r\n",
      "strategic challenges and experiencing operational and financial\r\n",
      "difficulties. The jobholder will be responsible to maintain full\r\n",
      "administration of LMU accounts including:\r\n",
      "- Monthly reporting on LMU customers' standing;\r\n",
      "- Conduction of calls and meetings with LMU customers to discuss details\r\n",
      "of proposals in process;\r\n",
      "- Assistance in preparation of credit proposals;\r\n",
      "- Making the initial review of the information provided by the customer;\r\n",
      "- Assisting in final review and assuring accuracy of the data inputted in\r\n",
      "the Bank Systems;\r\n",
      "- Ensuring that Facility Files are properly organized and contain all\r\n",
      "related correspondence in logical and time order, as well as are audit\r\n",
      "compliant.\n",
      "\n",
      "Similar job number: 7\n",
      "Job ID  8991  Similarity Score:  0.33166438341140747\n",
      "Job title: Finance Manager\n",
      "Company: Caucasus Research Resource Centers Armenia (CRRC-Armenia)\n",
      "Description: The incumbent will provide a comprehensive and\r\n",
      "professional finance management service to the CRRC-Armenia, including\r\n",
      "day-to-day accounting, reporting, and general supervision of the finance\r\n",
      "related matters.\n",
      "\n",
      "Similar job number: 8\n",
      "Job ID  2281  Similarity Score:  0.3302450478076935\n",
      "Job title: Accountant\n",
      "Company: Utopiana NGO\n",
      "Description: Utopiana NGO is seeking an Accountant who will perform\r\n",
      "duties to run the book, keeping of Steghtsagortsaran (Art Factory) of\r\n",
      "Utopiana NGO, direct, organize, plan, and control the accounting\r\n",
      "activities. He/she will be in contact with the foreign sponsors of the\r\n",
      "project.\n",
      "\n",
      "Similar job number: 9\n",
      "Job ID  7878  Similarity Score:  0.32792767882347107\n",
      "Job title: Assistant to Director of Sales\n",
      "Company: Tsaghkadzor Marriott Hotel\n",
      "Description: The incumbent will handle hotel's Sales Activities as\r\n",
      "directed by the Director of Sales. He/ she will assist the Director of\r\n",
      "Sales in positioning Hotel Armenia in its market, building a customer\r\n",
      "base, providing communications management expertise, extending the\r\n",
      "property's promotional budget, liaising with the community, generating\r\n",
      "on-going publicity about the hotel services and staff and providing\r\n",
      "general communications assistance with the development and preparation of\r\n",
      "presentations, speeches and hotel collateral.\n",
      "\n",
      "Similar job number: 10\n",
      "Job ID  7881  Similarity Score:  0.3231554925441742\n",
      "Job title: Executive Assistant\n",
      "Company: Tsaghkadzor Marriott Hotel\n",
      "Description: The incumbent will ensure smooth and efficient running\r\n",
      "of the Executive offices; carry out administrative and secretarial duties\r\n",
      "for the General Manager as well as report to the General Manager.\n"
     ]
    }
   ],
   "source": [
    "given_resume_predict_jobs()"
   ]
  },
  {
   "cell_type": "code",
   "execution_count": null,
   "metadata": {},
   "outputs": [],
   "source": []
  },
  {
   "cell_type": "markdown",
   "metadata": {},
   "source": [
    "#### Still need to get rid of the 'xefxxb' in resumes"
   ]
  },
  {
   "cell_type": "code",
   "execution_count": null,
   "metadata": {},
   "outputs": [],
   "source": []
  },
  {
   "cell_type": "markdown",
   "metadata": {},
   "source": [
    "# Given job, find similar resumes:"
   ]
  },
  {
   "cell_type": "code",
   "execution_count": 20,
   "metadata": {},
   "outputs": [],
   "source": [
    "# TaggedDocumentIterator class takes pandas text and label Series and yields TaggedDocuments\n",
    "class TaggedDocumentIterator(object):\n",
    "    def __init__(self, doc_list, labels_list):\n",
    "        self.labels_list = labels_list\n",
    "        self.doc_list = doc_list\n",
    "    def __iter__(self):\n",
    "        for idx, doc in enumerate(self.doc_list):\n",
    "            yield TaggedDocument(words=doc.split(), tags=[self.labels_list[idx]])\n",
    " \n"
   ]
  },
  {
   "cell_type": "code",
   "execution_count": 50,
   "metadata": {},
   "outputs": [],
   "source": [
    "# make TaggedDocuments from resumes dataframe to then create d2v model\n",
    "resumes_labels = list(resumes['ID'].astype(str))\n",
    "resumes_data = list(resumes['resume'].astype(str))\n",
    "resumes_sentences = TaggedDocumentIterator(resumes_data, resumes_labels)"
   ]
  },
  {
   "cell_type": "markdown",
   "metadata": {},
   "source": [
    "Model will take a few min to train on laptop"
   ]
  },
  {
   "cell_type": "code",
   "execution_count": 51,
   "metadata": {
    "scrolled": true
   },
   "outputs": [],
   "source": [
    "# train Doc2Vec model on jobs\n",
    "\n",
    "d2v_resume_model = Doc2Vec(vector_size=100, window=10, min_count=5, workers=11,alpha=0.025, epochs=20)\n",
    "d2v_resume_model.build_vocab(resumes_sentences)\n",
    "d2v_resume_model.train(resumes_sentences,total_examples=d2v_model.corpus_count, epochs=d2v_model.epochs)\n",
    "\n"
   ]
  },
  {
   "cell_type": "code",
   "execution_count": 52,
   "metadata": {},
   "outputs": [],
   "source": [
    "# Store the d2v jbos model to file\n",
    "lightsail_d2v_resume_model_path = '/home/ec2-user/NLP_projects/job_recommender_project/models/d2v_model_resumes.doc2vec'\n",
    "local_d2v_resume_model_path = '/Users/richardkuzma/coding/NLP_projects/job_recommender_project/models/d2v_model_resumes.doc2vec'\n",
    "\n",
    "# d2v_resume_save_path = lightsail_d2v_resume_model_path\n",
    "d2v_resume_save_path = local_d2v_resume_model_path\n"
   ]
  },
  {
   "cell_type": "code",
   "execution_count": 53,
   "metadata": {},
   "outputs": [],
   "source": [
    "#save the model\n",
    "d2v_resume_model.save(d2v_resume_save_path)\n"
   ]
  },
  {
   "cell_type": "code",
   "execution_count": 54,
   "metadata": {},
   "outputs": [],
   "source": [
    "#load model\n",
    "d2v_resume_model = Doc2Vec.load(d2v_resume_save_path)\n",
    "\n",
    "\n"
   ]
  },
  {
   "cell_type": "code",
   "execution_count": 55,
   "metadata": {},
   "outputs": [
    {
     "data": {
      "text/plain": [
       "gensim.models.keyedvectors.Doc2VecKeyedVectors"
      ]
     },
     "execution_count": 55,
     "metadata": {},
     "output_type": "execute_result"
    }
   ],
   "source": [
    "type(d2v_resume_model.docvecs)"
   ]
  },
  {
   "cell_type": "code",
   "execution_count": null,
   "metadata": {},
   "outputs": [],
   "source": []
  },
  {
   "cell_type": "code",
   "execution_count": 83,
   "metadata": {},
   "outputs": [],
   "source": [
    "# def resume_test_predict(pick_a_resume_number):\n",
    "def given_job_predict_similiar_resumes():\n",
    "    print(\"There are {} jobs\\n\".format(jobs.shape[0]))\n",
    "    \n",
    "    # Select a random int from 0 to length of rjob set\n",
    "    rand_int = np.random.randint(1, jobs.shape[0]+1)\n",
    "    rand_int =2\n",
    "    # selection = pick_a_job_number\n",
    "    selection = rand_int\n",
    "    print ('selected job is ID #{}\\n'.format(selection))\n",
    "    \n",
    "    # pick the job text and ID associated with the random int\n",
    "    pick_text = jobs.iloc[selection -1 ]['combined']\n",
    "    pick_label = jobs.iloc[selection -1, jobs.columns.get_loc('label')] #we could grab ID, but this works for non-indexed labels too\n",
    "    print('Resume ID is: {}'.format(pick_label))\n",
    "    print('Resume text: {}'.format(pick_text))\n",
    "    \n",
    "    #Convert the sample document into a list and use the infer_vector method to get a vector representation for it\n",
    "    pick_words = pick_text.split()\n",
    "    pick_vec = d2v_resume_model.infer_vector(pick_words, steps=50, alpha=0.25)\n",
    "    #print('split words is: {}'.format(pick_words))\n",
    "    #print('vector is: {}'.format(pick_vec))\n",
    " \n",
    "    #use the most_similar utility to find the most similar documents.\n",
    "    similars = d2v_resume_model.docvecs.most_similar(positive=[pick_vec])\n",
    "    \n",
    "    \n",
    "    # print('\\n\\nsimilars are: ', similars)\n",
    "    \n",
    " \n",
    "    print('\\n\\n\\t\\t\\t\\tSimilar candidates for this job:')\n",
    "    \n",
    "    count = 1\n",
    "    for i in similars:\n",
    "        print('\\nSimilar resume number: {}'.format(count))\n",
    "        count += 1\n",
    "        print('Resume label ', i[0], ' Similarity Score: ', i[1])\n",
    "        \n",
    "        # pulls combined text from jobs_train \n",
    "        #print(jobs_train.iloc[i[0]]['combined'],  '\\n')\n",
    "\n",
    "        # pulls candidate name, info, text\n",
    "        print('Candidate resume: {}'.format(resumes.iloc[int(i[0])]['resume']))\n",
    "#         print('Resume: {}'.format(resumes.iloc[i[0]]['Company']))\n",
    "#         print('Description: {}'.format(resumes.iloc[i[0]]['JobDescription']))\n",
    "        \n",
    "        \n"
   ]
  },
  {
   "cell_type": "code",
   "execution_count": 84,
   "metadata": {},
   "outputs": [
    {
     "name": "stdout",
     "output_type": "stream",
     "text": [
      "There are 13124 jobs\n",
      "\n",
      "selected job is ID #2\n",
      "\n",
      "Resume ID is: 2\n",
      "Resume text: country coordinator public outreach strengthening growing network environmental ngos businesses international organizations public agencies serve primary contact cenn public full time position working country director provide environmental information general public via regular electronic communications serving primary local contact armenian ngos businesses armenian offices international organizations agencies helping organize prepare cenn seminars workshops participating defining strategy policy cenn armenia caucasus region abroad degree environmentally related field  years relevant experience oral written fluency armenian russian english knowledge experience working environmental issues specific armenia plus remuneration salary commensurate experience\n",
      "\n",
      "\n",
      "\t\t\t\tSimilar candidates for this job:\n",
      "\n",
      "Similar resume number: 1\n",
      "Resume label  298  Similarity Score:  0.3004753589630127\n",
      "Candidate resume: your name  west th street xexxa new york ny  xexxa    xexxa careerservicestcedu education teachers college columbia university new york ny master arts higher postsecondary education expected may  state university baltimore md bachelor arts psychology history may  magna cum laude languages fluent spanish italian higher education experience office undergraduate admissions columbia university new york ny admissions advisor july  present xefxxb conduct campus information sessions prospective students families provide information university admissions process financial aid xefxxb facilitate presentations surrounding high schools order market columbia university programs xefxxb coordinate college fairs informational sessions resulting recruitment new students xefxxb review assess  applications per cycle assist admission recommendations xefxxb present cases admissions committee determine appropriate candidates xefxxb write letters alumnae interviewers behalf admissions office enhance working relationship state university baltimore md student services coordinator august  june  xefxxb developed innovative programs educate students freshman mentoring program senior week sophomore experience program xefxxb counseled students individual basis order offer personal educational career support xefxxb participated special training workshops events improve quality programs residential advisor september  august  xefxxb supervised residential hall  freshmen students ensure safety development college experience xefxxb implemented programming social mixers study breaks movie nights develop sense community building xefxxb advised  student leaders two separate residence halls provide appropriate training support professional experience teach america miami fl english teacher xefxxb designed implemented lesson plans increase english comprehension xefxxb used games arts crafts foster social conversational skills xefxxb collaborated teachers organize afterschool activities professional associations higher postsecondary education association teachers college hpsea national association student personnel administrators naspa american college personnel association acpa computer skills proficient microsoft word excel powerpoint access july  june \n",
      "\n",
      "Similar resume number: 2\n",
      "Resume label  376  Similarity Score:  0.29682719707489014\n",
      "Candidate resume: andrew beattie flat a  gistock street aberdeen ab np tel   mobile   e mail avbeattieaberdeenacuk education   llb honours  expected university aberdeen passed exams first sitting course achieve least  based honours results far employment law  commercial law  currently taking oil gas law honours level conducting research dissertation   shiltons academy glasgow highers biology french history english information systems b standard grades  credit level law related experience july  aug  summer placement pinsent masons aberdeen based energy department  weeks placement exposed work oil gas offshore wind sectors clients baker hughes british energy renewables responsibilities ranged conducting research drafting letters attending conference calls clients preparing giving presentation group ten members staff including two partners july  sept  legal placement student aberdeenshire council stonehaven conducted legal research ownership enquiries produced title reports duties included processing freedom information requests compiling documents public local inquiry relation deeside windfarm proposal tree preservation orders road bonds compulsory purchase orders jun  aug  voluntary work placement legal services agency glasgow responsibilities included assisting objective evidence research conducting research aspects immigration asylum law case law research case summaries also worked case preparation including reference source checking expert reports employment sept  present telesales space kitchen designs aberdeen cold telephone calling high volume potential customers received award exceeding sales targets five occasions jul  sept  team member pizza hut glasgow responsibilities included reception dispatch preparation training new staff members customer care skills demonstrated keeping positive professional pressure balancing customer requirements abilities kitchen team xcrelevant skills commercial awareness experienced identifying measuring allocating resources terms time money manage variety projects ultimate frisbee society gained understanding range businesses operate employment retail hospitality legal sectors successfully managed personal budgeting designing excel spreadsheet track financial income outgoings communication confident communicating one one within groups gained working fellow students staff ranging secretary partner pinsent masons wide range people customer related roles phone person team work developed ability adapt range roles within team context including leadership needed role president ultimate frisbee society particular strengths motivating others ensuring work focused specific goals demonstrated telesales role motivated colleagues achieve top team sales  consecutive months attention detail accurately produced variety documents within work placements aberdeenshire council pinsent masons approved senior staff sent clients time management successfully balanced work sometimes  hours per week consistently achieving marks  level within llb honours courses managed workload careful planning meet deadlines within coursework work placements information technology experienced microsoft packages particularly word producing reports  words legal research packages westlaw positions responsibility  present committee member current president ultimate frisbee society heavily involved ultimate frisbee society held committee roles since inception  elected president academic year contributions society resulted successes doubling membership numbers organising tournament balmedie beach made profit xcxa society   head school year book committee managed team  committee members tasked design production school year book specific tasks included interviewing students compiling editing vast amounts information discussing making decisions layout design interests achievements law society member university law society visited scottish parliament attended careers events enjoyed range social events scheduled star award achieved bronze level star award students taking active roles  recognises development aberdeen graduate attributes ultimate frisbee society committee role references available request\n",
      "\n",
      "Similar resume number: 3\n",
      "Resume label  666  Similarity Score:  0.29538634419441223\n",
      "Candidate resume: rohit thukral thuky phone portland email professional strengths xexxa accomplished innovative hands informed management consultant excellent leadership ability strong suite skills experience business integrationit strategy business process organizational change business technology alignment system architecture internet strategies system developmentintegration implementation medium large scale program project management governance methodologies global services delivery xexxa deep experience managing large scale geographically dispersed client relationships multiple clients xexxa breadth knowledge managing technology projects hands experience multiple technology platforms xexxa international perspective significant experience india asia pacific regions worldly culturally aware xexxa industry experience health insurance expert experience financial services health care delivery utilities government others work experience independent management consultant tealeaf associates january  present pacific northwest usa specializing management consulting services domain includes business process improvement information technology strategyanalysis program governance following extensive sampling projects completed x x x x x assisted state washington merger behavioral health services medicaid operations across three southwest counties washington state effort included business process alignment infrastructure application developmentsupport outsourcing vendor management activities associated creating new mobile organization leading oregon private public partnership workgroup strives develop statewide simplified rules facilitate health care business government entities providers payers intermediaries focus lowering operating costs advise oregon healthcare leadership council oregon health authority edi related legislative initiative implementation perspectives worked healthcare delivery company leverage expand successful pilot fully scalable operational processes pilot established innovative patient care processes substantially reduced hospitalization costs providing critical care home setting partnership hospitals assisted largest us third party employee benefit program administrator implementation highly automated health claims processing system engagement included aspects initiating organizing managing large scale mission critical multi million dollar system implementation project scope included business process changes system development delivery vendor management business intelligence clients consultantsbrokers mentoring client team project planning execution technical architecture perspectives project delivered using agile methodology advised client several subjects including businessit alignment program management information analytics stakeholder reporting consumer directed health etc executed numerous major projects programs largest multi state health insurer pacific northwest projects included xexxa assisted provider services development business case implement comprehensive network performance management contracting processes across enterprise xexxa teamed top management operational departments help define strategy consumer engagement xexxa established comprehensive approach effective communications wide spectrum stakeholders associated implementation performance based health networks led operations teams system implementation resolution major business issues key effort associated clients largest customer xexxa led effort size estimate plan develop solution strategy requirements enterprise wide solution hipaa national provider identifier rule xexxa successfully led medicare advantage ppo product development implementation effort including product development go market strategies sales administration business process changes regulatory compliance systems operations multi state product administered central business unit technology platform first client xexxa managed hipaa transactions codes sets project washington plan goal transformation health plan ebusiness managed projects develop infrastructure applications enable internet edi web portals realigned business processes technology implementations rohit thukral resume    tealeaf associates management consultants xcrohit thukral thuky phone x portland email xexxa helped establish manage hipaa pmo assisted client aligning program key hipaa related goals defined developed processes governance organization approach manage multi million three year long effort incorporated methods systems drive enterprise wide change incorporating internet edi security privacy xexxa provided impetus guidance key ebusiness initiatives top level business management developed medicaid rate audit process state pa subcontractor mercer consulting netscape aol time warner iplanet sun netscape alliance sr principal ebusiness strategist january  january  worldwide practice conducted ebusiness strategy engagements iplanet sun microsystems accounts worldwide advised global fortune  corporations educated top executives potential impact net economy businesses developed complete ebusiness strategic plans clients including vision specific net economy goals ebusiness model identification key stakeholders value proposition financial projections architectural framework ebusiness roadmap implementation plan worked major iplanet sun accounts ebusiness strategy customer contact included strategy consulting engagements executive round table discussions industry client forums authored current interest white papers teamed account managers nurture key client relationships set strategy major corporate accounts directed health care strategy practice netscape communications corp february  december  consulting practice director pacific northwest usa established directed pacific northwest ebusiness implementation consulting practice netscape managed aspects practice including business development resource management recruiting implementation planning approach wrote consulting proposals defined estimated projects nurtured client relationships resolved issues project planning execution delivery quality assurance practice related responsibilities recruited mentored coached team members achieved initial year revenues  region directly responsible regional practice growth sales targets alliancespartnerships practice profitability netscape internet multi tier architecture incorporated oracle dbms jee xml ssl ldap pki eai netegrity claremont technology group senior director november  february  pacific northwest usa asia pacific key responsibilities included management consulting related project delivery multiple clients west coast managed major accounts multiple full lifecycle business projects going responsibility business developmentexpansion project profitability recruiting resource development nurturing strategic client relationships industry focus health care financial services technology platforms included ibm legacy oracle dbms wintelsununix client server internet developed consulting market strategy asia pacific region assignment country manager japan additional responsibility hong kong march  february  worked indian team establish offshore outsourcing development center philippines unisys worldwide information services senior project manager august  october  portland oregon provided project management business engineering system development consulting services major power generating wholesaler pacific northwest managed full lifecycle business technical analysis mainframe client server development projects assignments included development executive information system reengineering expenditure cycle financial processes systems development client server billing system participated large scale business development worldwide technology platforms included ibm legacy wintelsun client server participated several business development efforts us uk new zealand rohit thukral resume    tealeaf associates management consultants xcrohit thukral thuky phone portland email accenture andersen consulting senior consultant may  august  boston massachusetts provided management consulting services businesses hospitals government agencies initial focus technical development dba legacy environments leading business analysis development team leadership opportunities led teams responsible area restructuring major business process reengineering effort corporate acquisition due diligence prominent boston based insurer redesign sales administration logistic services major software company among others extensively used structured life cycle methodologies case tools technology platforms included ibm unisys legacy wintelsun client server software engineer williamson group january  april  cambridge massachusetts developed enhanced supported turnkey multi user fund raising system independent schools hospitals museums actively executed system installations user training resolution advanced technical issues graduate assistant university rhode island september  december  kingston rhode island initiated administrative computer centers microcomputer consultancy provided system lan support university business administration departments collaborated extensively writing two university textbooks basic finite mathematics assisted professors research management sciences manager marketing tea trade unilever group lipton india september  august  calcutta india roles included consumer sales management brand management tea export trading tea evaluation tasting developed executed managed quality tea blends packaging operations education training university rhode island master business administration gpa  major information technology minor marketing member phi kappa phi national honor society university madras india madras christian college bachelor arts economics honors numerous conferences classes interests continuing education health insurance hipaa multiple conferences events workgroups sunnetscape schools ebusiness practices product training service oriented architecture application servers webportal servers eai transaction engines pki etc oregon graduate institute science technology managing object oriented development projects object oriented analysis design client server methodology design development andersen consulting accenture schools system design development strategy project management business process improvement corporate modeling massachusetts institute technology telecommunication strategies system connectivity gpa  c programming gpa  world affairs worldwide travel financial markets reading theater dance golf squash tennis usa citizen passport overseas citizen india permitted live work india without limitation rohit thukral resume    tealeaf associates management consultants\n",
      "\n",
      "Similar resume number: 4\n",
      "Resume label  612  Similarity Score:  0.29310983419418335\n",
      "Candidate resume: sales person resume template graeme smith a w hubbard ave high st suite g columbus ohio  phone   xxxxxgmailcom objective achieve challenging position sales person summary qualifications xefxxb eight years experience good knowledge consumer guarantees act xefxxb good organization skills ability memorize stock xefxxb strong stamina ability spend lots time feet achievements xefxxb xefxxb best sales person year   career experience job history  present parker super stores inc columbus us senior sales representative xefxxb describe products explain use operation care customers maintain data current sales promotions policies regarding exchanges security practices xefxxb performing tasks like maintaining cash registers taking care cash deposits   xefxxb columbus super stores inc columbus us stock manager xcxefxxb comparing product invoices items received ensure shipments correct xefxxb itemized customer product selection checkout counter accepted cash charged card purchases xefxxb transported packages customers vehicles education   high school diploma bryman institute columbus professional references request\n",
      "\n",
      "Similar resume number: 5\n",
      "Resume label  625  Similarity Score:  0.2842761278152466\n",
      "Candidate resume: thomas harrison address  spring street phone    email tmwaynegmailcom current job sales associate dlr consumer products inc objective build strong productive career field sales consistently contributing revenue generating programs company strengths excellent communication skills xefxxb years experience managing customer support xefxxbexperienced selling products services various industries xefxxbconsistently meets sales targets xefxxbgreat ability work team xefxxb years experience managing social media accounts xefxxblevel  spanish proficiency xefxxbhighly organized xefxxbpunctual xefxxbexperienced managing crm programs xcwork experience sales associate  present dlr consumer products inc new york city new york responsibilities xefxxbclose convert leads paying customers xefxxbreview study client profiles xefxxbcarry outbound calls verify procured information xefxxbconfirm appointments meetings xefxxbmanage calendar activities xefxxbupdate crm xefxxbassist sales training xefxxbmaintain client relationships constant feedback xefxxbprepare review discuss findings collated sales marketing reports xefxxbwork marketing promotion strategy implementation sales executive   abaya telecommunications inc portland oregon responsibilities xefxxbclose convert leads paying customers xcxefxxbconduct outbound calls verify client information xefxxbfollow current telco provisioning status xefxxbmanage calendar activities xefxxbprepare sales reports xefxxbupdate crm xefxxbconfirm appointments meetings education college george fox university bachelor science business administration newberg oregon    gpa west linn high school high school diploma west linn oregon    gpa courses xefxxbforeign language level  spanish xefxxbjohn maxwell leadership training xefxxbcrm administration xefxxbms office xcxefxxbsocial media marketing personal information xefxxbmarried  children xefxxbdob  xefxxbhobbies include travelling music cooking\n",
      "\n",
      "Similar resume number: 6\n",
      "Resume label  1087  Similarity Score:  0.2836053967475891\n",
      "Candidate resume: resume xcdr h john fuller  highway  north po box  mineola texas     home    fax    cell aaafullersuddenlinknet education        texas tech university texas university doctoral program stephen f austin state university stephen f austin state university dallas baptist college dallas baptist college doctor education educational administration master education master science bachelor arts associate science major emphasis undergraduate level mathematics biology education major emphasis graduate level mathematics educational administration college credit undergraduate graduate  hours  hours  hours undergraduate gpa  graduate gpa  experience  years education  years school administration  part time principal  full time principal  superintendent  years classroom teaching  year college teaching graduate assistant   wylie independent school district multiple class aaaa superintendent accomplishments see attached list   san marcos consolidated isd class aaaaa superintendent accomplishments see attached list   muleshoe independent school district class aaa superintendent accomplishments see attached list   wells independent school district class superintendent accomplishments see attached list xc  central independent school district class aa high school principal accomplishments developed faculty handbook initiated five year planning program   richardson independent school district class aaaaa mathematics teacher accomplishments developed multi level teaching materials mathematics participated team teaching introduced mathematics laboratory   wells independent school district class basketball coach mathematics teacher accomplishments applied received regional classroom grant mathematics laboratory two successful seasons basketball coach    wins losses    wins losses   stephen f austin state university graduate assistant teaching freshman algebra accomplishments completed survey mathematical literature available secondary mathematics teacher   palmer independent school district class part time principal mathematics teacher basketball coach accomplishments three successful seasons basketball coach    wins losses    wins losses    wins losses professional accomplishments xc pesent texas association school administrators tasa executive committee member   texas association school administrators president   region x superintendent year state finalist tasb selected member  st century collin county inside collin county  servant leadership award dallas baptist university  distinguished alumni award dallas baptist university  grand lodge texas lamar award excellence   board trustee member texas center educational research chairperson board trustees   term   state membership chairperson texas association school administrators tasa   fellow meadows executive leadership program tasaaasa  region xvii superintendent year state finalist tasb   member region xvii education service center annual evaluation committee   member region xvii education service center migrant advisory committee legislative liaison region vii education service center cherokee county     super superintendent award texas parent teachers association   member advisory board east texas adult education cooperative cherokee county accomplishments dallas baptist college                 mathematics award mathematics award physics award greek award english award secondary education award number one scholastic ranking junior senior class president whos among students american universities colleges elected pi mu epsilon honorary mathematics fraternity recognition superior achievement field mathematics president wells lions club texas american legion boys state program counselor xc        director texas american legion boys state program wylie chamber commerce director president wylie chamber commerce president wylie lions club current memberships clubs organizations first united methodist church mineola mineola lions club texas association school administrators texas parent teachers association life time member special interests ministering pastors small rural churches youth sports summer baseball basketball etc farmingranching fishing personal date birth place birth marital status height weight health    lbs good october   dallas texas married gayle two boys jason  years kris  years three girls heather  years callie cassie  years nine grandchildren tyson  years noah  years jacelyn  years jonah  years kennedy  years tierany  kamdyn  years kipton  year justus  year xcmajor accomplishments wylie independent school district  recognized district state texas accountability system    campuses recognized exemplary   five successful bond issues totaling   school district recognized leader area technology  fund balance steadily increased  years  school board recognized state finalist region x representative texas association school administrators recognition program  successful building construction program  established character education program  facilitated establishment wylie education foundation  improved working relations city county  established roof replacement maintenance program district  established electronic curriculum  established distance learning laboratory  established first know communications program  established electronic gradebook parent access  updated website  xcmajor accomplishments san marcos consolidated independent school district  developed implemented  year technology plan included twoway interactive video utilizing fiber optics two campuses southwest texas state university gary job corp education center  major revisions additions made curriculum  developed implemented strategic plan comprehensive school improvement  successful  million bond election  initiated employment recruiting program  initiated faculty advisory council  initiated student advisory council major accomplishments xcin muleshoe independent school district  major revisions additions made curriculum  smooth implementation chapter   implementation district wide microcomputer program  additional physical education classes elementary schools  district wide school improvement program initiated a b c d goal driven data driven collaboration high expectations  implemented improved drug education program  senior citizens activity program  club initiated  fifth saturday program initiated superintendent meets public issues concerns  applied received discretionary grant us department education incentive program teachers  construction renovation program without bond issue  initiated employment recruiting program  initiated faculty advisory council  initiated student advisory council  initiated teacher incentive program multipro xcmajor accomplishments wells independent school district  major revisions additions made curriculum  structured reading program initiated junior high school program included controlled readers utilized remedial speed reading instruction   career education infused curriculum additional high school courses added curriculum a b c d drafting advanced mathematics courses advanced science courses spanish  organized physical education classes added elementary program  introduced computer assisted instruction grades k   developed scope sequence reading mathematics k   parent volunteer program initiated  senior citizens activity program  club initiated  initiated school wide management system management system  beyond  applied received  plus grants donations area industry temple associates southland foundation st regis belvin stewart contractor development sports complex  constructed additional classrooms without bond issue  initiated employment recruiting program  expanded participation university interscholastic league literary competition xcphilosophy believe educational program school district designed help every student realize experience maximum mental emotional physical growth also believe students learn well succeed school instruction delivered intentional systematic sensitive manner school program designed afford every student opportunity success academics extra curricular activities program varied recognize different needs interests aptitudes students school program utilize technology several creative ways believe superintendent school district must team leader working closely school board faculty staff superintendent must instructional leader well skilled fiscal manager must work diligently keep individuals well informed functions within school district superintendent must well informed current educational trends issues including legislative process superintendent schools must ability deal people effectively able make meaningful decisions circumstances superintendent must role model reference honesty integrity believe effective schools following characteristics high expectations student success collaboration goal driven sound management practices strong discipline sense mission data driven instructional leadership therefore believe imperative superintendent data driven administration must utilize respond data rather feelings emotions philosophy education soundly based flexible enough change adapt future needs students communities h john fuller xcbiographical sketch xcbiographical sketch dr howard johnson h john fuller dr h john fuller served superintendent schools wylie independent school district   serving superintendent schools wylie dr fuller recognized one outstanding superintendents region    school year served president texas association school administrators dr fuller retired june   years experience public education  years superintendent prior wylie dr fuller served superintendent schools san marcos cisd muleshoe isd wells isd educational experience includes  year full time principal  years part time principal  years classroom teacher  year graduate teaching assistant dr fullers educational training spans six universities dallas baptist university university texas arlington university north texas stephen f austin state university texas university texas tech university dallas baptist university dr fuller received mathematics award physics award greek award english award secondary education award number one scholastic ranking junior also served senior class president  dr fuller received distinguished alumni award dallas baptist university  received servant leadership award dallas baptist university dr fullers professional accomplishments include selected texas parent teachers association receive super superintendent award  named state finalist  superintendent year contest sponsored annually texas association school boards  region  superintendent year xche served chairperson board trustees texas center educational research also served chairperson texas association school administrators tasa education service center region xiii past president tasa additionally served director american legion boys state program state texas  years five children nine grandchildren jason oldest son graduate texas university southwestern theological seminary currently serves youth minister first baptist church orange texas jason married former miss shelley walters houston texas shelley school teacher parents noah jonah justus fuller kris second son also graduate texas university working mathematics teacher basketball coach cedar ridge high school round rock isd kris married former miss kim davis san marcos texas kim english teacher coach also serving cedar ridge high school round rock kris kim parents kennedy lynn kamdyn le fuller heather oldest daughter graduate texas commerce also school teacher heather currently teaches groves elementary wylie isd heathers husband brandon neighbors health representative serving east texas area brandon heather parents tyson jacelyn tierany kipton neighbors callie cassie twin daughters graduates dallas baptist university cassie callie represented dallas baptist university athletics participating two years cross country team callie goalie dbu soccer team two seasons callie cassie active several christian ministries dbu school teachers callie married computer specialist shane carden teaches cobb middle school friscoe isd teaches mcmillan junior high school wylie isd cassie searching soul mate xchis wife gayle entrepreneur author business professional owns teacher supply store north texas apples teacher greenville known many step teks author dr fuller gayle currently live mineola owners g j fitness life center mineola members first united methodist church mineola next five years plan build retreat ministers small rural churches  acres include  acre lake\n",
      "\n",
      "Similar resume number: 7\n",
      "Resume label  108  Similarity Score:  0.27828139066696167\n",
      "Candidate resume:  waverly place manhattan ny     bgerrardgnetcom e benjamin gerard objective obtain challenging position within financial institution allow use management sales customer service skills help grow company experience  present manhattan mortgage co new york ny branch manager xcx manage branch employees xcx oversee origination loans xcx client sales xcx manage branch compliance files xcx interview hire new employees xcx branch trainer xcx review enforce company policies procedures   dow jones co new york ny regional operations manager xcx sales relationship major accounts xcx client requests training functionality xcx transactional products sales xcx process flow improvement xcx creation training documents xcx public speaking recruiting   dow jones co new york ny project management xcx gathered information many operations managers regarding day day business xcx configuration sap software meet department shipping needs xcx testing security new sap software xcx training new best software entire operations department   dow jones co new york ny technical support team leader xcx increased communication within technical support department regionally xcx wrote procedural documents posted tdoc global use xcx help implement new global gensys phone system xcx increased technical procedural knowledge team members education   itt technical institute albany ny xcx diploma technical support networking   newcastle high school resume contributed sample purposes new york ny written xcxaaresumewizardcom xcbenjamin gerard  waverly place manhattan ny     bgerardgnetcom management professional er mortgage xexxa banking xexxa investment banking xexxa financial services results driven professional progressive management career financial services mortgage banking industries skilled developing executing targeted business initiatives drive customer growth achieve sales objectives enhance bottom line profits highly effective communicator team leader proven ability build long term relationships internal external customers establishing high level confidence trust visionary leader keen understanding business priorities demonstrated expertise rapidly advancing business goals revenue producing activities core leadership qualifications xexxa team building leadership xexxa staff training development xexxa business planning xexxa account development retention xexxa major account management xexxa operations management xexxa market penetration strategies xexxa risk management xexxa pl budgeting cost control xexxa new business development xexxa consultative selling strategies xexxa project management professional experience manhattan mortgage company new york ny  present residential mortgage lender  employees branch locations servicing borrowers new york arizona florida branch manager manage daily operations growing branch primary focus driving revenue growth increasing profit managing risk provide leadership direction overseeing performance  branch employees across diverse functional areas including sales payroll accounts receivable payable compliance manage branch pl monthly expense budget   maintain full accountability attainment branch monthly goals maintain highest standards fiscal management practices business ethics adhering federal state local laws regulations xexxa provide operational support facilitate ongoing branch needs recruitment growth loan origination aft xexxa xexxa spearheaded initiative add new lenders portfolio obtain licenses florida arizona selected accomplishments built branch ground floor thriving operation currently produces   million monthly gross sales recruited hired trained entire staff achieved recognition branch month three separate occasions invited sit companys board directors dow jones company new york ny   leading provider financial information data services news financial companies organizations  users north america additional  worldwide regional operations manager   promoted key management role companys corporate headquarters nyc charged expanding developing resources optimizing full potential account relationships provided constructive input areas sales contracts systems management client training sales projects client system upgrades personally managed account relationships morgan stanley charles schwab xexxa selected board directors develop business plans several different departments present board trustees followed department managers ensure plans properly implemented xexxa created ticketing system significantly enhanced ease accuracy tracking client requests selected accomplishments played key role sales team negotiated largest sale companys history covering  terminals producing  monthly income achieved  account penetration several large ncy based companies improving client relations resume contributed sample purposes written xcxaaresumewizardcom xcbenjamin gerard page  recognized employee month salesman month dow jones company continued project manager   planned scheduled managed activities related successful implementation two major projects global phone system global shipping system sap identified interviewed evaluated vendors project facilitated bidding process worked closely winning vendors overseeing timely installation software hardware ensure successful completion projects within timelines budget constraints established  new call centers los angeles london france mexico city australia bangkok tokyo singapore trained employees use new global phone system effectively communicate local clients xexxa facilitated seamless cutover new phone system included creation training documents xexxa er xexxa collaborated sap technical professionals implementation global shipping system traveled office locations throughout world train employees proper use system selected accomplishment created shipping efficiencies slashed global shipping costs  reduced manpower requirements every warehouse  resulting greatest cost savings companys history technical support team leader   led directed technical support team ensure application best practice providing effective efficient system maintenance services provided hands training steadily increase technical procedural knowledge team members improved level quality communication within technical support department regional basis xexxa wrote procedural documents posted technical departments intranet site global use xexxa trained new employees liaised departments improve process flow aft xexxa education professional diploma computer science itt technical institute professional development train trainer training clinic professional affiliations national society accountants american institute professional bookkeepers licensed mortgage banker ny az fl professional memberships new york city chamber commerce education committee new member committee new york city economic development committee member new york city board realtors associate member march dimes walk committee team captain resume contributed sample purposes written xcxaaresumewizardcom\n",
      "\n",
      "Similar resume number: 8\n",
      "Resume label  853  Similarity Score:  0.27757060527801514\n",
      "Candidate resume: finance project manager resume edward munoz  elliott street fitzwilliam nh     email job objective would like considered finance project manager company service employees would team highlights qualifications xefxxb experience implementing financial activities projects xefxxb huge knowledge generally accepted accounting principles xefxxb deep knowledge oracle relational database xefxxb ability prepare achieve project strategies xefxxb ability manage communication management xefxxb remarkable skills reporting systems xefxxb good communication skills forms xefxxb proficient microsoft office applications professional experience finance project manager johnson controls fitzwilliam nh october  present xefxxb administered various activities project finances xefxxb provided training measured employee performance xefxxb prepared reports ensured compliance gaap regulations xefxxb maintained confidentiality client information xefxxb monitored cost elements ensured accuracy billing xefxxb provided support financial process tools xefxxb designed new business proposals clients xefxxb forecasted requirements upcoming fiscal year xcfinance project analyst bhp billiton fitzwilliam nh august  september  xefxxb maintained record financial accounting activities xefxxb evaluated foreign exchange conversions assisted reconciliation xefxxb monitored recorded third party expenditures xefxxb coordinated project team provided update financial record xefxxb provided financial support warranty claims xefxxb determined efficient control bank accounts finance project translator dynamics associates fitzwilliam nh may  july  xefxxb collaborated industry bankers maintained knowledge local market xefxxb monitored project finance activities achieved targets xefxxb implemented applicable debt finance activities capital market xefxxb coordinated syndicate desk project finance markets xefxxb analyzed credit activities obtain appropriate approval education bachelors degree finance business management wilberforce university wilberforce oh\n",
      "\n",
      "Similar resume number: 9\n",
      "Resume label  105  Similarity Score:  0.27676549553871155\n",
      "Candidate resume: resume richard kaiser project management specialist  glen ives way madison al     cell    career summary seasoned professional proven leadership management technical experience highly competitive positions within diverse organizations increasing complexity risk managing cost schedule performance programs multi million dollar annual budgets considerable time spent key roles supporting manufacturing operations resolving mitigating technical problems maintain performance cost schedule actively participated integrated product team ipt activities incorporating technical solutions across multiple disciplines implementing lean principles technologies optimize production capabilities order simplify improve manufacturing process special skills project management earn value management system evms schedule development resource planning cost account management cam manufacturing engineering manufacturing assembly planning property management proficient word excel powerpoint project visio security clearance active secret dod issued july   education bachelors degree embry riddle aeronautical university daytona beach florida major professional aeronautics minor aviation safety graduated honors work experience xexxaproject management specialist boeing  present huntsville al develop project plans deliverables support integrated battle command system ibcs plug fight pf integrated product team ipt develop establish tools monitoring integrating project elements product configuration communications concerning change management processes decisions coordinate schedule development resource requirements needed manufacture integrated fire control units ie plug n fight kits serve liaison project team finance integrated master schedule ims production line management monitor cost schedule trends using earned value management system evms variance analyses risk assessments develop plans recommend necessary changes negotiate project changes incorporate changes maintain statements work sow costschedule baselines support product reviews transition deliverables customer perform close documents provide lessons learned xexxa project management specialist boeing   huntsville al performed senior program management specialist acting primary interface business unit ensuring assigned staff executing tasks provided weekly progress reports deliverables brigade combat team modernization bctm program test resources facilities trf sub ipt acted assistant cost account manager cam responsible integration cost schedule resource allocation requirements needed establishment yearly rolling wave project baselines monitor control cost page   xcresume richard kaiser project management specialist  glen ives way madison al     cell    schedule trends using earned value management system evms best practices supporting periodic program reviews monitored sub contractor performance determine status trends issues impacting program objectives serve team lead program material acquisition recommend courses action keep program events milestones synced program integrated master schedule ims provide bottom basis estimate boe define specifications requests proposal rfp supply month end costschedule variance analysis reports xexxa production planning control manager westwind inc   huntsville al manager charge production planning control ppc department consisted six production planners responsible scheduling planning execution aspects manufacturing well tracking procured material components engineering development actual installation support logistical support facility lsf contract uh  blackhawk ch  chinook oh  kiowa ah  apache helicopters included makebuy decisions schedule development material requirements planning mrp development manufacturing bills material bom submitting requests proposal rfp tracking purchase order po delivery dates responsibilities included reviewing statement work sow insure compliance attending kick meetings addressing nonconformance issues assignment work responsibilities weekly status reporting interviewing staffing providing labor material estimates basis estimate boe development xexxa manufacturing manager boeing   decatur al directed nine employees delta iv common booster core assembly area nd stage assembly area interstage assembly area swing shift duties included coordination day shift managers tracking engineering changes resolving assembly testing issues monitoring work assignments resolution closure nonconformances enforcement policies procedures managing cost center budget development implementation process improvements statusing nights accomplishments often required coach counsel mentor employees keep motivated meet goals targets xexxa mfg engineeringprod ops specialist boeing   decatur al responsible developing implementing manufacturing processes integrated assembly check area delta iv production facility ensured completion manufacturing assembly activities supported resolution closure nonconformances production related issues reviewed engineering drawings producibility decomposed drawings requirements manufacturing work instructions identified tooling requirements scheduled tooling recertification calibration metrology developed manufacturing bills material bom reviewed incorporated engineering changes dispositioned non conformance provided root cause preventive measures analysis provided guidance oversight personnel preparation installation cryogenic fuel tank foam insulation propulsion system including installation rs  main booster engine page   xcresume richard kaiser project management specialist  glen ives way madison al     cell    xexxa manufacturing engineer boeing contract   decatur al responsible development production assembly tooling initial set staging delta iv rocket assembly facility decatur alabama facility relocated pueblo colorado created manufacturing processes helped decide major assembly sequence requirements proposed system test points would incorporate lean manufacturing principles build process assisted leading lean manufacturing assessments lma production preparation process p events optimize manufacturing processes prior implementation worked liaison role engineering tooling production planning review designs manufacture assembly help define influence designs support overall project integration xexxa mfg engineerplanner boeing contract   pueblo co responsible providing manufacturing assistance assigned production assembly areas delta rocket facility break engineering drawings schematics specifications create manufacturing bills material bom work instructions document production assembly check hardware provide liaison support shop floor investigate critical manufacturing issues analyze new technologies concepts processes simplify improve manufacturing processes establish processes managing tooling implement lean manufacturing techniques designed improve work flow provide liaison support assembly areas design engineering quality control material review board mrb implementation rework planning resolution closure nonconformances xexxa floor covering connection owneroperator   colorado springs co owner charge directing scheduling work  employees submitted bids various projects respond requests proposals maintain corporate service accounts solicit contract proposals maintain financial records maintain staffing requirements implement quality control maintain company equipment foster employee relations company averaged gross income m annually xexxaproduction planner mcdonnell douglas contract   pueblo co responsible breaking engineering drawings change memos wiring diagrams schematics functional tests supplier data create manufacturing bills material bom work instructions document production assembly check hardware often worked configuration management personnel perform audits trace configuration anomalies built design engineering configurations duties also included interfacing mrb creation rework planning maintaining updating assembly work instructions system shop floor incorporating applicable engineering changes xexxa structures fab functional planner lockheed   palmdale ca page   xcresume richard kaiser project management specialist  glen ives way madison al     cell    responsibilities support periodic depot maintenance pdm facility modification maintenance requirements sr  u aircraft required specialized knowledge manufacturing methods fabrication processes eg forming stamping machining heat treatment instrumentation data acquisition control systems necessary select best method producing parts tools assemblies order preparation work instructions required tear manufacturing replacement inspections modifications xexxa structures fab functional planner lockheed   palmdale ca responsible incorporation depot level maintenance requirements work instructions support shop floor modifications f  flight test period required specialized knowledge rework assembly processes manufacturing capabilities eg composites structures coatings data needed defining delivery configurations driven multitude sources eg program directives flight hour maintenance requirements service bulletins engineering drawings change memos ability differentiate production manufacturing processes service procedures critical xexxa structural assembler lockheed   palmdale ca assembling fuselage structural sections l  aircraft frames bulkheads doors following blueprints specifications using hand tools power tools measuring instruments position align subassemblies jigs fixtures following blueprint station lines index points required trim file parts fit verify fitting tolerances using measuring instruments gauges calipers drill ream countersink holes subassemblies bolt rivet otherwise fasten subassemblies structural assembly using hand tools power tools page  \n",
      "\n",
      "Similar resume number: 10\n",
      "Resume label  1006  Similarity Score:  0.27428117394447327\n",
      "Candidate resume: assistant accountant resume sample kishore kumar jha e mail cmakishorejhagmailcom mob  career objective seeking challenging career field taxation accounting costing working environment stimulates intellect provides freedom initiate realize goals simultaneously contribute best way towards organizations vision realization j k rai associate ca firm accounts assistant august  till date job responsibilities xefxxbcxefxxavoucher entry tally  xefxxbcxefxxaworked word excel xefxxbcxefxxaitr filling xefxxbcxefxxawork tds vat service tax xefxxbcxefxxa banking related work rgsharma associates cwa firm cost trainee per mandatory requiement icwai exam feb  july  job responsibilities xefxxbcxefxxaxefxxaall work relating costing xcworking profile xexxa costing accounts finance professional qualification xefxxbcxefxxaxefxxaicwai final pursuing icwai final stage  xefxxbcxefxxaxefxxapassed icwa final stage  xefxxbcxefxxaxefxxapassed icwa inter stage  xefxxbcxefxxaxefxxapassed icwa inter stage  xefxxbcxefxxaxefxxacompleted hr computer training program first computer conducted icwai xefxxbcxefxxaxefxxatyping speed  wpm educational qualification xefxxbcxefxxaxefxxabcom l n u darbhanga  marks xefxxbcxefxxaxefxxaintermediate biec patna  marks xefxxbcxefxxaxefxxamatriculation bseb patna  marks strength xefxxbcxefxxaxefxxahard working self confidence punctual dedication personal details date birth fathers name residence marital status gender  late moda nand jha nationality language known hobbies h  sarita vihar south delhi  unmarried male indian hindi english playing cricket xcdeclaration declare information true best knowledge belief date place kishore kumar\n"
     ]
    }
   ],
   "source": [
    "given_job_predict_similiar_resumes()"
   ]
  },
  {
   "cell_type": "markdown",
   "metadata": {},
   "source": [
    "### still need to get 'xefxxb', 'xexxa', out of resumes"
   ]
  },
  {
   "cell_type": "code",
   "execution_count": null,
   "metadata": {},
   "outputs": [],
   "source": []
  },
  {
   "cell_type": "code",
   "execution_count": null,
   "metadata": {},
   "outputs": [],
   "source": []
  },
  {
   "cell_type": "code",
   "execution_count": null,
   "metadata": {},
   "outputs": [],
   "source": []
  },
  {
   "cell_type": "markdown",
   "metadata": {},
   "source": [
    "<br>\n",
    "<br>\n",
    "<br>\n",
    "<br>\n",
    "<br>\n",
    "\n",
    "# K Means Clustering\n",
    "Appears that our embeddings are pretty close together. So either the resumes are similar or the embeddings aren't great"
   ]
  },
  {
   "cell_type": "markdown",
   "metadata": {},
   "source": [
    "https://medium.com/@ermolushka/text-clusterization-using-python-and-doc2vec-8c499668fa61"
   ]
  },
  {
   "cell_type": "code",
   "execution_count": 85,
   "metadata": {},
   "outputs": [],
   "source": [
    "from sklearn.cluster import KMeans\n",
    "from sklearn.decomposition import PCA"
   ]
  },
  {
   "cell_type": "markdown",
   "metadata": {},
   "source": [
    "### KMeans for job vectors"
   ]
  },
  {
   "cell_type": "code",
   "execution_count": 91,
   "metadata": {},
   "outputs": [
    {
     "name": "stderr",
     "output_type": "stream",
     "text": [
      "/Users/richardkuzma/opt/anaconda3/lib/python3.7/site-packages/ipykernel_launcher.py:5: DeprecationWarning: Call to deprecated `doctag_syn0` (Attribute will be removed in 4.0.0, use docvecs.vectors_docs instead).\n",
      "  \"\"\"\n",
      "/Users/richardkuzma/opt/anaconda3/lib/python3.7/site-packages/ipykernel_launcher.py:9: DeprecationWarning: Call to deprecated `doctag_syn0` (Attribute will be removed in 4.0.0, use docvecs.vectors_docs instead).\n",
      "  if __name__ == '__main__':\n",
      "/Users/richardkuzma/opt/anaconda3/lib/python3.7/site-packages/ipykernel_launcher.py:10: DeprecationWarning: Call to deprecated `doctag_syn0` (Attribute will be removed in 4.0.0, use docvecs.vectors_docs instead).\n",
      "  # Remove the CWD from sys.path while we load stuff.\n",
      "/Users/richardkuzma/opt/anaconda3/lib/python3.7/site-packages/ipykernel_launcher.py:11: DeprecationWarning: Call to deprecated `doctag_syn0` (Attribute will be removed in 4.0.0, use docvecs.vectors_docs instead).\n",
      "  # This is added back by InteractiveShellApp.init_path()\n"
     ]
    },
    {
     "data": {
      "image/png": "[encoded data removed]",
      "text/plain": [
       "<Figure size 432x288 with 1 Axes>"
      ]
     },
     "metadata": {
      "needs_background": "light"
     },
     "output_type": "display_data"
    }
   ],
   "source": [
    "# define number of clusters here\n",
    "kmeans_jobs_model = KMeans(n_clusters=2) \n",
    "\n",
    "\n",
    "X = kmeans_jobs_model.fit(d2v_jobs_model.docvecs.doctag_syn0)\n",
    "labels=kmeans_jobs_model.labels_.tolist()\n",
    "\n",
    "\n",
    "l = kmeans_jobs_model.fit_predict(d2v_jobs_model.docvecs.doctag_syn0)\n",
    "pca = PCA(n_components=2).fit(d2v_jobs_model.docvecs.doctag_syn0)\n",
    "datapoint = pca.transform(d2v_jobs_model.docvecs.doctag_syn0)\n",
    "\n",
    "plt.figure\n",
    "label1 = [\"#FFFF00\", \"#008000\", \"#0000FF\", \"#800080\"]\n",
    "color = [label1[i] for i in labels]\n",
    "plt.scatter(datapoint[:, 0], datapoint[:, 1], c=color)\n",
    "\n",
    "centroids = kmeans_jobs_model.cluster_centers_\n",
    "centroidpoint = pca.transform(centroids)\n",
    "plt.scatter(centroidpoint[:, 0], centroidpoint[:, 1], marker='^', s=150, c='#000000')\n",
    "plt.show()"
   ]
  },
  {
   "cell_type": "markdown",
   "metadata": {},
   "source": [
    "### KMeans for resumes"
   ]
  },
  {
   "cell_type": "code",
   "execution_count": 98,
   "metadata": {},
   "outputs": [
    {
     "name": "stderr",
     "output_type": "stream",
     "text": [
      "/Users/richardkuzma/opt/anaconda3/lib/python3.7/site-packages/ipykernel_launcher.py:5: DeprecationWarning: Call to deprecated `doctag_syn0` (Attribute will be removed in 4.0.0, use docvecs.vectors_docs instead).\n",
      "  \"\"\"\n",
      "/Users/richardkuzma/opt/anaconda3/lib/python3.7/site-packages/ipykernel_launcher.py:9: DeprecationWarning: Call to deprecated `doctag_syn0` (Attribute will be removed in 4.0.0, use docvecs.vectors_docs instead).\n",
      "  if __name__ == '__main__':\n",
      "/Users/richardkuzma/opt/anaconda3/lib/python3.7/site-packages/ipykernel_launcher.py:10: DeprecationWarning: Call to deprecated `doctag_syn0` (Attribute will be removed in 4.0.0, use docvecs.vectors_docs instead).\n",
      "  # Remove the CWD from sys.path while we load stuff.\n",
      "/Users/richardkuzma/opt/anaconda3/lib/python3.7/site-packages/ipykernel_launcher.py:11: DeprecationWarning: Call to deprecated `doctag_syn0` (Attribute will be removed in 4.0.0, use docvecs.vectors_docs instead).\n",
      "  # This is added back by InteractiveShellApp.init_path()\n"
     ]
    },
    {
     "data": {
      "image/png": "[encoded data removed]",
      "text/plain": [
       "<Figure size 432x288 with 1 Axes>"
      ]
     },
     "metadata": {
      "needs_background": "light"
     },
     "output_type": "display_data"
    }
   ],
   "source": [
    "# define number of clusters here\n",
    "kmeans_resumes_model = KMeans(n_clusters=3) \n",
    "\n",
    "\n",
    "X = kmeans_resumes_model.fit(d2v_resume_model.docvecs.doctag_syn0)\n",
    "labels=kmeans_resumes_model.labels_.tolist()\n",
    "\n",
    "\n",
    "l = kmeans_resumes_model.fit_predict(d2v_resume_model.docvecs.doctag_syn0)\n",
    "pca = PCA(n_components=2).fit(d2v_resume_model.docvecs.doctag_syn0)\n",
    "resume_datapoint = pca.transform(d2v_resume_model.docvecs.doctag_syn0)\n",
    "\n",
    "plt.figure\n",
    "label2 = [\"#FFFF00\", \"#008000\", \"#0000FF\", \"#800080\"]\n",
    "color = [label2[i] for i in labels]\n",
    "plt.scatter(resume_datapoint[:, 0], resume_datapoint[:, 1], c=color)\n",
    "\n",
    "resume_centroids = kmeans_resumes_model.cluster_centers_\n",
    "resume_centroidpoint = pca.transform(resume_centroids)\n",
    "plt.scatter(resume_centroidpoint[:, 0], resume_centroidpoint[:, 1], marker='^', s=150, c='#000000')\n",
    "plt.show()"
   ]
  },
  {
   "cell_type": "code",
   "execution_count": null,
   "metadata": {},
   "outputs": [],
   "source": []
  },
  {
   "cell_type": "code",
   "execution_count": null,
   "metadata": {},
   "outputs": [],
   "source": []
  }
 ],
 "metadata": {
  "kernelspec": {
   "display_name": "Python 3",
   "language": "python",
   "name": "python3"
  },
  "language_info": {
   "codemirror_mode": {
    "name": "ipython",
    "version": 3
   },
   "file_extension": ".py",
   "mimetype": "text/x-python",
   "name": "python",
   "nbconvert_exporter": "python",
   "pygments_lexer": "ipython3",
   "version": "3.7.6"
  }
 },
 "nbformat": 4,
 "nbformat_minor": 4
}
