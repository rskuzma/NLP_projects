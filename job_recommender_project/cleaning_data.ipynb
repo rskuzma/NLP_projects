{
 "cells": [
  {
   "cell_type": "markdown",
   "metadata": {},
   "source": [
    "## Cleaning Resume and Job Posts Data for use by Job Recommender System "
   ]
  },
  {
   "cell_type": "markdown",
   "metadata": {},
   "source": [
    "### Datasets\n",
    "* https://www.kaggle.com/maitrip/resumes; 1219 resumes; ID, category, text description\n",
    "* https://www.kaggle.com/samdeeplearning/deepnlp; 125 resumes; may drop this one\n",
    "* https://www.kaggle.com/madhab/jobposts/data; 19,000 job posts from 2004-2015.\n",
    "\n",
    "\n"
   ]
  },
  {
   "cell_type": "markdown",
   "metadata": {},
   "source": [
    "Imports"
   ]
  },
  {
   "cell_type": "code",
   "execution_count": 144,
   "metadata": {},
   "outputs": [],
   "source": [
    "import pandas as pd\n",
    "import numpy as np\n",
    "import seaborn as sns\n",
    "import matplotlib.pyplot as plt\n",
    "import re\n",
    "import nltk\n",
    "import spacy\n",
    "import string"
   ]
  },
  {
   "cell_type": "code",
   "execution_count": null,
   "metadata": {},
   "outputs": [],
   "source": []
  },
  {
   "cell_type": "markdown",
   "metadata": {},
   "source": [
    "First, start with resume dataset"
   ]
  },
  {
   "cell_type": "code",
   "execution_count": 2,
   "metadata": {},
   "outputs": [],
   "source": [
    "resume_path = '/Users/richardkuzma/coding/NLP_projects/job_recommender_project/data/resume_dataset_maitrip.csv'"
   ]
  },
  {
   "cell_type": "code",
   "execution_count": 55,
   "metadata": {},
   "outputs": [
    {
     "data": {
      "text/html": [
       "<div>\n",
       "<style scoped>\n",
       "    .dataframe tbody tr th:only-of-type {\n",
       "        vertical-align: middle;\n",
       "    }\n",
       "\n",
       "    .dataframe tbody tr th {\n",
       "        vertical-align: top;\n",
       "    }\n",
       "\n",
       "    .dataframe thead th {\n",
       "        text-align: right;\n",
       "    }\n",
       "</style>\n",
       "<table border=\"1\" class=\"dataframe\">\n",
       "  <thead>\n",
       "    <tr style=\"text-align: right;\">\n",
       "      <th></th>\n",
       "      <th>ID</th>\n",
       "      <th>Category</th>\n",
       "      <th>Resume</th>\n",
       "    </tr>\n",
       "  </thead>\n",
       "  <tbody>\n",
       "    <tr>\n",
       "      <th>0</th>\n",
       "      <td>1</td>\n",
       "      <td>HR</td>\n",
       "      <td>b'John H. Smith, P.H.R.\\n800-991-5187 | PO Box...</td>\n",
       "    </tr>\n",
       "    <tr>\n",
       "      <th>1</th>\n",
       "      <td>2</td>\n",
       "      <td>HR</td>\n",
       "      <td>b'Name Surname\\nAddress\\nMobile No/Email\\nPERS...</td>\n",
       "    </tr>\n",
       "    <tr>\n",
       "      <th>2</th>\n",
       "      <td>3</td>\n",
       "      <td>HR</td>\n",
       "      <td>b'Anthony Brown\\nHR Assistant\\nAREAS OF EXPERT...</td>\n",
       "    </tr>\n",
       "    <tr>\n",
       "      <th>3</th>\n",
       "      <td>4</td>\n",
       "      <td>HR</td>\n",
       "      <td>b'www.downloadmela.com\\nSatheesh\\nEMAIL ID:\\nC...</td>\n",
       "    </tr>\n",
       "    <tr>\n",
       "      <th>4</th>\n",
       "      <td>5</td>\n",
       "      <td>HR</td>\n",
       "      <td>b\"HUMAN RESOURCES DIRECTOR\\n\\xef\\x82\\xb7Expert...</td>\n",
       "    </tr>\n",
       "  </tbody>\n",
       "</table>\n",
       "</div>"
      ],
      "text/plain": [
       "   ID Category                                             Resume\n",
       "0   1       HR  b'John H. Smith, P.H.R.\\n800-991-5187 | PO Box...\n",
       "1   2       HR  b'Name Surname\\nAddress\\nMobile No/Email\\nPERS...\n",
       "2   3       HR  b'Anthony Brown\\nHR Assistant\\nAREAS OF EXPERT...\n",
       "3   4       HR  b'www.downloadmela.com\\nSatheesh\\nEMAIL ID:\\nC...\n",
       "4   5       HR  b\"HUMAN RESOURCES DIRECTOR\\n\\xef\\x82\\xb7Expert..."
      ]
     },
     "execution_count": 55,
     "metadata": {},
     "output_type": "execute_result"
    }
   ],
   "source": [
    "df = pd.read_csv(resume_path)\n",
    "df.head()"
   ]
  },
  {
   "cell_type": "code",
   "execution_count": 21,
   "metadata": {},
   "outputs": [
    {
     "data": {
      "text/plain": [
       "\"b'John H. Smith, P.H.R.\\\\n800-991-5187 | PO Box 1673 | Callahan, FL 32011 | info@greatresumesfast.com\\\\n\\\\nApproachable innovator with a passion for Human Resources.\\\\n\\\\nSENIOR HUMAN RESOURCES PROFESSIONAL\\\\nPersonable, analytical, flexible Senior HR Professional with multifaceted expertise. Seasoned Benefits Administrator with\\\\nextensive experience working with highly paid professionals in client-relationship-based settings. Dynamic team leader\\\\ncapable of analyzing alternatives and identifying tough choices while communicating the total value of benefit and\\\\ncompensation packages to senior level executives and employees.\\\\n\\\\nCORE COMPETENCIES\\\\nBenefits Administration \\\\xe2\\\\x80\\\\x93 Customer Service \\\\xe2\\\\x80\\\\x93 Cost Control \\\\xe2\\\\x80\\\\x93 Recruiting \\\\xe2\\\\x80\\\\x93 Acquisition Management \\\\xe2\\\\x80\\\\x93 Compliance Reporting\\\\nRetention \\\\xe2\\\\x80\\\\x93 Professional Services \\\\xe2\\\\x80\\\\x93 Domestic & International Benefits \\\\xe2\\\\x80\\\\x93 Collaboration \\\\xe2\\\\x80\\\\x93 Adaptability \\\\xe2\\\\x80\\\\x93 Change Management\\\\nDefined Contribution Plans \\\\xe2\\\\x80\\\\x93 Auditing \\\\xe2\\\\x80\\\\x93 Negotiation \\\\xe2\\\\x80\\\\x93 Corporate HR Policies \\\\xe2\\\\x80\\\\x93 Full Lifecycle Training \\\\xe2\\\\x80\\\\x93 401(k) \\\\xe2\\\\x80\\\\x93 Form 5500\\\\nConfidential Files \\\\xe2\\\\x80\\\\x93 EEO-1 \\\\xe2\\\\x80\\\\x93 AAP \\\\xe2\\\\x80\\\\x93 FMLA \\\\xe2\\\\x80\\\\x93 STD \\\\xe2\\\\x80\\\\x93 LTD \\\\xe2\\\\x80\\\\x93 H1-B Visa \\\\xe2\\\\x80\\\\x93 Vets 100 \\\\xe2\\\\x80\\\\x93 EAP \\\\xe2\\\\x80\\\\x93 Processing Payroll\\\\n\\\\nHR TECHNOLOGY\\\\n\\\\nHRIS Data Management & Auditing \\\\xe2\\\\x80\\\\x93 Ultipro Back Office \\\\xe2\\\\x80\\\\x93 Ultipro Web Connect\\\\nDeltek Costpoint \\\\xe2\\\\x80\\\\x93 Deltek GCS Premiere \\\\xe2\\\\x80\\\\x93 Cognos \\\\xe2\\\\x80\\\\x93 ADP\\\\n\\\\nProfessional Experience\\\\nHUMAN SERVICES, INC. \\\\xe2\\\\x80\\\\x93 Tampa, FL\\\\n\\\\n2010\\\\xe2\\\\x80\\\\x93Present\\\\n\\\\nProviding institutional behavioral health and medical management contracting services | 2,500 employees\\\\n\\\\nBenefits Manager\\\\nManage and administer a robust $13M health and welfare program; administer benefits programs for two smaller\\\\nminority business enterprise clients. Deliver excellence in client services, leveraging interpersonal skills to establish\\\\nrapport with team members. Perform cost analysis, gather claims data, coordinate enrollment and more for a large selffunded medical plan plus two smaller fully-insured plans. Analyze data and projections to create forecasts in narrative\\\\nand graph format; clearly and succinctly communicate trends to senior management in meetings. Directly supervise\\\\nstaff of 3: HR Admin, plus two Human Resource specialists.\\\\n\\\\xef\\\\x81\\\\xb3 Lead Healthcare Reform change management process, analyzing changes, developing strategic plans, and\\\\n\\\\ntimeline for crucial decisions ahead of 2014 deadlines. Communicate early changes in dependent coverage,\\\\npreventive care, and lifetime maximum benefits to employees.\\\\n\\\\n\\\\xef\\\\x81\\\\xb3 Identified, researched, and implemented HSA (Healthcare Savings Account) health insurance option for high-\\\\n\\\\ndeductible health insurance plan to provide tax-sheltered benefits for physicians and other high-income, highprofile professionals.\\\\n\\\\n\\\\xef\\\\x81\\\\xb3 Saved $30K annually by restructuring the open enrollment strategy, leveraging existing human capital and HR\\\\n\\\\nbusiness partners to achieve better communication at lower cost.\\\\n\\\\n\\\\xef\\\\x81\\\\xb3 Quickly establish rapport with employees; balance client-relationship needs with organizational goals, cost\\\\n\\\\ncontrols, and compliance requirements to create a positive work environment.\\\\n\\\\n\\\\xef\\\\x81\\\\xb3 Maximize employee recruiting and retention by implementing competitive benefits packages and clearly\\\\n\\\\ncommunicating their value to team members.\\\\n\\\\n\\\\xef\\\\x81\\\\xb3 Reduced costs $20K per year by collaborating closely with legal department to create an in-house total comp\\\\n\\\\nstatement including implications for taxes and social security; produced a better-quality analysis at lower costs.\\\\n\\\\n\\\\x0cJohn H. Smith, P.H.R. \\\\xe2\\\\x80\\\\x93 PAGE 2\\\\n\\\\n800-991-5187|info@greatresumesfast.com\\\\n\\\\nApproachable innovator with a passion for Human Resources.\\\\nHUMAN MANAGEMENT INC. \\\\xe2\\\\x80\\\\x93 Atlanta, GA\\\\n\\\\n2008\\\\xe2\\\\x80\\\\x932010\\\\n\\\\nNonprofit government consulting firm | 1,200 domestic and international employees\\\\n\\\\nSenior Human Resources Generalist\\\\nPerformed diverse Human Resources functions: administered benefits, led special projects, updated policies,\\\\ncollaborated on EEO-1, Vets 100, and Affirmative Action Plan (AAP) reporting. Revamped orientation and training\\\\nprograms for newly hired employees to include comprehensive information delivered in more-personal formats:\\\\nteleconferences, small group meetings, tours, and one-on-one conversations, with follow-up phone calls. Supervised HR\\\\nAssistant and up to 3 temporary Human Resource specialists handling high volume of work during peak periods such as\\\\nopen enrollment and company merger.\\\\n\\\\xef\\\\x81\\\\xb3 Led change management process that seamlessly integrated benefits, compensation, retirement plans, and\\\\n\\\\nlogistics for newly acquired company with 60+ employees; prepared all-encompassing reports on total\\\\ncompensation plans.\\\\n\\\\n\\\\xef\\\\x81\\\\xb3 Developed webinars and personal meetings to communicate value of benefits to employees despite reductions\\\\n\\\\nduring an economic recession; maintained employee retention and job satisfaction rankings despite cutbacks.\\\\n\\\\n\\\\xef\\\\x81\\\\xb3 Reduced overall benefit costs 10% including a decrease in STD benefits from 100% to 75% of base\\\\n\\\\ncompensation without significant increase in employee turnover.\\\\n\\\\n\\\\xef\\\\x81\\\\xb3 Researched and procured benefits for government contractors traveling to hazardous areas including Kidnap &\\\\n\\\\nRansom (K&R), increased life insurance, and travel insurance.\\\\n\\\\n\\\\xef\\\\x81\\\\xb3 Identified and implemented medical and dental benefit plans to ensure comparable compensation for\\\\n\\\\ninternational employees worldwide.\\\\n\\\\n\\\\xef\\\\x81\\\\xb3 Managed diverse retirement plans including defined contribution 403(b), 401(a), and executive 457(b) plans.\\\\n\\\\nABC CORPORATION \\\\xe2\\\\x80\\\\x93 New York, NY\\\\n\\\\n2007\\\\xe2\\\\x80\\\\x932008\\\\n\\\\nEngineering and Construction consulting | 500 international and domestic employees\\\\nSenior Human Resources Generalist\\\\nACME, INC. \\\\xe2\\\\x80\\\\x93 Washington, D.C.\\\\n\\\\n2004\\\\xe2\\\\x80\\\\x932006\\\\n\\\\nProfessional services consulting firm | 300 employees\\\\nHR Generalist / Benefits Specialist\\\\n\\\\nHUMAN RESOURCE CORPORATION \\\\xe2\\\\x80\\\\x93 Tampa, FL\\\\nIT & environmental management consulting firm | 300 employees\\\\nHuman Resources Assistant\\\\n\\\\nEducation, Certification, & Affiliation\\\\nBachelor of Science in Psychology, 2002\\\\nCOMMUNITY COLLEGE\\\\nProfessional in Human Resources (PHR) Certificate, 2010\\\\nEmployee Benefit Specialist (CEBS), Certification Pending\\\\nMember SHRM \\\\xe2\\\\x80\\\\x93 Society for Human Resource Management\\\\n\\\\n2002\\\\xe2\\\\x80\\\\x932004'\""
      ]
     },
     "execution_count": 21,
     "metadata": {},
     "output_type": "execute_result"
    }
   ],
   "source": [
    "#what does one resume look like\n",
    "df.Resume[0]"
   ]
  },
  {
   "cell_type": "markdown",
   "metadata": {},
   "source": [
    "<br>\n",
    "<br>\n",
    "<br>\n",
    "<br>\n",
    "<br>\n",
    "<br>\n",
    "<br>\n",
    "<br>\n",
    "<br>\n",
    "<br>\n",
    "<br>\n",
    "<br>\n",
    "\n",
    "## Text Preprocessing"
   ]
  },
  {
   "cell_type": "markdown",
   "metadata": {},
   "source": [
    "https://www.kaggle.com/sudalairajkumar/getting-started-with-text-preprocessing"
   ]
  },
  {
   "cell_type": "code",
   "execution_count": 56,
   "metadata": {},
   "outputs": [
    {
     "data": {
      "text/html": [
       "<div>\n",
       "<style scoped>\n",
       "    .dataframe tbody tr th:only-of-type {\n",
       "        vertical-align: middle;\n",
       "    }\n",
       "\n",
       "    .dataframe tbody tr th {\n",
       "        vertical-align: top;\n",
       "    }\n",
       "\n",
       "    .dataframe thead th {\n",
       "        text-align: right;\n",
       "    }\n",
       "</style>\n",
       "<table border=\"1\" class=\"dataframe\">\n",
       "  <thead>\n",
       "    <tr style=\"text-align: right;\">\n",
       "      <th></th>\n",
       "      <th>ID</th>\n",
       "      <th>Category</th>\n",
       "      <th>resume</th>\n",
       "    </tr>\n",
       "  </thead>\n",
       "  <tbody>\n",
       "    <tr>\n",
       "      <th>0</th>\n",
       "      <td>1</td>\n",
       "      <td>HR</td>\n",
       "      <td>b'John H. Smith, P.H.R.\\n800-991-5187 | PO Box...</td>\n",
       "    </tr>\n",
       "    <tr>\n",
       "      <th>1</th>\n",
       "      <td>2</td>\n",
       "      <td>HR</td>\n",
       "      <td>b'Name Surname\\nAddress\\nMobile No/Email\\nPERS...</td>\n",
       "    </tr>\n",
       "    <tr>\n",
       "      <th>2</th>\n",
       "      <td>3</td>\n",
       "      <td>HR</td>\n",
       "      <td>b'Anthony Brown\\nHR Assistant\\nAREAS OF EXPERT...</td>\n",
       "    </tr>\n",
       "    <tr>\n",
       "      <th>3</th>\n",
       "      <td>4</td>\n",
       "      <td>HR</td>\n",
       "      <td>b'www.downloadmela.com\\nSatheesh\\nEMAIL ID:\\nC...</td>\n",
       "    </tr>\n",
       "    <tr>\n",
       "      <th>4</th>\n",
       "      <td>5</td>\n",
       "      <td>HR</td>\n",
       "      <td>b\"HUMAN RESOURCES DIRECTOR\\n\\xef\\x82\\xb7Expert...</td>\n",
       "    </tr>\n",
       "  </tbody>\n",
       "</table>\n",
       "</div>"
      ],
      "text/plain": [
       "   ID Category                                             resume\n",
       "0   1       HR  b'John H. Smith, P.H.R.\\n800-991-5187 | PO Box...\n",
       "1   2       HR  b'Name Surname\\nAddress\\nMobile No/Email\\nPERS...\n",
       "2   3       HR  b'Anthony Brown\\nHR Assistant\\nAREAS OF EXPERT...\n",
       "3   4       HR  b'www.downloadmela.com\\nSatheesh\\nEMAIL ID:\\nC...\n",
       "4   5       HR  b\"HUMAN RESOURCES DIRECTOR\\n\\xef\\x82\\xb7Expert..."
      ]
     },
     "execution_count": 56,
     "metadata": {},
     "output_type": "execute_result"
    }
   ],
   "source": [
    "df[\"resume\"] = df[\"Resume\"]\n",
    "df.drop([\"Resume\"], axis=1, inplace=True)\n",
    "df.head()"
   ]
  },
  {
   "cell_type": "code",
   "execution_count": 23,
   "metadata": {},
   "outputs": [
    {
     "data": {
      "text/html": [
       "<div>\n",
       "<style scoped>\n",
       "    .dataframe tbody tr th:only-of-type {\n",
       "        vertical-align: middle;\n",
       "    }\n",
       "\n",
       "    .dataframe tbody tr th {\n",
       "        vertical-align: top;\n",
       "    }\n",
       "\n",
       "    .dataframe thead th {\n",
       "        text-align: right;\n",
       "    }\n",
       "</style>\n",
       "<table border=\"1\" class=\"dataframe\">\n",
       "  <thead>\n",
       "    <tr style=\"text-align: right;\">\n",
       "      <th></th>\n",
       "      <th>ID</th>\n",
       "      <th>Category</th>\n",
       "      <th>resume</th>\n",
       "    </tr>\n",
       "  </thead>\n",
       "  <tbody>\n",
       "    <tr>\n",
       "      <th>0</th>\n",
       "      <td>1</td>\n",
       "      <td>HR</td>\n",
       "      <td>b'John H. Smith, P.H.R.\\n800-991-5187 | PO Box...</td>\n",
       "    </tr>\n",
       "    <tr>\n",
       "      <th>1</th>\n",
       "      <td>2</td>\n",
       "      <td>HR</td>\n",
       "      <td>b'Name Surname\\nAddress\\nMobile No/Email\\nPERS...</td>\n",
       "    </tr>\n",
       "    <tr>\n",
       "      <th>2</th>\n",
       "      <td>3</td>\n",
       "      <td>HR</td>\n",
       "      <td>b'Anthony Brown\\nHR Assistant\\nAREAS OF EXPERT...</td>\n",
       "    </tr>\n",
       "    <tr>\n",
       "      <th>3</th>\n",
       "      <td>4</td>\n",
       "      <td>HR</td>\n",
       "      <td>b'www.downloadmela.com\\nSatheesh\\nEMAIL ID:\\nC...</td>\n",
       "    </tr>\n",
       "    <tr>\n",
       "      <th>4</th>\n",
       "      <td>5</td>\n",
       "      <td>HR</td>\n",
       "      <td>b\"HUMAN RESOURCES DIRECTOR\\n\\xef\\x82\\xb7Expert...</td>\n",
       "    </tr>\n",
       "  </tbody>\n",
       "</table>\n",
       "</div>"
      ],
      "text/plain": [
       "   ID Category                                             resume\n",
       "0   1       HR  b'John H. Smith, P.H.R.\\n800-991-5187 | PO Box...\n",
       "1   2       HR  b'Name Surname\\nAddress\\nMobile No/Email\\nPERS...\n",
       "2   3       HR  b'Anthony Brown\\nHR Assistant\\nAREAS OF EXPERT...\n",
       "3   4       HR  b'www.downloadmela.com\\nSatheesh\\nEMAIL ID:\\nC...\n",
       "4   5       HR  b\"HUMAN RESOURCES DIRECTOR\\n\\xef\\x82\\xb7Expert..."
      ]
     },
     "execution_count": 23,
     "metadata": {},
     "output_type": "execute_result"
    }
   ],
   "source": [
    "df.head()"
   ]
  },
  {
   "cell_type": "code",
   "execution_count": 114,
   "metadata": {},
   "outputs": [],
   "source": [
    "#remove unicode\n",
    "def unicodetoascii(text):\n",
    "\n",
    "    TEXT = (text.\n",
    "    \t\treplace('\\\\xe2\\\\x80\\\\x99', \"'\").\n",
    "            replace('\\\\xc3\\\\xa9', 'e').\n",
    "            replace('\\\\xe2\\\\x80\\\\x90', '-').\n",
    "            replace('\\\\xe2\\\\x80\\\\x91', '-').\n",
    "            replace('\\\\xe2\\\\x80\\\\x92', '-').\n",
    "            replace('\\\\xe2\\\\x80\\\\x93', '-').\n",
    "            replace('\\\\xe2\\\\x80\\\\x94', '-').\n",
    "            replace('\\\\xe2\\\\x80\\\\x94', '-').\n",
    "            replace('\\\\xe2\\\\x80\\\\x98', \"'\").\n",
    "            replace('\\\\xe2\\\\x80\\\\x9b', \"'\").\n",
    "            replace('\\\\xe2\\\\x80\\\\x9c', '\"').\n",
    "            replace('\\\\xe2\\\\x80\\\\x9c', '\"').\n",
    "            replace('\\\\xe2\\\\x80\\\\x9d', '\"').\n",
    "            replace('\\\\xe2\\\\x80\\\\x9e', '\"').\n",
    "            replace('\\\\xe2\\\\x80\\\\x9f', '\"').\n",
    "            replace('\\\\xe2\\\\x80\\\\xa6', '...').\n",
    "            replace('\\\\xe2\\\\x80\\\\xb2', \"'\").\n",
    "            replace('\\\\xe2\\\\x80\\\\xb3', \"'\").\n",
    "            replace('\\\\xe2\\\\x80\\\\xb4', \"'\").\n",
    "            replace('\\\\xe2\\\\x80\\\\xb5', \"'\").\n",
    "            replace('\\\\xe2\\\\x80\\\\xb6', \"'\").\n",
    "            replace('\\\\xe2\\\\x80\\\\xb7', \"'\").\n",
    "            replace('\\\\xe2\\\\x81\\\\xba', \"+\").\n",
    "            replace('\\\\xe2\\\\x81\\\\xbb', \"-\").\n",
    "            replace('\\\\xe2\\\\x81\\\\xbc', \"=\").\n",
    "            replace('\\\\xe2\\\\x81\\\\xbd', \"(\").\n",
    "            replace('\\\\xe2\\\\x81\\\\xbe', \")\").replace('\\\\xef\\\\x81\\\\xb3', \"\").replace('\\\\n', ' ')\n",
    "             )\n",
    "    return TEXT"
   ]
  },
  {
   "cell_type": "code",
   "execution_count": 25,
   "metadata": {},
   "outputs": [],
   "source": [
    "#remove punctuation\n",
    "PUNCT_TO_REMOVE = string.punctuation\n",
    "def remove_punctuation(text):\n",
    "    \"\"\"custom function to remove the punctuation\"\"\"\n",
    "    return text.translate(str.maketrans('', '', PUNCT_TO_REMOVE))"
   ]
  },
  {
   "cell_type": "code",
   "execution_count": 26,
   "metadata": {},
   "outputs": [],
   "source": [
    "#remove stopwords\n",
    "from nltk.corpus import stopwords\n",
    "STOPWORDS = set(stopwords.words('english'))\n",
    "def remove_stopwords(text):\n",
    "    \"\"\"custom function to remove the stopwords\"\"\"\n",
    "    return \" \".join([word for word in str(text).split() if word not in STOPWORDS])\n"
   ]
  },
  {
   "cell_type": "code",
   "execution_count": 28,
   "metadata": {},
   "outputs": [],
   "source": [
    "#remove URLs\n",
    "def remove_urls(text):\n",
    "    url_pattern = re.compile(r'https?://\\S+|www\\.\\S+')\n",
    "    return url_pattern.sub(r'', text)"
   ]
  },
  {
   "cell_type": "code",
   "execution_count": 29,
   "metadata": {},
   "outputs": [],
   "source": [
    "#remove HTML\n",
    "def remove_html(text):\n",
    "    html_pattern = re.compile('<.*?>')\n",
    "    return html_pattern.sub(r'', text)"
   ]
  },
  {
   "cell_type": "code",
   "execution_count": 44,
   "metadata": {},
   "outputs": [],
   "source": [
    "#remove digits\n",
    "DIGITS_TO_REMOVE = \"0123456789\"\n",
    "def remove_digits(text):\n",
    "    return text.translate(str.maketrans('', '', DIGITS_TO_REMOVE))"
   ]
  },
  {
   "cell_type": "code",
   "execution_count": 108,
   "metadata": {},
   "outputs": [],
   "source": [
    "#remove endlines\n",
    "END_LINES = '\\r\\n'\n",
    "def remove_endlines(text):\n",
    "    \"\"\"custom function to remove \\r\\n for end of line\"\"\"\n",
    "    return text.replace(END_LINES, ' ')"
   ]
  },
  {
   "cell_type": "code",
   "execution_count": 109,
   "metadata": {},
   "outputs": [],
   "source": [
    "#remove hyphens\n",
    "#use this before remove_punctuation, becuase words like 'detail-oriented' get mushed\n",
    "#together by remove_punctuation, which replaces '-' with ''\n",
    "def remove_hyphens(text):\n",
    "    \"\"\"custom function to remove \\r\\n for end of line\"\"\"\n",
    "    return text.replace('-', ' ')"
   ]
  },
  {
   "cell_type": "code",
   "execution_count": null,
   "metadata": {},
   "outputs": [],
   "source": []
  },
  {
   "cell_type": "code",
   "execution_count": null,
   "metadata": {},
   "outputs": [],
   "source": []
  },
  {
   "cell_type": "code",
   "execution_count": 113,
   "metadata": {},
   "outputs": [],
   "source": [
    "df[\"resume\"] = df[\"resume\"].astype(str).str.lower()\n",
    "df['resume'] = df['resume'].apply(remove_urls)\n",
    "df['resume'] = df['resume'].apply(remove_html)\n",
    "df['resume'] = df[\"resume\"].apply(unicodetoascii)\n",
    "df['resume'] = df['resume'].apply(remove_hyphens)\n",
    "df['resume'] = df['resume'].apply(remove_endlines)\n",
    "df['resume'] = df['resume'].apply(remove_punctuation)\n",
    "df['resume'] = df['resume'].apply(remove_stopwords)\n",
    "df['resume'] = df['resume'].apply(remove_digits)"
   ]
  },
  {
   "cell_type": "code",
   "execution_count": 58,
   "metadata": {},
   "outputs": [
    {
     "data": {
      "text/html": [
       "<div>\n",
       "<style scoped>\n",
       "    .dataframe tbody tr th:only-of-type {\n",
       "        vertical-align: middle;\n",
       "    }\n",
       "\n",
       "    .dataframe tbody tr th {\n",
       "        vertical-align: top;\n",
       "    }\n",
       "\n",
       "    .dataframe thead th {\n",
       "        text-align: right;\n",
       "    }\n",
       "</style>\n",
       "<table border=\"1\" class=\"dataframe\">\n",
       "  <thead>\n",
       "    <tr style=\"text-align: right;\">\n",
       "      <th></th>\n",
       "      <th>ID</th>\n",
       "      <th>Category</th>\n",
       "      <th>resume</th>\n",
       "    </tr>\n",
       "  </thead>\n",
       "  <tbody>\n",
       "    <tr>\n",
       "      <th>0</th>\n",
       "      <td>1</td>\n",
       "      <td>HR</td>\n",
       "      <td>john h smith phr  po box  callahan fl  infogre...</td>\n",
       "    </tr>\n",
       "    <tr>\n",
       "      <th>1</th>\n",
       "      <td>2</td>\n",
       "      <td>HR</td>\n",
       "      <td>name surname address mobile noemail personal p...</td>\n",
       "    </tr>\n",
       "    <tr>\n",
       "      <th>2</th>\n",
       "      <td>3</td>\n",
       "      <td>HR</td>\n",
       "      <td>anthony brown hr assistant areas expertise per...</td>\n",
       "    </tr>\n",
       "    <tr>\n",
       "      <th>3</th>\n",
       "      <td>4</td>\n",
       "      <td>HR</td>\n",
       "      <td>id career objective pursue growth oriented car...</td>\n",
       "    </tr>\n",
       "    <tr>\n",
       "      <th>4</th>\n",
       "      <td>5</td>\n",
       "      <td>HR</td>\n",
       "      <td>human resources director xefxxbexpert organiza...</td>\n",
       "    </tr>\n",
       "  </tbody>\n",
       "</table>\n",
       "</div>"
      ],
      "text/plain": [
       "   ID Category                                             resume\n",
       "0   1       HR  john h smith phr  po box  callahan fl  infogre...\n",
       "1   2       HR  name surname address mobile noemail personal p...\n",
       "2   3       HR  anthony brown hr assistant areas expertise per...\n",
       "3   4       HR  id career objective pursue growth oriented car...\n",
       "4   5       HR  human resources director xefxxbexpert organiza..."
      ]
     },
     "execution_count": 58,
     "metadata": {},
     "output_type": "execute_result"
    }
   ],
   "source": [
    "df.head()"
   ]
  },
  {
   "cell_type": "code",
   "execution_count": 59,
   "metadata": {},
   "outputs": [
    {
     "data": {
      "text/plain": [
       "'john h smith phr  po box  callahan fl  infogreatresumesfastcom approachable innovator passion human resources senior human resources professional personable analytical flexible senior hr professional multifaceted expertise seasoned benefits administrator extensive experience working highly paid professionals clientrelationshipbased settings dynamic team leader capable analyzing alternatives identifying tough choices communicating total value benefit compensation packages senior level executives employees core competencies benefits administration customer service cost control recruiting acquisition management compliance reporting retention professional services domestic international benefits collaboration adaptability change management defined contribution plans auditing negotiation corporate hr policies full lifecycle training k form  confidential files eeo aap fmla std ltd hb visa vets  eap processing payroll hr technology hris data management auditing ultipro back office ultipro web connect deltek costpoint deltek gcs premiere cognos adp professional experience human services inc tampa fl present providing institutional behavioral health medical management contracting services  employees benefits manager manage administer robust m health welfare program administer benefits programs two smaller minority business enterprise clients deliver excellence client services leveraging interpersonal skills establish rapport team members perform cost analysis gather claims data coordinate enrollment large selffunded medical plan plus two smaller fullyinsured plans analyze data projections create forecasts narrative graph format clearly succinctly communicate trends senior management meetings directly supervise staff  hr admin plus two human resource specialists lead healthcare reform change management process analyzing changes developing strategic plans timeline crucial decisions ahead  deadlines communicate early changes dependent coverage preventive care lifetime maximum benefits employees identified researched implemented hsa healthcare savings account health insurance option high deductible health insurance plan provide taxsheltered benefits physicians highincome highprofile professionals saved k annually restructuring open enrollment strategy leveraging existing human capital hr business partners achieve better communication lower cost quickly establish rapport employees balance clientrelationship needs organizational goals cost controls compliance requirements create positive work environment maximize employee recruiting retention implementing competitive benefits packages clearly communicating value team members reduced costs k per year collaborating closely legal department create inhouse total comp statement including implications taxes social security produced betterquality analysis lower costs xcjohn h smith phr page  infogreatresumesfastcom approachable innovator passion human resources human management inc atlanta ga  nonprofit government consulting firm  domestic international employees senior human resources generalist performed diverse human resources functions administered benefits led special projects updated policies collaborated eeo vets  affirmative action plan aap reporting revamped orientation training programs newly hired employees include comprehensive information delivered morepersonal formats teleconferences small group meetings tours oneonone conversations followup phone calls supervised hr assistant  temporary human resource specialists handling high volume work peak periods open enrollment company merger led change management process seamlessly integrated benefits compensation retirement plans logistics newly acquired company  employees prepared allencompassing reports total compensation plans developed webinars personal meetings communicate value benefits employees despite reductions economic recession maintained employee retention job satisfaction rankings despite cutbacks reduced overall benefit costs  including decrease std benefits   base compensation without significant increase employee turnover researched procured benefits government contractors traveling hazardous areas including kidnap ransom kr increased life insurance travel insurance identified implemented medical dental benefit plans ensure comparable compensation international employees worldwide managed diverse retirement plans including defined contribution b a executive b plans abc corporation new york ny  engineering construction consulting  international domestic employees senior human resources generalist acme inc washington dc  professional services consulting firm  employees hr generalist benefits specialist human resource corporation tampa fl environmental management consulting firm  employees human resources assistant education certification affiliation bachelor science psychology  community college professional human resources phr certificate  employee benefit specialist cebs certification pending member shrm society human resource management '"
      ]
     },
     "execution_count": 59,
     "metadata": {},
     "output_type": "execute_result"
    }
   ],
   "source": [
    "df['resume'][0]"
   ]
  },
  {
   "cell_type": "markdown",
   "metadata": {},
   "source": [
    "<br><br><br><br>"
   ]
  },
  {
   "cell_type": "code",
   "execution_count": null,
   "metadata": {},
   "outputs": [],
   "source": []
  },
  {
   "cell_type": "markdown",
   "metadata": {},
   "source": [
    "## Clean Job Posts Data"
   ]
  },
  {
   "cell_type": "code",
   "execution_count": 61,
   "metadata": {},
   "outputs": [],
   "source": [
    "jobs_path = '/Users/richardkuzma/coding/NLP_projects/job_recommender_project/data/job_posts_madhab.csv'"
   ]
  },
  {
   "cell_type": "code",
   "execution_count": 115,
   "metadata": {},
   "outputs": [
    {
     "data": {
      "text/html": [
       "<div>\n",
       "<style scoped>\n",
       "    .dataframe tbody tr th:only-of-type {\n",
       "        vertical-align: middle;\n",
       "    }\n",
       "\n",
       "    .dataframe tbody tr th {\n",
       "        vertical-align: top;\n",
       "    }\n",
       "\n",
       "    .dataframe thead th {\n",
       "        text-align: right;\n",
       "    }\n",
       "</style>\n",
       "<table border=\"1\" class=\"dataframe\">\n",
       "  <thead>\n",
       "    <tr style=\"text-align: right;\">\n",
       "      <th></th>\n",
       "      <th>jobpost</th>\n",
       "      <th>date</th>\n",
       "      <th>Title</th>\n",
       "      <th>Company</th>\n",
       "      <th>AnnouncementCode</th>\n",
       "      <th>Term</th>\n",
       "      <th>Eligibility</th>\n",
       "      <th>Audience</th>\n",
       "      <th>StartDate</th>\n",
       "      <th>Duration</th>\n",
       "      <th>...</th>\n",
       "      <th>Salary</th>\n",
       "      <th>ApplicationP</th>\n",
       "      <th>OpeningDate</th>\n",
       "      <th>Deadline</th>\n",
       "      <th>Notes</th>\n",
       "      <th>AboutC</th>\n",
       "      <th>Attach</th>\n",
       "      <th>Year</th>\n",
       "      <th>Month</th>\n",
       "      <th>IT</th>\n",
       "    </tr>\n",
       "  </thead>\n",
       "  <tbody>\n",
       "    <tr>\n",
       "      <th>0</th>\n",
       "      <td>AMERIA Investment Consulting Company\\r\\nJOB TI...</td>\n",
       "      <td>Jan 5, 2004</td>\n",
       "      <td>Chief Financial Officer</td>\n",
       "      <td>AMERIA Investment Consulting Company</td>\n",
       "      <td>NaN</td>\n",
       "      <td>NaN</td>\n",
       "      <td>NaN</td>\n",
       "      <td>NaN</td>\n",
       "      <td>NaN</td>\n",
       "      <td>NaN</td>\n",
       "      <td>...</td>\n",
       "      <td>NaN</td>\n",
       "      <td>To apply for this position, please submit a\\r\\...</td>\n",
       "      <td>NaN</td>\n",
       "      <td>26 January 2004</td>\n",
       "      <td>NaN</td>\n",
       "      <td>NaN</td>\n",
       "      <td>NaN</td>\n",
       "      <td>2004</td>\n",
       "      <td>1</td>\n",
       "      <td>False</td>\n",
       "    </tr>\n",
       "    <tr>\n",
       "      <th>1</th>\n",
       "      <td>International Research &amp; Exchanges Board (IREX...</td>\n",
       "      <td>Jan 7, 2004</td>\n",
       "      <td>Full-time Community Connections Intern (paid i...</td>\n",
       "      <td>International Research &amp; Exchanges Board (IREX)</td>\n",
       "      <td>NaN</td>\n",
       "      <td>NaN</td>\n",
       "      <td>NaN</td>\n",
       "      <td>NaN</td>\n",
       "      <td>NaN</td>\n",
       "      <td>3 months</td>\n",
       "      <td>...</td>\n",
       "      <td>NaN</td>\n",
       "      <td>Please submit a cover letter and resume to:\\r\\...</td>\n",
       "      <td>NaN</td>\n",
       "      <td>12 January 2004</td>\n",
       "      <td>NaN</td>\n",
       "      <td>The International Research &amp; Exchanges Board (...</td>\n",
       "      <td>NaN</td>\n",
       "      <td>2004</td>\n",
       "      <td>1</td>\n",
       "      <td>False</td>\n",
       "    </tr>\n",
       "    <tr>\n",
       "      <th>2</th>\n",
       "      <td>Caucasus Environmental NGO Network (CENN)\\r\\nJ...</td>\n",
       "      <td>Jan 7, 2004</td>\n",
       "      <td>Country Coordinator</td>\n",
       "      <td>Caucasus Environmental NGO Network (CENN)</td>\n",
       "      <td>NaN</td>\n",
       "      <td>NaN</td>\n",
       "      <td>NaN</td>\n",
       "      <td>NaN</td>\n",
       "      <td>NaN</td>\n",
       "      <td>Renewable annual contract\\r\\nPOSITION</td>\n",
       "      <td>...</td>\n",
       "      <td>NaN</td>\n",
       "      <td>Please send resume or CV toursula.kazarian@......</td>\n",
       "      <td>NaN</td>\n",
       "      <td>20 January 2004\\r\\nSTART DATE:  February 2004</td>\n",
       "      <td>NaN</td>\n",
       "      <td>The Caucasus Environmental NGO Network is a\\r\\...</td>\n",
       "      <td>NaN</td>\n",
       "      <td>2004</td>\n",
       "      <td>1</td>\n",
       "      <td>False</td>\n",
       "    </tr>\n",
       "    <tr>\n",
       "      <th>3</th>\n",
       "      <td>Manoff Group\\r\\nJOB TITLE:  BCC Specialist\\r\\n...</td>\n",
       "      <td>Jan 7, 2004</td>\n",
       "      <td>BCC Specialist</td>\n",
       "      <td>Manoff Group</td>\n",
       "      <td>NaN</td>\n",
       "      <td>NaN</td>\n",
       "      <td>NaN</td>\n",
       "      <td>NaN</td>\n",
       "      <td>NaN</td>\n",
       "      <td>NaN</td>\n",
       "      <td>...</td>\n",
       "      <td>NaN</td>\n",
       "      <td>Please send cover letter and resume to Amy\\r\\n...</td>\n",
       "      <td>NaN</td>\n",
       "      <td>23 January 2004\\r\\nSTART DATE:  Immediate</td>\n",
       "      <td>NaN</td>\n",
       "      <td>NaN</td>\n",
       "      <td>NaN</td>\n",
       "      <td>2004</td>\n",
       "      <td>1</td>\n",
       "      <td>False</td>\n",
       "    </tr>\n",
       "    <tr>\n",
       "      <th>4</th>\n",
       "      <td>Yerevan Brandy Company\\r\\nJOB TITLE:  Software...</td>\n",
       "      <td>Jan 10, 2004</td>\n",
       "      <td>Software Developer</td>\n",
       "      <td>Yerevan Brandy Company</td>\n",
       "      <td>NaN</td>\n",
       "      <td>NaN</td>\n",
       "      <td>NaN</td>\n",
       "      <td>NaN</td>\n",
       "      <td>NaN</td>\n",
       "      <td>NaN</td>\n",
       "      <td>...</td>\n",
       "      <td>NaN</td>\n",
       "      <td>Successful candidates should submit\\r\\n- CV; \\...</td>\n",
       "      <td>NaN</td>\n",
       "      <td>20 January 2004, 18:00</td>\n",
       "      <td>NaN</td>\n",
       "      <td>NaN</td>\n",
       "      <td>NaN</td>\n",
       "      <td>2004</td>\n",
       "      <td>1</td>\n",
       "      <td>True</td>\n",
       "    </tr>\n",
       "  </tbody>\n",
       "</table>\n",
       "<p>5 rows × 24 columns</p>\n",
       "</div>"
      ],
      "text/plain": [
       "                                             jobpost          date  \\\n",
       "0  AMERIA Investment Consulting Company\\r\\nJOB TI...   Jan 5, 2004   \n",
       "1  International Research & Exchanges Board (IREX...   Jan 7, 2004   \n",
       "2  Caucasus Environmental NGO Network (CENN)\\r\\nJ...   Jan 7, 2004   \n",
       "3  Manoff Group\\r\\nJOB TITLE:  BCC Specialist\\r\\n...   Jan 7, 2004   \n",
       "4  Yerevan Brandy Company\\r\\nJOB TITLE:  Software...  Jan 10, 2004   \n",
       "\n",
       "                                               Title  \\\n",
       "0                            Chief Financial Officer   \n",
       "1  Full-time Community Connections Intern (paid i...   \n",
       "2                                Country Coordinator   \n",
       "3                                     BCC Specialist   \n",
       "4                                 Software Developer   \n",
       "\n",
       "                                           Company AnnouncementCode Term  \\\n",
       "0             AMERIA Investment Consulting Company              NaN  NaN   \n",
       "1  International Research & Exchanges Board (IREX)              NaN  NaN   \n",
       "2        Caucasus Environmental NGO Network (CENN)              NaN  NaN   \n",
       "3                                     Manoff Group              NaN  NaN   \n",
       "4                           Yerevan Brandy Company              NaN  NaN   \n",
       "\n",
       "  Eligibility Audience StartDate                               Duration  ...  \\\n",
       "0         NaN      NaN       NaN                                    NaN  ...   \n",
       "1         NaN      NaN       NaN                               3 months  ...   \n",
       "2         NaN      NaN       NaN  Renewable annual contract\\r\\nPOSITION  ...   \n",
       "3         NaN      NaN       NaN                                    NaN  ...   \n",
       "4         NaN      NaN       NaN                                    NaN  ...   \n",
       "\n",
       "  Salary                                       ApplicationP OpeningDate  \\\n",
       "0    NaN  To apply for this position, please submit a\\r\\...         NaN   \n",
       "1    NaN  Please submit a cover letter and resume to:\\r\\...         NaN   \n",
       "2    NaN  Please send resume or CV toursula.kazarian@......         NaN   \n",
       "3    NaN  Please send cover letter and resume to Amy\\r\\n...         NaN   \n",
       "4    NaN  Successful candidates should submit\\r\\n- CV; \\...         NaN   \n",
       "\n",
       "                                        Deadline Notes  \\\n",
       "0                                26 January 2004   NaN   \n",
       "1                                12 January 2004   NaN   \n",
       "2  20 January 2004\\r\\nSTART DATE:  February 2004   NaN   \n",
       "3      23 January 2004\\r\\nSTART DATE:  Immediate   NaN   \n",
       "4                         20 January 2004, 18:00   NaN   \n",
       "\n",
       "                                              AboutC Attach  Year Month     IT  \n",
       "0                                                NaN    NaN  2004     1  False  \n",
       "1  The International Research & Exchanges Board (...    NaN  2004     1  False  \n",
       "2  The Caucasus Environmental NGO Network is a\\r\\...    NaN  2004     1  False  \n",
       "3                                                NaN    NaN  2004     1  False  \n",
       "4                                                NaN    NaN  2004     1   True  \n",
       "\n",
       "[5 rows x 24 columns]"
      ]
     },
     "execution_count": 115,
     "metadata": {},
     "output_type": "execute_result"
    }
   ],
   "source": [
    "#load and take first look at job data\n",
    "jobs = pd.read_csv(jobs_path)\n",
    "jobs.head()"
   ]
  },
  {
   "cell_type": "code",
   "execution_count": 116,
   "metadata": {},
   "outputs": [
    {
     "data": {
      "text/plain": [
       "Index(['jobpost', 'date', 'Title', 'Company', 'AnnouncementCode', 'Term',\n",
       "       'Eligibility', 'Audience', 'StartDate', 'Duration', 'Location',\n",
       "       'JobDescription', 'JobRequirment', 'RequiredQual', 'Salary',\n",
       "       'ApplicationP', 'OpeningDate', 'Deadline', 'Notes', 'AboutC', 'Attach',\n",
       "       'Year', 'Month', 'IT'],\n",
       "      dtype='object')"
      ]
     },
     "execution_count": 116,
     "metadata": {},
     "output_type": "execute_result"
    }
   ],
   "source": [
    "#far more columns than we need\n",
    "jobs.columns"
   ]
  },
  {
   "cell_type": "code",
   "execution_count": 117,
   "metadata": {},
   "outputs": [
    {
     "data": {
      "text/html": [
       "<div>\n",
       "<style scoped>\n",
       "    .dataframe tbody tr th:only-of-type {\n",
       "        vertical-align: middle;\n",
       "    }\n",
       "\n",
       "    .dataframe tbody tr th {\n",
       "        vertical-align: top;\n",
       "    }\n",
       "\n",
       "    .dataframe thead th {\n",
       "        text-align: right;\n",
       "    }\n",
       "</style>\n",
       "<table border=\"1\" class=\"dataframe\">\n",
       "  <thead>\n",
       "    <tr style=\"text-align: right;\">\n",
       "      <th></th>\n",
       "      <th>Title</th>\n",
       "      <th>Company</th>\n",
       "      <th>JobDescription</th>\n",
       "      <th>RequiredQual</th>\n",
       "      <th>JobRequirement</th>\n",
       "    </tr>\n",
       "  </thead>\n",
       "  <tbody>\n",
       "    <tr>\n",
       "      <th>0</th>\n",
       "      <td>Chief Financial Officer</td>\n",
       "      <td>AMERIA Investment Consulting Company</td>\n",
       "      <td>AMERIA Investment Consulting Company is seekin...</td>\n",
       "      <td>To perform this job successfully, an\\r\\nindivi...</td>\n",
       "      <td>- Supervises financial management and administ...</td>\n",
       "    </tr>\n",
       "    <tr>\n",
       "      <th>1</th>\n",
       "      <td>Full-time Community Connections Intern (paid i...</td>\n",
       "      <td>International Research &amp; Exchanges Board (IREX)</td>\n",
       "      <td>NaN</td>\n",
       "      <td>- Bachelor's Degree; Master's is preferred;\\r\\...</td>\n",
       "      <td>NaN</td>\n",
       "    </tr>\n",
       "    <tr>\n",
       "      <th>2</th>\n",
       "      <td>Country Coordinator</td>\n",
       "      <td>Caucasus Environmental NGO Network (CENN)</td>\n",
       "      <td>Public outreach and strengthening of a growing...</td>\n",
       "      <td>- Degree in environmentally related field, or ...</td>\n",
       "      <td>- Working with the Country Director to provide...</td>\n",
       "    </tr>\n",
       "    <tr>\n",
       "      <th>3</th>\n",
       "      <td>BCC Specialist</td>\n",
       "      <td>Manoff Group</td>\n",
       "      <td>The LEAD (Local Enhancement and Development fo...</td>\n",
       "      <td>- Advanced degree in public health, social sci...</td>\n",
       "      <td>- Identify gaps in knowledge and overseeing in...</td>\n",
       "    </tr>\n",
       "    <tr>\n",
       "      <th>4</th>\n",
       "      <td>Software Developer</td>\n",
       "      <td>Yerevan Brandy Company</td>\n",
       "      <td>NaN</td>\n",
       "      <td>- University degree; economical background is ...</td>\n",
       "      <td>- Rendering technical assistance to Database M...</td>\n",
       "    </tr>\n",
       "    <tr>\n",
       "      <th>...</th>\n",
       "      <td>...</td>\n",
       "      <td>...</td>\n",
       "      <td>...</td>\n",
       "      <td>...</td>\n",
       "      <td>...</td>\n",
       "    </tr>\n",
       "    <tr>\n",
       "      <th>18996</th>\n",
       "      <td>Senior Creative UX/ UI Designer</td>\n",
       "      <td>Technolinguistics NGO</td>\n",
       "      <td>A tech startup of Technolinguistics based in N...</td>\n",
       "      <td>- At least 5 years of experience in Interface/...</td>\n",
       "      <td>- Work closely with product and business teams...</td>\n",
       "    </tr>\n",
       "    <tr>\n",
       "      <th>18997</th>\n",
       "      <td>Category Development Manager</td>\n",
       "      <td>\"Coca-Cola Hellenic Bottling Company Armenia\" ...</td>\n",
       "      <td>NaN</td>\n",
       "      <td>- University degree, ideally business related;...</td>\n",
       "      <td>- Establish and manage Category Management dev...</td>\n",
       "    </tr>\n",
       "    <tr>\n",
       "      <th>18998</th>\n",
       "      <td>Operational Marketing Manager</td>\n",
       "      <td>\"Coca-Cola Hellenic Bottling Company Armenia\" ...</td>\n",
       "      <td>NaN</td>\n",
       "      <td>- Degree in Business, Marketing or a related f...</td>\n",
       "      <td>- Develop, establish and maintain marketing st...</td>\n",
       "    </tr>\n",
       "    <tr>\n",
       "      <th>18999</th>\n",
       "      <td>Head of Online Sales Department</td>\n",
       "      <td>San Lazzaro   LLC</td>\n",
       "      <td>San Lazzaro LLC is looking for a well-experien...</td>\n",
       "      <td>- At least 1 year of experience in online sale...</td>\n",
       "      <td>- Handle the project activites of the online s...</td>\n",
       "    </tr>\n",
       "    <tr>\n",
       "      <th>19000</th>\n",
       "      <td>Lawyer in Legal Department</td>\n",
       "      <td>\"Kamurj\" UCO CJSC</td>\n",
       "      <td>\"Kamurj\" UCO CJSC is looking for a Lawyer in L...</td>\n",
       "      <td>- Higher legal education; Master's degree is a...</td>\n",
       "      <td>- Properly provide internal legal services of ...</td>\n",
       "    </tr>\n",
       "  </tbody>\n",
       "</table>\n",
       "<p>19001 rows × 5 columns</p>\n",
       "</div>"
      ],
      "text/plain": [
       "                                                   Title  \\\n",
       "0                                Chief Financial Officer   \n",
       "1      Full-time Community Connections Intern (paid i...   \n",
       "2                                    Country Coordinator   \n",
       "3                                         BCC Specialist   \n",
       "4                                     Software Developer   \n",
       "...                                                  ...   \n",
       "18996                    Senior Creative UX/ UI Designer   \n",
       "18997                       Category Development Manager   \n",
       "18998                      Operational Marketing Manager   \n",
       "18999                    Head of Online Sales Department   \n",
       "19000                         Lawyer in Legal Department   \n",
       "\n",
       "                                                 Company  \\\n",
       "0                   AMERIA Investment Consulting Company   \n",
       "1        International Research & Exchanges Board (IREX)   \n",
       "2              Caucasus Environmental NGO Network (CENN)   \n",
       "3                                           Manoff Group   \n",
       "4                                 Yerevan Brandy Company   \n",
       "...                                                  ...   \n",
       "18996                              Technolinguistics NGO   \n",
       "18997  \"Coca-Cola Hellenic Bottling Company Armenia\" ...   \n",
       "18998  \"Coca-Cola Hellenic Bottling Company Armenia\" ...   \n",
       "18999                                  San Lazzaro   LLC   \n",
       "19000                                  \"Kamurj\" UCO CJSC   \n",
       "\n",
       "                                          JobDescription  \\\n",
       "0      AMERIA Investment Consulting Company is seekin...   \n",
       "1                                                    NaN   \n",
       "2      Public outreach and strengthening of a growing...   \n",
       "3      The LEAD (Local Enhancement and Development fo...   \n",
       "4                                                    NaN   \n",
       "...                                                  ...   \n",
       "18996  A tech startup of Technolinguistics based in N...   \n",
       "18997                                                NaN   \n",
       "18998                                                NaN   \n",
       "18999  San Lazzaro LLC is looking for a well-experien...   \n",
       "19000  \"Kamurj\" UCO CJSC is looking for a Lawyer in L...   \n",
       "\n",
       "                                            RequiredQual  \\\n",
       "0      To perform this job successfully, an\\r\\nindivi...   \n",
       "1      - Bachelor's Degree; Master's is preferred;\\r\\...   \n",
       "2      - Degree in environmentally related field, or ...   \n",
       "3      - Advanced degree in public health, social sci...   \n",
       "4      - University degree; economical background is ...   \n",
       "...                                                  ...   \n",
       "18996  - At least 5 years of experience in Interface/...   \n",
       "18997  - University degree, ideally business related;...   \n",
       "18998  - Degree in Business, Marketing or a related f...   \n",
       "18999  - At least 1 year of experience in online sale...   \n",
       "19000  - Higher legal education; Master's degree is a...   \n",
       "\n",
       "                                          JobRequirement  \n",
       "0      - Supervises financial management and administ...  \n",
       "1                                                    NaN  \n",
       "2      - Working with the Country Director to provide...  \n",
       "3      - Identify gaps in knowledge and overseeing in...  \n",
       "4      - Rendering technical assistance to Database M...  \n",
       "...                                                  ...  \n",
       "18996  - Work closely with product and business teams...  \n",
       "18997  - Establish and manage Category Management dev...  \n",
       "18998  - Develop, establish and maintain marketing st...  \n",
       "18999  - Handle the project activites of the online s...  \n",
       "19000  - Properly provide internal legal services of ...  \n",
       "\n",
       "[19001 rows x 5 columns]"
      ]
     },
     "execution_count": 117,
     "metadata": {},
     "output_type": "execute_result"
    }
   ],
   "source": [
    "#drop columns. Kept Title, Description, Requirement, and Quals\n",
    "#19001 rows x 5 cols\n",
    "jobs.drop(['jobpost', 'date', 'AnnouncementCode', 'Term', 'Eligibility',\n",
    "       'Audience', 'StartDate', 'Duration', 'Location',\n",
    "       'Salary', 'ApplicationP', 'OpeningDate', 'Deadline', 'Notes', 'AboutC', \n",
    "       'Attach', 'Year', 'Month', 'IT'], axis=1, inplace=True)\n",
    "\n",
    "#renaming \n",
    "jobs['JobRequirement'] = jobs['JobRequirment']\n",
    "jobs.drop(['JobRequirment'], axis=1, inplace=True)\n",
    "jobs"
   ]
  },
  {
   "cell_type": "code",
   "execution_count": null,
   "metadata": {},
   "outputs": [],
   "source": []
  },
  {
   "cell_type": "code",
   "execution_count": 118,
   "metadata": {},
   "outputs": [
    {
     "data": {
      "text/html": [
       "<div>\n",
       "<style scoped>\n",
       "    .dataframe tbody tr th:only-of-type {\n",
       "        vertical-align: middle;\n",
       "    }\n",
       "\n",
       "    .dataframe tbody tr th {\n",
       "        vertical-align: top;\n",
       "    }\n",
       "\n",
       "    .dataframe thead th {\n",
       "        text-align: right;\n",
       "    }\n",
       "</style>\n",
       "<table border=\"1\" class=\"dataframe\">\n",
       "  <thead>\n",
       "    <tr style=\"text-align: right;\">\n",
       "      <th></th>\n",
       "      <th>Title</th>\n",
       "      <th>Company</th>\n",
       "      <th>JobDescription</th>\n",
       "      <th>RequiredQual</th>\n",
       "      <th>JobRequirement</th>\n",
       "    </tr>\n",
       "  </thead>\n",
       "  <tbody>\n",
       "    <tr>\n",
       "      <th>0</th>\n",
       "      <td>Chief Financial Officer</td>\n",
       "      <td>AMERIA Investment Consulting Company</td>\n",
       "      <td>AMERIA Investment Consulting Company is seekin...</td>\n",
       "      <td>To perform this job successfully, an\\r\\nindivi...</td>\n",
       "      <td>- Supervises financial management and administ...</td>\n",
       "    </tr>\n",
       "    <tr>\n",
       "      <th>2</th>\n",
       "      <td>Country Coordinator</td>\n",
       "      <td>Caucasus Environmental NGO Network (CENN)</td>\n",
       "      <td>Public outreach and strengthening of a growing...</td>\n",
       "      <td>- Degree in environmentally related field, or ...</td>\n",
       "      <td>- Working with the Country Director to provide...</td>\n",
       "    </tr>\n",
       "    <tr>\n",
       "      <th>3</th>\n",
       "      <td>BCC Specialist</td>\n",
       "      <td>Manoff Group</td>\n",
       "      <td>The LEAD (Local Enhancement and Development fo...</td>\n",
       "      <td>- Advanced degree in public health, social sci...</td>\n",
       "      <td>- Identify gaps in knowledge and overseeing in...</td>\n",
       "    </tr>\n",
       "    <tr>\n",
       "      <th>13</th>\n",
       "      <td>Community Development, Capacity Building and C...</td>\n",
       "      <td>Food Security Regional Cooperation and Stabili...</td>\n",
       "      <td>Food Security Regional Cooperation and Stabili...</td>\n",
       "      <td>- Higher Education and/or professional experie...</td>\n",
       "      <td>- Assist the Tavush Marz communities and commu...</td>\n",
       "    </tr>\n",
       "    <tr>\n",
       "      <th>17</th>\n",
       "      <td>Country Economist (NOB)</td>\n",
       "      <td>United Nations Development Programme, Armenia</td>\n",
       "      <td>The United Nations Development Programme in Ar...</td>\n",
       "      <td>- Minimum Masters Degree in Economics;\\r\\n- Mi...</td>\n",
       "      <td>The incumbent under direct supervision of UNDP...</td>\n",
       "    </tr>\n",
       "    <tr>\n",
       "      <th>...</th>\n",
       "      <td>...</td>\n",
       "      <td>...</td>\n",
       "      <td>...</td>\n",
       "      <td>...</td>\n",
       "      <td>...</td>\n",
       "    </tr>\n",
       "    <tr>\n",
       "      <th>18992</th>\n",
       "      <td>.NET Developer</td>\n",
       "      <td>Macadamian AR CJSC</td>\n",
       "      <td>The incumbent will develop software applicatio...</td>\n",
       "      <td>- 2 - 5 years of experience in software develo...</td>\n",
       "      <td>- Participate in all the steps of the software...</td>\n",
       "    </tr>\n",
       "    <tr>\n",
       "      <th>18995</th>\n",
       "      <td>Deputy Director</td>\n",
       "      <td>\"Transport PIU\" State Institution of the RA Mi...</td>\n",
       "      <td>The incumbent will be responsible for supporti...</td>\n",
       "      <td>- University degree in Civil Engineering, Econ...</td>\n",
       "      <td>- Support the Director in organizing the activ...</td>\n",
       "    </tr>\n",
       "    <tr>\n",
       "      <th>18996</th>\n",
       "      <td>Senior Creative UX/ UI Designer</td>\n",
       "      <td>Technolinguistics NGO</td>\n",
       "      <td>A tech startup of Technolinguistics based in N...</td>\n",
       "      <td>- At least 5 years of experience in Interface/...</td>\n",
       "      <td>- Work closely with product and business teams...</td>\n",
       "    </tr>\n",
       "    <tr>\n",
       "      <th>18999</th>\n",
       "      <td>Head of Online Sales Department</td>\n",
       "      <td>San Lazzaro   LLC</td>\n",
       "      <td>San Lazzaro LLC is looking for a well-experien...</td>\n",
       "      <td>- At least 1 year of experience in online sale...</td>\n",
       "      <td>- Handle the project activites of the online s...</td>\n",
       "    </tr>\n",
       "    <tr>\n",
       "      <th>19000</th>\n",
       "      <td>Lawyer in Legal Department</td>\n",
       "      <td>\"Kamurj\" UCO CJSC</td>\n",
       "      <td>\"Kamurj\" UCO CJSC is looking for a Lawyer in L...</td>\n",
       "      <td>- Higher legal education; Master's degree is a...</td>\n",
       "      <td>- Properly provide internal legal services of ...</td>\n",
       "    </tr>\n",
       "  </tbody>\n",
       "</table>\n",
       "<p>13124 rows × 5 columns</p>\n",
       "</div>"
      ],
      "text/plain": [
       "                                                   Title  \\\n",
       "0                                Chief Financial Officer   \n",
       "2                                    Country Coordinator   \n",
       "3                                         BCC Specialist   \n",
       "13     Community Development, Capacity Building and C...   \n",
       "17                               Country Economist (NOB)   \n",
       "...                                                  ...   \n",
       "18992                                     .NET Developer   \n",
       "18995                                    Deputy Director   \n",
       "18996                    Senior Creative UX/ UI Designer   \n",
       "18999                    Head of Online Sales Department   \n",
       "19000                         Lawyer in Legal Department   \n",
       "\n",
       "                                                 Company  \\\n",
       "0                   AMERIA Investment Consulting Company   \n",
       "2              Caucasus Environmental NGO Network (CENN)   \n",
       "3                                           Manoff Group   \n",
       "13     Food Security Regional Cooperation and Stabili...   \n",
       "17         United Nations Development Programme, Armenia   \n",
       "...                                                  ...   \n",
       "18992                                 Macadamian AR CJSC   \n",
       "18995  \"Transport PIU\" State Institution of the RA Mi...   \n",
       "18996                              Technolinguistics NGO   \n",
       "18999                                  San Lazzaro   LLC   \n",
       "19000                                  \"Kamurj\" UCO CJSC   \n",
       "\n",
       "                                          JobDescription  \\\n",
       "0      AMERIA Investment Consulting Company is seekin...   \n",
       "2      Public outreach and strengthening of a growing...   \n",
       "3      The LEAD (Local Enhancement and Development fo...   \n",
       "13     Food Security Regional Cooperation and Stabili...   \n",
       "17     The United Nations Development Programme in Ar...   \n",
       "...                                                  ...   \n",
       "18992  The incumbent will develop software applicatio...   \n",
       "18995  The incumbent will be responsible for supporti...   \n",
       "18996  A tech startup of Technolinguistics based in N...   \n",
       "18999  San Lazzaro LLC is looking for a well-experien...   \n",
       "19000  \"Kamurj\" UCO CJSC is looking for a Lawyer in L...   \n",
       "\n",
       "                                            RequiredQual  \\\n",
       "0      To perform this job successfully, an\\r\\nindivi...   \n",
       "2      - Degree in environmentally related field, or ...   \n",
       "3      - Advanced degree in public health, social sci...   \n",
       "13     - Higher Education and/or professional experie...   \n",
       "17     - Minimum Masters Degree in Economics;\\r\\n- Mi...   \n",
       "...                                                  ...   \n",
       "18992  - 2 - 5 years of experience in software develo...   \n",
       "18995  - University degree in Civil Engineering, Econ...   \n",
       "18996  - At least 5 years of experience in Interface/...   \n",
       "18999  - At least 1 year of experience in online sale...   \n",
       "19000  - Higher legal education; Master's degree is a...   \n",
       "\n",
       "                                          JobRequirement  \n",
       "0      - Supervises financial management and administ...  \n",
       "2      - Working with the Country Director to provide...  \n",
       "3      - Identify gaps in knowledge and overseeing in...  \n",
       "13     - Assist the Tavush Marz communities and commu...  \n",
       "17     The incumbent under direct supervision of UNDP...  \n",
       "...                                                  ...  \n",
       "18992  - Participate in all the steps of the software...  \n",
       "18995  - Support the Director in organizing the activ...  \n",
       "18996  - Work closely with product and business teams...  \n",
       "18999  - Handle the project activites of the online s...  \n",
       "19000  - Properly provide internal legal services of ...  \n",
       "\n",
       "[13124 rows x 5 columns]"
      ]
     },
     "execution_count": 118,
     "metadata": {},
     "output_type": "execute_result"
    }
   ],
   "source": [
    "#drop any rows with NaN\n",
    "#13124 rows x 5 cols from 19001 rows x 5 cols\n",
    "jobs.dropna(inplace=True)\n",
    "jobs"
   ]
  },
  {
   "cell_type": "code",
   "execution_count": null,
   "metadata": {},
   "outputs": [],
   "source": []
  },
  {
   "cell_type": "markdown",
   "metadata": {},
   "source": [
    "Descriptions, Requirements, Required Quals"
   ]
  },
  {
   "cell_type": "code",
   "execution_count": 119,
   "metadata": {},
   "outputs": [
    {
     "data": {
      "text/plain": [
       "\"AMERIA Investment Consulting Company is seeking a\\r\\nChief Financial Officer. This position manages the company's fiscal and\\r\\nadministrative functions, provides highly responsible and technically\\r\\ncomplex staff assistance to the Executive Director. The work performed\\r\\nrequires a high level of technical proficiency in financial management\\r\\nand investment management, as well as management, supervisory, and\\r\\nadministrative skills.\""
      ]
     },
     "execution_count": 119,
     "metadata": {},
     "output_type": "execute_result"
    }
   ],
   "source": [
    "#what does a job description look like\n",
    "jobs['JobDescription'][0]"
   ]
  },
  {
   "cell_type": "code",
   "execution_count": 120,
   "metadata": {},
   "outputs": [
    {
     "data": {
      "text/plain": [
       "\"- Supervises financial management and administrative staff, including\\r\\nassigning responsibilities, reviewing employees' work processes and\\r\\nproducts, counseling employees, giving performance evaluations, and\\r\\nrecommending disciplinary action;\\r\\n- Serves as member of management team participating in both strategic\\r\\nand operational planning for the company;\\r\\n- Directs and oversees the company's financial management activities,\\r\\nincluding establishing and monitoring internal controls, managing cash\\r\\nand investments, and managing the investment portfolio in collaboration\\r\\nwith the Investment team leader. This includes, but is not limited to,\\r\\nevaluation of investment risk, concentration risk, fund deployment\\r\\nlevels, adequacy of loss and liquidity reserves Assists investment team\\r\\nin development of proper documentation and internal systems;\\r\\n- Directs and oversees the annual budgeting process, including\\r\\ndeveloping projections for financial planning, and preparing budgets;\\r\\n- Prepares external and internal financial management reports, such as\\r\\naudited financial statements, tax returns, and reports for the board of\\r\\ndirectors and company staff;\\r\\n- Develops, implements, and maintains efficient and effective accounting\\r\\nsystems and controls to ensure compliance with national and\\r\\ninternational accounting standards and principles, sufficiency of fund\\r\\naccounting, and comprehensiveness of data for reporting and compliance\\r\\nrequirements;\\r\\n- Ensures contract compliance, including interpreting and monitoring\\r\\ncontracts with clients, submitting required reports, and monitoring\\r\\ncovenants and other contract terms;\\r\\n- Oversees the design, implementation and maintenance of computer-based\\r\\ninformation system. Oversees records retention (both manual and\\r\\ncomputer-based) and file maintenance activities;\\r\\n- Serves as company's risk manager, including evaluating loss exposure\\r\\nand obtaining insurance as appropriate;\\r\\n- Manages other administrative operations, such as facilities\\r\\nmanagement, payroll administration, office operations, and\\r\\nadministrative support;\\r\\n- Monitors corporate compliance with by-laws and articles of\\r\\nincorporation regarding corporate registration and reporting of\\r\\nfundraising operations.\""
      ]
     },
     "execution_count": 120,
     "metadata": {},
     "output_type": "execute_result"
    }
   ],
   "source": [
    "#what does a job requirement look like\n",
    "jobs['JobRequirement'][0]"
   ]
  },
  {
   "cell_type": "code",
   "execution_count": 121,
   "metadata": {},
   "outputs": [
    {
     "data": {
      "text/plain": [
       "\"To perform this job successfully, an\\r\\nindividual must be able to perform each essential duty satisfactorily.\\r\\nThe requirements listed below are representative of the knowledge,\\r\\nskill, and/or ability required.\\r\\nKnowledge of:\\r\\n- Generally accepted accounting principles;\\r\\n- Local accounting standards and legislation;\\r\\n- State reporting requirements pertaining to accounting;\\r\\n- Principles and practices of financial management and budgeting;\\r\\n- Principles and practices of financial systems design and analysis;\\r\\n- Principles and practices of contract management, records management,\\r\\nand risk management;\\r\\n- Principles and practices of management and supervision;\\r\\n- Principles and practices of information systems management.\\r\\nAbility to:\\r\\n- Apply sound fiscal and administrative practices to the company's\\r\\nactivities;\\r\\n- Plan, organize and supervise the work of subordinate employees,\\r\\nincluding training them, assigning and evaluating their work, and\\r\\nproviding job performance feedback;\\r\\n- Critically analyze fiscal and administrative policies, practices,\\r\\nprocedures, and systems, and recommend and implement changes as needed;\\r\\n- Gather and synthesize financial information from a variety of sources\\r\\nand present it to a variety of audiences with differing financial\\r\\nmanagement and analysis expertise;\\r\\n- Prepare detailed, comprehensive financial reports, including\\r\\nexplanatory text;\\r\\n- Operate IBM-compatible personal computer, including word processing,\\r\\nspreadsheet, and database software applications;\\r\\n- Operate specialized software applications that support the financial\\r\\nmanagement and budgeting functions.\\r\\nQualifications:\\r\\n- A minimum of 5-7 years Accounting/ Corporate Finance/ Banking\\r\\nexperience, including a role as a CFO;\\r\\n- Excellent finance and accounting technical skills coupled with a\\r\\ndemonstrated knowledge of all key financial functions in an consulting\\r\\ncompany context - accounting, finance, control, treasury, reserving, and\\r\\nreporting;\\r\\n- Strong financial planning and analytical skills and experience and the\\r\\nability to work closely with and support the CEO and other executives in\\r\\nstrategic development and implementation;\\r\\n- Excellent leadership, management and supervisory track record of\\r\\nattracting, selecting, developing, rewarding and retaining high-caliber,\\r\\naccounting and finance executive and teams who achieve business goals;\\r\\n- An undergraduate degree in finance, business, or other related\\r\\ndiscipline is required. A CPA, CFA, ACCA or other financial\\r\\ncertification is highly preferred, as is a Masters degree in Business\\r\\nAdministration, Accounting or Finance;\\r\\n- Fluency in English, Armenian and Russian with outstanding writing\\r\\nskills;\\r\\n- Excellent analytical, communication, teamwork, interpersonal skills;\\r\\n- Need to be well organized and detail-oriented as well as goal/ result\\r\\ndriven and able to deal with complex issues.\""
      ]
     },
     "execution_count": 121,
     "metadata": {},
     "output_type": "execute_result"
    }
   ],
   "source": [
    "#what do the required quals look like?\n",
    "jobs['RequiredQual'][0]"
   ]
  },
  {
   "cell_type": "code",
   "execution_count": null,
   "metadata": {
    "collapsed": true
   },
   "outputs": [],
   "source": []
  },
  {
   "cell_type": "code",
   "execution_count": 123,
   "metadata": {},
   "outputs": [],
   "source": [
    "#make new 'combined' column, concatenate strings from JobDescription, JobRequirement\n",
    "jobs['combined'] = jobs['Title'].str.cat(jobs['JobDescription'], sep=' ').str.cat(jobs['JobRequirement'], sep=' ').str.cat(jobs['RequiredQual'], sep =' ')\n",
    "\n"
   ]
  },
  {
   "cell_type": "code",
   "execution_count": 124,
   "metadata": {},
   "outputs": [
    {
     "data": {
      "text/plain": [
       "\"Chief Financial Officer AMERIA Investment Consulting Company is seeking a\\r\\nChief Financial Officer. This position manages the company's fiscal and\\r\\nadministrative functions, provides highly responsible and technically\\r\\ncomplex staff assistance to the Executive Director. The work performed\\r\\nrequires a high level of technical proficiency in financial management\\r\\nand investment management, as well as management, supervisory, and\\r\\nadministrative skills. - Supervises financial management and administrative staff, including\\r\\nassigning responsibilities, reviewing employees' work processes and\\r\\nproducts, counseling employees, giving performance evaluations, and\\r\\nrecommending disciplinary action;\\r\\n- Serves as member of management team participating in both strategic\\r\\nand operational planning for the company;\\r\\n- Directs and oversees the company's financial management activities,\\r\\nincluding establishing and monitoring internal controls, managing cash\\r\\nand investments, and managing the investment portfolio in collaboration\\r\\nwith the Investment team leader. This includes, but is not limited to,\\r\\nevaluation of investment risk, concentration risk, fund deployment\\r\\nlevels, adequacy of loss and liquidity reserves Assists investment team\\r\\nin development of proper documentation and internal systems;\\r\\n- Directs and oversees the annual budgeting process, including\\r\\ndeveloping projections for financial planning, and preparing budgets;\\r\\n- Prepares external and internal financial management reports, such as\\r\\naudited financial statements, tax returns, and reports for the board of\\r\\ndirectors and company staff;\\r\\n- Develops, implements, and maintains efficient and effective accounting\\r\\nsystems and controls to ensure compliance with national and\\r\\ninternational accounting standards and principles, sufficiency of fund\\r\\naccounting, and comprehensiveness of data for reporting and compliance\\r\\nrequirements;\\r\\n- Ensures contract compliance, including interpreting and monitoring\\r\\ncontracts with clients, submitting required reports, and monitoring\\r\\ncovenants and other contract terms;\\r\\n- Oversees the design, implementation and maintenance of computer-based\\r\\ninformation system. Oversees records retention (both manual and\\r\\ncomputer-based) and file maintenance activities;\\r\\n- Serves as company's risk manager, including evaluating loss exposure\\r\\nand obtaining insurance as appropriate;\\r\\n- Manages other administrative operations, such as facilities\\r\\nmanagement, payroll administration, office operations, and\\r\\nadministrative support;\\r\\n- Monitors corporate compliance with by-laws and articles of\\r\\nincorporation regarding corporate registration and reporting of\\r\\nfundraising operations. To perform this job successfully, an\\r\\nindividual must be able to perform each essential duty satisfactorily.\\r\\nThe requirements listed below are representative of the knowledge,\\r\\nskill, and/or ability required.\\r\\nKnowledge of:\\r\\n- Generally accepted accounting principles;\\r\\n- Local accounting standards and legislation;\\r\\n- State reporting requirements pertaining to accounting;\\r\\n- Principles and practices of financial management and budgeting;\\r\\n- Principles and practices of financial systems design and analysis;\\r\\n- Principles and practices of contract management, records management,\\r\\nand risk management;\\r\\n- Principles and practices of management and supervision;\\r\\n- Principles and practices of information systems management.\\r\\nAbility to:\\r\\n- Apply sound fiscal and administrative practices to the company's\\r\\nactivities;\\r\\n- Plan, organize and supervise the work of subordinate employees,\\r\\nincluding training them, assigning and evaluating their work, and\\r\\nproviding job performance feedback;\\r\\n- Critically analyze fiscal and administrative policies, practices,\\r\\nprocedures, and systems, and recommend and implement changes as needed;\\r\\n- Gather and synthesize financial information from a variety of sources\\r\\nand present it to a variety of audiences with differing financial\\r\\nmanagement and analysis expertise;\\r\\n- Prepare detailed, comprehensive financial reports, including\\r\\nexplanatory text;\\r\\n- Operate IBM-compatible personal computer, including word processing,\\r\\nspreadsheet, and database software applications;\\r\\n- Operate specialized software applications that support the financial\\r\\nmanagement and budgeting functions.\\r\\nQualifications:\\r\\n- A minimum of 5-7 years Accounting/ Corporate Finance/ Banking\\r\\nexperience, including a role as a CFO;\\r\\n- Excellent finance and accounting technical skills coupled with a\\r\\ndemonstrated knowledge of all key financial functions in an consulting\\r\\ncompany context - accounting, finance, control, treasury, reserving, and\\r\\nreporting;\\r\\n- Strong financial planning and analytical skills and experience and the\\r\\nability to work closely with and support the CEO and other executives in\\r\\nstrategic development and implementation;\\r\\n- Excellent leadership, management and supervisory track record of\\r\\nattracting, selecting, developing, rewarding and retaining high-caliber,\\r\\naccounting and finance executive and teams who achieve business goals;\\r\\n- An undergraduate degree in finance, business, or other related\\r\\ndiscipline is required. A CPA, CFA, ACCA or other financial\\r\\ncertification is highly preferred, as is a Masters degree in Business\\r\\nAdministration, Accounting or Finance;\\r\\n- Fluency in English, Armenian and Russian with outstanding writing\\r\\nskills;\\r\\n- Excellent analytical, communication, teamwork, interpersonal skills;\\r\\n- Need to be well organized and detail-oriented as well as goal/ result\\r\\ndriven and able to deal with complex issues.\""
      ]
     },
     "execution_count": 124,
     "metadata": {},
     "output_type": "execute_result"
    }
   ],
   "source": [
    "jobs['combined'][0]"
   ]
  },
  {
   "cell_type": "code",
   "execution_count": null,
   "metadata": {},
   "outputs": [],
   "source": []
  },
  {
   "cell_type": "code",
   "execution_count": 125,
   "metadata": {},
   "outputs": [],
   "source": [
    "jobs[\"combined\"] = jobs[\"combined\"].astype(str).str.lower()\n",
    "jobs['combined'] = jobs['combined'].apply(remove_urls)\n",
    "jobs['combined'] = jobs['combined'].apply(remove_html)\n",
    "jobs['combined'] = jobs[\"combined\"].apply(unicodetoascii)\n",
    "jobs['combined'] = jobs['combined'].apply(remove_hyphens)\n",
    "jobs['combined'] = jobs['combined'].apply(remove_endlines)\n",
    "jobs['combined'] = jobs['combined'].apply(remove_punctuation)\n",
    "jobs['combined'] = jobs['combined'].apply(remove_stopwords)\n",
    "jobs['combined'] = jobs['combined'].apply(remove_digits)"
   ]
  },
  {
   "cell_type": "code",
   "execution_count": 126,
   "metadata": {},
   "outputs": [
    {
     "data": {
      "text/plain": [
       "'chief financial officer ameria investment consulting company seeking chief financial officer position manages companys fiscal administrative functions provides highly responsible technically complex staff assistance executive director work performed requires high level technical proficiency financial management investment management well management supervisory administrative skills supervises financial management administrative staff including assigning responsibilities reviewing employees work processes products counseling employees giving performance evaluations recommending disciplinary action serves member management team participating strategic operational planning company directs oversees companys financial management activities including establishing monitoring internal controls managing cash investments managing investment portfolio collaboration investment team leader includes limited evaluation investment risk concentration risk fund deployment levels adequacy loss liquidity reserves assists investment team development proper documentation internal systems directs oversees annual budgeting process including developing projections financial planning preparing budgets prepares external internal financial management reports audited financial statements tax returns reports board directors company staff develops implements maintains efficient effective accounting systems controls ensure compliance national international accounting standards principles sufficiency fund accounting comprehensiveness data reporting compliance requirements ensures contract compliance including interpreting monitoring contracts clients submitting required reports monitoring covenants contract terms oversees design implementation maintenance computer based information system oversees records retention manual computer based file maintenance activities serves companys risk manager including evaluating loss exposure obtaining insurance appropriate manages administrative operations facilities management payroll administration office operations administrative support monitors corporate compliance laws articles incorporation regarding corporate registration reporting fundraising operations perform job successfully individual must able perform essential duty satisfactorily requirements listed representative knowledge skill andor ability required knowledge generally accepted accounting principles local accounting standards legislation state reporting requirements pertaining accounting principles practices financial management budgeting principles practices financial systems design analysis principles practices contract management records management risk management principles practices management supervision principles practices information systems management ability apply sound fiscal administrative practices companys activities plan organize supervise work subordinate employees including training assigning evaluating work providing job performance feedback critically analyze fiscal administrative policies practices procedures systems recommend implement changes needed gather synthesize financial information variety sources present variety audiences differing financial management analysis expertise prepare detailed comprehensive financial reports including explanatory text operate ibm compatible personal computer including word processing spreadsheet database software applications operate specialized software applications support financial management budgeting functions qualifications minimum   years accounting corporate finance banking experience including role cfo excellent finance accounting technical skills coupled demonstrated knowledge key financial functions consulting company context accounting finance control treasury reserving reporting strong financial planning analytical skills experience ability work closely support ceo executives strategic development implementation excellent leadership management supervisory track record attracting selecting developing rewarding retaining high caliber accounting finance executive teams achieve business goals undergraduate degree finance business related discipline required cpa cfa acca financial certification highly preferred masters degree business administration accounting finance fluency english armenian russian outstanding writing skills excellent analytical communication teamwork interpersonal skills need well organized detail oriented well goal result driven able deal complex issues'"
      ]
     },
     "execution_count": 126,
     "metadata": {},
     "output_type": "execute_result"
    }
   ],
   "source": [
    "jobs['combined'][0]"
   ]
  },
  {
   "cell_type": "code",
   "execution_count": 131,
   "metadata": {},
   "outputs": [
    {
     "data": {
      "text/plain": [
       "'web designer web designer build flash based websites web designer responsible creating top quality web sites flash presentations interactive movies flash enabled products worldwide customers least  years experience web designer developer great skill within leading applications design tools adobe photoshop adobe illustrator corel draw macromedia dreamweaver macromedia flash html xhtml css javascript additional knowledge programming asp jsp php perl would advantage impressive portfolio previous design work please include links relevant work online old andor recent well references assist us verifying information provide enthusiastic communicative team member positive attitude dedication willingness work hard often high production pressure art design qualifications would also advantage would computer hardware audio visual infrastructure networking fair knowledge english high standard mathematics ability learn new internet authoring technologies relevant web site development'"
      ]
     },
     "execution_count": 131,
     "metadata": {},
     "output_type": "execute_result"
    }
   ],
   "source": [
    "jobs['combined'][201]"
   ]
  },
  {
   "cell_type": "code",
   "execution_count": 130,
   "metadata": {},
   "outputs": [
    {
     "data": {
      "text/plain": [
       "'tour manager looking dedicated active enthusiastic communicable person work organization involved tourism manage tour related organizational logistics matters find ahead time interests schedules tourists organize tours take care tourists hotel reservations food arrangements minimum  years work experience preferably tourism related field higher education excellent knowledge english armenian russian languages knowledge foreign languages plus good computer skills good abilities work team experience working foreigners'"
      ]
     },
     "execution_count": 130,
     "metadata": {},
     "output_type": "execute_result"
    }
   ],
   "source": [
    "jobs['combined'][2003]"
   ]
  },
  {
   "cell_type": "code",
   "execution_count": 134,
   "metadata": {
    "scrolled": true
   },
   "outputs": [
    {
     "data": {
      "text/html": [
       "<div>\n",
       "<style scoped>\n",
       "    .dataframe tbody tr th:only-of-type {\n",
       "        vertical-align: middle;\n",
       "    }\n",
       "\n",
       "    .dataframe tbody tr th {\n",
       "        vertical-align: top;\n",
       "    }\n",
       "\n",
       "    .dataframe thead th {\n",
       "        text-align: right;\n",
       "    }\n",
       "</style>\n",
       "<table border=\"1\" class=\"dataframe\">\n",
       "  <thead>\n",
       "    <tr style=\"text-align: right;\">\n",
       "      <th></th>\n",
       "      <th>Title</th>\n",
       "      <th>Company</th>\n",
       "      <th>JobDescription</th>\n",
       "      <th>RequiredQual</th>\n",
       "      <th>JobRequirement</th>\n",
       "      <th>combined</th>\n",
       "    </tr>\n",
       "  </thead>\n",
       "  <tbody>\n",
       "    <tr>\n",
       "      <th>0</th>\n",
       "      <td>Chief Financial Officer</td>\n",
       "      <td>AMERIA Investment Consulting Company</td>\n",
       "      <td>AMERIA Investment Consulting Company is seekin...</td>\n",
       "      <td>To perform this job successfully, an\\r\\nindivi...</td>\n",
       "      <td>- Supervises financial management and administ...</td>\n",
       "      <td>chief financial officer ameria investment cons...</td>\n",
       "    </tr>\n",
       "    <tr>\n",
       "      <th>2</th>\n",
       "      <td>Country Coordinator</td>\n",
       "      <td>Caucasus Environmental NGO Network (CENN)</td>\n",
       "      <td>Public outreach and strengthening of a growing...</td>\n",
       "      <td>- Degree in environmentally related field, or ...</td>\n",
       "      <td>- Working with the Country Director to provide...</td>\n",
       "      <td>country coordinator public outreach strengthen...</td>\n",
       "    </tr>\n",
       "    <tr>\n",
       "      <th>3</th>\n",
       "      <td>BCC Specialist</td>\n",
       "      <td>Manoff Group</td>\n",
       "      <td>The LEAD (Local Enhancement and Development fo...</td>\n",
       "      <td>- Advanced degree in public health, social sci...</td>\n",
       "      <td>- Identify gaps in knowledge and overseeing in...</td>\n",
       "      <td>bcc specialist lead local enhancement developm...</td>\n",
       "    </tr>\n",
       "    <tr>\n",
       "      <th>13</th>\n",
       "      <td>Community Development, Capacity Building and C...</td>\n",
       "      <td>Food Security Regional Cooperation and Stabili...</td>\n",
       "      <td>Food Security Regional Cooperation and Stabili...</td>\n",
       "      <td>- Higher Education and/or professional experie...</td>\n",
       "      <td>- Assist the Tavush Marz communities and commu...</td>\n",
       "      <td>community development capacity building confli...</td>\n",
       "    </tr>\n",
       "    <tr>\n",
       "      <th>17</th>\n",
       "      <td>Country Economist (NOB)</td>\n",
       "      <td>United Nations Development Programme, Armenia</td>\n",
       "      <td>The United Nations Development Programme in Ar...</td>\n",
       "      <td>- Minimum Masters Degree in Economics;\\r\\n- Mi...</td>\n",
       "      <td>The incumbent under direct supervision of UNDP...</td>\n",
       "      <td>country economist nob united nations developme...</td>\n",
       "    </tr>\n",
       "    <tr>\n",
       "      <th>...</th>\n",
       "      <td>...</td>\n",
       "      <td>...</td>\n",
       "      <td>...</td>\n",
       "      <td>...</td>\n",
       "      <td>...</td>\n",
       "      <td>...</td>\n",
       "    </tr>\n",
       "    <tr>\n",
       "      <th>18992</th>\n",
       "      <td>.NET Developer</td>\n",
       "      <td>Macadamian AR CJSC</td>\n",
       "      <td>The incumbent will develop software applicatio...</td>\n",
       "      <td>- 2 - 5 years of experience in software develo...</td>\n",
       "      <td>- Participate in all the steps of the software...</td>\n",
       "      <td>net developer incumbent develop software appli...</td>\n",
       "    </tr>\n",
       "    <tr>\n",
       "      <th>18995</th>\n",
       "      <td>Deputy Director</td>\n",
       "      <td>\"Transport PIU\" State Institution of the RA Mi...</td>\n",
       "      <td>The incumbent will be responsible for supporti...</td>\n",
       "      <td>- University degree in Civil Engineering, Econ...</td>\n",
       "      <td>- Support the Director in organizing the activ...</td>\n",
       "      <td>deputy director incumbent responsible supporti...</td>\n",
       "    </tr>\n",
       "    <tr>\n",
       "      <th>18996</th>\n",
       "      <td>Senior Creative UX/ UI Designer</td>\n",
       "      <td>Technolinguistics NGO</td>\n",
       "      <td>A tech startup of Technolinguistics based in N...</td>\n",
       "      <td>- At least 5 years of experience in Interface/...</td>\n",
       "      <td>- Work closely with product and business teams...</td>\n",
       "      <td>senior creative ux ui designer tech startup te...</td>\n",
       "    </tr>\n",
       "    <tr>\n",
       "      <th>18999</th>\n",
       "      <td>Head of Online Sales Department</td>\n",
       "      <td>San Lazzaro   LLC</td>\n",
       "      <td>San Lazzaro LLC is looking for a well-experien...</td>\n",
       "      <td>- At least 1 year of experience in online sale...</td>\n",
       "      <td>- Handle the project activites of the online s...</td>\n",
       "      <td>head online sales department san lazzaro llc l...</td>\n",
       "    </tr>\n",
       "    <tr>\n",
       "      <th>19000</th>\n",
       "      <td>Lawyer in Legal Department</td>\n",
       "      <td>\"Kamurj\" UCO CJSC</td>\n",
       "      <td>\"Kamurj\" UCO CJSC is looking for a Lawyer in L...</td>\n",
       "      <td>- Higher legal education; Master's degree is a...</td>\n",
       "      <td>- Properly provide internal legal services of ...</td>\n",
       "      <td>lawyer legal department kamurj uco cjsc lookin...</td>\n",
       "    </tr>\n",
       "  </tbody>\n",
       "</table>\n",
       "<p>13124 rows × 6 columns</p>\n",
       "</div>"
      ],
      "text/plain": [
       "                                                   Title  \\\n",
       "0                                Chief Financial Officer   \n",
       "2                                    Country Coordinator   \n",
       "3                                         BCC Specialist   \n",
       "13     Community Development, Capacity Building and C...   \n",
       "17                               Country Economist (NOB)   \n",
       "...                                                  ...   \n",
       "18992                                     .NET Developer   \n",
       "18995                                    Deputy Director   \n",
       "18996                    Senior Creative UX/ UI Designer   \n",
       "18999                    Head of Online Sales Department   \n",
       "19000                         Lawyer in Legal Department   \n",
       "\n",
       "                                                 Company  \\\n",
       "0                   AMERIA Investment Consulting Company   \n",
       "2              Caucasus Environmental NGO Network (CENN)   \n",
       "3                                           Manoff Group   \n",
       "13     Food Security Regional Cooperation and Stabili...   \n",
       "17         United Nations Development Programme, Armenia   \n",
       "...                                                  ...   \n",
       "18992                                 Macadamian AR CJSC   \n",
       "18995  \"Transport PIU\" State Institution of the RA Mi...   \n",
       "18996                              Technolinguistics NGO   \n",
       "18999                                  San Lazzaro   LLC   \n",
       "19000                                  \"Kamurj\" UCO CJSC   \n",
       "\n",
       "                                          JobDescription  \\\n",
       "0      AMERIA Investment Consulting Company is seekin...   \n",
       "2      Public outreach and strengthening of a growing...   \n",
       "3      The LEAD (Local Enhancement and Development fo...   \n",
       "13     Food Security Regional Cooperation and Stabili...   \n",
       "17     The United Nations Development Programme in Ar...   \n",
       "...                                                  ...   \n",
       "18992  The incumbent will develop software applicatio...   \n",
       "18995  The incumbent will be responsible for supporti...   \n",
       "18996  A tech startup of Technolinguistics based in N...   \n",
       "18999  San Lazzaro LLC is looking for a well-experien...   \n",
       "19000  \"Kamurj\" UCO CJSC is looking for a Lawyer in L...   \n",
       "\n",
       "                                            RequiredQual  \\\n",
       "0      To perform this job successfully, an\\r\\nindivi...   \n",
       "2      - Degree in environmentally related field, or ...   \n",
       "3      - Advanced degree in public health, social sci...   \n",
       "13     - Higher Education and/or professional experie...   \n",
       "17     - Minimum Masters Degree in Economics;\\r\\n- Mi...   \n",
       "...                                                  ...   \n",
       "18992  - 2 - 5 years of experience in software develo...   \n",
       "18995  - University degree in Civil Engineering, Econ...   \n",
       "18996  - At least 5 years of experience in Interface/...   \n",
       "18999  - At least 1 year of experience in online sale...   \n",
       "19000  - Higher legal education; Master's degree is a...   \n",
       "\n",
       "                                          JobRequirement  \\\n",
       "0      - Supervises financial management and administ...   \n",
       "2      - Working with the Country Director to provide...   \n",
       "3      - Identify gaps in knowledge and overseeing in...   \n",
       "13     - Assist the Tavush Marz communities and commu...   \n",
       "17     The incumbent under direct supervision of UNDP...   \n",
       "...                                                  ...   \n",
       "18992  - Participate in all the steps of the software...   \n",
       "18995  - Support the Director in organizing the activ...   \n",
       "18996  - Work closely with product and business teams...   \n",
       "18999  - Handle the project activites of the online s...   \n",
       "19000  - Properly provide internal legal services of ...   \n",
       "\n",
       "                                                combined  \n",
       "0      chief financial officer ameria investment cons...  \n",
       "2      country coordinator public outreach strengthen...  \n",
       "3      bcc specialist lead local enhancement developm...  \n",
       "13     community development capacity building confli...  \n",
       "17     country economist nob united nations developme...  \n",
       "...                                                  ...  \n",
       "18992  net developer incumbent develop software appli...  \n",
       "18995  deputy director incumbent responsible supporti...  \n",
       "18996  senior creative ux ui designer tech startup te...  \n",
       "18999  head online sales department san lazzaro llc l...  \n",
       "19000  lawyer legal department kamurj uco cjsc lookin...  \n",
       "\n",
       "[13124 rows x 6 columns]"
      ]
     },
     "execution_count": 134,
     "metadata": {},
     "output_type": "execute_result"
    }
   ],
   "source": [
    "jobs"
   ]
  },
  {
   "cell_type": "markdown",
   "metadata": {},
   "source": []
  },
  {
   "cell_type": "markdown",
   "metadata": {},
   "source": [
    "## Train/Test Split"
   ]
  },
  {
   "cell_type": "code",
   "execution_count": 148,
   "metadata": {},
   "outputs": [
    {
     "data": {
      "text/plain": [
       "(array([1770., 2099., 2053., 2330., 2420., 2452.]),\n",
       " array([    0.        ,  3166.66666667,  6333.33333333,  9500.        ,\n",
       "        12666.66666667, 15833.33333333, 19000.        ]),\n",
       " <a list of 6 Patch objects>)"
      ]
     },
     "execution_count": 148,
     "metadata": {},
     "output_type": "execute_result"
    },
    {
     "data": {
      "image/png": "[encoded data removed]",
      "text/plain": [
       "<Figure size 432x288 with 1 Axes>"
      ]
     },
     "metadata": {
      "needs_background": "light"
     },
     "output_type": "display_data"
    }
   ],
   "source": [
    "indices = np.asarray(list(jobs.index.values))\n",
    "indices\n",
    "plt.hist(indices, bins=6)"
   ]
  },
  {
   "cell_type": "code",
   "execution_count": 169,
   "metadata": {},
   "outputs": [],
   "source": [
    "# reindex jobs 0-13123\n",
    "jobs.set_index(np.arange(13124), inplace=True)"
   ]
  },
  {
   "cell_type": "markdown",
   "metadata": {},
   "source": [
    "# RESTART USING THESE"
   ]
  },
  {
   "cell_type": "code",
   "execution_count": 266,
   "metadata": {},
   "outputs": [],
   "source": [
    "# test dataset is last 2000 entries of \n",
    "jobs_test = jobs['combined'].tail(2000).to_frame()"
   ]
  },
  {
   "cell_type": "code",
   "execution_count": 267,
   "metadata": {},
   "outputs": [],
   "source": [
    "# train dataset is first 11124 postings, change series to df\n",
    "jobs_train = jobs['combined'][:11124].to_frame()"
   ]
  },
  {
   "cell_type": "markdown",
   "metadata": {},
   "source": [
    "## gensim try\n",
    "\n"
   ]
  },
  {
   "cell_type": "code",
   "execution_count": 260,
   "metadata": {},
   "outputs": [],
   "source": [
    "from gensim.models import Doc2Vec\n",
    "from gensim.models.doc2vec import TaggedDocument\n",
    "from nltk import word_tokenize"
   ]
  },
  {
   "cell_type": "code",
   "execution_count": 280,
   "metadata": {},
   "outputs": [],
   "source": [
    "for i in jobs_test['combined']:\n",
    "    jobs_test['label'] = jobs_test['combined'].index\n",
    "for i in jobs_train['combined']:\n",
    "    jobs_train['label'] = jobs_train['combined'].index\n",
    "    "
   ]
  },
  {
   "cell_type": "code",
   "execution_count": null,
   "metadata": {},
   "outputs": [],
   "source": []
  },
  {
   "cell_type": "code",
   "execution_count": 282,
   "metadata": {},
   "outputs": [],
   "source": [
    "class TaggedDocumentIterator(object):\n",
    "    def __init__(self, doc_list, labels_list):\n",
    "        self.labels_list = labels_list\n",
    "        self.doc_list = doc_list\n",
    "    def __iter__(self):\n",
    "        for idx, doc in enumerate(self.doc_list):\n",
    "            yield TaggedDocument(words=doc.split(), tags=[self.labels_list[idx]])\n",
    " \n",
    "docLabels = list(jobs_train['label'])\n",
    "data = list(jobs_train['combined'])\n",
    "sentences = TaggedDocumentIterator(data, docLabels)"
   ]
  },
  {
   "cell_type": "code",
   "execution_count": null,
   "metadata": {},
   "outputs": [],
   "source": []
  },
  {
   "cell_type": "code",
   "execution_count": 283,
   "metadata": {},
   "outputs": [
    {
     "name": "stderr",
     "output_type": "stream",
     "text": [
      "/Users/richardkuzma/opt/anaconda3/lib/python3.7/site-packages/gensim/models/doc2vec.py:570: UserWarning: The parameter `iter` is deprecated, will be removed in 4.0.0, use `epochs` instead.\n",
      "  warnings.warn(\"The parameter `iter` is deprecated, will be removed in 4.0.0, use `epochs` instead.\")\n",
      "/Users/richardkuzma/opt/anaconda3/lib/python3.7/site-packages/gensim/models/doc2vec.py:574: UserWarning: The parameter `size` is deprecated, will be removed in 4.0.0, use `vector_size` instead.\n",
      "  warnings.warn(\"The parameter `size` is deprecated, will be removed in 4.0.0, use `vector_size` instead.\")\n",
      "/Users/richardkuzma/opt/anaconda3/lib/python3.7/site-packages/ipykernel_launcher.py:3: DeprecationWarning: Call to deprecated `iter` (Attribute will be removed in 4.0.0, use self.epochs instead).\n",
      "  This is separate from the ipykernel package so we can avoid doing imports until\n"
     ]
    }
   ],
   "source": [
    "model = Doc2Vec(size=100, window=10, min_count=5, workers=11,alpha=0.025, iter=20)\n",
    "model.build_vocab(sentences)\n",
    "model.train(sentences,total_examples=model.corpus_count, epochs=model.iter)"
   ]
  },
  {
   "cell_type": "code",
   "execution_count": 284,
   "metadata": {},
   "outputs": [],
   "source": [
    "# Store the model to mmap-able files\n",
    "model.save('/tmp/model_job_train_docsimilarity.doc2vec')\n",
    "# Load the model\n",
    "model = Doc2Vec.load('/tmp/model_job_train_docsimilarity.doc2vec')"
   ]
  },
  {
   "cell_type": "markdown",
   "metadata": {},
   "source": [
    "need to change this (below) to match my use case."
   ]
  },
  {
   "cell_type": "code",
   "execution_count": null,
   "metadata": {},
   "outputs": [],
   "source": [
    "def test_predict():\n",
    "    #Select a random document for the document dataset\n",
    "    rand_int = np.random.randint(0, jobs_train.shape[0])\n",
    "    print ('Random int {}'.format(rand_int))\n",
    "    test_jobs_train = jobs_train.iloc[rand_int]['info']\n",
    "    label = jobs_train.iloc[rand_int, jobs_train.columns.get_loc('problemReportId')]\n",
    " \n",
    "    #Clean the document using the utility functions used in train phase\n",
    "    test_sample = default_clean(test_sample)\n",
    "    test_sample = stop_and_stem(test_sample, stem=False)\n",
    " \n",
    "    #Convert the sample document into a list and use the infer_vector method to get a vector representation for it\n",
    "    new_doc_words = test_sample.split()\n",
    "    new_doc_vec = model.infer_vector(new_doc_words, steps=50, alpha=0.25)\n",
    " \n",
    "    #use the most_similar utility to find the most similar documents.\n",
    "    similars = model.docvecs.most_similar(positive=[new_doc_vec])\n",
    "test_predict()"
   ]
  },
  {
   "cell_type": "code",
   "execution_count": null,
   "metadata": {},
   "outputs": [],
   "source": []
  },
  {
   "cell_type": "code",
   "execution_count": null,
   "metadata": {},
   "outputs": [],
   "source": []
  },
  {
   "cell_type": "code",
   "execution_count": null,
   "metadata": {},
   "outputs": [],
   "source": []
  },
  {
   "cell_type": "code",
   "execution_count": null,
   "metadata": {},
   "outputs": [],
   "source": []
  },
  {
   "cell_type": "code",
   "execution_count": null,
   "metadata": {},
   "outputs": [],
   "source": []
  },
  {
   "cell_type": "code",
   "execution_count": 249,
   "metadata": {},
   "outputs": [],
   "source": [
    "from nltk.tokenize import word_tokenize \n",
    "jobs_train['tokenized'] = jobs_train['combined'].apply(word_tokenize) \n",
    "jobs_test['tokenized'] = jobs_test['combined'].apply(word_tokenize) \n"
   ]
  },
  {
   "cell_type": "code",
   "execution_count": 250,
   "metadata": {},
   "outputs": [
    {
     "data": {
      "text/html": [
       "<div>\n",
       "<style scoped>\n",
       "    .dataframe tbody tr th:only-of-type {\n",
       "        vertical-align: middle;\n",
       "    }\n",
       "\n",
       "    .dataframe tbody tr th {\n",
       "        vertical-align: top;\n",
       "    }\n",
       "\n",
       "    .dataframe thead th {\n",
       "        text-align: right;\n",
       "    }\n",
       "</style>\n",
       "<table border=\"1\" class=\"dataframe\">\n",
       "  <thead>\n",
       "    <tr style=\"text-align: right;\">\n",
       "      <th></th>\n",
       "      <th>combined</th>\n",
       "      <th>tokenized</th>\n",
       "    </tr>\n",
       "  </thead>\n",
       "  <tbody>\n",
       "    <tr>\n",
       "      <th>11124</th>\n",
       "      <td>import manager general distribution llc lookin...</td>\n",
       "      <td>[import, manager, general, distribution, llc, ...</td>\n",
       "    </tr>\n",
       "    <tr>\n",
       "      <th>11125</th>\n",
       "      <td>project engineer project engineer perform duti...</td>\n",
       "      <td>[project, engineer, project, engineer, perform...</td>\n",
       "    </tr>\n",
       "    <tr>\n",
       "      <th>11126</th>\n",
       "      <td>rural tourism development expert heifer projec...</td>\n",
       "      <td>[rural, tourism, development, expert, heifer, ...</td>\n",
       "    </tr>\n",
       "    <tr>\n",
       "      <th>11127</th>\n",
       "      <td>net developer volo llc looking experienced pro...</td>\n",
       "      <td>[net, developer, volo, llc, looking, experienc...</td>\n",
       "    </tr>\n",
       "    <tr>\n",
       "      <th>11128</th>\n",
       "      <td>qa testing engineer volo llc looking experienc...</td>\n",
       "      <td>[qa, testing, engineer, volo, llc, looking, ex...</td>\n",
       "    </tr>\n",
       "  </tbody>\n",
       "</table>\n",
       "</div>"
      ],
      "text/plain": [
       "                                                combined  \\\n",
       "11124  import manager general distribution llc lookin...   \n",
       "11125  project engineer project engineer perform duti...   \n",
       "11126  rural tourism development expert heifer projec...   \n",
       "11127  net developer volo llc looking experienced pro...   \n",
       "11128  qa testing engineer volo llc looking experienc...   \n",
       "\n",
       "                                               tokenized  \n",
       "11124  [import, manager, general, distribution, llc, ...  \n",
       "11125  [project, engineer, project, engineer, perform...  \n",
       "11126  [rural, tourism, development, expert, heifer, ...  \n",
       "11127  [net, developer, volo, llc, looking, experienc...  \n",
       "11128  [qa, testing, engineer, volo, llc, looking, ex...  "
      ]
     },
     "execution_count": 250,
     "metadata": {},
     "output_type": "execute_result"
    }
   ],
   "source": [
    "jobs_test.head()"
   ]
  },
  {
   "cell_type": "code",
   "execution_count": 251,
   "metadata": {},
   "outputs": [
    {
     "data": {
      "text/html": [
       "<div>\n",
       "<style scoped>\n",
       "    .dataframe tbody tr th:only-of-type {\n",
       "        vertical-align: middle;\n",
       "    }\n",
       "\n",
       "    .dataframe tbody tr th {\n",
       "        vertical-align: top;\n",
       "    }\n",
       "\n",
       "    .dataframe thead th {\n",
       "        text-align: right;\n",
       "    }\n",
       "</style>\n",
       "<table border=\"1\" class=\"dataframe\">\n",
       "  <thead>\n",
       "    <tr style=\"text-align: right;\">\n",
       "      <th></th>\n",
       "      <th>combined</th>\n",
       "      <th>tokenized</th>\n",
       "    </tr>\n",
       "  </thead>\n",
       "  <tbody>\n",
       "    <tr>\n",
       "      <th>0</th>\n",
       "      <td>chief financial officer ameria investment cons...</td>\n",
       "      <td>[chief, financial, officer, ameria, investment...</td>\n",
       "    </tr>\n",
       "    <tr>\n",
       "      <th>1</th>\n",
       "      <td>country coordinator public outreach strengthen...</td>\n",
       "      <td>[country, coordinator, public, outreach, stren...</td>\n",
       "    </tr>\n",
       "    <tr>\n",
       "      <th>2</th>\n",
       "      <td>bcc specialist lead local enhancement developm...</td>\n",
       "      <td>[bcc, specialist, lead, local, enhancement, de...</td>\n",
       "    </tr>\n",
       "    <tr>\n",
       "      <th>3</th>\n",
       "      <td>community development capacity building confli...</td>\n",
       "      <td>[community, development, capacity, building, c...</td>\n",
       "    </tr>\n",
       "    <tr>\n",
       "      <th>4</th>\n",
       "      <td>country economist nob united nations developme...</td>\n",
       "      <td>[country, economist, nob, united, nations, dev...</td>\n",
       "    </tr>\n",
       "  </tbody>\n",
       "</table>\n",
       "</div>"
      ],
      "text/plain": [
       "                                            combined  \\\n",
       "0  chief financial officer ameria investment cons...   \n",
       "1  country coordinator public outreach strengthen...   \n",
       "2  bcc specialist lead local enhancement developm...   \n",
       "3  community development capacity building confli...   \n",
       "4  country economist nob united nations developme...   \n",
       "\n",
       "                                           tokenized  \n",
       "0  [chief, financial, officer, ameria, investment...  \n",
       "1  [country, coordinator, public, outreach, stren...  \n",
       "2  [bcc, specialist, lead, local, enhancement, de...  \n",
       "3  [community, development, capacity, building, c...  \n",
       "4  [country, economist, nob, united, nations, dev...  "
      ]
     },
     "execution_count": 251,
     "metadata": {},
     "output_type": "execute_result"
    }
   ],
   "source": [
    "jobs_train.head()"
   ]
  },
  {
   "cell_type": "code",
   "execution_count": 252,
   "metadata": {},
   "outputs": [],
   "source": [
    "train_corpus = []\n",
    "for i in jobs_train['tokenized']:\n",
    "    train_corpus.extend(i)\n",
    "\n",
    "test_corpus = []\n",
    "for i in jobs_test['tokenized']:\n",
    "    test_corpus.extend(i)"
   ]
  },
  {
   "cell_type": "code",
   "execution_count": 254,
   "metadata": {},
   "outputs": [
    {
     "data": {
      "text/plain": [
       "1662199"
      ]
     },
     "execution_count": 254,
     "metadata": {},
     "output_type": "execute_result"
    }
   ],
   "source": [
    "len(train_corpus)"
   ]
  },
  {
   "cell_type": "code",
   "execution_count": 259,
   "metadata": {},
   "outputs": [
    {
     "data": {
      "text/plain": [
       "list"
      ]
     },
     "execution_count": 259,
     "metadata": {},
     "output_type": "execute_result"
    }
   ],
   "source": [
    "type(train_corpus)"
   ]
  },
  {
   "cell_type": "code",
   "execution_count": 255,
   "metadata": {},
   "outputs": [
    {
     "data": {
      "text/plain": [
       "327715"
      ]
     },
     "execution_count": 255,
     "metadata": {},
     "output_type": "execute_result"
    }
   ],
   "source": [
    "len(test_corpus)"
   ]
  },
  {
   "cell_type": "code",
   "execution_count": 256,
   "metadata": {},
   "outputs": [],
   "source": [
    "model = gensim.models.doc2vec.Doc2Vec(vector_size=50, min_count=2, epochs=40)"
   ]
  },
  {
   "cell_type": "code",
   "execution_count": null,
   "metadata": {},
   "outputs": [],
   "source": []
  },
  {
   "cell_type": "code",
   "execution_count": null,
   "metadata": {},
   "outputs": [],
   "source": []
  },
  {
   "cell_type": "code",
   "execution_count": null,
   "metadata": {},
   "outputs": [],
   "source": []
  },
  {
   "cell_type": "code",
   "execution_count": null,
   "metadata": {},
   "outputs": [],
   "source": [
    "pain = 'the things that hurt if you have | abdominal | pain'\n",
    "\n",
    "def abdominal_pain(string, dataframe, list_of_columns):\n",
    "    for col in list_of_columns: #for i = 1, i<5, i ++\n",
    "        variable = 1 if dataframe[col] == string\n",
    "        \n",
    "\n",
    "\n",
    "output_variable = abdominal_pain(pain, dataframe_name, 1-5)\n",
    "\n",
    "    \n",
    "        \n",
    "        "
   ]
  },
  {
   "cell_type": "code",
   "execution_count": null,
   "metadata": {},
   "outputs": [],
   "source": []
  },
  {
   "cell_type": "code",
   "execution_count": null,
   "metadata": {},
   "outputs": [],
   "source": []
  },
  {
   "cell_type": "code",
   "execution_count": null,
   "metadata": {},
   "outputs": [],
   "source": []
  },
  {
   "cell_type": "code",
   "execution_count": null,
   "metadata": {},
   "outputs": [],
   "source": []
  },
  {
   "cell_type": "code",
   "execution_count": null,
   "metadata": {},
   "outputs": [],
   "source": []
  },
  {
   "cell_type": "code",
   "execution_count": null,
   "metadata": {},
   "outputs": [],
   "source": []
  },
  {
   "cell_type": "code",
   "execution_count": null,
   "metadata": {},
   "outputs": [],
   "source": []
  },
  {
   "cell_type": "code",
   "execution_count": null,
   "metadata": {},
   "outputs": [],
   "source": []
  },
  {
   "cell_type": "code",
   "execution_count": null,
   "metadata": {},
   "outputs": [],
   "source": []
  },
  {
   "cell_type": "markdown",
   "metadata": {},
   "source": [
    "## next gensim tokenize"
   ]
  },
  {
   "cell_type": "markdown",
   "metadata": {},
   "source": [
    "all taken from run_doc2vec_imdb   from gensim page that's copied into this folder"
   ]
  },
  {
   "cell_type": "code",
   "execution_count": null,
   "metadata": {},
   "outputs": [],
   "source": []
  },
  {
   "cell_type": "code",
   "execution_count": null,
   "metadata": {},
   "outputs": [],
   "source": []
  },
  {
   "cell_type": "code",
   "execution_count": null,
   "metadata": {},
   "outputs": [],
   "source": []
  },
  {
   "cell_type": "code",
   "execution_count": null,
   "metadata": {},
   "outputs": [],
   "source": []
  },
  {
   "cell_type": "code",
   "execution_count": null,
   "metadata": {},
   "outputs": [],
   "source": []
  }
 ],
 "metadata": {
  "kernelspec": {
   "display_name": "Python 3",
   "language": "python",
   "name": "python3"
  },
  "language_info": {
   "codemirror_mode": {
    "name": "ipython",
    "version": 3
   },
   "file_extension": ".py",
   "mimetype": "text/x-python",
   "name": "python",
   "nbconvert_exporter": "python",
   "pygments_lexer": "ipython3",
   "version": "3.7.6"
  }
 },
 "nbformat": 4,
 "nbformat_minor": 4
}
